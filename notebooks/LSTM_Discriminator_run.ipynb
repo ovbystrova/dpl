{
  "nbformat": 4,
  "nbformat_minor": 0,
  "metadata": {
    "kernelspec": {
      "display_name": "Python 3",
      "language": "python",
      "name": "python3"
    },
    "language_info": {
      "codemirror_mode": {
        "name": "ipython",
        "version": 3
      },
      "file_extension": ".py",
      "mimetype": "text/x-python",
      "name": "python",
      "nbconvert_exporter": "python",
      "pygments_lexer": "ipython3",
      "version": "3.7.6"
    },
    "colab": {
      "name": "LSTM Discriminator_run.ipynb",
      "provenance": [],
      "machine_shape": "hm",
      "include_colab_link": true
    },
    "accelerator": "GPU",
    "widgets": {
      "application/vnd.jupyter.widget-state+json": {
        "cee7aa128d3344d1aedf2d7b63abf0d8": {
          "model_module": "@jupyter-widgets/controls",
          "model_name": "HBoxModel",
          "state": {
            "_view_name": "HBoxView",
            "_dom_classes": [],
            "_model_name": "HBoxModel",
            "_view_module": "@jupyter-widgets/controls",
            "_model_module_version": "1.5.0",
            "_view_count": null,
            "_view_module_version": "1.5.0",
            "box_style": "",
            "layout": "IPY_MODEL_39a46d3673b4470eb3fc6a4787ecba10",
            "_model_module": "@jupyter-widgets/controls",
            "children": [
              "IPY_MODEL_468a06f1761a4fe6a9756c64dcca072f",
              "IPY_MODEL_11aa564ae4b646b7b11fd6e6b2b1bcfe"
            ]
          }
        },
        "39a46d3673b4470eb3fc6a4787ecba10": {
          "model_module": "@jupyter-widgets/base",
          "model_name": "LayoutModel",
          "state": {
            "_view_name": "LayoutView",
            "grid_template_rows": null,
            "right": null,
            "justify_content": null,
            "_view_module": "@jupyter-widgets/base",
            "overflow": null,
            "_model_module_version": "1.2.0",
            "_view_count": null,
            "flex_flow": null,
            "width": null,
            "min_width": null,
            "border": null,
            "align_items": null,
            "bottom": null,
            "_model_module": "@jupyter-widgets/base",
            "top": null,
            "grid_column": null,
            "overflow_y": null,
            "overflow_x": null,
            "grid_auto_flow": null,
            "grid_area": null,
            "grid_template_columns": null,
            "flex": null,
            "_model_name": "LayoutModel",
            "justify_items": null,
            "grid_row": null,
            "max_height": null,
            "align_content": null,
            "visibility": null,
            "align_self": null,
            "height": null,
            "min_height": null,
            "padding": null,
            "grid_auto_rows": null,
            "grid_gap": null,
            "max_width": null,
            "order": null,
            "_view_module_version": "1.2.0",
            "grid_template_areas": null,
            "object_position": null,
            "object_fit": null,
            "grid_auto_columns": null,
            "margin": null,
            "display": null,
            "left": null
          }
        },
        "468a06f1761a4fe6a9756c64dcca072f": {
          "model_module": "@jupyter-widgets/controls",
          "model_name": "FloatProgressModel",
          "state": {
            "_view_name": "ProgressView",
            "style": "IPY_MODEL_4e3797eb036b440494438427a6ff48d8",
            "_dom_classes": [],
            "description": "Downloading: 100%",
            "_model_name": "FloatProgressModel",
            "bar_style": "success",
            "max": 1042301,
            "_view_module": "@jupyter-widgets/controls",
            "_model_module_version": "1.5.0",
            "value": 1042301,
            "_view_count": null,
            "_view_module_version": "1.5.0",
            "orientation": "horizontal",
            "min": 0,
            "description_tooltip": null,
            "_model_module": "@jupyter-widgets/controls",
            "layout": "IPY_MODEL_2f9bcb3f01dc4dafb90ad35f7605a902"
          }
        },
        "11aa564ae4b646b7b11fd6e6b2b1bcfe": {
          "model_module": "@jupyter-widgets/controls",
          "model_name": "HTMLModel",
          "state": {
            "_view_name": "HTMLView",
            "style": "IPY_MODEL_09ec12aeb5ce42d1a2b8223c621e7918",
            "_dom_classes": [],
            "description": "",
            "_model_name": "HTMLModel",
            "placeholder": "​",
            "_view_module": "@jupyter-widgets/controls",
            "_model_module_version": "1.5.0",
            "value": " 1.04M/1.04M [00:01&lt;00:00, 993kB/s]",
            "_view_count": null,
            "_view_module_version": "1.5.0",
            "description_tooltip": null,
            "_model_module": "@jupyter-widgets/controls",
            "layout": "IPY_MODEL_f74e7ce26c974981b6228d0a3d474617"
          }
        },
        "4e3797eb036b440494438427a6ff48d8": {
          "model_module": "@jupyter-widgets/controls",
          "model_name": "ProgressStyleModel",
          "state": {
            "_view_name": "StyleView",
            "_model_name": "ProgressStyleModel",
            "description_width": "initial",
            "_view_module": "@jupyter-widgets/base",
            "_model_module_version": "1.5.0",
            "_view_count": null,
            "_view_module_version": "1.2.0",
            "bar_color": null,
            "_model_module": "@jupyter-widgets/controls"
          }
        },
        "2f9bcb3f01dc4dafb90ad35f7605a902": {
          "model_module": "@jupyter-widgets/base",
          "model_name": "LayoutModel",
          "state": {
            "_view_name": "LayoutView",
            "grid_template_rows": null,
            "right": null,
            "justify_content": null,
            "_view_module": "@jupyter-widgets/base",
            "overflow": null,
            "_model_module_version": "1.2.0",
            "_view_count": null,
            "flex_flow": null,
            "width": null,
            "min_width": null,
            "border": null,
            "align_items": null,
            "bottom": null,
            "_model_module": "@jupyter-widgets/base",
            "top": null,
            "grid_column": null,
            "overflow_y": null,
            "overflow_x": null,
            "grid_auto_flow": null,
            "grid_area": null,
            "grid_template_columns": null,
            "flex": null,
            "_model_name": "LayoutModel",
            "justify_items": null,
            "grid_row": null,
            "max_height": null,
            "align_content": null,
            "visibility": null,
            "align_self": null,
            "height": null,
            "min_height": null,
            "padding": null,
            "grid_auto_rows": null,
            "grid_gap": null,
            "max_width": null,
            "order": null,
            "_view_module_version": "1.2.0",
            "grid_template_areas": null,
            "object_position": null,
            "object_fit": null,
            "grid_auto_columns": null,
            "margin": null,
            "display": null,
            "left": null
          }
        },
        "09ec12aeb5ce42d1a2b8223c621e7918": {
          "model_module": "@jupyter-widgets/controls",
          "model_name": "DescriptionStyleModel",
          "state": {
            "_view_name": "StyleView",
            "_model_name": "DescriptionStyleModel",
            "description_width": "",
            "_view_module": "@jupyter-widgets/base",
            "_model_module_version": "1.5.0",
            "_view_count": null,
            "_view_module_version": "1.2.0",
            "_model_module": "@jupyter-widgets/controls"
          }
        },
        "f74e7ce26c974981b6228d0a3d474617": {
          "model_module": "@jupyter-widgets/base",
          "model_name": "LayoutModel",
          "state": {
            "_view_name": "LayoutView",
            "grid_template_rows": null,
            "right": null,
            "justify_content": null,
            "_view_module": "@jupyter-widgets/base",
            "overflow": null,
            "_model_module_version": "1.2.0",
            "_view_count": null,
            "flex_flow": null,
            "width": null,
            "min_width": null,
            "border": null,
            "align_items": null,
            "bottom": null,
            "_model_module": "@jupyter-widgets/base",
            "top": null,
            "grid_column": null,
            "overflow_y": null,
            "overflow_x": null,
            "grid_auto_flow": null,
            "grid_area": null,
            "grid_template_columns": null,
            "flex": null,
            "_model_name": "LayoutModel",
            "justify_items": null,
            "grid_row": null,
            "max_height": null,
            "align_content": null,
            "visibility": null,
            "align_self": null,
            "height": null,
            "min_height": null,
            "padding": null,
            "grid_auto_rows": null,
            "grid_gap": null,
            "max_width": null,
            "order": null,
            "_view_module_version": "1.2.0",
            "grid_template_areas": null,
            "object_position": null,
            "object_fit": null,
            "grid_auto_columns": null,
            "margin": null,
            "display": null,
            "left": null
          }
        },
        "9e14693224254659887d9e843c1a2d1f": {
          "model_module": "@jupyter-widgets/controls",
          "model_name": "HBoxModel",
          "state": {
            "_view_name": "HBoxView",
            "_dom_classes": [],
            "_model_name": "HBoxModel",
            "_view_module": "@jupyter-widgets/controls",
            "_model_module_version": "1.5.0",
            "_view_count": null,
            "_view_module_version": "1.5.0",
            "box_style": "",
            "layout": "IPY_MODEL_ca7e2e9cba344c6e8aa5bfb56509dd19",
            "_model_module": "@jupyter-widgets/controls",
            "children": [
              "IPY_MODEL_e3498178c2144cacbbfeb49c40bb9094",
              "IPY_MODEL_a9e4b6d4b80c443db5c4539f7fae45b9"
            ]
          }
        },
        "ca7e2e9cba344c6e8aa5bfb56509dd19": {
          "model_module": "@jupyter-widgets/base",
          "model_name": "LayoutModel",
          "state": {
            "_view_name": "LayoutView",
            "grid_template_rows": null,
            "right": null,
            "justify_content": null,
            "_view_module": "@jupyter-widgets/base",
            "overflow": null,
            "_model_module_version": "1.2.0",
            "_view_count": null,
            "flex_flow": null,
            "width": null,
            "min_width": null,
            "border": null,
            "align_items": null,
            "bottom": null,
            "_model_module": "@jupyter-widgets/base",
            "top": null,
            "grid_column": null,
            "overflow_y": null,
            "overflow_x": null,
            "grid_auto_flow": null,
            "grid_area": null,
            "grid_template_columns": null,
            "flex": null,
            "_model_name": "LayoutModel",
            "justify_items": null,
            "grid_row": null,
            "max_height": null,
            "align_content": null,
            "visibility": null,
            "align_self": null,
            "height": null,
            "min_height": null,
            "padding": null,
            "grid_auto_rows": null,
            "grid_gap": null,
            "max_width": null,
            "order": null,
            "_view_module_version": "1.2.0",
            "grid_template_areas": null,
            "object_position": null,
            "object_fit": null,
            "grid_auto_columns": null,
            "margin": null,
            "display": null,
            "left": null
          }
        },
        "e3498178c2144cacbbfeb49c40bb9094": {
          "model_module": "@jupyter-widgets/controls",
          "model_name": "FloatProgressModel",
          "state": {
            "_view_name": "ProgressView",
            "style": "IPY_MODEL_19a5f5d4e50147c39cafcd05af49419f",
            "_dom_classes": [],
            "description": "Downloading: 100%",
            "_model_name": "FloatProgressModel",
            "bar_style": "success",
            "max": 456318,
            "_view_module": "@jupyter-widgets/controls",
            "_model_module_version": "1.5.0",
            "value": 456318,
            "_view_count": null,
            "_view_module_version": "1.5.0",
            "orientation": "horizontal",
            "min": 0,
            "description_tooltip": null,
            "_model_module": "@jupyter-widgets/controls",
            "layout": "IPY_MODEL_707b25ac3fae49e6b65302db9344f41d"
          }
        },
        "a9e4b6d4b80c443db5c4539f7fae45b9": {
          "model_module": "@jupyter-widgets/controls",
          "model_name": "HTMLModel",
          "state": {
            "_view_name": "HTMLView",
            "style": "IPY_MODEL_4bd9f454cf154074bc672fe805e83de6",
            "_dom_classes": [],
            "description": "",
            "_model_name": "HTMLModel",
            "placeholder": "​",
            "_view_module": "@jupyter-widgets/controls",
            "_model_module_version": "1.5.0",
            "value": " 456k/456k [00:00&lt;00:00, 1.31MB/s]",
            "_view_count": null,
            "_view_module_version": "1.5.0",
            "description_tooltip": null,
            "_model_module": "@jupyter-widgets/controls",
            "layout": "IPY_MODEL_0c1e4e8a90524af29720c593ed67ceab"
          }
        },
        "19a5f5d4e50147c39cafcd05af49419f": {
          "model_module": "@jupyter-widgets/controls",
          "model_name": "ProgressStyleModel",
          "state": {
            "_view_name": "StyleView",
            "_model_name": "ProgressStyleModel",
            "description_width": "initial",
            "_view_module": "@jupyter-widgets/base",
            "_model_module_version": "1.5.0",
            "_view_count": null,
            "_view_module_version": "1.2.0",
            "bar_color": null,
            "_model_module": "@jupyter-widgets/controls"
          }
        },
        "707b25ac3fae49e6b65302db9344f41d": {
          "model_module": "@jupyter-widgets/base",
          "model_name": "LayoutModel",
          "state": {
            "_view_name": "LayoutView",
            "grid_template_rows": null,
            "right": null,
            "justify_content": null,
            "_view_module": "@jupyter-widgets/base",
            "overflow": null,
            "_model_module_version": "1.2.0",
            "_view_count": null,
            "flex_flow": null,
            "width": null,
            "min_width": null,
            "border": null,
            "align_items": null,
            "bottom": null,
            "_model_module": "@jupyter-widgets/base",
            "top": null,
            "grid_column": null,
            "overflow_y": null,
            "overflow_x": null,
            "grid_auto_flow": null,
            "grid_area": null,
            "grid_template_columns": null,
            "flex": null,
            "_model_name": "LayoutModel",
            "justify_items": null,
            "grid_row": null,
            "max_height": null,
            "align_content": null,
            "visibility": null,
            "align_self": null,
            "height": null,
            "min_height": null,
            "padding": null,
            "grid_auto_rows": null,
            "grid_gap": null,
            "max_width": null,
            "order": null,
            "_view_module_version": "1.2.0",
            "grid_template_areas": null,
            "object_position": null,
            "object_fit": null,
            "grid_auto_columns": null,
            "margin": null,
            "display": null,
            "left": null
          }
        },
        "4bd9f454cf154074bc672fe805e83de6": {
          "model_module": "@jupyter-widgets/controls",
          "model_name": "DescriptionStyleModel",
          "state": {
            "_view_name": "StyleView",
            "_model_name": "DescriptionStyleModel",
            "description_width": "",
            "_view_module": "@jupyter-widgets/base",
            "_model_module_version": "1.5.0",
            "_view_count": null,
            "_view_module_version": "1.2.0",
            "_model_module": "@jupyter-widgets/controls"
          }
        },
        "0c1e4e8a90524af29720c593ed67ceab": {
          "model_module": "@jupyter-widgets/base",
          "model_name": "LayoutModel",
          "state": {
            "_view_name": "LayoutView",
            "grid_template_rows": null,
            "right": null,
            "justify_content": null,
            "_view_module": "@jupyter-widgets/base",
            "overflow": null,
            "_model_module_version": "1.2.0",
            "_view_count": null,
            "flex_flow": null,
            "width": null,
            "min_width": null,
            "border": null,
            "align_items": null,
            "bottom": null,
            "_model_module": "@jupyter-widgets/base",
            "top": null,
            "grid_column": null,
            "overflow_y": null,
            "overflow_x": null,
            "grid_auto_flow": null,
            "grid_area": null,
            "grid_template_columns": null,
            "flex": null,
            "_model_name": "LayoutModel",
            "justify_items": null,
            "grid_row": null,
            "max_height": null,
            "align_content": null,
            "visibility": null,
            "align_self": null,
            "height": null,
            "min_height": null,
            "padding": null,
            "grid_auto_rows": null,
            "grid_gap": null,
            "max_width": null,
            "order": null,
            "_view_module_version": "1.2.0",
            "grid_template_areas": null,
            "object_position": null,
            "object_fit": null,
            "grid_auto_columns": null,
            "margin": null,
            "display": null,
            "left": null
          }
        }
      }
    }
  },
  "cells": [
    {
      "cell_type": "markdown",
      "metadata": {
        "id": "view-in-github",
        "colab_type": "text"
      },
      "source": [
        "<a href=\"https://colab.research.google.com/github/ovbystrova/dpl/blob/master/notebooks/LSTM_Discriminator_run.ipynb\" target=\"_parent\"><img src=\"https://colab.research.google.com/assets/colab-badge.svg\" alt=\"Open In Colab\"/></a>"
      ]
    },
    {
      "cell_type": "code",
      "metadata": {
        "id": "H9broKOFAd-Z",
        "colab_type": "code",
        "colab": {}
      },
      "source": [
        "%%capture\n",
        "!git clone https://github.com/ovbystrova/dpl.git\n",
        "import os\n",
        "os.chdir('/content/dpl')"
      ],
      "execution_count": 0,
      "outputs": []
    },
    {
      "cell_type": "code",
      "metadata": {
        "id": "R25deCi5Ad-o",
        "colab_type": "code",
        "colab": {}
      },
      "source": [
        "%%capture\n",
        "!pip install wandb\n",
        "!pip install transformers\n",
        "!wandb login"
      ],
      "execution_count": 0,
      "outputs": []
    },
    {
      "cell_type": "code",
      "metadata": {
        "id": "RTUtJbEFBJLW",
        "colab_type": "code",
        "colab": {}
      },
      "source": [
        "import configuration as cfg\n",
        "DATA_PATH = r\"data\"\n",
        "wandb_config = {\n",
        "    'gan' : 'relgan',\n",
        "    'batch_size' : cfg.BATCH_SIZE,\n",
        "    'test_samples' : 2000,\n",
        "    'temperatur_update' : cfg.TEMP_ADPT,\n",
        "    'texts_size' : '20k',\n",
        "    'max_temperature' : cfg.TEMPERATURE,\n",
        "    'mle_train_epochs' : cfg.MLE_train_epoch,\n",
        "    'adversarial_epochs' : cfg.ADV_train_epoch,\n",
        "    'clip_norm' : cfg.CLIP_NORM,\n",
        "    'discriminator' : 'lstm'\n",
        "}\n",
        "\n",
        "RUN_ID = 'gan_008'"
      ],
      "execution_count": 0,
      "outputs": []
    },
    {
      "cell_type": "code",
      "metadata": {
        "id": "iTtViTHLDplm",
        "colab_type": "code",
        "outputId": "efa71066-7032-4b74-92ff-0f72d1a813e5",
        "colab": {
          "base_uri": "https://localhost:8080/",
          "height": 34
        }
      },
      "source": [
        "cfg.device, cfg.if_cuda"
      ],
      "execution_count": 4,
      "outputs": [
        {
          "output_type": "execute_result",
          "data": {
            "text/plain": [
              "(device(type='cuda'), True)"
            ]
          },
          "metadata": {
            "tags": []
          },
          "execution_count": 4
        }
      ]
    },
    {
      "cell_type": "code",
      "metadata": {
        "id": "qKVuIUfKBI7D",
        "colab_type": "code",
        "outputId": "865dfe69-d7b7-4414-cd5c-3a6bc585573c",
        "colab": {
          "base_uri": "https://localhost:8080/",
          "height": 84
        }
      },
      "source": [
        "import wandb\n",
        "wandb.init(id=RUN_ID, config=wandb_config, project='dpl')"
      ],
      "execution_count": 5,
      "outputs": [
        {
          "output_type": "display_data",
          "data": {
            "text/html": [
              "\n",
              "                Logging results to <a href=\"https://wandb.com\" target=\"_blank\">Weights & Biases</a> <a href=\"https://docs.wandb.com/integrations/jupyter.html\" target=\"_blank\">(Documentation)</a>.<br/>\n",
              "                Project page: <a href=\"https://app.wandb.ai/2ispany3/dpl\" target=\"_blank\">https://app.wandb.ai/2ispany3/dpl</a><br/>\n",
              "                Run page: <a href=\"https://app.wandb.ai/2ispany3/dpl/runs/gan_008\" target=\"_blank\">https://app.wandb.ai/2ispany3/dpl/runs/gan_008</a><br/>\n",
              "            "
            ],
            "text/plain": [
              "<IPython.core.display.HTML object>"
            ]
          },
          "metadata": {
            "tags": []
          }
        },
        {
          "output_type": "execute_result",
          "data": {
            "text/plain": [
              "W&B Run: https://app.wandb.ai/2ispany3/dpl/runs/gan_008"
            ]
          },
          "metadata": {
            "tags": []
          },
          "execution_count": 5
        }
      ]
    },
    {
      "cell_type": "code",
      "metadata": {
        "id": "9jFJDiaVBI3P",
        "colab_type": "code",
        "colab": {}
      },
      "source": [
        "# import os\n",
        "# os.chdir('..')\n",
        "from models.instructor_LSTM import LSTMInstructor"
      ],
      "execution_count": 0,
      "outputs": []
    },
    {
      "cell_type": "code",
      "metadata": {
        "id": "6ZQPGjHyBIzi",
        "colab_type": "code",
        "outputId": "ed6495a5-0af0-4ebd-9467-daff37527471",
        "colab": {
          "base_uri": "https://localhost:8080/",
          "height": 114,
          "referenced_widgets": [
            "cee7aa128d3344d1aedf2d7b63abf0d8",
            "39a46d3673b4470eb3fc6a4787ecba10",
            "468a06f1761a4fe6a9756c64dcca072f",
            "11aa564ae4b646b7b11fd6e6b2b1bcfe",
            "4e3797eb036b440494438427a6ff48d8",
            "2f9bcb3f01dc4dafb90ad35f7605a902",
            "09ec12aeb5ce42d1a2b8223c621e7918",
            "f74e7ce26c974981b6228d0a3d474617",
            "9e14693224254659887d9e843c1a2d1f",
            "ca7e2e9cba344c6e8aa5bfb56509dd19",
            "e3498178c2144cacbbfeb49c40bb9094",
            "a9e4b6d4b80c443db5c4539f7fae45b9",
            "19a5f5d4e50147c39cafcd05af49419f",
            "707b25ac3fae49e6b65302db9344f41d",
            "4bd9f454cf154074bc672fe805e83de6",
            "0c1e4e8a90524af29720c593ed67ceab"
          ]
        }
      },
      "source": [
        "instructor = LSTMInstructor()"
      ],
      "execution_count": 7,
      "outputs": [
        {
          "output_type": "display_data",
          "data": {
            "application/vnd.jupyter.widget-view+json": {
              "model_id": "cee7aa128d3344d1aedf2d7b63abf0d8",
              "version_minor": 0,
              "version_major": 2
            },
            "text/plain": [
              "HBox(children=(FloatProgress(value=0.0, description='Downloading', max=1042301.0, style=ProgressStyle(descript…"
            ]
          },
          "metadata": {
            "tags": []
          }
        },
        {
          "output_type": "stream",
          "text": [
            "\n"
          ],
          "name": "stdout"
        },
        {
          "output_type": "display_data",
          "data": {
            "application/vnd.jupyter.widget-view+json": {
              "model_id": "9e14693224254659887d9e843c1a2d1f",
              "version_minor": 0,
              "version_major": 2
            },
            "text/plain": [
              "HBox(children=(FloatProgress(value=0.0, description='Downloading', max=456318.0, style=ProgressStyle(descripti…"
            ]
          },
          "metadata": {
            "tags": []
          }
        },
        {
          "output_type": "stream",
          "text": [
            "\n"
          ],
          "name": "stdout"
        }
      ]
    },
    {
      "cell_type": "code",
      "metadata": {
        "id": "1HxUotR_BIvb",
        "colab_type": "code",
        "outputId": "f65f7715-b1fb-4e31-ffd7-0b2011a90c2b",
        "colab": {
          "base_uri": "https://localhost:8080/",
          "height": 1000
        }
      },
      "source": [
        "instructor._run()"
      ],
      "execution_count": 8,
      "outputs": [
        {
          "output_type": "stream",
          "text": [
            "Starting GENERATOR MLE TRAINING\n",
            "[MLE-GEN] epoch 0 : pre_loss = 4.4377, BLEU-[2, 3, 4, 5] = [0.442, 0.176, 0.09, 0.056], NLL_gen = 3.7811, NLL_div = 3.6097, Self-BLEU-[2, 3, 4] = [0.466, 0.189, 0.092]\n",
            "[MLE-GEN] epoch 1 : pre_loss = 3.7294, BLEU-[2, 3, 4, 5] = [0.48, 0.192, 0.092, 0.057], NLL_gen = 3.5341, NLL_div = 3.349, Self-BLEU-[2, 3, 4] = [0.507, 0.208, 0.098]\n",
            "[MLE-GEN] epoch 2 : pre_loss = 3.4853, BLEU-[2, 3, 4, 5] = [0.478, 0.195, 0.088, 0.052], NLL_gen = 3.415, NLL_div = 3.7098, Self-BLEU-[2, 3, 4] = [0.513, 0.228, 0.11]\n",
            "[MLE-GEN] epoch 3 : pre_loss = 3.3413, BLEU-[2, 3, 4, 5] = [0.487, 0.208, 0.097, 0.057], NLL_gen = 3.3448, NLL_div = 3.508, Self-BLEU-[2, 3, 4] = [0.522, 0.228, 0.106]\n",
            "[MLE-GEN] epoch 4 : pre_loss = 3.2278, BLEU-[2, 3, 4, 5] = [0.491, 0.221, 0.111, 0.067], NLL_gen = 3.2706, NLL_div = 3.4493, Self-BLEU-[2, 3, 4] = [0.524, 0.229, 0.115]\n",
            "[MLE-GEN] epoch 5 : pre_loss = 3.1398, BLEU-[2, 3, 4, 5] = [0.465, 0.2, 0.1, 0.059], NLL_gen = 3.2082, NLL_div = 3.5954, Self-BLEU-[2, 3, 4] = [0.544, 0.249, 0.113]\n",
            "[MLE-GEN] epoch 6 : pre_loss = 3.0737, BLEU-[2, 3, 4, 5] = [0.502, 0.223, 0.101, 0.059], NLL_gen = 3.1645, NLL_div = 3.4502, Self-BLEU-[2, 3, 4] = [0.555, 0.268, 0.133]\n",
            "[MLE-GEN] epoch 7 : pre_loss = 2.9863, BLEU-[2, 3, 4, 5] = [0.495, 0.227, 0.108, 0.063], NLL_gen = 3.1083, NLL_div = 3.3757, Self-BLEU-[2, 3, 4] = [0.567, 0.272, 0.13]\n",
            "[MLE-GEN] epoch 8 : pre_loss = 2.9107, BLEU-[2, 3, 4, 5] = [0.492, 0.221, 0.106, 0.062], NLL_gen = 3.0632, NLL_div = 3.4277, Self-BLEU-[2, 3, 4] = [0.571, 0.278, 0.13]\n",
            "[MLE-GEN] epoch 9 : pre_loss = 2.8313, BLEU-[2, 3, 4, 5] = [0.487, 0.209, 0.096, 0.055], NLL_gen = 3.0384, NLL_div = 3.2934, Self-BLEU-[2, 3, 4] = [0.58, 0.294, 0.139]\n",
            "[MLE-GEN] epoch 10 : pre_loss = 2.7613, BLEU-[2, 3, 4, 5] = [0.475, 0.214, 0.105, 0.063], NLL_gen = 3.0167, NLL_div = 3.2894, Self-BLEU-[2, 3, 4] = [0.579, 0.281, 0.133]\n",
            "[MLE-GEN] epoch 11 : pre_loss = 2.6952, BLEU-[2, 3, 4, 5] = [0.467, 0.193, 0.092, 0.055], NLL_gen = 2.9893, NLL_div = 3.1797, Self-BLEU-[2, 3, 4] = [0.59, 0.292, 0.14]\n",
            "[MLE-GEN] epoch 12 : pre_loss = 2.6348, BLEU-[2, 3, 4, 5] = [0.488, 0.22, 0.101, 0.06], NLL_gen = 2.9678, NLL_div = 3.018, Self-BLEU-[2, 3, 4] = [0.586, 0.292, 0.145]\n",
            "[MLE-GEN] epoch 13 : pre_loss = 2.5881, BLEU-[2, 3, 4, 5] = [0.48, 0.213, 0.102, 0.059], NLL_gen = 2.9278, NLL_div = 3.0705, Self-BLEU-[2, 3, 4] = [0.592, 0.294, 0.14]\n",
            "[MLE-GEN] epoch 14 : pre_loss = 2.5343, BLEU-[2, 3, 4, 5] = [0.474, 0.212, 0.096, 0.056], NLL_gen = 2.9069, NLL_div = 2.9542, Self-BLEU-[2, 3, 4] = [0.582, 0.282, 0.135]\n",
            "[MLE-GEN] epoch 15 : pre_loss = 2.4808, BLEU-[2, 3, 4, 5] = [0.488, 0.225, 0.112, 0.067], NLL_gen = 2.9101, NLL_div = 2.9459, Self-BLEU-[2, 3, 4] = [0.611, 0.316, 0.16]\n",
            "[MLE-GEN] epoch 16 : pre_loss = 2.4326, BLEU-[2, 3, 4, 5] = [0.49, 0.22, 0.108, 0.064], NLL_gen = 2.8919, NLL_div = 2.8365, Self-BLEU-[2, 3, 4] = [0.63, 0.324, 0.159]\n",
            "[MLE-GEN] epoch 17 : pre_loss = 2.3942, BLEU-[2, 3, 4, 5] = [0.508, 0.228, 0.107, 0.063], NLL_gen = 2.8791, NLL_div = 2.8358, Self-BLEU-[2, 3, 4] = [0.615, 0.317, 0.153]\n",
            "[MLE-GEN] epoch 18 : pre_loss = 2.3673, BLEU-[2, 3, 4, 5] = [0.501, 0.218, 0.103, 0.06], NLL_gen = 2.8577, NLL_div = 2.8553, Self-BLEU-[2, 3, 4] = [0.632, 0.329, 0.162]\n",
            "[MLE-GEN] epoch 19 : pre_loss = 2.3305, BLEU-[2, 3, 4, 5] = [0.485, 0.209, 0.104, 0.065], NLL_gen = 2.8246, NLL_div = 2.6785, Self-BLEU-[2, 3, 4] = [0.635, 0.33, 0.166]\n",
            "[MLE-GEN] epoch 20 : pre_loss = 2.2933, BLEU-[2, 3, 4, 5] = [0.497, 0.228, 0.115, 0.068], NLL_gen = 2.8277, NLL_div = 2.7887, Self-BLEU-[2, 3, 4] = [0.623, 0.331, 0.163]\n",
            "[MLE-GEN] epoch 21 : pre_loss = 2.2712, BLEU-[2, 3, 4, 5] = [0.502, 0.235, 0.121, 0.073], NLL_gen = 2.8133, NLL_div = 2.7096, Self-BLEU-[2, 3, 4] = [0.643, 0.358, 0.185]\n",
            "[MLE-GEN] epoch 22 : pre_loss = 2.2497, BLEU-[2, 3, 4, 5] = [0.514, 0.242, 0.116, 0.066], NLL_gen = 2.7376, NLL_div = 2.7396, Self-BLEU-[2, 3, 4] = [0.644, 0.349, 0.177]\n",
            "[MLE-GEN] epoch 23 : pre_loss = 2.2235, BLEU-[2, 3, 4, 5] = [0.503, 0.233, 0.111, 0.063], NLL_gen = 2.7546, NLL_div = 2.777, Self-BLEU-[2, 3, 4] = [0.646, 0.352, 0.179]\n",
            "[MLE-GEN] epoch 24 : pre_loss = 2.2104, BLEU-[2, 3, 4, 5] = [0.494, 0.221, 0.106, 0.062], NLL_gen = 2.7275, NLL_div = 2.6634, Self-BLEU-[2, 3, 4] = [0.648, 0.363, 0.188]\n"
          ],
          "name": "stdout"
        },
        {
          "output_type": "stream",
          "text": [
            "requests_with_retry encountered retryable exception: 500 Server Error: Internal Server Error for url: https://api.wandb.ai/files/2ispany3/dpl/gan_008/file_stream. args: ('https://api.wandb.ai/files/2ispany3/dpl/gan_008/file_stream',), kwargs: {'json': {'files': {'wandb-events.jsonl': {'offset': 310, 'content': ['{\"system.gpu.0.gpu\": 61.87, \"system.gpu.0.memory\": 18.47, \"system.gpu.0.memoryAllocated\": 29.76, \"system.gpu.0.temp\": 54.67, \"system.gpu.0.powerWatts\": 106.31, \"system.gpu.0.powerPercent\": 42.52, \"system.cpu\": 28.23, \"system.memory\": 11.8, \"system.disk\": 51.1, \"system.proc.memory.availableMB\": 23032.09, \"system.proc.memory.rssMB\": 4204.07, \"system.proc.memory.percent\": 16.09, \"system.proc.cpu.threads\": 23.0, \"system.network.sent\": 2390407, \"system.network.recv\": 2518846, \"_wandb\": true, \"_timestamp\": 1590140141, \"_runtime\": 9634}\\n']}}}}\n",
            "requests_with_retry encountered retryable exception: 500 Server Error: Internal Server Error for url: https://api.wandb.ai/files/2ispany3/dpl/gan_008/file_stream. args: ('https://api.wandb.ai/files/2ispany3/dpl/gan_008/file_stream',), kwargs: {'json': {'files': {'wandb-events.jsonl': {'offset': 310, 'content': ['{\"system.gpu.0.gpu\": 61.87, \"system.gpu.0.memory\": 18.47, \"system.gpu.0.memoryAllocated\": 29.76, \"system.gpu.0.temp\": 54.67, \"system.gpu.0.powerWatts\": 106.31, \"system.gpu.0.powerPercent\": 42.52, \"system.cpu\": 28.23, \"system.memory\": 11.8, \"system.disk\": 51.1, \"system.proc.memory.availableMB\": 23032.09, \"system.proc.memory.rssMB\": 4204.07, \"system.proc.memory.percent\": 16.09, \"system.proc.cpu.threads\": 23.0, \"system.network.sent\": 2390407, \"system.network.recv\": 2518846, \"_wandb\": true, \"_timestamp\": 1590140141, \"_runtime\": 9634}\\n']}}}}\n",
            "requests_with_retry encountered retryable exception: 500 Server Error: Internal Server Error for url: https://api.wandb.ai/files/2ispany3/dpl/gan_008/file_stream. args: ('https://api.wandb.ai/files/2ispany3/dpl/gan_008/file_stream',), kwargs: {'json': {'files': {'wandb-events.jsonl': {'offset': 310, 'content': ['{\"system.gpu.0.gpu\": 61.87, \"system.gpu.0.memory\": 18.47, \"system.gpu.0.memoryAllocated\": 29.76, \"system.gpu.0.temp\": 54.67, \"system.gpu.0.powerWatts\": 106.31, \"system.gpu.0.powerPercent\": 42.52, \"system.cpu\": 28.23, \"system.memory\": 11.8, \"system.disk\": 51.1, \"system.proc.memory.availableMB\": 23032.09, \"system.proc.memory.rssMB\": 4204.07, \"system.proc.memory.percent\": 16.09, \"system.proc.cpu.threads\": 23.0, \"system.network.sent\": 2390407, \"system.network.recv\": 2518846, \"_wandb\": true, \"_timestamp\": 1590140141, \"_runtime\": 9634}\\n']}}}}\n",
            "requests_with_retry encountered retryable exception: 500 Server Error: Internal Server Error for url: https://api.wandb.ai/files/2ispany3/dpl/gan_008/file_stream. args: ('https://api.wandb.ai/files/2ispany3/dpl/gan_008/file_stream',), kwargs: {'json': {'files': {'wandb-events.jsonl': {'offset': 310, 'content': ['{\"system.gpu.0.gpu\": 61.87, \"system.gpu.0.memory\": 18.47, \"system.gpu.0.memoryAllocated\": 29.76, \"system.gpu.0.temp\": 54.67, \"system.gpu.0.powerWatts\": 106.31, \"system.gpu.0.powerPercent\": 42.52, \"system.cpu\": 28.23, \"system.memory\": 11.8, \"system.disk\": 51.1, \"system.proc.memory.availableMB\": 23032.09, \"system.proc.memory.rssMB\": 4204.07, \"system.proc.memory.percent\": 16.09, \"system.proc.cpu.threads\": 23.0, \"system.network.sent\": 2390407, \"system.network.recv\": 2518846, \"_wandb\": true, \"_timestamp\": 1590140141, \"_runtime\": 9634}\\n']}}}}\n",
            "requests_with_retry encountered retryable exception: 500 Server Error: Internal Server Error for url: https://api.wandb.ai/files/2ispany3/dpl/gan_008/file_stream. args: ('https://api.wandb.ai/files/2ispany3/dpl/gan_008/file_stream',), kwargs: {'json': {'files': {'wandb-events.jsonl': {'offset': 310, 'content': ['{\"system.gpu.0.gpu\": 61.87, \"system.gpu.0.memory\": 18.47, \"system.gpu.0.memoryAllocated\": 29.76, \"system.gpu.0.temp\": 54.67, \"system.gpu.0.powerWatts\": 106.31, \"system.gpu.0.powerPercent\": 42.52, \"system.cpu\": 28.23, \"system.memory\": 11.8, \"system.disk\": 51.1, \"system.proc.memory.availableMB\": 23032.09, \"system.proc.memory.rssMB\": 4204.07, \"system.proc.memory.percent\": 16.09, \"system.proc.cpu.threads\": 23.0, \"system.network.sent\": 2390407, \"system.network.recv\": 2518846, \"_wandb\": true, \"_timestamp\": 1590140141, \"_runtime\": 9634}\\n']}}}}\n"
          ],
          "name": "stderr"
        },
        {
          "output_type": "stream",
          "text": [
            "[MLE-GEN] epoch 25 : pre_loss = 2.1911, BLEU-[2, 3, 4, 5] = [0.518, 0.239, 0.114, 0.067], NLL_gen = 2.7273, NLL_div = 2.6414, Self-BLEU-[2, 3, 4] = [0.655, 0.363, 0.194]\n",
            "[MLE-GEN] epoch 26 : pre_loss = 2.1681, BLEU-[2, 3, 4, 5] = [0.496, 0.224, 0.101, 0.057], NLL_gen = 2.7557, NLL_div = 2.5908, Self-BLEU-[2, 3, 4] = [0.645, 0.359, 0.181]\n",
            "[MLE-GEN] epoch 27 : pre_loss = 2.1377, BLEU-[2, 3, 4, 5] = [0.483, 0.218, 0.105, 0.064], NLL_gen = 2.7264, NLL_div = 2.5542, Self-BLEU-[2, 3, 4] = [0.651, 0.351, 0.186]\n",
            "[MLE-GEN] epoch 28 : pre_loss = 2.1192, BLEU-[2, 3, 4, 5] = [0.503, 0.23, 0.114, 0.068], NLL_gen = 2.6832, NLL_div = 2.4326, Self-BLEU-[2, 3, 4] = [0.656, 0.372, 0.205]\n",
            "[MLE-GEN] epoch 29 : pre_loss = 2.0960, BLEU-[2, 3, 4, 5] = [0.514, 0.241, 0.119, 0.07], NLL_gen = 2.7252, NLL_div = 2.4622, Self-BLEU-[2, 3, 4] = [0.674, 0.393, 0.214]\n",
            "[MLE-GEN] epoch 30 : pre_loss = 2.0752, BLEU-[2, 3, 4, 5] = [0.502, 0.241, 0.121, 0.073], NLL_gen = 2.6619, NLL_div = 2.5334, Self-BLEU-[2, 3, 4] = [0.671, 0.385, 0.215]\n",
            "[MLE-GEN] epoch 31 : pre_loss = 2.0748, BLEU-[2, 3, 4, 5] = [0.506, 0.235, 0.116, 0.07], NLL_gen = 2.7056, NLL_div = 2.6264, Self-BLEU-[2, 3, 4] = [0.676, 0.397, 0.215]\n",
            "[MLE-GEN] epoch 32 : pre_loss = 2.0519, BLEU-[2, 3, 4, 5] = [0.503, 0.23, 0.11, 0.064], NLL_gen = 2.6692, NLL_div = 2.4982, Self-BLEU-[2, 3, 4] = [0.672, 0.37, 0.195]\n",
            "[MLE-GEN] epoch 33 : pre_loss = 2.0280, BLEU-[2, 3, 4, 5] = [0.509, 0.242, 0.121, 0.072], NLL_gen = 2.6397, NLL_div = 2.5319, Self-BLEU-[2, 3, 4] = [0.681, 0.396, 0.214]\n",
            "[MLE-GEN] epoch 34 : pre_loss = 2.0172, BLEU-[2, 3, 4, 5] = [0.513, 0.237, 0.112, 0.065], NLL_gen = 2.7204, NLL_div = 2.5255, Self-BLEU-[2, 3, 4] = [0.671, 0.398, 0.219]\n",
            "[MLE-GEN] epoch 35 : pre_loss = 2.0017, BLEU-[2, 3, 4, 5] = [0.529, 0.256, 0.12, 0.067], NLL_gen = 2.6508, NLL_div = 2.5789, Self-BLEU-[2, 3, 4] = [0.694, 0.421, 0.229]\n",
            "[MLE-GEN] epoch 36 : pre_loss = 1.9850, BLEU-[2, 3, 4, 5] = [0.52, 0.244, 0.119, 0.067], NLL_gen = 2.6913, NLL_div = 2.5576, Self-BLEU-[2, 3, 4] = [0.693, 0.395, 0.206]\n",
            "[MLE-GEN] epoch 37 : pre_loss = 1.9850, BLEU-[2, 3, 4, 5] = [0.51, 0.244, 0.123, 0.072], NLL_gen = 2.6763, NLL_div = 2.4784, Self-BLEU-[2, 3, 4] = [0.712, 0.443, 0.249]\n",
            "[MLE-GEN] epoch 38 : pre_loss = 1.9739, BLEU-[2, 3, 4, 5] = [0.514, 0.241, 0.118, 0.07], NLL_gen = 2.699, NLL_div = 2.503, Self-BLEU-[2, 3, 4] = [0.689, 0.405, 0.219]\n",
            "[MLE-GEN] epoch 39 : pre_loss = 1.9685, BLEU-[2, 3, 4, 5] = [0.488, 0.227, 0.108, 0.061], NLL_gen = 2.6949, NLL_div = 2.5739, Self-BLEU-[2, 3, 4] = [0.718, 0.454, 0.274]\n",
            "[MLE-GEN] epoch 40 : pre_loss = 1.9479, BLEU-[2, 3, 4, 5] = [0.516, 0.244, 0.121, 0.071], NLL_gen = 2.6519, NLL_div = 2.6286, Self-BLEU-[2, 3, 4] = [0.707, 0.429, 0.246]\n",
            "[MLE-GEN] epoch 41 : pre_loss = 1.9308, BLEU-[2, 3, 4, 5] = [0.516, 0.241, 0.114, 0.064], NLL_gen = 2.6381, NLL_div = 2.5455, Self-BLEU-[2, 3, 4] = [0.695, 0.414, 0.222]\n",
            "[MLE-GEN] epoch 42 : pre_loss = 1.9213, BLEU-[2, 3, 4, 5] = [0.531, 0.249, 0.121, 0.07], NLL_gen = 2.6739, NLL_div = 2.4831, Self-BLEU-[2, 3, 4] = [0.706, 0.427, 0.238]\n",
            "[MLE-GEN] epoch 43 : pre_loss = 1.9214, BLEU-[2, 3, 4, 5] = [0.531, 0.238, 0.106, 0.058], NLL_gen = 2.6858, NLL_div = 2.6309, Self-BLEU-[2, 3, 4] = [0.691, 0.407, 0.215]\n",
            "[MLE-GEN] epoch 44 : pre_loss = 1.9207, BLEU-[2, 3, 4, 5] = [0.537, 0.25, 0.117, 0.068], NLL_gen = 2.6465, NLL_div = 2.5953, Self-BLEU-[2, 3, 4] = [0.691, 0.407, 0.223]\n",
            "[MLE-GEN] epoch 45 : pre_loss = 1.9195, BLEU-[2, 3, 4, 5] = [0.524, 0.237, 0.113, 0.064], NLL_gen = 2.6584, NLL_div = 2.4848, Self-BLEU-[2, 3, 4] = [0.687, 0.41, 0.23]\n",
            "[MLE-GEN] epoch 46 : pre_loss = 1.9027, BLEU-[2, 3, 4, 5] = [0.507, 0.236, 0.115, 0.065], NLL_gen = 2.6821, NLL_div = 2.5898, Self-BLEU-[2, 3, 4] = [0.697, 0.414, 0.224]\n",
            "[MLE-GEN] epoch 47 : pre_loss = 1.8983, BLEU-[2, 3, 4, 5] = [0.524, 0.246, 0.114, 0.064], NLL_gen = 2.6542, NLL_div = 2.5481, Self-BLEU-[2, 3, 4] = [0.682, 0.41, 0.222]\n",
            "[MLE-GEN] epoch 48 : pre_loss = 1.8860, BLEU-[2, 3, 4, 5] = [0.513, 0.234, 0.108, 0.063], NLL_gen = 2.5753, NLL_div = 2.5465, Self-BLEU-[2, 3, 4] = [0.69, 0.414, 0.228]\n",
            "[MLE-GEN] epoch 49 : pre_loss = 1.8920, BLEU-[2, 3, 4, 5] = [0.525, 0.258, 0.134, 0.079], NLL_gen = 2.6055, NLL_div = 2.5509, Self-BLEU-[2, 3, 4] = [0.666, 0.378, 0.2]\n"
          ],
          "name": "stdout"
        },
        {
          "output_type": "stream",
          "text": [
            "\r  0%|          | 0/100 [00:00<?, ?it/s]"
          ],
          "name": "stderr"
        },
        {
          "output_type": "stream",
          "text": [
            "Starting Adversarial Training\n"
          ],
          "name": "stdout"
        },
        {
          "output_type": "stream",
          "text": [
            "g_loss: 1.5836, d_loss: 0.3203, temperature: 95.4993: 100%|██████████| 100/100 [4:47:27<00:00, 172.48s/it]\n"
          ],
          "name": "stderr"
        }
      ]
    },
    {
      "cell_type": "code",
      "metadata": {
        "id": "LqjpqOd-XLNF",
        "colab_type": "code",
        "colab": {}
      },
      "source": [
        "from transformers import GPT2Tokenizer\n",
        "tokenizer = GPT2Tokenizer.from_pretrained('gpt2', unk_token='<unk>', eos_token='<pad>',\n",
        "                                                   pad_token='<pad>', bos_token='<start>')"
      ],
      "execution_count": 0,
      "outputs": []
    },
    {
      "cell_type": "code",
      "metadata": {
        "id": "EwrQXrdQAeLG",
        "colab_type": "code",
        "colab": {
          "base_uri": "https://localhost:8080/",
          "height": 373
        },
        "outputId": "23f3b60f-bf36-46ef-f96f-327a64be6f76"
      },
      "source": [
        "from utils.preprocess import tensor_to_tokens\n",
        "eval_samples = instructor.gen.sample(10,10)\n",
        "gen_tokens = tensor_to_tokens(eval_samples, instructor.idx2word_dict)\n",
        "for el in gen_tokens:\n",
        "    print(tokenizer.convert_tokens_to_string(el))\n",
        "    print()"
      ],
      "execution_count": 26,
      "outputs": [
        {
          "output_type": "stream",
          "text": [
            " Dobats Batread.\n",
            "\n",
            " Downs up for routine John Kerry, Marvin Media, Nov. 31, 2014 down, the other effort with Sheffield City, “Moonrise Kingdom” said Senator Lindsey Graham, which's directing history, falling off the help lead to have been toxic\n",
            "\n",
            " mercista and John Stewart also suffered the President-elect Donald Trump said on Sunday for the release of Sanders has launched the national election Wednesday.\n",
            "\n",
            " indulgent class while less expensive, marry Keith Urban security policies at the new Federal Reserve in Miami, partly because her husbandener four year through the payroll with timely questions.\n",
            "\n",
            "ntde Tng thik, California Chrome, Pennsylvania, the rapper of the tougher when a cow, a crowd of former political prisonerlyoff has filed one of The two Southern Conference coach member to be turning to be named for 50.5 percent\n",
            "\n",
            " Investigation arrested gave the training about something in Louisiana, the official Organization to head rate of their performance.\n",
            "\n",
            " Sharon responded cited by 2-10-year-oldal R, Lake — and posted second time behind the papar neighborhood they love the Chinese government of a financial operations when Michael Cohen.\n",
            "\n",
            "nt Psychiatry.\n",
            "\n",
            " 68-year-old girl on Flatbush champion Joey' song on a football Avenue offices.\n",
            "\n",
            "nt Psychiatry, in Canada said.\n",
            "\n"
          ],
          "name": "stdout"
        }
      ]
    },
    {
      "cell_type": "code",
      "metadata": {
        "id": "uxTtPIzkXRnn",
        "colab_type": "code",
        "colab": {}
      },
      "source": [
        ""
      ],
      "execution_count": 0,
      "outputs": []
    }
  ]
}