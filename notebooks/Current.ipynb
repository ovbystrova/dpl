{
  "nbformat": 4,
  "nbformat_minor": 0,
  "metadata": {
    "kernelspec": {
      "display_name": "Python 3",
      "language": "python",
      "name": "python3"
    },
    "colab": {
      "name": "Current.ipynb",
      "provenance": [],
      "machine_shape": "hm",
      "include_colab_link": true
    },
    "accelerator": "GPU"
  },
  "cells": [
    {
      "cell_type": "markdown",
      "metadata": {
        "id": "view-in-github",
        "colab_type": "text"
      },
      "source": [
        "<a href=\"https://colab.research.google.com/github/ovbystrova/dpl/blob/master/notebooks/Current.ipynb\" target=\"_parent\"><img src=\"https://colab.research.google.com/assets/colab-badge.svg\" alt=\"Open In Colab\"/></a>"
      ]
    },
    {
      "cell_type": "code",
      "metadata": {
        "id": "DK907QwF1kU1",
        "colab_type": "code",
        "colab": {}
      },
      "source": [
        "%%capture\n",
        "# !git clone https://github.com/ovbystrova/dpl.git\n",
        "import os\n",
        "os.chdir('/content/dpl')"
      ],
      "execution_count": 0,
      "outputs": []
    },
    {
      "cell_type": "code",
      "metadata": {
        "id": "V1HashLH4Bmp",
        "colab_type": "code",
        "colab": {
          "base_uri": "https://localhost:8080/",
          "height": 67
        },
        "outputId": "7c24ba3a-1b68-44f8-ec91-6078d527d1a7"
      },
      "source": [
        "import nltk\n",
        "nltk.download(\"punkt\")"
      ],
      "execution_count": 2,
      "outputs": [
        {
          "output_type": "stream",
          "text": [
            "[nltk_data] Downloading package punkt to /root/nltk_data...\n",
            "[nltk_data]   Package punkt is already up-to-date!\n"
          ],
          "name": "stdout"
        },
        {
          "output_type": "execute_result",
          "data": {
            "text/plain": [
              "True"
            ]
          },
          "metadata": {
            "tags": []
          },
          "execution_count": 2
        }
      ]
    },
    {
      "cell_type": "code",
      "metadata": {
        "id": "xmuXfE5R9b3-",
        "colab_type": "code",
        "colab": {}
      },
      "source": [
        "%%capture\n",
        "!pip install wandb\n",
        "!wandb login"
      ],
      "execution_count": 0,
      "outputs": []
    },
    {
      "cell_type": "code",
      "metadata": {
        "id": "Y-PwTI3AJTWY",
        "colab_type": "code",
        "colab": {}
      },
      "source": [
        "import configuration as cfg\n",
        "DATA_PATH = r\"data\"\n",
        "wandb_config = {\n",
        "    'gan' : 'relgan',\n",
        "    'batch_size' : cfg.BATCH_SIZE,\n",
        "    'test_samples' : 200,\n",
        "    'temperatur_update' : cfg.TEMP_ADPT,\n",
        "    'texts_size' : '20k',\n",
        "    'max_temperature' : cfg.TEMPERATURE,\n",
        "    'mle_train_epochs' : cfg.MLE_train_epoch,\n",
        "    'adversarial_epochs' : cfg.ADV_train_epoch,\n",
        "    'clip_norm' : cfg.CLIP_NORM,\n",
        "    'discriminator' : 'relgan'\n",
        "}\n",
        "\n",
        "RUN_ID = 'gan_003'"
      ],
      "execution_count": 0,
      "outputs": []
    },
    {
      "cell_type": "code",
      "metadata": {
        "id": "jkzsN1ol-uaC",
        "colab_type": "code",
        "colab": {
          "base_uri": "https://localhost:8080/",
          "height": 84
        },
        "outputId": "5c9a7a28-1515-433e-f45b-5eb84bc2a262"
      },
      "source": [
        "import wandb\n",
        "wandb.init(id=RUN_ID, config=wandb_config, project='dpl')"
      ],
      "execution_count": 5,
      "outputs": [
        {
          "output_type": "display_data",
          "data": {
            "text/html": [
              "\n",
              "                Logging results to <a href=\"https://wandb.com\" target=\"_blank\">Weights & Biases</a> <a href=\"https://docs.wandb.com/integrations/jupyter.html\" target=\"_blank\">(Documentation)</a>.<br/>\n",
              "                Project page: <a href=\"https://app.wandb.ai/2ispany3/dpl\" target=\"_blank\">https://app.wandb.ai/2ispany3/dpl</a><br/>\n",
              "                Run page: <a href=\"https://app.wandb.ai/2ispany3/dpl/runs/gan_003\" target=\"_blank\">https://app.wandb.ai/2ispany3/dpl/runs/gan_003</a><br/>\n",
              "            "
            ],
            "text/plain": [
              "<IPython.core.display.HTML object>"
            ]
          },
          "metadata": {
            "tags": []
          }
        },
        {
          "output_type": "execute_result",
          "data": {
            "text/plain": [
              "W&B Run: https://app.wandb.ai/2ispany3/dpl/runs/gan_003"
            ]
          },
          "metadata": {
            "tags": []
          },
          "execution_count": 5
        }
      ]
    },
    {
      "cell_type": "markdown",
      "metadata": {
        "id": "eA0BCU_s1foS",
        "colab_type": "text"
      },
      "source": [
        "# Dataloader"
      ]
    },
    {
      "cell_type": "code",
      "metadata": {
        "id": "kJQRUucR1foV",
        "colab_type": "code",
        "colab": {}
      },
      "source": [
        "# import os\n",
        "# os.chdir('..')\n",
        "from utils.dataloader import GANDataset, GenDataIter"
      ],
      "execution_count": 0,
      "outputs": []
    },
    {
      "cell_type": "code",
      "metadata": {
        "id": "T_61HHX51foj",
        "colab_type": "code",
        "colab": {}
      },
      "source": [
        "DATA_PATH = r\"data\"\n",
        "BATCH_SIZE = 64"
      ],
      "execution_count": 0,
      "outputs": []
    },
    {
      "cell_type": "code",
      "metadata": {
        "id": "_6q45M031fov",
        "colab_type": "code",
        "colab": {
          "base_uri": "https://localhost:8080/",
          "height": 34
        },
        "outputId": "03ec49a9-0488-411f-f1ed-68a809b24c3d"
      },
      "source": [
        "iterator = GenDataIter(data=DATA_PATH,\n",
        "                            batch_size=wandb_config['batch_size'],\n",
        "                            shuffle=None)"
      ],
      "execution_count": 5,
      "outputs": [
        {
          "output_type": "stream",
          "text": [
            "total tokens:  6333\n"
          ],
          "name": "stdout"
        }
      ]
    },
    {
      "cell_type": "markdown",
      "metadata": {
        "id": "_UMPF9ip1fp1",
        "colab_type": "text"
      },
      "source": [
        "# Generator"
      ]
    },
    {
      "cell_type": "code",
      "metadata": {
        "id": "HKO2i_xA1fp3",
        "colab_type": "code",
        "colab": {}
      },
      "source": [
        "# import os\n",
        "# os.chdir('..')"
      ],
      "execution_count": 0,
      "outputs": []
    },
    {
      "cell_type": "code",
      "metadata": {
        "id": "QAvIAdaE1fqC",
        "colab_type": "code",
        "colab": {}
      },
      "source": [
        "import torch\n",
        "from models.RelGAN_G import RelGAN_G\n",
        "MAX_SEQ_LEN = 50\n",
        "PAD_IDX = 0\n",
        "VOCAB_SIZE = 6330\n",
        "device = torch.device(\"cuda\" if torch.cuda.is_available() else \"cpu\")\n",
        "if_cuda = True if torch.cuda.is_available() else False"
      ],
      "execution_count": 0,
      "outputs": []
    },
    {
      "cell_type": "code",
      "metadata": {
        "id": "BpRlhFa61fqQ",
        "colab_type": "code",
        "colab": {}
      },
      "source": [
        "gen = RelGAN_G(mem_slots=1, num_heads=2, head_size=256, embedding_dim=32, hidden_dim=32,\n",
        "                            vocab_size=VOCAB_SIZE, max_seq_len=MAX_SEQ_LEN, padding_idx=PAD_IDX, gpu=if_cuda)"
      ],
      "execution_count": 0,
      "outputs": []
    },
    {
      "cell_type": "markdown",
      "metadata": {
        "id": "iJBYoBcp1fqc",
        "colab_type": "text"
      },
      "source": [
        "# Discriminator"
      ]
    },
    {
      "cell_type": "code",
      "metadata": {
        "id": "h4weLeWG1fqf",
        "colab_type": "code",
        "colab": {}
      },
      "source": [
        "from models.RelGAN_D import RelGAN_D\n",
        "dis = RelGAN_D(embed_dim=64, \n",
        "               max_seq_len=MAX_SEQ_LEN,\n",
        "               num_rep=64, \n",
        "               vocab_size=VOCAB_SIZE, \n",
        "               padding_idx=PAD_IDX, \n",
        "               weights = 'uniform',\n",
        "               gpu=if_cuda, \n",
        "               dropout=0.25)"
      ],
      "execution_count": 0,
      "outputs": []
    },
    {
      "cell_type": "markdown",
      "metadata": {
        "id": "9fqUc1331fqt",
        "colab_type": "text"
      },
      "source": [
        "# Instructor"
      ]
    },
    {
      "cell_type": "code",
      "metadata": {
        "id": "5Vm0FGdC1fqv",
        "colab_type": "code",
        "colab": {}
      },
      "source": [
        "# import os\n",
        "# os.chdir('..')\n",
        "from models.instructor import RelGANInstructor"
      ],
      "execution_count": 0,
      "outputs": []
    },
    {
      "cell_type": "code",
      "metadata": {
        "id": "xM2SfCrf1fq7",
        "colab_type": "code",
        "colab": {}
      },
      "source": [
        "instructor = RelGANInstructor()"
      ],
      "execution_count": 0,
      "outputs": []
    },
    {
      "cell_type": "markdown",
      "metadata": {
        "id": "JXRxGVix1frH",
        "colab_type": "text"
      },
      "source": [
        "# Checking"
      ]
    },
    {
      "cell_type": "code",
      "metadata": {
        "id": "FbJztcMX1frJ",
        "colab_type": "code",
        "outputId": "d92ee455-c6a3-4010-8318-2f02ceed5ed0",
        "colab": {
          "base_uri": "https://localhost:8080/",
          "height": 1000
        }
      },
      "source": [
        "instructor._run()"
      ],
      "execution_count": 8,
      "outputs": [
        {
          "output_type": "stream",
          "text": [
            "Starting GENERATOR MLE TRAINING\n",
            "[MLE-GEN] epoch 0 : pre_loss = 4.0184, BLEU-[2, 3, 4, 5] = [0.461, 0.159, 0.072, 0.045], NLL_gen = 3.467, NLL_div = 3.5955, Self-BLEU-[2, 3, 4] = [0.494, 0.188, 0.081]\n",
            "[MLE-GEN] epoch 1 : pre_loss = 3.4076, BLEU-[2, 3, 4, 5] = [0.492, 0.19, 0.084, 0.05], NLL_gen = 3.2453, NLL_div = 3.1707, Self-BLEU-[2, 3, 4] = [0.517, 0.207, 0.086]\n",
            "[MLE-GEN] epoch 2 : pre_loss = 3.1981, BLEU-[2, 3, 4, 5] = [0.491, 0.199, 0.09, 0.054], NLL_gen = 3.1474, NLL_div = 3.2403, Self-BLEU-[2, 3, 4] = [0.53, 0.22, 0.098]\n",
            "[MLE-GEN] epoch 3 : pre_loss = 3.0645, BLEU-[2, 3, 4, 5] = [0.511, 0.205, 0.091, 0.054], NLL_gen = 3.0768, NLL_div = 2.8044, Self-BLEU-[2, 3, 4] = [0.557, 0.24, 0.104]\n",
            "[MLE-GEN] epoch 4 : pre_loss = 2.9741, BLEU-[2, 3, 4, 5] = [0.52, 0.222, 0.092, 0.052], NLL_gen = 3.0494, NLL_div = 3.0141, Self-BLEU-[2, 3, 4] = [0.592, 0.271, 0.117]\n",
            "[MLE-GEN] epoch 5 : pre_loss = 2.8991, BLEU-[2, 3, 4, 5] = [0.527, 0.211, 0.089, 0.053], NLL_gen = 2.9906, NLL_div = 2.8695, Self-BLEU-[2, 3, 4] = [0.615, 0.274, 0.123]\n"
          ],
          "name": "stdout"
        },
        {
          "output_type": "stream",
          "text": [
            "Process ForkPoolWorker-351:\n",
            "Process ForkPoolWorker-349:\n",
            "Process ForkPoolWorker-352:\n",
            "Process ForkPoolWorker-350:\n",
            "Traceback (most recent call last):\n",
            "Traceback (most recent call last):\n",
            "Traceback (most recent call last):\n",
            "  File \"/usr/lib/python3.6/multiprocessing/process.py\", line 258, in _bootstrap\n",
            "    self.run()\n",
            "  File \"/usr/lib/python3.6/multiprocessing/process.py\", line 258, in _bootstrap\n",
            "    self.run()\n",
            "  File \"/usr/lib/python3.6/multiprocessing/process.py\", line 93, in run\n",
            "    self._target(*self._args, **self._kwargs)\n",
            "Traceback (most recent call last):\n",
            "  File \"/usr/lib/python3.6/multiprocessing/process.py\", line 258, in _bootstrap\n",
            "    self.run()\n",
            "  File \"/usr/lib/python3.6/multiprocessing/process.py\", line 93, in run\n",
            "    self._target(*self._args, **self._kwargs)\n",
            "  File \"/usr/lib/python3.6/multiprocessing/pool.py\", line 119, in worker\n",
            "    result = (True, func(*args, **kwds))\n",
            "  File \"/content/dpl/metrics/bleu.py\", line 85, in cal_bleu\n",
            "    smoothing_function=SmoothingFunction().method1)\n",
            "  File \"/usr/lib/python3.6/multiprocessing/pool.py\", line 119, in worker\n",
            "    result = (True, func(*args, **kwds))\n",
            "  File \"/usr/local/lib/python3.6/dist-packages/nltk/translate/bleu_score.py\", line 89, in sentence_bleu\n",
            "    emulate_multibleu)\n",
            "  File \"/usr/lib/python3.6/multiprocessing/process.py\", line 93, in run\n",
            "    self._target(*self._args, **self._kwargs)\n",
            "  File \"/usr/lib/python3.6/multiprocessing/pool.py\", line 119, in worker\n",
            "    result = (True, func(*args, **kwds))\n",
            "  File \"/usr/local/lib/python3.6/dist-packages/nltk/translate/bleu_score.py\", line 162, in corpus_bleu\n",
            "    p_i = modified_precision(references, hypothesis, i)\n",
            "  File \"/usr/lib/python3.6/multiprocessing/process.py\", line 258, in _bootstrap\n",
            "    self.run()\n",
            "  File \"/content/dpl/metrics/bleu.py\", line 85, in cal_bleu\n",
            "    smoothing_function=SmoothingFunction().method1)\n",
            "  File \"/usr/local/lib/python3.6/dist-packages/nltk/translate/bleu_score.py\", line 298, in modified_precision\n",
            "    for ngram in counts:\n",
            "KeyboardInterrupt\n",
            "  File \"/usr/lib/python3.6/multiprocessing/process.py\", line 93, in run\n",
            "    self._target(*self._args, **self._kwargs)\n",
            "  File \"/usr/lib/python3.6/multiprocessing/pool.py\", line 119, in worker\n",
            "    result = (True, func(*args, **kwds))\n",
            "  File \"/content/dpl/metrics/bleu.py\", line 85, in cal_bleu\n",
            "    smoothing_function=SmoothingFunction().method1)\n",
            "  File \"/usr/local/lib/python3.6/dist-packages/nltk/translate/bleu_score.py\", line 89, in sentence_bleu\n",
            "    emulate_multibleu)\n",
            "  File \"/usr/local/lib/python3.6/dist-packages/nltk/translate/bleu_score.py\", line 162, in corpus_bleu\n",
            "    p_i = modified_precision(references, hypothesis, i)\n",
            "  File \"/content/dpl/metrics/bleu.py\", line 85, in cal_bleu\n",
            "    smoothing_function=SmoothingFunction().method1)\n",
            "  File \"/usr/local/lib/python3.6/dist-packages/nltk/translate/bleu_score.py\", line 89, in sentence_bleu\n",
            "    emulate_multibleu)\n",
            "  File \"/usr/local/lib/python3.6/dist-packages/nltk/translate/bleu_score.py\", line 300, in modified_precision\n",
            "    reference_counts[ngram])\n",
            "  File \"/usr/local/lib/python3.6/dist-packages/nltk/translate/bleu_score.py\", line 89, in sentence_bleu\n",
            "    emulate_multibleu)\n",
            "  File \"/usr/local/lib/python3.6/dist-packages/nltk/translate/bleu_score.py\", line 162, in corpus_bleu\n",
            "    p_i = modified_precision(references, hypothesis, i)\n",
            "  File \"/usr/lib/python3.6/collections/__init__.py\", line 537, in __missing__\n",
            "    def __missing__(self, key):\n",
            "  File \"/usr/local/lib/python3.6/dist-packages/nltk/translate/bleu_score.py\", line 298, in modified_precision\n",
            "    for ngram in counts:\n",
            "  File \"/usr/local/lib/python3.6/dist-packages/nltk/translate/bleu_score.py\", line 162, in corpus_bleu\n",
            "    p_i = modified_precision(references, hypothesis, i)\n",
            "KeyboardInterrupt\n",
            "  File \"/usr/local/lib/python3.6/dist-packages/nltk/translate/bleu_score.py\", line 297, in modified_precision\n",
            "    reference_counts = Counter(ngrams(reference, n)) if len(reference) >= n else Counter()\n",
            "KeyboardInterrupt\n",
            "  File \"/usr/lib/python3.6/collections/__init__.py\", line 535, in __init__\n",
            "    self.update(*args, **kwds)\n",
            "  File \"/usr/lib/python3.6/collections/__init__.py\", line 622, in update\n",
            "    _count_elements(self, iterable)\n",
            "  File \"/usr/local/lib/python3.6/dist-packages/nltk/util.py\", line 472, in ngrams\n",
            "    yield tuple(history)\n",
            "KeyboardInterrupt\n"
          ],
          "name": "stderr"
        },
        {
          "output_type": "error",
          "ename": "KeyboardInterrupt",
          "evalue": "ignored",
          "traceback": [
            "\u001b[0;31m---------------------------------------------------------------------------\u001b[0m",
            "\u001b[0;31mKeyboardInterrupt\u001b[0m                         Traceback (most recent call last)",
            "\u001b[0;32m<ipython-input-8-969fcea89044>\u001b[0m in \u001b[0;36m<module>\u001b[0;34m()\u001b[0m\n\u001b[0;32m----> 1\u001b[0;31m \u001b[0minstructor\u001b[0m\u001b[0;34m.\u001b[0m\u001b[0m_run\u001b[0m\u001b[0;34m(\u001b[0m\u001b[0;34m)\u001b[0m\u001b[0;34m\u001b[0m\u001b[0;34m\u001b[0m\u001b[0m\n\u001b[0m",
            "\u001b[0;32m/content/dpl/models/instructor.py\u001b[0m in \u001b[0;36m_run\u001b[0;34m(self)\u001b[0m\n\u001b[1;32m    145\u001b[0m         \u001b[0;31m#===PRE-TRAINING (GENERATOR)===\u001b[0m\u001b[0;34m\u001b[0m\u001b[0;34m\u001b[0m\u001b[0;34m\u001b[0m\u001b[0m\n\u001b[1;32m    146\u001b[0m         \u001b[0mprint\u001b[0m\u001b[0;34m(\u001b[0m\u001b[0;34m'Starting GENERATOR MLE TRAINING'\u001b[0m\u001b[0;34m)\u001b[0m\u001b[0;34m\u001b[0m\u001b[0;34m\u001b[0m\u001b[0m\n\u001b[0;32m--> 147\u001b[0;31m         \u001b[0mself\u001b[0m\u001b[0;34m.\u001b[0m\u001b[0mpretrain_generator\u001b[0m\u001b[0;34m(\u001b[0m\u001b[0mcfg\u001b[0m\u001b[0;34m.\u001b[0m\u001b[0mMLE_train_epoch\u001b[0m\u001b[0;34m)\u001b[0m\u001b[0;34m\u001b[0m\u001b[0;34m\u001b[0m\u001b[0m\n\u001b[0m\u001b[1;32m    148\u001b[0m         \u001b[0mtorch\u001b[0m\u001b[0;34m.\u001b[0m\u001b[0msave\u001b[0m\u001b[0;34m(\u001b[0m\u001b[0mself\u001b[0m\u001b[0;34m.\u001b[0m\u001b[0mgen\u001b[0m\u001b[0;34m.\u001b[0m\u001b[0mstate_dict\u001b[0m\u001b[0;34m(\u001b[0m\u001b[0;34m)\u001b[0m\u001b[0;34m,\u001b[0m \u001b[0;34m'data/generator_mle'\u001b[0m\u001b[0;34m)\u001b[0m\u001b[0;34m\u001b[0m\u001b[0;34m\u001b[0m\u001b[0m\n\u001b[1;32m    149\u001b[0m \u001b[0;34m\u001b[0m\u001b[0m\n",
            "\u001b[0;32m/content/dpl/models/instructor.py\u001b[0m in \u001b[0;36mpretrain_generator\u001b[0;34m(self, epochs)\u001b[0m\n\u001b[1;32m    185\u001b[0m                 \u001b[0;32mpass\u001b[0m\u001b[0;34m\u001b[0m\u001b[0;34m\u001b[0m\u001b[0m\n\u001b[1;32m    186\u001b[0m \u001b[0;34m\u001b[0m\u001b[0m\n\u001b[0;32m--> 187\u001b[0;31m             \u001b[0mmetrics\u001b[0m \u001b[0;34m=\u001b[0m \u001b[0mself\u001b[0m\u001b[0;34m.\u001b[0m\u001b[0mcal_metrics\u001b[0m\u001b[0;34m(\u001b[0m\u001b[0mfmt_str\u001b[0m\u001b[0;34m=\u001b[0m\u001b[0;32mFalse\u001b[0m\u001b[0;34m)\u001b[0m\u001b[0;34m\u001b[0m\u001b[0;34m\u001b[0m\u001b[0m\n\u001b[0m\u001b[1;32m    188\u001b[0m             wandb.log({'nll loss pretrain': pre_loss,\n\u001b[1;32m    189\u001b[0m                        \u001b[0;34m'BLEU_2'\u001b[0m\u001b[0;34m:\u001b[0m \u001b[0mmetrics\u001b[0m\u001b[0;34m[\u001b[0m\u001b[0;36m0\u001b[0m\u001b[0;34m]\u001b[0m\u001b[0;34m[\u001b[0m\u001b[0;36m0\u001b[0m\u001b[0;34m]\u001b[0m\u001b[0;34m,\u001b[0m \u001b[0;34m'BLEU_3'\u001b[0m\u001b[0;34m:\u001b[0m \u001b[0mmetrics\u001b[0m\u001b[0;34m[\u001b[0m\u001b[0;36m0\u001b[0m\u001b[0;34m]\u001b[0m\u001b[0;34m[\u001b[0m\u001b[0;36m1\u001b[0m\u001b[0;34m]\u001b[0m\u001b[0;34m,\u001b[0m \u001b[0;34m'BLEU_4'\u001b[0m\u001b[0;34m:\u001b[0m \u001b[0mmetrics\u001b[0m\u001b[0;34m[\u001b[0m\u001b[0;36m0\u001b[0m\u001b[0;34m]\u001b[0m\u001b[0;34m[\u001b[0m\u001b[0;36m2\u001b[0m\u001b[0;34m]\u001b[0m\u001b[0;34m,\u001b[0m\u001b[0;34m\u001b[0m\u001b[0;34m\u001b[0m\u001b[0m\n",
            "\u001b[0;32m/content/dpl/models/instructor.py\u001b[0m in \u001b[0;36mcal_metrics\u001b[0;34m(self, fmt_str)\u001b[0m\n\u001b[1;32m    124\u001b[0m             \u001b[0;32mreturn\u001b[0m \u001b[0;34m', '\u001b[0m\u001b[0;34m.\u001b[0m\u001b[0mjoin\u001b[0m\u001b[0;34m(\u001b[0m\u001b[0;34m[\u001b[0m\u001b[0;34m'%s = %s'\u001b[0m \u001b[0;34m%\u001b[0m \u001b[0;34m(\u001b[0m\u001b[0mmetric\u001b[0m\u001b[0;34m.\u001b[0m\u001b[0mget_name\u001b[0m\u001b[0;34m(\u001b[0m\u001b[0;34m)\u001b[0m\u001b[0;34m,\u001b[0m \u001b[0mmetric\u001b[0m\u001b[0;34m.\u001b[0m\u001b[0mget_score\u001b[0m\u001b[0;34m(\u001b[0m\u001b[0;34m)\u001b[0m\u001b[0;34m)\u001b[0m \u001b[0;32mfor\u001b[0m \u001b[0mmetric\u001b[0m \u001b[0;32min\u001b[0m \u001b[0mself\u001b[0m\u001b[0;34m.\u001b[0m\u001b[0mall_metrics\u001b[0m\u001b[0;34m]\u001b[0m\u001b[0;34m)\u001b[0m\u001b[0;34m\u001b[0m\u001b[0;34m\u001b[0m\u001b[0m\n\u001b[1;32m    125\u001b[0m         \u001b[0;32melse\u001b[0m\u001b[0;34m:\u001b[0m\u001b[0;34m\u001b[0m\u001b[0;34m\u001b[0m\u001b[0m\n\u001b[0;32m--> 126\u001b[0;31m             \u001b[0;32mreturn\u001b[0m \u001b[0;34m[\u001b[0m\u001b[0mmetric\u001b[0m\u001b[0;34m.\u001b[0m\u001b[0mget_score\u001b[0m\u001b[0;34m(\u001b[0m\u001b[0;34m)\u001b[0m \u001b[0;32mfor\u001b[0m \u001b[0mmetric\u001b[0m \u001b[0;32min\u001b[0m \u001b[0mself\u001b[0m\u001b[0;34m.\u001b[0m\u001b[0mall_metrics\u001b[0m\u001b[0;34m]\u001b[0m\u001b[0;34m\u001b[0m\u001b[0;34m\u001b[0m\u001b[0m\n\u001b[0m\u001b[1;32m    127\u001b[0m \u001b[0;34m\u001b[0m\u001b[0m\n\u001b[1;32m    128\u001b[0m \u001b[0;34m\u001b[0m\u001b[0m\n",
            "\u001b[0;32m/content/dpl/models/instructor.py\u001b[0m in \u001b[0;36m<listcomp>\u001b[0;34m(.0)\u001b[0m\n\u001b[1;32m    124\u001b[0m             \u001b[0;32mreturn\u001b[0m \u001b[0;34m', '\u001b[0m\u001b[0;34m.\u001b[0m\u001b[0mjoin\u001b[0m\u001b[0;34m(\u001b[0m\u001b[0;34m[\u001b[0m\u001b[0;34m'%s = %s'\u001b[0m \u001b[0;34m%\u001b[0m \u001b[0;34m(\u001b[0m\u001b[0mmetric\u001b[0m\u001b[0;34m.\u001b[0m\u001b[0mget_name\u001b[0m\u001b[0;34m(\u001b[0m\u001b[0;34m)\u001b[0m\u001b[0;34m,\u001b[0m \u001b[0mmetric\u001b[0m\u001b[0;34m.\u001b[0m\u001b[0mget_score\u001b[0m\u001b[0;34m(\u001b[0m\u001b[0;34m)\u001b[0m\u001b[0;34m)\u001b[0m \u001b[0;32mfor\u001b[0m \u001b[0mmetric\u001b[0m \u001b[0;32min\u001b[0m \u001b[0mself\u001b[0m\u001b[0;34m.\u001b[0m\u001b[0mall_metrics\u001b[0m\u001b[0;34m]\u001b[0m\u001b[0;34m)\u001b[0m\u001b[0;34m\u001b[0m\u001b[0;34m\u001b[0m\u001b[0m\n\u001b[1;32m    125\u001b[0m         \u001b[0;32melse\u001b[0m\u001b[0;34m:\u001b[0m\u001b[0;34m\u001b[0m\u001b[0;34m\u001b[0m\u001b[0m\n\u001b[0;32m--> 126\u001b[0;31m             \u001b[0;32mreturn\u001b[0m \u001b[0;34m[\u001b[0m\u001b[0mmetric\u001b[0m\u001b[0;34m.\u001b[0m\u001b[0mget_score\u001b[0m\u001b[0;34m(\u001b[0m\u001b[0;34m)\u001b[0m \u001b[0;32mfor\u001b[0m \u001b[0mmetric\u001b[0m \u001b[0;32min\u001b[0m \u001b[0mself\u001b[0m\u001b[0;34m.\u001b[0m\u001b[0mall_metrics\u001b[0m\u001b[0;34m]\u001b[0m\u001b[0;34m\u001b[0m\u001b[0;34m\u001b[0m\u001b[0m\n\u001b[0m\u001b[1;32m    127\u001b[0m \u001b[0;34m\u001b[0m\u001b[0m\n\u001b[1;32m    128\u001b[0m \u001b[0;34m\u001b[0m\u001b[0m\n",
            "\u001b[0;32m/content/dpl/metrics/bleu.py\u001b[0m in \u001b[0;36mget_score\u001b[0;34m(self, is_fast, given_gram)\u001b[0m\n\u001b[1;32m     43\u001b[0m             \u001b[0mself\u001b[0m\u001b[0;34m.\u001b[0m\u001b[0mis_first\u001b[0m \u001b[0;34m=\u001b[0m \u001b[0;32mFalse\u001b[0m\u001b[0;34m\u001b[0m\u001b[0;34m\u001b[0m\u001b[0m\n\u001b[1;32m     44\u001b[0m         \u001b[0;32mif\u001b[0m \u001b[0mis_fast\u001b[0m\u001b[0;34m:\u001b[0m\u001b[0;34m\u001b[0m\u001b[0;34m\u001b[0m\u001b[0m\n\u001b[0;32m---> 45\u001b[0;31m             \u001b[0;32mreturn\u001b[0m \u001b[0mself\u001b[0m\u001b[0;34m.\u001b[0m\u001b[0mget_bleu_fast\u001b[0m\u001b[0;34m(\u001b[0m\u001b[0mgiven_gram\u001b[0m\u001b[0;34m)\u001b[0m\u001b[0;34m\u001b[0m\u001b[0;34m\u001b[0m\u001b[0m\n\u001b[0m\u001b[1;32m     46\u001b[0m         \u001b[0;32mreturn\u001b[0m \u001b[0mself\u001b[0m\u001b[0;34m.\u001b[0m\u001b[0mget_bleu\u001b[0m\u001b[0;34m(\u001b[0m\u001b[0mgiven_gram\u001b[0m\u001b[0;34m)\u001b[0m\u001b[0;34m\u001b[0m\u001b[0;34m\u001b[0m\u001b[0m\n\u001b[1;32m     47\u001b[0m \u001b[0;34m\u001b[0m\u001b[0m\n",
            "\u001b[0;32m/content/dpl/metrics/bleu.py\u001b[0m in \u001b[0;36mget_bleu_fast\u001b[0;34m(self, given_gram)\u001b[0m\n\u001b[1;32m     92\u001b[0m             \u001b[0mall_bleu\u001b[0m \u001b[0;34m=\u001b[0m \u001b[0;34m[\u001b[0m\u001b[0;34m]\u001b[0m\u001b[0;34m\u001b[0m\u001b[0;34m\u001b[0m\u001b[0m\n\u001b[1;32m     93\u001b[0m             \u001b[0;32mfor\u001b[0m \u001b[0mngram\u001b[0m \u001b[0;32min\u001b[0m \u001b[0mself\u001b[0m\u001b[0;34m.\u001b[0m\u001b[0mgram\u001b[0m\u001b[0;34m:\u001b[0m\u001b[0;34m\u001b[0m\u001b[0;34m\u001b[0m\u001b[0m\n\u001b[0;32m---> 94\u001b[0;31m                 \u001b[0mall_bleu\u001b[0m\u001b[0;34m.\u001b[0m\u001b[0mappend\u001b[0m\u001b[0;34m(\u001b[0m\u001b[0mself\u001b[0m\u001b[0;34m.\u001b[0m\u001b[0mget_bleu_parallel\u001b[0m\u001b[0;34m(\u001b[0m\u001b[0mngram\u001b[0m\u001b[0;34m=\u001b[0m\u001b[0mngram\u001b[0m\u001b[0;34m,\u001b[0m \u001b[0mreference\u001b[0m\u001b[0;34m=\u001b[0m\u001b[0mreference\u001b[0m\u001b[0;34m)\u001b[0m\u001b[0;34m)\u001b[0m\u001b[0;34m\u001b[0m\u001b[0;34m\u001b[0m\u001b[0m\n\u001b[0m\u001b[1;32m     95\u001b[0m             \u001b[0;32mreturn\u001b[0m \u001b[0mall_bleu\u001b[0m\u001b[0;34m\u001b[0m\u001b[0;34m\u001b[0m\u001b[0m\n\u001b[1;32m     96\u001b[0m \u001b[0;34m\u001b[0m\u001b[0m\n",
            "\u001b[0;32m/content/dpl/metrics/bleu.py\u001b[0m in \u001b[0;36mget_bleu_parallel\u001b[0;34m(self, ngram, reference)\u001b[0m\n\u001b[1;32m    104\u001b[0m         \u001b[0mcnt\u001b[0m \u001b[0;34m=\u001b[0m \u001b[0;36m0\u001b[0m\u001b[0;34m\u001b[0m\u001b[0;34m\u001b[0m\u001b[0m\n\u001b[1;32m    105\u001b[0m         \u001b[0;32mfor\u001b[0m \u001b[0mi\u001b[0m \u001b[0;32min\u001b[0m \u001b[0mresult\u001b[0m\u001b[0;34m:\u001b[0m\u001b[0;34m\u001b[0m\u001b[0;34m\u001b[0m\u001b[0m\n\u001b[0;32m--> 106\u001b[0;31m             \u001b[0mscore\u001b[0m \u001b[0;34m+=\u001b[0m \u001b[0mi\u001b[0m\u001b[0;34m.\u001b[0m\u001b[0mget\u001b[0m\u001b[0;34m(\u001b[0m\u001b[0;34m)\u001b[0m\u001b[0;34m\u001b[0m\u001b[0;34m\u001b[0m\u001b[0m\n\u001b[0m\u001b[1;32m    107\u001b[0m             \u001b[0mcnt\u001b[0m \u001b[0;34m+=\u001b[0m \u001b[0;36m1\u001b[0m\u001b[0;34m\u001b[0m\u001b[0;34m\u001b[0m\u001b[0m\n\u001b[1;32m    108\u001b[0m         \u001b[0mpool\u001b[0m\u001b[0;34m.\u001b[0m\u001b[0mclose\u001b[0m\u001b[0;34m(\u001b[0m\u001b[0;34m)\u001b[0m\u001b[0;34m\u001b[0m\u001b[0;34m\u001b[0m\u001b[0m\n",
            "\u001b[0;32m/usr/lib/python3.6/multiprocessing/pool.py\u001b[0m in \u001b[0;36mget\u001b[0;34m(self, timeout)\u001b[0m\n\u001b[1;32m    636\u001b[0m \u001b[0;34m\u001b[0m\u001b[0m\n\u001b[1;32m    637\u001b[0m     \u001b[0;32mdef\u001b[0m \u001b[0mget\u001b[0m\u001b[0;34m(\u001b[0m\u001b[0mself\u001b[0m\u001b[0;34m,\u001b[0m \u001b[0mtimeout\u001b[0m\u001b[0;34m=\u001b[0m\u001b[0;32mNone\u001b[0m\u001b[0;34m)\u001b[0m\u001b[0;34m:\u001b[0m\u001b[0;34m\u001b[0m\u001b[0;34m\u001b[0m\u001b[0m\n\u001b[0;32m--> 638\u001b[0;31m         \u001b[0mself\u001b[0m\u001b[0;34m.\u001b[0m\u001b[0mwait\u001b[0m\u001b[0;34m(\u001b[0m\u001b[0mtimeout\u001b[0m\u001b[0;34m)\u001b[0m\u001b[0;34m\u001b[0m\u001b[0;34m\u001b[0m\u001b[0m\n\u001b[0m\u001b[1;32m    639\u001b[0m         \u001b[0;32mif\u001b[0m \u001b[0;32mnot\u001b[0m \u001b[0mself\u001b[0m\u001b[0;34m.\u001b[0m\u001b[0mready\u001b[0m\u001b[0;34m(\u001b[0m\u001b[0;34m)\u001b[0m\u001b[0;34m:\u001b[0m\u001b[0;34m\u001b[0m\u001b[0;34m\u001b[0m\u001b[0m\n\u001b[1;32m    640\u001b[0m             \u001b[0;32mraise\u001b[0m \u001b[0mTimeoutError\u001b[0m\u001b[0;34m\u001b[0m\u001b[0;34m\u001b[0m\u001b[0m\n",
            "\u001b[0;32m/usr/lib/python3.6/multiprocessing/pool.py\u001b[0m in \u001b[0;36mwait\u001b[0;34m(self, timeout)\u001b[0m\n\u001b[1;32m    633\u001b[0m \u001b[0;34m\u001b[0m\u001b[0m\n\u001b[1;32m    634\u001b[0m     \u001b[0;32mdef\u001b[0m \u001b[0mwait\u001b[0m\u001b[0;34m(\u001b[0m\u001b[0mself\u001b[0m\u001b[0;34m,\u001b[0m \u001b[0mtimeout\u001b[0m\u001b[0;34m=\u001b[0m\u001b[0;32mNone\u001b[0m\u001b[0;34m)\u001b[0m\u001b[0;34m:\u001b[0m\u001b[0;34m\u001b[0m\u001b[0;34m\u001b[0m\u001b[0m\n\u001b[0;32m--> 635\u001b[0;31m         \u001b[0mself\u001b[0m\u001b[0;34m.\u001b[0m\u001b[0m_event\u001b[0m\u001b[0;34m.\u001b[0m\u001b[0mwait\u001b[0m\u001b[0;34m(\u001b[0m\u001b[0mtimeout\u001b[0m\u001b[0;34m)\u001b[0m\u001b[0;34m\u001b[0m\u001b[0;34m\u001b[0m\u001b[0m\n\u001b[0m\u001b[1;32m    636\u001b[0m \u001b[0;34m\u001b[0m\u001b[0m\n\u001b[1;32m    637\u001b[0m     \u001b[0;32mdef\u001b[0m \u001b[0mget\u001b[0m\u001b[0;34m(\u001b[0m\u001b[0mself\u001b[0m\u001b[0;34m,\u001b[0m \u001b[0mtimeout\u001b[0m\u001b[0;34m=\u001b[0m\u001b[0;32mNone\u001b[0m\u001b[0;34m)\u001b[0m\u001b[0;34m:\u001b[0m\u001b[0;34m\u001b[0m\u001b[0;34m\u001b[0m\u001b[0m\n",
            "\u001b[0;32m/usr/lib/python3.6/threading.py\u001b[0m in \u001b[0;36mwait\u001b[0;34m(self, timeout)\u001b[0m\n\u001b[1;32m    549\u001b[0m             \u001b[0msignaled\u001b[0m \u001b[0;34m=\u001b[0m \u001b[0mself\u001b[0m\u001b[0;34m.\u001b[0m\u001b[0m_flag\u001b[0m\u001b[0;34m\u001b[0m\u001b[0;34m\u001b[0m\u001b[0m\n\u001b[1;32m    550\u001b[0m             \u001b[0;32mif\u001b[0m \u001b[0;32mnot\u001b[0m \u001b[0msignaled\u001b[0m\u001b[0;34m:\u001b[0m\u001b[0;34m\u001b[0m\u001b[0;34m\u001b[0m\u001b[0m\n\u001b[0;32m--> 551\u001b[0;31m                 \u001b[0msignaled\u001b[0m \u001b[0;34m=\u001b[0m \u001b[0mself\u001b[0m\u001b[0;34m.\u001b[0m\u001b[0m_cond\u001b[0m\u001b[0;34m.\u001b[0m\u001b[0mwait\u001b[0m\u001b[0;34m(\u001b[0m\u001b[0mtimeout\u001b[0m\u001b[0;34m)\u001b[0m\u001b[0;34m\u001b[0m\u001b[0;34m\u001b[0m\u001b[0m\n\u001b[0m\u001b[1;32m    552\u001b[0m             \u001b[0;32mreturn\u001b[0m \u001b[0msignaled\u001b[0m\u001b[0;34m\u001b[0m\u001b[0;34m\u001b[0m\u001b[0m\n\u001b[1;32m    553\u001b[0m \u001b[0;34m\u001b[0m\u001b[0m\n",
            "\u001b[0;32m/usr/lib/python3.6/threading.py\u001b[0m in \u001b[0;36mwait\u001b[0;34m(self, timeout)\u001b[0m\n\u001b[1;32m    293\u001b[0m         \u001b[0;32mtry\u001b[0m\u001b[0;34m:\u001b[0m    \u001b[0;31m# restore state no matter what (e.g., KeyboardInterrupt)\u001b[0m\u001b[0;34m\u001b[0m\u001b[0;34m\u001b[0m\u001b[0m\n\u001b[1;32m    294\u001b[0m             \u001b[0;32mif\u001b[0m \u001b[0mtimeout\u001b[0m \u001b[0;32mis\u001b[0m \u001b[0;32mNone\u001b[0m\u001b[0;34m:\u001b[0m\u001b[0;34m\u001b[0m\u001b[0;34m\u001b[0m\u001b[0m\n\u001b[0;32m--> 295\u001b[0;31m                 \u001b[0mwaiter\u001b[0m\u001b[0;34m.\u001b[0m\u001b[0macquire\u001b[0m\u001b[0;34m(\u001b[0m\u001b[0;34m)\u001b[0m\u001b[0;34m\u001b[0m\u001b[0;34m\u001b[0m\u001b[0m\n\u001b[0m\u001b[1;32m    296\u001b[0m                 \u001b[0mgotit\u001b[0m \u001b[0;34m=\u001b[0m \u001b[0;32mTrue\u001b[0m\u001b[0;34m\u001b[0m\u001b[0;34m\u001b[0m\u001b[0m\n\u001b[1;32m    297\u001b[0m             \u001b[0;32melse\u001b[0m\u001b[0;34m:\u001b[0m\u001b[0;34m\u001b[0m\u001b[0;34m\u001b[0m\u001b[0m\n",
            "\u001b[0;31mKeyboardInterrupt\u001b[0m: "
          ]
        }
      ]
    },
    {
      "cell_type": "code",
      "metadata": {
        "id": "LXQO-Jt-1frU",
        "colab_type": "code",
        "outputId": "221db376-62fc-478d-9e23-6d75db012e69",
        "colab": {
          "base_uri": "https://localhost:8080/",
          "height": 34
        }
      },
      "source": [
        "instructor.adv_train_generator(1)"
      ],
      "execution_count": 6,
      "outputs": [
        {
          "output_type": "execute_result",
          "data": {
            "text/plain": [
              "0.6929979920387268"
            ]
          },
          "metadata": {
            "tags": []
          },
          "execution_count": 6
        }
      ]
    },
    {
      "cell_type": "code",
      "metadata": {
        "id": "s10O_XKn1frf",
        "colab_type": "code",
        "outputId": "de4200d0-ca22-4e28-e088-5a81d1268ab0",
        "colab": {
          "base_uri": "https://localhost:8080/",
          "height": 34
        }
      },
      "source": [
        "instructor.adv_train_discriminator(5)"
      ],
      "execution_count": 7,
      "outputs": [
        {
          "output_type": "execute_result",
          "data": {
            "text/plain": [
              "0.6929468870162964"
            ]
          },
          "metadata": {
            "tags": []
          },
          "execution_count": 7
        }
      ]
    },
    {
      "cell_type": "code",
      "metadata": {
        "id": "ewaGv5wf1frw",
        "colab_type": "code",
        "colab": {
          "base_uri": "https://localhost:8080/",
          "height": 1000
        },
        "outputId": "74b476be-3c31-4c5e-cb9e-6e4f5a13e183"
      },
      "source": [
        "# instructor.gen.sample()\n",
        "from utils.dataloader import GANDataset, GenDataIter\n",
        "from utils.preprocess import *\n",
        "SAMPLES_NUM = 100\n",
        "BATCH_SIZE = 64\n",
        "\n",
        "eval_samples = instructor.gen.sample(SAMPLES_NUM, 4 * BATCH_SIZE)\n",
        "gen_tokens = tensor_to_tokens(eval_samples, instructor.idx2word_dict)\n",
        "for el in gen_tokens:\n",
        "    print(el)\n",
        "    print()"
      ],
      "execution_count": 9,
      "outputs": [
        {
          "output_type": "stream",
          "text": [
            "['at', 'least', 'at', 'a', 'brilliant', 'estadio', 'maracaná', '.']\n",
            "\n",
            "['general', 'manager', 'anton', 'rayney', 'has', 'quickly', 'its', 'seemingly', 'breakfast', 'made', 'by', 'an', 'off-duty', 'results', 'manager', 'marco', 'and', 'carries', 'in', 'this', 'weekend', ',', 'a', 'new', 'york', 'athletic', 'police', 'officer', ',', 'where', 'no', 'feature', 'by', 'medical', 'attack', 'in', '2007', 'in', 'new', 'york', 'city', 'on', 'thursday', '.']\n",
            "\n",
            "['(', 'cnn', ')', '--', 'mitt', 'romney', 'will', 'officially', 'led', 'by', 'the', 'wake', 'of', 'a', 'hearing', 'in', 'a', 'cold', '.']\n",
            "\n",
            "['austin', '--', 'marissa', 'rafael', 'cruzgrew', ':', '4', 'a.m.', ',', 'mass', 'tore', 'through', 'his', 'car', 'and', 'colder', 'days', ',', 'five', 'months', 'that', 'i', 'called', 'the', 'equally', 'medindie', 'gabbert', 'and', 'careers', 'oversight', 'and', 'a', 'handful', 'of', 'playstation', 'vr', 'is', 'you', 'ready', 'how', 'to', 'be', 'rather', 'than', '$', '1', 'million', 'in', 'the', 'gm']\n",
            "\n",
            "['everyone', 'for', 'tuesday', 'after', 'its', 'german', 'campaign', 'while', 'he', 'was', 'seen', 'at', '$', '100', 'has', 'a', 'christian', 'contest', ',', 'but', 'you', 'can', 'be', 'this', 'services', 'and', 'intelligence', 'agencies', '.']\n",
            "\n",
            "['tammy', 'frontman', 'has', 'one', 'of', 'the', 'u.s.', 'american', 'league', 'championship', 'game', 'against', 'which', 'became', 'a', 'palo', 'alto', 'near', 'the', 'investigation', 'for', 'police', '2011', 'hospital', 'on', 'google', 'shows', ',', 'according', 'to', 'a', 'report', 'yet', 'more', 'than', 'life', 'on', 'partially', 'counted', ',', 'supporters', 'can', 'attend', 'alleged', 'compliance', ',', 'all', 'common', 'faster', ',']\n",
            "\n",
            "['there', 'could', 'have', 'plenty', 'of', 'american', 'wheels', 'aggression', ',', 'but', 'called', 'it', 'and', 'so', 'much', 'more', 'fees', 'you', '.']\n",
            "\n",
            "['how', 'has', 'simply', 'wait', '?']\n",
            "\n",
            "['last', 'month', ',', 'whose', 'week', 'ikea', 'who', 'runs', 'to', 'take', 'vengeance', 'as', 'the', 'military', 'media', 'marketing', 'to', 'that', 'experts', 'are', 'worth', 'as', 'a', 'receiving', '``', '2', 'miles', 'in', 'san', 'bernardino', ',', 'but', '.']\n",
            "\n",
            "['*', 'firewalls', ',', 'all', 'facebook', 'cnn', 'fired', 'with', 'a', 'apartment', 'on', 'flight', 'passed', 'tuesday', 'after', 'a', 'public', 'web', 'account', 'during', 'the', 'huge', 'big', 'rise', 'of', 'waywireâ\\x80\\x99s', 'networks', 'across', 'the', 'chairman', 'of', '(', '200', 'mph', ')', '.']\n",
            "\n",
            "['it', 'was', 'a', 'fresh-faced', 'team', 'has', 'been', 'convicted', 'ahead', 'of', 'serbia', '.']\n",
            "\n",
            "['have', 'expected', 'to', 'open', 'virtual', 'memorial', 'mileage', 'weekend', 'against', 'the', 'suicide', 'bleed', 'waving', ',', 'acquiring', 'lumberton', ';', 'what', 'was', 'first', 'published', '.']\n",
            "\n",
            "['facebook', 'your', 'password', 'isn', 'is', 'making', 'this', 'past', 'week', 'and', ',', 'despite', 'a', 'shot', 'to', 'kaputâ\\x80\\x94the', 'presents', ',', 'stems', 'on', 'wednesday', 'or', 'tin', 'a', 'college', ',', 'where', 'efforts', 'to', 'uphold', 'banker', 'on', 'system', '.']\n",
            "\n",
            "['doctor', 'accused', 'of', 'doing', '—', 'these', 'public', 'apologies', ',', 'and', 'her', 'real-life', 'life', 'stands', 'helped', 'force', 'finance', 'deals', 'in', 'venus', 'college', 'on', '.']\n",
            "\n",
            "['uma', 'khan', 'announced', 'by', 'a', 'career-high', 'gone', 'on', \"'normal\", ',', 'canada', 'tgt', 'on', 'friday', 'afternoon', 'when', 'the', 'region', 'was', 'hacked', '.']\n",
            "\n",
            "['russian', 'city', ',', 'lady', 'gaga', 'was', 'decommissioned', 'and', '10th-largest', 'matos', '.']\n",
            "\n",
            "['dave', 'grohl', '.']\n",
            "\n",
            "['before', 'you', 'go', ',', 'we', 'thought', 'we', \"'d\", 'like', 'these', '...']\n",
            "\n",
            "['afghan', 'forces', ',', 'donald', 'trump', 'looks', 'like', 'a', 'eager', 'for', 'a', 'price', 'laughed', '.']\n",
            "\n",
            "['the', 'grade', 'health', 'organization', \"'s\", 'whereabouts', '.']\n",
            "\n",
            "['on', 'google', \"'s\", 'new', 'england', 'patriots', 'at', 'training', 'percent', 'hikes', 'for', 'the', 'early', 'venture', 'presidential', 'campaign', ',', 'they', 'also', 'reached', 'off', 'how', 'a', 'transgender', 'party', 'run', 'room', 'of', 'upcoming', 'owners', 'of', 'state', 'supporters', 'gathered', 'wednesday', '.']\n",
            "\n",
            "['one', 'king', 'usually', 'deng', 'and', 'hallucinations', 'out', 'of', 'their', 'bilateral', 'percent', 'of', 'entering', 'yahoo', '(', 'ira', ')', '(', 'ap', 'photo/ria-novosti', ')', '--', 'president', 'vladimir', 'putin', ',', 'england', 'has', 'simply', 'with', 'chicago', 'the', 'military', 'hires', ',', 'they', 'were', 'stuck', 'with', 'in', 'elementary', 'school', ',', 'yes', 'proposed', 'racial', 'as', 'if', 'they', 'was']\n",
            "\n",
            "['brindisi', 'we', 'see', 'how', 'much', 'like', 'better', ',', '3', '.']\n",
            "\n",
            "['—', 'the', 'us', 'bound', 'around', 'uncertainties', 'on', 'monday', 'night', ',', 'and', 'zero', 'symptoms', ':', \"de'asia\", 'dibuja', '(', 'ricardo', 'dearatanha', '?']\n",
            "\n",
            "['one', 'of', 'iranian', 'original', 'console', 'and', 'stability', 'the', 'awards-film', '.']\n",
            "\n",
            "['as', 'in', 'a', 'folktale', 'that', 'the', 'attempted', 'island', 'with', 'a', 'bottle', 'of', 'them', '.']\n",
            "\n",
            "['two', 'premier', 'ryan', 'introduced', 'by', 'natalie', 'official', 'pistorius', ',', 'so', 'a', 'pga', 'baltimore', 'king', 'said', 'in', 'gothenburg', ',', 'carmen', 'three', 'people', 'following', 'a', 'society', 'and', 'on', 'the', 'interview', 'with', 'cancer', 'belgian', 'shades', 'and', 'most', 'contemporary', 'additives', 'kate', 'beach', 'and', 'forlorn', 'altitude', 'until', 'he', 'almost', 'a', 'precise', 'global', 'battle', 'of', 'a']\n",
            "\n",
            "['meyer', 'on', 'to', 'the', 'terrorist', 'losses', ',', 'to', 'threatening', 'to', 'be', 'partially', 'hydrogenated', 'adams', 'porter', 'el', 'lang', 'after', 'being', 'teasing', 'records', 'answers', 'as', 'one', 'senses', 'it', 'juan', 'tom', 'perry', 'now', 'seems', 'into', 'new', 'hired', 'the', 'indigenous', '“', 'given', 'new', '$', '70', 'million', '!', '”', \"'s\", 'research', 'to', 'open', 'the', 'prison']\n",
            "\n",
            "['when', 'the', 'police', 'said', 'he', 'had', 'identified', 'as', 'her', 'husband', ',', 'captioned', '01/14/2015', 'at', 'sussex', ',', 'as', 'the', '30th', 'artist', 'and', 'it', 'completely', 'toxic', 'in', 'arizona', 'rep.', 'johnny', 'chávez', \"'s\", 'withdrawal', '-', 'a', 'military', 'gray', 'is', 'anxious', 'its', 'dreary', 'infesting', 'the', 'talents', '.']\n",
            "\n",
            "['lawyers', 'was', 'a', 'real', 'debut', 'album', 'gives', 'many', 'common', '?']\n",
            "\n",
            "['president', 'vladimir', 'putin', ':', 'to', 'their', 'name', ',', 'has', 'the', 'creature', '.']\n",
            "\n",
            "['mexico', '\\x97', 'sunday', ',', 'june', '14th', '2007', ',', 'performs', 'by', 'christian', 'faux', 'is', 'all', 'as', 'a', 'also', 'motorist', 'of', 'the', 'tougher', 'to', 'revise', 'only', 'now', '–', 'the', 'destructive', 'online', 'pension', 'releases', '.']\n",
            "\n",
            "['just', 'hours', 'the', 'former', 'doctor', ',', 'a', 'confirmed', 'friday', ',', 'may', 'be', 'some', 'of', 'the', '2008', 'icebreaker', 'crush', 'that', 'they', 'might', 'not', 'be', 'able', 'to', 'a', 'life', 'by', 'great', 'kosher', 'texas', '.']\n",
            "\n",
            "['a', 'shooting', 'letter', 'asked', 'by', 'investors', 'when', 'in', 'the', 'world', '.']\n",
            "\n",
            "['islamabad', 'state', 'during', 'the', 'air', 'home', 'run', ')', 'based', 'on', 'thursday', 'won', 'a', 'referendum', 'on', 'its', 'kitchen', 'anti-corruption', 'tuesday', ',', 'aug.', '21', ',', '2015', ',', 'splunk', 'police', 'et', 'the', '$', '35', 'million', 'has', 'also', 'spent', 'in', 'terrorism', 'mass', 'than', 'train', 'running', 'to', '6.5', 'million', 'amenities', 'forward', 'or', '.']\n",
            "\n",
            "['the', 'name', 'originates', 'and', 'reception', 'from', 'hamas', 'in', 'a', 'medical', 'stingray', 'commando', 'robbery', 'delivered', 'the', 'talent', 'for', 'jihadists', '.']\n",
            "\n",
            "['as', 'well', 'an', 'event', 'comes', 'last', 'month', ',', 'russian', ',', 'after', 'a', 'new', 'minister', 'first', 'runner', 'in', 'a', 'row', 'of', 'an', 'show', 'state', 'of', 'esmeraldas', ',', 'but', 'both', '$', 'big', '--', 'defined', 'them', 'cuzens', '.']\n",
            "\n",
            "['image', ':', 'afp', '|', 'afp', '|', 'getty', 'images', 'this', 'week', ',', 'with', 'wesley', 'teamed', 'to', 'phil', 'jackson', '’', 's', 'nuclear', 'have', 'made', 'yet', '.']\n",
            "\n",
            "['just', ',', 'paused', 'a', 'firestorm', 'during', 'a', 'geely', 'radius', ',', '“', 'fool', 'me', \"''\", 'lobbies', 'in', 'the', 'first', 'nra', 'title', ',', 'which', 'while', 'he', 'was', 'shot', 'late', 'wednesday', ',', 'february', '2009', ',', '2001', 'the', 'copa', 'boy', '.']\n",
            "\n",
            "['adele', 'is', 'the', 'next', 'week', 'far', 'for', 'your', 'father', 'of', 'his', 'mother', 'and', 'sprint', 'legislators', 'minister', 'tim', 'pincus', 'that', 'to', 'win', 'him', 'to', 'all', 'a', 'large', 'public', 'goal', 'at', 'at', 'least', 'you', 'long', '.']\n",
            "\n",
            "['london', '—', 'silvio', 'regiment', '—', 'has', 'already', 'anxious', 'daunting', 'when', 'the', 'points', ':', 'were', 'among', 'people', 'in', '30-gig', 'and', 'in', 'a', 'shortage', 'that', 'his', 'practical', 'series', '.']\n",
            "\n",
            "['johnny', 'loans—whose', 'opens', 'easy', 'to', 'movie', 'owners', 'bigger', ',', 'who', 'would', 'have', 'shown', 'in', 'addition', 'to', 'the', 'zone', 'sketches', '–', 'in', 'a', 'appeal', 'in', 'manhattan', '.']\n",
            "\n",
            "['chicago', 'boys', 'does', 'not', 'necessarily', 'the', 'number', 'day', 'for', 'the', '``', 'late', 'night', 'and', 'the', 'capital', 'of', 'a', 'whitecaps', 'industry', 'firm', '.']\n",
            "\n",
            "['``', 'megatoad', 'sucks', '”', 'from', 'your', 'vapor', '’', 's', 'cd', ',', \"''\", 'williams', '?']\n",
            "\n",
            "['the', 'gop', 'stadium', 'in', 'san', 'francisco', '49ers', 'might', 'be', ',', 'george', 'motyl', '’', 's', 'world', 'series', 'saturday', '.']\n",
            "\n",
            "['the', 'target', 'on', 'his', 'wi-fi', 'video', '“', 'gma', 'of', 'photo', ':', 'a', 'same', 'stock', 'room', \"''\", 'treated', 'for', 'facebook', '.']\n",
            "\n",
            "['what', 'can', 'tell', 'you', 'biggest', 'katherine', 'baldwin', '—', 'is', 'forces', 'in', 'a', 'back', 'expected', 'to', 'postpone', 'to', 'shelter', 'software', 'in', '2010', ',', 'upping', 'the', 'washington', 'university', 'and', 'minor', 'painting', 'all', 'off', 'the', 'netherlands', 'yesterday', 'today', '.']\n",
            "\n",
            "['this', 'transcript', 'was', 'taken', 'in', 'a', 'las', 'vegas', 'for', 'the', 'last', 'september', 'season', '.']\n",
            "\n",
            "['by', 'republicans', 'did', \"n't\", 'patronize', 'a', 'labor', 'day', 'of', 'some', 'larry', 'petrozzello', 'if', 'they', 'do', 'not', 'there', ',', 'when', 'they', 'at', 'the', 'nail-biter', 'last', 'week', 'and', 'informally', 'on', 'wednesday', '.']\n",
            "\n",
            "['china', '’', 's', 'large', 'road', 'to', 'put', 'those', 'feel', ',', 'a', 'recent', 'huge', 'machines', 'was', 'holding', 'writing', 'among', 'other', 'cars', 'at', 'the', 'affordable', 'of', 'wight', 'on', 'the', 'system', 'or', 'they', \"'re\", 'treated', 'to', 'the', 'most', 'r-rated', 'kreme', 'r-rated', 'notions', '.']\n",
            "\n",
            "['detroit', 'again', 'by', 'bison', 'culture', 'opinion', 'for', 'the', 'testing', '17:41:34', 'blue', 'prize', 'sequel', 'to', 'that', 'in', 'another', 'legal', 'education', 'heads', 'early', 'weeks', 'a', 'morning', 'off', 'by', 'an', 'st.', 'wayne', 'news', ')', 'garden', 'and', 'creationist', 'was', 'raised', 'the', 'aircraft', 'claims', 'it', 'was', 'decidedly', 'muslims', 'at', 'the', 'area', 'of', 'tragedies', ',', 'the']\n",
            "\n",
            "['while', 'a', 'workplace', 'information', 'victims', '.']\n",
            "\n",
            "['said', 'it', 'off', 'its', 'sharper', 'of', 'one', 'of', 'malaysia', 'and', 'todd', 'komo', 'and', 'most', 'met', '9', ',', 'to', 'an', 'accord', 'might', 'mobile', 'deals', 'for', 'leukemia', '.']\n",
            "\n",
            "['sunday', '(', '$', '128million', ')', 'by', 'vice', 'president', 'accidentally', 'will', 'look', 'like', 'to', 'improve', 'the', 'journal', 'white', 'house', '2', 'per', 'presidential', 'candidate', 'during', 'northern', 'ireland', '.']\n",
            "\n",
            "['new', 'international', 'features', 'comes', 'on', 'friday', \"'s\", 'scientist', 'and', 'two', 'security', 'forces', 'for', 'the', 'pair', 'of', 'a', 'surgeon', ',', 'sending', 'for', 'about', 'june', 'and', 'it', 'the', 'short', 'assembly', 'won', '.']\n",
            "\n",
            "['retail', 'medical', 'marketing', 'returns', 'spell', 'her', 'husband', 'on', 'mike', \"d'antoni\", 'and', 'the', 'hammonds', 'set', 'too', 'budged', 'after', 'plenty', 'riding', 'and', 'mined', 'to', 'celebrate', 'in', 'the', 'novo-ogaryovo', 'asserted', 'that', 'the', 'hotly', 'call', 'for', 'a', 'role', 'of', 'islamic', 'state', 'department', '’', 's', 'sensex', 'service', 'to', 'accept', 'the', 'brooklyn', 'war', 'lit', 'up', 'to']\n",
            "\n",
            "['beverages', 'and', 'multiple', 'illegal', 'immigrants', 'is', 'aiming', 'to', 'be', 'released', 'friday', '.']\n",
            "\n",
            "['the', 'athlete', 'children', 'said', 'the', 'preppy', 'ambassador', 'have', 'sex', 'dedicated', 'to', 'horse-trade', 'are', 'not', 'authorized', 'with', 'a', 'centers', 'for', 'certain', 'opposition', 'street', 'under', 'the', 'summer', '.']\n",
            "\n",
            "['(', 'updated', 'oct', '17', ')', 'tag', 'and', 'who', 'ca', \"n't\", 'add', 'a', 'neighbor', 'sent', 'your', 'digital', 'threat', 'of', 'social', 'million', 'attention', 'near', '$', '39.5', 'per', 'group', '.']\n",
            "\n",
            "['it', 'brings', 'her', '&', 'huntsman', 'daily', 'news', 'secretary', 'ken', 'salazar', 'was', 'special', 'closer', ',', 'his', 'new', 'headquarters', 'when', 'the', 'governor-elect', 'may', '2015', 'and', 'their', 'dysfunctional', ',', 'told', 'america', '’', 's', 'health', 'care', 'show', 'for', 'every', 'role', '.']\n",
            "\n",
            "['``', 'i', 'donâ\\x80\\x99t', 'come', 'from', 'being', 'certain', 'fish', '.', \"''\"]\n",
            "\n",
            "['when', 'she', 'says', 'he', 'would', 'do', 'even', 'normal', '.']\n",
            "\n",
            "['those', 'making', 'a', 'jury', 'app', 'creek', 'games', 'prize', 'rose', 'basel', 'biliton', 'and', 'his', 'comments', 'were', 'among', 'vogue', 'radical', 'valry', 'was', 'warmed', 'out', 'in', 'the', 'prospect', 'of', 'skinny', 'and', 'mined', 'for', 'unfairly', 'cameras', 'with', 'well-connected', '.']\n",
            "\n",
            "['as', 'mere', 'cottage', 'in', 'possession', 'as', 'lives', 'earlier', 'tuesday', 'saying', 'his', 'while', 'possible', 'hysteria', 'unit', 'on', 'the', 'pact', 'announced', '.']\n",
            "\n",
            "['updated', '11:52', 'am', 'edt', 'in', 'the', 'region', 'and', 'renaissance', ',', 'has', 'guilty', 'of', 'becoming', 'stock', 'in', 'the', 'park', 'and', 'the', 'hammonds', 'medical', 'eight-show', 'business', 'and', 'home', 'naming', 'the', 'best', 'drama', '.']\n",
            "\n",
            "['the', 'national', 'consumer-watchdog', 'society', 'that', 'knows', 'that', 'have', 'ever', 'put', 'a', 'slice', 'together', 'to', 'the', 'missing', 'materials', ',', 'but', 'in', 'this', 'time', 'there', 'for', 'chelsea', '.']\n",
            "\n",
            "['it', \"'s\", 'ex-wife', 'fatally', 'just', 'bought', 'with', 'his', 'body', 'and', 'clyde', 'at', 'a', 'minimum-wage', 'new', 'moon', ',', 'a', 'small', 'issue', ',', 'resetting', ',', 'but', 'is', 'keeril', 'permits', '(', 'could', 'be', 'stepping', 'down', 'by', 'plenty', 'and', 'she', \"'s\", 'not', 'in', 'the', 'keystone', 'marker', 'and', 'instead', '?']\n",
            "\n",
            "['city', \"'s\", 'atlanta', '—', 'after', '“', 'moonrise', 'people', 'or', 'we', '’', 're', 'safe', 'purchase', ',', \"''\", 'bulger', ',', 'is', 'to', 'bustle', '.']\n",
            "\n",
            "['huber', 'hansen', 'that', 'boring', ',', 'idomeni', ',', 'we', 'can', 'be', 'in', 'washington', ',', 'who', 'felt', 'related', 'last', 'year', ',', 'the', 'most', 'prestigious', 'publisher', 'and', 'one', 'way', 'a', 'sample', 'was', 'ruined', 'the', 'a', 'rough', 'sign', 'for', 'himself', 'from', 'new-car', 'bumping', '.']\n",
            "\n",
            "['alpine', 'kimmel', 'liberty', 'regardless', 'william', 'koch', '``', 'gingerbread', '”', 'p-orridge', ',', 'and', 'hungarian', 'political', 'stadium', 'in', 'manhattan', 'federal', 'prison', 'this', 'season', ',', 'a', 'sex', 'technology', 'set', 'from', 'young', 'state', 'will', 'lead', 'through', 'personal', 'basement', 'parks', 'the', 'operation', '.']\n",
            "\n",
            "['the', 'two', 'sisters', 'of', 'unspeakable', 'seaworld', 'civil', 'ikea', 'said', 'saturday', 'also', 'been', 'close', 'to', '“', 'five', 'men', '.']\n",
            "\n",
            "['bob', 'gibbs', 'loans—whose', 'was', 'to', 'fiesta', 'alto', 'professionals', 'seemed', 'to', 'the', 'attack', '.']\n",
            "\n",
            "['in', '1939', 'toward', 'jupiter', 'to', 'swear', 'created', 'a', 'mainstream', 'ally', 'different', 'than', 'a', 'listed', 'car', ',', 'canadians', 'and', 'kissing', ',', 'because', 'in', 'pixels', '.']\n",
            "\n",
            "['actor', 'drogen', \"'s\", 'lawyer', 'medstar', 'invitations', 'los', 'angeles', 'as', 'he', 'was', 'an', 'rapper', 'owner', 'racing', 'resulting', 'to', 'see', 'the', 'deal', 'on', 'most', 'shore', 'of', 'lay-offs', 'investigation', '.']\n",
            "\n",
            "['the', 'movie', 'pile', 'up', 'left', 'out', 'to', 'get', 'expected', 'to', 'offset', 'people', 'about', 'him', 'vs', 'detention', 'garden', '.']\n",
            "\n",
            "['in', 'the', 'woman', 'and', 'foremost', 'pappireddi', ',', 'the', 'democratic', 'party', ',', 'june', '17', ',', 'a', 'spokeswoman', 'singer', 'king', 'racing', 'and', 'security', 'store', ',', 'with', 'several', 'titles', 'where', 'mcdonald', \"'s\", 'husband', 'is', 'perhaps', 'tranquility', '.']\n",
            "\n",
            "['miami', '—', 'people', 'are', 'doing', 'in', '30-gig', 'and', 'as', 'well', 'as', 'one', 'thing', 'and', 'one', 'with', 'tropical', 'wooden', 'dreyfus', 'says', 'he', 'says', 'that', 'was', 'stepping', 'down', 'the', 'consultant', ',', 'meaning', '.']\n",
            "\n",
            "['uma', 'winslet', ',', 'while', 'the', 'u.n.', 'tell', 'the', 'visiting', 'rod', 'story', 'associated', 'press', 'appeared', 'by', 'dismay', 'the', 'undercover', 'grandmother', 'had', 'a', 'belgian', 'time', 'in', 'park', 'and', 'russell', 'to', 'please', 'each', 'other', 'countries', 'in', 'the', 'task', '.']\n",
            "\n",
            "['there', \"'s\", 'a', 'passenger', '19-year-old', '``', 'quickly', 'arrived', 'turned', ',', 'it', 'was', 'going', 'to', 'business', 'over', 'this', 'way', '.']\n",
            "\n",
            "['canâ\\x80\\x99t', 'all', 'unauthorized', '8pm', 'on', 'his', 'handling', 'the', 'public', 'world', 'cup', 'finalist', 'readers', ',', 'on', 'the', 'relationship', 'with', 'that', 'much', 'like', 'her', 'result', ',', 'and', 'hungarian', 'as', 'well', 'as', 'well', 'as', '$', '100', 'million', 'and', ',', 'and', 'most', 'breaking', '?']\n",
            "\n",
            "['if', 'you', 'might', 'have', 'heard', 'to', 'officially', 'about', 'to', 'florida', 'championship', 'shop', '.']\n",
            "\n",
            "['bp', '’', 's', 'iconic', 'remarks', ',', 'capped', 'as', '4', 'percent', 'designer', 'outside', ',', 'have', 'known', 'as', 'a', 'whole', 'gun', 'at', 'riverside', 'from', 'harris', '’', 's', 'own', 'civil', 'rights', 'wandsworth', 'reality', 'show', ',', 'of', 'decomposition', ',', 'any', ',', 'officials', 'or', 'decent', '.']\n",
            "\n",
            "['the', 'crook', 'new', 'north', 'asian', 'jet', '.']\n",
            "\n",
            "['it', 'rafael', 'tổng', 'star', \"'s\", 'prison', 'for', 'the', 'museum', 'of', 'former', 'senate', 'assembly', 'and', '80-gig', 'capacities', '.']\n",
            "\n",
            "['(', 'oprah.com', '--', 'over', 'the', 'second', 'texas', 'poll', 'away', 'from', 'volunteers', ',', 'which', 'has', 'seen', 'for', 'such', 'as', 'kate', 'interface', ',', 'and', 'read', 'on', 'thursday', 'morning', 'marks', 'television', ',', 'exactly', 'at', 'those', 'shipping', 'journey', '.']\n",
            "\n",
            "['the', 'associated', 'press2014-08-10', ':', 'bishop', 'by', 'mariah', 'paulo', 'freedman', ',', '“', 'at', 'a', 'few', 'years', 'of', 'a', 'woman', 'is', 'one', 'that', 'have', '?']\n",
            "\n",
            "['the', 'mayor', 'de', 'mistura', 'said', 'buffett', 'phenom', 'volatility', 'a', 'teaser', 'unfolding', 'behind', 'their', 'kitchen', 'above', 'with', 'it', \"'s\", 'completely', 'asprey', 'personalities', 'such', '?']\n",
            "\n",
            "['ask', 'high', 'means', 'definitive', 'year', ',', 'receive', 'the', 'time', 'sweating', 'to', 'open', 'sexual', 'to', 'sign', ',', 'where', 'they', 'were', 'working', '.']\n",
            "\n",
            "['shazia', 'ramzan', ',', 'according', 'to', 'ray', 'rice', 'urged', 'a', 'study', 'released', 'thursday', 'stories', ',', 'and', 'the', 'state', 'department', 'administration', 'said', ',', 'and', 'the', 'release', 'of', 'a', '33-year', 'woman', 'was', 'allowed', 'down', '.']\n",
            "\n",
            "['an', 'surest', 'branch', 'of', 'the', 'laughter', 'of', 'alex', 'balcomb', ',', 'south', 'korea', 'to', 'reach', 'supporters', 'in', 'a', 'western', 'revealed', 'today', '.']\n",
            "\n",
            "['(', 'photo', ':', 'the', 'news', 'release', 'continues', 'to', 'a', 'young', 'teen', 'member', 'of', 'two', 'districts', 'put', 'to', 'show', 'with', 'millions', 'of', 'islamists', 'themselves', 'on', 'to', 'rebuild', 'workers', '.']\n",
            "\n",
            "['a', 'christian', 'soros', 'state', 'of', 'a', 'free', 'victory', 'after', 'details', 'after', 'initially', 'the', 'collaborators', 'estates', ',', 'but', 'photography', 'calls', 'for', '$', '20,000', 'and', 'trust', ',', 'invited', 'a', 'basket', 'run', 'in', 'odessa', ',', 'including', 'your', 'spirited', 'range', '.']\n",
            "\n",
            "['in', 'recent', 'wisconsin', 'time', 'is', 'expected', 'just', 'just', 'on', 'a', 'tour', 'of', 'his', 'person', 'or', 'coverage', '.', \"''\"]\n",
            "\n",
            "['security', 'today', '(', 'ira', ')', ',', 'have', 'a', 'rajasthani', 'vibe', 'ruled', 'a', 'reprieve', ',', 'he', 'was', 'due', 'to', 'consider', 'right', 'wife', 'calling', 'asia', 'ever', 'decades', 'old', 'and', 'go', 'are', 'in', 'the', 'journal', 'sentence', 'in', 'washington', '.']\n",
            "\n",
            "['kerry', 'ana', 'for', 'in', 'the', 'path', 'for', 'a', 'national', 'championship', 'game', 'board', 'of', 'father-to-be', 'in', 'large', 'charges', 'in', 'tribeca', 'and', 'a', 'month', 'cop', 'say', '?']\n",
            "\n",
            "['brains', 'for', 'negligence', 'in', 'the', 'spicy', ',', 'south', 'percent', 'these', 'mixed', ',', 'an', 'official', 'dentist', 'said', 'in', 'a', 'half', 'may', '2013', 'in', 'the', '1990s', '.']\n",
            "\n",
            "['said', 'for', 'his', 'lawyer', 'around', 'his', 'fans', 'lost', 'by', 'washington', '--', '“', 'we', 'might', 'be', 'true', ',', \"''\", 'may', '2013', ',', '20', ',', '2014', ',', 'was', 'the', 'incident', ',', 'vhs', 'backman', ',', 'south', 'part', 'of', 'a', '“', 'will', 'impact', 'something', 'wildly', 'indication', ',', '”', 'your', 'culture', 'of', 'severe', '.']\n",
            "\n",
            "['so', 'excited', 'continue', 'to', 'put', 'forth', 'in', 'one', 'piece', 'and', 'the', 'source', 'once', 'will', 'be', 'starting', 'by', 'the', 'move', 'over', 'the', 'house', 'with', 'previous', 'design', ',', 'dominick', '’', 's', 'campaign', 'on', 'facebook', ',', 'the', 'country', '.']\n",
            "\n",
            "['how', 'has', 'running', ',', 'with', '...', 'and', 'it', 'presidency', '.']\n",
            "\n",
            "['“', '(', 'credit', ':', 'jon', 'c.', 'lã¡piz', '!', \"''\"]\n",
            "\n"
          ],
          "name": "stdout"
        }
      ]
    },
    {
      "cell_type": "code",
      "metadata": {
        "id": "oRdxv3V71fsO",
        "colab_type": "code",
        "colab": {}
      },
      "source": [
        ""
      ],
      "execution_count": 0,
      "outputs": []
    }
  ]
}