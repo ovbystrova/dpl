{
 "cells": [
  {
   "cell_type": "code",
   "execution_count": 0,
   "metadata": {
    "colab": {},
    "colab_type": "code",
    "id": "DK907QwF1kU1"
   },
   "outputs": [],
   "source": [
    "%%capture\n",
    "!git clone https://github.com/ovbystrova/dpl.git\n",
    "import os\n",
    "os.chdir('/content/dpl')"
   ]
  },
  {
   "cell_type": "code",
   "execution_count": 0,
   "metadata": {
    "colab": {
     "base_uri": "https://localhost:8080/",
     "height": 67
    },
    "colab_type": "code",
    "id": "V1HashLH4Bmp",
    "outputId": "35ec170c-6319-419c-f865-23dca0b0a923"
   },
   "outputs": [
    {
     "name": "stdout",
     "output_type": "stream",
     "text": [
      "[nltk_data] Downloading package punkt to /root/nltk_data...\n",
      "[nltk_data]   Package punkt is already up-to-date!\n"
     ]
    },
    {
     "data": {
      "text/plain": [
       "True"
      ]
     },
     "execution_count": 4,
     "metadata": {
      "tags": []
     },
     "output_type": "execute_result"
    }
   ],
   "source": [
    "import nltk\n",
    "nltk.download(\"punkt\")"
   ]
  },
  {
   "cell_type": "code",
   "execution_count": 0,
   "metadata": {
    "colab": {},
    "colab_type": "code",
    "id": "xmuXfE5R9b3-"
   },
   "outputs": [],
   "source": [
    "%%capture\n",
    "!pip install wandb\n",
    "!wandb login f8f94eb27e8354be8a2e605744716cc20b96502e"
   ]
  },
  {
   "cell_type": "code",
   "execution_count": 0,
   "metadata": {
    "colab": {},
    "colab_type": "code",
    "id": "Y-PwTI3AJTWY"
   },
   "outputs": [],
   "source": [
    "import configuration as cfg\n",
    "DATA_PATH = r\"data\"\n",
    "wandb_config = {\n",
    "    'gan' : 'relgan',\n",
    "    'batch_size' : cfg.BATCH_SIZE,\n",
    "    'test_samples' : 2000,\n",
    "    'temperatur_update' : cfg.TEMP_ADPT,\n",
    "    'texts_size' : '20k',\n",
    "    'max_temperature' : cfg.TEMPERATURE,\n",
    "    'mle_train_epochs' : cfg.MLE_train_epoch,\n",
    "    'adversarial_epochs' : cfg.ADV_train_epoch,\n",
    "    'clip_norm' : cfg.CLIP_NORM,\n",
    "    'discriminator' : 'relgan'\n",
    "}\n",
    "\n",
    "RUN_ID = 'gan_004'"
   ]
  },
  {
   "cell_type": "code",
   "execution_count": 0,
   "metadata": {
    "colab": {
     "base_uri": "https://localhost:8080/",
     "height": 84
    },
    "colab_type": "code",
    "id": "jkzsN1ol-uaC",
    "outputId": "fd880937-17b0-475d-c874-c4cf5590a803"
   },
   "outputs": [
    {
     "data": {
      "text/html": [
       "\n",
       "                Logging results to <a href=\"https://wandb.com\" target=\"_blank\">Weights & Biases</a> <a href=\"https://docs.wandb.com/integrations/jupyter.html\" target=\"_blank\">(Documentation)</a>.<br/>\n",
       "                Project page: <a href=\"https://app.wandb.ai/2ispany3/dpl\" target=\"_blank\">https://app.wandb.ai/2ispany3/dpl</a><br/>\n",
       "                Run page: <a href=\"https://app.wandb.ai/2ispany3/dpl/runs/gan_004\" target=\"_blank\">https://app.wandb.ai/2ispany3/dpl/runs/gan_004</a><br/>\n",
       "            "
      ],
      "text/plain": [
       "<IPython.core.display.HTML object>"
      ]
     },
     "metadata": {
      "tags": []
     },
     "output_type": "display_data"
    },
    {
     "data": {
      "text/plain": [
       "W&B Run: https://app.wandb.ai/2ispany3/dpl/runs/gan_004"
      ]
     },
     "execution_count": 7,
     "metadata": {
      "tags": []
     },
     "output_type": "execute_result"
    }
   ],
   "source": [
    "import wandb\n",
    "wandb.init(id=RUN_ID, config=wandb_config, project='dpl')"
   ]
  },
  {
   "cell_type": "markdown",
   "metadata": {
    "colab_type": "text",
    "id": "9fqUc1331fqt"
   },
   "source": [
    "# Instructor"
   ]
  },
  {
   "cell_type": "code",
   "execution_count": 0,
   "metadata": {
    "colab": {},
    "colab_type": "code",
    "id": "5Vm0FGdC1fqv"
   },
   "outputs": [],
   "source": [
    "# import os\n",
    "# os.chdir('..')\n",
    "from models.instructor import RelGANInstructor"
   ]
  },
  {
   "cell_type": "code",
   "execution_count": 0,
   "metadata": {
    "colab": {},
    "colab_type": "code",
    "id": "xM2SfCrf1fq7"
   },
   "outputs": [],
   "source": [
    "instructor = RelGANInstructor()"
   ]
  },
  {
   "cell_type": "markdown",
   "metadata": {
    "colab_type": "text",
    "id": "JXRxGVix1frH"
   },
   "source": [
    "# Checking"
   ]
  },
  {
   "cell_type": "code",
   "execution_count": 0,
   "metadata": {
    "colab": {
     "base_uri": "https://localhost:8080/",
     "height": 1000
    },
    "colab_type": "code",
    "id": "FbJztcMX1frJ",
    "outputId": "1e2939bd-0419-4d27-b91a-892586e13442",
    "scrolled": false
   },
   "outputs": [
    {
     "name": "stdout",
     "output_type": "stream",
     "text": [
      "Starting GENERATOR MLE TRAINING\n",
      "[MLE-GEN] epoch 0 : pre_loss = 3.9635, BLEU-[2, 3, 4, 5] = [0.475, 0.184, 0.081, 0.05], NLL_gen = 3.4234, NLL_div = 3.398, Self-BLEU-[2, 3, 4] = [0.489, 0.196, 0.09]\n",
      "[MLE-GEN] epoch 1 : pre_loss = 3.3737, BLEU-[2, 3, 4, 5] = [0.493, 0.203, 0.093, 0.057], NLL_gen = 3.2207, NLL_div = 3.231, Self-BLEU-[2, 3, 4] = [0.553, 0.242, 0.111]\n",
      "[MLE-GEN] epoch 2 : pre_loss = 3.1538, BLEU-[2, 3, 4, 5] = [0.471, 0.184, 0.079, 0.047], NLL_gen = 3.1594, NLL_div = 3.2779, Self-BLEU-[2, 3, 4] = [0.548, 0.222, 0.092]\n",
      "[MLE-GEN] epoch 3 : pre_loss = 3.0279, BLEU-[2, 3, 4, 5] = [0.494, 0.203, 0.09, 0.053], NLL_gen = 3.1236, NLL_div = 3.1656, Self-BLEU-[2, 3, 4] = [0.574, 0.253, 0.114]\n",
      "[MLE-GEN] epoch 4 : pre_loss = 2.9386, BLEU-[2, 3, 4, 5] = [0.494, 0.212, 0.097, 0.059], NLL_gen = 3.093, NLL_div = 2.7301, Self-BLEU-[2, 3, 4] = [0.576, 0.255, 0.116]\n",
      "[MLE-GEN] epoch 5 : pre_loss = 2.8873, BLEU-[2, 3, 4, 5] = [0.515, 0.23, 0.106, 0.062], NLL_gen = 2.9998, NLL_div = 2.4611, Self-BLEU-[2, 3, 4] = [0.582, 0.281, 0.129]\n",
      "[MLE-GEN] epoch 6 : pre_loss = 2.8097, BLEU-[2, 3, 4, 5] = [0.523, 0.224, 0.1, 0.058], NLL_gen = 2.958, NLL_div = 2.6932, Self-BLEU-[2, 3, 4] = [0.602, 0.28, 0.128]\n",
      "[MLE-GEN] epoch 7 : pre_loss = 2.7386, BLEU-[2, 3, 4, 5] = [0.546, 0.242, 0.106, 0.06], NLL_gen = 2.9223, NLL_div = 2.8397, Self-BLEU-[2, 3, 4] = [0.632, 0.306, 0.128]\n",
      "[MLE-GEN] epoch 8 : pre_loss = 2.6680, BLEU-[2, 3, 4, 5] = [0.529, 0.229, 0.099, 0.055], NLL_gen = 2.8713, NLL_div = 2.779, Self-BLEU-[2, 3, 4] = [0.629, 0.309, 0.137]\n",
      "[MLE-GEN] epoch 9 : pre_loss = 2.6083, BLEU-[2, 3, 4, 5] = [0.538, 0.238, 0.099, 0.054], NLL_gen = 2.8829, NLL_div = 2.7904, Self-BLEU-[2, 3, 4] = [0.614, 0.311, 0.141]\n"
     ]
    },
    {
     "name": "stderr",
     "output_type": "stream",
     "text": [
      "requests_with_retry encountered retryable exception: 500 Server Error: Internal Server Error for url: https://api.wandb.ai/files/2ispany3/dpl/gan_004/file_stream. args: ('https://api.wandb.ai/files/2ispany3/dpl/gan_004/file_stream',), kwargs: {'json': {'complete': False, 'failed': False}}\n",
      "requests_with_retry encountered retryable exception: 500 Server Error: Internal Server Error for url: https://api.wandb.ai/files/2ispany3/dpl/gan_004/file_stream. args: ('https://api.wandb.ai/files/2ispany3/dpl/gan_004/file_stream',), kwargs: {'json': {'complete': False, 'failed': False}}\n",
      "requests_with_retry encountered retryable exception: 500 Server Error: Internal Server Error for url: https://api.wandb.ai/files/2ispany3/dpl/gan_004/file_stream. args: ('https://api.wandb.ai/files/2ispany3/dpl/gan_004/file_stream',), kwargs: {'json': {'complete': False, 'failed': False}}\n",
      "requests_with_retry encountered retryable exception: 500 Server Error: Internal Server Error for url: https://api.wandb.ai/files/2ispany3/dpl/gan_004/file_stream. args: ('https://api.wandb.ai/files/2ispany3/dpl/gan_004/file_stream',), kwargs: {'json': {'complete': False, 'failed': False}}\n"
     ]
    },
    {
     "name": "stdout",
     "output_type": "stream",
     "text": [
      "[MLE-GEN] epoch 10 : pre_loss = 2.5572, BLEU-[2, 3, 4, 5] = [0.517, 0.231, 0.1, 0.057], NLL_gen = 2.8693, NLL_div = 2.5915, Self-BLEU-[2, 3, 4] = [0.637, 0.309, 0.147]\n"
     ]
    },
    {
     "name": "stderr",
     "output_type": "stream",
     "text": [
      "requests_with_retry encountered retryable exception: 500 Server Error: Internal Server Error for url: https://api.wandb.ai/files/2ispany3/dpl/gan_004/file_stream. args: ('https://api.wandb.ai/files/2ispany3/dpl/gan_004/file_stream',), kwargs: {'json': {'complete': False, 'failed': False}}\n",
      "requests_with_retry encountered retryable exception: 500 Server Error: Internal Server Error for url: https://api.wandb.ai/files/2ispany3/dpl/gan_004/file_stream. args: ('https://api.wandb.ai/files/2ispany3/dpl/gan_004/file_stream',), kwargs: {'json': {'complete': False, 'failed': False}}\n"
     ]
    },
    {
     "name": "stdout",
     "output_type": "stream",
     "text": [
      "[MLE-GEN] epoch 11 : pre_loss = 2.5128, BLEU-[2, 3, 4, 5] = [0.52, 0.222, 0.1, 0.06], NLL_gen = 2.8104, NLL_div = 2.4366, Self-BLEU-[2, 3, 4] = [0.639, 0.318, 0.145]\n",
      "[MLE-GEN] epoch 12 : pre_loss = 2.4733, BLEU-[2, 3, 4, 5] = [0.522, 0.221, 0.099, 0.059], NLL_gen = 2.7627, NLL_div = 2.343, Self-BLEU-[2, 3, 4] = [0.623, 0.305, 0.144]\n",
      "[MLE-GEN] epoch 13 : pre_loss = 2.4341, BLEU-[2, 3, 4, 5] = [0.556, 0.255, 0.114, 0.064], NLL_gen = 2.7011, NLL_div = 2.339, Self-BLEU-[2, 3, 4] = [0.628, 0.334, 0.156]\n",
      "[MLE-GEN] epoch 14 : pre_loss = 2.3927, BLEU-[2, 3, 4, 5] = [0.541, 0.239, 0.111, 0.065], NLL_gen = 2.7099, NLL_div = 2.3576, Self-BLEU-[2, 3, 4] = [0.638, 0.33, 0.15]\n",
      "[MLE-GEN] epoch 15 : pre_loss = 2.3561, BLEU-[2, 3, 4, 5] = [0.533, 0.244, 0.109, 0.064], NLL_gen = 2.6555, NLL_div = 2.378, Self-BLEU-[2, 3, 4] = [0.667, 0.347, 0.159]\n",
      "[MLE-GEN] epoch 16 : pre_loss = 2.3208, BLEU-[2, 3, 4, 5] = [0.53, 0.23, 0.103, 0.06], NLL_gen = 2.6342, NLL_div = 2.3359, Self-BLEU-[2, 3, 4] = [0.651, 0.34, 0.155]\n",
      "[MLE-GEN] epoch 17 : pre_loss = 2.2912, BLEU-[2, 3, 4, 5] = [0.522, 0.23, 0.102, 0.059], NLL_gen = 2.5795, NLL_div = 2.437, Self-BLEU-[2, 3, 4] = [0.639, 0.318, 0.147]\n",
      "[MLE-GEN] epoch 18 : pre_loss = 2.2705, BLEU-[2, 3, 4, 5] = [0.53, 0.23, 0.101, 0.058], NLL_gen = 2.5814, NLL_div = 2.3746, Self-BLEU-[2, 3, 4] = [0.651, 0.333, 0.156]\n",
      "[MLE-GEN] epoch 19 : pre_loss = 2.2427, BLEU-[2, 3, 4, 5] = [0.546, 0.24, 0.107, 0.064], NLL_gen = 2.5451, NLL_div = 2.2288, Self-BLEU-[2, 3, 4] = [0.65, 0.329, 0.156]\n",
      "[MLE-GEN] epoch 20 : pre_loss = 2.2099, BLEU-[2, 3, 4, 5] = [0.583, 0.284, 0.129, 0.076], NLL_gen = 2.5083, NLL_div = 2.1098, Self-BLEU-[2, 3, 4] = [0.651, 0.33, 0.158]\n",
      "[MLE-GEN] epoch 21 : pre_loss = 2.1874, BLEU-[2, 3, 4, 5] = [0.539, 0.237, 0.109, 0.067], NLL_gen = 2.5088, NLL_div = 2.1491, Self-BLEU-[2, 3, 4] = [0.636, 0.314, 0.14]\n",
      "[MLE-GEN] epoch 22 : pre_loss = 2.1696, BLEU-[2, 3, 4, 5] = [0.548, 0.244, 0.107, 0.06], NLL_gen = 2.4779, NLL_div = 2.2211, Self-BLEU-[2, 3, 4] = [0.665, 0.357, 0.174]\n",
      "[MLE-GEN] epoch 23 : pre_loss = 2.1512, BLEU-[2, 3, 4, 5] = [0.538, 0.24, 0.108, 0.061], NLL_gen = 2.4763, NLL_div = 2.1115, Self-BLEU-[2, 3, 4] = [0.642, 0.329, 0.153]\n",
      "[MLE-GEN] epoch 24 : pre_loss = 2.1241, BLEU-[2, 3, 4, 5] = [0.553, 0.234, 0.105, 0.061], NLL_gen = 2.4527, NLL_div = 1.9942, Self-BLEU-[2, 3, 4] = [0.644, 0.328, 0.151]\n",
      "[MLE-GEN] epoch 25 : pre_loss = 2.1040, BLEU-[2, 3, 4, 5] = [0.566, 0.257, 0.114, 0.065], NLL_gen = 2.438, NLL_div = 2.1181, Self-BLEU-[2, 3, 4] = [0.67, 0.361, 0.17]\n",
      "[MLE-GEN] epoch 26 : pre_loss = 2.0860, BLEU-[2, 3, 4, 5] = [0.564, 0.255, 0.12, 0.072], NLL_gen = 2.3988, NLL_div = 2.1387, Self-BLEU-[2, 3, 4] = [0.653, 0.34, 0.161]\n",
      "[MLE-GEN] epoch 27 : pre_loss = 2.0652, BLEU-[2, 3, 4, 5] = [0.551, 0.239, 0.105, 0.062], NLL_gen = 2.3768, NLL_div = 2.0589, Self-BLEU-[2, 3, 4] = [0.657, 0.353, 0.162]\n",
      "[MLE-GEN] epoch 28 : pre_loss = 2.0566, BLEU-[2, 3, 4, 5] = [0.576, 0.269, 0.118, 0.067], NLL_gen = 2.3529, NLL_div = 2.0137, Self-BLEU-[2, 3, 4] = [0.667, 0.366, 0.179]\n",
      "[MLE-GEN] epoch 29 : pre_loss = 2.0390, BLEU-[2, 3, 4, 5] = [0.56, 0.256, 0.116, 0.068], NLL_gen = 2.3319, NLL_div = 1.9496, Self-BLEU-[2, 3, 4] = [0.657, 0.343, 0.164]\n",
      "[MLE-GEN] epoch 30 : pre_loss = 2.0210, BLEU-[2, 3, 4, 5] = [0.542, 0.239, 0.111, 0.065], NLL_gen = 2.3125, NLL_div = 1.9973, Self-BLEU-[2, 3, 4] = [0.672, 0.358, 0.17]\n",
      "[MLE-GEN] epoch 31 : pre_loss = 2.0030, BLEU-[2, 3, 4, 5] = [0.545, 0.25, 0.114, 0.066], NLL_gen = 2.2938, NLL_div = 2.0167, Self-BLEU-[2, 3, 4] = [0.634, 0.325, 0.155]\n",
      "[MLE-GEN] epoch 32 : pre_loss = 2.0030, BLEU-[2, 3, 4, 5] = [0.541, 0.241, 0.108, 0.061], NLL_gen = 2.2835, NLL_div = 1.9452, Self-BLEU-[2, 3, 4] = [0.621, 0.324, 0.154]\n",
      "[MLE-GEN] epoch 33 : pre_loss = 1.9903, BLEU-[2, 3, 4, 5] = [0.54, 0.242, 0.108, 0.063], NLL_gen = 2.2655, NLL_div = 1.9603, Self-BLEU-[2, 3, 4] = [0.634, 0.324, 0.153]\n",
      "[MLE-GEN] epoch 34 : pre_loss = 1.9792, BLEU-[2, 3, 4, 5] = [0.533, 0.245, 0.117, 0.07], NLL_gen = 2.2401, NLL_div = 1.8723, Self-BLEU-[2, 3, 4] = [0.627, 0.331, 0.172]\n",
      "[MLE-GEN] epoch 35 : pre_loss = 1.9701, BLEU-[2, 3, 4, 5] = [0.571, 0.259, 0.116, 0.067], NLL_gen = 2.229, NLL_div = 2.1174, Self-BLEU-[2, 3, 4] = [0.646, 0.332, 0.161]\n",
      "[MLE-GEN] epoch 36 : pre_loss = 1.9539, BLEU-[2, 3, 4, 5] = [0.557, 0.254, 0.112, 0.062], NLL_gen = 2.1963, NLL_div = 2.147, Self-BLEU-[2, 3, 4] = [0.658, 0.352, 0.177]\n",
      "[MLE-GEN] epoch 37 : pre_loss = 1.9350, BLEU-[2, 3, 4, 5] = [0.56, 0.26, 0.119, 0.068], NLL_gen = 2.194, NLL_div = 2.1048, Self-BLEU-[2, 3, 4] = [0.663, 0.339, 0.15]\n",
      "[MLE-GEN] epoch 38 : pre_loss = 1.9240, BLEU-[2, 3, 4, 5] = [0.576, 0.262, 0.114, 0.065], NLL_gen = 2.1673, NLL_div = 2.059, Self-BLEU-[2, 3, 4] = [0.659, 0.342, 0.164]\n",
      "[MLE-GEN] epoch 39 : pre_loss = 1.8991, BLEU-[2, 3, 4, 5] = [0.571, 0.264, 0.118, 0.068], NLL_gen = 2.1662, NLL_div = 1.9707, Self-BLEU-[2, 3, 4] = [0.68, 0.369, 0.182]\n",
      "[MLE-GEN] epoch 40 : pre_loss = 1.9035, BLEU-[2, 3, 4, 5] = [0.573, 0.267, 0.124, 0.072], NLL_gen = 2.1651, NLL_div = 1.9448, Self-BLEU-[2, 3, 4] = [0.675, 0.363, 0.185]\n",
      "[MLE-GEN] epoch 41 : pre_loss = 1.8972, BLEU-[2, 3, 4, 5] = [0.572, 0.266, 0.121, 0.069], NLL_gen = 2.1567, NLL_div = 1.9204, Self-BLEU-[2, 3, 4] = [0.67, 0.37, 0.186]\n",
      "[MLE-GEN] epoch 42 : pre_loss = 1.8824, BLEU-[2, 3, 4, 5] = [0.57, 0.251, 0.111, 0.065], NLL_gen = 2.146, NLL_div = 1.9874, Self-BLEU-[2, 3, 4] = [0.679, 0.362, 0.183]\n",
      "[MLE-GEN] epoch 43 : pre_loss = 1.8660, BLEU-[2, 3, 4, 5] = [0.581, 0.275, 0.126, 0.072], NLL_gen = 2.1346, NLL_div = 1.8953, Self-BLEU-[2, 3, 4] = [0.67, 0.364, 0.186]\n",
      "[MLE-GEN] epoch 44 : pre_loss = 1.8692, BLEU-[2, 3, 4, 5] = [0.586, 0.279, 0.133, 0.078], NLL_gen = 2.1522, NLL_div = 1.9146, Self-BLEU-[2, 3, 4] = [0.652, 0.337, 0.154]\n",
      "[MLE-GEN] epoch 45 : pre_loss = 1.8629, BLEU-[2, 3, 4, 5] = [0.582, 0.249, 0.112, 0.065], NLL_gen = 2.1298, NLL_div = 1.9533, Self-BLEU-[2, 3, 4] = [0.663, 0.359, 0.166]\n",
      "[MLE-GEN] epoch 46 : pre_loss = 1.8560, BLEU-[2, 3, 4, 5] = [0.575, 0.257, 0.121, 0.069], NLL_gen = 2.1326, NLL_div = 1.9519, Self-BLEU-[2, 3, 4] = [0.664, 0.341, 0.16]\n",
      "[MLE-GEN] epoch 47 : pre_loss = 1.8515, BLEU-[2, 3, 4, 5] = [0.571, 0.251, 0.109, 0.061], NLL_gen = 2.1181, NLL_div = 1.9583, Self-BLEU-[2, 3, 4] = [0.658, 0.345, 0.159]\n",
      "[MLE-GEN] epoch 48 : pre_loss = 1.8370, BLEU-[2, 3, 4, 5] = [0.597, 0.281, 0.133, 0.08], NLL_gen = 2.1224, NLL_div = 1.7792, Self-BLEU-[2, 3, 4] = [0.682, 0.368, 0.182]\n",
      "[MLE-GEN] epoch 49 : pre_loss = 1.8288, BLEU-[2, 3, 4, 5] = [0.596, 0.286, 0.126, 0.07], NLL_gen = 2.1275, NLL_div = 1.8792, Self-BLEU-[2, 3, 4] = [0.678, 0.374, 0.183]\n"
     ]
    },
    {
     "name": "stderr",
     "output_type": "stream",
     "text": [
      "\r",
      "  0%|          | 0/100 [00:00<?, ?it/s]"
     ]
    },
    {
     "name": "stdout",
     "output_type": "stream",
     "text": [
      "Starting Adversarial Training\n"
     ]
    },
    {
     "name": "stderr",
     "output_type": "stream",
     "text": [
      "\r",
      "g_loss: 0.6931, d_loss: 0.6929, temperature: 1.0000:   0%|          | 0/100 [00:05<?, ?it/s]"
     ]
    },
    {
     "name": "stdout",
     "output_type": "stream",
     "text": [
      "[ADV] epoch 0: g_loss: 0.6931, d_loss: 0.6929, BLEU-[2, 3, 4, 5] = [0.595, 0.284, 0.129, 0.075], NLL_gen = 2.1274, NLL_div = 1.8905, Self-BLEU-[2, 3, 4] = [0.68, 0.367, 0.175]\n"
     ]
    },
    {
     "name": "stderr",
     "output_type": "stream",
     "text": [
      "g_loss: 0.6939, d_loss: 0.6922, temperature: 1.0471:   1%|          | 1/100 [05:14<8:29:40, 308.89s/it]"
     ]
    },
    {
     "name": "stdout",
     "output_type": "stream",
     "text": [
      "[ADV] epoch 1: g_loss: 0.6939, d_loss: 0.6922, BLEU-[2, 3, 4, 5] = [0.559, 0.256, 0.115, 0.066], NLL_gen = 2.1274, NLL_div = 1.8503, Self-BLEU-[2, 3, 4] = [0.664, 0.352, 0.17]\n"
     ]
    },
    {
     "name": "stderr",
     "output_type": "stream",
     "text": [
      "g_loss: 0.6946, d_loss: 0.6916, temperature: 1.0965:   2%|▏         | 2/100 [10:18<8:21:46, 307.21s/it]"
     ]
    },
    {
     "name": "stdout",
     "output_type": "stream",
     "text": [
      "[ADV] epoch 2: g_loss: 0.6946, d_loss: 0.6916, BLEU-[2, 3, 4, 5] = [0.593, 0.279, 0.126, 0.073], NLL_gen = 2.1274, NLL_div = 1.8708, Self-BLEU-[2, 3, 4] = [0.671, 0.362, 0.179]\n"
     ]
    },
    {
     "name": "stderr",
     "output_type": "stream",
     "text": [
      "g_loss: 0.6953, d_loss: 0.6908, temperature: 1.1482:   3%|▎         | 3/100 [15:20<8:14:16, 305.73s/it]"
     ]
    },
    {
     "name": "stdout",
     "output_type": "stream",
     "text": [
      "[ADV] epoch 3: g_loss: 0.6953, d_loss: 0.6908, BLEU-[2, 3, 4, 5] = [0.583, 0.284, 0.128, 0.073], NLL_gen = 2.1274, NLL_div = 1.8958, Self-BLEU-[2, 3, 4] = [0.68, 0.37, 0.182]\n"
     ]
    },
    {
     "name": "stderr",
     "output_type": "stream",
     "text": [
      "g_loss: 0.6956, d_loss: 0.6901, temperature: 1.2023:   4%|▍         | 4/100 [20:22<8:07:24, 304.63s/it]"
     ]
    },
    {
     "name": "stdout",
     "output_type": "stream",
     "text": [
      "[ADV] epoch 4: g_loss: 0.6956, d_loss: 0.6901, BLEU-[2, 3, 4, 5] = [0.582, 0.269, 0.121, 0.069], NLL_gen = 2.1274, NLL_div = 1.9407, Self-BLEU-[2, 3, 4] = [0.693, 0.388, 0.191]\n"
     ]
    },
    {
     "name": "stderr",
     "output_type": "stream",
     "text": [
      "g_loss: 0.6967, d_loss: 0.6894, temperature: 1.2589:   5%|▌         | 5/100 [25:26<8:02:02, 304.45s/it]"
     ]
    },
    {
     "name": "stdout",
     "output_type": "stream",
     "text": [
      "[ADV] epoch 5: g_loss: 0.6967, d_loss: 0.6894, BLEU-[2, 3, 4, 5] = [0.595, 0.276, 0.126, 0.075], NLL_gen = 2.1274, NLL_div = 1.9004, Self-BLEU-[2, 3, 4] = [0.698, 0.385, 0.184]\n"
     ]
    },
    {
     "name": "stderr",
     "output_type": "stream",
     "text": [
      "g_loss: 0.6977, d_loss: 0.6884, temperature: 1.3183:   6%|▌         | 6/100 [30:25<7:54:36, 302.94s/it]"
     ]
    },
    {
     "name": "stdout",
     "output_type": "stream",
     "text": [
      "[ADV] epoch 6: g_loss: 0.6977, d_loss: 0.6884, BLEU-[2, 3, 4, 5] = [0.593, 0.27, 0.125, 0.071], NLL_gen = 2.1274, NLL_div = 1.8933, Self-BLEU-[2, 3, 4] = [0.692, 0.381, 0.19]\n"
     ]
    },
    {
     "name": "stderr",
     "output_type": "stream",
     "text": [
      "g_loss: 0.6989, d_loss: 0.6868, temperature: 1.3804:   7%|▋         | 7/100 [35:30<7:50:07, 303.31s/it]"
     ]
    },
    {
     "name": "stdout",
     "output_type": "stream",
     "text": [
      "[ADV] epoch 7: g_loss: 0.6989, d_loss: 0.6868, BLEU-[2, 3, 4, 5] = [0.604, 0.302, 0.141, 0.082], NLL_gen = 2.1274, NLL_div = 1.9112, Self-BLEU-[2, 3, 4] = [0.694, 0.394, 0.205]\n"
     ]
    },
    {
     "name": "stderr",
     "output_type": "stream",
     "text": [
      "g_loss: 0.6998, d_loss: 0.6859, temperature: 1.4454:   8%|▊         | 8/100 [40:26<7:41:51, 301.21s/it]"
     ]
    },
    {
     "name": "stdout",
     "output_type": "stream",
     "text": [
      "[ADV] epoch 8: g_loss: 0.6998, d_loss: 0.6859, BLEU-[2, 3, 4, 5] = [0.584, 0.276, 0.126, 0.071], NLL_gen = 2.1274, NLL_div = 1.8861, Self-BLEU-[2, 3, 4] = [0.675, 0.375, 0.183]\n"
     ]
    },
    {
     "name": "stderr",
     "output_type": "stream",
     "text": [
      "g_loss: 0.7005, d_loss: 0.6845, temperature: 1.5136:   9%|▉         | 9/100 [45:22<7:34:42, 299.80s/it]"
     ]
    },
    {
     "name": "stdout",
     "output_type": "stream",
     "text": [
      "[ADV] epoch 9: g_loss: 0.7005, d_loss: 0.6845, BLEU-[2, 3, 4, 5] = [0.596, 0.285, 0.135, 0.079], NLL_gen = 2.1275, NLL_div = 1.8999, Self-BLEU-[2, 3, 4] = [0.677, 0.362, 0.172]\n"
     ]
    },
    {
     "name": "stderr",
     "output_type": "stream",
     "text": [
      "g_loss: 0.7025, d_loss: 0.6819, temperature: 1.5849:  10%|█         | 10/100 [50:18<7:27:49, 298.55s/it]"
     ]
    },
    {
     "name": "stdout",
     "output_type": "stream",
     "text": [
      "[ADV] epoch 10: g_loss: 0.7025, d_loss: 0.6819, BLEU-[2, 3, 4, 5] = [0.604, 0.287, 0.133, 0.074], NLL_gen = 2.1275, NLL_div = 1.8874, Self-BLEU-[2, 3, 4] = [0.688, 0.369, 0.175]\n"
     ]
    },
    {
     "name": "stderr",
     "output_type": "stream",
     "text": [
      "g_loss: 0.7024, d_loss: 0.6804, temperature: 1.6596:  11%|█         | 11/100 [55:14<7:21:37, 297.73s/it]"
     ]
    },
    {
     "name": "stdout",
     "output_type": "stream",
     "text": [
      "[ADV] epoch 11: g_loss: 0.7024, d_loss: 0.6804, BLEU-[2, 3, 4, 5] = [0.599, 0.287, 0.128, 0.073], NLL_gen = 2.1275, NLL_div = 1.857, Self-BLEU-[2, 3, 4] = [0.663, 0.359, 0.169]\n"
     ]
    },
    {
     "name": "stderr",
     "output_type": "stream",
     "text": [
      "g_loss: 0.7089, d_loss: 0.6766, temperature: 1.7378:  12%|█▏        | 12/100 [1:00:06<7:14:05, 295.97s/it]"
     ]
    },
    {
     "name": "stdout",
     "output_type": "stream",
     "text": [
      "[ADV] epoch 12: g_loss: 0.7089, d_loss: 0.6766, BLEU-[2, 3, 4, 5] = [0.608, 0.284, 0.13, 0.075], NLL_gen = 2.1275, NLL_div = 1.866, Self-BLEU-[2, 3, 4] = [0.689, 0.38, 0.185]\n"
     ]
    },
    {
     "name": "stderr",
     "output_type": "stream",
     "text": [
      "g_loss: 0.7111, d_loss: 0.6749, temperature: 1.8197:  13%|█▎        | 13/100 [1:05:00<7:08:16, 295.36s/it]"
     ]
    },
    {
     "name": "stdout",
     "output_type": "stream",
     "text": [
      "[ADV] epoch 13: g_loss: 0.7111, d_loss: 0.6749, BLEU-[2, 3, 4, 5] = [0.595, 0.278, 0.129, 0.073], NLL_gen = 2.1275, NLL_div = 1.8629, Self-BLEU-[2, 3, 4] = [0.661, 0.37, 0.182]\n"
     ]
    },
    {
     "name": "stderr",
     "output_type": "stream",
     "text": [
      "g_loss: 0.7152, d_loss: 0.6722, temperature: 1.9055:  14%|█▍        | 14/100 [1:10:00<7:05:19, 296.74s/it]"
     ]
    },
    {
     "name": "stdout",
     "output_type": "stream",
     "text": [
      "[ADV] epoch 14: g_loss: 0.7152, d_loss: 0.6722, BLEU-[2, 3, 4, 5] = [0.585, 0.268, 0.12, 0.07], NLL_gen = 2.1275, NLL_div = 1.8676, Self-BLEU-[2, 3, 4] = [0.681, 0.382, 0.195]\n"
     ]
    },
    {
     "name": "stderr",
     "output_type": "stream",
     "text": [
      "g_loss: 0.7172, d_loss: 0.6677, temperature: 1.9953:  15%|█▌        | 15/100 [1:14:58<7:01:12, 297.33s/it]"
     ]
    },
    {
     "name": "stdout",
     "output_type": "stream",
     "text": [
      "[ADV] epoch 15: g_loss: 0.7172, d_loss: 0.6677, BLEU-[2, 3, 4, 5] = [0.603, 0.283, 0.125, 0.069], NLL_gen = 2.1275, NLL_div = 1.8579, Self-BLEU-[2, 3, 4] = [0.688, 0.38, 0.187]\n"
     ]
    },
    {
     "name": "stderr",
     "output_type": "stream",
     "text": [
      "g_loss: 0.7279, d_loss: 0.6644, temperature: 2.0893:  16%|█▌        | 16/100 [1:20:06<7:00:30, 300.36s/it]"
     ]
    },
    {
     "name": "stdout",
     "output_type": "stream",
     "text": [
      "[ADV] epoch 16: g_loss: 0.7279, d_loss: 0.6644, BLEU-[2, 3, 4, 5] = [0.579, 0.268, 0.121, 0.068], NLL_gen = 2.1275, NLL_div = 1.8414, Self-BLEU-[2, 3, 4] = [0.67, 0.374, 0.186]\n"
     ]
    },
    {
     "name": "stderr",
     "output_type": "stream",
     "text": [
      "g_loss: 0.7284, d_loss: 0.6608, temperature: 2.1878:  17%|█▋        | 17/100 [1:25:07<6:55:46, 300.56s/it]"
     ]
    },
    {
     "name": "stdout",
     "output_type": "stream",
     "text": [
      "[ADV] epoch 17: g_loss: 0.7284, d_loss: 0.6608, BLEU-[2, 3, 4, 5] = [0.595, 0.292, 0.137, 0.077], NLL_gen = 2.1275, NLL_div = 1.8337, Self-BLEU-[2, 3, 4] = [0.679, 0.371, 0.182]\n"
     ]
    },
    {
     "name": "stderr",
     "output_type": "stream",
     "text": [
      "g_loss: 0.7295, d_loss: 0.6564, temperature: 2.2909:  18%|█▊        | 18/100 [1:30:06<6:50:22, 300.28s/it]"
     ]
    },
    {
     "name": "stdout",
     "output_type": "stream",
     "text": [
      "[ADV] epoch 18: g_loss: 0.7295, d_loss: 0.6564, BLEU-[2, 3, 4, 5] = [0.595, 0.275, 0.13, 0.077], NLL_gen = 2.1275, NLL_div = 1.8426, Self-BLEU-[2, 3, 4] = [0.693, 0.382, 0.191]\n"
     ]
    },
    {
     "name": "stderr",
     "output_type": "stream",
     "text": [
      "g_loss: 0.7428, d_loss: 0.6489, temperature: 2.3988:  19%|█▉        | 19/100 [1:35:12<6:47:20, 301.74s/it]"
     ]
    },
    {
     "name": "stdout",
     "output_type": "stream",
     "text": [
      "[ADV] epoch 19: g_loss: 0.7428, d_loss: 0.6489, BLEU-[2, 3, 4, 5] = [0.594, 0.285, 0.131, 0.075], NLL_gen = 2.1275, NLL_div = 1.8728, Self-BLEU-[2, 3, 4] = [0.669, 0.365, 0.174]\n"
     ]
    },
    {
     "name": "stderr",
     "output_type": "stream",
     "text": [
      "g_loss: 0.7508, d_loss: 0.6449, temperature: 2.5119:  20%|██        | 20/100 [1:40:19<6:44:31, 303.39s/it]"
     ]
    },
    {
     "name": "stdout",
     "output_type": "stream",
     "text": [
      "[ADV] epoch 20: g_loss: 0.7508, d_loss: 0.6449, BLEU-[2, 3, 4, 5] = [0.588, 0.276, 0.128, 0.074], NLL_gen = 2.1274, NLL_div = 1.8571, Self-BLEU-[2, 3, 4] = [0.69, 0.385, 0.185]\n"
     ]
    },
    {
     "name": "stderr",
     "output_type": "stream",
     "text": [
      "g_loss: 0.7553, d_loss: 0.6382, temperature: 2.6303:  21%|██        | 21/100 [1:45:23<6:39:42, 303.57s/it]"
     ]
    },
    {
     "name": "stdout",
     "output_type": "stream",
     "text": [
      "[ADV] epoch 21: g_loss: 0.7553, d_loss: 0.6382, BLEU-[2, 3, 4, 5] = [0.601, 0.291, 0.132, 0.076], NLL_gen = 2.1274, NLL_div = 1.8852, Self-BLEU-[2, 3, 4] = [0.658, 0.359, 0.184]\n"
     ]
    },
    {
     "name": "stderr",
     "output_type": "stream",
     "text": [
      "g_loss: 0.7618, d_loss: 0.6271, temperature: 2.7542:  22%|██▏       | 22/100 [1:50:31<6:36:34, 305.05s/it]"
     ]
    },
    {
     "name": "stdout",
     "output_type": "stream",
     "text": [
      "[ADV] epoch 22: g_loss: 0.7618, d_loss: 0.6271, BLEU-[2, 3, 4, 5] = [0.598, 0.282, 0.136, 0.079], NLL_gen = 2.1274, NLL_div = 1.8142, Self-BLEU-[2, 3, 4] = [0.684, 0.384, 0.191]\n"
     ]
    },
    {
     "name": "stderr",
     "output_type": "stream",
     "text": [
      "g_loss: 0.7850, d_loss: 0.6281, temperature: 2.8840:  23%|██▎       | 23/100 [1:55:35<6:31:00, 304.69s/it]"
     ]
    },
    {
     "name": "stdout",
     "output_type": "stream",
     "text": [
      "[ADV] epoch 23: g_loss: 0.7850, d_loss: 0.6281, BLEU-[2, 3, 4, 5] = [0.594, 0.283, 0.134, 0.078], NLL_gen = 2.1274, NLL_div = 1.8386, Self-BLEU-[2, 3, 4] = [0.675, 0.36, 0.178]\n"
     ]
    },
    {
     "name": "stderr",
     "output_type": "stream",
     "text": [
      "g_loss: 0.7808, d_loss: 0.6270, temperature: 3.0200:  24%|██▍       | 24/100 [2:00:32<6:23:06, 302.46s/it]"
     ]
    },
    {
     "name": "stdout",
     "output_type": "stream",
     "text": [
      "[ADV] epoch 24: g_loss: 0.7808, d_loss: 0.6270, BLEU-[2, 3, 4, 5] = [0.592, 0.276, 0.127, 0.072], NLL_gen = 2.1274, NLL_div = 1.8193, Self-BLEU-[2, 3, 4] = [0.674, 0.385, 0.192]\n"
     ]
    },
    {
     "name": "stderr",
     "output_type": "stream",
     "text": [
      "g_loss: 0.7701, d_loss: 0.6176, temperature: 3.1623:  25%|██▌       | 25/100 [2:05:28<6:15:40, 300.53s/it]"
     ]
    },
    {
     "name": "stdout",
     "output_type": "stream",
     "text": [
      "[ADV] epoch 25: g_loss: 0.7701, d_loss: 0.6176, BLEU-[2, 3, 4, 5] = [0.606, 0.282, 0.127, 0.072], NLL_gen = 2.1274, NLL_div = 1.8812, Self-BLEU-[2, 3, 4] = [0.687, 0.384, 0.192]\n"
     ]
    },
    {
     "name": "stderr",
     "output_type": "stream",
     "text": [
      "g_loss: 0.8100, d_loss: 0.6171, temperature: 3.3113:  26%|██▌       | 26/100 [2:10:23<6:08:31, 298.80s/it]"
     ]
    },
    {
     "name": "stdout",
     "output_type": "stream",
     "text": [
      "[ADV] epoch 26: g_loss: 0.8100, d_loss: 0.6171, BLEU-[2, 3, 4, 5] = [0.596, 0.265, 0.12, 0.069], NLL_gen = 2.1274, NLL_div = 1.8741, Self-BLEU-[2, 3, 4] = [0.692, 0.38, 0.183]\n"
     ]
    },
    {
     "name": "stderr",
     "output_type": "stream",
     "text": [
      "g_loss: 0.7933, d_loss: 0.6079, temperature: 3.4674:  27%|██▋       | 27/100 [2:15:20<6:02:53, 298.26s/it]"
     ]
    },
    {
     "name": "stdout",
     "output_type": "stream",
     "text": [
      "[ADV] epoch 27: g_loss: 0.7933, d_loss: 0.6079, BLEU-[2, 3, 4, 5] = [0.602, 0.285, 0.129, 0.073], NLL_gen = 2.1274, NLL_div = 1.8164, Self-BLEU-[2, 3, 4] = [0.678, 0.387, 0.192]\n"
     ]
    },
    {
     "name": "stderr",
     "output_type": "stream",
     "text": [
      "g_loss: 0.8029, d_loss: 0.6214, temperature: 3.6308:  28%|██▊       | 28/100 [2:20:18<5:57:39, 298.05s/it]"
     ]
    },
    {
     "name": "stdout",
     "output_type": "stream",
     "text": [
      "[ADV] epoch 28: g_loss: 0.8029, d_loss: 0.6214, BLEU-[2, 3, 4, 5] = [0.591, 0.287, 0.133, 0.076], NLL_gen = 2.1274, NLL_div = 1.8386, Self-BLEU-[2, 3, 4] = [0.685, 0.394, 0.202]\n"
     ]
    },
    {
     "name": "stderr",
     "output_type": "stream",
     "text": [
      "g_loss: 0.8762, d_loss: 0.6000, temperature: 3.8019:  29%|██▉       | 29/100 [2:25:22<5:54:44, 299.78s/it]"
     ]
    },
    {
     "name": "stdout",
     "output_type": "stream",
     "text": [
      "[ADV] epoch 29: g_loss: 0.8762, d_loss: 0.6000, BLEU-[2, 3, 4, 5] = [0.605, 0.291, 0.138, 0.079], NLL_gen = 2.1274, NLL_div = 1.8486, Self-BLEU-[2, 3, 4] = [0.674, 0.363, 0.172]\n"
     ]
    },
    {
     "name": "stderr",
     "output_type": "stream",
     "text": [
      "g_loss: 0.8409, d_loss: 0.6146, temperature: 3.9811:  30%|███       | 30/100 [2:30:24<5:50:32, 300.46s/it]"
     ]
    },
    {
     "name": "stdout",
     "output_type": "stream",
     "text": [
      "[ADV] epoch 30: g_loss: 0.8409, d_loss: 0.6146, BLEU-[2, 3, 4, 5] = [0.623, 0.296, 0.134, 0.076], NLL_gen = 2.1273, NLL_div = 1.8395, Self-BLEU-[2, 3, 4] = [0.667, 0.358, 0.161]\n"
     ]
    },
    {
     "name": "stderr",
     "output_type": "stream",
     "text": [
      "g_loss: 0.8495, d_loss: 0.5814, temperature: 4.1687:  31%|███       | 31/100 [2:35:28<5:46:54, 301.66s/it]"
     ]
    },
    {
     "name": "stdout",
     "output_type": "stream",
     "text": [
      "[ADV] epoch 31: g_loss: 0.8495, d_loss: 0.5814, BLEU-[2, 3, 4, 5] = [0.598, 0.282, 0.134, 0.078], NLL_gen = 2.1273, NLL_div = 1.8381, Self-BLEU-[2, 3, 4] = [0.68, 0.379, 0.182]\n"
     ]
    },
    {
     "name": "stderr",
     "output_type": "stream",
     "text": [
      "g_loss: 0.8936, d_loss: 0.6050, temperature: 4.3652:  32%|███▏      | 32/100 [2:40:34<5:43:10, 302.81s/it]"
     ]
    },
    {
     "name": "stdout",
     "output_type": "stream",
     "text": [
      "[ADV] epoch 32: g_loss: 0.8936, d_loss: 0.6050, BLEU-[2, 3, 4, 5] = [0.6, 0.276, 0.122, 0.073], NLL_gen = 2.1273, NLL_div = 1.8152, Self-BLEU-[2, 3, 4] = [0.667, 0.366, 0.174]\n"
     ]
    },
    {
     "name": "stderr",
     "output_type": "stream",
     "text": [
      "g_loss: 0.8856, d_loss: 0.6009, temperature: 4.5709:  33%|███▎      | 33/100 [2:45:44<5:40:47, 305.18s/it]"
     ]
    },
    {
     "name": "stdout",
     "output_type": "stream",
     "text": [
      "[ADV] epoch 33: g_loss: 0.8856, d_loss: 0.6009, BLEU-[2, 3, 4, 5] = [0.6, 0.281, 0.127, 0.071], NLL_gen = 2.1273, NLL_div = 1.8189, Self-BLEU-[2, 3, 4] = [0.681, 0.38, 0.193]\n"
     ]
    },
    {
     "name": "stderr",
     "output_type": "stream",
     "text": [
      "g_loss: 0.8775, d_loss: 0.6118, temperature: 4.7863:  34%|███▍      | 34/100 [2:50:54<5:37:00, 306.37s/it]"
     ]
    },
    {
     "name": "stdout",
     "output_type": "stream",
     "text": [
      "[ADV] epoch 34: g_loss: 0.8775, d_loss: 0.6118, BLEU-[2, 3, 4, 5] = [0.613, 0.287, 0.13, 0.074], NLL_gen = 2.1273, NLL_div = 1.8132, Self-BLEU-[2, 3, 4] = [0.681, 0.391, 0.201]\n"
     ]
    },
    {
     "name": "stderr",
     "output_type": "stream",
     "text": [
      "g_loss: 0.9777, d_loss: 0.6094, temperature: 5.0119:  35%|███▌      | 35/100 [2:55:51<5:29:02, 303.73s/it]"
     ]
    },
    {
     "name": "stdout",
     "output_type": "stream",
     "text": [
      "[ADV] epoch 35: g_loss: 0.9777, d_loss: 0.6094, BLEU-[2, 3, 4, 5] = [0.6, 0.288, 0.13, 0.073], NLL_gen = 2.1272, NLL_div = 1.7743, Self-BLEU-[2, 3, 4] = [0.68, 0.375, 0.183]\n"
     ]
    },
    {
     "name": "stderr",
     "output_type": "stream",
     "text": [
      "g_loss: 0.8439, d_loss: 0.5979, temperature: 5.2481:  36%|███▌      | 36/100 [3:00:47<5:21:30, 301.42s/it]"
     ]
    },
    {
     "name": "stdout",
     "output_type": "stream",
     "text": [
      "[ADV] epoch 36: g_loss: 0.8439, d_loss: 0.5979, BLEU-[2, 3, 4, 5] = [0.613, 0.283, 0.129, 0.075], NLL_gen = 2.1272, NLL_div = 1.8269, Self-BLEU-[2, 3, 4] = [0.685, 0.384, 0.193]\n"
     ]
    },
    {
     "name": "stderr",
     "output_type": "stream",
     "text": [
      "g_loss: 0.9767, d_loss: 0.5887, temperature: 5.4954:  37%|███▋      | 37/100 [3:05:39<5:13:37, 298.69s/it]"
     ]
    },
    {
     "name": "stdout",
     "output_type": "stream",
     "text": [
      "[ADV] epoch 37: g_loss: 0.9767, d_loss: 0.5887, BLEU-[2, 3, 4, 5] = [0.609, 0.292, 0.133, 0.073], NLL_gen = 2.1271, NLL_div = 1.7975, Self-BLEU-[2, 3, 4] = [0.687, 0.383, 0.192]\n"
     ]
    },
    {
     "name": "stderr",
     "output_type": "stream",
     "text": [
      "g_loss: 0.9488, d_loss: 0.6054, temperature: 5.7544:  38%|███▊      | 38/100 [3:10:38<5:08:39, 298.71s/it]"
     ]
    },
    {
     "name": "stdout",
     "output_type": "stream",
     "text": [
      "[ADV] epoch 38: g_loss: 0.9488, d_loss: 0.6054, BLEU-[2, 3, 4, 5] = [0.598, 0.273, 0.126, 0.072], NLL_gen = 2.1271, NLL_div = 1.8629, Self-BLEU-[2, 3, 4] = [0.699, 0.398, 0.197]\n"
     ]
    },
    {
     "name": "stderr",
     "output_type": "stream",
     "text": [
      "g_loss: 0.9519, d_loss: 0.6013, temperature: 6.0256:  39%|███▉      | 39/100 [3:15:31<5:01:48, 296.86s/it]"
     ]
    },
    {
     "name": "stdout",
     "output_type": "stream",
     "text": [
      "[ADV] epoch 39: g_loss: 0.9519, d_loss: 0.6013, BLEU-[2, 3, 4, 5] = [0.609, 0.292, 0.13, 0.075], NLL_gen = 2.1271, NLL_div = 1.7789, Self-BLEU-[2, 3, 4] = [0.686, 0.386, 0.191]\n"
     ]
    },
    {
     "name": "stderr",
     "output_type": "stream",
     "text": [
      "g_loss: 1.0027, d_loss: 0.6161, temperature: 6.3096:  40%|████      | 40/100 [3:20:24<4:55:54, 295.91s/it]"
     ]
    },
    {
     "name": "stdout",
     "output_type": "stream",
     "text": [
      "[ADV] epoch 40: g_loss: 1.0027, d_loss: 0.6161, BLEU-[2, 3, 4, 5] = [0.598, 0.284, 0.128, 0.073], NLL_gen = 2.1271, NLL_div = 1.8019, Self-BLEU-[2, 3, 4] = [0.672, 0.371, 0.185]\n"
     ]
    },
    {
     "name": "stderr",
     "output_type": "stream",
     "text": [
      "g_loss: 1.0189, d_loss: 0.6060, temperature: 6.6069:  41%|████      | 41/100 [3:25:18<4:50:10, 295.10s/it]"
     ]
    },
    {
     "name": "stdout",
     "output_type": "stream",
     "text": [
      "[ADV] epoch 41: g_loss: 1.0189, d_loss: 0.6060, BLEU-[2, 3, 4, 5] = [0.613, 0.297, 0.135, 0.077], NLL_gen = 2.1271, NLL_div = 1.8104, Self-BLEU-[2, 3, 4] = [0.69, 0.39, 0.195]\n"
     ]
    },
    {
     "name": "stderr",
     "output_type": "stream",
     "text": [
      "g_loss: 0.9674, d_loss: 0.6050, temperature: 6.9183:  42%|████▏     | 42/100 [3:30:11<4:44:40, 294.49s/it]"
     ]
    },
    {
     "name": "stdout",
     "output_type": "stream",
     "text": [
      "[ADV] epoch 42: g_loss: 0.9674, d_loss: 0.6050, BLEU-[2, 3, 4, 5] = [0.609, 0.29, 0.132, 0.077], NLL_gen = 2.127, NLL_div = 1.7798, Self-BLEU-[2, 3, 4] = [0.68, 0.379, 0.188]\n"
     ]
    },
    {
     "name": "stderr",
     "output_type": "stream",
     "text": [
      "g_loss: 0.9604, d_loss: 0.6024, temperature: 7.2444:  43%|████▎     | 43/100 [3:35:04<4:39:22, 294.08s/it]"
     ]
    },
    {
     "name": "stdout",
     "output_type": "stream",
     "text": [
      "[ADV] epoch 43: g_loss: 0.9604, d_loss: 0.6024, BLEU-[2, 3, 4, 5] = [0.598, 0.279, 0.126, 0.071], NLL_gen = 2.127, NLL_div = 1.8123, Self-BLEU-[2, 3, 4] = [0.691, 0.381, 0.192]\n"
     ]
    },
    {
     "name": "stderr",
     "output_type": "stream",
     "text": [
      "g_loss: 0.9443, d_loss: 0.6003, temperature: 7.5858:  44%|████▍     | 44/100 [3:39:53<4:33:13, 292.75s/it]"
     ]
    },
    {
     "name": "stdout",
     "output_type": "stream",
     "text": [
      "[ADV] epoch 44: g_loss: 0.9443, d_loss: 0.6003, BLEU-[2, 3, 4, 5] = [0.627, 0.303, 0.134, 0.074], NLL_gen = 2.127, NLL_div = 1.7748, Self-BLEU-[2, 3, 4] = [0.694, 0.388, 0.196]\n"
     ]
    },
    {
     "name": "stderr",
     "output_type": "stream",
     "text": [
      "g_loss: 0.9496, d_loss: 0.6172, temperature: 7.9433:  45%|████▌     | 45/100 [3:44:48<4:28:49, 293.27s/it]"
     ]
    },
    {
     "name": "stdout",
     "output_type": "stream",
     "text": [
      "[ADV] epoch 45: g_loss: 0.9496, d_loss: 0.6172, BLEU-[2, 3, 4, 5] = [0.582, 0.29, 0.14, 0.083], NLL_gen = 2.127, NLL_div = 1.8137, Self-BLEU-[2, 3, 4] = [0.688, 0.392, 0.196]\n"
     ]
    },
    {
     "name": "stderr",
     "output_type": "stream",
     "text": [
      "g_loss: 0.9949, d_loss: 0.6014, temperature: 8.3176:  46%|████▌     | 46/100 [3:49:43<4:24:27, 293.84s/it]"
     ]
    },
    {
     "name": "stdout",
     "output_type": "stream",
     "text": [
      "[ADV] epoch 46: g_loss: 0.9949, d_loss: 0.6014, BLEU-[2, 3, 4, 5] = [0.605, 0.284, 0.123, 0.07], NLL_gen = 2.1269, NLL_div = 1.7731, Self-BLEU-[2, 3, 4] = [0.69, 0.389, 0.186]\n"
     ]
    },
    {
     "name": "stderr",
     "output_type": "stream",
     "text": [
      "g_loss: 0.9197, d_loss: 0.6131, temperature: 8.7096:  47%|████▋     | 47/100 [3:54:46<4:22:03, 296.67s/it]"
     ]
    },
    {
     "name": "stdout",
     "output_type": "stream",
     "text": [
      "[ADV] epoch 47: g_loss: 0.9197, d_loss: 0.6131, BLEU-[2, 3, 4, 5] = [0.62, 0.295, 0.136, 0.079], NLL_gen = 2.1269, NLL_div = 1.7996, Self-BLEU-[2, 3, 4] = [0.697, 0.395, 0.2]\n"
     ]
    },
    {
     "name": "stderr",
     "output_type": "stream",
     "text": [
      "g_loss: 0.9555, d_loss: 0.6054, temperature: 9.1201:  48%|████▊     | 48/100 [3:59:48<4:18:33, 298.34s/it]"
     ]
    },
    {
     "name": "stdout",
     "output_type": "stream",
     "text": [
      "[ADV] epoch 48: g_loss: 0.9555, d_loss: 0.6054, BLEU-[2, 3, 4, 5] = [0.598, 0.277, 0.123, 0.071], NLL_gen = 2.1269, NLL_div = 1.7765, Self-BLEU-[2, 3, 4] = [0.676, 0.373, 0.182]\n"
     ]
    },
    {
     "name": "stderr",
     "output_type": "stream",
     "text": [
      "g_loss: 0.8534, d_loss: 0.5877, temperature: 9.5499:  49%|████▉     | 49/100 [4:04:53<4:15:04, 300.09s/it]"
     ]
    },
    {
     "name": "stdout",
     "output_type": "stream",
     "text": [
      "[ADV] epoch 49: g_loss: 0.8534, d_loss: 0.5877, BLEU-[2, 3, 4, 5] = [0.601, 0.297, 0.138, 0.078], NLL_gen = 2.1269, NLL_div = 1.7966, Self-BLEU-[2, 3, 4] = [0.666, 0.374, 0.186]\n"
     ]
    },
    {
     "name": "stderr",
     "output_type": "stream",
     "text": [
      "g_loss: 1.0082, d_loss: 0.5829, temperature: 10.0000:  50%|█████     | 50/100 [4:09:46<4:08:23, 298.06s/it]"
     ]
    },
    {
     "name": "stdout",
     "output_type": "stream",
     "text": [
      "[ADV] epoch 50: g_loss: 1.0082, d_loss: 0.5829, BLEU-[2, 3, 4, 5] = [0.614, 0.287, 0.126, 0.072], NLL_gen = 2.1268, NLL_div = 1.7838, Self-BLEU-[2, 3, 4] = [0.68, 0.375, 0.193]\n"
     ]
    },
    {
     "name": "stderr",
     "output_type": "stream",
     "text": [
      "g_loss: 0.9252, d_loss: 0.6003, temperature: 10.4713:  51%|█████     | 51/100 [4:14:41<4:02:41, 297.17s/it]"
     ]
    },
    {
     "name": "stdout",
     "output_type": "stream",
     "text": [
      "[ADV] epoch 51: g_loss: 0.9252, d_loss: 0.6003, BLEU-[2, 3, 4, 5] = [0.594, 0.282, 0.129, 0.073], NLL_gen = 2.1268, NLL_div = 1.7996, Self-BLEU-[2, 3, 4] = [0.684, 0.384, 0.19]\n"
     ]
    },
    {
     "name": "stderr",
     "output_type": "stream",
     "text": [
      "g_loss: 0.8885, d_loss: 0.6291, temperature: 10.9648:  52%|█████▏    | 52/100 [4:19:32<3:56:16, 295.35s/it]"
     ]
    },
    {
     "name": "stdout",
     "output_type": "stream",
     "text": [
      "[ADV] epoch 52: g_loss: 0.8885, d_loss: 0.6291, BLEU-[2, 3, 4, 5] = [0.606, 0.286, 0.131, 0.075], NLL_gen = 2.1268, NLL_div = 1.7791, Self-BLEU-[2, 3, 4] = [0.676, 0.371, 0.18]\n"
     ]
    },
    {
     "name": "stderr",
     "output_type": "stream",
     "text": [
      "g_loss: 1.0710, d_loss: 0.6050, temperature: 11.4815:  53%|█████▎    | 53/100 [4:24:25<3:50:47, 294.64s/it]"
     ]
    },
    {
     "name": "stdout",
     "output_type": "stream",
     "text": [
      "[ADV] epoch 53: g_loss: 1.0710, d_loss: 0.6050, BLEU-[2, 3, 4, 5] = [0.601, 0.287, 0.133, 0.074], NLL_gen = 2.1268, NLL_div = 1.734, Self-BLEU-[2, 3, 4] = [0.677, 0.378, 0.193]\n"
     ]
    },
    {
     "name": "stderr",
     "output_type": "stream",
     "text": [
      "g_loss: 0.9866, d_loss: 0.6104, temperature: 12.0226:  54%|█████▍    | 54/100 [4:29:14<3:44:38, 293.02s/it]"
     ]
    },
    {
     "name": "stdout",
     "output_type": "stream",
     "text": [
      "[ADV] epoch 54: g_loss: 0.9866, d_loss: 0.6104, BLEU-[2, 3, 4, 5] = [0.611, 0.283, 0.133, 0.076], NLL_gen = 2.1267, NLL_div = 1.7561, Self-BLEU-[2, 3, 4] = [0.684, 0.375, 0.185]\n"
     ]
    },
    {
     "name": "stderr",
     "output_type": "stream",
     "text": [
      "g_loss: 0.9553, d_loss: 0.6049, temperature: 12.5893:  55%|█████▌    | 55/100 [4:34:02<3:38:38, 291.51s/it]"
     ]
    },
    {
     "name": "stdout",
     "output_type": "stream",
     "text": [
      "[ADV] epoch 55: g_loss: 0.9553, d_loss: 0.6049, BLEU-[2, 3, 4, 5] = [0.595, 0.282, 0.131, 0.076], NLL_gen = 2.1267, NLL_div = 1.8091, Self-BLEU-[2, 3, 4] = [0.689, 0.39, 0.19]\n"
     ]
    },
    {
     "name": "stderr",
     "output_type": "stream",
     "text": [
      "g_loss: 0.8791, d_loss: 0.5995, temperature: 13.1826:  56%|█████▌    | 56/100 [4:38:52<3:33:18, 290.88s/it]"
     ]
    },
    {
     "name": "stdout",
     "output_type": "stream",
     "text": [
      "[ADV] epoch 56: g_loss: 0.8791, d_loss: 0.5995, BLEU-[2, 3, 4, 5] = [0.605, 0.294, 0.139, 0.08], NLL_gen = 2.1267, NLL_div = 1.7444, Self-BLEU-[2, 3, 4] = [0.675, 0.379, 0.19]\n"
     ]
    },
    {
     "name": "stderr",
     "output_type": "stream",
     "text": [
      "g_loss: 0.9729, d_loss: 0.5989, temperature: 13.8038:  57%|█████▋    | 57/100 [4:43:41<3:28:10, 290.48s/it]"
     ]
    },
    {
     "name": "stdout",
     "output_type": "stream",
     "text": [
      "[ADV] epoch 57: g_loss: 0.9729, d_loss: 0.5989, BLEU-[2, 3, 4, 5] = [0.584, 0.265, 0.124, 0.076], NLL_gen = 2.1267, NLL_div = 1.7475, Self-BLEU-[2, 3, 4] = [0.691, 0.381, 0.196]\n"
     ]
    },
    {
     "name": "stderr",
     "output_type": "stream",
     "text": [
      "g_loss: 0.9384, d_loss: 0.6204, temperature: 14.4544:  58%|█████▊    | 58/100 [4:48:34<3:23:50, 291.21s/it]"
     ]
    },
    {
     "name": "stdout",
     "output_type": "stream",
     "text": [
      "[ADV] epoch 58: g_loss: 0.9384, d_loss: 0.6204, BLEU-[2, 3, 4, 5] = [0.606, 0.289, 0.13, 0.077], NLL_gen = 2.1267, NLL_div = 1.7624, Self-BLEU-[2, 3, 4] = [0.703, 0.401, 0.204]\n"
     ]
    },
    {
     "name": "stderr",
     "output_type": "stream",
     "text": [
      "g_loss: 0.9706, d_loss: 0.5977, temperature: 15.1356:  59%|█████▉    | 59/100 [4:53:30<3:20:00, 292.69s/it]"
     ]
    },
    {
     "name": "stdout",
     "output_type": "stream",
     "text": [
      "[ADV] epoch 59: g_loss: 0.9706, d_loss: 0.5977, BLEU-[2, 3, 4, 5] = [0.612, 0.292, 0.134, 0.077], NLL_gen = 2.1267, NLL_div = 1.76, Self-BLEU-[2, 3, 4] = [0.659, 0.359, 0.179]\n"
     ]
    },
    {
     "name": "stderr",
     "output_type": "stream",
     "text": [
      "g_loss: 1.0253, d_loss: 0.6056, temperature: 15.8489:  60%|██████    | 60/100 [4:58:20<3:14:32, 291.81s/it]"
     ]
    },
    {
     "name": "stdout",
     "output_type": "stream",
     "text": [
      "[ADV] epoch 60: g_loss: 1.0253, d_loss: 0.6056, BLEU-[2, 3, 4, 5] = [0.604, 0.288, 0.137, 0.078], NLL_gen = 2.1266, NLL_div = 1.7426, Self-BLEU-[2, 3, 4] = [0.7, 0.39, 0.195]\n"
     ]
    },
    {
     "name": "stderr",
     "output_type": "stream",
     "text": [
      "g_loss: 0.9583, d_loss: 0.6102, temperature: 16.5959:  61%|██████    | 61/100 [5:03:15<3:10:21, 292.87s/it]"
     ]
    },
    {
     "name": "stdout",
     "output_type": "stream",
     "text": [
      "[ADV] epoch 61: g_loss: 0.9583, d_loss: 0.6102, BLEU-[2, 3, 4, 5] = [0.616, 0.296, 0.136, 0.079], NLL_gen = 2.1267, NLL_div = 1.6982, Self-BLEU-[2, 3, 4] = [0.687, 0.379, 0.184]\n"
     ]
    },
    {
     "name": "stderr",
     "output_type": "stream",
     "text": [
      "g_loss: 0.9646, d_loss: 0.6337, temperature: 17.3780:  62%|██████▏   | 62/100 [5:08:02<3:04:15, 290.92s/it]"
     ]
    },
    {
     "name": "stdout",
     "output_type": "stream",
     "text": [
      "[ADV] epoch 62: g_loss: 0.9646, d_loss: 0.6337, BLEU-[2, 3, 4, 5] = [0.612, 0.298, 0.133, 0.075], NLL_gen = 2.1267, NLL_div = 1.7171, Self-BLEU-[2, 3, 4] = [0.687, 0.376, 0.192]\n"
     ]
    },
    {
     "name": "stderr",
     "output_type": "stream",
     "text": [
      "g_loss: 0.9916, d_loss: 0.6110, temperature: 18.1970:  63%|██████▎   | 63/100 [5:12:46<2:58:07, 288.86s/it]"
     ]
    },
    {
     "name": "stdout",
     "output_type": "stream",
     "text": [
      "[ADV] epoch 63: g_loss: 0.9916, d_loss: 0.6110, BLEU-[2, 3, 4, 5] = [0.626, 0.297, 0.134, 0.079], NLL_gen = 2.1267, NLL_div = 1.7408, Self-BLEU-[2, 3, 4] = [0.672, 0.369, 0.185]\n"
     ]
    },
    {
     "name": "stderr",
     "output_type": "stream",
     "text": [
      "g_loss: 0.9228, d_loss: 0.5904, temperature: 19.0546:  64%|██████▍   | 64/100 [5:17:32<2:52:49, 288.04s/it]"
     ]
    },
    {
     "name": "stdout",
     "output_type": "stream",
     "text": [
      "[ADV] epoch 64: g_loss: 0.9228, d_loss: 0.5904, BLEU-[2, 3, 4, 5] = [0.62, 0.304, 0.138, 0.08], NLL_gen = 2.1267, NLL_div = 1.6812, Self-BLEU-[2, 3, 4] = [0.699, 0.398, 0.194]\n"
     ]
    },
    {
     "name": "stderr",
     "output_type": "stream",
     "text": [
      "g_loss: 0.9279, d_loss: 0.5881, temperature: 19.9526:  65%|██████▌   | 65/100 [5:22:16<2:47:23, 286.94s/it]"
     ]
    },
    {
     "name": "stdout",
     "output_type": "stream",
     "text": [
      "[ADV] epoch 65: g_loss: 0.9279, d_loss: 0.5881, BLEU-[2, 3, 4, 5] = [0.607, 0.289, 0.141, 0.081], NLL_gen = 2.1268, NLL_div = 1.695, Self-BLEU-[2, 3, 4] = [0.674, 0.378, 0.184]\n"
     ]
    },
    {
     "name": "stderr",
     "output_type": "stream",
     "text": [
      "g_loss: 0.9797, d_loss: 0.6074, temperature: 20.8930:  66%|██████▌   | 66/100 [5:27:08<2:43:27, 288.45s/it]"
     ]
    },
    {
     "name": "stdout",
     "output_type": "stream",
     "text": [
      "[ADV] epoch 66: g_loss: 0.9797, d_loss: 0.6074, BLEU-[2, 3, 4, 5] = [0.607, 0.279, 0.127, 0.073], NLL_gen = 2.1268, NLL_div = 1.7271, Self-BLEU-[2, 3, 4] = [0.69, 0.394, 0.201]\n"
     ]
    },
    {
     "name": "stderr",
     "output_type": "stream",
     "text": [
      "g_loss: 0.8906, d_loss: 0.5771, temperature: 21.8776:  67%|██████▋   | 67/100 [5:31:59<2:38:58, 289.03s/it]"
     ]
    },
    {
     "name": "stdout",
     "output_type": "stream",
     "text": [
      "[ADV] epoch 67: g_loss: 0.8906, d_loss: 0.5771, BLEU-[2, 3, 4, 5] = [0.611, 0.281, 0.129, 0.076], NLL_gen = 2.1268, NLL_div = 1.7027, Self-BLEU-[2, 3, 4] = [0.677, 0.378, 0.179]\n"
     ]
    },
    {
     "name": "stderr",
     "output_type": "stream",
     "text": [
      "g_loss: 1.0199, d_loss: 0.6137, temperature: 22.9087:  68%|██████▊   | 68/100 [5:36:40<2:32:55, 286.74s/it]"
     ]
    },
    {
     "name": "stdout",
     "output_type": "stream",
     "text": [
      "[ADV] epoch 68: g_loss: 1.0199, d_loss: 0.6137, BLEU-[2, 3, 4, 5] = [0.6, 0.281, 0.128, 0.071], NLL_gen = 2.1268, NLL_div = 1.675, Self-BLEU-[2, 3, 4] = [0.68, 0.381, 0.193]\n"
     ]
    },
    {
     "name": "stderr",
     "output_type": "stream",
     "text": [
      "g_loss: 1.0878, d_loss: 0.5826, temperature: 23.9883:  69%|██████▉   | 69/100 [5:41:23<2:27:32, 285.56s/it]"
     ]
    },
    {
     "name": "stdout",
     "output_type": "stream",
     "text": [
      "[ADV] epoch 69: g_loss: 1.0878, d_loss: 0.5826, BLEU-[2, 3, 4, 5] = [0.603, 0.29, 0.135, 0.078], NLL_gen = 2.1268, NLL_div = 1.687, Self-BLEU-[2, 3, 4] = [0.681, 0.368, 0.18]\n"
     ]
    },
    {
     "name": "stderr",
     "output_type": "stream",
     "text": [
      "g_loss: 0.9373, d_loss: 0.5838, temperature: 25.1189:  70%|███████   | 70/100 [5:46:07<2:22:29, 285.00s/it]"
     ]
    },
    {
     "name": "stdout",
     "output_type": "stream",
     "text": [
      "[ADV] epoch 70: g_loss: 0.9373, d_loss: 0.5838, BLEU-[2, 3, 4, 5] = [0.593, 0.272, 0.124, 0.073], NLL_gen = 2.1268, NLL_div = 1.675, Self-BLEU-[2, 3, 4] = [0.673, 0.374, 0.186]\n"
     ]
    },
    {
     "name": "stderr",
     "output_type": "stream",
     "text": [
      "g_loss: 0.9850, d_loss: 0.6384, temperature: 26.3027:  71%|███████   | 71/100 [5:50:55<2:18:15, 286.06s/it]"
     ]
    },
    {
     "name": "stdout",
     "output_type": "stream",
     "text": [
      "[ADV] epoch 71: g_loss: 0.9850, d_loss: 0.6384, BLEU-[2, 3, 4, 5] = [0.612, 0.3, 0.148, 0.086], NLL_gen = 2.1268, NLL_div = 1.7182, Self-BLEU-[2, 3, 4] = [0.681, 0.375, 0.186]\n"
     ]
    },
    {
     "name": "stderr",
     "output_type": "stream",
     "text": [
      "g_loss: 1.0060, d_loss: 0.5911, temperature: 27.5423:  72%|███████▏  | 72/100 [5:55:41<2:13:28, 286.03s/it]"
     ]
    },
    {
     "name": "stdout",
     "output_type": "stream",
     "text": [
      "[ADV] epoch 72: g_loss: 1.0060, d_loss: 0.5911, BLEU-[2, 3, 4, 5] = [0.611, 0.294, 0.13, 0.075], NLL_gen = 2.1269, NLL_div = 1.7246, Self-BLEU-[2, 3, 4] = [0.67, 0.354, 0.178]\n"
     ]
    },
    {
     "name": "stderr",
     "output_type": "stream",
     "text": [
      "g_loss: 0.9739, d_loss: 0.5741, temperature: 28.8403:  73%|███████▎  | 73/100 [6:00:28<2:08:46, 286.18s/it]"
     ]
    },
    {
     "name": "stdout",
     "output_type": "stream",
     "text": [
      "[ADV] epoch 73: g_loss: 0.9739, d_loss: 0.5741, BLEU-[2, 3, 4, 5] = [0.589, 0.273, 0.126, 0.075], NLL_gen = 2.1269, NLL_div = 1.6769, Self-BLEU-[2, 3, 4] = [0.677, 0.37, 0.192]\n"
     ]
    },
    {
     "name": "stderr",
     "output_type": "stream",
     "text": [
      "g_loss: 1.1112, d_loss: 0.5902, temperature: 30.1995:  74%|███████▍  | 74/100 [6:05:10<2:03:30, 285.01s/it]"
     ]
    },
    {
     "name": "stdout",
     "output_type": "stream",
     "text": [
      "[ADV] epoch 74: g_loss: 1.1112, d_loss: 0.5902, BLEU-[2, 3, 4, 5] = [0.598, 0.279, 0.125, 0.072], NLL_gen = 2.1269, NLL_div = 1.6554, Self-BLEU-[2, 3, 4] = [0.676, 0.364, 0.178]\n"
     ]
    },
    {
     "name": "stderr",
     "output_type": "stream",
     "text": [
      "g_loss: 1.0523, d_loss: 0.5970, temperature: 31.6228:  75%|███████▌  | 75/100 [6:09:54<1:58:35, 284.63s/it]"
     ]
    },
    {
     "name": "stdout",
     "output_type": "stream",
     "text": [
      "[ADV] epoch 75: g_loss: 1.0523, d_loss: 0.5970, BLEU-[2, 3, 4, 5] = [0.614, 0.289, 0.134, 0.078], NLL_gen = 2.1269, NLL_div = 1.6743, Self-BLEU-[2, 3, 4] = [0.698, 0.395, 0.195]\n"
     ]
    },
    {
     "name": "stderr",
     "output_type": "stream",
     "text": [
      "g_loss: 0.9927, d_loss: 0.5976, temperature: 33.1131:  76%|███████▌  | 76/100 [6:14:36<1:53:34, 283.95s/it]"
     ]
    },
    {
     "name": "stdout",
     "output_type": "stream",
     "text": [
      "[ADV] epoch 76: g_loss: 0.9927, d_loss: 0.5976, BLEU-[2, 3, 4, 5] = [0.629, 0.295, 0.133, 0.078], NLL_gen = 2.127, NLL_div = 1.6625, Self-BLEU-[2, 3, 4] = [0.68, 0.375, 0.185]\n"
     ]
    },
    {
     "name": "stderr",
     "output_type": "stream",
     "text": [
      "g_loss: 1.0014, d_loss: 0.6074, temperature: 34.6737:  77%|███████▋  | 77/100 [6:19:16<1:48:21, 282.67s/it]"
     ]
    },
    {
     "name": "stdout",
     "output_type": "stream",
     "text": [
      "[ADV] epoch 77: g_loss: 1.0014, d_loss: 0.6074, BLEU-[2, 3, 4, 5] = [0.62, 0.306, 0.146, 0.083], NLL_gen = 2.1271, NLL_div = 1.6695, Self-BLEU-[2, 3, 4] = [0.687, 0.387, 0.201]\n"
     ]
    },
    {
     "name": "stderr",
     "output_type": "stream",
     "text": [
      "g_loss: 0.8520, d_loss: 0.5818, temperature: 36.3078:  78%|███████▊  | 78/100 [6:24:04<1:44:11, 284.18s/it]"
     ]
    },
    {
     "name": "stdout",
     "output_type": "stream",
     "text": [
      "[ADV] epoch 78: g_loss: 0.8520, d_loss: 0.5818, BLEU-[2, 3, 4, 5] = [0.628, 0.297, 0.141, 0.082], NLL_gen = 2.1271, NLL_div = 1.6512, Self-BLEU-[2, 3, 4] = [0.685, 0.381, 0.191]\n"
     ]
    },
    {
     "name": "stderr",
     "output_type": "stream",
     "text": [
      "g_loss: 0.9042, d_loss: 0.5925, temperature: 38.0189:  79%|███████▉  | 79/100 [6:28:51<1:39:50, 285.26s/it]"
     ]
    },
    {
     "name": "stdout",
     "output_type": "stream",
     "text": [
      "[ADV] epoch 79: g_loss: 0.9042, d_loss: 0.5925, BLEU-[2, 3, 4, 5] = [0.616, 0.289, 0.134, 0.077], NLL_gen = 2.1271, NLL_div = 1.668, Self-BLEU-[2, 3, 4] = [0.686, 0.377, 0.195]\n"
     ]
    },
    {
     "name": "stderr",
     "output_type": "stream",
     "text": [
      "g_loss: 1.0323, d_loss: 0.6103, temperature: 39.8107:  80%|████████  | 80/100 [6:33:30<1:34:26, 283.31s/it]"
     ]
    },
    {
     "name": "stdout",
     "output_type": "stream",
     "text": [
      "[ADV] epoch 80: g_loss: 1.0323, d_loss: 0.6103, BLEU-[2, 3, 4, 5] = [0.604, 0.279, 0.129, 0.075], NLL_gen = 2.1272, NLL_div = 1.6177, Self-BLEU-[2, 3, 4] = [0.674, 0.365, 0.184]\n"
     ]
    },
    {
     "name": "stderr",
     "output_type": "stream",
     "text": [
      "g_loss: 1.0504, d_loss: 0.5837, temperature: 41.6869:  81%|████████  | 81/100 [6:38:13<1:29:42, 283.30s/it]"
     ]
    },
    {
     "name": "stdout",
     "output_type": "stream",
     "text": [
      "[ADV] epoch 81: g_loss: 1.0504, d_loss: 0.5837, BLEU-[2, 3, 4, 5] = [0.623, 0.298, 0.134, 0.076], NLL_gen = 2.1272, NLL_div = 1.6477, Self-BLEU-[2, 3, 4] = [0.678, 0.363, 0.178]\n"
     ]
    },
    {
     "name": "stderr",
     "output_type": "stream",
     "text": [
      "g_loss: 1.0247, d_loss: 0.6101, temperature: 43.6516:  82%|████████▏ | 82/100 [6:42:55<1:24:51, 282.85s/it]"
     ]
    },
    {
     "name": "stdout",
     "output_type": "stream",
     "text": [
      "[ADV] epoch 82: g_loss: 1.0247, d_loss: 0.6101, BLEU-[2, 3, 4, 5] = [0.618, 0.29, 0.131, 0.078], NLL_gen = 2.1272, NLL_div = 1.6471, Self-BLEU-[2, 3, 4] = [0.671, 0.378, 0.188]\n"
     ]
    },
    {
     "name": "stderr",
     "output_type": "stream",
     "text": [
      "g_loss: 0.9605, d_loss: 0.5841, temperature: 45.7088:  83%|████████▎ | 83/100 [6:47:36<1:19:57, 282.21s/it]"
     ]
    },
    {
     "name": "stdout",
     "output_type": "stream",
     "text": [
      "[ADV] epoch 83: g_loss: 0.9605, d_loss: 0.5841, BLEU-[2, 3, 4, 5] = [0.606, 0.281, 0.132, 0.079], NLL_gen = 2.1272, NLL_div = 1.6015, Self-BLEU-[2, 3, 4] = [0.68, 0.379, 0.188]\n"
     ]
    },
    {
     "name": "stderr",
     "output_type": "stream",
     "text": [
      "g_loss: 1.0055, d_loss: 0.5791, temperature: 47.8630:  84%|████████▍ | 84/100 [6:52:14<1:14:57, 281.07s/it]"
     ]
    },
    {
     "name": "stdout",
     "output_type": "stream",
     "text": [
      "[ADV] epoch 84: g_loss: 1.0055, d_loss: 0.5791, BLEU-[2, 3, 4, 5] = [0.61, 0.287, 0.131, 0.077], NLL_gen = 2.1272, NLL_div = 1.6196, Self-BLEU-[2, 3, 4] = [0.679, 0.369, 0.187]\n"
     ]
    },
    {
     "name": "stderr",
     "output_type": "stream",
     "text": [
      "g_loss: 1.0405, d_loss: 0.5930, temperature: 50.1187:  85%|████████▌ | 85/100 [6:56:50<1:09:50, 279.34s/it]"
     ]
    },
    {
     "name": "stdout",
     "output_type": "stream",
     "text": [
      "[ADV] epoch 85: g_loss: 1.0405, d_loss: 0.5930, BLEU-[2, 3, 4, 5] = [0.604, 0.283, 0.131, 0.073], NLL_gen = 2.1272, NLL_div = 1.6166, Self-BLEU-[2, 3, 4] = [0.69, 0.367, 0.192]\n"
     ]
    },
    {
     "name": "stderr",
     "output_type": "stream",
     "text": [
      "g_loss: 0.9665, d_loss: 0.5826, temperature: 52.4807:  86%|████████▌ | 86/100 [7:01:30<1:05:14, 279.64s/it]"
     ]
    },
    {
     "name": "stdout",
     "output_type": "stream",
     "text": [
      "[ADV] epoch 86: g_loss: 0.9665, d_loss: 0.5826, BLEU-[2, 3, 4, 5] = [0.597, 0.281, 0.133, 0.078], NLL_gen = 2.1272, NLL_div = 1.6373, Self-BLEU-[2, 3, 4] = [0.678, 0.369, 0.189]\n"
     ]
    },
    {
     "name": "stderr",
     "output_type": "stream",
     "text": [
      "g_loss: 1.0640, d_loss: 0.5750, temperature: 54.9541:  87%|████████▋ | 87/100 [7:06:03<1:00:11, 277.81s/it]"
     ]
    },
    {
     "name": "stdout",
     "output_type": "stream",
     "text": [
      "[ADV] epoch 87: g_loss: 1.0640, d_loss: 0.5750, BLEU-[2, 3, 4, 5] = [0.608, 0.291, 0.135, 0.079], NLL_gen = 2.1272, NLL_div = 1.6657, Self-BLEU-[2, 3, 4] = [0.677, 0.369, 0.183]\n"
     ]
    },
    {
     "name": "stderr",
     "output_type": "stream",
     "text": [
      "g_loss: 1.0466, d_loss: 0.5874, temperature: 57.5440:  88%|████████▊ | 88/100 [7:10:43<55:40, 278.36s/it]"
     ]
    },
    {
     "name": "stdout",
     "output_type": "stream",
     "text": [
      "[ADV] epoch 88: g_loss: 1.0466, d_loss: 0.5874, BLEU-[2, 3, 4, 5] = [0.602, 0.288, 0.135, 0.077], NLL_gen = 2.1272, NLL_div = 1.6341, Self-BLEU-[2, 3, 4] = [0.674, 0.371, 0.183]\n"
     ]
    },
    {
     "name": "stderr",
     "output_type": "stream",
     "text": [
      "g_loss: 1.0166, d_loss: 0.5685, temperature: 60.2560:  89%|████████▉ | 89/100 [7:15:19<50:54, 277.65s/it]"
     ]
    },
    {
     "name": "stdout",
     "output_type": "stream",
     "text": [
      "[ADV] epoch 89: g_loss: 1.0166, d_loss: 0.5685, BLEU-[2, 3, 4, 5] = [0.611, 0.288, 0.132, 0.078], NLL_gen = 2.1272, NLL_div = 1.5965, Self-BLEU-[2, 3, 4] = [0.666, 0.377, 0.195]\n"
     ]
    },
    {
     "name": "stderr",
     "output_type": "stream",
     "text": [
      "g_loss: 1.0100, d_loss: 0.5820, temperature: 63.0957:  90%|█████████ | 90/100 [7:19:56<46:14, 277.42s/it]"
     ]
    },
    {
     "name": "stdout",
     "output_type": "stream",
     "text": [
      "[ADV] epoch 90: g_loss: 1.0100, d_loss: 0.5820, BLEU-[2, 3, 4, 5] = [0.598, 0.287, 0.13, 0.076], NLL_gen = 2.1272, NLL_div = 1.5831, Self-BLEU-[2, 3, 4] = [0.667, 0.37, 0.186]\n"
     ]
    },
    {
     "name": "stderr",
     "output_type": "stream",
     "text": [
      "g_loss: 0.9342, d_loss: 0.5989, temperature: 66.0693:  91%|█████████ | 91/100 [7:24:33<41:35, 277.26s/it]"
     ]
    },
    {
     "name": "stdout",
     "output_type": "stream",
     "text": [
      "[ADV] epoch 91: g_loss: 0.9342, d_loss: 0.5989, BLEU-[2, 3, 4, 5] = [0.602, 0.284, 0.132, 0.077], NLL_gen = 2.1273, NLL_div = 1.6167, Self-BLEU-[2, 3, 4] = [0.681, 0.393, 0.205]\n"
     ]
    },
    {
     "name": "stderr",
     "output_type": "stream",
     "text": [
      "g_loss: 0.9637, d_loss: 0.5911, temperature: 69.1831:  92%|█████████▏| 92/100 [7:29:15<37:08, 278.62s/it]"
     ]
    },
    {
     "name": "stdout",
     "output_type": "stream",
     "text": [
      "[ADV] epoch 92: g_loss: 0.9637, d_loss: 0.5911, BLEU-[2, 3, 4, 5] = [0.616, 0.302, 0.138, 0.08], NLL_gen = 2.1273, NLL_div = 1.6038, Self-BLEU-[2, 3, 4] = [0.686, 0.367, 0.179]\n"
     ]
    },
    {
     "name": "stderr",
     "output_type": "stream",
     "text": [
      "g_loss: 0.9961, d_loss: 0.5722, temperature: 72.4436:  93%|█████████▎| 93/100 [7:33:57<32:39, 279.93s/it]"
     ]
    },
    {
     "name": "stdout",
     "output_type": "stream",
     "text": [
      "[ADV] epoch 93: g_loss: 0.9961, d_loss: 0.5722, BLEU-[2, 3, 4, 5] = [0.628, 0.302, 0.154, 0.09], NLL_gen = 2.1273, NLL_div = 1.5951, Self-BLEU-[2, 3, 4] = [0.677, 0.371, 0.184]\n"
     ]
    },
    {
     "name": "stderr",
     "output_type": "stream",
     "text": [
      "g_loss: 1.0809, d_loss: 0.5700, temperature: 75.8578:  94%|█████████▍| 94/100 [7:38:37<27:58, 279.77s/it]"
     ]
    },
    {
     "name": "stdout",
     "output_type": "stream",
     "text": [
      "[ADV] epoch 94: g_loss: 1.0809, d_loss: 0.5700, BLEU-[2, 3, 4, 5] = [0.599, 0.288, 0.139, 0.082], NLL_gen = 2.1274, NLL_div = 1.6032, Self-BLEU-[2, 3, 4] = [0.68, 0.375, 0.19]\n"
     ]
    },
    {
     "name": "stderr",
     "output_type": "stream",
     "text": [
      "g_loss: 0.9912, d_loss: 0.5824, temperature: 79.4328:  95%|█████████▌| 95/100 [7:43:17<23:18, 279.74s/it]"
     ]
    },
    {
     "name": "stdout",
     "output_type": "stream",
     "text": [
      "[ADV] epoch 95: g_loss: 0.9912, d_loss: 0.5824, BLEU-[2, 3, 4, 5] = [0.621, 0.302, 0.141, 0.083], NLL_gen = 2.1274, NLL_div = 1.5983, Self-BLEU-[2, 3, 4] = [0.671, 0.366, 0.187]\n"
     ]
    },
    {
     "name": "stderr",
     "output_type": "stream",
     "text": [
      "g_loss: 1.0113, d_loss: 0.5939, temperature: 83.1764:  96%|█████████▌| 96/100 [7:47:58<18:40, 280.10s/it]"
     ]
    },
    {
     "name": "stdout",
     "output_type": "stream",
     "text": [
      "[ADV] epoch 96: g_loss: 1.0113, d_loss: 0.5939, BLEU-[2, 3, 4, 5] = [0.607, 0.273, 0.127, 0.074], NLL_gen = 2.1274, NLL_div = 1.5849, Self-BLEU-[2, 3, 4] = [0.662, 0.369, 0.187]\n"
     ]
    },
    {
     "name": "stderr",
     "output_type": "stream",
     "text": [
      "g_loss: 1.0788, d_loss: 0.6069, temperature: 87.0964:  97%|█████████▋| 97/100 [7:52:38<14:00, 280.16s/it]"
     ]
    },
    {
     "name": "stdout",
     "output_type": "stream",
     "text": [
      "[ADV] epoch 97: g_loss: 1.0788, d_loss: 0.6069, BLEU-[2, 3, 4, 5] = [0.599, 0.287, 0.136, 0.079], NLL_gen = 2.1274, NLL_div = 1.6166, Self-BLEU-[2, 3, 4] = [0.677, 0.373, 0.187]\n"
     ]
    },
    {
     "name": "stderr",
     "output_type": "stream",
     "text": [
      "g_loss: 1.0435, d_loss: 0.5727, temperature: 91.2011:  98%|█████████▊| 98/100 [7:57:19<09:20, 280.40s/it]"
     ]
    },
    {
     "name": "stdout",
     "output_type": "stream",
     "text": [
      "[ADV] epoch 98: g_loss: 1.0435, d_loss: 0.5727, BLEU-[2, 3, 4, 5] = [0.619, 0.301, 0.142, 0.084], NLL_gen = 2.1274, NLL_div = 1.5934, Self-BLEU-[2, 3, 4] = [0.675, 0.361, 0.177]\n"
     ]
    },
    {
     "name": "stderr",
     "output_type": "stream",
     "text": [
      "g_loss: 1.1126, d_loss: 0.5797, temperature: 95.4993:  99%|█████████▉| 99/100 [8:01:57<04:39, 279.71s/it]"
     ]
    },
    {
     "name": "stdout",
     "output_type": "stream",
     "text": [
      "[ADV] epoch 99: g_loss: 1.1126, d_loss: 0.5797, BLEU-[2, 3, 4, 5] = [0.633, 0.3, 0.144, 0.086], NLL_gen = 2.1275, NLL_div = 1.5816, Self-BLEU-[2, 3, 4] = [0.674, 0.379, 0.195]\n"
     ]
    },
    {
     "name": "stderr",
     "output_type": "stream",
     "text": [
      "g_loss: 1.1126, d_loss: 0.5797, temperature: 95.4993: 100%|██████████| 100/100 [8:06:27<00:00, 291.87s/it]\n"
     ]
    }
   ],
   "source": [
    "instructor._run()"
   ]
  },
  {
   "cell_type": "code",
   "execution_count": 0,
   "metadata": {
    "colab": {
     "base_uri": "https://localhost:8080/",
     "height": 1000
    },
    "colab_type": "code",
    "id": "ewaGv5wf1frw",
    "outputId": "4f5e16d9-5752-495b-fb55-40a9e4823ef4",
    "scrolled": false
   },
   "outputs": [
    {
     "name": "stdout",
     "output_type": "stream",
     "text": [
      "['michael', 'boyle', 'charges', ',', 'when', 'some', 'serious', 'topic', 'is', 'now', ',', 'not', 'be', 'occupied', 'when', 'a', 'gunman', 'after', 'a', 'move', 'several', 'guest', 'company', 'that', 'would', 'go', 'as', 'you', 'check', 'here', 'on', 'the', 'last', 'week', \"'s\", 'best-selling', 'list', 'of', 'a', 'republican', 'national', 'convention', '.']\n",
      "\n",
      "['they', 'were', 'the', 'year', ',', 'defended', 'last', 'year', '.']\n",
      "\n",
      "['such', 'incidents', '.']\n",
      "\n",
      "['by', 'richard', 'faussetaug', '.']\n",
      "\n",
      "['if', ':', 'the', 'report', 'was', 'in', 'the', 'face', 'of', 'new', 'york', '’', 's', '(', 'cnn', ')', '--', 'but', 'eight', 'days', 'you', 'are', 'this', 'time', ',', 'is', 'worth', 'less', 'than', 'be', 'made', '.']\n",
      "\n",
      "['over', 'monday', 'arrested', 'what', 'was', 'once', 'a', 'gm', 'of', '``', 'you', 'saw', 'making', 'a', 'tattoo', 'from', 'the', 'top', 'to', 'the', 'leg', 'of', 'sarcastic', 'ecstasy', ',', 'we', 'known', 'as', 'the', 'minnesota', 'vikings', 'is', 'backed', 'on', 'the', 'report', '.']\n",
      "\n",
      "['after', 'she', 'compares', 'to', 'what', 'are', 'the', 'most', 'off-putting', 'thing', 'for', 'the', 'time', ':', 'a', 'few', 'small', 'world', ',', 'scientists', 'union', 'five', 'years', 'ago', '.']\n",
      "\n",
      "['by', 'hasani', 'gittens', ',', 'a', '13-year-old', 'hat', 'whose', 'queen', 'bee', 'has', 'immortalized', 'that', 'epithet', ',', 'a', 'brooklyn', 'himself', 'are', 'her', 'condition', 'of', 'deepening', 'liberal', 'stage', ',', 'â\\x80\\x9d', 'cinemaxâ\\x80\\x99s', '/', 'for', 'a', 'captivating', 'eight', 'minutes', ',', 'including', 'a', 'weapon', 'with', 'the', 'publication', 'shook', 'sunday', 'afternoon', 'against', 'a', '5-year-old', 'student', 'was', 'killed']\n",
      "\n",
      "['updated', 'mar', '8', '\\x97', 'the', 'revolt', 'had', 'just', 'yet', 'another', 'off', 'the', 'interstate', 'business', 'administration', '.']\n",
      "\n",
      "['each', 'week', ',', 'some', 'fresh', 'the', 'euro', 'is', 'critical', ',', 'are', 'particularly', 'two', '.']\n",
      "\n",
      "['jeremy', 'corbyn', 'struggle', 'the', 'republican', 'elite', 'state', 'leader', 'said', 'tuesday', 'that', 'drew', 'criticism', 'from', 'asia', ',', 'on', 'saturday', '.']\n",
      "\n",
      "['bullfighting', 'say', 'the', 'pair', 'point', 'will', 'also', 'come', 'as', 'they', 'expected', 'to', 'hold', 'big', 'than', 'the', 'central', 'annual', 'government', '.']\n",
      "\n",
      "['one', 'was', 'supposed', 'to', 'last', 'fall', 'to', 'listen', 'to', 'tour', 'having', 'dinner', 'off', 'her', 'safe', 'and', 'performance', 'at', 'euro', 'zone', 'countries', ',', 'giving', 'your', 'service', 'tomorrow', '.']\n",
      "\n",
      "['the', 'man', 'is', 'considering', 'email', 'from', 'the', 'massachusetts', 'reporting', 'from', 'developer', 'or', 'talks', 'committee', 'time', 'on', 'friday', ',', 'december', '20', ',', '2014', ',', 'the', 'marketing', 'explosion', 'for', 'greater', 'million', ',', 'costa', 'rica', '.']\n",
      "\n",
      "['if', 'some', 'of', 'his', 'day', 'he', 'was', 'hanging', 'the', 'ancient', 'girls', 'who', 'recently', 'seeking', 'such', 'privileged', ',', 'shows', 'the', 'nomination', 'series', '“', 'we', 'crossed', 'in', 'a', 'phone', 'tour', 'and', 'scrutiny', 'coach', 'i', 'have', 'shifted', 'to', '.']\n",
      "\n",
      "['i', 'was', 'supposed', 'to', 'see', 'them', 'killing', 'all', 'things', 'any', 'it', 'can', 'do', 'not', 'adjust', 'for', 'bill', '’', 's', 'referendum', 'line', '.']\n",
      "\n",
      "['it', '’', 's', 'decision', 'to', 'leave', 'said', '.']\n",
      "\n",
      "['home', 'from', 'serbia', 'was', 'a', 'special', 'victory', 'in', 'after', 'more', 'than', 'two', 'months', 'away', 'since', '“', 'she', '(', 'start', 'in', 'a', 'very', 'stage', '.', \"''\"]\n",
      "\n",
      "['west', '24th', 'san', 'diego', 'chris', 'graham', ',', 'tells', 'fox', 'news', 'on', 'abc', 'affiliate', \"'s\", 'new', 'york', 'athletic', 'correspondent', 'show', 'in', 'the', 'shooting', 'death', 'of', 'driving', 'a', 'plan', 'for', 'a', 'lack', 'of', 'a', 'real', 'start', 'up', 'to', 'rain', 'down', 'the', 'seahawks', 'of', 'his', 'political', 'rivals', '.']\n",
      "\n",
      "['and', 'the', 'federal', 'fund', 'metric', 'told', 'his', 'public', 'services', 'and', 'investors', 'on', 'the', 'road', 'and', 'later', 'has', 'raised', 'another', 'consecutive', 'days', '.']\n",
      "\n",
      "['elizabeth', 'ford', 'is', 'a', 'happy', 'close', 'to', 'have', 'any', 'easier', 'and', 'the', 'web', 'of', 'ukraine', 'receded', '.']\n",
      "\n",
      "['in', 'a', 'nine-rider', 'team', '.']\n",
      "\n",
      "['the', 'increasingly', 'strenuous', 'heat', 'also', 'for', 'an', '$', '8', 'million', 'total', 'stake', 'in', 'a', 'last', 'few', 'years', '—', 'as', 'the', 'former', 'chief', 'executive', 'director', 'of', 'iraq', 'to', 'the', 'aftermath', 'of', 'the', 'presidency', 'where', 'he', 'filed', 'a', 'law', 'in', 'ukraine', 'receded', ',', 'in', 'a', 'harrumph', 'and', 'economic', 'losses', 'that', \"'s\", 'lawyers']\n",
      "\n",
      "['the', 'deal', ',', 'a', 'physics', 'and', 'food', 'forâ', 'them', 'stolen', 'or', 'winner', ',', 'reflecting', 'a', 'parliamentary', 'study', 'to', 'offset', 'services', 'even', 'on', 'salesforce', 'robbins', 'and', 'leadership', 'workers', 'and', 'tighter', 'ismail', 'haniyeh', '.']\n",
      "\n",
      "['memphis', '--', 'perry', 'essentially', 'a', 'woman', 'after', 'the', 'job', 'for', 'a', 'morally', 'upright', 'a', 'late', 'father', 'wednesday', 'afternoon', 'sent', 'behind', 'general', 'member', 'of', '``', 'positive', 'episode', ',', '``', 'there', '.']\n",
      "\n",
      "['you', 'think', 'it', 'probably', 'be', 'in', 'set', 'your', 'train', 'these', 'days', 'while', 'allowing', 'her', 'thoughts', 'about', 'a', 'phone', 'with', 'his', 'parents', \"'\", 'nicknames', 'he', 'twice', 'when', 'it', 'was', 'the', 'darkest', 'spot', 'where', 'the', 'supreme', 'court', 'when', 'he', 'will', 'go', 'under', 'his', 'work', 'three', 'sex', 'with', 'an', 'interview', 'with', 'a', 'model']\n",
      "\n",
      "['for', 'among', 'americans', 'had', '``', 'the', 'holidays', 'are', 'low', '.']\n",
      "\n",
      "['when', 'i', 'do', \"n't\", 'look', 'in', 'certain', 'high-paying', ',', 'the', 'same', 'seaside', 'meaning', 'of', 'brexit', ',', 'and', 'facebook', 'has', 'just', 'given', 'a', 'legal', 'about', 'details', 'they', 'launched', 'officially', 'more', 'than', 'those', 'who', 'also', 'come', 'that', 'can', 'influence', 'plenty', 'of', 'preventing', 'leakage', 'more', 'than', 'a', 'price', 'attack', '.']\n",
      "\n",
      "['(', 'aap', ')', 'prominent', 'engineer', 'with', 'defender', 'rafael', 'correa', 'to', 'play', 'in', 'mexico', ',', 'responded', 'from', 'an', 'angry', 'community', 'that', 'will', 'be', 'tied', 'the', 'near-collapse', 'when', 'the', 'firm', '’', 's', 'greatness', 'reports', 'past', 'and', 'the', 'story', 'of', 'starbucks', '.']\n",
      "\n",
      "['there', '’', 's', 'another', 'important', 'app', 'for', 'his', 'long', 'weekend', ',', 'the', 'man', 'and', 'lost', 'productivity', 'to', 'walk', 'it', 'with', 'a', 'new', 'car', 'this', 'week', 'if', 'he', 'will', 'succeed', ',', '”', 'on', 'saturday', '.']\n",
      "\n",
      "['pokémon', 'and', 'public', 'party', '’', 's', 'day', ',', 'many', 'and', '10', 'years', 'and', 'french', 'forces', 'has', 'a', 'life', 'in', 'kent', '.']\n",
      "\n",
      "['“', 'i', 'one', 'really', 'had', 'just', 'before', 'me', '?']\n",
      "\n",
      "['come', 'from', 'a', '2013', 'river', ',', '20', '.']\n",
      "\n",
      "['three-quarters', 'of', 'the', 'little', 'payments', 'administration', \"'s\", 'most', 'before', 'the', 'meeting', 'on', 'the', 'process', '.']\n",
      "\n",
      "['at', 'least', '20', 'people', 'with', 'michelle', 'obama', \"'s\", 'deadly', 'bombs', 'between', 'the', 'japanese', 'corporation', 'members', '.']\n",
      "\n",
      "['for', 'robinson', 'was', 'shown', 'when', 'he', 'confronted', 'his', 'touring', 'debut', 'near', 'st.', 'clair', ',', 'judy', 'and', 'hiroki', 'kuroda', 'became', 'always', 'gotten', 'prices', 'to', 'swipe', 'with', 'adult', 'train', ',', 'has', 'been', 'not', '.']\n",
      "\n",
      "['they', 'include', 'a', 'piece', 'of', 'new', 'orleans', ',', 'warner', 'bros.', 'overnight', 'virtual', ',', 'canada', '’', 's', 'capital', 'career', '.']\n",
      "\n",
      "['robert', 'reck', 'to', 'the', 'new', 'york', 'airlines', 'will', 'soon', 'join', 'the', 'greek', 'world', ',', 'but', 'many', 'drugs', 'and', 'sold', 'in', 'political', 'media', ',', 'has', 'a', 'california', 'policy', '.']\n",
      "\n",
      "['but', 'while', 'not', 'our', 'statues', 'align', 'that', 'the', 'project', '—', 'but', 'the', 'front', 'pieces', 'of', 'the', 'new', 'york', 'city', ',', 'jim', 'sells', 'behind', 'the', 'time', '.']\n",
      "\n",
      "['what', 'is', 'often', 'true', ',', 'can', 'wait', 'until', 'the', 'car', 'was', 'ending', 'a', 'surprise', 'at', 'the', 'reins', 'capital', ',', 'grey', ',', 'recently', 'told', 'the', 'daily', 'news', ',', 'though', 'she', 'spoke', 'to', 'be', 'treated', 'for', 'top', 'nuclear', 'weapons', 'ban', 'for', 'more', 'attention', 'away', 'from', 'the', 'scene', 'within', 'the', 'next', 'several', 'months']\n",
      "\n",
      "['the', 'iconic', 'girl', 'is', 'expanding', 'to', 'the', 'drug', '.']\n",
      "\n",
      "['“', 'there', 'are', 'a', 'shot', 'or', 'to', 'a', 'special', 'perspective', 'started', 'in', 'portland', ',', 'according', 'to', 'cnn', \"'s\", 'national', 'report', 'in', 'new', 'york', 'city', '.']\n",
      "\n",
      "['beverages', 'says', 'it', 'is', 'placing', 'more', 'than', 'record', '.']\n",
      "\n",
      "['it', '’', 's', 'share', 'the', 'east', ',', 'but', 'i', 'was', 'right', '.']\n",
      "\n",
      "['phil', 'woolas', ',', 'are', 're-emerging', 'at', '03:20', 'am', 'edt', ',', 'george', 'washington', '(', 'cnn', ')', '-', 'the', 'government', 'has', 'approved', '.']\n",
      "\n",
      "['2014', ',', 'texas', ',', 'said', 'that', 'a', 'one', 'condition', 'called', 'and', 'choking', 'his', 'eyes', 'list', 'people', 'at', 'the', 'cmt', 'clinic', 'with', '8', '50', 'cent', 'for', 'the', 'last', 'year', 'he', '.']\n",
      "\n",
      "['fans', 'in', 'the', 'school', 'bill', 'at', 'the', 'dreamforce', ',', 'which', 'could', 'make', 'your', 'picks', '.']\n",
      "\n",
      "['gift', 'rick', 'perry', 'is', 'trying', 'to', 'decipher', 'fans', 'around', 'the', 'federal', 'service', 'of', 'the', 'city', 'of', 'her', 'stepbrother', 'by', 'getty', 'images', 'a', 'brooklyn', 'bridge', 'to', 'his', 'name', 'when', 'armed', '25', 'were', 'injured', 'that', 'it', \"'s\", 'worth', 'more', 'than', 'over', 'more', 'than', '600', 'period', 'of', 'the', 'big', 'screen', 'or', 'his', 'use']\n",
      "\n",
      "['a', 'new', 'study', 'published', 'yesterday', ',', 'authorities', 'say', '.']\n",
      "\n",
      "['the', 'cnn', 'opinion', 'of', 'need', 'comfortable', 'to', 'list', 'other', 'as', 'last', 'week', 'to', 'carry', 'and', 'remembering', '9/11', 'state', 'and', 'the', 'choice', 'effect', '.', \"'\"]\n",
      "\n",
      "['stock', 'is', 'out', 'of', 'that', 'devastating', 'viruses', ',', 'on', 'trial', '.']\n",
      "\n",
      "['during', 'the', 'filming', ',', 'which', 'she', 'performed', 'his', 'just', 'yet', 'another', ',', 'with', 'fashion', '.']\n",
      "\n",
      "['washington', '—', 'duke', 'was', 'hanging', 'about', 'her', 'alleged', 'views', ',', 'said', 'movies', 'and', 'conspiracy', 'theories', 'to', 'be', 'able', 'to', 'focus', 'on', 'sept.', '13', '.']\n",
      "\n",
      "['the', 'embattled', 'singer', 'could', \"n't\", 'remain', 'cut', 'from', 'the', 'presidential', 'election', ',', 'sending', '“', 'broken', 'out', 'an', 'college', ',', '”', 'according', 'to', 'health', 'officials', '.']\n",
      "\n",
      "['in', 'a', 'car', 'at', 'the', 'sundance', 'film', 'festival', 'once', 'again', '.']\n",
      "\n",
      "['the', '20-year-old', 'james', 'god', 'has', 'approved', 'a', 'marriage', 'by', 'the', 'boko', 'haram', 'books', 'from', 'reporters', 'dick', 'wilson', 'dropped', 'out', 'at', 'boston', 'road', ',', 'issued', 'a', 'pizzeria', 'legal', '.']\n",
      "\n",
      "['it', '’', 's', 'right', '.']\n",
      "\n",
      "['(', 'which', 'has', 'canceled', ',', 'the', 'show', 'of', '``', 'we', 'seen', 'the', 'huge', 'drama', 'a', '$', 'how', ',', 'who', 'was', 'in', 'the', 'eighties', ',', 'he', 'just', 'before', 'the', 'devils', 'that', 'was', 'very', 'summoned', 'to', 'describe', 'a', 'groupon', 'last', 'week', 'when', 'ministers', '(', 'and', 'i', 'have', 'in', 'this', 'with', 'the', 'gop']\n",
      "\n",
      "['her', 'recent', 'children', 'were', 'killed', 'doing', 'by', 'the', 'surrounding', 'neighborhood', 'on', 'the', 'firm', 'keeps', '.']\n",
      "\n",
      "['nothing', 'tops', 'during', 'the', 'summer', 'from', 'the', 'manchester', 'united', '.']\n",
      "\n",
      "['(', 'courtesy', 'officials', 'seemed', 'like', 'the', 'double', 'water', 'when', 'the', 'girl', ',', 'left', ',', 'the', 'new', 'pope', 'has', 'daunting', ',', 'that', 'honour', 'union', ',', 'the', 'peruvian', 'nations', 'liner', 'the', 'story', 'behind', 'bars', 'staff', ',', 'who', 'was', \"n't\", 'that', 'a', 'high', 'school', 'plan', 'to', 'win', 'this', 'season', 'this', 'year', ',', 'she']\n",
      "\n",
      "['reading', 'to', 'be', 'drinking', 'adjusting', ':', 'kelly', 'crashed', 'out', 'his', 'first', 'black', '.']\n",
      "\n",
      "['and', 'a', 'new', 'york', 'fashion', 'magazine', ',', '“', 'acting', ',', 'was', 'not', 'your', 'emotions', 'to', 'city', ',', '”', 'except', 'of', 'abortion', 'rights', ',', 'i', 'known', 'for', 'his', 'ability', 'to', 'give', 'virtual', 'reality', ',', 'they', '’', 've', ',', 'but', 'in', 'just', 'as', 'investors', 'from', 'the', 'services', 'say', '.']\n",
      "\n",
      "['in', 'february', '1942', ',', 'and', 'the', 'local', 'conflict', 'this', 'week', 'for', 'freshman', 'orientation', ',', 'along', 'with', 'breast', 'cancer', 'drugs', '.']\n",
      "\n",
      "['wednesday', ',', 'july', ',', 'when', 'one', 'students', 'across', 'a', 'top', 'contest', 'for', 'their', 'nation', 'mobile', 'outfit', 'each', 'other', '.']\n",
      "\n",
      "['had', 'asked', 'him', 'for', 'his', 'fresh', 'ebola', 'during', 'friday', 'after', 'six', 'years', 'at', 'the', 'journey', 'after', 'being', 'attacked', 'by', 'yasser', 'arafat', \"'s\", 'creator', ',', 'stopping', 'smoking', 'is', 'made', 'in', 'the', 'probe', ',', 'as', 'the', 'detailed', 'meal', 'run', 'conflict', 'draws', 'online', '.']\n",
      "\n",
      "['president', 'obama', 'had', 'spent', 'a', 'friday', '.']\n",
      "\n",
      "['a', 'man', 'accused', 'of', 'employee', 'trying', 'to', 'influence', 'giving', 'his', 'footing', 'into', 'federal', 'school', 'districts', '.']\n",
      "\n",
      "['other', 'sources', 'of', 'republicans', ':', 'six', 'people', 'already', 'reported', 'the', 'state', 'treasury', 'department', '’', 's', 'white-as-ice', 'television', 'manufacturer', '(', '28', 'kilometers', ')', '.']\n",
      "\n",
      "['when', 'she', 'may', '30', ',', 'causing', 'the', 'most', 'famous', 'and', 'a', 'quiet', 'period', 'was', '``', 'really', 'if', 'i', 'thought', 'duck', 'dunn', ',', 'and', 'i', 'called', 'that', 'it', 'had', 'the', 'experience', ',', 'will', 'see', 'when', 'it', '’', 's', 'not', 'quite', 'wear', 'a', 'deal', 'with', 'agents', '.']\n",
      "\n",
      "['editor', \"'s\", 'note', ':', 'on', 'feb.', '28', 'the', 'week', '.']\n",
      "\n",
      "['the', 'postal', 'service', 'management', 'phoenix', 'has', 'travel', 'company', 'is', 'to', 'issue', '.']\n",
      "\n",
      "['photograph', ':', 'you', 'would', 'ride', 'you', 'to', 'a', 'most', 'important', 'than', 'july', ',', '60', '.']\n",
      "\n",
      "['as', 'the', 'creators', 'of', 'the', 'world', \"'s\", 'biggest', 'diabetes', 'and', 'news', 'stories', 'on', 'the', 'rise', 'at', 'the', 'rest', 'of', 'citi', 'global', 'financial', 'advisors', ',', 'was', 'named', 'to', 'celebrate', 'on', 'aug.', '28', ',', 'according', 'to', 'kids', 'filed', 'on', 'october', ',', 'officer', 'mark', 'manning', ',', 'michael', 'moore', \"'s\", 'pulitzer', 'foundation', 'dispatched', 'by']\n",
      "\n",
      "['china', \"'s\", 'former', 'jets', 'for', 'taking', '$', '115m', 'at', 'least', '16', 'million', 'of', 'damages', ',', 'the', 'assets', 'of', 'the', 'world', '.']\n",
      "\n",
      "['lindsay', 'lohan', 'workers', 'who', 'lied', 'in', 'the', 'march', 'attack', 'on', 'from', 'april', 'left', ':', 'from', 'the', 'yacht', ',', 'died', 'in', 'chelsea', ',', 'october', '13', ',', '2013', ',', 'dublin', ',', 'illinois', 'park', '2011', ';', 'a', 'musical', 'passes', 'fans', 'in', 'yawning', 'in', 'germany', 'thursay', '.']\n",
      "\n",
      "['mr.', 'kelner', ',', 'falling', 'it', '.']\n",
      "\n",
      "['president', 'barack', 'obama', 'announced', 'thursday', '.']\n",
      "\n",
      "['image', ':', 'dana', 'edelson/nbc/nbcu', 'photo', 'is', 'based', 'on', 'government', 'said', '.']\n",
      "\n",
      "['white', ',', 'exercise', 'his', '3-year-old', 'granddaughter', 'will', 'go', '.']\n",
      "\n",
      "['but', 'if', 'you', 'had', 'been', 'stuck', '.']\n",
      "\n",
      "['if', 'you', 'handed', 'in', 'this', 'most', 'since', 'another', 'breakfast', ',', '”', 'as', 'somewhat', 'destination', 'and', '90', 'miles', 'from', 'infectious', 'smoke', 'last', 'year', ',', 'with', 'a', 'large', 'commitment', '.']\n",
      "\n",
      "['and', 'now', 'hangs', '.']\n",
      "\n",
      "['in', 'a', 'statement', 'going', 'to', 'grow', 'to', 'half', 'moon', 'related', 'to', 'change', 'there', 'a', '$', 'called', 'of', 'the', 'u.s.', 'service', 'companies', 'like', 'the', 'freedom', 'of', 'law', 'credibility', '.']\n",
      "\n",
      "['fox13now.com', ':', 'new', 'york', '(', 'cnnmoney', ')', '—', 'most', 'of', 'the', 'economic', 'email', 'giant', 'here', 'on', 'a', 'big', 'screen', 'near', 'millions', 'of', 'supporters', 'that', 'they', 'take', 'the', 'risk', ':', 'according', 'to', 'u.s.', 'geological', 'survey', 'seismologist', 'lucy', ',', 'ethiopian', 'information', '.']\n",
      "\n",
      "['lauren', 'levin', ',', 'there', 'was', 'sports', 'as', 'the', 'internet', ',', 'a', 'new', 'chapter', 'of', 'violent', 'operations', '(', 'though', 'there', 'were', 'hints', 'her', 'mysterious', 'disappearance', '.']\n",
      "\n",
      "['more', 'than', 'a', 'year', 'later', 'with', 'the', 'problem', 'has', 'kasich', 'skipping', 'to', 'a', 'good', 'start', 'have', 'an', 'impact', 'of', 'federally', 'sponsored', 'into', 'the', 'province', 'shows', 'that', 'it', 'may', 'have', 'boosted', 'to', 'prove', 'very', 'specific', 'advertisers', 'labeling', 'online', '.']\n",
      "\n",
      "['defense', 'lawyers', 'make', '“', 'i', 'realize', ':', 'very', 'for', 'my', 'bed', ',', 'which', 'he', \"'s\", 'not', 'in', 'type', 'of', 'long-exposure', '—', 'literally', 'in', 'your', 'york', '!', \"''\"]\n",
      "\n",
      "['but', 'because', 'the', 'oct.', 'crisis', 'is', 'working', 'on', 'friday', '.']\n",
      "\n",
      "['its', 'people', 'have', 'discovered', 'it', 'just', 'an', 'infection', 'with', 'a', 'rare', 'interview', 'on', 'sunday', 'that', 'killed', 'an', 'appeals', 'court', 'decision', '.']\n",
      "\n",
      "['in', 'the', 'comments', 'as', 'federal', 'investigators', 'have', 'built', 'an', 'apparently', 'distraught', 'and', 'leaving', 'the', 'progression', 'includes', 'an', 'exact', 'garden', 'into', 'the', 'spanish', 'region', ',', 'in', 'the', 'final', 'we', 'park', '.']\n",
      "\n",
      "['it', '’', 's', '“', 'top', 'gear', '”', 'was', 'established', '“', 'space', '”', 'the', 'firm', 'canceled', 'its', 'lingerie', 'program', '.']\n",
      "\n",
      "['the', 'group', 'from', 'the', 'company', \"'s\", 'athletic', 'governor', 'david', 'henry', ',', 'a', 'law', 'for', 'others', ',', 'is', 'beefing', 'up', 'with', 'bud', 'rose', 'delivery', 'by', 'cheerleaders', 'around', 'the', 'city', 'council', ',', 'that', '’', 's', 'hard', 'to', 'overstate', 'the', 'united', 'states', 'to', 'do', 'more', '.']\n",
      "\n",
      "['it', \"'s\", 'likely', 'headed', 'to', 'mountain', 'after', 'almost', 'two', 'leaders', 'from', 'the', 'party', ',', 'will', 'make', 'sure', ',', 'we', '’', 're', 'going', 'to', 'be', 'released', '.']\n",
      "\n",
      "['that', 'first', 'had', 'been', 'held', 'down', 'a', 'glorious', 'sunny', 'screen', 'in', 'aircraft', 'sciences', 'after', 'the', 'chief', 'executive', '.']\n",
      "\n",
      "['it', \"'s\", 'worth', 'of', 'certain', 'the', 'new', 'chief', 'wall', 'street', ',', 'the', 'wall', 'street', 'journal', 'is', 'the', 'primary', 'school-age', 'bond', 'el', 'faro', 'as', 'it', 'currently', 'difficult', 'to', 'avoid', 'those', 'at', 'a', 'geelong', 'health', 'clinic', '.']\n",
      "\n",
      "['she', 'has', 'told', 'the', 'street', ',', 'being', 'unable', 'to', 'martin', 'as', 'the', 'company', '.']\n",
      "\n",
      "['but', 'solar', ',', 'is', 'going', 'to', 'add', 'data', 'live', '.']\n",
      "\n",
      "['my', 'sister', 'told', 'cnn', 'angelina', 'jolie', \"'s\", 'needs', 'of', 'legal', 'troubles', ',', 'which', 'officials', 'says', '“', 'please', 'and', 'disrespectful', \"''\", 'he', 'has', 'been', 'gone', 'the', 'romance', 'in', 'the', 'suit', '.', \"''\"]\n",
      "\n",
      "['image', 'at', '03:50', 'pm', 'edt', \"'s\", 'karen', 'fairchild', 'legends', 'you', 'can', 'do', ',', 'repeat', 'the', 'us', 'charlie', 'white', 'called', 'time', 'on', 'wednesday', '.']\n",
      "\n"
     ]
    }
   ],
   "source": [
    "# instructor.gen.sample()\n",
    "from utils.dataloader import GANDataset, GenDataIter\n",
    "from utils.preprocess import *\n",
    "SAMPLES_NUM = 100\n",
    "BATCH_SIZE = 64\n",
    "\n",
    "eval_samples = instructor.gen.sample(SAMPLES_NUM, 4 * BATCH_SIZE)\n",
    "gen_tokens = tensor_to_tokens(eval_samples, instructor.idx2word_dict)\n",
    "for el in gen_tokens:\n",
    "    print(el)\n",
    "    print()"
   ]
  },
  {
   "cell_type": "code",
   "execution_count": 0,
   "metadata": {
    "colab": {},
    "colab_type": "code",
    "id": "oRdxv3V71fsO"
   },
   "outputs": [],
   "source": []
  }
 ],
 "metadata": {
  "accelerator": "GPU",
  "colab": {
   "machine_shape": "hm",
   "name": "Current.ipynb",
   "provenance": []
  },
  "kernelspec": {
   "display_name": "Python 3",
   "language": "python",
   "name": "python3"
  },
  "language_info": {
   "codemirror_mode": {
    "name": "ipython",
    "version": 3
   },
   "file_extension": ".py",
   "mimetype": "text/x-python",
   "name": "python",
   "nbconvert_exporter": "python",
   "pygments_lexer": "ipython3",
   "version": "3.7.6"
  }
 },
 "nbformat": 4,
 "nbformat_minor": 1
}
