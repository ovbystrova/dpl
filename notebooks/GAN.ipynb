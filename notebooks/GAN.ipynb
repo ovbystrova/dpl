{
  "nbformat": 4,
  "nbformat_minor": 0,
  "metadata": {
    "colab": {
      "name": "GAN.ipynb",
      "provenance": [],
      "machine_shape": "hm",
      "authorship_tag": "ABX9TyP3qLa7NspUBUQ12+8CZafK",
      "include_colab_link": true
    },
    "kernelspec": {
      "name": "python3",
      "display_name": "Python 3"
    },
    "accelerator": "GPU"
  },
  "cells": [
    {
      "cell_type": "markdown",
      "metadata": {
        "id": "view-in-github",
        "colab_type": "text"
      },
      "source": [
        "<a href=\"https://colab.research.google.com/github/ovbystrova/dpl/blob/master/notebooks/GAN.ipynb\" target=\"_parent\"><img src=\"https://colab.research.google.com/assets/colab-badge.svg\" alt=\"Open In Colab\"/></a>"
      ]
    },
    {
      "cell_type": "code",
      "metadata": {
        "id": "aQ96ND8WdXbH",
        "colab_type": "code",
        "colab": {}
      },
      "source": [
        "# https://github.com/williamSYSU/TextGAN-PyTorch\n",
        "# https://github.com/DSleeps/Text-GAN\n",
        "# https://github.com/rtst777/TextGAN\n",
        "# https://github.com/MuratArda-coder/GAN-Text-Generation"
      ],
      "execution_count": 0,
      "outputs": []
    },
    {
      "cell_type": "code",
      "metadata": {
        "id": "7bqQ8RX5tFKU",
        "colab_type": "code",
        "colab": {}
      },
      "source": [
        "# Либо убрать BPTT Итератор, либо зашафлить его, либо для дисприминатора сделать обычный итератор\n",
        "# LeakyReLU = good (in both G and D)\n",
        "# Label Smoothing, i.e. if you have two target labels: Real=1 and Fake=0, then for each incoming sample, if it is real, then replace the label with a random number between 0.7 and 1.2, and if it is a fake sample, replace it with 0.0 and 0.3 (for example).\n",
        "# make the labels the noisy for the discriminator: occasionally flip the labels when training the discriminator"
      ],
      "execution_count": 0,
      "outputs": []
    },
    {
      "cell_type": "code",
      "metadata": {
        "id": "P5tBWZ_yPDmY",
        "colab_type": "code",
        "colab": {
          "base_uri": "https://localhost:8080/",
          "height": 151
        },
        "outputId": "dbe022b4-470f-4cea-b2a6-4e16b328c804"
      },
      "source": [
        "!git clone https://github.com/ovbystrova/dpl.git\n",
        "import os\n",
        "os.chdir('/content/dpl')"
      ],
      "execution_count": 1,
      "outputs": [
        {
          "output_type": "stream",
          "text": [
            "Cloning into 'dpl'...\n",
            "remote: Enumerating objects: 10, done.\u001b[K\n",
            "remote: Counting objects: 100% (10/10), done.\u001b[K\n",
            "remote: Compressing objects: 100% (8/8), done.\u001b[K\n",
            "remote: Total 244 (delta 3), reused 6 (delta 2), pack-reused 234\u001b[K\n",
            "Receiving objects: 100% (244/244), 340.18 MiB | 13.90 MiB/s, done.\n",
            "Resolving deltas: 100% (128/128), done.\n",
            "Checking out files: 100% (36/36), done.\n"
          ],
          "name": "stdout"
        }
      ]
    },
    {
      "cell_type": "code",
      "metadata": {
        "id": "RiBmwcdxa6cG",
        "colab_type": "code",
        "colab": {}
      },
      "source": [
        "%%capture\n",
        "!pip install tokenizers\n",
        "!pip install wandb\n",
        "!wandb login "
      ],
      "execution_count": 0,
      "outputs": []
    },
    {
      "cell_type": "code",
      "metadata": {
        "id": "EOC28VNSbBac",
        "colab_type": "code",
        "outputId": "d83be3c8-0e4b-42f3-d15f-d0767c72088f",
        "colab": {
          "base_uri": "https://localhost:8080/",
          "height": 34
        }
      },
      "source": [
        "import wandb\n",
        "import torch\n",
        "import torch.nn as nn\n",
        "import torch.nn.functional as F\n",
        "import torch.optim as optim\n",
        "\n",
        "from torchtext.datasets import WikiText2\n",
        "from torchtext import data\n",
        "\n",
        "import matplotlib.pyplot as plt\n",
        "import numpy as np\n",
        "import math\n",
        "from collections import namedtuple\n",
        "\n",
        "device = torch.device(\"cuda\" if torch.cuda.is_available() else \"cpu\")\n",
        "device"
      ],
      "execution_count": 3,
      "outputs": [
        {
          "output_type": "execute_result",
          "data": {
            "text/plain": [
              "device(type='cuda')"
            ]
          },
          "metadata": {
            "tags": []
          },
          "execution_count": 3
        }
      ]
    },
    {
      "cell_type": "code",
      "metadata": {
        "id": "bAjOx2i2P_RL",
        "colab_type": "code",
        "colab": {
          "base_uri": "https://localhost:8080/",
          "height": 34
        },
        "outputId": "a779dc40-18b1-4f02-e3cb-b934d6df5f7c"
      },
      "source": [
        "from utils import loss_functions\n",
        "from utils.train_lm import mle_train, _test_epoch, _train_epoch\n",
        "from utils.sntpiece_tokenization import make_tokenizer, clean_data, special_tokens\n",
        "from models.generator_simple import SimpleG\n",
        "from models.discriminator_simple import SimpleD\n",
        "from models.RelGAN_D import RelGAN_D\n",
        "from tqdm import tqdm\n",
        "\n",
        "def clean_tqdm():\n",
        "    for instance in list(tqdm._instances): \n",
        "        tqdm._decr_instances(instance)\n",
        "for e in tqdm([1,2,3]):\n",
        "    pass"
      ],
      "execution_count": 4,
      "outputs": [
        {
          "output_type": "stream",
          "text": [
            "100%|██████████| 3/3 [00:00<00:00, 17524.95it/s]\n"
          ],
          "name": "stderr"
        }
      ]
    },
    {
      "cell_type": "code",
      "metadata": {
        "id": "gpLoNhVR0DB6",
        "colab_type": "code",
        "colab": {}
      },
      "source": [
        "LM_PATH = 'data/lm_base'\n",
        "BATCH_SIZE = 64\n",
        "SEQ_LENGTH = 40"
      ],
      "execution_count": 0,
      "outputs": []
    },
    {
      "cell_type": "markdown",
      "metadata": {
        "id": "Olkt2eArdpTh",
        "colab_type": "text"
      },
      "source": [
        "#Data"
      ]
    },
    {
      "cell_type": "code",
      "metadata": {
        "id": "1G6F8nWXQPy7",
        "colab_type": "code",
        "colab": {}
      },
      "source": [
        "%%capture\n",
        "!wget https://s3.amazonaws.com/research.metamind.io/wikitext/wikitext-2-v1.zip\n",
        "!unzip 'wikitext-2-v1.zip'"
      ],
      "execution_count": 0,
      "outputs": []
    },
    {
      "cell_type": "code",
      "metadata": {
        "id": "0JMoqW8_QFBt",
        "colab_type": "code",
        "outputId": "81ff35f4-e0c5-41f3-c38c-be05e8fb0858",
        "colab": {
          "base_uri": "https://localhost:8080/",
          "height": 34
        }
      },
      "source": [
        "tokenizer = make_tokenizer()\n",
        "tokenizer"
      ],
      "execution_count": 7,
      "outputs": [
        {
          "output_type": "execute_result",
          "data": {
            "text/plain": [
              "Tokenizer(vocabulary_size=30000, model=SentencePieceBPE, unk_token=<unk>, replacement=▁, add_prefix_space=True, dropout=None)"
            ]
          },
          "metadata": {
            "tags": []
          },
          "execution_count": 7
        }
      ]
    },
    {
      "cell_type": "code",
      "metadata": {
        "id": "r1hVlz3i-Zmo",
        "colab_type": "code",
        "colab": {}
      },
      "source": [
        "%%capture\n",
        "def tokenize(text, tokenizer=tokenizer):\n",
        "    text = clean_data(text)\n",
        "    text = special_tokens(text)\n",
        "    return tokenizer.encode(text).tokens\n",
        "    \n",
        "TEXT = data.Field(sequential=True, \n",
        "                  include_lengths=False, \n",
        "                  batch_first=True, \n",
        "                  tokenize=tokenize,\n",
        "                  lower=True, \n",
        "                  pad_first=True, \n",
        "                  )\n",
        "\n",
        "train, valid, test = WikiText2.splits(TEXT)\n",
        "\n",
        "TEXT.build_vocab(train, valid, unk_init = torch.Tensor.normal_, vectors='glove.6B.200d')\n",
        "vocab = TEXT.vocab"
      ],
      "execution_count": 0,
      "outputs": []
    },
    {
      "cell_type": "code",
      "metadata": {
        "id": "lFv6nDRgz6le",
        "colab_type": "code",
        "outputId": "869f5f7e-e4be-4ad9-b9a8-e74b8bcdcba7",
        "colab": {
          "base_uri": "https://localhost:8080/",
          "height": 50
        }
      },
      "source": [
        "print('Vocab size:', len(TEXT.vocab.itos))\n",
        "TEXT.vocab.itos[:10]"
      ],
      "execution_count": 9,
      "outputs": [
        {
          "output_type": "stream",
          "text": [
            "Vocab size: 22734\n"
          ],
          "name": "stdout"
        },
        {
          "output_type": "execute_result",
          "data": {
            "text/plain": [
              "['<unk>', '<pad>', '▁', '▁the', '<eos>', '<start>', '▁,', '▁of', '▁and', '▁in']"
            ]
          },
          "metadata": {
            "tags": []
          },
          "execution_count": 9
        }
      ]
    },
    {
      "cell_type": "code",
      "metadata": {
        "id": "LpUMf8D7E7sv",
        "colab_type": "code",
        "colab": {}
      },
      "source": [
        "train_iterator_g, valid_iterator_g, test_iterator_g = data.BPTTIterator.splits(\n",
        "    (train, valid, test),\n",
        "    batch_size=BATCH_SIZE,\n",
        "    bptt_len=SEQ_LENGTH,\n",
        "    device=device,\n",
        "    repeat=False, \n",
        "    shuffle=True)\n",
        "\n",
        "train_iterator_d, valid_iterator_d, test_iterator_d = data.BPTTIterator.splits(\n",
        "    (train, valid, test),\n",
        "    batch_size=BATCH_SIZE,\n",
        "    bptt_len=SEQ_LENGTH,\n",
        "    device=device,\n",
        "    repeat=False, \n",
        "    shuffle=True)"
      ],
      "execution_count": 0,
      "outputs": []
    },
    {
      "cell_type": "markdown",
      "metadata": {
        "id": "uPlJ8_RE-gaO",
        "colab_type": "text"
      },
      "source": [
        "# Model"
      ]
    },
    {
      "cell_type": "markdown",
      "metadata": {
        "id": "BGQjFrxJldMp",
        "colab_type": "text"
      },
      "source": [
        "## Generator check"
      ]
    },
    {
      "cell_type": "code",
      "metadata": {
        "id": "rLKXqRPh-mmT",
        "colab_type": "code",
        "colab": {}
      },
      "source": [
        "generator = SimpleG(vocab_size=len(TEXT.vocab.itos),\n",
        "                embed_dim=200,\n",
        "                hidden_size=128,\n",
        "               )\n",
        "generator.to(device)\n",
        "criterion = nn.CrossEntropyLoss(ignore_index=1)\n",
        "criterion.to(device);"
      ],
      "execution_count": 0,
      "outputs": []
    },
    {
      "cell_type": "code",
      "metadata": {
        "id": "GsLIZ1UJVmg9",
        "colab_type": "code",
        "outputId": "1c647705-613c-443c-a43d-2500e50e914a",
        "colab": {
          "base_uri": "https://localhost:8080/",
          "height": 67
        }
      },
      "source": [
        "for el in train_iterator_g:\n",
        "    with torch.no_grad():\n",
        "        x = el.text\n",
        "        y = el.target.T\n",
        "        print('X and Y sizes', x.size(), y.size())\n",
        "        preds = generator(el)\n",
        "        print('Generator pred size: ', preds.size())\n",
        "        loss = criterion(preds.transpose(1,2), y)\n",
        "        print('Loss whole: ', loss)\n",
        "    break\n",
        "\n",
        "print('Initial CrossEntropy: ', _test_epoch(generator, test_iterator_g, criterion)[0])\n",
        "generator.load_state_dict(torch.load(LM_PATH))\n",
        "print('Loaded CrossEntropy: ', _test_epoch(generator, test_iterator_g, criterion)[0])"
      ],
      "execution_count": 12,
      "outputs": [
        {
          "output_type": "stream",
          "text": [
            "X and Y sizes torch.Size([40, 64]) torch.Size([64, 40])\n",
            "Generator pred size:  torch.Size([64, 40, 22734])\n",
            "Loss whole:  tensor(10.0263, device='cuda:0')\n"
          ],
          "name": "stdout"
        }
      ]
    },
    {
      "cell_type": "code",
      "metadata": {
        "id": "OqXUQPPgzwAk",
        "colab_type": "code",
        "colab": {}
      },
      "source": [
        "# Pre-train generator if needed\n",
        "\n",
        "# optimizer = optim.Adam(generator.parameters(), lr=1e-2)\n",
        "# train_losses, valid_losses = mle_train(generator, train_iterator_g, valid_iterator_g, criterion=criterion, optimizer=optimizer, \n",
        "#         n_epochs=10, early_stopping=2)\n",
        "\n",
        "# print('Trained CrossEntropy: ', _test_epoch(generator, test_iterator_g, criterion)[0])\n",
        "# print('Trained NLLL: ', _test_epoch(generator, test_iterator_g, criterion=critnll)[0])"
      ],
      "execution_count": 0,
      "outputs": []
    },
    {
      "cell_type": "markdown",
      "metadata": {
        "id": "POdo-iY-lgUc",
        "colab_type": "text"
      },
      "source": [
        "## Discriminator"
      ]
    },
    {
      "cell_type": "markdown",
      "metadata": {
        "id": "1_GOyR0zl_D2",
        "colab_type": "text"
      },
      "source": [
        "### RelGAN check"
      ]
    },
    {
      "cell_type": "markdown",
      "metadata": {
        "id": "AXn2Q9iioerp",
        "colab_type": "text"
      },
      "source": [
        "https://github.com/williamSYSU/TextGAN-PyTorch"
      ]
    },
    {
      "cell_type": "code",
      "metadata": {
        "id": "uEnmvdsTpymT",
        "colab_type": "code",
        "colab": {}
      },
      "source": [
        "discriminator = RelGAN_D(embed_dim=200,\n",
        "                         max_seq_len=SEQ_LENGTH+10,\n",
        "                         num_rep=1,\n",
        "                         vocab_size=len(TEXT.vocab),\n",
        "                         dis_num_filters=[300,300,300],\n",
        "                         dis_filter_sizes=[2,3,4], \n",
        "                         weights='uniform')\n",
        "discriminator.to(device);"
      ],
      "execution_count": 0,
      "outputs": []
    },
    {
      "cell_type": "code",
      "metadata": {
        "id": "gcv9Gc2-R_VI",
        "colab_type": "code",
        "colab": {
          "base_uri": "https://localhost:8080/",
          "height": 101
        },
        "outputId": "8dc5cc0d-4260-4b70-bae5-a83c43356f67"
      },
      "source": [
        "for el in train_iterator_d:\n",
        "    with torch.no_grad():\n",
        "        x = el.text.T\n",
        "        \n",
        "        x_gen = F.gumbel_softmax(generator(el), dim=-1, hard=True,  tau=1)\n",
        "        print('X generated size: ', x_gen.size())\n",
        "\n",
        "        x_dis = F.one_hot(x, len(TEXT.vocab)).float()\n",
        "        print('X real size: ', x_dis.size())\n",
        "\n",
        "        out_fake = discriminator(x_gen)\n",
        "        out_real = discriminator(x_dis)\n",
        "        print('Discriminator fake and real sizes: ', out_fake.size(), out_real.size())\n",
        "\n",
        "        d_loss, g_loss = loss_functions.rsgan(out_real, out_fake)\n",
        "        print('Discriminator loss: ', d_loss)\n",
        "        print('Generator loss: ', g_loss)\n",
        "        break"
      ],
      "execution_count": 15,
      "outputs": [
        {
          "output_type": "stream",
          "text": [
            "X generated size:  torch.Size([64, 40, 22734])\n",
            "X real size:  torch.Size([64, 40, 22734])\n",
            "Discriminator fake and real sizes:  torch.Size([64]) torch.Size([64])\n",
            "Discriminator loss:  tensor(0.6930, device='cuda:0')\n",
            "Generator loss:  tensor(0.6933, device='cuda:0')\n"
          ],
          "name": "stdout"
        }
      ]
    },
    {
      "cell_type": "markdown",
      "metadata": {
        "id": "SLzzIZSG4KfO",
        "colab_type": "text"
      },
      "source": [
        "### LeakGAN"
      ]
    },
    {
      "cell_type": "code",
      "metadata": {
        "id": "yM2Lu0Rq4MpZ",
        "colab_type": "code",
        "colab": {}
      },
      "source": [
        "# https://github.com/nurpeiis/LeakGAN-PyTorch/blob/master/Discriminator.py"
      ],
      "execution_count": 0,
      "outputs": []
    },
    {
      "cell_type": "markdown",
      "metadata": {
        "id": "vntAbVN1mEvE",
        "colab_type": "text"
      },
      "source": [
        "### SimpleD check"
      ]
    },
    {
      "cell_type": "code",
      "metadata": {
        "id": "Epptu7tuu31W",
        "colab_type": "code",
        "colab": {}
      },
      "source": [
        "simple_d = SimpleD(embed_dim=200,\n",
        "                    max_seq_len=SEQ_LENGTH+10,\n",
        "                    vocab_size=len(TEXT.vocab),\n",
        "                    weights = 'normal')\n",
        "simple_d.to(device);"
      ],
      "execution_count": 0,
      "outputs": []
    },
    {
      "cell_type": "code",
      "metadata": {
        "id": "RtpZWGnju9Co",
        "colab_type": "code",
        "colab": {
          "base_uri": "https://localhost:8080/",
          "height": 101
        },
        "outputId": "3e43679d-3ceb-435c-e798-b466f42d9df9"
      },
      "source": [
        "for el in train_iterator_d:\n",
        "    with torch.no_grad():\n",
        "        x = el.text.T\n",
        "        \n",
        "        x_gen = F.gumbel_softmax(generator(el), dim=-1, hard=True,  tau=1)\n",
        "        print('X generated size: ', x_gen.size())\n",
        "\n",
        "        x_dis = F.one_hot(x, len(TEXT.vocab)).float()\n",
        "        print('X real size: ', x_dis.size())\n",
        "        # If not works then loop for x in x_dis and every one to float\n",
        "\n",
        "        out_fake = simple_d(x_gen)\n",
        "        out_real = simple_d(x_dis)\n",
        "        print('Discriminator fake and real sizes: ', out_fake.size(), out_real.size())\n",
        "        # print(out_fake, out_real)\n",
        "\n",
        "        d_loss, g_loss = loss_functions.rsgan(out_real, out_fake)\n",
        "        print('Discriminator loss: ', d_loss)\n",
        "        print('Generator loss: ', g_loss)\n",
        "        break"
      ],
      "execution_count": 19,
      "outputs": [
        {
          "output_type": "stream",
          "text": [
            "X generated size:  torch.Size([64, 40, 22734])\n",
            "X real size:  torch.Size([64, 40, 22734])\n",
            "Discriminator fake and real sizes:  torch.Size([64, 1]) torch.Size([64, 1])\n",
            "Discriminator loss:  tensor(3.4980, device='cuda:0')\n",
            "Generator loss:  tensor(2.7603, device='cuda:0')\n"
          ],
          "name": "stdout"
        }
      ]
    },
    {
      "cell_type": "markdown",
      "metadata": {
        "id": "kDQTaoujrhdi",
        "colab_type": "text"
      },
      "source": [
        "# GAN with instructor"
      ]
    },
    {
      "cell_type": "code",
      "metadata": {
        "id": "dpF-jdrQ4T1D",
        "colab_type": "code",
        "colab": {}
      },
      "source": [
        "def get_loss(real, fake, loss_type):\n",
        "    if loss_type =='standart':\n",
        "        return loss_functions.standart(real, fake)\n",
        "    elif loss_type == 'js':\n",
        "        return loss_functions.js(real, fake)\n",
        "    elif loss_type == 'kl':\n",
        "        return loss_functions.kl(real, fake)\n",
        "    elif loss_type == 'hinge':\n",
        "        return loss_functions.hinge(real, fake)\n",
        "    elif loss_type == 'total_var':\n",
        "        return loss_functions.total_var(real, fake)\n",
        "    elif loss_type =='rsgan':\n",
        "        return loss_functions.rsgan(real, fake)\n",
        "    else:\n",
        "        return'Trying to use not implemented loss function'"
      ],
      "execution_count": 0,
      "outputs": []
    },
    {
      "cell_type": "code",
      "metadata": {
        "id": "I6nPpXfysPm8",
        "colab_type": "code",
        "colab": {}
      },
      "source": [
        "class GANInstructor:\n",
        "    def __init__(self, generator, discriminator):\n",
        "        super(GANInstructor, self).__init__()\n",
        "\n",
        "        self.gen = generator\n",
        "        self.dis = discriminator\n",
        "        self.criterion = nn.CrossEntropyLoss(ignore_index=1)\n",
        "        self.criterion.to(device)\n",
        "        self.n_epochs = wandb_config['num_epochs']\n",
        "        # Optimizer\n",
        "        self.gen_adv_opt = optim.Adam(self.gen.parameters(), lr=wandb_config['lr_gen'])\n",
        "        self.dis_opt = optim.SGD(self.dis.parameters(), lr=wandb_config['lr_dis'])\n",
        "        # Iterators\n",
        "        self.len_train = len(train_iterator_g)\n",
        "        self.len_valid = len(valid_iterator_g)\n",
        "        # Losses\n",
        "        self.dis_losses_train, self.dis_losses_valid = [], []\n",
        "        self.gen_losses_train, self.gen_losses_valid = [], []\n",
        "        self.crossentropy_train, self.crossentropy_valid = [], []\n",
        "    \n",
        "    def _run(self):\n",
        "        \"\"\"\n",
        "        Runs training process. \n",
        "        \"\"\"\n",
        "        progress = tqdm(range(self.n_epochs))\n",
        "        for adv_epoch in progress:\n",
        "            # g_loss = self.adv_train_generator(epoch=adv_epoch)  # Generator\n",
        "            # d_loss = self.adv_train_discriminator(epoch=adv_epoch)  # Discriminator         \n",
        "            g_loss, d_loss = self._train(epoch=adv_epoch)\n",
        "            g_loss_valid, d_loss_valid = self._test(epoch=adv_epoch)        \n",
        "            print()\n",
        "            print('g_loss: %.4f, d_loss: %.4f, g_loss_valid: %.4f, d_loss_valid: %.4f' % (g_loss, d_loss, g_loss_valid, d_loss_valid))\n",
        "\n",
        "            # if adv_epoch % 2 == 1 :\n",
        "            torch.save(self.gen.state_dict(), '/content/gen_{}'.format(adv_epoch))\n",
        "            torch.save(self.dis.state_dict(), '/content/dis_{}'.format(adv_epoch))\n",
        "\n",
        "\n",
        "    def _test(self, epoch):\n",
        "        \"\"\"\n",
        "        Validation epoch\n",
        "        \"\"\"\n",
        "        self.gen.eval()\n",
        "        self.dis.eval()\n",
        "        g_loss_total, d_loss_total = 0, 0\n",
        "        for ind, batch in enumerate(zip(valid_iterator_g, valid_iterator_d)):\n",
        "            if ind == len(valid_iterator_g)-1:\n",
        "                continue\n",
        "            real_samples = batch[1].text.T\n",
        "            gen_samples = batch[0].text.T\n",
        "            gen_pred = self.gen(gen_samples)\n",
        "            gen_samples = F.gumbel_softmax(gen_pred, \n",
        "                                           dim=-1, \n",
        "                                           hard=True, \n",
        "                                           tau=wandb_config['temperature'])\n",
        "            real_samples = F.one_hot(real_samples, len(TEXT.vocab.itos)).float()\n",
        "\n",
        "            d_out_real = self.dis(real_samples)\n",
        "            d_out_fake = self.dis(gen_samples)\n",
        "            g_loss, d_loss = get_loss(real=d_out_real, fake=d_out_fake, loss_type=wandb_config['loss'])\n",
        "            self.gen_losses_valid.append(g_loss.item())\n",
        "            self.dis_losses_valid.append(d_loss.item())\n",
        "            g_loss_total += g_loss.item()\n",
        "            d_loss_total += d_loss.item() \n",
        "\n",
        "            crossentr = self.criterion(gen_pred.transpose(1,2) ,batch[0].target.T).item()\n",
        "            \n",
        "            wandb_step = epoch*self.len_valid+ind+1\n",
        "            wandb.log({\"Generator Valid loss\" :  g_loss.item(), \n",
        "                       'Discriminator Valid loss': d_loss.item(), \n",
        "                       'CrossEntropy_valid' : crossentr,\n",
        "                       'iteration_valid' : wandb_step})\n",
        "        return g_loss_total / len(valid_iterator_g), d_loss_total / len(valid_iterator_d)\n",
        "\n",
        "    def _train(self, epoch):\n",
        "        \"\"\"\n",
        "        Train epoch. At every batch step generator makes his move,\n",
        "        then discriminator updates\n",
        "        \"\"\"\n",
        "        self.gen.train()\n",
        "        self.dis.train()\n",
        "        g_loss_total, d_loss_total = 0, 0\n",
        "        for ind, batch in enumerate(zip(train_iterator_g, train_iterator_d)):\n",
        "            if ind == len(train_iterator_g)-1:\n",
        "                continue\n",
        "            # Optimizing Generator\n",
        "            real_samples = batch[1].text.T\n",
        "            gen_samples = batch[0].text.T\n",
        "            gen_pred = self.gen(gen_samples)\n",
        "            gen_samples = F.gumbel_softmax(gen_pred, \n",
        "                                           dim=-1, \n",
        "                                           hard=True,  \n",
        "                                           tau=wandb_config['temperature'])\n",
        "            real_samples = F.one_hot(real_samples,  len(TEXT.vocab.itos)).float()\n",
        "\n",
        "            d_out_real = self.dis(real_samples)\n",
        "            d_out_fake = self.dis(gen_samples)\n",
        "\n",
        "            g_loss, _ = get_loss(real=d_out_real, fake=d_out_fake, loss_type=wandb_config['loss'])\n",
        "            self.optimize(self.gen_adv_opt, g_loss, self.gen)\n",
        "            self.gen_losses_train.append(g_loss.item())\n",
        "            g_loss_total += g_loss.item()\n",
        "\n",
        "            # Optimizing Discriminator\n",
        "            real_samples = batch[1].text.T\n",
        "            gen_samples = batch[0].text.T\n",
        "            gen_samples = F.gumbel_softmax(self.gen(gen_samples), \n",
        "                                           dim=-1, \n",
        "                                           hard=True,\n",
        "                                           tau=wandb_config['temperature'])\n",
        "            real_samples = F.one_hot(real_samples, len(TEXT.vocab.itos)).float()\n",
        "\n",
        "            d_out_real = self.dis(real_samples)\n",
        "            d_out_fake = self.dis(gen_samples)\n",
        "            _, d_loss = get_loss(real=d_out_real, fake=d_out_fake, loss_type=wandb_config['loss'])\n",
        "            self.optimize(self.dis_opt, d_loss, self.dis)\n",
        "            self.dis_losses_train.append(d_loss.item())\n",
        "            d_loss_total += d_loss.item() \n",
        "            \n",
        "            crossentr = self.criterion(gen_pred.transpose(1,2) ,batch[0].target.T).item()\n",
        "            \n",
        "            wandb_step = epoch*self.len_train+ind+1\n",
        "            wandb.log({\"Generator Train loss\" :  g_loss.item(), \n",
        "                       'Discriminator Train loss' : d_loss.item(),\n",
        "                       'CrossEntropy_train' : crossentr, \n",
        "                       'iteration_train_g': wandb_step})\n",
        "        return g_loss_total / len(train_iterator_g), d_loss_total / len(train_iterator_d)\n",
        "\n",
        "    @staticmethod\n",
        "    def optimize(opt, loss, model=None, retain_graph=False):\n",
        "        opt.zero_grad()\n",
        "        loss.backward(retain_graph=retain_graph)\n",
        "        if model is not None:\n",
        "            torch.nn.utils.clip_grad_norm_(model.parameters(), wandb_config['weight_clip'])\n",
        "        opt.step()"
      ],
      "execution_count": 0,
      "outputs": []
    },
    {
      "cell_type": "code",
      "metadata": {
        "id": "cD6FljVXvAKg",
        "colab_type": "code",
        "colab": {}
      },
      "source": [
        "wandb_config = {\n",
        "    'lr_gen' : 1e-3,\n",
        "    'lr_dis' : 1e-6,\n",
        "    'gan' : 'relgan',\n",
        "    'weight_clip' : 5,\n",
        "    'num_epochs' : 10,\n",
        "    'temperature': 1, \n",
        "    'loss' : 'js',\n",
        "    'pretrain_lm': 'yes',\n",
        "    'weights': 'normal'\n",
        "    }\n",
        "\n",
        "RUN_ID = 'gan32'"
      ],
      "execution_count": 0,
      "outputs": []
    },
    {
      "cell_type": "code",
      "metadata": {
        "id": "6dNDDw1nwGlQ",
        "colab_type": "code",
        "colab": {
          "base_uri": "https://localhost:8080/",
          "height": 84
        },
        "outputId": "480356c1-de8b-45da-f3ee-50ab8d96da67"
      },
      "source": [
        "wandb.init(id=RUN_ID, config=wandb_config, project='dpl')"
      ],
      "execution_count": 82,
      "outputs": [
        {
          "output_type": "display_data",
          "data": {
            "text/html": [
              "\n",
              "                Logging results to <a href=\"https://wandb.com\" target=\"_blank\">Weights & Biases</a> <a href=\"https://docs.wandb.com/integrations/jupyter.html\" target=\"_blank\">(Documentation)</a>.<br/>\n",
              "                Project page: <a href=\"https://app.wandb.ai/2ispany3/dpl\" target=\"_blank\">https://app.wandb.ai/2ispany3/dpl</a><br/>\n",
              "                Run page: <a href=\"https://app.wandb.ai/2ispany3/dpl/runs/gan32\" target=\"_blank\">https://app.wandb.ai/2ispany3/dpl/runs/gan32</a><br/>\n",
              "            "
            ],
            "text/plain": [
              "<IPython.core.display.HTML object>"
            ]
          },
          "metadata": {
            "tags": []
          }
        },
        {
          "output_type": "execute_result",
          "data": {
            "text/plain": [
              "W&B Run: https://app.wandb.ai/2ispany3/dpl/runs/gan32"
            ]
          },
          "metadata": {
            "tags": []
          },
          "execution_count": 82
        }
      ]
    },
    {
      "cell_type": "code",
      "metadata": {
        "id": "H_89-8ncAzI6",
        "colab_type": "code",
        "colab": {
          "base_uri": "https://localhost:8080/",
          "height": 34
        },
        "outputId": "9a312522-d4e5-4a0b-8bdf-c15fe6463d35"
      },
      "source": [
        "generator = SimpleG(vocab_size=len(TEXT.vocab.itos),\n",
        "                embed_dim=200,\n",
        "                hidden_size=128,\n",
        "               )\n",
        "generator.to(device)\n",
        "generator.load_state_dict(torch.load(LM_PATH))\n",
        "ce = _test_epoch(generator, test_iterator_g, criterion)[0]\n",
        "wandb.log({'CrossEntropy_Before':ce})\n",
        "print('CrossEntropy before gan: ', ce)\n",
        "discriminator = RelGAN_D(embed_dim=200,\n",
        "                         max_seq_len=SEQ_LENGTH+10,\n",
        "                         num_rep=1,\n",
        "                         vocab_size=len(TEXT.vocab),\n",
        "                         dis_num_filters=[300,300],\n",
        "                         dis_filter_sizes=[2,3], \n",
        "                         weights=wandb_config['weights'])\n",
        "# discriminator = SimpleD(embed_dim=200,\n",
        "#                     max_seq_len=SEQ_LENGTH+10,\n",
        "#                     vocab_size=len(TEXT.vocab),\n",
        "#                     weights = wandb_config['weights'])\n",
        "discriminator.to(device);\n",
        "discriminator.to(device);\n",
        "instructor = GANInstructor(generator=generator, discriminator=discriminator)"
      ],
      "execution_count": 83,
      "outputs": [
        {
          "output_type": "stream",
          "text": [
            "CrossEntropy before gan:  0.16182326376438141\n"
          ],
          "name": "stdout"
        }
      ]
    },
    {
      "cell_type": "code",
      "metadata": {
        "id": "CLjoGtrfBHn8",
        "colab_type": "code",
        "colab": {}
      },
      "source": [
        "clean_tqdm()\n",
        "instructor._run()"
      ],
      "execution_count": 0,
      "outputs": []
    },
    {
      "cell_type": "code",
      "metadata": {
        "id": "sTHGyFwbBhCZ",
        "colab_type": "code",
        "colab": {
          "base_uri": "https://localhost:8080/",
          "height": 393
        },
        "outputId": "1d312121-f76c-4526-c352-07337546aa74"
      },
      "source": [
        "new_val = [el for el in instructor.dis_losses_valid for i in range(10)]\n",
        "plt.figure(figsize=(10,6))\n",
        "plt.plot(np.arange(len(instructor.dis_losses_train)), instructor.dis_losses_train, label='Train Dis')\n",
        "plt.plot(np.arange(len(new_val)), new_val, label='Valid Dis')\n",
        "plt.xlabel('Iteration', fontsize=15)\n",
        "plt.ylabel('Loss', fontsize=15)\n",
        "plt.legend(fontsize='x-large')\n",
        "plt.show()"
      ],
      "execution_count": 85,
      "outputs": [
        {
          "output_type": "display_data",
          "data": {
            "image/png": "[encoded data removed]",
            "text/plain": [
              "<Figure size 720x432 with 1 Axes>"
            ]
          },
          "metadata": {
            "tags": [],
            "needs_background": "light"
          }
        }
      ]
    },
    {
      "cell_type": "code",
      "metadata": {
        "id": "cL-aA_SsIckx",
        "colab_type": "code",
        "colab": {
          "base_uri": "https://localhost:8080/",
          "height": 393
        },
        "outputId": "6c16fe31-3fe2-466b-cdff-79c3b04f7583"
      },
      "source": [
        "plt.figure(figsize=(10,6))\n",
        "new_val = [el for el in instructor.gen_losses_valid for i in range(10)]\n",
        "plt.plot(np.arange(len(instructor.gen_losses_train)), instructor.gen_losses_train, label='Train Gen')\n",
        "plt.plot(np.arange(len(new_val)), new_val, label='Valid Gen')\n",
        "plt.xlabel('Iteration', fontsize=15)\n",
        "plt.ylabel('Loss', fontsize=15)\n",
        "plt.legend(fontsize='x-large')\n",
        "plt.show()"
      ],
      "execution_count": 86,
      "outputs": [
        {
          "output_type": "display_data",
          "data": {
            "image/png": "[encoded data removed]",
            "text/plain": [
              "<Figure size 720x432 with 1 Axes>"
            ]
          },
          "metadata": {
            "tags": [],
            "needs_background": "light"
          }
        }
      ]
    },
    {
      "cell_type": "code",
      "metadata": {
        "id": "9c_jw6NLLHwA",
        "colab_type": "code",
        "colab": {}
      },
      "source": [
        "cross = _test_epoch(instructor.gen, test_iterator_g, criterion)[0]\n",
        "print(cross)\n",
        "# wandb.log({'CrossEntropy_After': cross})"
      ],
      "execution_count": 0,
      "outputs": []
    },
    {
      "cell_type": "code",
      "metadata": {
        "id": "l2sQzlPREzFC",
        "colab_type": "code",
        "colab": {}
      },
      "source": [
        "instructor.gen.load_state_dict(torch.load('/content/gen_8'))\n",
        "cross = _test_epoch(instructor.gen, test_iterator_g, criterion)[0]\n",
        "wandb.log({'CrossEntropy_After': cross})"
      ],
      "execution_count": 0,
      "outputs": []
    }
  ]
}