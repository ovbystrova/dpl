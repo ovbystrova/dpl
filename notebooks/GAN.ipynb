{
  "nbformat": 4,
  "nbformat_minor": 0,
  "metadata": {
    "colab": {
      "name": "GAN.ipynb",
      "provenance": [],
      "machine_shape": "hm",
      "authorship_tag": "ABX9TyMW3JpS7cZPPTlxfZ797+r8",
      "include_colab_link": true
    },
    "kernelspec": {
      "name": "python3",
      "display_name": "Python 3"
    },
    "accelerator": "GPU"
  },
  "cells": [
    {
      "cell_type": "markdown",
      "metadata": {
        "id": "view-in-github",
        "colab_type": "text"
      },
      "source": [
        "<a href=\"https://colab.research.google.com/github/ovbystrova/dpl/blob/master/notebooks/GAN.ipynb\" target=\"_parent\"><img src=\"https://colab.research.google.com/assets/colab-badge.svg\" alt=\"Open In Colab\"/></a>"
      ]
    },
    {
      "cell_type": "code",
      "metadata": {
        "id": "aQ96ND8WdXbH",
        "colab_type": "code",
        "colab": {}
      },
      "source": [
        "# https://github.com/williamSYSU/TextGAN-PyTorch\n",
        "# https://github.com/DSleeps/Text-GAN\n",
        "# https://github.com/rtst777/TextGAN\n",
        "# https://github.com/MuratArda-coder/GAN-Text-Generation"
      ],
      "execution_count": 0,
      "outputs": []
    },
    {
      "cell_type": "code",
      "metadata": {
        "id": "9xOZTI88N3U4",
        "colab_type": "code",
        "colab": {}
      },
      "source": [
        "# TODO Разнести по models\n",
        "# LeakGAN\n",
        "# Какой-нибудь очень простой дискриминатор\n",
        "# TODO Логирование CrossEntropy генератора"
      ],
      "execution_count": 0,
      "outputs": []
    },
    {
      "cell_type": "code",
      "metadata": {
        "id": "P5tBWZ_yPDmY",
        "colab_type": "code",
        "colab": {
          "base_uri": "https://localhost:8080/",
          "height": 151
        },
        "outputId": "ffba4dd5-8ca1-4612-a475-13830d1804c7"
      },
      "source": [
        "!git clone https://github.com/ovbystrova/dpl.git\n",
        "import os\n",
        "os.chdir('/content/dpl')"
      ],
      "execution_count": 1,
      "outputs": [
        {
          "output_type": "stream",
          "text": [
            "Cloning into 'dpl'...\n",
            "remote: Enumerating objects: 16, done.\u001b[K\n",
            "remote: Counting objects:   6% (1/16)\u001b[K\rremote: Counting objects:  12% (2/16)\u001b[K\rremote: Counting objects:  18% (3/16)\u001b[K\rremote: Counting objects:  25% (4/16)\u001b[K\rremote: Counting objects:  31% (5/16)\u001b[K\rremote: Counting objects:  37% (6/16)\u001b[K\rremote: Counting objects:  43% (7/16)\u001b[K\rremote: Counting objects:  50% (8/16)\u001b[K\rremote: Counting objects:  56% (9/16)\u001b[K\rremote: Counting objects:  62% (10/16)\u001b[K\rremote: Counting objects:  68% (11/16)\u001b[K\rremote: Counting objects:  75% (12/16)\u001b[K\rremote: Counting objects:  81% (13/16)\u001b[K\rremote: Counting objects:  87% (14/16)\u001b[K\rremote: Counting objects:  93% (15/16)\u001b[K\rremote: Counting objects: 100% (16/16)\u001b[K\rremote: Counting objects: 100% (16/16), done.\u001b[K\n",
            "remote: Compressing objects: 100% (16/16), done.\u001b[K\n",
            "remote: Total 201 (delta 7), reused 0 (delta 0), pack-reused 185\u001b[K\n",
            "Receiving objects: 100% (201/201), 228.94 MiB | 14.05 MiB/s, done.\n",
            "Resolving deltas: 100% (108/108), done.\n",
            "Checking out files: 100% (28/28), done.\n"
          ],
          "name": "stdout"
        }
      ]
    },
    {
      "cell_type": "code",
      "metadata": {
        "id": "RiBmwcdxa6cG",
        "colab_type": "code",
        "colab": {}
      },
      "source": [
        "%%capture\n",
        "!pip install tokenizers\n",
        "!pip install wandb\n",
        "!wandb login"
      ],
      "execution_count": 0,
      "outputs": []
    },
    {
      "cell_type": "code",
      "metadata": {
        "id": "EOC28VNSbBac",
        "colab_type": "code",
        "outputId": "2f0c8456-53b7-4d1a-bea4-833f863e459e",
        "colab": {
          "base_uri": "https://localhost:8080/",
          "height": 34
        }
      },
      "source": [
        "import wandb\n",
        "import torch\n",
        "import torch.nn as nn\n",
        "import torch.nn.functional as F\n",
        "import torch.optim as optim\n",
        "\n",
        "from torchtext.datasets import WikiText2\n",
        "from torchtext import data\n",
        "\n",
        "import matplotlib.pyplot as plt\n",
        "import numpy as np\n",
        "import math\n",
        "from collections import namedtuple\n",
        "\n",
        "device = torch.device(\"cuda\" if torch.cuda.is_available() else \"cpu\")\n",
        "device"
      ],
      "execution_count": 3,
      "outputs": [
        {
          "output_type": "execute_result",
          "data": {
            "text/plain": [
              "device(type='cuda')"
            ]
          },
          "metadata": {
            "tags": []
          },
          "execution_count": 3
        }
      ]
    },
    {
      "cell_type": "code",
      "metadata": {
        "id": "bAjOx2i2P_RL",
        "colab_type": "code",
        "colab": {
          "base_uri": "https://localhost:8080/",
          "height": 34
        },
        "outputId": "f08d92a8-6565-4e21-8760-b285144f2f05"
      },
      "source": [
        "from modules.sntpiece_tokenization import make_tokenizer, clean_data, special_tokens\n",
        "from tqdm import tqdm\n",
        "\n",
        "def clean_tqdm():\n",
        "    for instance in list(tqdm._instances): \n",
        "        tqdm._decr_instances(instance)\n",
        "\n",
        "for e in tqdm([1,2,3]):\n",
        "    pass"
      ],
      "execution_count": 4,
      "outputs": [
        {
          "output_type": "stream",
          "text": [
            "100%|██████████| 3/3 [00:00<00:00, 10450.92it/s]\n"
          ],
          "name": "stderr"
        }
      ]
    },
    {
      "cell_type": "code",
      "metadata": {
        "id": "gpLoNhVR0DB6",
        "colab_type": "code",
        "colab": {}
      },
      "source": [
        "LM_PATH = '/content/dpl/data/model (1)'\n",
        "BATCH_SIZE = 64\n",
        "SEQ_LENGTH = 40"
      ],
      "execution_count": 0,
      "outputs": []
    },
    {
      "cell_type": "markdown",
      "metadata": {
        "id": "Olkt2eArdpTh",
        "colab_type": "text"
      },
      "source": [
        "#Data"
      ]
    },
    {
      "cell_type": "code",
      "metadata": {
        "id": "1G6F8nWXQPy7",
        "colab_type": "code",
        "colab": {}
      },
      "source": [
        "%%capture\n",
        "!wget https://s3.amazonaws.com/research.metamind.io/wikitext/wikitext-2-v1.zip\n",
        "!unzip 'wikitext-2-v1.zip'"
      ],
      "execution_count": 0,
      "outputs": []
    },
    {
      "cell_type": "code",
      "metadata": {
        "id": "0JMoqW8_QFBt",
        "colab_type": "code",
        "outputId": "e70795de-d21b-428e-db58-6915bc453d41",
        "colab": {
          "base_uri": "https://localhost:8080/",
          "height": 34
        }
      },
      "source": [
        "tokenizer = make_tokenizer()\n",
        "tokenizer"
      ],
      "execution_count": 7,
      "outputs": [
        {
          "output_type": "execute_result",
          "data": {
            "text/plain": [
              "Tokenizer(vocabulary_size=30000, model=SentencePieceBPE, unk_token=<unk>, replacement=▁, add_prefix_space=True, dropout=None)"
            ]
          },
          "metadata": {
            "tags": []
          },
          "execution_count": 7
        }
      ]
    },
    {
      "cell_type": "code",
      "metadata": {
        "id": "vr0uyM1EQesO",
        "colab_type": "code",
        "colab": {}
      },
      "source": [
        "def tokenize(text, tokenizer=tokenizer):\n",
        "    text = clean_data(text)\n",
        "    text = special_tokens(text)\n",
        "    return tokenizer.encode(text).tokens"
      ],
      "execution_count": 0,
      "outputs": []
    },
    {
      "cell_type": "code",
      "metadata": {
        "id": "r1hVlz3i-Zmo",
        "colab_type": "code",
        "colab": {}
      },
      "source": [
        "%%capture\n",
        "TEXT = data.Field(sequential=True, \n",
        "                  include_lengths=False, \n",
        "                  batch_first=True, \n",
        "                  tokenize=tokenize,\n",
        "                  lower=True, \n",
        "                  pad_first=True, \n",
        "                  )\n",
        "\n",
        "train, valid, test = WikiText2.splits(TEXT)\n",
        "\n",
        "TEXT.build_vocab(train, valid, unk_init = torch.Tensor.normal_, vectors='glove.6B.200d')\n",
        "vocab = TEXT.vocab"
      ],
      "execution_count": 0,
      "outputs": []
    },
    {
      "cell_type": "code",
      "metadata": {
        "id": "lFv6nDRgz6le",
        "colab_type": "code",
        "outputId": "e3501ab3-4bd6-4fbb-adbb-81d0982cefb4",
        "colab": {
          "base_uri": "https://localhost:8080/",
          "height": 50
        }
      },
      "source": [
        "print('Vocab size:', len(TEXT.vocab.itos))\n",
        "TEXT.vocab.itos[:10]"
      ],
      "execution_count": 10,
      "outputs": [
        {
          "output_type": "stream",
          "text": [
            "Vocab size: 22734\n"
          ],
          "name": "stdout"
        },
        {
          "output_type": "execute_result",
          "data": {
            "text/plain": [
              "['<unk>', '<pad>', '▁', '▁the', '<eos>', '<start>', '▁,', '▁of', '▁and', '▁in']"
            ]
          },
          "metadata": {
            "tags": []
          },
          "execution_count": 10
        }
      ]
    },
    {
      "cell_type": "markdown",
      "metadata": {
        "id": "uPlJ8_RE-gaO",
        "colab_type": "text"
      },
      "source": [
        "# Model"
      ]
    },
    {
      "cell_type": "markdown",
      "metadata": {
        "id": "BGQjFrxJldMp",
        "colab_type": "text"
      },
      "source": [
        "## Generator"
      ]
    },
    {
      "cell_type": "code",
      "metadata": {
        "id": "nE52JeiG-hmw",
        "colab_type": "code",
        "colab": {}
      },
      "source": [
        "class MyModel(nn.Module):\n",
        "    \n",
        "    def __init__(self, vocab_size, embed_dim, hidden_size):\n",
        "        super(MyModel, self).__init__()\n",
        "        self.embedding = nn.Embedding(vocab_size, embed_dim)\n",
        "        \n",
        "        self.rnn = nn.LSTM(input_size=embed_dim,\n",
        "                           hidden_size=hidden_size,\n",
        "                           bidirectional=True,\n",
        "                           batch_first=True,\n",
        "                          )\n",
        "        \n",
        "        self.fc = nn.Linear(hidden_size * 2, vocab_size)\n",
        "        self.init_weights()\n",
        "        \n",
        "    def init_weights(self):\n",
        "        nn.init.uniform_(self.embedding.weight)\n",
        "        nn.init.xavier_uniform_(self.fc.weight)\n",
        "        nn.init.zeros_(self.fc.bias)\n",
        "        \n",
        "    def forward(self, batch):\n",
        "        \n",
        "        x = batch.text.T if hasattr(batch, 'text') else batch #    \n",
        "        x = self.embedding(x)  # (batch_size, sequence_length, embed_dim)           \n",
        "        x, _ = self.rnn(x)  # (batch_size, sequence length, hidden_size)\n",
        "        x = self.fc(x)  # (batch_size, sequence_length, vocab_size)\n",
        "        x = F.gumbel_softmax(x, dim=-1)\n",
        "        return x  # (batch_size, sequence_length, vocab_size)"
      ],
      "execution_count": 0,
      "outputs": []
    },
    {
      "cell_type": "code",
      "metadata": {
        "id": "rLKXqRPh-mmT",
        "colab_type": "code",
        "outputId": "5a70b5da-0399-45bf-d7e6-7a51e3534f8b",
        "colab": {
          "base_uri": "https://localhost:8080/",
          "height": 34
        }
      },
      "source": [
        "train_iterator_g, valid_iterator_g, test_iterator_g = data.BPTTIterator.splits(\n",
        "    (train, valid, test),\n",
        "    batch_size=BATCH_SIZE,\n",
        "    bptt_len=SEQ_LENGTH,\n",
        "    device=device,\n",
        "    repeat=False, \n",
        "    shuffle=True)\n",
        "\n",
        "generator = MyModel(vocab_size=len(TEXT.vocab.itos),\n",
        "                embed_dim=200,\n",
        "                hidden_size=128,\n",
        "               )\n",
        "generator.to(device)\n",
        "criterion = nn.CrossEntropyLoss(ignore_index=1)\n",
        "criterion.to(device)"
      ],
      "execution_count": 43,
      "outputs": [
        {
          "output_type": "execute_result",
          "data": {
            "text/plain": [
              "CrossEntropyLoss()"
            ]
          },
          "metadata": {
            "tags": []
          },
          "execution_count": 43
        }
      ]
    },
    {
      "cell_type": "code",
      "metadata": {
        "id": "GsLIZ1UJVmg9",
        "colab_type": "code",
        "outputId": "acf12ee8-f630-4154-e81d-ad8b83d42d83",
        "colab": {
          "base_uri": "https://localhost:8080/",
          "height": 67
        }
      },
      "source": [
        "for el in train_iterator_g:\n",
        "    with torch.no_grad():\n",
        "        x = el.text\n",
        "        y = el.target.T\n",
        "        print('X and Y sizes', x.size(), y.size())\n",
        "        preds = generator(el)\n",
        "        print('Generator pred size: ', preds.size())\n",
        "        loss = criterion(preds.transpose(1,2), y)\n",
        "        print('Loss whole: ', loss)\n",
        "    break"
      ],
      "execution_count": 13,
      "outputs": [
        {
          "output_type": "stream",
          "text": [
            "X and Y sizes torch.Size([40, 64]) torch.Size([64, 40])\n",
            "Generator pred size:  torch.Size([64, 40, 22734])\n",
            "Loss whole:  tensor(10.0316, device='cuda:0')\n"
          ],
          "name": "stdout"
        }
      ]
    },
    {
      "cell_type": "code",
      "metadata": {
        "id": "AhihpHKhVll-",
        "colab_type": "code",
        "colab": {
          "base_uri": "https://localhost:8080/",
          "height": 34
        },
        "outputId": "9c1156d9-3895-4522-ce57-2e8162b7c654"
      },
      "source": [
        "def _test_epoch(model, iterator, criterion):\n",
        "    model.eval()\n",
        "    epoch_loss = 0\n",
        "    losses = []\n",
        "\n",
        "    n_batches = len(iterator)\n",
        "    with torch.no_grad():\n",
        "        for batch in iterator:\n",
        "            y = batch.target.T\n",
        "            pred = model(batch)\n",
        "            loss = criterion(pred.transpose(1,2), y)\n",
        "            losses.append(loss.item())\n",
        "            epoch_loss += loss.data.item()\n",
        "\n",
        "    return epoch_loss / n_batches, losses\n",
        "\n",
        "print(_test_epoch(generator, test_iterator_g, criterion)[0])"
      ],
      "execution_count": 44,
      "outputs": [
        {
          "output_type": "stream",
          "text": [
            "10.031612555185953\n"
          ],
          "name": "stdout"
        }
      ]
    },
    {
      "cell_type": "code",
      "metadata": {
        "id": "g6MSzhbHnXqz",
        "colab_type": "code",
        "colab": {
          "base_uri": "https://localhost:8080/",
          "height": 34
        },
        "outputId": "1f0509c5-46e6-474a-976e-5d44183ec043"
      },
      "source": [
        "# poorly pretrained generator\n",
        "generator.load_state_dict(torch.load(LM_PATH))"
      ],
      "execution_count": 45,
      "outputs": [
        {
          "output_type": "execute_result",
          "data": {
            "text/plain": [
              "<All keys matched successfully>"
            ]
          },
          "metadata": {
            "tags": []
          },
          "execution_count": 45
        }
      ]
    },
    {
      "cell_type": "code",
      "metadata": {
        "id": "Ufhm4KrtVlFg",
        "colab_type": "code",
        "colab": {
          "base_uri": "https://localhost:8080/",
          "height": 34
        },
        "outputId": "36dfa310-0a70-4f8f-e70b-2757bdacde4f"
      },
      "source": [
        "print(_test_epoch(generator, test_iterator_g, criterion)[0])"
      ],
      "execution_count": 46,
      "outputs": [
        {
          "output_type": "stream",
          "text": [
            "9.085898566246033\n"
          ],
          "name": "stdout"
        }
      ]
    },
    {
      "cell_type": "markdown",
      "metadata": {
        "id": "POdo-iY-lgUc",
        "colab_type": "text"
      },
      "source": [
        "## Discriminator"
      ]
    },
    {
      "cell_type": "markdown",
      "metadata": {
        "id": "1_GOyR0zl_D2",
        "colab_type": "text"
      },
      "source": [
        "### from RelGAN"
      ]
    },
    {
      "cell_type": "markdown",
      "metadata": {
        "id": "AXn2Q9iioerp",
        "colab_type": "text"
      },
      "source": [
        "https://github.com/williamSYSU/TextGAN-PyTorch"
      ]
    },
    {
      "cell_type": "code",
      "metadata": {
        "id": "WAevui7Fne3b",
        "colab_type": "code",
        "colab": {}
      },
      "source": [
        "class RelGAN_D(nn.Module):\n",
        "    def __init__(self, embed_dim, max_seq_len, num_rep, vocab_size, padding_idx, gpu=False, dropout=0.25):\n",
        "        super(RelGAN_D, self).__init__()\n",
        "\n",
        "        self.embed_dim = embed_dim\n",
        "        self.max_seq_len = max_seq_len\n",
        "        self.feature_dim = sum(dis_num_filters)\n",
        "        self.emb_dim_single = int(embed_dim / num_rep)\n",
        "\n",
        "        self.embeddings = nn.Linear(vocab_size, embed_dim, bias=False)\n",
        "\n",
        "        self.convs = nn.ModuleList([\n",
        "            nn.Conv2d(1, n, (f, self.emb_dim_single), stride=(1, self.emb_dim_single)) for (n, f) in\n",
        "            zip(dis_num_filters, dis_filter_sizes)\n",
        "        ])\n",
        "\n",
        "        self.highway = nn.Linear(self.feature_dim, self.feature_dim)\n",
        "        self.feature2out = nn.Linear(self.feature_dim, 100)\n",
        "        self.out2logits = nn.Linear(100, 1)\n",
        "        self.dropout = nn.Dropout(dropout)\n",
        "\n",
        "        self.init_params()\n",
        "\n",
        "    \n",
        "    def init_params(self):\n",
        "        for param in self.parameters():\n",
        "            if param.requires_grad and len(param.shape) > 0:\n",
        "                stddev = 1 / math.sqrt(param.shape[0])\n",
        "                if cfg.dis_init == 'uniform':\n",
        "                    torch.nn.init.uniform_(param, a=-0.05, b=0.05)\n",
        "                elif cfg.dis_init == 'normal':\n",
        "                    torch.nn.init.normal_(param, std=stddev)\n",
        "    \n",
        "    def forward(self, inp):\n",
        "        \"\"\"\n",
        "        Get logits of discriminator\n",
        "        :param inp: batch_size * seq_len * vocab_size\n",
        "        :return logits: [batch_size * num_rep] (1-D tensor)\n",
        "        \"\"\"\n",
        "\n",
        "        emb = self.embeddings(inp).unsqueeze(1)  # batch_size * 1 * max_seq_len * embed_dim\n",
        "        cons = [F.relu(conv(emb), inplace=False) for conv in self.convs]  # [batch_size * num_filter * (seq_len-k_h+1) * num_rep]\n",
        "        pools = [F.max_pool2d(con, (con.size(2), 1)).squeeze(2) for con in cons]  # [batch_size * num_filter * num_rep]\n",
        "        pred = torch.cat(pools, 1)\n",
        "        pred = pred.permute(0, 2, 1).contiguous().view(-1, self.feature_dim)  # (batch_size * num_rep) * feature_dim\n",
        "        highway = self.highway(pred)\n",
        "        pred = torch.sigmoid(highway) * F.relu(highway,  inplace=False) + (1. - torch.sigmoid(highway)) * pred  # highway\n",
        "\n",
        "        pred = self.feature2out(self.dropout(pred))\n",
        "        logits = self.out2logits(pred).squeeze(1)  # [batch_size * num_rep]\n",
        "\n",
        "        return logits # batch_size"
      ],
      "execution_count": 0,
      "outputs": []
    },
    {
      "cell_type": "code",
      "metadata": {
        "id": "uEnmvdsTpymT",
        "colab_type": "code",
        "colab": {}
      },
      "source": [
        "# Iterators for dicriminator\n",
        "train_iterator_d, valid_iterator_d, test_iterator_d = data.BPTTIterator.splits(\n",
        "    (train, valid, test),\n",
        "    batch_size=BATCH_SIZE,\n",
        "    bptt_len=SEQ_LENGTH,\n",
        "    device=device,\n",
        "    repeat=False, \n",
        "    shuffle=True)\n",
        "\n",
        "\n",
        "dis_filter_sizes = [2, 3, 4]\n",
        "dis_num_filters = [300, 300, 300]\n",
        "cfg = namedtuple('cfg', ['dis_init'])\n",
        "cfg.dis_init='uniform'\n",
        "\n",
        "discriminator = RelGAN_D(embed_dim=200,\n",
        "                         max_seq_len=SEQ_LENGTH+10,\n",
        "                         num_rep=1,\n",
        "                         vocab_size=len(TEXT.vocab),\n",
        "                         padding_idx=TEXT.vocab.stoi['<pad>'],\n",
        "                         gpu=True)\n",
        "discriminator.to(device);"
      ],
      "execution_count": 0,
      "outputs": []
    },
    {
      "cell_type": "code",
      "metadata": {
        "id": "4dOBQLH3StSE",
        "colab_type": "code",
        "colab": {}
      },
      "source": [
        "def calculate_loss(d_out_real, d_out_fake):\n",
        "    \"\"\"\n",
        "    Calculates resgan loss\n",
        "    more loss functions here: https://github.com/williamSYSU/TextGAN-PyTorch/blob/master/utils/helpers.py\n",
        "    \"\"\"\n",
        "    bce_loss = nn.BCEWithLogitsLoss().to(device)\n",
        "    d_loss = bce_loss(d_out_real - d_out_fake, torch.ones_like(d_out_real).to(device))\n",
        "    g_loss = bce_loss(d_out_fake - d_out_real, torch.ones_like(d_out_fake).to(device))\n",
        "    return g_loss, d_loss\n",
        "\n",
        "# def calculate_loss(d_out_real, d_out_fake):\n",
        "#     '''\n",
        "#     JS loss\n",
        "#     '''\n",
        "#     d_loss_real = bce_loss(d_out_real, torch.ones_like(d_out_real))\n",
        "#     d_loss_fake = bce_loss(d_out_fake, torch.zeros_like(d_out_fake))\n",
        "#     d_loss = d_loss_real + d_loss_fake\n",
        "\n",
        "#     g_loss = -d_loss_fake\n",
        "#     return g_loss, d_loss"
      ],
      "execution_count": 0,
      "outputs": []
    },
    {
      "cell_type": "code",
      "metadata": {
        "id": "gcv9Gc2-R_VI",
        "colab_type": "code",
        "colab": {
          "base_uri": "https://localhost:8080/",
          "height": 101
        },
        "outputId": "0d5e9b90-e310-4692-e030-ac793b2e749f"
      },
      "source": [
        "for el in train_iterator_d:\n",
        "    with torch.no_grad():\n",
        "        x = el.text.T\n",
        "        \n",
        "        x_gen = generator(el)\n",
        "        print('X generated size: ', x_gen.size())\n",
        "\n",
        "        x_dis = F.one_hot(x, len(TEXT.vocab)).float()\n",
        "        print('X real size: ', x_dis.size())\n",
        "        # If not works then loop for x in x_dis and every one to float\n",
        "\n",
        "        out_fake = discriminator(x_gen)\n",
        "        out_real = discriminator(x_dis)\n",
        "        print('Discriminator fake and real sizes: ', out_fake.size(), out_real.size())\n",
        "        # print(out_fake, out_real)\n",
        "\n",
        "        d_loss, g_loss = calculate_loss(out_real, out_fake)\n",
        "        print('Discriminator loss: ', d_loss)\n",
        "        print('Generator loss: ', g_loss)\n",
        "        break"
      ],
      "execution_count": 18,
      "outputs": [
        {
          "output_type": "stream",
          "text": [
            "X generated size:  torch.Size([64, 40, 22734])\n",
            "X real size:  torch.Size([64, 40, 22734])\n",
            "Discriminator fake and real sizes:  torch.Size([64]) torch.Size([64])\n",
            "Discriminator loss:  tensor(0.6925, device='cuda:0')\n",
            "Generator loss:  tensor(0.6938, device='cuda:0')\n"
          ],
          "name": "stdout"
        }
      ]
    },
    {
      "cell_type": "markdown",
      "metadata": {
        "id": "SLzzIZSG4KfO",
        "colab_type": "text"
      },
      "source": [
        "# from LeakGAN"
      ]
    },
    {
      "cell_type": "code",
      "metadata": {
        "id": "yM2Lu0Rq4MpZ",
        "colab_type": "code",
        "colab": {}
      },
      "source": [
        "# https://github.com/nurpeiis/LeakGAN-PyTorch/blob/master/Discriminator.py"
      ],
      "execution_count": 0,
      "outputs": []
    },
    {
      "cell_type": "code",
      "metadata": {
        "id": "Ll2_UF9x4QAH",
        "colab_type": "code",
        "colab": {}
      },
      "source": [
        "from scipy.stats import truncnorm"
      ],
      "execution_count": 0,
      "outputs": []
    },
    {
      "cell_type": "code",
      "metadata": {
        "id": "s1__agJ44Sfd",
        "colab_type": "code",
        "colab": {}
      },
      "source": [
        "def truncated_normal(shape, lower=-0.2, upper=0.2):\n",
        "    size = 1\n",
        "    for dim in shape:\n",
        "        size *= dim\n",
        "    w_truncated = truncnorm.rvs(lower, upper, size=size)\n",
        "    w_truncated = torch.from_numpy(w_truncated).float()\n",
        "    w_truncated = w_truncated.view(shape)\n",
        "    return w_truncated\n",
        "\n",
        "class Highway(nn.Module):\n",
        "    #Highway Networks = Gating Function To Highway = y = xA^T + b\n",
        "    def __init__(self, in_size, out_size):\n",
        "        super(Highway, self).__init__()\n",
        "        self.fc1 = nn.Linear(in_size, out_size)\n",
        "        self.fc2 = nn.Linear(in_size, out_size)\n",
        "    def forward(self, x):\n",
        "        #highway = F.sigmoid(highway)*F.relu(highway) + (1. - transform)*pred # sets C = 1 - T\n",
        "        g = F.relu(self.fc1)\n",
        "        t = torch.sigmoid(self.fc2)\n",
        "        out = g*t + (1. - t)*x\n",
        "        return out\n",
        "\n",
        "class LeakGAN_D(nn.Module):\n",
        "    \"\"\"\n",
        "    A CNN for text classification\n",
        "    num_filters (int): This is the output dim for each convolutional layer, which is the number\n",
        "          of \"filters\" learned by that layer.\n",
        "    \"\"\"\n",
        "    def __init__(self, seq_len, num_classes, vocab_size, embed_dim, \n",
        "                    filter_sizes, num_filters, dropout_prob, l2_reg_lambda):\n",
        "        super(Discriminator, self).__init__()\n",
        "        self.seq_len = seq_len\n",
        "        self.num_classes = num_classes\n",
        "        self.vocab_size = vocab_size\n",
        "        self.embed_dim = embed_dim\n",
        "        self.filter_sizes = filter_sizes\n",
        "        self.num_filters = num_filters\n",
        "        self.dropout_prob = dropout_prob\n",
        "        self.l2_reg_lambda = l2_reg_lambda\n",
        "        self.num_filters_total = sum(self.num_filters)\n",
        "        \n",
        "        #Building up layers\n",
        "        self.emb = nn.Linear(self.vocab_size, self.embed_dim)\n",
        "        self.convs = nn.ModuleList([\n",
        "            nn.Conv2d(1, num_f, (f_size, self.embed_dim)) for f_size, num_f in zip(self.filter_sizes, self.num_filters)\n",
        "        ])\n",
        "        self.highway = nn.Linear(self.num_filters_total, self.num_filters_total)\n",
        "        #in_features = out_features = sum of num_festures\n",
        "        self.dropout = nn.Dropout(p = self.dropout_prob)\n",
        "        #Randomly zeroes some of the elements of the input tensor with probability p using Bernouli distribution\n",
        "        #Each channel will be zeroed independently onn every forward call\n",
        "        self.fc = nn.Linear(self.num_filters_total, self.num_classes)\n",
        "        \n",
        "    def forward(self, x):\n",
        "        \"\"\"\n",
        "        Argument:\n",
        "            x: shape(batch_size * self.seq_len * vocab_size)\n",
        "               type(Variable containing torch.FloatTensor)\n",
        "        Return:\n",
        "            pred: shape(batch_size * 2)\n",
        "                  For each sequence in the mini batch, output the probability\n",
        "                  of it belonging to positive sample and negative sample.              \n",
        "        \"\"\"\n",
        "        #1. Embedding Layer\n",
        "        #2. Convolution + maxpool layer for each filter size\n",
        "        #3. Combine all the pooled features into a prediction\n",
        "        #4. Add highway\n",
        "        #5. Add dropout. This is when feature should be extracted\n",
        "        #6. Final unnormalized scores and predictions\n",
        "        emb = self.emb(x).unsqueeze(1) # batch_size * 1 * max_seq_len * embed_dim\n",
        "        convs = [F.relu(conv(emb)).squeeze(3) for conv in self.convs] # [batch_size * num_filter * seq_len]\n",
        "        pooled_out = [F.max_pool1d(conv, conv.size(2)).squeeze(2) for conv in convs] # [batch_size * num_filter]\n",
        "        pred = torch.cat(pooled_out, 1) # batch_size * sum(num_filters)\n",
        "        highway = self.highway(pred)\n",
        "        highway = torch.sigmoid(highway)* F.relu(highway) + (1.0 - torch.sigmoid(highway))*pred\n",
        "        features = self.dropout(highway)\n",
        "        score = self.fc(features)\n",
        "        pred = F.log_softmax(score, dim=1) #batch * num_classes\n",
        "        return pred\n",
        "    \n",
        "    def l2_loss(self):\n",
        "        W = self.fc.weight\n",
        "        b = self.fc.bias\n",
        "        l2_loss = torch.sum(W*W) + torch.sum(b*b)\n",
        "        l2_loss = self.l2_reg_lambda * l2_loss\n",
        "        return l2_loss"
      ],
      "execution_count": 0,
      "outputs": []
    },
    {
      "cell_type": "code",
      "metadata": {
        "id": "CeKJUTLYLLMB",
        "colab_type": "code",
        "colab": {}
      },
      "source": [
        "# def __init__(self, seq_len, num_classes, vocab_size, embed_dim, \n",
        "                    # filter_sizes, num_filters, dropout_prob, l2_reg_lambda):\n",
        "\n",
        "train_iterator_d, valid_iterator_d, test_iterator_d = data.BPTTIterator.splits(\n",
        "    (train, valid, test),\n",
        "    batch_size=BATCH_SIZE,\n",
        "    bptt_len=SEQ_LENGTH,\n",
        "    device=device,\n",
        "    repeat=False, \n",
        "    shuffle=True)\n",
        "\n",
        "discriminator_leak = LeakGAN_D(seq_len=SEQ_LEN,\n",
        "                          num_classes=1,\n",
        "                          vocab_size=len(TEXT.vocab.itos),\n",
        "                          embed_dim=200,\n",
        "                          filter_sizes=[2,3],\n",
        "                          num_filters=[100,100],\n",
        "                          dropout_prob=0.2,\n",
        "                          l2_reg_lambda=1)\n",
        "discriminator_leak.to(device);"
      ],
      "execution_count": 0,
      "outputs": []
    },
    {
      "cell_type": "code",
      "metadata": {
        "id": "LZd4Trb9MVrc",
        "colab_type": "code",
        "colab": {}
      },
      "source": [
        "for el in train_iterator_d:\n",
        "    with torch.no_grad():\n",
        "        x = el.text.T\n",
        "        \n",
        "        x_gen = generator(el)\n",
        "        print('X generated size: ', x_gen.size())\n",
        "\n",
        "        x_dis = F.one_hot(x, len(TEXT.vocab)).float()\n",
        "        print('X real size: ', x_dis.size())\n",
        "        # If not works then loop for x in x_dis and every one to float\n",
        "\n",
        "        out_fake = discriminator_leak(x_gen)\n",
        "        out_real = discriminator_leak(x_dis)\n",
        "        print('Discriminator fake and real sizes: ', out_fake.size(), out_real.size())\n",
        "        # print(out_fake, out_real)\n",
        "\n",
        "        d_loss, g_loss = calculate_loss(out_real, out_fake)\n",
        "        print('Discriminator loss: ', d_loss)\n",
        "        print('Generator loss: ', g_loss)\n",
        "        break"
      ],
      "execution_count": 0,
      "outputs": []
    },
    {
      "cell_type": "markdown",
      "metadata": {
        "id": "vntAbVN1mEvE",
        "colab_type": "text"
      },
      "source": [
        "### from me"
      ]
    },
    {
      "cell_type": "code",
      "metadata": {
        "id": "57nn5FMnmJB8",
        "colab_type": "code",
        "colab": {}
      },
      "source": [
        "## And here"
      ],
      "execution_count": 0,
      "outputs": []
    },
    {
      "cell_type": "markdown",
      "metadata": {
        "id": "kDQTaoujrhdi",
        "colab_type": "text"
      },
      "source": [
        "# GAN with instructor"
      ]
    },
    {
      "cell_type": "code",
      "metadata": {
        "id": "I6nPpXfysPm8",
        "colab_type": "code",
        "colab": {}
      },
      "source": [
        "# https://github.com/williamSYSU/TextGAN-PyTorch\n",
        "\n",
        "class GANInstructor:\n",
        "    def __init__(self, generator, discriminator):\n",
        "        super(GANInstructor, self).__init__()\n",
        "\n",
        "        self.gen = generator\n",
        "        self.dis = discriminator\n",
        "        self.n_epochs = wandb_config['num_epochs']\n",
        "\n",
        "        # Optimizer\n",
        "        self.gen_adv_opt = optim.Adam(self.gen.parameters(), lr=wandb_config['lr_gen'])\n",
        "        self.dis_opt = optim.Adam(self.dis.parameters(), lr=wandb_config['lr_dis'])\n",
        "\n",
        "        # Iterators\n",
        "        self.len_train = len(train_iterator_g)\n",
        "        self.len_valid = len(valid_iterator_g)\n",
        "\n",
        "        # Dicts\n",
        "        self.word2idx_dict = TEXT.vocab.stoi\n",
        "        self.idx2word_dict = TEXT.vocab.itos\n",
        "\n",
        "        self.dis_criterion = nn.CrossEntropyLoss()\n",
        "\n",
        "        # Losses\n",
        "        self.dis_losses_train = []\n",
        "        self.dis_losses_valid = []\n",
        "        self.gen_losses_train = []\n",
        "        self.gen_losses_valid = []\n",
        "\n",
        "    \n",
        "    def _run(self):\n",
        "        \"\"\"\n",
        "        Runs training process. \n",
        "        \"\"\"\n",
        "        progress = tqdm(range(self.n_epochs))\n",
        "        for adv_epoch in progress:\n",
        "            # g_loss = self.adv_train_generator(epoch=adv_epoch)  # Generator\n",
        "            # d_loss = self.adv_train_discriminator(epoch=adv_epoch)  # Discriminator\n",
        "                      \n",
        "            g_loss, d_loss = self._train(epoch=adv_epoch)\n",
        "            g_loss_valid, d_loss_valid = self._test(epoch=adv_epoch)\n",
        "                       \n",
        "            print()\n",
        "            print('g_loss: %.4f, d_loss: %.4f, g_loss_valid: %.4f, d_loss_valid: %.4f' % (g_loss, d_loss, g_loss_valid, d_loss_valid))\n",
        "\n",
        "\n",
        "    def _test(self, epoch):\n",
        "        \"\"\"\n",
        "        Validation epoch\n",
        "        \"\"\"\n",
        "        g_loss_total = 0\n",
        "        d_loss_total = 0\n",
        "        for ind, batch in enumerate(zip(valid_iterator_g, valid_iterator_d)):\n",
        "            real_samples = batch[1].text.T\n",
        "            gen_samples = batch[0].text.T\n",
        "            gen_samples = self.gen(gen_samples)\n",
        "\n",
        "            real_samples = F.one_hot(real_samples, len(self.word2idx_dict)).float()\n",
        "\n",
        "            d_out_real = self.dis(real_samples)\n",
        "            d_out_fake = self.dis(gen_samples)\n",
        "\n",
        "            g_loss, d_loss = calculate_loss(d_out_real=d_out_real, d_out_fake=d_out_fake)\n",
        "\n",
        "            self.gen_losses_valid.append(g_loss.item())\n",
        "            self.dis_losses_valid.append(d_loss.item())\n",
        "\n",
        "            g_loss_total += g_loss.item()\n",
        "            d_loss_total += d_loss.item() \n",
        "\n",
        "            \n",
        "            wandb_step = epoch*self.len_valid+ind+1\n",
        "            wandb.log({\"Generator Valid loss\" :  g_loss.item(), \n",
        "                       'Discriminator Valid loss': d_loss.item(), \n",
        "                       'iteration_valid' : wandb_step})\n",
        "\n",
        "        return g_loss_total / len(valid_iterator_g), d_loss_total / len(valid_iterator_d)\n",
        "\n",
        "    def _train(self, epoch):\n",
        "        \"\"\"\n",
        "        Train epoche. At every batch step generator makes his move,\n",
        "        then discriminator updates\n",
        "        \"\"\"\n",
        "        g_loss_total = 0\n",
        "        d_loss_total = 0\n",
        "        for ind, batch in enumerate(zip(train_iterator_g, train_iterator_d)):\n",
        "            real_samples = batch[1].text.T\n",
        "            gen_samples = batch[0].text.T\n",
        "            gen_samples = self.gen(gen_samples)\n",
        "\n",
        "            real_samples = F.one_hot(real_samples, len(self.word2idx_dict)).float()\n",
        "\n",
        "            d_out_real = self.dis(real_samples)\n",
        "            d_out_fake = self.dis(gen_samples)\n",
        "\n",
        "            g_loss, _ = calculate_loss(d_out_real=d_out_real, d_out_fake=d_out_fake)\n",
        "            self.optimize(self.gen_adv_opt, g_loss, self.gen)\n",
        "            self.gen_losses_train.append(g_loss.item())\n",
        "            g_loss_total += g_loss.item()\n",
        "            # self.gen_losses_valid.append(g_loss.item())\n",
        "            # self.dis_losses_valid.append(d_loss.item())\n",
        "\n",
        "            \n",
        "            real_samples = batch[1].text.T\n",
        "            gen_samples = batch[0].text.T\n",
        "            gen_samples = self.gen(gen_samples)\n",
        "\n",
        "            real_samples = F.one_hot(real_samples, len(self.word2idx_dict)).float()\n",
        "\n",
        "            d_out_real = self.dis(real_samples)\n",
        "            d_out_fake = self.dis(gen_samples)\n",
        "\n",
        "            _, d_loss = calculate_loss(d_out_real=d_out_real, d_out_fake=d_out_fake)\n",
        "\n",
        "            self.optimize(self.dis_opt, d_loss, self.dis)\n",
        "            self.dis_losses_train.append(d_loss.item())\n",
        "            d_loss_total += d_loss.item() \n",
        "\n",
        "            \n",
        "            wandb_step = epoch*self.len_train+ind+1\n",
        "            wandb.log({\"Generator Train loss\" :  g_loss.item(), \n",
        "                       'Discriminator Train loss' : d_loss.item(),\n",
        "                       'iteration_train_g': wandb_step})\n",
        "\n",
        "        return g_loss_total / len(train_iterator_g), d_loss_total / len(train_iterator_d)\n",
        "\n",
        "\n",
        "    def adv_train_generator(self, epoch):\n",
        "        \"\"\"\n",
        "        Train only generator for one epoch\n",
        "        \"\"\"\n",
        "        loss = 0\n",
        "        for ind, batch in enumerate(zip(train_iterator_g, train_iterator_d)):\n",
        "            real_samples = batch[1].text.T\n",
        "            gen_samples = batch[0].text.T\n",
        "            gen_samples = self.gen(gen_samples)\n",
        "\n",
        "            real_samples = F.one_hot(real_samples, len(self.word2idx_dict)).float()\n",
        "\n",
        "            d_out_real = self.dis(real_samples)\n",
        "            d_out_fake = self.dis(gen_samples)\n",
        "\n",
        "            g_loss, _ = calculate_loss(d_out_real=d_out_real, d_out_fake=d_out_fake)\n",
        "\n",
        "            self.optimize(self.gen_adv_opt, g_loss, self.gen)\n",
        "            self.gen_losses_train.append(g_loss.item())\n",
        "            loss += g_loss.item()\n",
        "\n",
        "            # wandb_step = epoch*self.len_train+ind+1\n",
        "            # wandb.log({\"Generator Train loss\" :  g_loss.item(), \n",
        "                    #    'iteration_train_g': wandb_step})\n",
        "        return loss / len(train_iterator_g)\n",
        "\n",
        "\n",
        "    def adv_train_discriminator(self, epoch):\n",
        "        \"\"\"\n",
        "        Train only discriminator for one epoch\n",
        "        \"\"\"\n",
        "        loss = 0\n",
        "        for ind, batch in enumerate(zip(train_iterator_g, train_iterator_d)):\n",
        "            real_samples = batch[1].text.T\n",
        "            gen_samples = batch[0].text.T\n",
        "            gen_samples = self.gen(gen_samples)\n",
        "\n",
        "            real_samples = F.one_hot(real_samples, len(self.word2idx_dict)).float()\n",
        "\n",
        "            d_out_real = self.dis(real_samples)\n",
        "            d_out_fake = self.dis(gen_samples)\n",
        "\n",
        "            _, d_loss = calculate_loss(d_out_real=d_out_real, d_out_fake=d_out_fake)\n",
        "\n",
        "            self.optimize(self.dis_opt, d_loss, self.dis)\n",
        "            self.dis_losses_train.append(d_loss.item())\n",
        "            loss += d_loss.item()\n",
        "\n",
        "            # wandb_step = epoch*self.len_train+ind+1\n",
        "            # wandb.log({\"Discriminator Train loss\" :  d_loss.item(),\n",
        "                    #    'iteration_train_d': wandb_step})\n",
        "        return loss / len(train_iterator_d)\n",
        "\n",
        "\n",
        "    @staticmethod\n",
        "    def optimize(opt, loss, model=None, retain_graph=False):\n",
        "        opt.zero_grad()\n",
        "        loss.backward(retain_graph=retain_graph)\n",
        "        if model is not None:\n",
        "            torch.nn.utils.clip_grad_norm_(model.parameters(), wandb_config['weight_clip'])\n",
        "        opt.step()"
      ],
      "execution_count": 0,
      "outputs": []
    },
    {
      "cell_type": "code",
      "metadata": {
        "id": "cD6FljVXvAKg",
        "colab_type": "code",
        "colab": {}
      },
      "source": [
        "wandb_config = {\n",
        "    'lr_gen' : 1e-3,\n",
        "    'lr_dis' : 1e-6,\n",
        "    'gan' : 'RelGAN',\n",
        "    'weight_clip' : 2.0,\n",
        "    'num_epochs' : 10\n",
        "    }\n",
        "\n",
        "RUN_ID = 'gan_relgan13'"
      ],
      "execution_count": 0,
      "outputs": []
    },
    {
      "cell_type": "code",
      "metadata": {
        "id": "6dNDDw1nwGlQ",
        "colab_type": "code",
        "colab": {
          "base_uri": "https://localhost:8080/",
          "height": 84
        },
        "outputId": "7083c80f-3423-4edd-96a8-8d420e545e36"
      },
      "source": [
        "wandb.init(id=RUN_ID, config=wandb_config, project='dpl')\n",
        "# wandb.watch(models=(generator, discriminator))"
      ],
      "execution_count": 21,
      "outputs": [
        {
          "output_type": "display_data",
          "data": {
            "text/html": [
              "\n",
              "                Logging results to <a href=\"https://wandb.com\" target=\"_blank\">Weights & Biases</a> <a href=\"https://docs.wandb.com/integrations/jupyter.html\" target=\"_blank\">(Documentation)</a>.<br/>\n",
              "                Project page: <a href=\"https://app.wandb.ai/2ispany3/dpl\" target=\"_blank\">https://app.wandb.ai/2ispany3/dpl</a><br/>\n",
              "                Run page: <a href=\"https://app.wandb.ai/2ispany3/dpl/runs/gan_relgan13\" target=\"_blank\">https://app.wandb.ai/2ispany3/dpl/runs/gan_relgan13</a><br/>\n",
              "            "
            ],
            "text/plain": [
              "<IPython.core.display.HTML object>"
            ]
          },
          "metadata": {
            "tags": []
          }
        },
        {
          "output_type": "execute_result",
          "data": {
            "text/plain": [
              "W&B Run: https://app.wandb.ai/2ispany3/dpl/runs/gan_relgan13"
            ]
          },
          "metadata": {
            "tags": []
          },
          "execution_count": 21
        }
      ]
    },
    {
      "cell_type": "code",
      "metadata": {
        "id": "H_89-8ncAzI6",
        "colab_type": "code",
        "colab": {}
      },
      "source": [
        "instructor = GANInstructor(generator=generator, discriminator=discriminator)"
      ],
      "execution_count": 0,
      "outputs": []
    },
    {
      "cell_type": "code",
      "metadata": {
        "id": "CLjoGtrfBHn8",
        "colab_type": "code",
        "colab": {
          "base_uri": "https://localhost:8080/",
          "height": 370
        },
        "outputId": "ca418280-ae01-4765-d3ce-f9679b624da0"
      },
      "source": [
        "clean_tqdm()\n",
        "instructor._run()"
      ],
      "execution_count": 23,
      "outputs": [
        {
          "output_type": "stream",
          "text": [
            " 10%|█         | 1/10 [02:22<21:20, 142.31s/it]"
          ],
          "name": "stderr"
        },
        {
          "output_type": "stream",
          "text": [
            "\n",
            "g_loss: 0.6973, d_loss: 0.6891, g_loss_valid: 0.7038, d_loss_valid: 0.6827\n"
          ],
          "name": "stdout"
        },
        {
          "output_type": "stream",
          "text": [
            "\r 20%|██        | 2/10 [04:42<18:52, 141.55s/it]"
          ],
          "name": "stderr"
        },
        {
          "output_type": "stream",
          "text": [
            "\n",
            "g_loss: 0.7161, d_loss: 0.6710, g_loss_valid: 0.7345, d_loss_valid: 0.6534\n"
          ],
          "name": "stdout"
        },
        {
          "output_type": "stream",
          "text": [
            "\r 30%|███       | 3/10 [07:01<16:27, 141.04s/it]"
          ],
          "name": "stderr"
        },
        {
          "output_type": "stream",
          "text": [
            "\n",
            "g_loss: 0.7777, d_loss: 0.6161, g_loss_valid: 0.8361, d_loss_valid: 0.5683\n"
          ],
          "name": "stdout"
        },
        {
          "output_type": "stream",
          "text": [
            "\r 40%|████      | 4/10 [09:22<14:04, 140.76s/it]"
          ],
          "name": "stderr"
        },
        {
          "output_type": "stream",
          "text": [
            "\n",
            "g_loss: 0.9368, d_loss: 0.5004, g_loss_valid: 1.0824, d_loss_valid: 0.4146\n"
          ],
          "name": "stdout"
        },
        {
          "output_type": "stream",
          "text": [
            "\r 50%|█████     | 5/10 [11:42<11:42, 140.54s/it]"
          ],
          "name": "stderr"
        },
        {
          "output_type": "stream",
          "text": [
            "\n",
            "g_loss: 1.3134, d_loss: 0.3208, g_loss_valid: 1.6128, d_loss_valid: 0.2244\n"
          ],
          "name": "stdout"
        },
        {
          "output_type": "stream",
          "text": [
            "\r 60%|██████    | 6/10 [14:01<09:21, 140.28s/it]"
          ],
          "name": "stderr"
        },
        {
          "output_type": "stream",
          "text": [
            "\n",
            "g_loss: 1.9083, d_loss: 0.1678, g_loss_valid: 2.2903, d_loss_valid: 0.1100\n"
          ],
          "name": "stdout"
        },
        {
          "output_type": "stream",
          "text": [
            "\r 70%|███████   | 7/10 [16:20<06:59, 139.91s/it]"
          ],
          "name": "stderr"
        },
        {
          "output_type": "stream",
          "text": [
            "\n",
            "g_loss: 2.4013, d_loss: 0.1017, g_loss_valid: 2.7021, d_loss_valid: 0.0749\n"
          ],
          "name": "stdout"
        },
        {
          "output_type": "stream",
          "text": [
            "\r 80%|████████  | 8/10 [18:39<04:39, 139.57s/it]"
          ],
          "name": "stderr"
        },
        {
          "output_type": "stream",
          "text": [
            "\n",
            "g_loss: 2.5017, d_loss: 0.1201, g_loss_valid: 1.7451, d_loss_valid: 0.2233\n"
          ],
          "name": "stdout"
        },
        {
          "output_type": "stream",
          "text": [
            "\r 90%|█████████ | 9/10 [20:58<02:19, 139.45s/it]"
          ],
          "name": "stderr"
        },
        {
          "output_type": "stream",
          "text": [
            "\n",
            "g_loss: 2.2617, d_loss: 0.1497, g_loss_valid: 2.8634, d_loss_valid: 0.0800\n"
          ],
          "name": "stdout"
        },
        {
          "output_type": "stream",
          "text": [
            "100%|██████████| 10/10 [23:18<00:00, 139.86s/it]"
          ],
          "name": "stderr"
        },
        {
          "output_type": "stream",
          "text": [
            "\n",
            "g_loss: 3.2428, d_loss: 0.0639, g_loss_valid: 3.8180, d_loss_valid: 0.0355\n"
          ],
          "name": "stdout"
        },
        {
          "output_type": "stream",
          "text": [
            "\n"
          ],
          "name": "stderr"
        }
      ]
    },
    {
      "cell_type": "code",
      "metadata": {
        "id": "sTHGyFwbBhCZ",
        "colab_type": "code",
        "colab": {
          "base_uri": "https://localhost:8080/",
          "height": 393
        },
        "outputId": "3a2843c7-ef63-4545-9f03-0987917aed5b"
      },
      "source": [
        "new_val = [el for el in instructor.dis_losses_valid for i in range(10)]\n",
        "plt.figure(figsize=(10,6))\n",
        "plt.plot(np.arange(len(instructor.dis_losses_train)), instructor.dis_losses_train, label='Train Dis')\n",
        "plt.plot(np.arange(len(new_val)), new_val, label='Valid Dis')\n",
        "plt.xlabel('Iteration', fontsize=15)\n",
        "plt.ylabel('Loss', fontsize=15)\n",
        "plt.legend(fontsize='x-large')\n",
        "plt.show()"
      ],
      "execution_count": 24,
      "outputs": [
        {
          "output_type": "display_data",
          "data": {
            "image/png": "[encoded data removed]",
            "text/plain": [
              "<Figure size 720x432 with 1 Axes>"
            ]
          },
          "metadata": {
            "tags": [],
            "needs_background": "light"
          }
        }
      ]
    },
    {
      "cell_type": "code",
      "metadata": {
        "id": "cL-aA_SsIckx",
        "colab_type": "code",
        "colab": {
          "base_uri": "https://localhost:8080/",
          "height": 393
        },
        "outputId": "9dbe6f59-4b04-45c7-b52f-09bab1376fb1"
      },
      "source": [
        "plt.figure(figsize=(10,6))\n",
        "new_val = [el for el in instructor.gen_losses_valid for i in range(10)]\n",
        "plt.plot(np.arange(len(instructor.gen_losses_train)), instructor.gen_losses_train, label='Train Gen')\n",
        "plt.plot(np.arange(len(new_val)), new_val, label='Valid Gen')\n",
        "plt.xlabel('Iteration', fontsize=15)\n",
        "plt.ylabel('Loss', fontsize=15)\n",
        "plt.legend(fontsize='x-large')\n",
        "plt.show()"
      ],
      "execution_count": 25,
      "outputs": [
        {
          "output_type": "display_data",
          "data": {
            "image/png": "[encoded data removed]",
            "text/plain": [
              "<Figure size 720x432 with 1 Axes>"
            ]
          },
          "metadata": {
            "tags": [],
            "needs_background": "light"
          }
        }
      ]
    },
    {
      "cell_type": "code",
      "metadata": {
        "id": "9c_jw6NLLHwA",
        "colab_type": "code",
        "colab": {
          "base_uri": "https://localhost:8080/",
          "height": 34
        },
        "outputId": "d3b0aec2-62e2-47c7-beaa-c4b84ab79a33"
      },
      "source": [
        "print(_test_epoch(instructor.gen, test_iterator_g, criterion)[0])"
      ],
      "execution_count": 36,
      "outputs": [
        {
          "output_type": "stream",
          "text": [
            "9.955077306429546\n"
          ],
          "name": "stdout"
        }
      ]
    }
  ]
}