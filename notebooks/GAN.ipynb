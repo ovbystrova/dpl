{
  "nbformat": 4,
  "nbformat_minor": 0,
  "metadata": {
    "colab": {
      "name": "GAN.ipynb",
      "provenance": [],
      "machine_shape": "hm",
      "authorship_tag": "ABX9TyOHgKAzSB6T7KNJ2QCC+FB0",
      "include_colab_link": true
    },
    "kernelspec": {
      "name": "python3",
      "display_name": "Python 3"
    },
    "accelerator": "GPU"
  },
  "cells": [
    {
      "cell_type": "markdown",
      "metadata": {
        "id": "view-in-github",
        "colab_type": "text"
      },
      "source": [
        "<a href=\"https://colab.research.google.com/github/ovbystrova/dpl/blob/master/notebooks/GAN.ipynb\" target=\"_parent\"><img src=\"https://colab.research.google.com/assets/colab-badge.svg\" alt=\"Open In Colab\"/></a>"
      ]
    },
    {
      "cell_type": "code",
      "metadata": {
        "id": "aQ96ND8WdXbH",
        "colab_type": "code",
        "colab": {}
      },
      "source": [
        "# https://github.com/williamSYSU/TextGAN-PyTorch\n",
        "# https://github.com/DSleeps/Text-GAN\n",
        "# https://github.com/rtst777/TextGAN\n",
        "# https://github.com/MuratArda-coder/GAN-Text-Generation"
      ],
      "execution_count": 0,
      "outputs": []
    },
    {
      "cell_type": "code",
      "metadata": {
        "id": "9xOZTI88N3U4",
        "colab_type": "code",
        "colab": {}
      },
      "source": [
        "# TODO Разнести по models"
      ],
      "execution_count": 0,
      "outputs": []
    },
    {
      "cell_type": "code",
      "metadata": {
        "id": "P5tBWZ_yPDmY",
        "colab_type": "code",
        "colab": {
          "base_uri": "https://localhost:8080/",
          "height": 151
        },
        "outputId": "e5526a65-434f-4aeb-8347-fa9bd34de2cd"
      },
      "source": [
        "!git clone https://github.com/ovbystrova/dpl.git\n",
        "import os\n",
        "os.chdir('/content/dpl')"
      ],
      "execution_count": 1,
      "outputs": [
        {
          "output_type": "stream",
          "text": [
            "Cloning into 'dpl'...\n",
            "remote: Enumerating objects: 12, done.\u001b[K\n",
            "remote: Counting objects: 100% (12/12), done.\u001b[K\n",
            "remote: Compressing objects: 100% (12/12), done.\u001b[K\n",
            "remote: Total 197 (delta 5), reused 0 (delta 0), pack-reused 185\u001b[K\n",
            "Receiving objects: 100% (197/197), 228.88 MiB | 28.03 MiB/s, done.\n",
            "Resolving deltas: 100% (106/106), done.\n",
            "Checking out files: 100% (28/28), done.\n"
          ],
          "name": "stdout"
        }
      ]
    },
    {
      "cell_type": "code",
      "metadata": {
        "id": "RiBmwcdxa6cG",
        "colab_type": "code",
        "colab": {}
      },
      "source": [
        "%%capture\n",
        "!pip install tokenizers"
      ],
      "execution_count": 0,
      "outputs": []
    },
    {
      "cell_type": "code",
      "metadata": {
        "id": "EOC28VNSbBac",
        "colab_type": "code",
        "outputId": "63e15d3b-ad6d-4b95-a5b9-fadea959609e",
        "colab": {
          "base_uri": "https://localhost:8080/",
          "height": 34
        }
      },
      "source": [
        "import torch\n",
        "import torch.nn as nn\n",
        "import torch.nn.functional as F\n",
        "import torch.optim as optim\n",
        "\n",
        "from torchtext.datasets import WikiText2\n",
        "from torchtext import data\n",
        "\n",
        "import matplotlib.pyplot as plt\n",
        "import numpy as np\n",
        "import math\n",
        "from collections import namedtuple\n",
        "\n",
        "device = torch.device(\"cuda\" if torch.cuda.is_available() else \"cpu\")\n",
        "device"
      ],
      "execution_count": 4,
      "outputs": [
        {
          "output_type": "execute_result",
          "data": {
            "text/plain": [
              "device(type='cuda')"
            ]
          },
          "metadata": {
            "tags": []
          },
          "execution_count": 4
        }
      ]
    },
    {
      "cell_type": "code",
      "metadata": {
        "id": "bAjOx2i2P_RL",
        "colab_type": "code",
        "colab": {
          "base_uri": "https://localhost:8080/",
          "height": 34
        },
        "outputId": "4748abb0-ee67-4cc1-c02f-8f0aba6aa70a"
      },
      "source": [
        "from modules.sntpiece_tokenization import make_tokenizer, clean_data, special_tokens\n",
        "from tqdm import tqdm\n",
        "\n",
        "def clean_tqdm():\n",
        "    for instance in list(tqdm._instances): \n",
        "        tqdm._decr_instances(instance)\n",
        "\n",
        "for e in tqdm([1,2,3]):\n",
        "    pass"
      ],
      "execution_count": 5,
      "outputs": [
        {
          "output_type": "stream",
          "text": [
            "100%|██████████| 3/3 [00:00<00:00, 6043.67it/s]\n"
          ],
          "name": "stderr"
        }
      ]
    },
    {
      "cell_type": "code",
      "metadata": {
        "id": "gpLoNhVR0DB6",
        "colab_type": "code",
        "colab": {}
      },
      "source": [
        "LM_PATH = '/content/dpl/data/model (1)'\n",
        "BATCH_SIZE = 64\n",
        "SEQ_LENGTH = 40"
      ],
      "execution_count": 0,
      "outputs": []
    },
    {
      "cell_type": "markdown",
      "metadata": {
        "id": "Olkt2eArdpTh",
        "colab_type": "text"
      },
      "source": [
        "#Data"
      ]
    },
    {
      "cell_type": "code",
      "metadata": {
        "id": "1G6F8nWXQPy7",
        "colab_type": "code",
        "colab": {}
      },
      "source": [
        "%%capture\n",
        "!wget https://s3.amazonaws.com/research.metamind.io/wikitext/wikitext-2-v1.zip\n",
        "!unzip 'wikitext-2-v1.zip'"
      ],
      "execution_count": 0,
      "outputs": []
    },
    {
      "cell_type": "code",
      "metadata": {
        "id": "0JMoqW8_QFBt",
        "colab_type": "code",
        "outputId": "9ff2e6e8-7383-45f2-c64c-32eefd6a15b0",
        "colab": {
          "base_uri": "https://localhost:8080/",
          "height": 34
        }
      },
      "source": [
        "tokenizer = make_tokenizer()\n",
        "tokenizer"
      ],
      "execution_count": 8,
      "outputs": [
        {
          "output_type": "execute_result",
          "data": {
            "text/plain": [
              "Tokenizer(vocabulary_size=30000, model=SentencePieceBPE, unk_token=<unk>, replacement=▁, add_prefix_space=True, dropout=None)"
            ]
          },
          "metadata": {
            "tags": []
          },
          "execution_count": 8
        }
      ]
    },
    {
      "cell_type": "code",
      "metadata": {
        "id": "vr0uyM1EQesO",
        "colab_type": "code",
        "colab": {}
      },
      "source": [
        "def tokenize(text, tokenizer=tokenizer):\n",
        "    text = clean_data(text)\n",
        "    text = special_tokens(text)\n",
        "    return tokenizer.encode(text).tokens"
      ],
      "execution_count": 0,
      "outputs": []
    },
    {
      "cell_type": "code",
      "metadata": {
        "id": "r1hVlz3i-Zmo",
        "colab_type": "code",
        "colab": {}
      },
      "source": [
        "%%capture\n",
        "TEXT = data.Field(sequential=True, \n",
        "                  include_lengths=False, \n",
        "                  batch_first=True, \n",
        "                  tokenize=tokenize,\n",
        "                  lower=True, \n",
        "                  pad_first=True, \n",
        "                  )\n",
        "\n",
        "train, valid, test = WikiText2.splits(TEXT)\n",
        "\n",
        "TEXT.build_vocab(train, valid, unk_init = torch.Tensor.normal_, vectors='glove.6B.200d')\n",
        "vocab = TEXT.vocab"
      ],
      "execution_count": 0,
      "outputs": []
    },
    {
      "cell_type": "code",
      "metadata": {
        "id": "lFv6nDRgz6le",
        "colab_type": "code",
        "outputId": "cccecfb4-43ff-4425-cfd5-387b5d8433a9",
        "colab": {
          "base_uri": "https://localhost:8080/",
          "height": 50
        }
      },
      "source": [
        "print('Vocab size:', len(TEXT.vocab.itos))\n",
        "TEXT.vocab.itos[:10]"
      ],
      "execution_count": 11,
      "outputs": [
        {
          "output_type": "stream",
          "text": [
            "Vocab size: 22734\n"
          ],
          "name": "stdout"
        },
        {
          "output_type": "execute_result",
          "data": {
            "text/plain": [
              "['<unk>', '<pad>', '▁', '▁the', '<eos>', '<start>', '▁,', '▁of', '▁and', '▁in']"
            ]
          },
          "metadata": {
            "tags": []
          },
          "execution_count": 11
        }
      ]
    },
    {
      "cell_type": "markdown",
      "metadata": {
        "id": "uPlJ8_RE-gaO",
        "colab_type": "text"
      },
      "source": [
        "# Model"
      ]
    },
    {
      "cell_type": "markdown",
      "metadata": {
        "id": "BGQjFrxJldMp",
        "colab_type": "text"
      },
      "source": [
        "## Generator"
      ]
    },
    {
      "cell_type": "code",
      "metadata": {
        "id": "nE52JeiG-hmw",
        "colab_type": "code",
        "colab": {}
      },
      "source": [
        "class MyModel(nn.Module):\n",
        "    \n",
        "    def __init__(self, vocab_size, embed_dim, hidden_size):\n",
        "        super(MyModel, self).__init__()\n",
        "        self.embedding = nn.Embedding(vocab_size, embed_dim)\n",
        "        \n",
        "        self.rnn = nn.LSTM(input_size=embed_dim,\n",
        "                           hidden_size=hidden_size,\n",
        "                           bidirectional=True,\n",
        "                           batch_first=True,\n",
        "                          )\n",
        "        \n",
        "        self.fc = nn.Linear(hidden_size * 2, vocab_size)\n",
        "        self.init_weights()\n",
        "        \n",
        "    def init_weights(self):\n",
        "        nn.init.uniform_(self.embedding.weight)\n",
        "        nn.init.xavier_uniform_(self.fc.weight)\n",
        "        nn.init.zeros_(self.fc.bias)\n",
        "        \n",
        "    def forward(self, batch):\n",
        "        \n",
        "        x = batch.text.T if hasattr(batch, 'text') else batch #    \n",
        "        x = self.embedding(x)  # (batch_size, sequence_length, embed_dim)           \n",
        "        x, _ = self.rnn(x)  # (batch_size, sequence length, hidden_size)\n",
        "        x = self.fc(x)  # (batch_size, sequence_length, vocab_size)\n",
        "        x = F.gumbel_softmax(x, dim=-1)\n",
        "        return x  # (batch_size, sequence_length, vocab_size)"
      ],
      "execution_count": 0,
      "outputs": []
    },
    {
      "cell_type": "code",
      "metadata": {
        "id": "rLKXqRPh-mmT",
        "colab_type": "code",
        "outputId": "477f7f1a-186c-4a81-baa4-3fe256c8c555",
        "colab": {
          "base_uri": "https://localhost:8080/",
          "height": 34
        }
      },
      "source": [
        "train_iterator_g, valid_iterator_g, test_iterator_g = data.BPTTIterator.splits(\n",
        "    (train, valid, test),\n",
        "    batch_size=BATCH_SIZE,\n",
        "    bptt_len=SEQ_LENGTH,\n",
        "    device=device,\n",
        "    repeat=False, \n",
        "    shuffle=True)\n",
        "\n",
        "generator = MyModel(vocab_size=len(TEXT.vocab.itos),\n",
        "                embed_dim=200,\n",
        "                hidden_size=128,\n",
        "               )\n",
        "generator.to(device)\n",
        "criterion = nn.CrossEntropyLoss(ignore_index=1)\n",
        "criterion.to(device)"
      ],
      "execution_count": 24,
      "outputs": [
        {
          "output_type": "execute_result",
          "data": {
            "text/plain": [
              "CrossEntropyLoss()"
            ]
          },
          "metadata": {
            "tags": []
          },
          "execution_count": 24
        }
      ]
    },
    {
      "cell_type": "code",
      "metadata": {
        "id": "GsLIZ1UJVmg9",
        "colab_type": "code",
        "outputId": "1bdf2c2b-3036-474b-b337-3d9f3a171939",
        "colab": {
          "base_uri": "https://localhost:8080/",
          "height": 67
        }
      },
      "source": [
        "for el in train_iterator_g:\n",
        "    with torch.no_grad():\n",
        "        x = el.text\n",
        "        y = el.target.T\n",
        "        print('X and Y sizes', x.size(), y.size())\n",
        "        preds = generator(el)\n",
        "        print('Generator pred size: ', preds.size())\n",
        "        loss = criterion(preds.transpose(1,2), y)\n",
        "        print('Loss whole: ', loss)\n",
        "    break"
      ],
      "execution_count": 14,
      "outputs": [
        {
          "output_type": "stream",
          "text": [
            "X and Y sizes torch.Size([40, 64]) torch.Size([64, 40])\n",
            "Generator pred size:  torch.Size([64, 40, 22734])\n",
            "Loss whole:  tensor(10.0316, device='cuda:0')\n"
          ],
          "name": "stdout"
        }
      ]
    },
    {
      "cell_type": "code",
      "metadata": {
        "id": "g6MSzhbHnXqz",
        "colab_type": "code",
        "colab": {
          "base_uri": "https://localhost:8080/",
          "height": 34
        },
        "outputId": "a9b6fd67-c7ce-4bd4-cee0-04d81f20fee6"
      },
      "source": [
        "# poorly pretrained generator\n",
        "generator.load_state_dict(torch.load(LM_PATH))"
      ],
      "execution_count": 15,
      "outputs": [
        {
          "output_type": "execute_result",
          "data": {
            "text/plain": [
              "<All keys matched successfully>"
            ]
          },
          "metadata": {
            "tags": []
          },
          "execution_count": 15
        }
      ]
    },
    {
      "cell_type": "markdown",
      "metadata": {
        "id": "POdo-iY-lgUc",
        "colab_type": "text"
      },
      "source": [
        "## Discriminator"
      ]
    },
    {
      "cell_type": "markdown",
      "metadata": {
        "id": "1_GOyR0zl_D2",
        "colab_type": "text"
      },
      "source": [
        "### from RelGAN"
      ]
    },
    {
      "cell_type": "markdown",
      "metadata": {
        "id": "AXn2Q9iioerp",
        "colab_type": "text"
      },
      "source": [
        "https://github.com/williamSYSU/TextGAN-PyTorch"
      ]
    },
    {
      "cell_type": "code",
      "metadata": {
        "id": "WAevui7Fne3b",
        "colab_type": "code",
        "colab": {}
      },
      "source": [
        "class RelGAN_D(nn.Module):\n",
        "    def __init__(self, embed_dim, max_seq_len, num_rep, vocab_size, padding_idx, gpu=False, dropout=0.25):\n",
        "        super(RelGAN_D, self).__init__()\n",
        "\n",
        "        self.embed_dim = embed_dim\n",
        "        self.max_seq_len = max_seq_len\n",
        "        self.feature_dim = sum(dis_num_filters)\n",
        "        self.emb_dim_single = int(embed_dim / num_rep)\n",
        "\n",
        "        self.embeddings = nn.Linear(vocab_size, embed_dim, bias=False)\n",
        "\n",
        "        self.convs = nn.ModuleList([\n",
        "            nn.Conv2d(1, n, (f, self.emb_dim_single), stride=(1, self.emb_dim_single)) for (n, f) in\n",
        "            zip(dis_num_filters, dis_filter_sizes)\n",
        "        ])\n",
        "\n",
        "        self.highway = nn.Linear(self.feature_dim, self.feature_dim)\n",
        "        self.feature2out = nn.Linear(self.feature_dim, 100)\n",
        "        self.out2logits = nn.Linear(100, 1)\n",
        "        self.dropout = nn.Dropout(dropout)\n",
        "\n",
        "        self.init_params()\n",
        "\n",
        "    \n",
        "    def init_params(self):\n",
        "        for param in self.parameters():\n",
        "            if param.requires_grad and len(param.shape) > 0:\n",
        "                stddev = 1 / math.sqrt(param.shape[0])\n",
        "                if cfg.dis_init == 'uniform':\n",
        "                    torch.nn.init.uniform_(param, a=-0.05, b=0.05)\n",
        "                elif cfg.dis_init == 'normal':\n",
        "                    torch.nn.init.normal_(param, std=stddev)\n",
        "    \n",
        "    def forward(self, inp):\n",
        "        \"\"\"\n",
        "        Get logits of discriminator\n",
        "        :param inp: batch_size * seq_len * vocab_size\n",
        "        :return logits: [batch_size * num_rep] (1-D tensor)\n",
        "        \"\"\"\n",
        "\n",
        "        emb = self.embeddings(inp).unsqueeze(1)  # batch_size * 1 * max_seq_len * embed_dim\n",
        "        cons = [F.relu(conv(emb), inplace=False) for conv in self.convs]  # [batch_size * num_filter * (seq_len-k_h+1) * num_rep]\n",
        "        pools = [F.max_pool2d(con, (con.size(2), 1)).squeeze(2) for con in cons]  # [batch_size * num_filter * num_rep]\n",
        "        pred = torch.cat(pools, 1)\n",
        "        pred = pred.permute(0, 2, 1).contiguous().view(-1, self.feature_dim)  # (batch_size * num_rep) * feature_dim\n",
        "        highway = self.highway(pred)\n",
        "        pred = torch.sigmoid(highway) * F.relu(highway,  inplace=False) + (1. - torch.sigmoid(highway)) * pred  # highway\n",
        "\n",
        "        pred = self.feature2out(self.dropout(pred))\n",
        "        logits = self.out2logits(pred).squeeze(1)  # [batch_size * num_rep]\n",
        "\n",
        "        return logits # batch_size"
      ],
      "execution_count": 0,
      "outputs": []
    },
    {
      "cell_type": "code",
      "metadata": {
        "id": "uEnmvdsTpymT",
        "colab_type": "code",
        "colab": {}
      },
      "source": [
        "# Iterators for dicriminator\n",
        "train_iterator_d, valid_iterator_d, test_iterator_d = data.BPTTIterator.splits(\n",
        "    (train, valid, test),\n",
        "    batch_size=BATCH_SIZE,\n",
        "    bptt_len=SEQ_LENGTH,\n",
        "    device=device,\n",
        "    repeat=False, \n",
        "    shuffle=True)\n",
        "\n",
        "\n",
        "dis_filter_sizes = [2, 3, 4]\n",
        "dis_num_filters = [300, 300, 300]\n",
        "cfg = namedtuple('cfg', ['dis_init'])\n",
        "cfg.dis_init='uniform'\n",
        "\n",
        "discriminator = RelGAN_D(embed_dim=200,\n",
        "                         max_seq_len=SEQ_LENGTH+10,\n",
        "                         num_rep=1,\n",
        "                         vocab_size=len(TEXT.vocab),\n",
        "                         padding_idx=TEXT.vocab.stoi['<pad>'],\n",
        "                         gpu=True)\n",
        "discriminator.to(device);"
      ],
      "execution_count": 0,
      "outputs": []
    },
    {
      "cell_type": "code",
      "metadata": {
        "id": "4dOBQLH3StSE",
        "colab_type": "code",
        "colab": {}
      },
      "source": [
        "def calculate_loss(d_out_real, d_out_fake):\n",
        "    \"\"\"\n",
        "    Calculates resgan loss\n",
        "    more loss functions here: https://github.com/williamSYSU/TextGAN-PyTorch/blob/master/utils/helpers.py\n",
        "    \"\"\"\n",
        "    bce_loss = nn.BCEWithLogitsLoss().to(device)\n",
        "    d_loss = bce_loss(d_out_real - d_out_fake, torch.ones_like(d_out_real).to(device))\n",
        "    g_loss = bce_loss(d_out_fake - d_out_real, torch.ones_like(d_out_fake).to(device))\n",
        "    return g_loss, d_loss"
      ],
      "execution_count": 0,
      "outputs": []
    },
    {
      "cell_type": "code",
      "metadata": {
        "id": "gcv9Gc2-R_VI",
        "colab_type": "code",
        "colab": {
          "base_uri": "https://localhost:8080/",
          "height": 101
        },
        "outputId": "20d3bc9d-afce-475d-d404-c1c948eec0a4"
      },
      "source": [
        "for el in train_iterator_d:\n",
        "    with torch.no_grad():\n",
        "        x = el.text.T\n",
        "        \n",
        "        x_gen = generator(el)\n",
        "        print('X generated size: ', x_gen.size())\n",
        "\n",
        "        x_dis = F.one_hot(x, len(TEXT.vocab)).float()\n",
        "        print('X real size: ', x_dis.size())\n",
        "        # If not works then loop for x in x_dis and every one to float\n",
        "\n",
        "        out_fake = discriminator(x_gen)\n",
        "        out_real = discriminator(x_dis)\n",
        "        print('Discriminator fake and real sizes: ', out_fake.size(), out_real.size())\n",
        "        # print(out_fake, out_real)\n",
        "\n",
        "        d_loss, g_loss = calculate_loss(out_real, out_fake)\n",
        "        print('Discriminator loss: ', d_loss)\n",
        "        print('Generator loss: ', g_loss)\n",
        "        break"
      ],
      "execution_count": 26,
      "outputs": [
        {
          "output_type": "stream",
          "text": [
            "X generated size:  torch.Size([64, 40, 22734])\n",
            "X real size:  torch.Size([64, 40, 22734])\n",
            "Discriminator fake and real sizes:  torch.Size([64]) torch.Size([64])\n",
            "Discriminator loss:  tensor(0.6950, device='cuda:0')\n",
            "Generator loss:  tensor(0.6913, device='cuda:0')\n"
          ],
          "name": "stdout"
        }
      ]
    },
    {
      "cell_type": "markdown",
      "metadata": {
        "id": "NXUuHH5umDOH",
        "colab_type": "text"
      },
      "source": [
        "### from LeakGAN"
      ]
    },
    {
      "cell_type": "code",
      "metadata": {
        "id": "ZXKFAR2cmF-p",
        "colab_type": "code",
        "colab": {}
      },
      "source": [
        "## Will be here in near future"
      ],
      "execution_count": 0,
      "outputs": []
    },
    {
      "cell_type": "markdown",
      "metadata": {
        "id": "vntAbVN1mEvE",
        "colab_type": "text"
      },
      "source": [
        "### from me"
      ]
    },
    {
      "cell_type": "code",
      "metadata": {
        "id": "57nn5FMnmJB8",
        "colab_type": "code",
        "colab": {}
      },
      "source": [
        "## And here"
      ],
      "execution_count": 0,
      "outputs": []
    },
    {
      "cell_type": "markdown",
      "metadata": {
        "id": "kDQTaoujrhdi",
        "colab_type": "text"
      },
      "source": [
        "# GAN stuff with instructor"
      ]
    },
    {
      "cell_type": "code",
      "metadata": {
        "id": "I6nPpXfysPm8",
        "colab_type": "code",
        "colab": {}
      },
      "source": [
        "# https://github.com/williamSYSU/TextGAN-PyTorch\n",
        "\n",
        "class RelGANInstructor:\n",
        "    def __init__(self, generator, discriminator):\n",
        "        super(RelGANInstructor, self).__init__()\n",
        "\n",
        "        self.gen = generator\n",
        "        self.dis = discriminator\n",
        "        self.n_epochs = 10\n",
        "\n",
        "        # Optimizer\n",
        "        self.gen_adv_opt = optim.Adam(self.gen.parameters(), lr=1e-3)\n",
        "        self.dis_opt = optim.Adam(self.dis.parameters(), lr=1e-6)\n",
        "\n",
        "        # Iterators\n",
        "        self.train_data_g = train_iterator_g \n",
        "        self.test_data_g = test_iterator_g\n",
        "        self.valid_data_g = valid_iterator_g\n",
        "        self.train_data_d = train_iterator_d \n",
        "        self.test_data_d = test_iterator_d\n",
        "        self.valid_data_d = valid_iterator_d\n",
        "\n",
        "        # Dicts\n",
        "        self.word2idx_dict = TEXT.vocab.stoi\n",
        "        self.idx2word_dict = TEXT.vocab.itos\n",
        "\n",
        "        self.dis_criterion = nn.CrossEntropyLoss()\n",
        "\n",
        "        # Losses\n",
        "        self.dis_losses_train = []\n",
        "        self.dis_losses_valid = []\n",
        "        self.gen_losses_train = []\n",
        "        self.gen_losses_valid = []\n",
        "\n",
        "    \n",
        "    def _run(self):\n",
        "        progress = tqdm(range(self.n_epochs))\n",
        "        for adv_epoch in progress:\n",
        "            g_loss = self.adv_train_generator()  # Generator\n",
        "            d_loss = self.adv_train_discriminator()  # Discriminator\n",
        "                      \n",
        "            g_loss_valid, d_loss_valid = self._test()\n",
        "            \n",
        "            # progress.set_description(\n",
        "            #     'g_loss: %.4f, d_loss: %.4f, g_loss_valid: %.4f, d_loss_valid: %.4f' % (g_loss, d_loss, g_loss_valid, d_loss_valid))\n",
        "            \n",
        "            print()\n",
        "            print('g_loss: %.4f, d_loss: %.4f, g_loss_valid: %.4f, d_loss_valid: %.4f' % (g_loss, d_loss, g_loss_valid, d_loss_valid))\n",
        "\n",
        "\n",
        "    def _test(self):\n",
        "        g_loss_total = 0\n",
        "        d_loss_total = 0\n",
        "        for batch in zip(valid_iterator_g, valid_iterator_d):\n",
        "            real_samples = batch[1].text.T\n",
        "            gen_samples = batch[0].text.T\n",
        "            gen_samples = self.gen(gen_samples)\n",
        "\n",
        "            real_samples = F.one_hot(real_samples, len(self.word2idx_dict)).float()\n",
        "\n",
        "            d_out_real = self.dis(real_samples)\n",
        "            d_out_fake = self.dis(gen_samples)\n",
        "\n",
        "            g_loss, d_loss = calculate_loss(d_out_real=d_out_real, d_out_fake=d_out_fake)\n",
        "\n",
        "            self.gen_losses_valid.append(g_loss.item())\n",
        "            self.dis_losses_valid.append(d_loss.item())\n",
        "\n",
        "            g_loss_total += g_loss.item()\n",
        "            d_loss_total += d_loss.item() \n",
        "\n",
        "        return g_loss_total / len(valid_iterator_g), d_loss_total / len(valid_iterator_d)\n",
        "\n",
        "\n",
        "    def adv_train_generator(self):\n",
        "        loss = 0\n",
        "        for batch in zip(train_iterator_g, train_iterator_d):\n",
        "            real_samples = batch[1].text.T\n",
        "            gen_samples = batch[0].text.T\n",
        "            gen_samples = self.gen(gen_samples)\n",
        "\n",
        "            real_samples = F.one_hot(real_samples, len(self.word2idx_dict)).float()\n",
        "\n",
        "            d_out_real = self.dis(real_samples)\n",
        "            d_out_fake = self.dis(gen_samples)\n",
        "\n",
        "            g_loss, _ = calculate_loss(d_out_real=d_out_real, d_out_fake=d_out_fake)\n",
        "\n",
        "            self.optimize(self.gen_adv_opt, g_loss, self.gen)\n",
        "            self.gen_losses_train.append(g_loss.item())\n",
        "            loss += g_loss.item()\n",
        "\n",
        "        return loss / len(train_iterator_g)\n",
        "\n",
        "\n",
        "    def adv_train_discriminator(self):\n",
        "        loss = 0\n",
        "        for batch in zip(train_iterator_g, train_iterator_d):\n",
        "            real_samples = batch[1].text.T\n",
        "            gen_samples = batch[0].text.T\n",
        "            gen_samples = self.gen(gen_samples)\n",
        "\n",
        "            real_samples = F.one_hot(real_samples, len(self.word2idx_dict)).float()\n",
        "\n",
        "            d_out_real = self.dis(real_samples)\n",
        "            d_out_fake = self.dis(gen_samples)\n",
        "\n",
        "            _, d_loss = calculate_loss(d_out_real=d_out_real, d_out_fake=d_out_fake)\n",
        "\n",
        "            self.optimize(self.dis_opt, d_loss, self.dis)\n",
        "            self.dis_losses_train.append(d_loss.item())\n",
        "            loss += d_loss.item()\n",
        "\n",
        "        return loss / len(train_iterator_d)\n",
        "\n",
        "\n",
        "    @staticmethod\n",
        "    def optimize(opt, loss, model=None, retain_graph=False):\n",
        "        opt.zero_grad()\n",
        "        loss.backward(retain_graph=retain_graph)\n",
        "        if model is not None:\n",
        "            torch.nn.utils.clip_grad_norm_(model.parameters(), 2.0)\n",
        "        opt.step()"
      ],
      "execution_count": 0,
      "outputs": []
    },
    {
      "cell_type": "code",
      "metadata": {
        "id": "H_89-8ncAzI6",
        "colab_type": "code",
        "colab": {}
      },
      "source": [
        "instructor = RelGANInstructor(generator=generator, discriminator=discriminator)"
      ],
      "execution_count": 0,
      "outputs": []
    },
    {
      "cell_type": "code",
      "metadata": {
        "id": "CLjoGtrfBHn8",
        "colab_type": "code",
        "colab": {
          "base_uri": "https://localhost:8080/",
          "height": 370
        },
        "outputId": "9db2efb5-ac07-42f9-dbea-248c06b99b51"
      },
      "source": [
        "clean_tqdm()\n",
        "instructor._run()"
      ],
      "execution_count": 29,
      "outputs": [
        {
          "output_type": "stream",
          "text": [
            " 10%|█         | 1/10 [02:15<20:15, 135.11s/it]"
          ],
          "name": "stderr"
        },
        {
          "output_type": "stream",
          "text": [
            "\n",
            "g_loss: 0.6884, d_loss: 0.6717, g_loss_valid: 0.7533, d_loss_valid: 0.6365\n"
          ],
          "name": "stdout"
        },
        {
          "output_type": "stream",
          "text": [
            "\r 20%|██        | 2/10 [04:30<18:00, 135.08s/it]"
          ],
          "name": "stderr"
        },
        {
          "output_type": "stream",
          "text": [
            "\n",
            "g_loss: 0.7422, d_loss: 0.5800, g_loss_valid: 0.9300, d_loss_valid: 0.5019\n"
          ],
          "name": "stdout"
        },
        {
          "output_type": "stream",
          "text": [
            "\r 30%|███       | 3/10 [06:45<15:45, 135.06s/it]"
          ],
          "name": "stderr"
        },
        {
          "output_type": "stream",
          "text": [
            "\n",
            "g_loss: 0.7737, d_loss: 0.5708, g_loss_valid: 0.9598, d_loss_valid: 0.4833\n"
          ],
          "name": "stdout"
        },
        {
          "output_type": "stream",
          "text": [
            "\r 40%|████      | 4/10 [09:00<13:30, 135.02s/it]"
          ],
          "name": "stderr"
        },
        {
          "output_type": "stream",
          "text": [
            "\n",
            "g_loss: 0.8101, d_loss: 0.5472, g_loss_valid: 0.9988, d_loss_valid: 0.4603\n"
          ],
          "name": "stdout"
        },
        {
          "output_type": "stream",
          "text": [
            "\r 50%|█████     | 5/10 [11:14<11:14, 134.96s/it]"
          ],
          "name": "stderr"
        },
        {
          "output_type": "stream",
          "text": [
            "\n",
            "g_loss: 0.9532, d_loss: 0.3860, g_loss_valid: 1.4104, d_loss_valid: 0.2814\n"
          ],
          "name": "stdout"
        },
        {
          "output_type": "stream",
          "text": [
            "\r 60%|██████    | 6/10 [13:29<08:59, 134.89s/it]"
          ],
          "name": "stderr"
        },
        {
          "output_type": "stream",
          "text": [
            "\n",
            "g_loss: 1.1813, d_loss: 0.2613, g_loss_valid: 1.8977, d_loss_valid: 0.1648\n"
          ],
          "name": "stdout"
        },
        {
          "output_type": "stream",
          "text": [
            "\r 70%|███████   | 7/10 [15:44<06:44, 134.90s/it]"
          ],
          "name": "stderr"
        },
        {
          "output_type": "stream",
          "text": [
            "\n",
            "g_loss: 1.7285, d_loss: 0.1542, g_loss_valid: 2.4739, d_loss_valid: 0.0911\n"
          ],
          "name": "stdout"
        },
        {
          "output_type": "stream",
          "text": [
            "\r 80%|████████  | 8/10 [17:59<04:29, 134.99s/it]"
          ],
          "name": "stderr"
        },
        {
          "output_type": "stream",
          "text": [
            "\n",
            "g_loss: 1.6022, d_loss: 0.1378, g_loss_valid: 2.7564, d_loss_valid: 0.0701\n"
          ],
          "name": "stdout"
        },
        {
          "output_type": "stream",
          "text": [
            "\r 90%|█████████ | 9/10 [20:14<02:15, 135.04s/it]"
          ],
          "name": "stderr"
        },
        {
          "output_type": "stream",
          "text": [
            "\n",
            "g_loss: 2.6338, d_loss: 0.0507, g_loss_valid: 3.6623, d_loss_valid: 0.0288\n"
          ],
          "name": "stdout"
        },
        {
          "output_type": "stream",
          "text": [
            "100%|██████████| 10/10 [22:29<00:00, 134.99s/it]"
          ],
          "name": "stderr"
        },
        {
          "output_type": "stream",
          "text": [
            "\n",
            "g_loss: 3.1052, d_loss: 0.0586, g_loss_valid: 3.9453, d_loss_valid: 0.0236\n"
          ],
          "name": "stdout"
        },
        {
          "output_type": "stream",
          "text": [
            "\n"
          ],
          "name": "stderr"
        }
      ]
    },
    {
      "cell_type": "code",
      "metadata": {
        "id": "sTHGyFwbBhCZ",
        "colab_type": "code",
        "colab": {
          "base_uri": "https://localhost:8080/",
          "height": 393
        },
        "outputId": "70d85cca-7cd6-4564-cc39-1fdba12f03f1"
      },
      "source": [
        "new_val = [el for el in instructor.dis_losses_valid for i in range(10)]\n",
        "plt.figure(figsize=(10,6))\n",
        "plt.plot(np.arange(len(instructor.dis_losses_train)), instructor.dis_losses_train, label='Train Dis')\n",
        "plt.plot(np.arange(len(new_val)), new_val, label='Valid Dis')\n",
        "plt.xlabel('Iteration', fontsize=15)\n",
        "plt.ylabel('Loss', fontsize=15)\n",
        "plt.legend(fontsize='x-large')\n",
        "plt.show()"
      ],
      "execution_count": 30,
      "outputs": [
        {
          "output_type": "display_data",
          "data": {
            "image/png": "[encoded data removed]",
            "text/plain": [
              "<Figure size 720x432 with 1 Axes>"
            ]
          },
          "metadata": {
            "tags": [],
            "needs_background": "light"
          }
        }
      ]
    },
    {
      "cell_type": "code",
      "metadata": {
        "id": "cL-aA_SsIckx",
        "colab_type": "code",
        "colab": {
          "base_uri": "https://localhost:8080/",
          "height": 393
        },
        "outputId": "f4abf64d-4f05-4cb5-dece-6e4ec354cdb7"
      },
      "source": [
        "plt.figure(figsize=(10,6))\n",
        "new_val = [el for el in instructor.gen_losses_valid for i in range(10)]\n",
        "plt.plot(np.arange(len(instructor.gen_losses_train)), instructor.gen_losses_train, label='Train Gen')\n",
        "plt.plot(np.arange(len(new_val)), new_val, label='Valid Gen')\n",
        "plt.xlabel('Iteration', fontsize=15)\n",
        "plt.ylabel('Loss', fontsize=15)\n",
        "plt.legend(fontsize='x-large')\n",
        "plt.show()"
      ],
      "execution_count": 31,
      "outputs": [
        {
          "output_type": "display_data",
          "data": {
            "image/png": "[encoded data removed]",
            "text/plain": [
              "<Figure size 720x432 with 1 Axes>"
            ]
          },
          "metadata": {
            "tags": [],
            "needs_background": "light"
          }
        }
      ]
    },
    {
      "cell_type": "code",
      "metadata": {
        "id": "9c_jw6NLLHwA",
        "colab_type": "code",
        "colab": {}
      },
      "source": [
        ""
      ],
      "execution_count": 0,
      "outputs": []
    }
  ]
}