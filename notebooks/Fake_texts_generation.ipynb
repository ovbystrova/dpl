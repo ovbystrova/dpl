{
  "nbformat": 4,
  "nbformat_minor": 0,
  "metadata": {
    "colab": {
      "name": "Fake_texts_generation.ipynb",
      "provenance": [],
      "collapsed_sections": [
        "BYfwcV4xSNfv",
        "uY3i50oi27oK",
        "q6W1F-3jSSRR"
      ],
      "machine_shape": "hm",
      "authorship_tag": "ABX9TyO/NatSfWZYr0YKpW7KwQj6",
      "include_colab_link": true
    },
    "kernelspec": {
      "name": "python3",
      "display_name": "Python 3"
    },
    "accelerator": "GPU"
  },
  "cells": [
    {
      "cell_type": "markdown",
      "metadata": {
        "id": "view-in-github",
        "colab_type": "text"
      },
      "source": [
        "<a href=\"https://colab.research.google.com/github/ovbystrova/dpl/blob/master/notebooks/Fake_texts_generation.ipynb\" target=\"_parent\"><img src=\"https://colab.research.google.com/assets/colab-badge.svg\" alt=\"Open In Colab\"/></a>"
      ]
    },
    {
      "cell_type": "code",
      "metadata": {
        "id": "TQOHKO80PX7K",
        "colab_type": "code",
        "colab": {}
      },
      "source": [
        "!pip install transformers"
      ],
      "execution_count": 0,
      "outputs": []
    },
    {
      "cell_type": "code",
      "metadata": {
        "id": "Ucmk2NqzPVI2",
        "colab_type": "code",
        "outputId": "bbc51ab6-412c-4421-fea7-aa17557f5fdf",
        "colab": {
          "base_uri": "https://localhost:8080/",
          "height": 67
        }
      },
      "source": [
        "from transformers import GPT2Tokenizer, GPT2LMHeadModel\n",
        "from tqdm import tqdm\n",
        "import re\n",
        "import torch\n",
        "import numpy as np\n",
        "import json\n",
        "\n",
        "import nltk\n",
        "from nltk import tokenize\n",
        "nltk.download('punkt')"
      ],
      "execution_count": 10,
      "outputs": [
        {
          "output_type": "stream",
          "text": [
            "[nltk_data] Downloading package punkt to /root/nltk_data...\n",
            "[nltk_data]   Unzipping tokenizers/punkt.zip.\n"
          ],
          "name": "stdout"
        },
        {
          "output_type": "execute_result",
          "data": {
            "text/plain": [
              "True"
            ]
          },
          "metadata": {
            "tags": []
          },
          "execution_count": 10
        }
      ]
    },
    {
      "cell_type": "code",
      "metadata": {
        "id": "VKVtK3PSpPkn",
        "colab_type": "code",
        "colab": {}
      },
      "source": [
        "from google.colab import drive\n",
        "drive.mount('/content/drive')"
      ],
      "execution_count": 0,
      "outputs": []
    },
    {
      "cell_type": "code",
      "metadata": {
        "id": "uvFY-qkorEY6",
        "colab_type": "code",
        "colab": {}
      },
      "source": [
        "def clean_data(text):\n",
        "    text = re.sub(r'\\<[^>]*\\>', '', text)\n",
        "    text = re.sub(r'\\\\n', ' ', text)\n",
        "    text = re.sub(r'&[a-z]{0,7};', ' ', text)\n",
        "    text = re.sub(r'\\s{2,10}', ' ', text)\n",
        "    text = re.sub(r'\\s{2,10}', ' ', text)\n",
        "    text = re.sub(r\"\\\\'\", r\"'\", text)\n",
        "    text = re.sub(r'\\\\x\\d{1,4}', '', text)\n",
        "    return text\n",
        "\n",
        "def get_sentences(data):\n",
        "    \"\"\"\n",
        "    splits texts into sentences\n",
        "    return: list of sentences to pass to gpt model \n",
        "            list of sentences to pass to classification model as real texts\n",
        "    \"\"\"\n",
        "    texts_gpt2 = []\n",
        "    texts_real = []\n",
        "\n",
        "    for text in data:\n",
        "        tokenized = tokenize.sent_tokenize(text)\n",
        "        if len(tokenized) >= 2 and len(tokenized[0].split(' ')) < 50:\n",
        "            texts_gpt2.append(tokenized[0])\n",
        "            texts_real.append(' '.join(tokenized[:2]))\n",
        "    assert len(texts_real) == len(texts_gpt2)\n",
        "    return texts_gpt2, texts_real"
      ],
      "execution_count": 0,
      "outputs": []
    },
    {
      "cell_type": "code",
      "metadata": {
        "id": "VdiK6GsaqMLh",
        "colab_type": "code",
        "colab": {}
      },
      "source": [
        "with open('/content/drive/My Drive/train-stats.jsonl', 'r') as json_file:\n",
        "        json_list = list(json_file)[100:]\n",
        "        \n",
        "data = []\n",
        "for json_str in json_list:\n",
        "        result = json.loads(json_str)\n",
        "        data.append(clean_data(result['text']))\n",
        "del json_list\n",
        "\n",
        "texts_gpt2, texts_r = get_sentences(data)"
      ],
      "execution_count": 0,
      "outputs": []
    },
    {
      "cell_type": "code",
      "metadata": {
        "id": "7WSJ7VHqP52Q",
        "colab_type": "code",
        "colab": {}
      },
      "source": [
        "MAX_LENGTH = 50\n",
        "tokenizer = GPT2Tokenizer.from_pretrained(\"gpt2\", pad_token='<pad>')\n",
        "model = GPT2LMHeadModel.from_pretrained('gpt2')"
      ],
      "execution_count": 0,
      "outputs": []
    },
    {
      "cell_type": "markdown",
      "metadata": {
        "id": "BYfwcV4xSNfv",
        "colab_type": "text"
      },
      "source": [
        "# Generation stuff"
      ]
    },
    {
      "cell_type": "code",
      "metadata": {
        "id": "dE8fpKEX3Jmf",
        "colab_type": "code",
        "colab": {}
      },
      "source": [
        "def generate_fake(texts, sampling_type, tokenizer=tokenizer, model=model):\n",
        "    \"\"\"\n",
        "    Generates texts depending on sampling_type. \n",
        "    sampling type: tuple (sampling_type : value)\n",
        "    return: list of fake texts\n",
        "    \"\"\"\n",
        "    fake = []\n",
        "    samplings = []\n",
        "\n",
        "    for el in tqdm(texts):    \n",
        "        sent = generate_sentence(el, model, tokenizer, sampling_type)            \n",
        "        sent = re.sub(r'\\n', ' ', sent)\n",
        "        fake.append(sent)\n",
        "        samplings.append(sampling_type[0])        \n",
        "    return fake, samplings\n",
        "\n",
        "\n",
        "def generate_sentence(sentence, model, tokenizer, sampling_type, max_length=MAX_LENGTH):    \n",
        "    \"\"\"\n",
        "    Generates sentence depending on sampling_type\n",
        "    return: str\n",
        "    \"\"\"\n",
        "    eos = tokenizer.encode('.?!...! ?')\n",
        "    context = torch.tensor([tokenizer.encode(sentence)][:500])\n",
        "    max_length += context.size()[-1]\n",
        "    \n",
        "    if sampling_type[0] == 'beam_search':\n",
        "        outputs = model.generate(input_ids=context, max_length=max_length,\n",
        "                                 do_sample=True, num_beams=sampling_type[1],\n",
        "                                 pad_token_id=tokenizer.pad_token_id,\n",
        "                                 repetition_penalty=2.3)\n",
        "    elif sampling_type[0] == 'temperature':\n",
        "        outputs = model.generate(input_ids=context, max_length=max_length,\n",
        "                                 do_sample=True, temperature=sampling_type[1],\n",
        "                                 pad_token_id=tokenizer.pad_token_id)\n",
        "    elif sampling_type[0] == 'top_k':\n",
        "        outputs = model.generate(input_ids=context, max_length=max_length,\n",
        "                                 do_sample=True, temperature=sampling_type[1],\n",
        "                                 pad_token_id=tokenizer.pad_token_id)\n",
        "    elif sampling_type[0] == 'nucleus':\n",
        "        outputs = model.generate(input_ids=context, max_length=max_length,\n",
        "                                 do_sample=True, top_p=sampling_type[1],\n",
        "                                 pad_token_id=tokenizer.pad_token_id)\n",
        "    else:  # Argmax otherwise\n",
        "        outputs = model.generate(input_ids=context, max_length=max_length, do_sample=False,\n",
        "                                 pad_token_id=tokenizer.pad_token_id)\n",
        "    return tokenizer.decode(outputs[0], skip_special_tokens=True)"
      ],
      "execution_count": 0,
      "outputs": []
    },
    {
      "cell_type": "code",
      "metadata": {
        "id": "LZY8W3WlO123",
        "colab_type": "code",
        "outputId": "92fc9cd0-16cb-4b78-8b96-d3c79273680c",
        "colab": {
          "base_uri": "https://localhost:8080/",
          "height": 34
        }
      },
      "source": [
        "argmax_fake = generate_fake(texts_gpt2[:5], ('argmax', 23), tokenizer=tokenizer, model=model)"
      ],
      "execution_count": 27,
      "outputs": [
        {
          "output_type": "stream",
          "text": [
            "100%|██████████| 5/5 [00:11<00:00,  2.35s/it]\n"
          ],
          "name": "stderr"
        }
      ]
    },
    {
      "cell_type": "code",
      "metadata": {
        "id": "yH_QX0rhO1nc",
        "colab_type": "code",
        "outputId": "aa7b0fdc-87be-4fde-80bc-40bd062e2aab",
        "colab": {
          "base_uri": "https://localhost:8080/",
          "height": 34
        }
      },
      "source": [
        "temperature08_fake = generate_fake(texts_gpt2[:5], ('temperature', 0.8), tokenizer=tokenizer, model=model)"
      ],
      "execution_count": 32,
      "outputs": [
        {
          "output_type": "stream",
          "text": [
            "100%|██████████| 5/5 [00:10<00:00,  2.03s/it]\n"
          ],
          "name": "stderr"
        }
      ]
    },
    {
      "cell_type": "code",
      "metadata": {
        "id": "dE5R9X976GmM",
        "colab_type": "code",
        "colab": {
          "base_uri": "https://localhost:8080/",
          "height": 34
        },
        "outputId": "c3c4aa94-130b-4a48-9e3b-3e5dda027752"
      },
      "source": [
        "temperature09_fake = generate_fake(texts_gpt2[:5], ('temperature', 0.9), tokenizer=tokenizer, model=model)"
      ],
      "execution_count": 33,
      "outputs": [
        {
          "output_type": "stream",
          "text": [
            "100%|██████████| 5/5 [00:10<00:00,  2.09s/it]\n"
          ],
          "name": "stderr"
        }
      ]
    },
    {
      "cell_type": "code",
      "metadata": {
        "id": "yk783uYy6Iw8",
        "colab_type": "code",
        "colab": {
          "base_uri": "https://localhost:8080/",
          "height": 34
        },
        "outputId": "c5fc4b8d-38f0-452f-b33c-9aa73f2dc878"
      },
      "source": [
        "temperature2_fake = generate_fake(texts_gpt2[:5], ('temperature', 2), tokenizer=tokenizer, model=model)"
      ],
      "execution_count": 34,
      "outputs": [
        {
          "output_type": "stream",
          "text": [
            "100%|██████████| 5/5 [00:11<00:00,  2.35s/it]\n"
          ],
          "name": "stderr"
        }
      ]
    },
    {
      "cell_type": "code",
      "metadata": {
        "id": "Nd0aExJzO1cj",
        "colab_type": "code",
        "outputId": "45e53b48-bede-4d09-c3ca-02a787de0414",
        "colab": {
          "base_uri": "https://localhost:8080/",
          "height": 34
        }
      },
      "source": [
        "top_k20_fake = generate_fake(texts_gpt2[:5], ('top_k', 20), tokenizer=tokenizer, model=model)"
      ],
      "execution_count": 35,
      "outputs": [
        {
          "output_type": "stream",
          "text": [
            "100%|██████████| 5/5 [00:09<00:00,  1.99s/it]\n"
          ],
          "name": "stderr"
        }
      ]
    },
    {
      "cell_type": "code",
      "metadata": {
        "id": "_v4k9NJa6LRu",
        "colab_type": "code",
        "colab": {
          "base_uri": "https://localhost:8080/",
          "height": 34
        },
        "outputId": "65ddda1d-01fc-4b6d-b661-94f9061853c6"
      },
      "source": [
        "top_k100_fake = generate_fake(texts_gpt2[:5], ('top_k', 100), tokenizer=tokenizer, model=model)"
      ],
      "execution_count": 36,
      "outputs": [
        {
          "output_type": "stream",
          "text": [
            "100%|██████████| 5/5 [00:12<00:00,  2.45s/it]\n"
          ],
          "name": "stderr"
        }
      ]
    },
    {
      "cell_type": "code",
      "metadata": {
        "id": "LVEEsZMgPVdx",
        "colab_type": "code",
        "outputId": "c8351296-fd37-417f-b8c4-3750bc189572",
        "colab": {
          "base_uri": "https://localhost:8080/",
          "height": 34
        }
      },
      "source": [
        "nucleus09_fake = generate_fake(texts_gpt2[:5], ('nucleus', 0.9), tokenizer=tokenizer, model=model)"
      ],
      "execution_count": 44,
      "outputs": [
        {
          "output_type": "stream",
          "text": [
            "100%|██████████| 5/5 [00:10<00:00,  2.03s/it]\n"
          ],
          "name": "stderr"
        }
      ]
    },
    {
      "cell_type": "code",
      "metadata": {
        "id": "0n3GUvDM6OyB",
        "colab_type": "code",
        "colab": {
          "base_uri": "https://localhost:8080/",
          "height": 34
        },
        "outputId": "ed0e6d66-2d5a-4450-d0a5-6b19f86ad96c"
      },
      "source": [
        "nucleus08_fake = generate_fake(texts_gpt2[:5], ('nucleus', 0.8), tokenizer=tokenizer, model=model)"
      ],
      "execution_count": 37,
      "outputs": [
        {
          "output_type": "stream",
          "text": [
            "100%|██████████| 5/5 [00:12<00:00,  2.55s/it]\n"
          ],
          "name": "stderr"
        }
      ]
    },
    {
      "cell_type": "code",
      "metadata": {
        "id": "LcAPYjHwQLo_",
        "colab_type": "code",
        "colab": {}
      },
      "source": [
        "argmax_tuple =  ('Argmax', argmax_fake)\n",
        "temperature08_tuple = ('Temperature', temperature08_fake)\n",
        "temperature09_tuple = ('Temperature', temperature09_fake)\n",
        "temperature2_tuple = ('Temperature', temperature2_fake)\n",
        "top_k20_tuple = ('Top K', top_k20_fake)\n",
        "top_k100_tuple = ('Top K', top_k100_fake)\n",
        "nucleus08_tuple = ('Nucleus', nucleus08_fake)\n",
        "nucleus09_tuple = ('Nucleus', nucleus09_fake)"
      ],
      "execution_count": 0,
      "outputs": []
    },
    {
      "cell_type": "code",
      "metadata": {
        "id": "kAyGGa2H7As8",
        "colab_type": "code",
        "colab": {
          "base_uri": "https://localhost:8080/",
          "height": 121
        },
        "outputId": "a0b15d90-9966-4226-e687-d19bcb9e8827"
      },
      "source": [
        "texts_r[:5]"
      ],
      "execution_count": 39,
      "outputs": [
        {
          "output_type": "execute_result",
          "data": {
            "text/plain": [
              "['Candlestick Park has been my part-time office for more than two decades. But, from a sentimental standpoint, it has always felt more like a room in my childhood home, full of faded memories, familiar smells and an odd kind of (cold, windy and damp) comfort.',\n",
              " \"Damien Hirst's The Physical Impossibility of Death in the Mind of Someone Living (1991) at the Tate Modern. Photograph: Kerim Okten/EPA A major retrospective of Damien Hirst's work helped Tate Modern attract a record-breaking 5.3 million people last year.\",\n",
              " 'Governor Deval Patrick will commit more than $50 million on Tuesday to help Massachusetts communities and utilities prepare for and protect themselves from the increasing number of destructive storms and rising sea levels blamed on climate change. Most of the money, about $40 million, will be distributed as grants to help cities and towns install backup power systems using clean technologies, such as advanced batteries that store energy from solar panels.',\n",
              " 'Friend and Barber continued to work in London for two years to finance the renovations, which cost about 400,000 euro ($555,720) for new plumbing, additional bathrooms, rewiring electricity and adding an outdoor pool. La Villa de Mazamet opened for business in 2009 in Mazamet, a town in southwestern France.',\n",
              " 'Our new iPhone app is coming soon. In the meantime you can install the current version.']"
            ]
          },
          "metadata": {
            "tags": []
          },
          "execution_count": 39
        }
      ]
    },
    {
      "cell_type": "code",
      "metadata": {
        "id": "SuztasbJ64KM",
        "colab_type": "code",
        "colab": {
          "base_uri": "https://localhost:8080/",
          "height": 138
        },
        "outputId": "33771717-66fc-4860-c0fd-d71359bd6051"
      },
      "source": [
        "argmax_fake"
      ],
      "execution_count": 38,
      "outputs": [
        {
          "output_type": "execute_result",
          "data": {
            "text/plain": [
              "([\"Candlestick Park has been my part-time office for more than two decades. I've been a member of the Board of Directors since the early 1990s, and I've been a member of the Board since the early 2000s. I've been a member of the Board since the early 2000s, and I've been a\",\n",
              "  \"Damien Hirst's The Physical Impossibility of Death in the Mind of Someone Living (1991) at the Tate Modern.  The book is a collection of essays by Hirst, who has written about the subject of death in the mind of someone living. The essays are divided into three parts:  The first part is about the subject of death. The second\",\n",
              "  'Governor Deval Patrick will commit more than $50 million on Tuesday to help Massachusetts communities and utilities prepare for and protect themselves from the increasing number of destructive storms and rising sea levels blamed on climate change.  The governor will also announce a $100 million grant to help communities in the state prepare for and protect themselves from the rising sea levels.  \"This is a great day for Massachusetts,\" Patrick said. \"We are all in this together',\n",
              "  \"Friend and Barber continued to work in London for two years to finance the renovations, which cost about 400,000 euro ($555,720) for new plumbing, additional bathrooms, rewiring electricity and adding an outdoor pool.  The company also paid for the renovation of the building's main entrance, which was completed in 2012.  The company also paid for the renovation of the building's main entrance, which was completed in 2012.  The company also paid\",\n",
              "  'Our new iPhone app is coming soon.  The app is available for download on the App Store and Google Play.  The app is available for download on the App Store and Google Play. The app is available for download on the App Store and Google Play. The app is available'],\n",
              " ['argmax', 'argmax', 'argmax', 'argmax', 'argmax'])"
            ]
          },
          "metadata": {
            "tags": []
          },
          "execution_count": 38
        }
      ]
    },
    {
      "cell_type": "code",
      "metadata": {
        "id": "uMXDyzkz8RWP",
        "colab_type": "code",
        "colab": {
          "base_uri": "https://localhost:8080/",
          "height": 138
        },
        "outputId": "081bfc18-a706-4805-f3f9-ab129f6e3106"
      },
      "source": [
        "top_k20_fake"
      ],
      "execution_count": 40,
      "outputs": [
        {
          "output_type": "execute_result",
          "data": {
            "text/plain": [
              "(['Candlestick Park has been my part-time office for more than two decades. On November 27-22 my youngest sister called in calls throughout my adult, life journey seeking more help than I and two brothers that met this need would normally handle; no question for those not connected in families whose support to each son needed be tested today',\n",
              "  \"Damien Hirst's The Physical Impossibility of Death in the Mind of Someone Living (1991) at the Tate Modern.\",\n",
              "  'Governor Deval Patrick will commit more than $50 million on Tuesday to help Massachusetts communities and utilities prepare for and protect themselves from the increasing number of destructive storms and rising sea levels blamed on climate change. By doing something together across nearly all parts the world \"that has real life promise on that occasion. Let no energy question ever again occur on that record... that won to America.\" GovTee-President James Wilson declared March 28 and March 23 the',\n",
              "  'Friend and Barber continued to work in London for two years to finance the renovations, which cost about 400,000 euro ($555,720) for new plumbing, additional bathrooms, rewiring electricity and adding an outdoor pool. For much cheaper time in, Baudevé now offers weekly \"traveck trips like BAFTA week nights but in real cash that gives up their day time too.\\' He went more and he stayed there four. On April 12. 1997 this',\n",
              "  'Our new iPhone app is coming soon. Donny told reporters on Air New Asia how people found Apple apps easy — often forgetting. He said apps make you use fewer programs as devices with many new functionality don—te not know new capabilities,\"He—, of many a feature user-interface'],\n",
              " ['top_k', 'top_k', 'top_k', 'top_k', 'top_k'])"
            ]
          },
          "metadata": {
            "tags": []
          },
          "execution_count": 40
        }
      ]
    },
    {
      "cell_type": "code",
      "metadata": {
        "id": "ncefdR7o8Uzx",
        "colab_type": "code",
        "colab": {
          "base_uri": "https://localhost:8080/",
          "height": 138
        },
        "outputId": "23532e29-6dec-4f43-8b16-1fbb1da8affe"
      },
      "source": [
        "top_k100_fake"
      ],
      "execution_count": 41,
      "outputs": [
        {
          "output_type": "execute_result",
          "data": {
            "text/plain": [
              "([\"Candlestick Park has been my part-time office for more than two decades. Even beyond The White Collar – at that venue only 3 inches beyond New Delhi city line's main concanning station of Chambachur Chai Pulkuk-based IAF on a day dedicated a quarter to touring. There I could\",\n",
              "  \"Damien Hirst's The Physical Impossibility of Death in the Mind of Someone Living (1991) at the Tate Modern. Now here go go take out aspera flourballs or use any nonfiction genre of storytelling when researching horror books; these writers often fall off a hill because it hurts someone (read this for further reasons!). Heh it is. You might try\",\n",
              "  'Governor Deval Patrick will commit more than $50 million on Tuesday to help Massachusetts communities and utilities prepare for and protect themselves from the increasing number of destructive storms and rising sea levels blamed on climate change. By his authority, Governor Perry could impose measures related specifically for people within 20 meters, which also involves setting higher requirements about hazardous runoff for residents but excludes any further \"significant increases of flood level from local level planning measures due into 2021 for which funds for',\n",
              "  'Friend and Barber continued to work in London for two years to finance the renovations, which cost about 400,000 euro ($555,720) for new plumbing, additional bathrooms, rewiring electricity and adding an outdoor pool. An English translation from Arabic on Google maps appeared two recent summers there is a short but concise story available there explaining her visit through this brief report by Dineshan Khan via a short version dated Jan 25 Somew at their former wedding celebration that August',\n",
              "  'Our new iPhone app is coming soon. Let @nymerckesson lead by sharing on FB a #AppleUI game from now 1 month: the real work in Progress? \\U0001f9a6 Check his work too – We can both share something…  (Disclaimer here in no mine ('],\n",
              " ['top_k', 'top_k', 'top_k', 'top_k', 'top_k'])"
            ]
          },
          "metadata": {
            "tags": []
          },
          "execution_count": 41
        }
      ]
    },
    {
      "cell_type": "code",
      "metadata": {
        "id": "I8f3HM0i9Ghe",
        "colab_type": "code",
        "colab": {
          "base_uri": "https://localhost:8080/",
          "height": 138
        },
        "outputId": "22ad8464-3965-4a23-f9a6-f2ac6b1901d2"
      },
      "source": [
        "nucleus08_fake"
      ],
      "execution_count": 42,
      "outputs": [
        {
          "output_type": "execute_result",
          "data": {
            "text/plain": [
              "([\"Candlestick Park has been my part-time office for more than two decades. My wife and I have been running our business there ever since our wedding. We've never really let the weather affect our business, but we love being able to stay here and run our business while our customers enjoy a good deal on their tickets. \",\n",
              "  'Damien Hirst\\'s The Physical Impossibility of Death in the Mind of Someone Living (1991) at the Tate Modern. It is no wonder that the title of Hirst\\'s book is the title of the next film in the series, The Killing of a Sacred Deer.  I was invited to speak by Hirst for his \"The Art of Writing\" lecture and',\n",
              "  'Governor Deval Patrick will commit more than $50 million on Tuesday to help Massachusetts communities and utilities prepare for and protect themselves from the increasing number of destructive storms and rising sea levels blamed on climate change.  The proposal would cover the state\\'s electricity supply and utility costs in Massachusetts, as well as its water and sewer systems, from 2015 through 2024.  \"It\\'s one thing to support renewables. It\\'s quite another to fight the problem',\n",
              "  'Friend and Barber continued to work in London for two years to finance the renovations, which cost about 400,000 euro ($555,720) for new plumbing, additional bathrooms, rewiring electricity and adding an outdoor pool.  As the cost of the renovations fell, Barber\\'s brother, Marc, who is on the board of directors of Barber & Sons, said he was \"heartbroken\" by the loss of his brother.  \"We\\'ve been in a',\n",
              "  'Our new iPhone app is coming soon. We\\'re still trying to get the team to come up with something new and interesting. It\\'ll take us some time, but we\\'ve had a lot of good feedback from the community, and the latest version will be released soon.\"  \"There'],\n",
              " ['nucleus', 'nucleus', 'nucleus', 'nucleus', 'nucleus'])"
            ]
          },
          "metadata": {
            "tags": []
          },
          "execution_count": 42
        }
      ]
    },
    {
      "cell_type": "code",
      "metadata": {
        "id": "WGkqJ8td9ISA",
        "colab_type": "code",
        "colab": {
          "base_uri": "https://localhost:8080/",
          "height": 138
        },
        "outputId": "2bb45446-07f9-4cc7-b5bb-e848215e01f7"
      },
      "source": [
        "nucleus09_fake"
      ],
      "execution_count": 45,
      "outputs": [
        {
          "output_type": "execute_result",
          "data": {
            "text/plain": [
              "(['Candlestick Park has been my part-time office for more than two decades. I have worked on the development of the park for the last six years and we are continuing to improve it. So I am grateful for all of your support and interest in getting us going.  My main hope is to put on a good show',\n",
              "  'Damien Hirst\\'s The Physical Impossibility of Death in the Mind of Someone Living (1991) at the Tate Modern. \"So I\\'m on a roll when I see the head on the desk. Then I\\'m at the table with my friend. But it wasn\\'t that hard to see what I looked like and my hands.\"',\n",
              "  'Governor Deval Patrick will commit more than $50 million on Tuesday to help Massachusetts communities and utilities prepare for and protect themselves from the increasing number of destructive storms and rising sea levels blamed on climate change.  Patrick will pledge $25 million to help municipalities and homeowners develop an emergency plan to protect their buildings and properties from flooding and storm surges, according to the governor\\'s budget.  \"My administration has a responsibility to keep this country safe by',\n",
              "  'Friend and Barber continued to work in London for two years to finance the renovations, which cost about 400,000 euro ($555,720) for new plumbing, additional bathrooms, rewiring electricity and adding an outdoor pool.   The Italian company is now trying to get support for its projects from other developers, including the Dutch company Vlaams Slemts in Amsterdam and Dutch firm Nøkland, which built the $3 billion Avant-Garde Hotel',\n",
              "  'Our new iPhone app is coming soon.'],\n",
              " ['nucleus', 'nucleus', 'nucleus', 'nucleus', 'nucleus'])"
            ]
          },
          "metadata": {
            "tags": []
          },
          "execution_count": 45
        }
      ]
    },
    {
      "cell_type": "code",
      "metadata": {
        "id": "euDvf8GO9mug",
        "colab_type": "code",
        "colab": {
          "base_uri": "https://localhost:8080/",
          "height": 138
        },
        "outputId": "040ca05a-76dc-4997-d0e7-28b90e54f12c"
      },
      "source": [
        "temperature08_fake"
      ],
      "execution_count": 46,
      "outputs": [
        {
          "output_type": "execute_result",
          "data": {
            "text/plain": [
              "(['Candlestick Park has been my part-time office for more than two decades. Over the past decade, it grew into a complex of offices, offices that have provided me with a living, a living history, a living memory of the past, and an environment that has helped me feel at home.  In my home office',\n",
              "  'Damien Hirst\\'s The Physical Impossibility of Death in the Mind of Someone Living (1991) at the Tate Modern. He says the film was a \"very important piece of work\" to her. \"I was a huge critic. I would go out of my way to talk about it. It\\'s so much work to get to that point of no return.\" As',\n",
              "  'Governor Deval Patrick will commit more than $50 million on Tuesday to help Massachusetts communities and utilities prepare for and protect themselves from the increasing number of destructive storms and rising sea levels blamed on climate change.  The $50 million grant was provided to the Massachusetts Commission on Environmental Quality, which has the power to approve projects. The agency also has jurisdiction over the $150 million project.  The state has taken more than a quarter of that money',\n",
              "  'Friend and Barber continued to work in London for two years to finance the renovations, which cost about 400,000 euro ($555,720) for new plumbing, additional bathrooms, rewiring electricity and adding an outdoor pool.  \"He\\'s a visionary, you can\\'t replace him,\" said one former employee.  In January 1983, Barber left for New York City to work as a manager of a private equity firm. In 1985, a financial crisis hit the',\n",
              "  'Our new iPhone app is coming soon. Stay tuned.'],\n",
              " ['temperature', 'temperature', 'temperature', 'temperature', 'temperature'])"
            ]
          },
          "metadata": {
            "tags": []
          },
          "execution_count": 46
        }
      ]
    },
    {
      "cell_type": "code",
      "metadata": {
        "id": "FdGmR7iy9oFN",
        "colab_type": "code",
        "colab": {
          "base_uri": "https://localhost:8080/",
          "height": 138
        },
        "outputId": "f2d9a4f4-6309-4de8-d507-f56064587657"
      },
      "source": [
        "temperature09_fake"
      ],
      "execution_count": 47,
      "outputs": [
        {
          "output_type": "execute_result",
          "data": {
            "text/plain": [
              "(['Candlestick Park has been my part-time office for more than two decades. A few months ago, I took the plunge and opened a new house on the corner of 14th Street and S. 26th Street. The place was completely vacant. I moved it to the top right of the shop and had to put up with',\n",
              "  'Damien Hirst\\'s The Physical Impossibility of Death in the Mind of Someone Living (1991) at the Tate Modern. The following week we read the review of Jules Verne\\'s \"The Other Side of the Sea\" and it was clear his intent in reading them was to show us that the mind is made up of many different components that have to be kept perfectly',\n",
              "  'Governor Deval Patrick will commit more than $50 million on Tuesday to help Massachusetts communities and utilities prepare for and protect themselves from the increasing number of destructive storms and rising sea levels blamed on climate change.  The bill, which takes effect on Sept. 3, includes $75 million over 10 years to upgrade storm surge defenses, replace power lines and restore power lines to other parts of the state. It also includes $5 million over 10 years to',\n",
              "  'Friend and Barber continued to work in London for two years to finance the renovations, which cost about 400,000 euro ($555,720) for new plumbing, additional bathrooms, rewiring electricity and adding an outdoor pool.  Other local partners include:   - Lotte, who manages the restaurant, told France Info that, as a restaurant in a European city, it often has to stay open until 8 p.m. to help make the process easier for',\n",
              "  'Our new iPhone app is coming soon. Just check out the new screenshots at the top of this post.'],\n",
              " ['temperature', 'temperature', 'temperature', 'temperature', 'temperature'])"
            ]
          },
          "metadata": {
            "tags": []
          },
          "execution_count": 47
        }
      ]
    },
    {
      "cell_type": "code",
      "metadata": {
        "id": "BMLTRXOY9pst",
        "colab_type": "code",
        "colab": {
          "base_uri": "https://localhost:8080/",
          "height": 138
        },
        "outputId": "6e75c02d-b048-4351-8c24-0214d325af14"
      },
      "source": [
        "temperature2_fake"
      ],
      "execution_count": 48,
      "outputs": [
        {
          "output_type": "execute_result",
          "data": {
            "text/plain": [
              "(['Candlestick Park has been my part-time office for more than two decades. The staff here are committed to a wide variety of jobs as well. We will provide a space conducive to professional leadership, but as one of the busiest times for all employees in Downtown, working at least twice week would greatly increase customer satisfaction from just 2',\n",
              "  \"Damien Hirst's The Physical Impossibility of Death in the Mind of Someone Living (1991) at the Tate Modern.  This quote seems obvious given Mr O'Regan will not be appearing to tell you much. However, as long as someone keeps to saying that his argument won't stop after death, as well as if he makes that more salient. The\",\n",
              "  'Governor Deval Patrick will commit more than $50 million on Tuesday to help Massachusetts communities and utilities prepare for and protect themselves from the increasing number of destructive storms and rising sea levels blamed on climate change.   Patrick will announce a State-of-the-Union Address Monday evening following which Patrick plans four major priorities to tackle storms in 2016 in Boston and beyond. Patrick spoke the most effective and inspiring story in this yearís most ambitious series by raising',\n",
              "  \"Friend and Barber continued to work in London for two years to finance the renovations, which cost about 400,000 euro ($555,720) for new plumbing, additional bathrooms, rewiring electricity and adding an outdoor pool. His son also left behind a family business – until now.   Since the beginning, Marlo is involved exclusively with all-male bars in East Anglia; for nearly 200 year's' and about 500 million to 1.5 men (according\",\n",
              "  'Our new iPhone app is coming soon.   This story first published Oct 16 to 7pm HD time | Back To Us Now! Sign up : ( Share on ) Add. Please choose a year and start counting to update here.'],\n",
              " ['temperature', 'temperature', 'temperature', 'temperature', 'temperature'])"
            ]
          },
          "metadata": {
            "tags": []
          },
          "execution_count": 48
        }
      ]
    },
    {
      "cell_type": "markdown",
      "metadata": {
        "id": "uY3i50oi27oK",
        "colab_type": "text"
      },
      "source": [
        "# Comparison"
      ]
    },
    {
      "cell_type": "code",
      "metadata": {
        "id": "IJ5i4qyE-lna",
        "colab_type": "code",
        "colab": {}
      },
      "source": [
        "# TODO Переделать под новый формат если нужно"
      ],
      "execution_count": 0,
      "outputs": []
    },
    {
      "cell_type": "code",
      "metadata": {
        "id": "l42L09hh27Le",
        "colab_type": "code",
        "colab": {}
      },
      "source": [
        "def compare(real, *args):\n",
        "    for ind, el in enumerate(real):\n",
        "        print('REAL TEXT: {}'.format(el))\n",
        "        \n",
        "        for type_fake, fake_list in args:\n",
        "            for fake_text in fake_list:\n",
        "                if fake_text.startswith(el[:20]):\n",
        "                    print('GENERATED TEXT ({}): {}'.format(type_fake, fake_text))\n",
        "        print('=======================================')"
      ],
      "execution_count": 0,
      "outputs": []
    },
    {
      "cell_type": "code",
      "metadata": {
        "id": "vfuBotxB31Ph",
        "colab_type": "code",
        "outputId": "a7baf9b7-bf47-42e6-b0f9-e593ba8bc57b",
        "colab": {
          "base_uri": "https://localhost:8080/",
          "height": 1000
        }
      },
      "source": [
        "compare(texts[:10], argmax_tuple, temperature_tuple, top_k_tuple, beam_search_tuple, nucleus_tuple)"
      ],
      "execution_count": 0,
      "outputs": [
        {
          "output_type": "stream",
          "text": [
            "REAL TEXT: HAMBURG, Germany, June 3  As he left the soccer field after a club match in the eastern German city of Halle on March 25, the Nigerian forward Adebowale Ogungbure was spit upon, jeered with racial remarks and mocked with monkey noises.\n",
            "\n",
            "GENERATED TEXT (Argmax): HAMBURG, Germany, June 3  As he left the soccer field after a club match in the eastern German city of Halle on March 25, the Nigerian forward Adebowale Ogungbure was spit upon, jeered with racial remarks and mocked with monkey noises.Ogungbure, who was born in Nigeria, was arrested in Germany on March 25 and charged with \"racial discrimination\" after!\n",
            "GENERATED TEXT (Temperature): HAMBURG, Germany, June 3  As he left the soccer field after a club match in the eastern German city of Halle on March 25, the Nigerian forward Adebowale Ogungbure was spit upon, jeered with racial remarks and mocked with monkey noises.The incident sparked a national debate, with many Nigerian supporters condemning the act and others calling for an apology.After the incident,!\n",
            "GENERATED TEXT (Top K): HAMBURG, Germany, June 3  As he left the soccer field after a club match in the eastern German city of Halle on March 25, the Nigerian forward Adebowale Ogungbure was spit upon, jeered with racial remarks and mocked with monkey noises. Two other Ghana nationals was similarly treated at stadium during Brazil night (after having fled across East Asian to escape police attempts), leaving hundreds and at 1!\n",
            "GENERATED TEXT (Beam Search): HAMBURG, Germany, June 3  As he left the soccer field after a club match in the eastern German city of Halle on March 25, the Nigerian forward Adebowale Ogungbure was spit upon, jeered with racial remarks and mocked with monkey noises. Shortly after, his employer at the Fina supermarket in Frankfurt, which he visited twice a week since the attack on the soccer player, began handing!\n",
            "GENERATED TEXT (Nucleus): HAMBURG, Germany, June 3  As he left the soccer field after a club match in the eastern German city of Halle on March 25, the Nigerian forward Adebowale Ogungbure was spit upon, jeered with racial remarks and mocked with monkey noises.The incident took place on April 23 at a soccer match between the Nigerian national team and the local police. As he arrived at the soccer!\n",
            "=======================================\n",
            "REAL TEXT: WASHINGTON, Dec. 23 - The National Security Agency has traced and analyzed large volumes of telephone and Internet communications flowing into and out of the United States as part of the eavesdropping program that President Bush approved after the Sept. 11, 2001, attacks to hunt for evidence of terrorist activity, according to current and former government officials.\n",
            "\n",
            "GENERATED TEXT (Argmax): WASHINGTON, Dec. 23 - The National Security Agency has traced and analyzed large volumes of telephone and Internet communications flowing into and out of the United States as part of the eavesdropping program that President Bush approved after the Sept. 11, 2001, attacks to hunt for evidence of terrorist activity, according to current and former government officials.The NSA's analysis of the communications of more than 1.5 million Americans, including more than 1.5 million Americans who were not!\n",
            "GENERATED TEXT (Temperature): WASHINGTON, Dec. 23 - The National Security Agency has traced and analyzed large volumes of telephone and Internet communications flowing into and out of the United States as part of the eavesdropping program that President Bush approved after the Sept. 11, 2001, attacks to hunt for evidence of terrorist activity, according to current and former government officials.The program, also known as PRISM or PRISM-II, is a multi-million dollar operation that began in 2002 and has!\n",
            "GENERATED TEXT (Top K): WASHINGTON, Dec. 23 - The National Security Agency has traced and analyzed large volumes of telephone and Internet communications flowing into and out of the United States as part of the eavesdropping program that President Bush approved after the Sept. 11, 2001, attacks to hunt for evidence of terrorist activity, according to current and former government officials.....?...the vast electronic streams would potentially trigger widespread data analysis where one person in several million lives - almost 20 % (16 n!\n",
            "GENERATED TEXT (Beam Search): WASHINGTON, Dec. 23 - The National Security Agency has traced and analyzed large volumes of telephone and Internet communications flowing into and out of the United States as part of the eavesdropping program that President Bush approved after the Sept. 11, 2001, attacks to hunt for evidence of terrorist activity, according to current and former government officials.The National Security Agency's use of telephone metadata to help target foreign intelligence targets by conducting targeted surveillance of Americans became public after Congress raised concerns!\n",
            "GENERATED TEXT (Nucleus): WASHINGTON, Dec. 23 - The National Security Agency has traced and analyzed large volumes of telephone and Internet communications flowing into and out of the United States as part of the eavesdropping program that President Bush approved after the Sept. 11, 2001, attacks to hunt for evidence of terrorist activity, according to current and former government officials.The surveillance program began under Bush in 2005, under the supervision of then-U.S. Attorney General Loretta Lynch, who oversaw!\n",
            "=======================================\n",
            "REAL TEXT: IF outsized executive pay has indeed become a source of outrage to American shareholders, then the contest this week between Pfizer Inc.'s investors and its board could prove the most compelling of the year.\n",
            "\n",
            "GENERATED TEXT (Argmax): IF outsized executive pay has indeed become a source of outrage to American shareholders, then the contest this week between Pfizer Inc.'s investors and its board could prove the most compelling of the year.The company's stock has been trading at a record high since the start of the year, and the stock has been trading at a record!\n",
            "GENERATED TEXT (Temperature): IF outsized executive pay has indeed become a source of outrage to American shareholders, then the contest this week between Pfizer Inc.'s investors and its board could prove the most compelling of the year.Related: A New Way to Fight Obesity in the U.S.In a news conference in New York, Pfizer CEO!\n",
            "GENERATED TEXT (Top K): IF outsized executive pay has indeed become a source of outrage to American shareholders, then the contest this week between Pfizer Inc.'s investors and its board could prove the most compelling of the year. The results suggest to prospective big pharmaceutical regulators this issue cannot simply languoat once. (L.) and (MOBO and H&!\n",
            "GENERATED TEXT (Beam Search): IF outsized executive pay has indeed become a source of outrage to American shareholders, then the contest this week between Pfizer Inc.'s investors and its board could prove the most compelling of the year.Fenix Capital (FENIFO). This stock is headed to undervaluation by market-dollars.!\n",
            "GENERATED TEXT (Nucleus): IF outsized executive pay has indeed become a source of outrage to American shareholders, then the contest this week between Pfizer Inc.'s investors and its board could prove the most compelling of the year.FDA has asked Pfizer not to disclose its compensation and costs for two of the last four years, but that doesn't mean its!\n",
            "=======================================\n",
            "REAL TEXT: BY A.J.\n",
            "\n",
            "=======================================\n",
            "REAL TEXT: Spinach has terrorized generations of veggie-phobic kids, and many grownups don't much like it, either.\n",
            "\n",
            "GENERATED TEXT (Argmax): Spinach has terrorized generations of veggie-phobic kids, and many grownups don't much like it, either.\"I think it's a little bit of a shock to see that he's been able to do this,\" said one of the kids!\n",
            "GENERATED TEXT (Temperature): Spinach has terrorized generations of veggie-phobic kids, and many grownups don't much like it, either.And yet some say the \"v\" is not only the word for \"bad,\" but also \"unhealthy,\" and that's what!\n",
            "GENERATED TEXT (Top K): Spinach has terrorized generations of veggie-phobic kids, and many grownups don't much like it, either. (Just like there must always soon (we'd expect the two most frequent threats and accusations directed solely that, one side knows they own it by!\n",
            "GENERATED TEXT (Beam Search): Spinach has terrorized generations of veggie-phobic kids, and many grownups don't much like it, either.\"What do kids say when I tell them that we have a huge veggie plant?\" asked Steve, a third grader at the!\n",
            "GENERATED TEXT (Nucleus): Spinach has terrorized generations of veggie-phobic kids, and many grownups don't much like it, either. Nowadays, they're a staple at many kid's parties.But here's the thing: It seems like kids' favorite food is!\n",
            "=======================================\n",
            "REAL TEXT: All day, every day, Cheryl Bernstein thanks her 16-month-old son.\n",
            "\n",
            "GENERATED TEXT (Argmax): All day, every day, Cheryl Bernstein thanks her 16-month-old son.\"I'm so grateful for the support of my family,\" she said. \"I'm so grateful for the support of my family.!\n",
            "GENERATED TEXT (Temperature): All day, every day, Cheryl Bernstein thanks her 16-month-old son. He's not a very good kid, Cheryl says. He's very smart and I think that's why he's so loved. \"I love!\n",
            "GENERATED TEXT (Top K): All day, every day, Cheryl Bernstein thanks her 16-month-old son. That will take her all four mornings back-slicking while staying in charge2:40 (2nd) (David LeCoultrers!\n",
            "GENERATED TEXT (Beam Search): All day, every day, Cheryl Bernstein thanks her 16-month-old son. She says he hasn't been able to sleep a wink because she knows that sometimes she has trouble being her best self.Bernstein will!\n",
            "GENERATED TEXT (Nucleus): All day, every day, Cheryl Bernstein thanks her 16-month-old son. She is the daughter of John and Ruth Bernstein, the late co-founder of Redbox Systems. It was that time, when the two women!\n",
            "=======================================\n",
            "REAL TEXT: With Police Commissioner Bernard Kerik cracking the whip, the NYPD is suddenly responding to crime faster than it has in several years.\n",
            "\n",
            "GENERATED TEXT (Argmax): With Police Commissioner Bernard Kerik cracking the whip, the NYPD is suddenly responding to crime faster than it has in several years.The NYPD is now responding to a spike in violent crime in New York City, with the number of homicides in the city rising by more!\n",
            "GENERATED TEXT (Temperature): With Police Commissioner Bernard Kerik cracking the whip, the NYPD is suddenly responding to crime faster than it has in several years. It was already one of the highest-profile domestic violence cases of 2016, according to the Baltimore Sun. The case came to light after Kerik!\n",
            "GENERATED TEXT (Top K): With Police Commissioner Bernard Kerik cracking the whip, the NYPD is suddenly responding to crime faster than it has in several years. But cops, including NYPD officer Daniel Strautman was shot at after police confronted one young homeless woman by firing, and in an unrelated attack when!\n",
            "GENERATED TEXT (Beam Search): With Police Commissioner Bernard Kerik cracking the whip, the NYPD is suddenly responding to crime faster than it has in several years. The agency has spent $2 billion of its annual budget to help neighborhoods with street gang violence. More than 10,800 homicides have been committed in!\n",
            "GENERATED TEXT (Nucleus): With Police Commissioner Bernard Kerik cracking the whip, the NYPD is suddenly responding to crime faster than it has in several years. It has recently started releasing crime data for years in advance of any major crimes.Even though it has not been able to record the data!\n",
            "=======================================\n",
            "REAL TEXT: Wednesday, April 19th 1995, 2:35AM Jail inmates flout the city's newest law every day, with no fear of punishment.\n",
            "\n",
            "GENERATED TEXT (Argmax): Wednesday, April 19th 1995, 2:35AM Jail inmates flout the city's newest law every day, with no fear of punishment.The city's new law, which was passed by the city council on April 19th, requires that all inmates who are convicted of a!\n",
            "GENERATED TEXT (Temperature): Wednesday, April 19th 1995, 2:35AM Jail inmates flout the city's newest law every day, with no fear of punishment. After a week of mandatory solitary confinement, a judge sentenced 22 inmates to 35 months in state jail. A federal jury acquitted them of violating federal court!\n",
            "GENERATED TEXT (Top K): Wednesday, April 19th 1995, 2:35AM Jail inmates flout the city's newest law every day, with no fear of punishment. Some work while inmates stay until 11 when in return everyone knows there'd also had its trouble - \"but we never go broke...\" Some were caught!\n",
            "GENERATED TEXT (Beam Search): Wednesday, April 19th 1995, 2:35AM Jail inmates flout the city's newest law every day, with no fear of punishment. Their lives, and their safety, are ruined if they are put down, just like the rest of the general population. And now the city's!\n",
            "GENERATED TEXT (Nucleus): Wednesday, April 19th 1995, 2:35AM Jail inmates flout the city's newest law every day, with no fear of punishment. When you are incarcerated you have no other option than to seek help. Jail guards tell you how to talk to a man to find your voice,!\n",
            "=======================================\n",
            "REAL TEXT: BY GEORGE RUSH AND JOANNA MOLLOY With Kasia Anderson and Suzanne Rozdeba Thursday, August 8th 2002, 7:06AM Did Tatum O'Neal's latest battle with ex-husband John McEnroe put her back on drugs?\n",
            "\n",
            "GENERATED TEXT (Argmax): BY GEORGE RUSH AND JOANNA MOLLOY With Kasia Anderson and Suzanne Rozdeba Thursday, August 8th 2002, 7:06AM Did Tatum O'Neal's latest battle with ex-husband John McEnroe put her back on drugs?Tatum O'Neal's latest battle with ex-husband John McEnroe put her back on drugs?Tatum O!\n",
            "GENERATED TEXT (Temperature): BY GEORGE RUSH AND JOANNA MOLLOY With Kasia Anderson and Suzanne Rozdeba Thursday, August 8th 2002, 7:06AM Did Tatum O'Neal's latest battle with ex-husband John McEnroe put her back on drugs? She may have had something to do with it, but it wasn't the first time.Tatum O'Neal (R-USA!\n",
            "GENERATED TEXT (Top K): BY GEORGE RUSH AND JOANNA MOLLOY With Kasia Anderson and Suzanne Rozdeba Thursday, August 8th 2002, 7:06AM Did Tatum O'Neal's latest battle with ex-husband John McEnroe put her back on drugs? She took it well!\n",
            "GENERATED TEXT (Beam Search): BY GEORGE RUSH AND JOANNA MOLLOY With Kasia Anderson and Suzanne Rozdeba Thursday, August 8th 2002, 7:06AM Did Tatum O'Neal's latest battle with ex-husband John McEnroe put her back on drugs? Then again, maybe. After years of getting a \"Poozy\" haircut, she's even been wearing a T-shirt with the same!\n",
            "GENERATED TEXT (Nucleus): BY GEORGE RUSH AND JOANNA MOLLOY With Kasia Anderson and Suzanne Rozdeba Thursday, August 8th 2002, 7:06AM Did Tatum O'Neal's latest battle with ex-husband John McEnroe put her back on drugs?This was the most embarrassing fight ever seen between Anderson and O'Neal. During an appearance on NBC's \"Celebrity Apprentice,\"!\n",
            "=======================================\n",
            "REAL TEXT: Wednesday, May 18th 2005, 9:59AM Summer is shaping up as extra sweet at Cafe Centro, where the menu Â­features treats like s'mores, chocolate fondue and a unique cocktail called the Cotton Candy Cosmo.\n",
            "\n",
            "GENERATED TEXT (Argmax): Wednesday, May 18th 2005, 9:59AM Summer is shaping up as extra sweet at Cafe Centro, where the menu Â­features treats like s'mores, chocolate fondue and a unique cocktail called the Cotton Candy Cosmo. The menu features a variety of desserts, including a variety of desserts that include a variety of desserts that include a variety of desserts that include a variety!\n",
            "GENERATED TEXT (Temperature): Wednesday, May 18th 2005, 9:59AM Summer is shaping up as extra sweet at Cafe Centro, where the menu Â­features treats like s'mores, chocolate fondue and a unique cocktail called the Cotton Candy Cosmo. Â­­This is one of those times when a good day's worth of food will have you feeling like a normal person.!\n",
            "GENERATED TEXT (Top K): Wednesday, May 18th 2005, 9:59AM Summer is shaping up as extra sweet at Cafe Centro, where the menu Â­features treats like s'mores, chocolate fondue and a unique cocktail called the Cotton Candy Cosmo. ________________.An 1848 English Court (The Royal Canadian Criminal Appals Appear Procedure is) OrderI was sworn into King (!\n",
            "GENERATED TEXT (Beam Search): Wednesday, May 18th 2005, 9:59AM Summer is shaping up as extra sweet at Cafe Centro, where the menu Â­features treats like s'mores, chocolate fondue and a unique cocktail called the Cotton Candy Cosmo.May 17th, 2009, 10:21AMAt The Central and Cafe Café, we take a look back on the past!\n",
            "GENERATED TEXT (Nucleus): Wednesday, May 18th 2005, 9:59AM Summer is shaping up as extra sweet at Cafe Centro, where the menu Â­features treats like s'mores, chocolate fondue and a unique cocktail called the Cotton Candy Cosmo. The cocktail brings with it a different taste than anything I've tried in the past. I am sure it will appeal to you all for a drink!\n",
            "=======================================\n"
          ],
          "name": "stdout"
        }
      ]
    }
  ]
}