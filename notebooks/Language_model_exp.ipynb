{
  "nbformat": 4,
  "nbformat_minor": 0,
  "metadata": {
    "colab": {
      "name": "Language model exp.ipynb",
      "provenance": [],
      "machine_shape": "hm",
      "authorship_tag": "ABX9TyPRJ8FKmPkkN6CEIPW/hK9H",
      "include_colab_link": true
    },
    "kernelspec": {
      "name": "python3",
      "display_name": "Python 3"
    },
    "accelerator": "GPU"
  },
  "cells": [
    {
      "cell_type": "markdown",
      "metadata": {
        "id": "view-in-github",
        "colab_type": "text"
      },
      "source": [
        "<a href=\"https://colab.research.google.com/github/ovbystrova/dpl/blob/master/notebooks/Language_model_exp.ipynb\" target=\"_parent\"><img src=\"https://colab.research.google.com/assets/colab-badge.svg\" alt=\"Open In Colab\"/></a>"
      ]
    },
    {
      "cell_type": "code",
      "metadata": {
        "id": "PjHo3KKeURAN",
        "colab_type": "code",
        "colab": {}
      },
      "source": [
        "%%capture\n",
        "!pip install tokenizers"
      ],
      "execution_count": 0,
      "outputs": []
    },
    {
      "cell_type": "code",
      "metadata": {
        "id": "1nuy2z10RYNB",
        "colab_type": "code",
        "colab": {
          "base_uri": "https://localhost:8080/",
          "height": 118
        },
        "outputId": "79556fb7-3962-43fa-f9d8-5d1984a783db"
      },
      "source": [
        "!git clone https://github.com/ovbystrova/dpl.git\n",
        "import os\n",
        "os.chdir('/content/dpl')"
      ],
      "execution_count": 2,
      "outputs": [
        {
          "output_type": "stream",
          "text": [
            "Cloning into 'dpl'...\n",
            "remote: Enumerating objects: 185, done.\u001b[K\n",
            "remote: Total 185 (delta 0), reused 0 (delta 0), pack-reused 185\u001b[K\n",
            "Receiving objects: 100% (185/185), 228.78 MiB | 27.99 MiB/s, done.\n",
            "Resolving deltas: 100% (101/101), done.\n",
            "Checking out files: 100% (28/28), done.\n"
          ],
          "name": "stdout"
        }
      ]
    },
    {
      "cell_type": "code",
      "metadata": {
        "id": "S8CyjyZ7ed_y",
        "colab_type": "code",
        "outputId": "187a8753-47dd-4f80-e87e-a834499ef257",
        "colab": {
          "base_uri": "https://localhost:8080/",
          "height": 34
        }
      },
      "source": [
        "import numpy as np\n",
        "import pandas as pd\n",
        "import matplotlib.pyplot as plt\n",
        "import re\n",
        "from tqdm import tqdm_notebook\n",
        "\n",
        "import torch\n",
        "import torch.nn as nn\n",
        "import torch.nn.functional as F\n",
        "import torch.optim as optim\n",
        "\n",
        "from torchtext.datasets import WikiText2\n",
        "from torchtext import data\n",
        "\n",
        "device = torch.device(\"cuda\" if torch.cuda.is_available() else \"cpu\")\n",
        "device"
      ],
      "execution_count": 3,
      "outputs": [
        {
          "output_type": "execute_result",
          "data": {
            "text/plain": [
              "device(type='cuda')"
            ]
          },
          "metadata": {
            "tags": []
          },
          "execution_count": 3
        }
      ]
    },
    {
      "cell_type": "code",
      "metadata": {
        "id": "FLY1EKmsRrKY",
        "colab_type": "code",
        "colab": {}
      },
      "source": [
        "from modules.sntpiece_tokenization import make_tokenizer, clean_data, special_tokens"
      ],
      "execution_count": 0,
      "outputs": []
    },
    {
      "cell_type": "code",
      "metadata": {
        "id": "GS0qzYaiepin",
        "colab_type": "code",
        "colab": {}
      },
      "source": [
        "BATCH_SIZE = 64\n",
        "MAX_SEQ_LENGTH = 40"
      ],
      "execution_count": 0,
      "outputs": []
    },
    {
      "cell_type": "markdown",
      "metadata": {
        "id": "n-UXKmriR-qW",
        "colab_type": "text"
      },
      "source": [
        "# Data "
      ]
    },
    {
      "cell_type": "code",
      "metadata": {
        "id": "X2_do8pYej5L",
        "colab_type": "code",
        "colab": {}
      },
      "source": [
        "%%capture\n",
        "!wget https://s3.amazonaws.com/research.metamind.io/wikitext/wikitext-2-v1.zip\n",
        "!unzip 'wikitext-2-v1.zip'"
      ],
      "execution_count": 0,
      "outputs": []
    },
    {
      "cell_type": "code",
      "metadata": {
        "id": "ZuDSqg3-RxHU",
        "colab_type": "code",
        "outputId": "52b5924a-ef76-4a0d-d68e-6af31afac300",
        "colab": {
          "base_uri": "https://localhost:8080/",
          "height": 54
        }
      },
      "source": [
        "tokenizer = make_tokenizer()\n",
        "tokenizer"
      ],
      "execution_count": 8,
      "outputs": [
        {
          "output_type": "execute_result",
          "data": {
            "text/plain": [
              "Tokenizer(vocabulary_size=30000, model=SentencePieceBPE, unk_token=<unk>, replacement=▁, add_prefix_space=True, dropout=None)"
            ]
          },
          "metadata": {
            "tags": []
          },
          "execution_count": 8
        }
      ]
    },
    {
      "cell_type": "code",
      "metadata": {
        "id": "_Slx919iRzWB",
        "colab_type": "code",
        "colab": {}
      },
      "source": [
        "def tokenize(text, tokenizer=tokenizer):\n",
        "    text = clean_data(text)\n",
        "    text = special_tokens(text)\n",
        "    return tokenizer.encode(text).tokens"
      ],
      "execution_count": 0,
      "outputs": []
    },
    {
      "cell_type": "code",
      "metadata": {
        "id": "P4aus7Nxe6Z2",
        "colab_type": "code",
        "colab": {}
      },
      "source": [
        "%%capture\n",
        "TEXT = data.Field(sequential=True, \n",
        "                  include_lengths=False, \n",
        "                  batch_first=True, \n",
        "                  tokenize=tokenize,\n",
        "                  lower=True, \n",
        "                  pad_first=True)\n",
        "\n",
        "train, valid, test = WikiText2.splits(TEXT)\n",
        "\n",
        "TEXT.build_vocab(train, valid, unk_init = torch.Tensor.normal_, vectors='glove.6B.200d')\n",
        "vocab = TEXT.vocab"
      ],
      "execution_count": 0,
      "outputs": []
    },
    {
      "cell_type": "code",
      "metadata": {
        "id": "VLaupR0Kk_8p",
        "colab_type": "code",
        "colab": {
          "base_uri": "https://localhost:8080/",
          "height": 50
        },
        "outputId": "3027008b-f6f0-4705-af86-aba13aeb6ef2"
      },
      "source": [
        "print('Vocab size:', len(TEXT.vocab.itos))\n",
        "TEXT.vocab.itos[:10]"
      ],
      "execution_count": 11,
      "outputs": [
        {
          "output_type": "stream",
          "text": [
            "Vocab size: 22734\n"
          ],
          "name": "stdout"
        },
        {
          "output_type": "execute_result",
          "data": {
            "text/plain": [
              "['<unk>', '<pad>', '▁', '▁the', '<eos>', '<start>', '▁,', '▁of', '▁and', '▁in']"
            ]
          },
          "metadata": {
            "tags": []
          },
          "execution_count": 11
        }
      ]
    },
    {
      "cell_type": "code",
      "metadata": {
        "id": "78lExKS-e_Iq",
        "colab_type": "code",
        "outputId": "b63ec7ea-6a57-4f13-f9a4-001649478f73",
        "colab": {
          "base_uri": "https://localhost:8080/",
          "height": 34
        }
      },
      "source": [
        "train_iterator, valid_iterator, test_iterator = data.BPTTIterator.splits(\n",
        "    (train, valid, test),\n",
        "    batch_size=BATCH_SIZE,\n",
        "    bptt_len=MAX_SEQ_LENGTH,\n",
        "    device=device,\n",
        "    repeat=False, \n",
        "    shuffle=True)\n",
        "\n",
        "b = next(iter(train_iterator)); vars(b).keys()"
      ],
      "execution_count": 12,
      "outputs": [
        {
          "output_type": "execute_result",
          "data": {
            "text/plain": [
              "dict_keys(['batch_size', 'dataset', 'fields', 'text', 'target'])"
            ]
          },
          "metadata": {
            "tags": []
          },
          "execution_count": 12
        }
      ]
    },
    {
      "cell_type": "code",
      "metadata": {
        "id": "jHFXelASDTLN",
        "colab_type": "code",
        "colab": {}
      },
      "source": [
        "# PAD\n",
        "pad_idx = TEXT.vocab.stoi['<pad>']\n",
        "pad_vec = TEXT.vocab.vectors[1]"
      ],
      "execution_count": 0,
      "outputs": []
    },
    {
      "cell_type": "markdown",
      "metadata": {
        "id": "JoKtvgBQSCOp",
        "colab_type": "text"
      },
      "source": [
        "# Model"
      ]
    },
    {
      "cell_type": "code",
      "metadata": {
        "id": "mtoM5FgUe_l_",
        "colab_type": "code",
        "colab": {}
      },
      "source": [
        "class MyModel(nn.Module):\n",
        "    \n",
        "    def __init__(self, vocab_size, embed_size, hidden_size):\n",
        "        super(MyModel, self).__init__()\n",
        "        self.embedding = nn.Embedding(vocab_size, embed_size)\n",
        "        \n",
        "        self.rnn = nn.LSTM(input_size=embed_size,\n",
        "                           hidden_size=hidden_size,\n",
        "                           bidirectional=True,\n",
        "                           batch_first=True,\n",
        "                          )\n",
        "        \n",
        "        self.fc = nn.Linear(hidden_size * 2, vocab_size)\n",
        "        self.fc2 = nn.Linear(vocab_size, embed_size)\n",
        "        \n",
        "        self.init_weights()\n",
        "        \n",
        "    def init_weights(self):\n",
        "        nn.init.uniform_(self.embedding.weight)\n",
        "        nn.init.xavier_uniform_(self.fc.weight)\n",
        "        nn.init.zeros_(self.fc.bias)\n",
        "        \n",
        "    def forward(self, batch):\n",
        "        \n",
        "        x = batch.text.T if hasattr(batch, 'text') else batch\n",
        "        \n",
        "        x = self.embedding(x)           \n",
        "        x, _ = self.rnn(x)  # (bs,sq,hs)\n",
        "        x = self.fc(x)  # (bs,sq,vocab_size)\n",
        "        x = F.softmax(x, dim=-1)  # (bs,sq,vocab_size)\n",
        "        x = self.fc2(x)  # (bs,sq,embed_size)\n",
        "        return x"
      ],
      "execution_count": 0,
      "outputs": []
    },
    {
      "cell_type": "code",
      "metadata": {
        "id": "prs2C-xnfRkC",
        "colab_type": "code",
        "colab": {}
      },
      "source": [
        "model = MyModel(vocab_size=len(TEXT.vocab.itos),\n",
        "                embed_size=200,\n",
        "                hidden_size=128,\n",
        "               )\n",
        "model.to(device)\n",
        "model.embedding.weight.data.copy_(TEXT.vocab.vectors);\n",
        "\n",
        "optimizer = optim.Adam(model.parameters())\n",
        "scheduler = optim.lr_scheduler.CosineAnnealingLR(optimizer, T_max=5)\n",
        "\n",
        "criterion = nn.CrossEntropyLoss(ignore_index=1)\n",
        "cosine = nn.CosineSimilarity(dim=-1)\n",
        "mse = nn.MSELoss()\n",
        "embed_y = nn.Embedding(len(TEXT.vocab.itos), 200).to(device)  \n",
        "embed_y.weight.data.copy_(TEXT.vocab.vectors);"
      ],
      "execution_count": 0,
      "outputs": []
    },
    {
      "cell_type": "code",
      "metadata": {
        "id": "QlyTIlNuNWp1",
        "colab_type": "code",
        "outputId": "e1a20ff4-1d2e-483c-bb0d-25cf5f181e30",
        "colab": {
          "base_uri": "https://localhost:8080/",
          "height": 286
        }
      },
      "source": [
        "embed_y.weight.data, model.embedding.weight.data"
      ],
      "execution_count": 16,
      "outputs": [
        {
          "output_type": "execute_result",
          "data": {
            "text/plain": [
              "(tensor([[ 3.0568,  0.5324,  0.5345,  ...,  0.9580, -2.3471, -0.8556],\n",
              "         [ 0.7384,  2.5978,  0.7651,  ..., -1.1332, -0.6784,  0.7710],\n",
              "         [-1.2101,  0.7566, -0.1192,  ..., -0.0474,  0.1571, -0.9504],\n",
              "         ...,\n",
              "         [ 0.9455,  1.1042, -1.0881,  ..., -0.7559, -1.0561, -1.2703],\n",
              "         [ 0.3659,  0.6635,  0.2631,  ...,  0.1843,  0.2070, -0.4724],\n",
              "         [-0.3153, -0.4700,  0.1212,  ...,  1.4813,  0.4461,  0.7010]],\n",
              "        device='cuda:0'),\n",
              " tensor([[ 3.0568,  0.5324,  0.5345,  ...,  0.9580, -2.3471, -0.8556],\n",
              "         [ 0.7384,  2.5978,  0.7651,  ..., -1.1332, -0.6784,  0.7710],\n",
              "         [-1.2101,  0.7566, -0.1192,  ..., -0.0474,  0.1571, -0.9504],\n",
              "         ...,\n",
              "         [ 0.9455,  1.1042, -1.0881,  ..., -0.7559, -1.0561, -1.2703],\n",
              "         [ 0.3659,  0.6635,  0.2631,  ...,  0.1843,  0.2070, -0.4724],\n",
              "         [-0.3153, -0.4700,  0.1212,  ...,  1.4813,  0.4461,  0.7010]],\n",
              "        device='cuda:0'))"
            ]
          },
          "metadata": {
            "tags": []
          },
          "execution_count": 16
        }
      ]
    },
    {
      "cell_type": "markdown",
      "metadata": {
        "id": "axZWyJXmzQZz",
        "colab_type": "text"
      },
      "source": [
        "# Training"
      ]
    },
    {
      "cell_type": "code",
      "metadata": {
        "id": "ICWrOB7cfCt4",
        "colab_type": "code",
        "colab": {}
      },
      "source": [
        "def _train_epoch(model, iterator, optimizer, criterion, curr_epoch):\n",
        "\n",
        "    model.train()\n",
        "\n",
        "    running_loss = 0\n",
        "    losses = []\n",
        "    cosines = []\n",
        "\n",
        "    n_batches = len(iterator)\n",
        "    # iterator = tqdm_notebook(iterator, total=n_batches, desc='epoch %d' % (curr_epoch), leave=True)\n",
        "\n",
        "    for i, batch in enumerate(iterator):\n",
        "        optimizer.zero_grad()\n",
        "\n",
        "        pred = model(batch)\n",
        "        y_emb = embed_y(batch.target.T)\n",
        "\n",
        "        loss = mse(pred, y_emb)\n",
        "        losses.append(loss.item())\n",
        "        loss.backward()\n",
        "\n",
        "        cosine_batch = (1- torch.mean(torch.mean(cosine(pred, y_emb)), dim=-1)).item()\n",
        "        cosines.append(cosine_batch)\n",
        "        \n",
        "        optimizer.step()\n",
        "\n",
        "        curr_loss = loss.data.cpu().detach().item()\n",
        "        \n",
        "        loss_smoothing = i / (i+1)\n",
        "        running_loss = loss_smoothing * running_loss + (1 - loss_smoothing) * curr_loss\n",
        "\n",
        "        # iterator.set_postfix(loss='%.5f' % running_loss, cosine='%.5f' % cosine_batch)\n",
        "\n",
        "    return running_loss, losses, cosines"
      ],
      "execution_count": 0,
      "outputs": []
    },
    {
      "cell_type": "code",
      "metadata": {
        "id": "qNOjL339fI6o",
        "colab_type": "code",
        "colab": {}
      },
      "source": [
        "def _test_epoch(model, iterator, criterion):\n",
        "    model.eval()\n",
        "    epoch_loss = 0\n",
        "    losses = []\n",
        "    cosines = []\n",
        "\n",
        "    n_batches = len(iterator)\n",
        "    with torch.no_grad():\n",
        "        for batch in iterator:\n",
        "            pred = model(batch)\n",
        "            y_emb = embed_y(batch.target.T)\n",
        "            loss = mse(pred, y_emb)\n",
        "            losses.append(loss.item())\n",
        "            epoch_loss += loss.data.item()\n",
        "\n",
        "            cosine_batch = (1- torch.mean(torch.mean(cosine(pred, y_emb)), dim=-1)).item()\n",
        "            cosines.append(cosine_batch)\n",
        "\n",
        "    return epoch_loss / n_batches, losses, cosines"
      ],
      "execution_count": 0,
      "outputs": []
    },
    {
      "cell_type": "code",
      "metadata": {
        "id": "__fgefsAfMAy",
        "colab_type": "code",
        "colab": {}
      },
      "source": [
        "def nn_train(model, train_iterator, valid_iterator, criterion, optimizer, n_epochs=100,\n",
        "          scheduler=None, early_stopping=0):\n",
        "\n",
        "    model = model.to(device)\n",
        "    criterion = criterion.to(device)\n",
        "    \n",
        "    prev_loss = 100500\n",
        "    es_epochs = 0\n",
        "    best_epoch = None\n",
        "    history = pd.DataFrame()\n",
        "\n",
        "    train_losses = []\n",
        "    valid_losses = []\n",
        "    train_cosines = []\n",
        "    valid_cosines = []\n",
        "\n",
        "    for epoch in range(n_epochs):\n",
        "        train_loss, epoch_tl, epoch_tcosines = _train_epoch(model, train_iterator, optimizer, criterion, epoch)\n",
        "        valid_loss,  epoch_vl, epoch_vcosines = _test_epoch(model, valid_iterator, criterion)\n",
        "        \n",
        "        train_losses.extend(epoch_tl)\n",
        "        valid_losses.extend(epoch_vl)\n",
        "        train_cosines.extend(epoch_tcosines)\n",
        "        valid_cosines.extend(epoch_vcosines)\n",
        "\n",
        "        print('validation loss %.5f' % valid_loss)\n",
        "\n",
        "        record = {'epoch': epoch, 'train_loss': train_loss, 'valid_loss': valid_loss}\n",
        "        history = history.append(record, ignore_index=True)\n",
        "\n",
        "        if early_stopping > 0:\n",
        "            if valid_loss > prev_loss:\n",
        "                es_epochs += 1\n",
        "            else:\n",
        "                es_epochs = 0\n",
        "\n",
        "            if es_epochs >= early_stopping:\n",
        "                best_epoch = history[history.valid_loss == history.valid_loss.min()].iloc[0]\n",
        "                print('Early stopping! best epoch: %d val %.5f' % (best_epoch['epoch'], best_epoch['valid_loss']))\n",
        "                break\n",
        "\n",
        "            prev_loss = min(prev_loss, valid_loss)\n",
        "    return history, train_losses, valid_losses, train_cosines, valid_cosines"
      ],
      "execution_count": 0,
      "outputs": []
    },
    {
      "cell_type": "code",
      "metadata": {
        "id": "D7xV-odmvGTs",
        "colab_type": "code",
        "outputId": "f8df0a0e-9bc0-43b6-adbe-f56889d830ad",
        "colab": {
          "base_uri": "https://localhost:8080/",
          "height": 101
        }
      },
      "source": [
        "for el in train_iterator:\n",
        "    x = el.text\n",
        "    y = el.target.T\n",
        "    print(x.size(), y.size())\n",
        "    pred = model(el)\n",
        "    y_emb = embed_y(y)\n",
        "    loss_mse = mse(pred, y_emb)\n",
        "    print('mse', loss_mse)\n",
        "    loss_cosine = cosine(pred, y_emb)\n",
        "    print('cosine', loss_cosine.size())\n",
        "\n",
        "    mean_cosine  = torch.mean(loss_cosine, dim=-1)\n",
        "    mean_mean_cosine = torch.mean(mean_cosine)\n",
        "    print(mean_cosine.size(), mean_mean_cosine.size())\n",
        "    print(1-mean_mean_cosine)\n",
        "    break"
      ],
      "execution_count": 20,
      "outputs": [
        {
          "output_type": "stream",
          "text": [
            "torch.Size([40, 64]) torch.Size([64, 40])\n",
            "mse tensor(0.9678, device='cuda:0', grad_fn=<MeanBackward0>)\n",
            "cosine torch.Size([64, 40])\n",
            "torch.Size([64]) torch.Size([])\n",
            "tensor(0.9936, device='cuda:0', grad_fn=<RsubBackward1>)\n"
          ],
          "name": "stdout"
        }
      ]
    },
    {
      "cell_type": "code",
      "metadata": {
        "id": "xEBeT_lffUMZ",
        "colab_type": "code",
        "colab": {
          "base_uri": "https://localhost:8080/",
          "height": 706
        },
        "outputId": "57874203-6f4c-4171-fd13-22c1701d541d"
      },
      "source": [
        "history, train_losses, valid_losses, train_cosines, valid_cosines = nn_train(model, train_iterator, valid_iterator, criterion, optimizer, scheduler=scheduler, \n",
        "        n_epochs=50, early_stopping=2)"
      ],
      "execution_count": 21,
      "outputs": [
        {
          "output_type": "stream",
          "text": [
            "validation loss 0.66484\n",
            "validation loss 0.61326\n",
            "validation loss 0.60708\n",
            "validation loss 0.59953\n",
            "validation loss 0.57326\n",
            "validation loss 0.55054\n",
            "validation loss 0.54621\n",
            "validation loss 0.53878\n",
            "validation loss 0.52611\n",
            "validation loss 0.51726\n",
            "validation loss 0.51272\n",
            "validation loss 0.50932\n",
            "validation loss 0.50829\n",
            "validation loss 0.50752\n",
            "validation loss 0.50706\n",
            "validation loss 0.50677\n",
            "validation loss 0.50652\n",
            "validation loss 0.50638\n",
            "validation loss 0.50649\n",
            "validation loss 0.50495\n",
            "validation loss 0.50275\n",
            "validation loss 0.50243\n",
            "validation loss 0.49832\n",
            "validation loss 0.49631\n",
            "validation loss 0.49535\n",
            "validation loss 0.49410\n",
            "validation loss 0.49295\n",
            "validation loss 0.49219\n",
            "validation loss 0.48974\n",
            "validation loss 0.48289\n",
            "validation loss 0.47777\n",
            "validation loss 0.47653\n",
            "validation loss 0.47596\n",
            "validation loss 0.47555\n",
            "validation loss 0.47545\n",
            "validation loss 0.47524\n",
            "validation loss 0.47511\n",
            "validation loss 0.47507\n",
            "validation loss 0.47514\n",
            "validation loss 0.47544\n",
            "Early stopping! best epoch: 37 val 0.47507\n"
          ],
          "name": "stdout"
        }
      ]
    },
    {
      "cell_type": "code",
      "metadata": {
        "id": "T-LMCmQcevvJ",
        "colab_type": "code",
        "colab": {}
      },
      "source": [
        "torch.save(model.state_dict(), '/content/language_model')"
      ],
      "execution_count": 0,
      "outputs": []
    },
    {
      "cell_type": "code",
      "metadata": {
        "id": "8-YrrU0VfgtA",
        "colab_type": "code",
        "outputId": "fe5f7cd8-fa02-499c-ba8a-8e676bf9fd03",
        "colab": {
          "base_uri": "https://localhost:8080/",
          "height": 393
        }
      },
      "source": [
        "# Loss by epoch\n",
        "plt.figure(figsize=(10,6))\n",
        "plt.plot(np.arange(len(history['train_loss'])), history['train_loss'], label='Train')\n",
        "plt.plot(np.arange(len(history['valid_loss'])), history['valid_loss'], label='Valid')\n",
        "plt.xlabel('Epochs', fontsize=15)\n",
        "plt.ylabel('Loss', fontsize=15)\n",
        "plt.legend(fontsize='x-large')\n",
        "plt.show()"
      ],
      "execution_count": 23,
      "outputs": [
        {
          "output_type": "display_data",
          "data": {
            "image/png": "[encoded data removed]",
            "text/plain": [
              "<Figure size 720x432 with 1 Axes>"
            ]
          },
          "metadata": {
            "tags": [],
            "needs_background": "light"
          }
        }
      ]
    },
    {
      "cell_type": "code",
      "metadata": {
        "id": "Pn86JYZDfiyt",
        "colab_type": "code",
        "outputId": "a4973969-2700-4f39-ce70-5893805a7321",
        "colab": {
          "base_uri": "https://localhost:8080/",
          "height": 409
        }
      },
      "source": [
        "# Loss by iteration\n",
        "new_val = [el for el in valid_losses for i in range(10)]\n",
        "plt.figure(figsize=(10,6))\n",
        "plt.plot(new_val, label='Validation loss')\n",
        "plt.plot(train_losses, label='Training loss')\n",
        "plt.ylabel('Loss', fontsize=15)\n",
        "plt.xlabel('№ of Iteration', fontsize=15)\n",
        "plt.title('Train and validation loss depending on the number of iterations of gradient decent.', fontsize=13)\n",
        "plt.legend(fontsize='x-large', shadow=True)\n",
        "plt.show()"
      ],
      "execution_count": 24,
      "outputs": [
        {
          "output_type": "display_data",
          "data": {
            "image/png": "[encoded data removed]",
            "text/plain": [
              "<Figure size 720x432 with 1 Axes>"
            ]
          },
          "metadata": {
            "tags": [],
            "needs_background": "light"
          }
        }
      ]
    },
    {
      "cell_type": "code",
      "metadata": {
        "id": "ztWpBxKhkrsV",
        "colab_type": "code",
        "outputId": "cb4bdbd8-26dd-4466-fca8-b6b24cab158b",
        "colab": {
          "base_uri": "https://localhost:8080/",
          "height": 286
        }
      },
      "source": [
        "embed_y.weight.data, model.embedding.weight.data"
      ],
      "execution_count": 25,
      "outputs": [
        {
          "output_type": "execute_result",
          "data": {
            "text/plain": [
              "(tensor([[ 3.0568,  0.5324,  0.5345,  ...,  0.9580, -2.3471, -0.8556],\n",
              "         [ 0.7384,  2.5978,  0.7651,  ..., -1.1332, -0.6784,  0.7710],\n",
              "         [-1.2101,  0.7566, -0.1192,  ..., -0.0474,  0.1571, -0.9504],\n",
              "         ...,\n",
              "         [ 0.9455,  1.1042, -1.0881,  ..., -0.7559, -1.0561, -1.2703],\n",
              "         [ 0.3659,  0.6635,  0.2631,  ...,  0.1843,  0.2070, -0.4724],\n",
              "         [-0.3153, -0.4700,  0.1212,  ...,  1.4813,  0.4461,  0.7010]],\n",
              "        device='cuda:0'),\n",
              " tensor([[ 2.2789,  0.3433,  0.3739,  ...,  0.7692, -1.9724, -0.6518],\n",
              "         [ 0.2965,  2.6320,  0.5940,  ..., -0.7412, -0.4479,  0.7221],\n",
              "         [-0.9162,  0.5814, -0.0398,  ...,  0.0409,  0.0341, -0.5065],\n",
              "         ...,\n",
              "         [ 0.9684,  1.2801, -1.0479,  ..., -0.7708, -1.1880, -1.2993],\n",
              "         [ 0.4129,  0.6676,  0.2293,  ...,  0.0840,  0.1725, -0.4951],\n",
              "         [-0.3734, -0.3613,  0.0863,  ...,  1.4798,  0.6182,  0.8118]],\n",
              "        device='cuda:0'))"
            ]
          },
          "metadata": {
            "tags": []
          },
          "execution_count": 25
        }
      ]
    },
    {
      "cell_type": "code",
      "metadata": {
        "id": "3vrRb6-cLoxI",
        "colab_type": "code",
        "outputId": "2191c117-a84e-4487-9f80-630f79d59325",
        "colab": {
          "base_uri": "https://localhost:8080/",
          "height": 409
        }
      },
      "source": [
        "# 1-Cosine by iteration\n",
        "new_cos = [el for el in valid_cosines for i in range(10)]\n",
        "plt.figure(figsize=(10,6))\n",
        "plt.plot(new_cos, label='Validation cosine')\n",
        "plt.plot(train_cosines, label='Training cosine')\n",
        "plt.ylabel('1-cosine', fontsize=15)\n",
        "plt.xlabel('№ of Iteration', fontsize=15)\n",
        "plt.title('Train and validation cosine sim depending on the number of iterations of gradient decent.', fontsize=13)\n",
        "plt.legend(fontsize='x-large', shadow=True)\n",
        "plt.show()"
      ],
      "execution_count": 26,
      "outputs": [
        {
          "output_type": "display_data",
          "data": {
            "image/png": "[encoded data removed]",
            "text/plain": [
              "<Figure size 720x432 with 1 Axes>"
            ]
          },
          "metadata": {
            "tags": [],
            "needs_background": "light"
          }
        }
      ]
    },
    {
      "cell_type": "code",
      "metadata": {
        "id": "3wzNyTUIyEXM",
        "colab_type": "code",
        "colab": {
          "base_uri": "https://localhost:8080/",
          "height": 34
        },
        "outputId": "1c58d621-f3e1-44ab-addc-fcfba30abada"
      },
      "source": [
        "test_loss, epoch_test, epoch_tcosines = _test_epoch(model, test_iterator, mse)\n",
        "test_loss"
      ],
      "execution_count": 53,
      "outputs": [
        {
          "output_type": "execute_result",
          "data": {
            "text/plain": [
              "0.46747628798087437"
            ]
          },
          "metadata": {
            "tags": []
          },
          "execution_count": 53
        }
      ]
    },
    {
      "cell_type": "markdown",
      "metadata": {
        "id": "CsBTmTkhx7rN",
        "colab_type": "text"
      },
      "source": [
        "# just some stuff"
      ]
    },
    {
      "cell_type": "code",
      "metadata": {
        "id": "gvM_RCjqNLDH",
        "colab_type": "code",
        "outputId": "cebbbfab-3285-4c6f-e3ae-a9afdb750ab7",
        "colab": {
          "base_uri": "https://localhost:8080/",
          "height": 474
        }
      },
      "source": [
        "texts = [\n",
        "         '<start>',\n",
        "         'Test test test test test test test',\n",
        "         '<eos>',\n",
        "         'What is love',\n",
        "         '▁', \n",
        "         'A ▁very ▁very ▁long ▁text',\n",
        "         \"And even longer text with ▁ symbol in the end ▁\",\n",
        "         'Who is',\n",
        "         'It was a very sunny',\n",
        "         'love is a', \n",
        "         'love is',\n",
        "         'Homarus gammarus, known as the European', #lobster\n",
        "         'russia is'\n",
        "         ''\n",
        "]\n",
        "\n",
        "def predict(model, text, vocab, cosine=cosine, tokenize=tokenize):\n",
        "    '''\n",
        "    Finds the most similar token from vocab based on cosine sim\n",
        "\n",
        "    text: input text (str)\n",
        "    vocab: nn.Embedding layer of embed_y (vocab_size, embed_dim)\n",
        "\n",
        "    '''\n",
        "\n",
        "    tokenized = tokenize(text)\n",
        "    ids = [TEXT.vocab.stoi[token] for token in tokenized]\n",
        "    x = torch.tensor(ids).unsqueeze(0).to(device)\n",
        "    with torch.no_grad():\n",
        "        pred = model(x)\n",
        "        cosines = cosine(pred[:,-1,:], vocab.weight.data)\n",
        "        cosine_sim = torch.max(cosines).item()\n",
        "        next_token_id = torch.argmax(cosines)\n",
        "        next_token = TEXT.vocab.itos[next_token_id]\n",
        "        # print(next_token)\n",
        "        print(text + ' PREDICTION: ' + next_token + ' SCORE: ' + str(cosine_sim))\n",
        "        print()\n",
        "        next_token += ' '\n",
        "    return text + ' ' + next_token[1:]\n",
        "for text in texts:\n",
        "    predict(model, text, embed_y)"
      ],
      "execution_count": 48,
      "outputs": [
        {
          "output_type": "stream",
          "text": [
            "<start> PREDICTION: ▁ SCORE: 0.9999924898147583\n",
            "\n",
            "Test test test test test test test PREDICTION: ▁, SCORE: 0.8348450064659119\n",
            "\n",
            "<eos> PREDICTION: <start> SCORE: 0.9999954700469971\n",
            "\n",
            "What is love PREDICTION: ▁\" SCORE: 0.9310120940208435\n",
            "\n",
            "▁ PREDICTION: <eos> SCORE: 0.9999990463256836\n",
            "\n",
            "A ▁very ▁very ▁long ▁text PREDICTION: ▁on SCORE: 0.5553016066551208\n",
            "\n",
            "And even longer text with ▁ symbol in the end ▁ PREDICTION: <unk> SCORE: 0.8982264995574951\n",
            "\n",
            "Who is PREDICTION: ▁a SCORE: 0.8570911288261414\n",
            "\n",
            "It was a very sunny PREDICTION: ▁and SCORE: 0.6508579850196838\n",
            "\n",
            "love is a PREDICTION: ▁ SCORE: 0.6303699016571045\n",
            "\n",
            "love is PREDICTION: ▁a SCORE: 0.8783660531044006\n",
            "\n",
            "Homarus gammarus, known as the European PREDICTION: ▁, SCORE: 0.4945244789123535\n",
            "\n",
            "russia is PREDICTION: ▁a SCORE: 0.8731896281242371\n",
            "\n"
          ],
          "name": "stdout"
        }
      ]
    }
  ]
}