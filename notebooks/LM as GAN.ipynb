{
 "cells": [
  {
   "cell_type": "code",
   "execution_count": 1,
   "metadata": {},
   "outputs": [],
   "source": [
    "import os\n",
    "os.chdir('..')"
   ]
  },
  {
   "cell_type": "code",
   "execution_count": 2,
   "metadata": {},
   "outputs": [],
   "source": [
    "from models.instructor_LM import LMInstructor"
   ]
  },
  {
   "cell_type": "code",
   "execution_count": 3,
   "metadata": {},
   "outputs": [],
   "source": [
    "instructor = LMInstructor()"
   ]
  },
  {
   "cell_type": "code",
   "execution_count": 4,
   "metadata": {},
   "outputs": [
    {
     "data": {
      "text/plain": [
       "(40376, 40376)"
      ]
     },
     "execution_count": 4,
     "metadata": {},
     "output_type": "execute_result"
    }
   ],
   "source": [
    "len(instructor.word2idx_dict), len(instructor.idx2word_dict)"
   ]
  },
  {
   "cell_type": "code",
   "execution_count": 5,
   "metadata": {},
   "outputs": [
    {
     "data": {
      "text/plain": [
       "(LSTMGenerator(\n",
       "   (embeddings): Embedding(40376, 200, padding_idx=0)\n",
       "   (lstm): LSTM(200, 128, batch_first=True)\n",
       "   (lstm2out): Linear(in_features=128, out_features=40376, bias=True)\n",
       "   (softmax): LogSoftmax()\n",
       " ),\n",
       " CNNDiscriminator(\n",
       "   (embeddings): Embedding(40376, 5, padding_idx=0)\n",
       "   (convs): ModuleList(\n",
       "     (0): Conv2d(1, 100, kernel_size=(2, 5), stride=(1, 1))\n",
       "     (1): Conv2d(1, 100, kernel_size=(3, 5), stride=(1, 1))\n",
       "   )\n",
       "   (highway): Linear(in_features=200, out_features=200, bias=True)\n",
       "   (feature2out): Linear(in_features=200, out_features=2, bias=True)\n",
       "   (dropout): Dropout(p=0.2, inplace=False)\n",
       " ))"
      ]
     },
     "execution_count": 5,
     "metadata": {},
     "output_type": "execute_result"
    }
   ],
   "source": [
    "instructor.gen, instructor.dis"
   ]
  },
  {
   "cell_type": "code",
   "execution_count": 6,
   "metadata": {},
   "outputs": [
    {
     "name": "stdout",
     "output_type": "stream",
     "text": [
      "torch.Size([64, 50])\n",
      "torch.Size([64, 1, 50, 5])\n",
      "torch.Size([64, 1, 1, 50, 5])\n",
      "torch.Size([64, 50])\n",
      "torch.Size([64, 1, 50, 5])\n",
      "torch.Size([64, 1, 1, 50, 5])\n"
     ]
    },
    {
     "data": {
      "text/plain": [
       "0.6928346157073975"
      ]
     },
     "execution_count": 6,
     "metadata": {},
     "output_type": "execute_result"
    }
   ],
   "source": [
    "instructor.adv_train_generator(1)"
   ]
  },
  {
   "cell_type": "code",
   "execution_count": 7,
   "metadata": {},
   "outputs": [
    {
     "name": "stdout",
     "output_type": "stream",
     "text": [
      "torch.Size([64, 50])\n",
      "torch.Size([64, 1, 50, 5])\n",
      "torch.Size([64, 1, 1, 50, 5])\n",
      "torch.Size([64, 50])\n",
      "torch.Size([64, 1, 50, 5])\n",
      "torch.Size([64, 1, 1, 50, 5])\n"
     ]
    },
    {
     "data": {
      "text/plain": [
       "0.6931904554367065"
      ]
     },
     "execution_count": 7,
     "metadata": {},
     "output_type": "execute_result"
    }
   ],
   "source": [
    "instructor.adv_train_discriminator(1)"
   ]
  },
  {
   "cell_type": "code",
   "execution_count": null,
   "metadata": {},
   "outputs": [
    {
     "name": "stdout",
     "output_type": "stream",
     "text": [
      "Starting GENERATOR MLE TRAINING\n"
     ]
    }
   ],
   "source": [
    "instructor._run()"
   ]
  },
  {
   "cell_type": "code",
   "execution_count": null,
   "metadata": {},
   "outputs": [],
   "source": []
  }
 ],
 "metadata": {
  "kernelspec": {
   "display_name": "Python 3",
   "language": "python",
   "name": "python3"
  }
 },
 "nbformat": 4,
 "nbformat_minor": 4
}
