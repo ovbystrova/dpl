{
  "nbformat": 4,
  "nbformat_minor": 0,
  "metadata": {
    "colab": {
      "name": "Data.ipynb",
      "provenance": [],
      "machine_shape": "hm",
      "authorship_tag": "ABX9TyMri0tP/oGkrJAogDOiKstx",
      "include_colab_link": true
    },
    "kernelspec": {
      "name": "python3",
      "display_name": "Python 3"
    },
    "accelerator": "GPU"
  },
  "cells": [
    {
      "cell_type": "markdown",
      "metadata": {
        "id": "view-in-github",
        "colab_type": "text"
      },
      "source": [
        "<a href=\"https://colab.research.google.com/github/ovbystrova/dpl/blob/master/notebooks/Data.ipynb\" target=\"_parent\"><img src=\"https://colab.research.google.com/assets/colab-badge.svg\" alt=\"Open In Colab\"/></a>"
      ]
    },
    {
      "cell_type": "code",
      "metadata": {
        "id": "DUqXlAYiNT_C",
        "colab_type": "code",
        "outputId": "d1de64b0-f064-4014-f30e-1092717c0e8f",
        "colab": {
          "base_uri": "https://localhost:8080/",
          "height": 67
        }
      },
      "source": [
        "import numpy as np\n",
        "import pandas as pd\n",
        "from sklearn.utils import shuffle\n",
        "from collections import Counter\n",
        "import pickle\n",
        "\n",
        "\n",
        "import warnings\n",
        "warnings.filterwarnings('ignore')\n",
        "\n",
        "import nltk\n",
        "from nltk import tokenize\n",
        "nltk.download('punkt')"
      ],
      "execution_count": 1,
      "outputs": [
        {
          "output_type": "stream",
          "text": [
            "[nltk_data] Downloading package punkt to /root/nltk_data...\n",
            "[nltk_data]   Unzipping tokenizers/punkt.zip.\n"
          ],
          "name": "stdout"
        },
        {
          "output_type": "execute_result",
          "data": {
            "text/plain": [
              "True"
            ]
          },
          "metadata": {
            "tags": []
          },
          "execution_count": 1
        }
      ]
    },
    {
      "cell_type": "code",
      "metadata": {
        "id": "63dk63Hyqq5D",
        "colab_type": "code",
        "colab": {}
      },
      "source": [
        "# TODO Прогнать когда будет 250к каждого типа, записать статистику. "
      ],
      "execution_count": 0,
      "outputs": []
    },
    {
      "cell_type": "code",
      "metadata": {
        "id": "NGEpGhELN9BR",
        "colab_type": "code",
        "outputId": "8d4b78e8-36f9-4075-aadb-9ba897a2f376",
        "colab": {
          "base_uri": "https://localhost:8080/",
          "height": 34
        }
      },
      "source": [
        "from google.colab import drive\n",
        "drive.mount('/content/drive')"
      ],
      "execution_count": 3,
      "outputs": [
        {
          "output_type": "stream",
          "text": [
            "Drive already mounted at /content/drive; to attempt to forcibly remount, call drive.mount(\"/content/drive\", force_remount=True).\n"
          ],
          "name": "stdout"
        }
      ]
    },
    {
      "cell_type": "code",
      "metadata": {
        "id": "iOQRxz-u-2-J",
        "colab_type": "code",
        "colab": {}
      },
      "source": [
        "df = pd.read_csv('/content/drive/My Drive/dpl_dataset.csv')\n",
        "fakes = df[df['label']=='fake']\n",
        "reals = df[df['label']=='real']\n",
        "\n",
        "reals.reset_index(drop=True, inplace=True)"
      ],
      "execution_count": 0,
      "outputs": []
    },
    {
      "cell_type": "code",
      "metadata": {
        "id": "LzC9yTL1oLz8",
        "colab_type": "code",
        "colab": {
          "base_uri": "https://localhost:8080/",
          "height": 118
        },
        "outputId": "b00b53ec-7123-4cc9-c14b-da32ab5cbb75"
      },
      "source": [
        "df['sampling'].value_counts()"
      ],
      "execution_count": 7,
      "outputs": [
        {
          "output_type": "execute_result",
          "data": {
            "text/plain": [
              "No sampling    440000\n",
              "temperature    120000\n",
              "argmax         110000\n",
              "top_k          110000\n",
              "nucleus        100000\n",
              "Name: sampling, dtype: int64"
            ]
          },
          "metadata": {
            "tags": []
          },
          "execution_count": 7
        }
      ]
    },
    {
      "cell_type": "markdown",
      "metadata": {
        "id": "LlNDB2wiMiY7",
        "colab_type": "text"
      },
      "source": [
        "# Sentence Length "
      ]
    },
    {
      "cell_type": "code",
      "metadata": {
        "id": "YT87YHSd7fHg",
        "colab_type": "code",
        "outputId": "7700c7b8-e9ac-4529-ba41-974ffb3113d8",
        "colab": {
          "base_uri": "https://localhost:8080/",
          "height": 34
        }
      },
      "source": [
        "# drop all that is less than 2 sentences\n",
        "ids_fdrop = [ind  for ind, el in enumerate(list(fakes['text'])) if len(tokenize.sent_tokenize(el))<2]\n",
        "ids_rdrop = [ind  for ind, el in  enumerate(list(reals['text'])) if len(tokenize.sent_tokenize(el))<2]\n",
        "ids_drop = list(set(ids_fdrop + ids_rdrop))\n",
        "len(ids_drop)"
      ],
      "execution_count": 8,
      "outputs": [
        {
          "output_type": "execute_result",
          "data": {
            "text/plain": [
              "9031"
            ]
          },
          "metadata": {
            "tags": []
          },
          "execution_count": 8
        }
      ]
    },
    {
      "cell_type": "code",
      "metadata": {
        "id": "WX7hJCH-DpvV",
        "colab_type": "code",
        "outputId": "9bb5367a-3917-4405-8cfe-59728c1aa9e4",
        "colab": {
          "base_uri": "https://localhost:8080/",
          "height": 34
        }
      },
      "source": [
        "len(ids_fdrop), len(ids_rdrop)"
      ],
      "execution_count": 9,
      "outputs": [
        {
          "output_type": "execute_result",
          "data": {
            "text/plain": [
              "(9027, 5)"
            ]
          },
          "metadata": {
            "tags": []
          },
          "execution_count": 9
        }
      ]
    },
    {
      "cell_type": "code",
      "metadata": {
        "id": "LmIwJdmU_8VE",
        "colab_type": "code",
        "colab": {}
      },
      "source": [
        "fakes.drop(np.array(ids_drop), inplace=True)\n",
        "reals.drop(np.array(ids_drop), inplace=True)\n",
        "fakes.reset_index(drop=True, inplace=True)\n",
        "reals.reset_index(drop=True, inplace=True)"
      ],
      "execution_count": 0,
      "outputs": []
    },
    {
      "cell_type": "code",
      "metadata": {
        "id": "VnST59o18IId",
        "colab_type": "code",
        "outputId": "e2e41f26-88cc-4375-fe17-3fccbc045e45",
        "colab": {
          "base_uri": "https://localhost:8080/",
          "height": 34
        }
      },
      "source": [
        "fakes.shape, reals.shape"
      ],
      "execution_count": 11,
      "outputs": [
        {
          "output_type": "execute_result",
          "data": {
            "text/plain": [
              "((430969, 3), (430969, 3))"
            ]
          },
          "metadata": {
            "tags": []
          },
          "execution_count": 11
        }
      ]
    },
    {
      "cell_type": "code",
      "metadata": {
        "id": "f47XzWkkCsHp",
        "colab_type": "code",
        "outputId": "4591d465-b741-49ea-c412-8b53144f92bb",
        "colab": {
          "base_uri": "https://localhost:8080/",
          "height": 218
        }
      },
      "source": [
        "fakes.head(), reals.head()"
      ],
      "execution_count": 12,
      "outputs": [
        {
          "output_type": "execute_result",
          "data": {
            "text/plain": [
              "(                                                text label     sampling\n",
              " 0  HAMBURG, Germany, June 3  As he left the socc...  fake  temperature\n",
              " 1  WASHINGTON, Dec. 23 - The National Security Ag...  fake  temperature\n",
              " 2  IF outsized executive pay has indeed become a ...  fake  temperature\n",
              " 3  BY A.J. Miller, Jr.  The three men will make t...  fake  temperature\n",
              " 4  Spinach has terrorized generations of veggie-p...  fake  temperature,\n",
              "                                                 text label     sampling\n",
              " 0  HAMBURG, Germany, June 3  As he left the socc...  real  No sampling\n",
              " 1  WASHINGTON, Dec. 23 - The National Security Ag...  real  No sampling\n",
              " 2  IF outsized executive pay has indeed become a ...  real  No sampling\n",
              " 3  BY A.J. BENZA & MICHAEL LEWITTES If Simon Rex ...  real  No sampling\n",
              " 4  Spinach has terrorized generations of veggie-p...  real  No sampling)"
            ]
          },
          "metadata": {
            "tags": []
          },
          "execution_count": 12
        }
      ]
    },
    {
      "cell_type": "code",
      "metadata": {
        "id": "3hBNfUOXCvn0",
        "colab_type": "code",
        "outputId": "1fc4fe87-4a84-4505-9f7e-02b428545f8c",
        "colab": {
          "base_uri": "https://localhost:8080/",
          "height": 218
        }
      },
      "source": [
        "fakes.tail(), reals.tail()"
      ],
      "execution_count": 13,
      "outputs": [
        {
          "output_type": "execute_result",
          "data": {
            "text/plain": [
              "(                                                     text label     sampling\n",
              " 430964  A Brooklyn teacher who was arrested in 2011 on...  fake  temperature\n",
              " 430965  A baby-faced Bronx teenager was executed on th...  fake  temperature\n",
              " 430966  Published: Friday, May 22, 2015, 7:07 AM Updat...  fake  temperature\n",
              " 430967  Authorities believe more than one person is re...  fake  temperature\n",
              " 430968  The Yankees are going down, and no part of the...  fake  temperature,\n",
              "                                                      text label     sampling\n",
              " 430964  A Brooklyn teacher who was arrested in 2011 on...  real  No sampling\n",
              " 430965  A baby-faced Bronx teenager was executed on th...  real  No sampling\n",
              " 430966  Published: Friday, May 22, 2015, 7:07 AM Updat...  real  No sampling\n",
              " 430967  Authorities believe more than one person is re...  real  No sampling\n",
              " 430968  The Yankees are going down, and no part of the...  real  No sampling)"
            ]
          },
          "metadata": {
            "tags": []
          },
          "execution_count": 13
        }
      ]
    },
    {
      "cell_type": "code",
      "metadata": {
        "id": "3raeCt_VHMYv",
        "colab_type": "code",
        "colab": {}
      },
      "source": [
        "# save only first two sentences\n",
        "\n",
        "fakes['text'] = fakes['text'].apply(lambda x: ' '.join(tokenize.sent_tokenize(x)[:2]))\n",
        "reals['text'] = reals['text'].apply(lambda x: ' '.join(tokenize.sent_tokenize(x)[:2]))"
      ],
      "execution_count": 0,
      "outputs": []
    },
    {
      "cell_type": "code",
      "metadata": {
        "id": "puj2WpIZM3Xp",
        "colab_type": "code",
        "outputId": "30660f81-67b8-4acf-dfa6-45029741b311",
        "colab": {
          "base_uri": "https://localhost:8080/",
          "height": 34
        }
      },
      "source": [
        "ids_fdrop = [ind  for ind, el in enumerate(list(fakes['text'])) if len(tokenize.sent_tokenize(el))>2]\n",
        "ids_rdrop = [ind  for ind, el in  enumerate(list(reals['text'])) if len(tokenize.sent_tokenize(el))>2]\n",
        "ids_drop = list(set(ids_fdrop + ids_rdrop))\n",
        "len(ids_drop)"
      ],
      "execution_count": 16,
      "outputs": [
        {
          "output_type": "execute_result",
          "data": {
            "text/plain": [
              "1600"
            ]
          },
          "metadata": {
            "tags": []
          },
          "execution_count": 16
        }
      ]
    },
    {
      "cell_type": "code",
      "metadata": {
        "id": "B-S03UA7OGDm",
        "colab_type": "code",
        "colab": {}
      },
      "source": [
        "fakes.drop(np.array(ids_drop), inplace=True)\n",
        "reals.drop(np.array(ids_drop), inplace=True)\n",
        "fakes.reset_index(drop=True, inplace=True)\n",
        "reals.reset_index(drop=True, inplace=True)"
      ],
      "execution_count": 0,
      "outputs": []
    },
    {
      "cell_type": "code",
      "metadata": {
        "id": "r7ZVwIbnOJf_",
        "colab_type": "code",
        "outputId": "7903231f-df4a-4d55-c778-4b2e3dd2764a",
        "colab": {
          "base_uri": "https://localhost:8080/",
          "height": 218
        }
      },
      "source": [
        "fakes.head(), reals.head()"
      ],
      "execution_count": 18,
      "outputs": [
        {
          "output_type": "execute_result",
          "data": {
            "text/plain": [
              "(                                                text label     sampling\n",
              " 0  HAMBURG, Germany, June 3  As he left the socc...  fake  temperature\n",
              " 1  WASHINGTON, Dec. 23 - The National Security Ag...  fake  temperature\n",
              " 2  IF outsized executive pay has indeed become a ...  fake  temperature\n",
              " 3                                BY A.J. Miller, Jr.  fake  temperature\n",
              " 4  Spinach has terrorized generations of veggie-p...  fake  temperature,\n",
              "                                                 text label     sampling\n",
              " 0  HAMBURG, Germany, June 3  As he left the socc...  real  No sampling\n",
              " 1  WASHINGTON, Dec. 23 - The National Security Ag...  real  No sampling\n",
              " 2  IF outsized executive pay has indeed become a ...  real  No sampling\n",
              " 3  BY A.J. BENZA & MICHAEL LEWITTES If Simon Rex ...  real  No sampling\n",
              " 4  Spinach has terrorized generations of veggie-p...  real  No sampling)"
            ]
          },
          "metadata": {
            "tags": []
          },
          "execution_count": 18
        }
      ]
    },
    {
      "cell_type": "code",
      "metadata": {
        "id": "MwzmJdMZOKmk",
        "colab_type": "code",
        "outputId": "401df01f-d196-40af-8af8-595164281ea0",
        "colab": {
          "base_uri": "https://localhost:8080/",
          "height": 218
        }
      },
      "source": [
        "fakes.tail(), reals.tail()"
      ],
      "execution_count": 19,
      "outputs": [
        {
          "output_type": "execute_result",
          "data": {
            "text/plain": [
              "(                                                     text label     sampling\n",
              " 429364  A Brooklyn teacher who was arrested in 2011 on...  fake  temperature\n",
              " 429365  A baby-faced Bronx teenager was executed on th...  fake  temperature\n",
              " 429366  Published: Friday, May 22, 2015, 7:07 AM Updat...  fake  temperature\n",
              " 429367  Authorities believe more than one person is re...  fake  temperature\n",
              " 429368  The Yankees are going down, and no part of the...  fake  temperature,\n",
              "                                                      text label     sampling\n",
              " 429364  A Brooklyn teacher who was arrested in 2011 on...  real  No sampling\n",
              " 429365  A baby-faced Bronx teenager was executed on th...  real  No sampling\n",
              " 429366  Published: Friday, May 22, 2015, 7:07 AM Updat...  real  No sampling\n",
              " 429367  Authorities believe more than one person is re...  real  No sampling\n",
              " 429368  The Yankees are going down, and no part of the...  real  No sampling)"
            ]
          },
          "metadata": {
            "tags": []
          },
          "execution_count": 19
        }
      ]
    },
    {
      "cell_type": "code",
      "metadata": {
        "id": "vUbjcDMsJuuL",
        "colab_type": "code",
        "outputId": "186d2166-758b-4891-c97a-d33262560dad",
        "colab": {
          "base_uri": "https://localhost:8080/",
          "height": 34
        }
      },
      "source": [
        "f = 0\n",
        "for el in list(fakes['text']):\n",
        "    if len(tokenize.sent_tokenize(el)) > 2:\n",
        "        f +=1\n",
        "r =0\n",
        "for el in list(reals['text']):\n",
        "    if len(tokenize.sent_tokenize(el)) > 2:\n",
        "        r +=1\n",
        "f, r"
      ],
      "execution_count": 20,
      "outputs": [
        {
          "output_type": "execute_result",
          "data": {
            "text/plain": [
              "(0, 0)"
            ]
          },
          "metadata": {
            "tags": []
          },
          "execution_count": 20
        }
      ]
    },
    {
      "cell_type": "markdown",
      "metadata": {
        "id": "tHGJcltvQiYX",
        "colab_type": "text"
      },
      "source": [
        "# Drop duplicates"
      ]
    },
    {
      "cell_type": "code",
      "metadata": {
        "id": "TAKBV-UumDwl",
        "colab_type": "code",
        "outputId": "a64c432c-7cc5-4154-cd7d-7953b5af3b3d",
        "colab": {
          "base_uri": "https://localhost:8080/",
          "height": 185
        }
      },
      "source": [
        "fakes.describe(), reals.describe()"
      ],
      "execution_count": 21,
      "outputs": [
        {
          "output_type": "execute_result",
          "data": {
            "text/plain": [
              "(                                                     text   label     sampling\n",
              " count                                              429369  429369       429369\n",
              " unique                                             427727       1            4\n",
              " top     This post has been corrected. The following is...    fake  temperature\n",
              " freq                                                   98  429369       118001,\n",
              "                                                      text   label     sampling\n",
              " count                                              429369  429369       429369\n",
              " unique                                             408063       1            1\n",
              " top     This post is in partnership with Time. The art...    real  No sampling\n",
              " freq                                                  139  429369       429369)"
            ]
          },
          "metadata": {
            "tags": []
          },
          "execution_count": 21
        }
      ]
    },
    {
      "cell_type": "code",
      "metadata": {
        "id": "rsfc6MjvmHJY",
        "colab_type": "code",
        "outputId": "c7a5f5f8-f0c8-4d78-d20e-34a359d2edad",
        "colab": {
          "base_uri": "https://localhost:8080/",
          "height": 34
        }
      },
      "source": [
        "fakes.shape, reals.shape"
      ],
      "execution_count": 22,
      "outputs": [
        {
          "output_type": "execute_result",
          "data": {
            "text/plain": [
              "((429369, 3), (429369, 3))"
            ]
          },
          "metadata": {
            "tags": []
          },
          "execution_count": 22
        }
      ]
    },
    {
      "cell_type": "code",
      "metadata": {
        "id": "4BvjrOsRoUTx",
        "colab_type": "code",
        "colab": {}
      },
      "source": [
        "fakes_clean = fakes.drop_duplicates(inplace=False)\n",
        "reals_clean = reals.drop_duplicates(inplace=False)"
      ],
      "execution_count": 0,
      "outputs": []
    },
    {
      "cell_type": "code",
      "metadata": {
        "id": "-V7DiGzloULN",
        "colab_type": "code",
        "outputId": "6220f614-1c40-464a-e429-ac6972af52a7",
        "colab": {
          "base_uri": "https://localhost:8080/",
          "height": 34
        }
      },
      "source": [
        "fakes_clean.shape, fakes.shape, reals_clean.shape, reals.shape"
      ],
      "execution_count": 24,
      "outputs": [
        {
          "output_type": "execute_result",
          "data": {
            "text/plain": [
              "((427855, 3), (429369, 3), (408063, 3), (429369, 3))"
            ]
          },
          "metadata": {
            "tags": []
          },
          "execution_count": 24
        }
      ]
    },
    {
      "cell_type": "code",
      "metadata": {
        "id": "LhAO7xVmoT-d",
        "colab_type": "code",
        "outputId": "c8cc315f-b61c-4419-92d2-488eb769f7d1",
        "colab": {
          "base_uri": "https://localhost:8080/",
          "height": 34
        }
      },
      "source": [
        "ids_fdrop = [ind for ind in fakes.index if ind not in fakes_clean.index]\n",
        "ids_rdrop = [ind for ind in reals.index if ind not in reals_clean.index]\n",
        "ids_drop = list(set(ids_fdrop + ids_rdrop))\n",
        "len(ids_drop)"
      ],
      "execution_count": 25,
      "outputs": [
        {
          "output_type": "execute_result",
          "data": {
            "text/plain": [
              "22117"
            ]
          },
          "metadata": {
            "tags": []
          },
          "execution_count": 25
        }
      ]
    },
    {
      "cell_type": "code",
      "metadata": {
        "id": "kE3owCL4rFBT",
        "colab_type": "code",
        "colab": {}
      },
      "source": [
        "fakes.drop(np.array(ids_drop), inplace=True)\n",
        "reals.drop(np.array(ids_drop), inplace=True)\n",
        "fakes.reset_index(drop=True, inplace=True)\n",
        "reals.reset_index(drop=True, inplace=True)"
      ],
      "execution_count": 0,
      "outputs": []
    },
    {
      "cell_type": "code",
      "metadata": {
        "id": "rOI3Wpk1rHSt",
        "colab_type": "code",
        "outputId": "9b78a21d-4115-4e50-d73d-e2fcba3d4ae1",
        "colab": {
          "base_uri": "https://localhost:8080/",
          "height": 218
        }
      },
      "source": [
        "fakes.head(), reals.head()"
      ],
      "execution_count": 27,
      "outputs": [
        {
          "output_type": "execute_result",
          "data": {
            "text/plain": [
              "(                                                text label     sampling\n",
              " 0  HAMBURG, Germany, June 3  As he left the socc...  fake  temperature\n",
              " 1  WASHINGTON, Dec. 23 - The National Security Ag...  fake  temperature\n",
              " 2  IF outsized executive pay has indeed become a ...  fake  temperature\n",
              " 3                                BY A.J. Miller, Jr.  fake  temperature\n",
              " 4  Spinach has terrorized generations of veggie-p...  fake  temperature,\n",
              "                                                 text label     sampling\n",
              " 0  HAMBURG, Germany, June 3  As he left the socc...  real  No sampling\n",
              " 1  WASHINGTON, Dec. 23 - The National Security Ag...  real  No sampling\n",
              " 2  IF outsized executive pay has indeed become a ...  real  No sampling\n",
              " 3  BY A.J. BENZA & MICHAEL LEWITTES If Simon Rex ...  real  No sampling\n",
              " 4  Spinach has terrorized generations of veggie-p...  real  No sampling)"
            ]
          },
          "metadata": {
            "tags": []
          },
          "execution_count": 27
        }
      ]
    },
    {
      "cell_type": "code",
      "metadata": {
        "id": "BK0O2p0vrLyw",
        "colab_type": "code",
        "outputId": "827caff4-6f51-45cd-c50c-6d41d81b6958",
        "colab": {
          "base_uri": "https://localhost:8080/",
          "height": 218
        }
      },
      "source": [
        "fakes.tail(), reals.tail()"
      ],
      "execution_count": 28,
      "outputs": [
        {
          "output_type": "execute_result",
          "data": {
            "text/plain": [
              "(                                                     text label     sampling\n",
              " 407247  A Brooklyn teacher who was arrested in 2011 on...  fake  temperature\n",
              " 407248  A baby-faced Bronx teenager was executed on th...  fake  temperature\n",
              " 407249  Published: Friday, May 22, 2015, 7:07 AM Updat...  fake  temperature\n",
              " 407250  Authorities believe more than one person is re...  fake  temperature\n",
              " 407251  The Yankees are going down, and no part of the...  fake  temperature,\n",
              "                                                      text label     sampling\n",
              " 407247  A Brooklyn teacher who was arrested in 2011 on...  real  No sampling\n",
              " 407248  A baby-faced Bronx teenager was executed on th...  real  No sampling\n",
              " 407249  Published: Friday, May 22, 2015, 7:07 AM Updat...  real  No sampling\n",
              " 407250  Authorities believe more than one person is re...  real  No sampling\n",
              " 407251  The Yankees are going down, and no part of the...  real  No sampling)"
            ]
          },
          "metadata": {
            "tags": []
          },
          "execution_count": 28
        }
      ]
    },
    {
      "cell_type": "code",
      "metadata": {
        "id": "RcI4t70RrX_V",
        "colab_type": "code",
        "outputId": "9533fe29-5c83-4b45-873d-117777219e8e",
        "colab": {
          "base_uri": "https://localhost:8080/",
          "height": 166
        }
      },
      "source": [
        "fakes.describe()"
      ],
      "execution_count": 29,
      "outputs": [
        {
          "output_type": "execute_result",
          "data": {
            "text/html": [
              "<div>\n",
              "<style scoped>\n",
              "    .dataframe tbody tr th:only-of-type {\n",
              "        vertical-align: middle;\n",
              "    }\n",
              "\n",
              "    .dataframe tbody tr th {\n",
              "        vertical-align: top;\n",
              "    }\n",
              "\n",
              "    .dataframe thead th {\n",
              "        text-align: right;\n",
              "    }\n",
              "</style>\n",
              "<table border=\"1\" class=\"dataframe\">\n",
              "  <thead>\n",
              "    <tr style=\"text-align: right;\">\n",
              "      <th></th>\n",
              "      <th>text</th>\n",
              "      <th>label</th>\n",
              "      <th>sampling</th>\n",
              "    </tr>\n",
              "  </thead>\n",
              "  <tbody>\n",
              "    <tr>\n",
              "      <th>count</th>\n",
              "      <td>407252</td>\n",
              "      <td>407252</td>\n",
              "      <td>407252</td>\n",
              "    </tr>\n",
              "    <tr>\n",
              "      <th>unique</th>\n",
              "      <td>407247</td>\n",
              "      <td>1</td>\n",
              "      <td>4</td>\n",
              "    </tr>\n",
              "    <tr>\n",
              "      <th>top</th>\n",
              "      <td>Former President George H.W. Bush.</td>\n",
              "      <td>fake</td>\n",
              "      <td>temperature</td>\n",
              "    </tr>\n",
              "    <tr>\n",
              "      <th>freq</th>\n",
              "      <td>2</td>\n",
              "      <td>407252</td>\n",
              "      <td>108273</td>\n",
              "    </tr>\n",
              "  </tbody>\n",
              "</table>\n",
              "</div>"
            ],
            "text/plain": [
              "                                      text   label     sampling\n",
              "count                               407252  407252       407252\n",
              "unique                              407247       1            4\n",
              "top     Former President George H.W. Bush.    fake  temperature\n",
              "freq                                     2  407252       108273"
            ]
          },
          "metadata": {
            "tags": []
          },
          "execution_count": 29
        }
      ]
    },
    {
      "cell_type": "code",
      "metadata": {
        "id": "GUS_cQkhrfTM",
        "colab_type": "code",
        "outputId": "2e0c175c-d914-4120-9210-6a5cc2b41242",
        "colab": {
          "base_uri": "https://localhost:8080/",
          "height": 166
        }
      },
      "source": [
        "reals.describe()"
      ],
      "execution_count": 30,
      "outputs": [
        {
          "output_type": "execute_result",
          "data": {
            "text/html": [
              "<div>\n",
              "<style scoped>\n",
              "    .dataframe tbody tr th:only-of-type {\n",
              "        vertical-align: middle;\n",
              "    }\n",
              "\n",
              "    .dataframe tbody tr th {\n",
              "        vertical-align: top;\n",
              "    }\n",
              "\n",
              "    .dataframe thead th {\n",
              "        text-align: right;\n",
              "    }\n",
              "</style>\n",
              "<table border=\"1\" class=\"dataframe\">\n",
              "  <thead>\n",
              "    <tr style=\"text-align: right;\">\n",
              "      <th></th>\n",
              "      <th>text</th>\n",
              "      <th>label</th>\n",
              "      <th>sampling</th>\n",
              "    </tr>\n",
              "  </thead>\n",
              "  <tbody>\n",
              "    <tr>\n",
              "      <th>count</th>\n",
              "      <td>407252</td>\n",
              "      <td>407252</td>\n",
              "      <td>407252</td>\n",
              "    </tr>\n",
              "    <tr>\n",
              "      <th>unique</th>\n",
              "      <td>407252</td>\n",
              "      <td>1</td>\n",
              "      <td>1</td>\n",
              "    </tr>\n",
              "    <tr>\n",
              "      <th>top</th>\n",
              "      <td>Drugs shouldn't be approved by the Food and Dr...</td>\n",
              "      <td>real</td>\n",
              "      <td>No sampling</td>\n",
              "    </tr>\n",
              "    <tr>\n",
              "      <th>freq</th>\n",
              "      <td>1</td>\n",
              "      <td>407252</td>\n",
              "      <td>407252</td>\n",
              "    </tr>\n",
              "  </tbody>\n",
              "</table>\n",
              "</div>"
            ],
            "text/plain": [
              "                                                     text   label     sampling\n",
              "count                                              407252  407252       407252\n",
              "unique                                             407252       1            1\n",
              "top     Drugs shouldn't be approved by the Food and Dr...    real  No sampling\n",
              "freq                                                    1  407252       407252"
            ]
          },
          "metadata": {
            "tags": []
          },
          "execution_count": 30
        }
      ]
    },
    {
      "cell_type": "markdown",
      "metadata": {
        "id": "r7stqwLzUnT6",
        "colab_type": "text"
      },
      "source": [
        "# Counter"
      ]
    },
    {
      "cell_type": "code",
      "metadata": {
        "id": "hr8miT2kUtpj",
        "colab_type": "code",
        "colab": {}
      },
      "source": [
        "fakes_tokens = fakes['text'].apply(lambda x: x.split(' '))\n",
        "reals_tokens = reals['text'].apply(lambda x: x.split(' '))\n",
        "\n",
        "fake_split = Counter(x for xs in fakes_tokens for x in set(xs))\n",
        "real_split = Counter(x for xs in reals_tokens for x in set(xs))"
      ],
      "execution_count": 0,
      "outputs": []
    },
    {
      "cell_type": "code",
      "metadata": {
        "id": "RKHZV8FBVIus",
        "colab_type": "code",
        "outputId": "24b1c061-9801-45b0-a24d-2df20f5a2b8a",
        "colab": {
          "base_uri": "https://localhost:8080/",
          "height": 689
        }
      },
      "source": [
        "fake_split.most_common(20), real_split.most_common(20)"
      ],
      "execution_count": 0,
      "outputs": [
        {
          "output_type": "execute_result",
          "data": {
            "text/plain": [
              "([('the', 306126),\n",
              "  ('a', 255427),\n",
              "  ('of', 237154),\n",
              "  ('to', 233236),\n",
              "  ('in', 215643),\n",
              "  ('and', 204753),\n",
              "  ('The', 147617),\n",
              "  ('on', 130350),\n",
              "  ('for', 129045),\n",
              "  ('is', 127671),\n",
              "  ('that', 120385),\n",
              "  ('with', 92565),\n",
              "  ('at', 88895),\n",
              "  ('was', 87584),\n",
              "  ('has', 82455),\n",
              "  ('by', 70808),\n",
              "  ('from', 69187),\n",
              "  ('as', 68488),\n",
              "  ('an', 63704),\n",
              "  ('be', 59258)],\n",
              " [('the', 317340),\n",
              "  ('a', 255371),\n",
              "  ('of', 248451),\n",
              "  ('to', 238233),\n",
              "  ('and', 224050),\n",
              "  ('in', 223469),\n",
              "  ('on', 137224),\n",
              "  ('for', 129814),\n",
              "  ('is', 116204),\n",
              "  ('that', 114687),\n",
              "  ('The', 111141),\n",
              "  ('with', 94572),\n",
              "  ('at', 88548),\n",
              "  ('has', 76575),\n",
              "  ('was', 76050),\n",
              "  ('from', 72375),\n",
              "  ('as', 70519),\n",
              "  ('by', 67636),\n",
              "  ('an', 65433),\n",
              "  ('his', 59783)])"
            ]
          },
          "metadata": {
            "tags": []
          },
          "execution_count": 29
        }
      ]
    },
    {
      "cell_type": "markdown",
      "metadata": {
        "id": "KS33XPehLjJy",
        "colab_type": "text"
      },
      "source": [
        "# Save samplings datasets"
      ]
    },
    {
      "cell_type": "code",
      "metadata": {
        "id": "-t_9zaS4OC_b",
        "colab_type": "code",
        "outputId": "de7d66d0-6b39-4511-e1fe-8adf42ca42d7",
        "colab": {
          "base_uri": "https://localhost:8080/",
          "height": 84
        }
      },
      "source": [
        "samplings = fakes['sampling'].unique()\n",
        "\n",
        "for sampling in samplings:\n",
        "    \n",
        "    fake_sampl = fakes[fakes['sampling']==sampling]\n",
        "    real_sampl = reals.iloc[fake_sampl.index]\n",
        "    assert real_sampl.shape == fake_sampl.shape, 'Different lenths of real and fake samplings'\n",
        "\n",
        "    df_sampl = pd.concat([fake_sampl, real_sampl], axis=0)\n",
        "    df_sampl = shuffle(df_sampl)\n",
        "    df_sampl.reset_index(drop=True, inplace=True)\n",
        "    \n",
        "    df_sampl.to_csv('/content/drive/My Drive/data/sampling_same_{}.csv'.format(sampling), index=False)\n",
        "    print('{} texts for {} sampling type were saved in sampling_same_{}.csv'.format(df_sampl.shape[0], sampling, sampling))"
      ],
      "execution_count": 32,
      "outputs": [
        {
          "output_type": "stream",
          "text": [
            "216546 texts for temperature sampling type were saved in sampling_same_temperature.csv\n",
            "204466 texts for top_k sampling type were saved in sampling_same_top_k.csv\n",
            "186806 texts for nucleus sampling type were saved in sampling_same_nucleus.csv\n",
            "206686 texts for argmax sampling type were saved in sampling_same_argmax.csv\n"
          ],
          "name": "stdout"
        }
      ]
    },
    {
      "cell_type": "markdown",
      "metadata": {
        "id": "exm1oThbaqr2",
        "colab_type": "text"
      },
      "source": [
        "# Shuffle and save"
      ]
    },
    {
      "cell_type": "code",
      "metadata": {
        "id": "jm26Iedn0CtR",
        "colab_type": "code",
        "colab": {}
      },
      "source": [
        "df = pd.concat([fakes, reals], axis=0)\n",
        "df.reset_index(drop=True, inplace=True)"
      ],
      "execution_count": 0,
      "outputs": []
    },
    {
      "cell_type": "code",
      "metadata": {
        "id": "UNUODZnPasc5",
        "colab_type": "code",
        "outputId": "8d328b71-8991-4887-87cb-983b5878d6ce",
        "colab": {
          "base_uri": "https://localhost:8080/",
          "height": 195
        }
      },
      "source": [
        "df.head()"
      ],
      "execution_count": 0,
      "outputs": [
        {
          "output_type": "execute_result",
          "data": {
            "text/html": [
              "<div>\n",
              "<style scoped>\n",
              "    .dataframe tbody tr th:only-of-type {\n",
              "        vertical-align: middle;\n",
              "    }\n",
              "\n",
              "    .dataframe tbody tr th {\n",
              "        vertical-align: top;\n",
              "    }\n",
              "\n",
              "    .dataframe thead th {\n",
              "        text-align: right;\n",
              "    }\n",
              "</style>\n",
              "<table border=\"1\" class=\"dataframe\">\n",
              "  <thead>\n",
              "    <tr style=\"text-align: right;\">\n",
              "      <th></th>\n",
              "      <th>text</th>\n",
              "      <th>label</th>\n",
              "      <th>sampling</th>\n",
              "    </tr>\n",
              "  </thead>\n",
              "  <tbody>\n",
              "    <tr>\n",
              "      <th>0</th>\n",
              "      <td>HAMBURG, Germany, June 3  As he left the socc...</td>\n",
              "      <td>fake</td>\n",
              "      <td>temperature</td>\n",
              "    </tr>\n",
              "    <tr>\n",
              "      <th>1</th>\n",
              "      <td>WASHINGTON, Dec. 23 - The National Security Ag...</td>\n",
              "      <td>fake</td>\n",
              "      <td>temperature</td>\n",
              "    </tr>\n",
              "    <tr>\n",
              "      <th>2</th>\n",
              "      <td>IF outsized executive pay has indeed become a ...</td>\n",
              "      <td>fake</td>\n",
              "      <td>temperature</td>\n",
              "    </tr>\n",
              "    <tr>\n",
              "      <th>3</th>\n",
              "      <td>BY A.J. Miller, Jr.</td>\n",
              "      <td>fake</td>\n",
              "      <td>temperature</td>\n",
              "    </tr>\n",
              "    <tr>\n",
              "      <th>4</th>\n",
              "      <td>Spinach has terrorized generations of veggie-p...</td>\n",
              "      <td>fake</td>\n",
              "      <td>temperature</td>\n",
              "    </tr>\n",
              "  </tbody>\n",
              "</table>\n",
              "</div>"
            ],
            "text/plain": [
              "                                                text label     sampling\n",
              "0  HAMBURG, Germany, June 3  As he left the socc...  fake  temperature\n",
              "1  WASHINGTON, Dec. 23 - The National Security Ag...  fake  temperature\n",
              "2  IF outsized executive pay has indeed become a ...  fake  temperature\n",
              "3                                BY A.J. Miller, Jr.  fake  temperature\n",
              "4  Spinach has terrorized generations of veggie-p...  fake  temperature"
            ]
          },
          "metadata": {
            "tags": []
          },
          "execution_count": 31
        }
      ]
    },
    {
      "cell_type": "code",
      "metadata": {
        "id": "GYNPWod7avOh",
        "colab_type": "code",
        "outputId": "5ec15a57-b7f5-4eb4-d567-4e9fb2c6d876",
        "colab": {
          "base_uri": "https://localhost:8080/",
          "height": 195
        }
      },
      "source": [
        "df.tail()"
      ],
      "execution_count": 0,
      "outputs": [
        {
          "output_type": "execute_result",
          "data": {
            "text/html": [
              "<div>\n",
              "<style scoped>\n",
              "    .dataframe tbody tr th:only-of-type {\n",
              "        vertical-align: middle;\n",
              "    }\n",
              "\n",
              "    .dataframe tbody tr th {\n",
              "        vertical-align: top;\n",
              "    }\n",
              "\n",
              "    .dataframe thead th {\n",
              "        text-align: right;\n",
              "    }\n",
              "</style>\n",
              "<table border=\"1\" class=\"dataframe\">\n",
              "  <thead>\n",
              "    <tr style=\"text-align: right;\">\n",
              "      <th></th>\n",
              "      <th>text</th>\n",
              "      <th>label</th>\n",
              "      <th>sampling</th>\n",
              "    </tr>\n",
              "  </thead>\n",
              "  <tbody>\n",
              "    <tr>\n",
              "      <th>745693</th>\n",
              "      <td>This article is part of BrandSpeak, a program ...</td>\n",
              "      <td>real</td>\n",
              "      <td>No sampling</td>\n",
              "    </tr>\n",
              "    <tr>\n",
              "      <th>745694</th>\n",
              "      <td>Facebook stock shot up more than 4% in early t...</td>\n",
              "      <td>real</td>\n",
              "      <td>No sampling</td>\n",
              "    </tr>\n",
              "    <tr>\n",
              "      <th>745695</th>\n",
              "      <td>At its Windows Phone 8 event in New York City,...</td>\n",
              "      <td>real</td>\n",
              "      <td>No sampling</td>\n",
              "    </tr>\n",
              "    <tr>\n",
              "      <th>745696</th>\n",
              "      <td>Nokia unveiled on Wednesday in New York City t...</td>\n",
              "      <td>real</td>\n",
              "      <td>No sampling</td>\n",
              "    </tr>\n",
              "    <tr>\n",
              "      <th>745697</th>\n",
              "      <td>Grammy-nominated rapper B.o.B is an alien — at...</td>\n",
              "      <td>real</td>\n",
              "      <td>No sampling</td>\n",
              "    </tr>\n",
              "  </tbody>\n",
              "</table>\n",
              "</div>"
            ],
            "text/plain": [
              "                                                     text label     sampling\n",
              "745693  This article is part of BrandSpeak, a program ...  real  No sampling\n",
              "745694  Facebook stock shot up more than 4% in early t...  real  No sampling\n",
              "745695  At its Windows Phone 8 event in New York City,...  real  No sampling\n",
              "745696  Nokia unveiled on Wednesday in New York City t...  real  No sampling\n",
              "745697  Grammy-nominated rapper B.o.B is an alien — at...  real  No sampling"
            ]
          },
          "metadata": {
            "tags": []
          },
          "execution_count": 32
        }
      ]
    },
    {
      "cell_type": "code",
      "metadata": {
        "id": "7F8n-8h6a3vG",
        "colab_type": "code",
        "colab": {}
      },
      "source": [
        "df = shuffle(df)\n",
        "df.reset_index(drop=True, inplace=True)"
      ],
      "execution_count": 0,
      "outputs": []
    },
    {
      "cell_type": "code",
      "metadata": {
        "id": "1IOqdpgVbDeM",
        "colab_type": "code",
        "outputId": "a9e04b02-c5c5-4638-da43-8fdeb1b39dac",
        "colab": {
          "base_uri": "https://localhost:8080/",
          "height": 195
        }
      },
      "source": [
        "df.head()"
      ],
      "execution_count": 0,
      "outputs": [
        {
          "output_type": "execute_result",
          "data": {
            "text/html": [
              "<div>\n",
              "<style scoped>\n",
              "    .dataframe tbody tr th:only-of-type {\n",
              "        vertical-align: middle;\n",
              "    }\n",
              "\n",
              "    .dataframe tbody tr th {\n",
              "        vertical-align: top;\n",
              "    }\n",
              "\n",
              "    .dataframe thead th {\n",
              "        text-align: right;\n",
              "    }\n",
              "</style>\n",
              "<table border=\"1\" class=\"dataframe\">\n",
              "  <thead>\n",
              "    <tr style=\"text-align: right;\">\n",
              "      <th></th>\n",
              "      <th>text</th>\n",
              "      <th>label</th>\n",
              "      <th>sampling</th>\n",
              "    </tr>\n",
              "  </thead>\n",
              "  <tbody>\n",
              "    <tr>\n",
              "      <th>0</th>\n",
              "      <td>agementA Sotheby's employee poses next to a wo...</td>\n",
              "      <td>real</td>\n",
              "      <td>No sampling</td>\n",
              "    </tr>\n",
              "    <tr>\n",
              "      <th>1</th>\n",
              "      <td>Your Post Has Been Launched! Is raising a chil...</td>\n",
              "      <td>real</td>\n",
              "      <td>No sampling</td>\n",
              "    </tr>\n",
              "    <tr>\n",
              "      <th>2</th>\n",
              "      <td>NEW YORK (CNNMoney.com) -- Sometimes the winne...</td>\n",
              "      <td>fake</td>\n",
              "      <td>temperature</td>\n",
              "    </tr>\n",
              "    <tr>\n",
              "      <th>3</th>\n",
              "      <td>A Minnesota family has been in a state of limb...</td>\n",
              "      <td>real</td>\n",
              "      <td>No sampling</td>\n",
              "    </tr>\n",
              "    <tr>\n",
              "      <th>4</th>\n",
              "      <td>(CNN) -- Saudi Arabia named Prince Salman bin ...</td>\n",
              "      <td>real</td>\n",
              "      <td>No sampling</td>\n",
              "    </tr>\n",
              "  </tbody>\n",
              "</table>\n",
              "</div>"
            ],
            "text/plain": [
              "                                                text label     sampling\n",
              "0  agementA Sotheby's employee poses next to a wo...  real  No sampling\n",
              "1  Your Post Has Been Launched! Is raising a chil...  real  No sampling\n",
              "2  NEW YORK (CNNMoney.com) -- Sometimes the winne...  fake  temperature\n",
              "3  A Minnesota family has been in a state of limb...  real  No sampling\n",
              "4  (CNN) -- Saudi Arabia named Prince Salman bin ...  real  No sampling"
            ]
          },
          "metadata": {
            "tags": []
          },
          "execution_count": 34
        }
      ]
    },
    {
      "cell_type": "code",
      "metadata": {
        "id": "FqV2_QKCbEWi",
        "colab_type": "code",
        "outputId": "0d2fd64c-4a1b-4ffc-b6cf-34a9fbc8cc9b",
        "colab": {
          "base_uri": "https://localhost:8080/",
          "height": 195
        }
      },
      "source": [
        "df.tail()"
      ],
      "execution_count": 0,
      "outputs": [
        {
          "output_type": "execute_result",
          "data": {
            "text/html": [
              "<div>\n",
              "<style scoped>\n",
              "    .dataframe tbody tr th:only-of-type {\n",
              "        vertical-align: middle;\n",
              "    }\n",
              "\n",
              "    .dataframe tbody tr th {\n",
              "        vertical-align: top;\n",
              "    }\n",
              "\n",
              "    .dataframe thead th {\n",
              "        text-align: right;\n",
              "    }\n",
              "</style>\n",
              "<table border=\"1\" class=\"dataframe\">\n",
              "  <thead>\n",
              "    <tr style=\"text-align: right;\">\n",
              "      <th></th>\n",
              "      <th>text</th>\n",
              "      <th>label</th>\n",
              "      <th>sampling</th>\n",
              "    </tr>\n",
              "  </thead>\n",
              "  <tbody>\n",
              "    <tr>\n",
              "      <th>745693</th>\n",
              "      <td>Eat, Pray, Love author Elizabeth Gilbert is us...</td>\n",
              "      <td>fake</td>\n",
              "      <td>nucleus</td>\n",
              "    </tr>\n",
              "    <tr>\n",
              "      <th>745694</th>\n",
              "      <td>CHICAGO – Four people have been charged in inv...</td>\n",
              "      <td>real</td>\n",
              "      <td>No sampling</td>\n",
              "    </tr>\n",
              "    <tr>\n",
              "      <th>745695</th>\n",
              "      <td>It took Timothy Hussey nearly a year to reboun...</td>\n",
              "      <td>fake</td>\n",
              "      <td>argmax</td>\n",
              "    </tr>\n",
              "    <tr>\n",
              "      <th>745696</th>\n",
              "      <td>Don Draper in Mad Men. Gordon Gekko in Wall St...</td>\n",
              "      <td>real</td>\n",
              "      <td>No sampling</td>\n",
              "    </tr>\n",
              "    <tr>\n",
              "      <th>745697</th>\n",
              "      <td>Updated OCT 29, 2014 1:56p ET A Premier League...</td>\n",
              "      <td>real</td>\n",
              "      <td>No sampling</td>\n",
              "    </tr>\n",
              "  </tbody>\n",
              "</table>\n",
              "</div>"
            ],
            "text/plain": [
              "                                                     text label     sampling\n",
              "745693  Eat, Pray, Love author Elizabeth Gilbert is us...  fake      nucleus\n",
              "745694  CHICAGO – Four people have been charged in inv...  real  No sampling\n",
              "745695  It took Timothy Hussey nearly a year to reboun...  fake       argmax\n",
              "745696  Don Draper in Mad Men. Gordon Gekko in Wall St...  real  No sampling\n",
              "745697  Updated OCT 29, 2014 1:56p ET A Premier League...  real  No sampling"
            ]
          },
          "metadata": {
            "tags": []
          },
          "execution_count": 35
        }
      ]
    },
    {
      "cell_type": "code",
      "metadata": {
        "id": "kOy0RrV3bMLX",
        "colab_type": "code",
        "colab": {}
      },
      "source": [
        "fake = list(fakes['text'])\n",
        "real = list(reals['text'])\n",
        "\n",
        "df.to_csv('/content/drive/My Drive/data/postpoc_dpl_dataset.csv', index=False)"
      ],
      "execution_count": 0,
      "outputs": []
    },
    {
      "cell_type": "code",
      "metadata": {
        "id": "5_EaYKKI2vj8",
        "colab_type": "code",
        "colab": {}
      },
      "source": [
        "with open('/content/drive/My Drive/data/fake', 'wb') as fp:\n",
        "    pickle.dump(fake, fp)\n",
        "\n",
        "with open('/content/drive/My Drive/data/real', 'wb') as fp:\n",
        "    pickle.dump(real, fp)"
      ],
      "execution_count": 0,
      "outputs": []
    },
    {
      "cell_type": "code",
      "metadata": {
        "id": "Ziyp0CLA2vSP",
        "colab_type": "code",
        "colab": {}
      },
      "source": [
        "# with open ('fake', 'rb') as fp:\n",
        "#     itemlist = pickle.load(fp)"
      ],
      "execution_count": 0,
      "outputs": []
    }
  ]
}