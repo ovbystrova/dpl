{
  "nbformat": 4,
  "nbformat_minor": 0,
  "metadata": {
    "colab": {
      "name": "Data.ipynb",
      "provenance": [],
      "machine_shape": "hm",
      "authorship_tag": "ABX9TyM6sVfCRrwIytkYU6wS9aha",
      "include_colab_link": true
    },
    "kernelspec": {
      "name": "python3",
      "display_name": "Python 3"
    },
    "accelerator": "GPU"
  },
  "cells": [
    {
      "cell_type": "markdown",
      "metadata": {
        "id": "view-in-github",
        "colab_type": "text"
      },
      "source": [
        "<a href=\"https://colab.research.google.com/github/ovbystrova/dpl/blob/master/notebooks/Data.ipynb\" target=\"_parent\"><img src=\"https://colab.research.google.com/assets/colab-badge.svg\" alt=\"Open In Colab\"/></a>"
      ]
    },
    {
      "cell_type": "code",
      "metadata": {
        "id": "DUqXlAYiNT_C",
        "colab_type": "code",
        "outputId": "52b66568-30f8-4682-c1d6-303bae06f5b0",
        "colab": {
          "base_uri": "https://localhost:8080/",
          "height": 67
        }
      },
      "source": [
        "import numpy as np\n",
        "import pandas as pd\n",
        "from sklearn.utils import shuffle\n",
        "from collections import Counter\n",
        "import pickle\n",
        "\n",
        "\n",
        "import warnings\n",
        "warnings.filterwarnings('ignore')\n",
        "\n",
        "import nltk\n",
        "from nltk import tokenize\n",
        "nltk.download('punkt')"
      ],
      "execution_count": 1,
      "outputs": [
        {
          "output_type": "stream",
          "text": [
            "[nltk_data] Downloading package punkt to /root/nltk_data...\n",
            "[nltk_data]   Unzipping tokenizers/punkt.zip.\n"
          ],
          "name": "stdout"
        },
        {
          "output_type": "execute_result",
          "data": {
            "text/plain": [
              "True"
            ]
          },
          "metadata": {
            "tags": []
          },
          "execution_count": 1
        }
      ]
    },
    {
      "cell_type": "code",
      "metadata": {
        "id": "NGEpGhELN9BR",
        "colab_type": "code",
        "colab": {}
      },
      "source": [
        "from google.colab import drive\n",
        "drive.mount('/content/drive')"
      ],
      "execution_count": 0,
      "outputs": []
    },
    {
      "cell_type": "code",
      "metadata": {
        "id": "iOQRxz-u-2-J",
        "colab_type": "code",
        "colab": {}
      },
      "source": [
        "df = pd.read_csv('/content/drive/My Drive/dpl_dataset.csv')\n",
        "fakes = df[df['label']=='fake']\n",
        "reals = df[df['label']=='real']\n",
        "\n",
        "reals.reset_index(drop=True, inplace=True)"
      ],
      "execution_count": 0,
      "outputs": []
    },
    {
      "cell_type": "code",
      "metadata": {
        "id": "LzC9yTL1oLz8",
        "colab_type": "code",
        "outputId": "d023b10f-9cf3-40cd-b9e3-692155c35273",
        "colab": {
          "base_uri": "https://localhost:8080/",
          "height": 118
        }
      },
      "source": [
        "df['sampling'].value_counts()"
      ],
      "execution_count": 4,
      "outputs": [
        {
          "output_type": "execute_result",
          "data": {
            "text/plain": [
              "No sampling    560000\n",
              "nucleus        140000\n",
              "top_k          140000\n",
              "argmax         140000\n",
              "temperature    140000\n",
              "Name: sampling, dtype: int64"
            ]
          },
          "metadata": {
            "tags": []
          },
          "execution_count": 4
        }
      ]
    },
    {
      "cell_type": "markdown",
      "metadata": {
        "id": "LlNDB2wiMiY7",
        "colab_type": "text"
      },
      "source": [
        "# Sentence Length "
      ]
    },
    {
      "cell_type": "code",
      "metadata": {
        "id": "YT87YHSd7fHg",
        "colab_type": "code",
        "outputId": "ded446c3-bd8c-47ee-a4e8-2bfbf1570ce9",
        "colab": {
          "base_uri": "https://localhost:8080/",
          "height": 34
        }
      },
      "source": [
        "# drop all that is less than 2 sentences\n",
        "ids_fdrop = [ind  for ind, el in enumerate(list(fakes['text'])) if len(tokenize.sent_tokenize(el))<2]\n",
        "ids_rdrop = [ind  for ind, el in  enumerate(list(reals['text'])) if len(tokenize.sent_tokenize(el))<2]\n",
        "ids_drop = list(set(ids_fdrop + ids_rdrop))\n",
        "len(ids_drop)"
      ],
      "execution_count": 5,
      "outputs": [
        {
          "output_type": "execute_result",
          "data": {
            "text/plain": [
              "11466"
            ]
          },
          "metadata": {
            "tags": []
          },
          "execution_count": 5
        }
      ]
    },
    {
      "cell_type": "code",
      "metadata": {
        "id": "WX7hJCH-DpvV",
        "colab_type": "code",
        "outputId": "13cd7c93-138b-4804-840a-af6e11a35c58",
        "colab": {
          "base_uri": "https://localhost:8080/",
          "height": 34
        }
      },
      "source": [
        "len(ids_fdrop), len(ids_rdrop)"
      ],
      "execution_count": 6,
      "outputs": [
        {
          "output_type": "execute_result",
          "data": {
            "text/plain": [
              "(11462, 5)"
            ]
          },
          "metadata": {
            "tags": []
          },
          "execution_count": 6
        }
      ]
    },
    {
      "cell_type": "code",
      "metadata": {
        "id": "LmIwJdmU_8VE",
        "colab_type": "code",
        "colab": {}
      },
      "source": [
        "fakes.drop(np.array(ids_drop), inplace=True)\n",
        "reals.drop(np.array(ids_drop), inplace=True)\n",
        "fakes.reset_index(drop=True, inplace=True)\n",
        "reals.reset_index(drop=True, inplace=True)"
      ],
      "execution_count": 0,
      "outputs": []
    },
    {
      "cell_type": "code",
      "metadata": {
        "id": "VnST59o18IId",
        "colab_type": "code",
        "outputId": "5e49831c-00ac-4f69-fe36-e7e9d09f97d0",
        "colab": {
          "base_uri": "https://localhost:8080/",
          "height": 34
        }
      },
      "source": [
        "fakes.shape, reals.shape"
      ],
      "execution_count": 8,
      "outputs": [
        {
          "output_type": "execute_result",
          "data": {
            "text/plain": [
              "((548534, 3), (548534, 3))"
            ]
          },
          "metadata": {
            "tags": []
          },
          "execution_count": 8
        }
      ]
    },
    {
      "cell_type": "code",
      "metadata": {
        "id": "f47XzWkkCsHp",
        "colab_type": "code",
        "outputId": "dce9874f-9828-422a-a3e9-cfe2c48bb3f4",
        "colab": {
          "base_uri": "https://localhost:8080/",
          "height": 218
        }
      },
      "source": [
        "fakes.head(), reals.head()"
      ],
      "execution_count": 9,
      "outputs": [
        {
          "output_type": "execute_result",
          "data": {
            "text/plain": [
              "(                                                text label     sampling\n",
              " 0  HAMBURG, Germany, June 3  As he left the socc...  fake  temperature\n",
              " 1  WASHINGTON, Dec. 23 - The National Security Ag...  fake  temperature\n",
              " 2  IF outsized executive pay has indeed become a ...  fake  temperature\n",
              " 3  BY A.J. Miller, Jr.  The three men will make t...  fake  temperature\n",
              " 4  Spinach has terrorized generations of veggie-p...  fake  temperature,\n",
              "                                                 text label     sampling\n",
              " 0  HAMBURG, Germany, June 3  As he left the socc...  real  No sampling\n",
              " 1  WASHINGTON, Dec. 23 - The National Security Ag...  real  No sampling\n",
              " 2  IF outsized executive pay has indeed become a ...  real  No sampling\n",
              " 3  BY A.J. BENZA & MICHAEL LEWITTES If Simon Rex ...  real  No sampling\n",
              " 4  Spinach has terrorized generations of veggie-p...  real  No sampling)"
            ]
          },
          "metadata": {
            "tags": []
          },
          "execution_count": 9
        }
      ]
    },
    {
      "cell_type": "code",
      "metadata": {
        "id": "3hBNfUOXCvn0",
        "colab_type": "code",
        "outputId": "26deb868-491f-4604-814c-2666c9036b1b",
        "colab": {
          "base_uri": "https://localhost:8080/",
          "height": 218
        }
      },
      "source": [
        "fakes.tail(), reals.tail()"
      ],
      "execution_count": 10,
      "outputs": [
        {
          "output_type": "execute_result",
          "data": {
            "text/plain": [
              "(                                                     text label sampling\n",
              " 548529  Jorg Badura for The New York Times The Lost Se...  fake   argmax\n",
              " 548530  For a company with seven stores nationwide, Ja...  fake   argmax\n",
              " 548531  Plenty has been written about the new iPhone 4...  fake   argmax\n",
              " 548532  To prepare for the grandest day of them all, J...  fake   argmax\n",
              " 548533  Teaching ideas based on New York Times content...  fake   argmax,\n",
              "                                                      text label     sampling\n",
              " 548529  Jorg Badura for The New York Times The Lost Se...  real  No sampling\n",
              " 548530  For a company with seven stores nationwide, Ja...  real  No sampling\n",
              " 548531  Plenty has been written about the new iPhone 4...  real  No sampling\n",
              " 548532  To prepare for the grandest day of them all, J...  real  No sampling\n",
              " 548533  Teaching ideas based on New York Times content...  real  No sampling)"
            ]
          },
          "metadata": {
            "tags": []
          },
          "execution_count": 10
        }
      ]
    },
    {
      "cell_type": "code",
      "metadata": {
        "id": "3raeCt_VHMYv",
        "colab_type": "code",
        "colab": {}
      },
      "source": [
        "# save only first two sentences\n",
        "\n",
        "fakes['text'] = fakes['text'].apply(lambda x: ' '.join(tokenize.sent_tokenize(x)[:2]))\n",
        "reals['text'] = reals['text'].apply(lambda x: ' '.join(tokenize.sent_tokenize(x)[:2]))"
      ],
      "execution_count": 0,
      "outputs": []
    },
    {
      "cell_type": "code",
      "metadata": {
        "id": "puj2WpIZM3Xp",
        "colab_type": "code",
        "outputId": "7dc2100c-95ba-4e2e-ad59-6d603b7a4913",
        "colab": {
          "base_uri": "https://localhost:8080/",
          "height": 34
        }
      },
      "source": [
        "ids_fdrop = [ind  for ind, el in enumerate(list(fakes['text'])) if len(tokenize.sent_tokenize(el))>2]\n",
        "ids_rdrop = [ind  for ind, el in  enumerate(list(reals['text'])) if len(tokenize.sent_tokenize(el))>2]\n",
        "ids_drop = list(set(ids_fdrop + ids_rdrop))\n",
        "len(ids_drop)"
      ],
      "execution_count": 12,
      "outputs": [
        {
          "output_type": "execute_result",
          "data": {
            "text/plain": [
              "2047"
            ]
          },
          "metadata": {
            "tags": []
          },
          "execution_count": 12
        }
      ]
    },
    {
      "cell_type": "code",
      "metadata": {
        "id": "B-S03UA7OGDm",
        "colab_type": "code",
        "colab": {}
      },
      "source": [
        "fakes.drop(np.array(ids_drop), inplace=True)\n",
        "reals.drop(np.array(ids_drop), inplace=True)\n",
        "fakes.reset_index(drop=True, inplace=True)\n",
        "reals.reset_index(drop=True, inplace=True)"
      ],
      "execution_count": 0,
      "outputs": []
    },
    {
      "cell_type": "code",
      "metadata": {
        "id": "r7ZVwIbnOJf_",
        "colab_type": "code",
        "outputId": "84710a3b-97e6-43c5-8c64-93651ca803f2",
        "colab": {
          "base_uri": "https://localhost:8080/",
          "height": 218
        }
      },
      "source": [
        "fakes.head(), reals.head()"
      ],
      "execution_count": 14,
      "outputs": [
        {
          "output_type": "execute_result",
          "data": {
            "text/plain": [
              "(                                                text label     sampling\n",
              " 0  HAMBURG, Germany, June 3  As he left the socc...  fake  temperature\n",
              " 1  WASHINGTON, Dec. 23 - The National Security Ag...  fake  temperature\n",
              " 2  IF outsized executive pay has indeed become a ...  fake  temperature\n",
              " 3                                BY A.J. Miller, Jr.  fake  temperature\n",
              " 4  Spinach has terrorized generations of veggie-p...  fake  temperature,\n",
              "                                                 text label     sampling\n",
              " 0  HAMBURG, Germany, June 3  As he left the socc...  real  No sampling\n",
              " 1  WASHINGTON, Dec. 23 - The National Security Ag...  real  No sampling\n",
              " 2  IF outsized executive pay has indeed become a ...  real  No sampling\n",
              " 3  BY A.J. BENZA & MICHAEL LEWITTES If Simon Rex ...  real  No sampling\n",
              " 4  Spinach has terrorized generations of veggie-p...  real  No sampling)"
            ]
          },
          "metadata": {
            "tags": []
          },
          "execution_count": 14
        }
      ]
    },
    {
      "cell_type": "code",
      "metadata": {
        "id": "MwzmJdMZOKmk",
        "colab_type": "code",
        "outputId": "95ca0544-089b-4504-ebf5-32a63c1c382b",
        "colab": {
          "base_uri": "https://localhost:8080/",
          "height": 218
        }
      },
      "source": [
        "fakes.tail(), reals.tail()"
      ],
      "execution_count": 15,
      "outputs": [
        {
          "output_type": "execute_result",
          "data": {
            "text/plain": [
              "(                                                     text label sampling\n",
              " 546482  Jorg Badura for The New York Times The Lost Se...  fake   argmax\n",
              " 546483  For a company with seven stores nationwide, Ja...  fake   argmax\n",
              " 546484  Plenty has been written about the new iPhone 4...  fake   argmax\n",
              " 546485  To prepare for the grandest day of them all, J...  fake   argmax\n",
              " 546486  Teaching ideas based on New York Times content...  fake   argmax,\n",
              "                                                      text label     sampling\n",
              " 546482  Jorg Badura for The New York Times The Lost Se...  real  No sampling\n",
              " 546483  For a company with seven stores nationwide, Ja...  real  No sampling\n",
              " 546484  Plenty has been written about the new iPhone 4...  real  No sampling\n",
              " 546485  To prepare for the grandest day of them all, J...  real  No sampling\n",
              " 546486  Teaching ideas based on New York Times content...  real  No sampling)"
            ]
          },
          "metadata": {
            "tags": []
          },
          "execution_count": 15
        }
      ]
    },
    {
      "cell_type": "code",
      "metadata": {
        "id": "vUbjcDMsJuuL",
        "colab_type": "code",
        "outputId": "1e0cc980-5b83-41ee-d054-a07fa78869b2",
        "colab": {
          "base_uri": "https://localhost:8080/",
          "height": 34
        }
      },
      "source": [
        "f = 0\n",
        "for el in list(fakes['text']):\n",
        "    if len(tokenize.sent_tokenize(el)) > 2:\n",
        "        f +=1\n",
        "r =0\n",
        "for el in list(reals['text']):\n",
        "    if len(tokenize.sent_tokenize(el)) > 2:\n",
        "        r +=1\n",
        "f, r"
      ],
      "execution_count": 16,
      "outputs": [
        {
          "output_type": "execute_result",
          "data": {
            "text/plain": [
              "(0, 0)"
            ]
          },
          "metadata": {
            "tags": []
          },
          "execution_count": 16
        }
      ]
    },
    {
      "cell_type": "markdown",
      "metadata": {
        "id": "tHGJcltvQiYX",
        "colab_type": "text"
      },
      "source": [
        "# Drop duplicates"
      ]
    },
    {
      "cell_type": "code",
      "metadata": {
        "id": "TAKBV-UumDwl",
        "colab_type": "code",
        "outputId": "3c7d7c6d-096b-475b-a08c-348307a5f622",
        "colab": {
          "base_uri": "https://localhost:8080/",
          "height": 185
        }
      },
      "source": [
        "fakes.describe(), reals.describe()"
      ],
      "execution_count": 17,
      "outputs": [
        {
          "output_type": "execute_result",
          "data": {
            "text/plain": [
              "(                                                     text   label sampling\n",
              " count                                              546487  546487   546487\n",
              " unique                                             543818       1        4\n",
              " top     This post has been corrected. The following is...    fake   argmax\n",
              " freq                                                   98  546487   138960,\n",
              "                                                      text   label     sampling\n",
              " count                                              546487  546487       546487\n",
              " unique                                             519971       1            1\n",
              " top     This post is in partnership with Time. The art...    real  No sampling\n",
              " freq                                                  139  546487       546487)"
            ]
          },
          "metadata": {
            "tags": []
          },
          "execution_count": 17
        }
      ]
    },
    {
      "cell_type": "code",
      "metadata": {
        "id": "rsfc6MjvmHJY",
        "colab_type": "code",
        "outputId": "b2b16839-1f7c-4d54-e467-83ef4526c2a5",
        "colab": {
          "base_uri": "https://localhost:8080/",
          "height": 34
        }
      },
      "source": [
        "fakes.shape, reals.shape"
      ],
      "execution_count": 18,
      "outputs": [
        {
          "output_type": "execute_result",
          "data": {
            "text/plain": [
              "((546487, 3), (546487, 3))"
            ]
          },
          "metadata": {
            "tags": []
          },
          "execution_count": 18
        }
      ]
    },
    {
      "cell_type": "code",
      "metadata": {
        "id": "4BvjrOsRoUTx",
        "colab_type": "code",
        "colab": {}
      },
      "source": [
        "fakes_clean = fakes.drop_duplicates(inplace=False)\n",
        "reals_clean = reals.drop_duplicates(inplace=False)"
      ],
      "execution_count": 0,
      "outputs": []
    },
    {
      "cell_type": "code",
      "metadata": {
        "id": "-V7DiGzloULN",
        "colab_type": "code",
        "outputId": "774a1d60-6831-412f-ed0b-d8bdec8c8d13",
        "colab": {
          "base_uri": "https://localhost:8080/",
          "height": 34
        }
      },
      "source": [
        "fakes_clean.shape, fakes.shape, reals_clean.shape, reals.shape"
      ],
      "execution_count": 20,
      "outputs": [
        {
          "output_type": "execute_result",
          "data": {
            "text/plain": [
              "((543961, 3), (546487, 3), (519971, 3), (546487, 3))"
            ]
          },
          "metadata": {
            "tags": []
          },
          "execution_count": 20
        }
      ]
    },
    {
      "cell_type": "code",
      "metadata": {
        "id": "LhAO7xVmoT-d",
        "colab_type": "code",
        "outputId": "ef2f3cf2-a46b-427f-f9c9-5595c9942e11",
        "colab": {
          "base_uri": "https://localhost:8080/",
          "height": 34
        }
      },
      "source": [
        "ids_fdrop = [ind for ind in fakes.index if ind not in fakes_clean.index]\n",
        "ids_rdrop = [ind for ind in reals.index if ind not in reals_clean.index]\n",
        "ids_drop = list(set(ids_fdrop + ids_rdrop))\n",
        "len(ids_drop)"
      ],
      "execution_count": 21,
      "outputs": [
        {
          "output_type": "execute_result",
          "data": {
            "text/plain": [
              "28149"
            ]
          },
          "metadata": {
            "tags": []
          },
          "execution_count": 21
        }
      ]
    },
    {
      "cell_type": "code",
      "metadata": {
        "id": "kE3owCL4rFBT",
        "colab_type": "code",
        "colab": {}
      },
      "source": [
        "fakes.drop(np.array(ids_drop), inplace=True)\n",
        "reals.drop(np.array(ids_drop), inplace=True)\n",
        "fakes.reset_index(drop=True, inplace=True)\n",
        "reals.reset_index(drop=True, inplace=True)"
      ],
      "execution_count": 0,
      "outputs": []
    },
    {
      "cell_type": "code",
      "metadata": {
        "id": "rOI3Wpk1rHSt",
        "colab_type": "code",
        "outputId": "92433180-9012-40ac-806d-3a95c1dd9828",
        "colab": {
          "base_uri": "https://localhost:8080/",
          "height": 218
        }
      },
      "source": [
        "fakes.head(), reals.head()"
      ],
      "execution_count": 23,
      "outputs": [
        {
          "output_type": "execute_result",
          "data": {
            "text/plain": [
              "(                                                text label     sampling\n",
              " 0  HAMBURG, Germany, June 3  As he left the socc...  fake  temperature\n",
              " 1  WASHINGTON, Dec. 23 - The National Security Ag...  fake  temperature\n",
              " 2  IF outsized executive pay has indeed become a ...  fake  temperature\n",
              " 3                                BY A.J. Miller, Jr.  fake  temperature\n",
              " 4  Spinach has terrorized generations of veggie-p...  fake  temperature,\n",
              "                                                 text label     sampling\n",
              " 0  HAMBURG, Germany, June 3  As he left the socc...  real  No sampling\n",
              " 1  WASHINGTON, Dec. 23 - The National Security Ag...  real  No sampling\n",
              " 2  IF outsized executive pay has indeed become a ...  real  No sampling\n",
              " 3  BY A.J. BENZA & MICHAEL LEWITTES If Simon Rex ...  real  No sampling\n",
              " 4  Spinach has terrorized generations of veggie-p...  real  No sampling)"
            ]
          },
          "metadata": {
            "tags": []
          },
          "execution_count": 23
        }
      ]
    },
    {
      "cell_type": "code",
      "metadata": {
        "id": "BK0O2p0vrLyw",
        "colab_type": "code",
        "outputId": "b118c51b-317e-455a-f9a4-a579473c4de4",
        "colab": {
          "base_uri": "https://localhost:8080/",
          "height": 218
        }
      },
      "source": [
        "fakes.tail(), reals.tail()"
      ],
      "execution_count": 24,
      "outputs": [
        {
          "output_type": "execute_result",
          "data": {
            "text/plain": [
              "(                                                     text label sampling\n",
              " 518333  Americans are usually forgiving when they vote...  fake   argmax\n",
              " 518334  Jorg Badura for The New York Times The Lost Se...  fake   argmax\n",
              " 518335  For a company with seven stores nationwide, Ja...  fake   argmax\n",
              " 518336  Plenty has been written about the new iPhone 4...  fake   argmax\n",
              " 518337  To prepare for the grandest day of them all, J...  fake   argmax,\n",
              "                                                      text label     sampling\n",
              " 518333  Americans are usually forgiving when they vote...  real  No sampling\n",
              " 518334  Jorg Badura for The New York Times The Lost Se...  real  No sampling\n",
              " 518335  For a company with seven stores nationwide, Ja...  real  No sampling\n",
              " 518336  Plenty has been written about the new iPhone 4...  real  No sampling\n",
              " 518337  To prepare for the grandest day of them all, J...  real  No sampling)"
            ]
          },
          "metadata": {
            "tags": []
          },
          "execution_count": 24
        }
      ]
    },
    {
      "cell_type": "code",
      "metadata": {
        "id": "RcI4t70RrX_V",
        "colab_type": "code",
        "outputId": "b6e3e0a7-27d4-4f2f-8743-41e38ac38957",
        "colab": {
          "base_uri": "https://localhost:8080/",
          "height": 166
        }
      },
      "source": [
        "fakes.describe()"
      ],
      "execution_count": 25,
      "outputs": [
        {
          "output_type": "execute_result",
          "data": {
            "text/html": [
              "<div>\n",
              "<style scoped>\n",
              "    .dataframe tbody tr th:only-of-type {\n",
              "        vertical-align: middle;\n",
              "    }\n",
              "\n",
              "    .dataframe tbody tr th {\n",
              "        vertical-align: top;\n",
              "    }\n",
              "\n",
              "    .dataframe thead th {\n",
              "        text-align: right;\n",
              "    }\n",
              "</style>\n",
              "<table border=\"1\" class=\"dataframe\">\n",
              "  <thead>\n",
              "    <tr style=\"text-align: right;\">\n",
              "      <th></th>\n",
              "      <th>text</th>\n",
              "      <th>label</th>\n",
              "      <th>sampling</th>\n",
              "    </tr>\n",
              "  </thead>\n",
              "  <tbody>\n",
              "    <tr>\n",
              "      <th>count</th>\n",
              "      <td>518338</td>\n",
              "      <td>518338</td>\n",
              "      <td>518338</td>\n",
              "    </tr>\n",
              "    <tr>\n",
              "      <th>unique</th>\n",
              "      <td>518330</td>\n",
              "      <td>1</td>\n",
              "      <td>4</td>\n",
              "    </tr>\n",
              "    <tr>\n",
              "      <th>top</th>\n",
              "      <td>Former President George H.W. Bush.</td>\n",
              "      <td>fake</td>\n",
              "      <td>nucleus</td>\n",
              "    </tr>\n",
              "    <tr>\n",
              "      <th>freq</th>\n",
              "      <td>3</td>\n",
              "      <td>518338</td>\n",
              "      <td>131708</td>\n",
              "    </tr>\n",
              "  </tbody>\n",
              "</table>\n",
              "</div>"
            ],
            "text/plain": [
              "                                      text   label sampling\n",
              "count                               518338  518338   518338\n",
              "unique                              518330       1        4\n",
              "top     Former President George H.W. Bush.    fake  nucleus\n",
              "freq                                     3  518338   131708"
            ]
          },
          "metadata": {
            "tags": []
          },
          "execution_count": 25
        }
      ]
    },
    {
      "cell_type": "code",
      "metadata": {
        "id": "GUS_cQkhrfTM",
        "colab_type": "code",
        "outputId": "e29dfcbc-287a-4e71-ecb3-3515eb56fac8",
        "colab": {
          "base_uri": "https://localhost:8080/",
          "height": 166
        }
      },
      "source": [
        "reals.describe()"
      ],
      "execution_count": 26,
      "outputs": [
        {
          "output_type": "execute_result",
          "data": {
            "text/html": [
              "<div>\n",
              "<style scoped>\n",
              "    .dataframe tbody tr th:only-of-type {\n",
              "        vertical-align: middle;\n",
              "    }\n",
              "\n",
              "    .dataframe tbody tr th {\n",
              "        vertical-align: top;\n",
              "    }\n",
              "\n",
              "    .dataframe thead th {\n",
              "        text-align: right;\n",
              "    }\n",
              "</style>\n",
              "<table border=\"1\" class=\"dataframe\">\n",
              "  <thead>\n",
              "    <tr style=\"text-align: right;\">\n",
              "      <th></th>\n",
              "      <th>text</th>\n",
              "      <th>label</th>\n",
              "      <th>sampling</th>\n",
              "    </tr>\n",
              "  </thead>\n",
              "  <tbody>\n",
              "    <tr>\n",
              "      <th>count</th>\n",
              "      <td>518338</td>\n",
              "      <td>518338</td>\n",
              "      <td>518338</td>\n",
              "    </tr>\n",
              "    <tr>\n",
              "      <th>unique</th>\n",
              "      <td>518338</td>\n",
              "      <td>1</td>\n",
              "      <td>1</td>\n",
              "    </tr>\n",
              "    <tr>\n",
              "      <th>top</th>\n",
              "      <td>Dark Knight Rises villain Bane was a pretty fo...</td>\n",
              "      <td>real</td>\n",
              "      <td>No sampling</td>\n",
              "    </tr>\n",
              "    <tr>\n",
              "      <th>freq</th>\n",
              "      <td>1</td>\n",
              "      <td>518338</td>\n",
              "      <td>518338</td>\n",
              "    </tr>\n",
              "  </tbody>\n",
              "</table>\n",
              "</div>"
            ],
            "text/plain": [
              "                                                     text   label     sampling\n",
              "count                                              518338  518338       518338\n",
              "unique                                             518338       1            1\n",
              "top     Dark Knight Rises villain Bane was a pretty fo...    real  No sampling\n",
              "freq                                                    1  518338       518338"
            ]
          },
          "metadata": {
            "tags": []
          },
          "execution_count": 26
        }
      ]
    },
    {
      "cell_type": "markdown",
      "metadata": {
        "id": "r7stqwLzUnT6",
        "colab_type": "text"
      },
      "source": [
        "# Counter"
      ]
    },
    {
      "cell_type": "code",
      "metadata": {
        "id": "hr8miT2kUtpj",
        "colab_type": "code",
        "colab": {}
      },
      "source": [
        "fakes_tokens = fakes['text'].apply(lambda x: x.split(' '))\n",
        "reals_tokens = reals['text'].apply(lambda x: x.split(' '))\n",
        "\n",
        "fake_split = Counter(x for xs in fakes_tokens for x in set(xs))\n",
        "real_split = Counter(x for xs in reals_tokens for x in set(xs))"
      ],
      "execution_count": 0,
      "outputs": []
    },
    {
      "cell_type": "code",
      "metadata": {
        "id": "RKHZV8FBVIus",
        "colab_type": "code",
        "outputId": "51615825-2448-4341-ccc1-2fdec8b3118d",
        "colab": {
          "base_uri": "https://localhost:8080/",
          "height": 689
        }
      },
      "source": [
        "fake_split.most_common(20), real_split.most_common(20)"
      ],
      "execution_count": 28,
      "outputs": [
        {
          "output_type": "execute_result",
          "data": {
            "text/plain": [
              "([('the', 424152),\n",
              "  ('a', 355430),\n",
              "  ('of', 329310),\n",
              "  ('to', 320732),\n",
              "  ('in', 299403),\n",
              "  ('and', 286406),\n",
              "  ('The', 200671),\n",
              "  ('on', 185277),\n",
              "  ('for', 180801),\n",
              "  ('is', 172110),\n",
              "  ('that', 167772),\n",
              "  ('with', 130242),\n",
              "  ('at', 125887),\n",
              "  ('was', 125569),\n",
              "  ('has', 109640),\n",
              "  ('by', 97927),\n",
              "  ('as', 95966),\n",
              "  ('from', 95865),\n",
              "  ('an', 91495),\n",
              "  ('it', 79383)],\n",
              " [('the', 441593),\n",
              "  ('a', 359409),\n",
              "  ('of', 346475),\n",
              "  ('to', 328792),\n",
              "  ('and', 312185),\n",
              "  ('in', 311877),\n",
              "  ('on', 196144),\n",
              "  ('for', 182471),\n",
              "  ('that', 160730),\n",
              "  ('The', 157442),\n",
              "  ('is', 157035),\n",
              "  ('with', 133134),\n",
              "  ('at', 124429),\n",
              "  ('was', 112411),\n",
              "  ('has', 102500),\n",
              "  ('from', 100164),\n",
              "  ('as', 97920),\n",
              "  ('by', 94024),\n",
              "  ('an', 92637),\n",
              "  ('his', 87801)])"
            ]
          },
          "metadata": {
            "tags": []
          },
          "execution_count": 28
        }
      ]
    },
    {
      "cell_type": "markdown",
      "metadata": {
        "id": "KS33XPehLjJy",
        "colab_type": "text"
      },
      "source": [
        "# Save samplings datasets"
      ]
    },
    {
      "cell_type": "code",
      "metadata": {
        "id": "-t_9zaS4OC_b",
        "colab_type": "code",
        "outputId": "db12b06a-0c00-472a-df08-4a3cdf6ea5ea",
        "colab": {
          "base_uri": "https://localhost:8080/",
          "height": 84
        }
      },
      "source": [
        "samplings = fakes['sampling'].unique()\n",
        "\n",
        "for sampling in samplings:\n",
        "    \n",
        "    fake_sampl = fakes[fakes['sampling']==sampling]\n",
        "    real_sampl = reals.iloc[fake_sampl.index]\n",
        "    assert real_sampl.shape == fake_sampl.shape, 'Different lengths of real and fake samplings'\n",
        "\n",
        "    df_sampl = pd.concat([fake_sampl, real_sampl], axis=0)\n",
        "    df_sampl = shuffle(df_sampl)\n",
        "    df_sampl.reset_index(drop=True, inplace=True)\n",
        "    \n",
        "    df_sampl.to_csv('/content/drive/My Drive/data/sampling_{}.csv'.format(sampling), index=False)\n",
        "    print('{} texts for {} sampling type were saved in sampling_{}.csv'.format(df_sampl.shape[0], sampling, sampling))"
      ],
      "execution_count": 29,
      "outputs": [
        {
          "output_type": "stream",
          "text": [
            "254220 texts for temperature sampling type were saved in sampling_temperature.csv\n",
            "261200 texts for top_k sampling type were saved in sampling_top_k.csv\n",
            "263416 texts for nucleus sampling type were saved in sampling_nucleus.csv\n",
            "257840 texts for argmax sampling type were saved in sampling_argmax.csv\n"
          ],
          "name": "stdout"
        }
      ]
    },
    {
      "cell_type": "markdown",
      "metadata": {
        "id": "exm1oThbaqr2",
        "colab_type": "text"
      },
      "source": [
        "# Shuffle and save"
      ]
    },
    {
      "cell_type": "code",
      "metadata": {
        "id": "jm26Iedn0CtR",
        "colab_type": "code",
        "colab": {}
      },
      "source": [
        "df = pd.concat([fakes, reals], axis=0)\n",
        "df.reset_index(drop=True, inplace=True)"
      ],
      "execution_count": 0,
      "outputs": []
    },
    {
      "cell_type": "code",
      "metadata": {
        "id": "UNUODZnPasc5",
        "colab_type": "code",
        "outputId": "a4c5bb17-ead3-430e-99a3-cead12c0dde5",
        "colab": {
          "base_uri": "https://localhost:8080/",
          "height": 195
        }
      },
      "source": [
        "df.head()"
      ],
      "execution_count": 31,
      "outputs": [
        {
          "output_type": "execute_result",
          "data": {
            "text/html": [
              "<div>\n",
              "<style scoped>\n",
              "    .dataframe tbody tr th:only-of-type {\n",
              "        vertical-align: middle;\n",
              "    }\n",
              "\n",
              "    .dataframe tbody tr th {\n",
              "        vertical-align: top;\n",
              "    }\n",
              "\n",
              "    .dataframe thead th {\n",
              "        text-align: right;\n",
              "    }\n",
              "</style>\n",
              "<table border=\"1\" class=\"dataframe\">\n",
              "  <thead>\n",
              "    <tr style=\"text-align: right;\">\n",
              "      <th></th>\n",
              "      <th>text</th>\n",
              "      <th>label</th>\n",
              "      <th>sampling</th>\n",
              "    </tr>\n",
              "  </thead>\n",
              "  <tbody>\n",
              "    <tr>\n",
              "      <th>0</th>\n",
              "      <td>HAMBURG, Germany, June 3  As he left the socc...</td>\n",
              "      <td>fake</td>\n",
              "      <td>temperature</td>\n",
              "    </tr>\n",
              "    <tr>\n",
              "      <th>1</th>\n",
              "      <td>WASHINGTON, Dec. 23 - The National Security Ag...</td>\n",
              "      <td>fake</td>\n",
              "      <td>temperature</td>\n",
              "    </tr>\n",
              "    <tr>\n",
              "      <th>2</th>\n",
              "      <td>IF outsized executive pay has indeed become a ...</td>\n",
              "      <td>fake</td>\n",
              "      <td>temperature</td>\n",
              "    </tr>\n",
              "    <tr>\n",
              "      <th>3</th>\n",
              "      <td>BY A.J. Miller, Jr.</td>\n",
              "      <td>fake</td>\n",
              "      <td>temperature</td>\n",
              "    </tr>\n",
              "    <tr>\n",
              "      <th>4</th>\n",
              "      <td>Spinach has terrorized generations of veggie-p...</td>\n",
              "      <td>fake</td>\n",
              "      <td>temperature</td>\n",
              "    </tr>\n",
              "  </tbody>\n",
              "</table>\n",
              "</div>"
            ],
            "text/plain": [
              "                                                text label     sampling\n",
              "0  HAMBURG, Germany, June 3  As he left the socc...  fake  temperature\n",
              "1  WASHINGTON, Dec. 23 - The National Security Ag...  fake  temperature\n",
              "2  IF outsized executive pay has indeed become a ...  fake  temperature\n",
              "3                                BY A.J. Miller, Jr.  fake  temperature\n",
              "4  Spinach has terrorized generations of veggie-p...  fake  temperature"
            ]
          },
          "metadata": {
            "tags": []
          },
          "execution_count": 31
        }
      ]
    },
    {
      "cell_type": "code",
      "metadata": {
        "id": "GYNPWod7avOh",
        "colab_type": "code",
        "outputId": "a52af5f0-6773-4569-c54a-bf6affb019f3",
        "colab": {
          "base_uri": "https://localhost:8080/",
          "height": 195
        }
      },
      "source": [
        "df.tail()"
      ],
      "execution_count": 32,
      "outputs": [
        {
          "output_type": "execute_result",
          "data": {
            "text/html": [
              "<div>\n",
              "<style scoped>\n",
              "    .dataframe tbody tr th:only-of-type {\n",
              "        vertical-align: middle;\n",
              "    }\n",
              "\n",
              "    .dataframe tbody tr th {\n",
              "        vertical-align: top;\n",
              "    }\n",
              "\n",
              "    .dataframe thead th {\n",
              "        text-align: right;\n",
              "    }\n",
              "</style>\n",
              "<table border=\"1\" class=\"dataframe\">\n",
              "  <thead>\n",
              "    <tr style=\"text-align: right;\">\n",
              "      <th></th>\n",
              "      <th>text</th>\n",
              "      <th>label</th>\n",
              "      <th>sampling</th>\n",
              "    </tr>\n",
              "  </thead>\n",
              "  <tbody>\n",
              "    <tr>\n",
              "      <th>1036671</th>\n",
              "      <td>Americans are usually forgiving when they vote...</td>\n",
              "      <td>real</td>\n",
              "      <td>No sampling</td>\n",
              "    </tr>\n",
              "    <tr>\n",
              "      <th>1036672</th>\n",
              "      <td>Jorg Badura for The New York Times The Lost Se...</td>\n",
              "      <td>real</td>\n",
              "      <td>No sampling</td>\n",
              "    </tr>\n",
              "    <tr>\n",
              "      <th>1036673</th>\n",
              "      <td>For a company with seven stores nationwide, Ja...</td>\n",
              "      <td>real</td>\n",
              "      <td>No sampling</td>\n",
              "    </tr>\n",
              "    <tr>\n",
              "      <th>1036674</th>\n",
              "      <td>Plenty has been written about the new iPhone 4...</td>\n",
              "      <td>real</td>\n",
              "      <td>No sampling</td>\n",
              "    </tr>\n",
              "    <tr>\n",
              "      <th>1036675</th>\n",
              "      <td>To prepare for the grandest day of them all, J...</td>\n",
              "      <td>real</td>\n",
              "      <td>No sampling</td>\n",
              "    </tr>\n",
              "  </tbody>\n",
              "</table>\n",
              "</div>"
            ],
            "text/plain": [
              "                                                      text label     sampling\n",
              "1036671  Americans are usually forgiving when they vote...  real  No sampling\n",
              "1036672  Jorg Badura for The New York Times The Lost Se...  real  No sampling\n",
              "1036673  For a company with seven stores nationwide, Ja...  real  No sampling\n",
              "1036674  Plenty has been written about the new iPhone 4...  real  No sampling\n",
              "1036675  To prepare for the grandest day of them all, J...  real  No sampling"
            ]
          },
          "metadata": {
            "tags": []
          },
          "execution_count": 32
        }
      ]
    },
    {
      "cell_type": "code",
      "metadata": {
        "id": "7F8n-8h6a3vG",
        "colab_type": "code",
        "colab": {}
      },
      "source": [
        "df = shuffle(df)\n",
        "df.reset_index(drop=True, inplace=True)"
      ],
      "execution_count": 0,
      "outputs": []
    },
    {
      "cell_type": "code",
      "metadata": {
        "id": "1IOqdpgVbDeM",
        "colab_type": "code",
        "outputId": "d467fada-e4f3-4457-eaac-a5d0c2773457",
        "colab": {
          "base_uri": "https://localhost:8080/",
          "height": 195
        }
      },
      "source": [
        "df.head()"
      ],
      "execution_count": 34,
      "outputs": [
        {
          "output_type": "execute_result",
          "data": {
            "text/html": [
              "<div>\n",
              "<style scoped>\n",
              "    .dataframe tbody tr th:only-of-type {\n",
              "        vertical-align: middle;\n",
              "    }\n",
              "\n",
              "    .dataframe tbody tr th {\n",
              "        vertical-align: top;\n",
              "    }\n",
              "\n",
              "    .dataframe thead th {\n",
              "        text-align: right;\n",
              "    }\n",
              "</style>\n",
              "<table border=\"1\" class=\"dataframe\">\n",
              "  <thead>\n",
              "    <tr style=\"text-align: right;\">\n",
              "      <th></th>\n",
              "      <th>text</th>\n",
              "      <th>label</th>\n",
              "      <th>sampling</th>\n",
              "    </tr>\n",
              "  </thead>\n",
              "  <tbody>\n",
              "    <tr>\n",
              "      <th>0</th>\n",
              "      <td>Jan. 15, 2016 6:56 p.m. ET Equities took anoth...</td>\n",
              "      <td>real</td>\n",
              "      <td>No sampling</td>\n",
              "    </tr>\n",
              "    <tr>\n",
              "      <th>1</th>\n",
              "      <td>Times Insider shares insights into how we work...</td>\n",
              "      <td>fake</td>\n",
              "      <td>top_k</td>\n",
              "    </tr>\n",
              "    <tr>\n",
              "      <th>2</th>\n",
              "      <td>is an unfit dog owner and her pit bull should ...</td>\n",
              "      <td>fake</td>\n",
              "      <td>temperature</td>\n",
              "    </tr>\n",
              "    <tr>\n",
              "      <th>3</th>\n",
              "      <td>LOS ANGELES – U.S. authorities on Tuesday depo...</td>\n",
              "      <td>fake</td>\n",
              "      <td>argmax</td>\n",
              "    </tr>\n",
              "    <tr>\n",
              "      <th>4</th>\n",
              "      <td>Just inside the front entrance of Southwest Ai...</td>\n",
              "      <td>real</td>\n",
              "      <td>No sampling</td>\n",
              "    </tr>\n",
              "  </tbody>\n",
              "</table>\n",
              "</div>"
            ],
            "text/plain": [
              "                                                text label     sampling\n",
              "0  Jan. 15, 2016 6:56 p.m. ET Equities took anoth...  real  No sampling\n",
              "1  Times Insider shares insights into how we work...  fake        top_k\n",
              "2  is an unfit dog owner and her pit bull should ...  fake  temperature\n",
              "3  LOS ANGELES – U.S. authorities on Tuesday depo...  fake       argmax\n",
              "4  Just inside the front entrance of Southwest Ai...  real  No sampling"
            ]
          },
          "metadata": {
            "tags": []
          },
          "execution_count": 34
        }
      ]
    },
    {
      "cell_type": "code",
      "metadata": {
        "id": "FqV2_QKCbEWi",
        "colab_type": "code",
        "outputId": "1eabae52-aeb4-4aa6-be8c-9835d329e79e",
        "colab": {
          "base_uri": "https://localhost:8080/",
          "height": 195
        }
      },
      "source": [
        "df.tail()"
      ],
      "execution_count": 35,
      "outputs": [
        {
          "output_type": "execute_result",
          "data": {
            "text/html": [
              "<div>\n",
              "<style scoped>\n",
              "    .dataframe tbody tr th:only-of-type {\n",
              "        vertical-align: middle;\n",
              "    }\n",
              "\n",
              "    .dataframe tbody tr th {\n",
              "        vertical-align: top;\n",
              "    }\n",
              "\n",
              "    .dataframe thead th {\n",
              "        text-align: right;\n",
              "    }\n",
              "</style>\n",
              "<table border=\"1\" class=\"dataframe\">\n",
              "  <thead>\n",
              "    <tr style=\"text-align: right;\">\n",
              "      <th></th>\n",
              "      <th>text</th>\n",
              "      <th>label</th>\n",
              "      <th>sampling</th>\n",
              "    </tr>\n",
              "  </thead>\n",
              "  <tbody>\n",
              "    <tr>\n",
              "      <th>1036671</th>\n",
              "      <td>NOT any of these guys! Megan Fox is giving us ...</td>\n",
              "      <td>real</td>\n",
              "      <td>No sampling</td>\n",
              "    </tr>\n",
              "    <tr>\n",
              "      <th>1036672</th>\n",
              "      <td>From dressing up to carving pumpkins, celebrit...</td>\n",
              "      <td>real</td>\n",
              "      <td>No sampling</td>\n",
              "    </tr>\n",
              "    <tr>\n",
              "      <th>1036673</th>\n",
              "      <td>By MICHAEL FALCONE (@michaelpfalcone) and AMY ...</td>\n",
              "      <td>real</td>\n",
              "      <td>No sampling</td>\n",
              "    </tr>\n",
              "    <tr>\n",
              "      <th>1036674</th>\n",
              "      <td>Turkey's deputy prime minister told CNBC the c...</td>\n",
              "      <td>fake</td>\n",
              "      <td>top_k</td>\n",
              "    </tr>\n",
              "    <tr>\n",
              "      <th>1036675</th>\n",
              "      <td>Answer by Auren Hoffman on Quora.com  \"I'm a b...</td>\n",
              "      <td>fake</td>\n",
              "      <td>argmax</td>\n",
              "    </tr>\n",
              "  </tbody>\n",
              "</table>\n",
              "</div>"
            ],
            "text/plain": [
              "                                                      text label     sampling\n",
              "1036671  NOT any of these guys! Megan Fox is giving us ...  real  No sampling\n",
              "1036672  From dressing up to carving pumpkins, celebrit...  real  No sampling\n",
              "1036673  By MICHAEL FALCONE (@michaelpfalcone) and AMY ...  real  No sampling\n",
              "1036674  Turkey's deputy prime minister told CNBC the c...  fake        top_k\n",
              "1036675  Answer by Auren Hoffman on Quora.com  \"I'm a b...  fake       argmax"
            ]
          },
          "metadata": {
            "tags": []
          },
          "execution_count": 35
        }
      ]
    },
    {
      "cell_type": "code",
      "metadata": {
        "id": "kOy0RrV3bMLX",
        "colab_type": "code",
        "colab": {}
      },
      "source": [
        "fake = list(fakes['text'])\n",
        "real = list(reals['text'])\n",
        "\n",
        "df.to_csv('/content/drive/My Drive/data/dataset.csv', index=False)"
      ],
      "execution_count": 0,
      "outputs": []
    },
    {
      "cell_type": "code",
      "metadata": {
        "id": "5_EaYKKI2vj8",
        "colab_type": "code",
        "colab": {}
      },
      "source": [
        "with open('/content/drive/My Drive/data/fake', 'wb') as fp:\n",
        "    pickle.dump(fake, fp)\n",
        "\n",
        "with open('/content/drive/My Drive/data/real', 'wb') as fp:\n",
        "    pickle.dump(real, fp)"
      ],
      "execution_count": 0,
      "outputs": []
    },
    {
      "cell_type": "code",
      "metadata": {
        "id": "Ziyp0CLA2vSP",
        "colab_type": "code",
        "colab": {}
      },
      "source": [
        "# with open ('fake', 'rb') as fp:\n",
        "#     itemlist = pickle.load(fp)"
      ],
      "execution_count": 0,
      "outputs": []
    }
  ]
}