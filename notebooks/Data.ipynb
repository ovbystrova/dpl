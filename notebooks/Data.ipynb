{
  "nbformat": 4,
  "nbformat_minor": 0,
  "metadata": {
    "colab": {
      "name": "Data.ipynb",
      "provenance": [],
      "toc_visible": true,
      "machine_shape": "hm"
    },
    "kernelspec": {
      "name": "python3",
      "display_name": "Python 3"
    }
  },
  "cells": [
    {
      "cell_type": "code",
      "metadata": {
        "id": "DUqXlAYiNT_C",
        "colab_type": "code",
        "outputId": "1a202f67-beb3-4fc2-940c-3229a7378648",
        "colab": {
          "base_uri": "https://localhost:8080/",
          "height": 67
        }
      },
      "source": [
        "import numpy as np\n",
        "import pandas as pd\n",
        "from sklearn.utils import shuffle\n",
        "from collections import Counter\n",
        "import pickle\n",
        "\n",
        "\n",
        "import warnings\n",
        "warnings.filterwarnings('ignore')\n",
        "\n",
        "import nltk\n",
        "from nltk import tokenize\n",
        "nltk.download('punkt')"
      ],
      "execution_count": 2,
      "outputs": [
        {
          "output_type": "stream",
          "text": [
            "[nltk_data] Downloading package punkt to /root/nltk_data...\n",
            "[nltk_data]   Package punkt is already up-to-date!\n"
          ],
          "name": "stdout"
        },
        {
          "output_type": "execute_result",
          "data": {
            "text/plain": [
              "True"
            ]
          },
          "metadata": {
            "tags": []
          },
          "execution_count": 2
        }
      ]
    },
    {
      "cell_type": "code",
      "metadata": {
        "id": "NGEpGhELN9BR",
        "colab_type": "code",
        "colab": {}
      },
      "source": [
        "from google.colab import drive\n",
        "drive.mount('/content/drive')"
      ],
      "execution_count": 0,
      "outputs": []
    },
    {
      "cell_type": "code",
      "metadata": {
        "id": "ZimF9ays5C6k",
        "colab_type": "code",
        "colab": {}
      },
      "source": [
        "def clean_data(text):\n",
        "    text = re.sub(r'\\<[^>]*\\>', '', text)\n",
        "    text = re.sub(r'\\\\n', ' ', text)\n",
        "    text = re.sub(r'&[a-z]{0,7};', ' ', text)\n",
        "    text = re.sub(r'\\s{2,10}', ' ', text)\n",
        "    text = re.sub(r'\\s{2,10}', ' ', text)\n",
        "    text = re.sub(r\"\\\\'\", r\"'\", text)\n",
        "    text = re.sub(r'\\\\x\\d{1,4}', '', text)\n",
        "    return text"
      ],
      "execution_count": 0,
      "outputs": []
    },
    {
      "cell_type": "code",
      "metadata": {
        "id": "iOQRxz-u-2-J",
        "colab_type": "code",
        "colab": {}
      },
      "source": [
        "df = pd.read_csv('/content/drive/My Drive/dpl_dataset.csv')\n",
        "fakes = df[df['label']=='fake']\n",
        "reals = df[df['label']=='real']\n",
        "\n",
        "reals.reset_index(drop=True, inplace=True)"
      ],
      "execution_count": 0,
      "outputs": []
    },
    {
      "cell_type": "markdown",
      "metadata": {
        "id": "LlNDB2wiMiY7",
        "colab_type": "text"
      },
      "source": [
        "# Sentence Level"
      ]
    },
    {
      "cell_type": "code",
      "metadata": {
        "id": "YT87YHSd7fHg",
        "colab_type": "code",
        "outputId": "46242bb1-a989-4e51-c672-3e864583c20e",
        "colab": {
          "base_uri": "https://localhost:8080/",
          "height": 34
        }
      },
      "source": [
        "# drop all that is less than 2 sentences\n",
        "ids_fdrop = [ind  for ind, el in enumerate(list(fakes['text'])) if len(tokenize.sent_tokenize(el))<2]\n",
        "ids_rdrop = [ind  for ind, el in  enumerate(list(reals['text'])) if len(tokenize.sent_tokenize(el))<2]\n",
        "ids_drop = list(set(ids_fdrop + ids_rdrop))\n",
        "len(ids_drop)"
      ],
      "execution_count": 6,
      "outputs": [
        {
          "output_type": "execute_result",
          "data": {
            "text/plain": [
              "6447"
            ]
          },
          "metadata": {
            "tags": []
          },
          "execution_count": 6
        }
      ]
    },
    {
      "cell_type": "code",
      "metadata": {
        "id": "WX7hJCH-DpvV",
        "colab_type": "code",
        "outputId": "ca781078-8986-474c-961a-9d22c8a2b5a4",
        "colab": {
          "base_uri": "https://localhost:8080/",
          "height": 34
        }
      },
      "source": [
        "len(ids_fdrop), len(ids_rdrop)"
      ],
      "execution_count": 7,
      "outputs": [
        {
          "output_type": "execute_result",
          "data": {
            "text/plain": [
              "(6444, 4)"
            ]
          },
          "metadata": {
            "tags": []
          },
          "execution_count": 7
        }
      ]
    },
    {
      "cell_type": "code",
      "metadata": {
        "id": "LmIwJdmU_8VE",
        "colab_type": "code",
        "colab": {}
      },
      "source": [
        "fakes.drop(np.array(ids_drop), inplace=True)\n",
        "reals.drop(np.array(ids_drop), inplace=True)\n",
        "fakes.reset_index(drop=True, inplace=True)\n",
        "reals.reset_index(drop=True, inplace=True)"
      ],
      "execution_count": 0,
      "outputs": []
    },
    {
      "cell_type": "code",
      "metadata": {
        "id": "VnST59o18IId",
        "colab_type": "code",
        "outputId": "80a438fb-55b3-4270-83bc-04c8ec6ac159",
        "colab": {
          "base_uri": "https://localhost:8080/",
          "height": 34
        }
      },
      "source": [
        "fakes.shape, reals.shape"
      ],
      "execution_count": 9,
      "outputs": [
        {
          "output_type": "execute_result",
          "data": {
            "text/plain": [
              "((273553, 3), (273553, 3))"
            ]
          },
          "metadata": {
            "tags": []
          },
          "execution_count": 9
        }
      ]
    },
    {
      "cell_type": "code",
      "metadata": {
        "id": "f47XzWkkCsHp",
        "colab_type": "code",
        "outputId": "b9a72042-d861-4d96-dd16-cf75fd814137",
        "colab": {
          "base_uri": "https://localhost:8080/",
          "height": 218
        }
      },
      "source": [
        "fakes.head(), reals.head()"
      ],
      "execution_count": 10,
      "outputs": [
        {
          "output_type": "execute_result",
          "data": {
            "text/plain": [
              "(                                                text label     sampling\n",
              " 0  HAMBURG, Germany, June 3  As he left the socc...  fake  temperature\n",
              " 1  WASHINGTON, Dec. 23 - The National Security Ag...  fake  temperature\n",
              " 2  IF outsized executive pay has indeed become a ...  fake  temperature\n",
              " 3  BY A.J. Miller, Jr.  The three men will make t...  fake  temperature\n",
              " 4  Spinach has terrorized generations of veggie-p...  fake  temperature,\n",
              "                                                 text label     sampling\n",
              " 0  HAMBURG, Germany, June 3  As he left the socc...  real  No sampling\n",
              " 1  WASHINGTON, Dec. 23 - The National Security Ag...  real  No sampling\n",
              " 2  IF outsized executive pay has indeed become a ...  real  No sampling\n",
              " 3  BY A.J. BENZA & MICHAEL LEWITTES If Simon Rex ...  real  No sampling\n",
              " 4  Spinach has terrorized generations of veggie-p...  real  No sampling)"
            ]
          },
          "metadata": {
            "tags": []
          },
          "execution_count": 10
        }
      ]
    },
    {
      "cell_type": "code",
      "metadata": {
        "id": "3hBNfUOXCvn0",
        "colab_type": "code",
        "outputId": "448ce171-a165-4233-eba1-e51916c740cd",
        "colab": {
          "base_uri": "https://localhost:8080/",
          "height": 218
        }
      },
      "source": [
        "fakes.tail(), reals.tail()"
      ],
      "execution_count": 11,
      "outputs": [
        {
          "output_type": "execute_result",
          "data": {
            "text/plain": [
              "(                                                     text label     sampling\n",
              " 273548  Governor Romney’s release of his final 2011 ta...  fake  temperature\n",
              " 273549  Republican presidential candidate Mitt Romney ...  fake  temperature\n",
              " 273550  Although it has been championed as a potential...  fake  temperature\n",
              " 273551  It’s the season for stress. And this season wi...  fake  temperature\n",
              " 273552  A prehistoric tooth with a cavity filled by be...  fake  temperature,\n",
              "                                                      text label     sampling\n",
              " 273548  Governor Romney’s release of his final 2011 ta...  real  No sampling\n",
              " 273549  Republican presidential candidate Mitt Romney ...  real  No sampling\n",
              " 273550  Although it has been championed as a potential...  real  No sampling\n",
              " 273551  It’s the season for stress. Blame back-to-the-...  real  No sampling\n",
              " 273552  A prehistoric tooth with a cavity filled by be...  real  No sampling)"
            ]
          },
          "metadata": {
            "tags": []
          },
          "execution_count": 11
        }
      ]
    },
    {
      "cell_type": "code",
      "metadata": {
        "id": "3raeCt_VHMYv",
        "colab_type": "code",
        "colab": {}
      },
      "source": [
        "# save only first two sentences\n",
        "\n",
        "fakes['text'] = fakes['text'].apply(lambda x: ' '.join(tokenize.sent_tokenize(x)[:2]))\n",
        "reals['text'] = reals['text'].apply(lambda x: ' '.join(tokenize.sent_tokenize(x)[:2]))"
      ],
      "execution_count": 0,
      "outputs": []
    },
    {
      "cell_type": "code",
      "metadata": {
        "id": "O14QKkHtLxTm",
        "colab_type": "code",
        "outputId": "aa70aca9-c1c4-40de-9175-f4efcb78e64a",
        "colab": {
          "base_uri": "https://localhost:8080/",
          "height": 218
        }
      },
      "source": [
        "fakes.head(), reals.head()"
      ],
      "execution_count": 13,
      "outputs": [
        {
          "output_type": "execute_result",
          "data": {
            "text/plain": [
              "(                                                text label     sampling\n",
              " 0  HAMBURG, Germany, June 3  As he left the socc...  fake  temperature\n",
              " 1  WASHINGTON, Dec. 23 - The National Security Ag...  fake  temperature\n",
              " 2  IF outsized executive pay has indeed become a ...  fake  temperature\n",
              " 3                                BY A.J. Miller, Jr.  fake  temperature\n",
              " 4  Spinach has terrorized generations of veggie-p...  fake  temperature,\n",
              "                                                 text label     sampling\n",
              " 0  HAMBURG, Germany, June 3  As he left the socc...  real  No sampling\n",
              " 1  WASHINGTON, Dec. 23 - The National Security Ag...  real  No sampling\n",
              " 2  IF outsized executive pay has indeed become a ...  real  No sampling\n",
              " 3  BY A.J. BENZA & MICHAEL LEWITTES If Simon Rex ...  real  No sampling\n",
              " 4  Spinach has terrorized generations of veggie-p...  real  No sampling)"
            ]
          },
          "metadata": {
            "tags": []
          },
          "execution_count": 13
        }
      ]
    },
    {
      "cell_type": "code",
      "metadata": {
        "id": "puj2WpIZM3Xp",
        "colab_type": "code",
        "outputId": "f0989943-f9a2-4c15-a4b0-acd51fd1663b",
        "colab": {
          "base_uri": "https://localhost:8080/",
          "height": 34
        }
      },
      "source": [
        "ids_fdrop = [ind  for ind, el in enumerate(list(fakes['text'])) if len(tokenize.sent_tokenize(el))>2]\n",
        "ids_rdrop = [ind  for ind, el in  enumerate(list(reals['text'])) if len(tokenize.sent_tokenize(el))>2]\n",
        "ids_drop = list(set(ids_fdrop + ids_rdrop))\n",
        "len(ids_drop)"
      ],
      "execution_count": 14,
      "outputs": [
        {
          "output_type": "execute_result",
          "data": {
            "text/plain": [
              "1144"
            ]
          },
          "metadata": {
            "tags": []
          },
          "execution_count": 14
        }
      ]
    },
    {
      "cell_type": "code",
      "metadata": {
        "id": "B-S03UA7OGDm",
        "colab_type": "code",
        "colab": {}
      },
      "source": [
        "fakes.drop(np.array(ids_drop), inplace=True)\n",
        "reals.drop(np.array(ids_drop), inplace=True)\n",
        "fakes.reset_index(drop=True, inplace=True)\n",
        "reals.reset_index(drop=True, inplace=True)"
      ],
      "execution_count": 0,
      "outputs": []
    },
    {
      "cell_type": "code",
      "metadata": {
        "id": "r7ZVwIbnOJf_",
        "colab_type": "code",
        "outputId": "959dcfbc-6645-40fd-d83c-c56204305768",
        "colab": {
          "base_uri": "https://localhost:8080/",
          "height": 218
        }
      },
      "source": [
        "fakes.head(), reals.head()"
      ],
      "execution_count": 16,
      "outputs": [
        {
          "output_type": "execute_result",
          "data": {
            "text/plain": [
              "(                                                text label     sampling\n",
              " 0  HAMBURG, Germany, June 3  As he left the socc...  fake  temperature\n",
              " 1  WASHINGTON, Dec. 23 - The National Security Ag...  fake  temperature\n",
              " 2  IF outsized executive pay has indeed become a ...  fake  temperature\n",
              " 3                                BY A.J. Miller, Jr.  fake  temperature\n",
              " 4  Spinach has terrorized generations of veggie-p...  fake  temperature,\n",
              "                                                 text label     sampling\n",
              " 0  HAMBURG, Germany, June 3  As he left the socc...  real  No sampling\n",
              " 1  WASHINGTON, Dec. 23 - The National Security Ag...  real  No sampling\n",
              " 2  IF outsized executive pay has indeed become a ...  real  No sampling\n",
              " 3  BY A.J. BENZA & MICHAEL LEWITTES If Simon Rex ...  real  No sampling\n",
              " 4  Spinach has terrorized generations of veggie-p...  real  No sampling)"
            ]
          },
          "metadata": {
            "tags": []
          },
          "execution_count": 16
        }
      ]
    },
    {
      "cell_type": "code",
      "metadata": {
        "id": "MwzmJdMZOKmk",
        "colab_type": "code",
        "outputId": "6b914fc1-da6a-4f9b-8a6e-d7ed03a59e53",
        "colab": {
          "base_uri": "https://localhost:8080/",
          "height": 218
        }
      },
      "source": [
        "fakes.tail(), reals.tail()"
      ],
      "execution_count": 17,
      "outputs": [
        {
          "output_type": "execute_result",
          "data": {
            "text/plain": [
              "(                                                     text label     sampling\n",
              " 272404  Governor Romney’s release of his final 2011 ta...  fake  temperature\n",
              " 272405  Republican presidential candidate Mitt Romney ...  fake  temperature\n",
              " 272406  Although it has been championed as a potential...  fake  temperature\n",
              " 272407  It’s the season for stress. And this season wi...  fake  temperature\n",
              " 272408  A prehistoric tooth with a cavity filled by be...  fake  temperature,\n",
              "                                                      text label     sampling\n",
              " 272404  Governor Romney’s release of his final 2011 ta...  real  No sampling\n",
              " 272405  Republican presidential candidate Mitt Romney ...  real  No sampling\n",
              " 272406  Although it has been championed as a potential...  real  No sampling\n",
              " 272407  It’s the season for stress. Blame back-to-the-...  real  No sampling\n",
              " 272408  A prehistoric tooth with a cavity filled by be...  real  No sampling)"
            ]
          },
          "metadata": {
            "tags": []
          },
          "execution_count": 17
        }
      ]
    },
    {
      "cell_type": "code",
      "metadata": {
        "id": "vUbjcDMsJuuL",
        "colab_type": "code",
        "outputId": "db22cc6c-e9d7-4167-9173-4a00ae0cfe68",
        "colab": {
          "base_uri": "https://localhost:8080/",
          "height": 34
        }
      },
      "source": [
        "f = 0\n",
        "for el in list(fakes['text']):\n",
        "    if len(tokenize.sent_tokenize(el)) > 2:\n",
        "        f +=1\n",
        "r =0\n",
        "for el in list(reals['text']):\n",
        "    if len(tokenize.sent_tokenize(el)) > 2:\n",
        "        r +=1\n",
        "f, r"
      ],
      "execution_count": 18,
      "outputs": [
        {
          "output_type": "execute_result",
          "data": {
            "text/plain": [
              "(0, 0)"
            ]
          },
          "metadata": {
            "tags": []
          },
          "execution_count": 18
        }
      ]
    },
    {
      "cell_type": "markdown",
      "metadata": {
        "id": "tHGJcltvQiYX",
        "colab_type": "text"
      },
      "source": [
        "# Drop duplicates"
      ]
    },
    {
      "cell_type": "code",
      "metadata": {
        "id": "TAKBV-UumDwl",
        "colab_type": "code",
        "outputId": "9dcc8932-ff8b-4273-e151-bac608367f9e",
        "colab": {
          "base_uri": "https://localhost:8080/",
          "height": 185
        }
      },
      "source": [
        "fakes.describe(), reals.describe()"
      ],
      "execution_count": 19,
      "outputs": [
        {
          "output_type": "execute_result",
          "data": {
            "text/plain": [
              "(                                                     text   label     sampling\n",
              " count                                              272409  272409       272409\n",
              " unique                                             272087       1            4\n",
              " top     Before you go, we thought you'd like these... ...    fake  temperature\n",
              " freq                                                   66  272409       108133,\n",
              "                                                      text   label     sampling\n",
              " count                                              272409  272409       272409\n",
              " unique                                             258627       1            1\n",
              " top     This post is in partnership with Time. The art...    real  No sampling\n",
              " freq                                                  139  272409       272409)"
            ]
          },
          "metadata": {
            "tags": []
          },
          "execution_count": 19
        }
      ]
    },
    {
      "cell_type": "code",
      "metadata": {
        "id": "rsfc6MjvmHJY",
        "colab_type": "code",
        "outputId": "b7b6cbdc-9337-49ba-f69c-7b76e523e6f1",
        "colab": {
          "base_uri": "https://localhost:8080/",
          "height": 34
        }
      },
      "source": [
        "fakes.shape, reals.shape"
      ],
      "execution_count": 20,
      "outputs": [
        {
          "output_type": "execute_result",
          "data": {
            "text/plain": [
              "((272409, 3), (272409, 3))"
            ]
          },
          "metadata": {
            "tags": []
          },
          "execution_count": 20
        }
      ]
    },
    {
      "cell_type": "code",
      "metadata": {
        "id": "4BvjrOsRoUTx",
        "colab_type": "code",
        "colab": {}
      },
      "source": [
        "fakes_clean = fakes.drop_duplicates(inplace=False)\n",
        "reals_clean = reals.drop_duplicates(inplace=False)"
      ],
      "execution_count": 0,
      "outputs": []
    },
    {
      "cell_type": "code",
      "metadata": {
        "id": "-V7DiGzloULN",
        "colab_type": "code",
        "outputId": "e9711883-06c9-4fca-ba5a-68c9130f3e59",
        "colab": {
          "base_uri": "https://localhost:8080/",
          "height": 34
        }
      },
      "source": [
        "fakes_clean.shape, fakes.shape, reals_clean.shape, reals.shape"
      ],
      "execution_count": 22,
      "outputs": [
        {
          "output_type": "execute_result",
          "data": {
            "text/plain": [
              "((272105, 3), (272409, 3), (258627, 3), (272409, 3))"
            ]
          },
          "metadata": {
            "tags": []
          },
          "execution_count": 22
        }
      ]
    },
    {
      "cell_type": "code",
      "metadata": {
        "id": "LhAO7xVmoT-d",
        "colab_type": "code",
        "outputId": "253576b8-3a0f-441a-e3d2-e4fc4de82ca5",
        "colab": {
          "base_uri": "https://localhost:8080/",
          "height": 34
        }
      },
      "source": [
        "ids_fdrop = [ind for ind in fakes.index if ind not in fakes_clean.index]\n",
        "ids_rdrop = [ind for ind in reals.index if ind not in reals_clean.index]\n",
        "ids_drop = list(set(ids_fdrop + ids_rdrop))\n",
        "len(ids_drop)"
      ],
      "execution_count": 23,
      "outputs": [
        {
          "output_type": "execute_result",
          "data": {
            "text/plain": [
              "13961"
            ]
          },
          "metadata": {
            "tags": []
          },
          "execution_count": 23
        }
      ]
    },
    {
      "cell_type": "code",
      "metadata": {
        "id": "kE3owCL4rFBT",
        "colab_type": "code",
        "colab": {}
      },
      "source": [
        "fakes.drop(np.array(ids_drop), inplace=True)\n",
        "reals.drop(np.array(ids_drop), inplace=True)\n",
        "fakes.reset_index(drop=True, inplace=True)\n",
        "reals.reset_index(drop=True, inplace=True)"
      ],
      "execution_count": 0,
      "outputs": []
    },
    {
      "cell_type": "code",
      "metadata": {
        "id": "rOI3Wpk1rHSt",
        "colab_type": "code",
        "outputId": "8fa35258-e5f4-418f-8745-4154feecafe4",
        "colab": {
          "base_uri": "https://localhost:8080/",
          "height": 218
        }
      },
      "source": [
        "fakes.head(), reals.head()"
      ],
      "execution_count": 25,
      "outputs": [
        {
          "output_type": "execute_result",
          "data": {
            "text/plain": [
              "(                                                text label     sampling\n",
              " 0  HAMBURG, Germany, June 3  As he left the socc...  fake  temperature\n",
              " 1  WASHINGTON, Dec. 23 - The National Security Ag...  fake  temperature\n",
              " 2  IF outsized executive pay has indeed become a ...  fake  temperature\n",
              " 3                                BY A.J. Miller, Jr.  fake  temperature\n",
              " 4  Spinach has terrorized generations of veggie-p...  fake  temperature,\n",
              "                                                 text label     sampling\n",
              " 0  HAMBURG, Germany, June 3  As he left the socc...  real  No sampling\n",
              " 1  WASHINGTON, Dec. 23 - The National Security Ag...  real  No sampling\n",
              " 2  IF outsized executive pay has indeed become a ...  real  No sampling\n",
              " 3  BY A.J. BENZA & MICHAEL LEWITTES If Simon Rex ...  real  No sampling\n",
              " 4  Spinach has terrorized generations of veggie-p...  real  No sampling)"
            ]
          },
          "metadata": {
            "tags": []
          },
          "execution_count": 25
        }
      ]
    },
    {
      "cell_type": "code",
      "metadata": {
        "id": "BK0O2p0vrLyw",
        "colab_type": "code",
        "outputId": "2cc0d759-ebff-428e-a826-62bc202543a2",
        "colab": {
          "base_uri": "https://localhost:8080/",
          "height": 218
        }
      },
      "source": [
        "fakes.tail(), reals.tail()"
      ],
      "execution_count": 26,
      "outputs": [
        {
          "output_type": "execute_result",
          "data": {
            "text/plain": [
              "(                                                     text label     sampling\n",
              " 258443  Governor Romney’s release of his final 2011 ta...  fake  temperature\n",
              " 258444  Republican presidential candidate Mitt Romney ...  fake  temperature\n",
              " 258445  Although it has been championed as a potential...  fake  temperature\n",
              " 258446  It’s the season for stress. And this season wi...  fake  temperature\n",
              " 258447  A prehistoric tooth with a cavity filled by be...  fake  temperature,\n",
              "                                                      text label     sampling\n",
              " 258443  Governor Romney’s release of his final 2011 ta...  real  No sampling\n",
              " 258444  Republican presidential candidate Mitt Romney ...  real  No sampling\n",
              " 258445  Although it has been championed as a potential...  real  No sampling\n",
              " 258446  It’s the season for stress. Blame back-to-the-...  real  No sampling\n",
              " 258447  A prehistoric tooth with a cavity filled by be...  real  No sampling)"
            ]
          },
          "metadata": {
            "tags": []
          },
          "execution_count": 26
        }
      ]
    },
    {
      "cell_type": "code",
      "metadata": {
        "id": "RcI4t70RrX_V",
        "colab_type": "code",
        "outputId": "59f4fbf1-481a-48c5-db9c-76f76b19421c",
        "colab": {
          "base_uri": "https://localhost:8080/",
          "height": 166
        }
      },
      "source": [
        "fakes.describe()"
      ],
      "execution_count": 27,
      "outputs": [
        {
          "output_type": "execute_result",
          "data": {
            "text/html": [
              "<div>\n",
              "<style scoped>\n",
              "    .dataframe tbody tr th:only-of-type {\n",
              "        vertical-align: middle;\n",
              "    }\n",
              "\n",
              "    .dataframe tbody tr th {\n",
              "        vertical-align: top;\n",
              "    }\n",
              "\n",
              "    .dataframe thead th {\n",
              "        text-align: right;\n",
              "    }\n",
              "</style>\n",
              "<table border=\"1\" class=\"dataframe\">\n",
              "  <thead>\n",
              "    <tr style=\"text-align: right;\">\n",
              "      <th></th>\n",
              "      <th>text</th>\n",
              "      <th>label</th>\n",
              "      <th>sampling</th>\n",
              "    </tr>\n",
              "  </thead>\n",
              "  <tbody>\n",
              "    <tr>\n",
              "      <th>count</th>\n",
              "      <td>258448</td>\n",
              "      <td>258448</td>\n",
              "      <td>258448</td>\n",
              "    </tr>\n",
              "    <tr>\n",
              "      <th>unique</th>\n",
              "      <td>258444</td>\n",
              "      <td>1</td>\n",
              "      <td>4</td>\n",
              "    </tr>\n",
              "    <tr>\n",
              "      <th>top</th>\n",
              "      <td>Republican Gov. Bobby Jindal (R-La.)</td>\n",
              "      <td>fake</td>\n",
              "      <td>temperature</td>\n",
              "    </tr>\n",
              "    <tr>\n",
              "      <th>freq</th>\n",
              "      <td>2</td>\n",
              "      <td>258448</td>\n",
              "      <td>98408</td>\n",
              "    </tr>\n",
              "  </tbody>\n",
              "</table>\n",
              "</div>"
            ],
            "text/plain": [
              "                                        text   label     sampling\n",
              "count                                 258448  258448       258448\n",
              "unique                                258444       1            4\n",
              "top     Republican Gov. Bobby Jindal (R-La.)    fake  temperature\n",
              "freq                                       2  258448        98408"
            ]
          },
          "metadata": {
            "tags": []
          },
          "execution_count": 27
        }
      ]
    },
    {
      "cell_type": "code",
      "metadata": {
        "id": "GUS_cQkhrfTM",
        "colab_type": "code",
        "outputId": "03b7a809-372d-4ae9-b282-f3164e24c374",
        "colab": {
          "base_uri": "https://localhost:8080/",
          "height": 166
        }
      },
      "source": [
        "reals.describe()"
      ],
      "execution_count": 28,
      "outputs": [
        {
          "output_type": "execute_result",
          "data": {
            "text/html": [
              "<div>\n",
              "<style scoped>\n",
              "    .dataframe tbody tr th:only-of-type {\n",
              "        vertical-align: middle;\n",
              "    }\n",
              "\n",
              "    .dataframe tbody tr th {\n",
              "        vertical-align: top;\n",
              "    }\n",
              "\n",
              "    .dataframe thead th {\n",
              "        text-align: right;\n",
              "    }\n",
              "</style>\n",
              "<table border=\"1\" class=\"dataframe\">\n",
              "  <thead>\n",
              "    <tr style=\"text-align: right;\">\n",
              "      <th></th>\n",
              "      <th>text</th>\n",
              "      <th>label</th>\n",
              "      <th>sampling</th>\n",
              "    </tr>\n",
              "  </thead>\n",
              "  <tbody>\n",
              "    <tr>\n",
              "      <th>count</th>\n",
              "      <td>258448</td>\n",
              "      <td>258448</td>\n",
              "      <td>258448</td>\n",
              "    </tr>\n",
              "    <tr>\n",
              "      <th>unique</th>\n",
              "      <td>258448</td>\n",
              "      <td>1</td>\n",
              "      <td>1</td>\n",
              "    </tr>\n",
              "    <tr>\n",
              "      <th>top</th>\n",
              "      <td>Electricity prices for Greater Boston resident...</td>\n",
              "      <td>real</td>\n",
              "      <td>No sampling</td>\n",
              "    </tr>\n",
              "    <tr>\n",
              "      <th>freq</th>\n",
              "      <td>1</td>\n",
              "      <td>258448</td>\n",
              "      <td>258448</td>\n",
              "    </tr>\n",
              "  </tbody>\n",
              "</table>\n",
              "</div>"
            ],
            "text/plain": [
              "                                                     text   label     sampling\n",
              "count                                              258448  258448       258448\n",
              "unique                                             258448       1            1\n",
              "top     Electricity prices for Greater Boston resident...    real  No sampling\n",
              "freq                                                    1  258448       258448"
            ]
          },
          "metadata": {
            "tags": []
          },
          "execution_count": 28
        }
      ]
    },
    {
      "cell_type": "markdown",
      "metadata": {
        "id": "r7stqwLzUnT6",
        "colab_type": "text"
      },
      "source": [
        "# Counter"
      ]
    },
    {
      "cell_type": "code",
      "metadata": {
        "id": "hr8miT2kUtpj",
        "colab_type": "code",
        "colab": {}
      },
      "source": [
        "fakes_tokens = fakes['text'].apply(lambda x: x.split(' '))\n",
        "reals_tokens = reals['text'].apply(lambda x: x.split(' '))\n",
        "\n",
        "fake_split = Counter(x for xs in fakes_tokens for x in set(xs))\n",
        "real_split = Counter(x for xs in reals_tokens for x in set(xs))"
      ],
      "execution_count": 0,
      "outputs": []
    },
    {
      "cell_type": "code",
      "metadata": {
        "id": "RKHZV8FBVIus",
        "colab_type": "code",
        "outputId": "2cb8ff86-81de-4e0b-8ca1-0c8d7318d5ce",
        "colab": {
          "base_uri": "https://localhost:8080/",
          "height": 689
        }
      },
      "source": [
        "fake_split.most_common(20), real_split.most_common(20)"
      ],
      "execution_count": 30,
      "outputs": [
        {
          "output_type": "execute_result",
          "data": {
            "text/plain": [
              "([('the', 211199),\n",
              "  ('a', 174125),\n",
              "  ('of', 165653),\n",
              "  ('to', 161978),\n",
              "  ('in', 149803),\n",
              "  ('and', 146770),\n",
              "  ('on', 91301),\n",
              "  ('for', 89976),\n",
              "  ('The', 88568),\n",
              "  ('is', 86219),\n",
              "  ('that', 84749),\n",
              "  ('with', 66460),\n",
              "  ('at', 64260),\n",
              "  ('was', 57377),\n",
              "  ('has', 57337),\n",
              "  ('as', 51121),\n",
              "  ('by', 49371),\n",
              "  ('from', 48747),\n",
              "  ('an', 48135),\n",
              "  ('it', 42589)],\n",
              " [('the', 219852),\n",
              "  ('a', 176626),\n",
              "  ('of', 174583),\n",
              "  ('to', 165496),\n",
              "  ('and', 156775),\n",
              "  ('in', 156152),\n",
              "  ('on', 96010),\n",
              "  ('for', 89757),\n",
              "  ('is', 80363),\n",
              "  ('that', 77858),\n",
              "  ('The', 76510),\n",
              "  ('with', 65523),\n",
              "  ('at', 62086),\n",
              "  ('has', 55358),\n",
              "  ('was', 53371),\n",
              "  ('as', 49431),\n",
              "  ('from', 49031),\n",
              "  ('by', 47992),\n",
              "  ('an', 45679),\n",
              "  ('his', 40588)])"
            ]
          },
          "metadata": {
            "tags": []
          },
          "execution_count": 30
        }
      ]
    },
    {
      "cell_type": "markdown",
      "metadata": {
        "id": "KS33XPehLjJy",
        "colab_type": "text"
      },
      "source": [
        "# Save samplings datasets"
      ]
    },
    {
      "cell_type": "code",
      "metadata": {
        "id": "-t_9zaS4OC_b",
        "colab_type": "code",
        "colab": {
          "base_uri": "https://localhost:8080/",
          "height": 84
        },
        "outputId": "35c23dce-11c2-41bd-b9fc-69a9578b50b4"
      },
      "source": [
        "samplings = fakes['sampling'].unique()\n",
        "\n",
        "for sampling in samplings:\n",
        "    \n",
        "    fake_sampl = fakes[fakes['sampling']==sampling]\n",
        "    real_sampl = reals.iloc[fake_sampl.index]\n",
        "    assert real_sampl.shape == fake_sampl.shape, 'Different lenths of real and fake samplings'\n",
        "\n",
        "    df_sampl = pd.concat([fake_sampl, real_sampl], axis=0)\n",
        "    df_sampl = shuffle(df_sampl)\n",
        "    df_sampl.reset_index(drop=True, inplace=True)\n",
        "    \n",
        "    df_sampl.to_csv('/content/drive/My Drive/data/sampling_{}.csv'.format(sampling), index=False)\n",
        "    print('{} texts for {} sampling type were saved in sampling_{}.csv'.format(df_sampl.shape[0], sampling, sampling))"
      ],
      "execution_count": 44,
      "outputs": [
        {
          "output_type": "stream",
          "text": [
            "196816 texts for temperature sampling type were saved in sampling_temperature.csv\n",
            "148052 texts for top_k sampling type were saved in sampling_top_k.csv\n",
            "116960 texts for nucleus sampling type were saved in sampling_nucleus.csv\n",
            "55068 texts for argmax sampling type were saved in sampling_argmax.csv\n"
          ],
          "name": "stdout"
        }
      ]
    },
    {
      "cell_type": "markdown",
      "metadata": {
        "id": "exm1oThbaqr2",
        "colab_type": "text"
      },
      "source": [
        "# Shuffle and save"
      ]
    },
    {
      "cell_type": "code",
      "metadata": {
        "id": "jm26Iedn0CtR",
        "colab_type": "code",
        "colab": {}
      },
      "source": [
        "df = pd.concat([fakes, reals], axis=0)\n",
        "df.reset_index(drop=True, inplace=True)"
      ],
      "execution_count": 0,
      "outputs": []
    },
    {
      "cell_type": "code",
      "metadata": {
        "id": "UNUODZnPasc5",
        "colab_type": "code",
        "outputId": "24b0c623-5bb8-45ab-a471-2506bb74494f",
        "colab": {
          "base_uri": "https://localhost:8080/",
          "height": 195
        }
      },
      "source": [
        "df.head()"
      ],
      "execution_count": 0,
      "outputs": [
        {
          "output_type": "execute_result",
          "data": {
            "text/html": [
              "<div>\n",
              "<style scoped>\n",
              "    .dataframe tbody tr th:only-of-type {\n",
              "        vertical-align: middle;\n",
              "    }\n",
              "\n",
              "    .dataframe tbody tr th {\n",
              "        vertical-align: top;\n",
              "    }\n",
              "\n",
              "    .dataframe thead th {\n",
              "        text-align: right;\n",
              "    }\n",
              "</style>\n",
              "<table border=\"1\" class=\"dataframe\">\n",
              "  <thead>\n",
              "    <tr style=\"text-align: right;\">\n",
              "      <th></th>\n",
              "      <th>text</th>\n",
              "      <th>label</th>\n",
              "      <th>sampling</th>\n",
              "    </tr>\n",
              "  </thead>\n",
              "  <tbody>\n",
              "    <tr>\n",
              "      <th>0</th>\n",
              "      <td>HAMBURG, Germany, June 3  As he left the socc...</td>\n",
              "      <td>fake</td>\n",
              "      <td>temperature</td>\n",
              "    </tr>\n",
              "    <tr>\n",
              "      <th>1</th>\n",
              "      <td>WASHINGTON, Dec. 23 - The National Security Ag...</td>\n",
              "      <td>fake</td>\n",
              "      <td>temperature</td>\n",
              "    </tr>\n",
              "    <tr>\n",
              "      <th>2</th>\n",
              "      <td>IF outsized executive pay has indeed become a ...</td>\n",
              "      <td>fake</td>\n",
              "      <td>temperature</td>\n",
              "    </tr>\n",
              "    <tr>\n",
              "      <th>3</th>\n",
              "      <td>BY A.J. Miller, Jr.</td>\n",
              "      <td>fake</td>\n",
              "      <td>temperature</td>\n",
              "    </tr>\n",
              "    <tr>\n",
              "      <th>4</th>\n",
              "      <td>Spinach has terrorized generations of veggie-p...</td>\n",
              "      <td>fake</td>\n",
              "      <td>temperature</td>\n",
              "    </tr>\n",
              "  </tbody>\n",
              "</table>\n",
              "</div>"
            ],
            "text/plain": [
              "                                                text label     sampling\n",
              "0  HAMBURG, Germany, June 3  As he left the socc...  fake  temperature\n",
              "1  WASHINGTON, Dec. 23 - The National Security Ag...  fake  temperature\n",
              "2  IF outsized executive pay has indeed become a ...  fake  temperature\n",
              "3                                BY A.J. Miller, Jr.  fake  temperature\n",
              "4  Spinach has terrorized generations of veggie-p...  fake  temperature"
            ]
          },
          "metadata": {
            "tags": []
          },
          "execution_count": 198
        }
      ]
    },
    {
      "cell_type": "code",
      "metadata": {
        "id": "GYNPWod7avOh",
        "colab_type": "code",
        "outputId": "3cc62307-9e16-426d-d551-32384ddcfa07",
        "colab": {
          "base_uri": "https://localhost:8080/",
          "height": 195
        }
      },
      "source": [
        "df.tail()"
      ],
      "execution_count": 0,
      "outputs": [
        {
          "output_type": "execute_result",
          "data": {
            "text/html": [
              "<div>\n",
              "<style scoped>\n",
              "    .dataframe tbody tr th:only-of-type {\n",
              "        vertical-align: middle;\n",
              "    }\n",
              "\n",
              "    .dataframe tbody tr th {\n",
              "        vertical-align: top;\n",
              "    }\n",
              "\n",
              "    .dataframe thead th {\n",
              "        text-align: right;\n",
              "    }\n",
              "</style>\n",
              "<table border=\"1\" class=\"dataframe\">\n",
              "  <thead>\n",
              "    <tr style=\"text-align: right;\">\n",
              "      <th></th>\n",
              "      <th>text</th>\n",
              "      <th>label</th>\n",
              "      <th>sampling</th>\n",
              "    </tr>\n",
              "  </thead>\n",
              "  <tbody>\n",
              "    <tr>\n",
              "      <th>483197</th>\n",
              "      <td>With a bit of hardware, your iPhone can become...</td>\n",
              "      <td>real</td>\n",
              "      <td>No sampling</td>\n",
              "    </tr>\n",
              "    <tr>\n",
              "      <th>483198</th>\n",
              "      <td>The Centers for Disease Control and Prevention...</td>\n",
              "      <td>real</td>\n",
              "      <td>No sampling</td>\n",
              "    </tr>\n",
              "    <tr>\n",
              "      <th>483199</th>\n",
              "      <td>The number of new HIV infections in the United...</td>\n",
              "      <td>real</td>\n",
              "      <td>No sampling</td>\n",
              "    </tr>\n",
              "    <tr>\n",
              "      <th>483200</th>\n",
              "      <td>AT&amp;T says the throttling will only be temporar...</td>\n",
              "      <td>real</td>\n",
              "      <td>No sampling</td>\n",
              "    </tr>\n",
              "    <tr>\n",
              "      <th>483201</th>\n",
              "      <td>While you're frying up some eggs and bacon, we...</td>\n",
              "      <td>real</td>\n",
              "      <td>No sampling</td>\n",
              "    </tr>\n",
              "  </tbody>\n",
              "</table>\n",
              "</div>"
            ],
            "text/plain": [
              "                                                     text label     sampling\n",
              "483197  With a bit of hardware, your iPhone can become...  real  No sampling\n",
              "483198  The Centers for Disease Control and Prevention...  real  No sampling\n",
              "483199  The number of new HIV infections in the United...  real  No sampling\n",
              "483200  AT&T says the throttling will only be temporar...  real  No sampling\n",
              "483201  While you're frying up some eggs and bacon, we...  real  No sampling"
            ]
          },
          "metadata": {
            "tags": []
          },
          "execution_count": 199
        }
      ]
    },
    {
      "cell_type": "code",
      "metadata": {
        "id": "7F8n-8h6a3vG",
        "colab_type": "code",
        "colab": {}
      },
      "source": [
        "df = shuffle(df)\n",
        "df.reset_index(drop=True, inplace=True)"
      ],
      "execution_count": 0,
      "outputs": []
    },
    {
      "cell_type": "code",
      "metadata": {
        "id": "1IOqdpgVbDeM",
        "colab_type": "code",
        "outputId": "072bd9d7-c574-420a-f814-09e9e8cc3819",
        "colab": {
          "base_uri": "https://localhost:8080/",
          "height": 195
        }
      },
      "source": [
        "df.head()"
      ],
      "execution_count": 0,
      "outputs": [
        {
          "output_type": "execute_result",
          "data": {
            "text/html": [
              "<div>\n",
              "<style scoped>\n",
              "    .dataframe tbody tr th:only-of-type {\n",
              "        vertical-align: middle;\n",
              "    }\n",
              "\n",
              "    .dataframe tbody tr th {\n",
              "        vertical-align: top;\n",
              "    }\n",
              "\n",
              "    .dataframe thead th {\n",
              "        text-align: right;\n",
              "    }\n",
              "</style>\n",
              "<table border=\"1\" class=\"dataframe\">\n",
              "  <thead>\n",
              "    <tr style=\"text-align: right;\">\n",
              "      <th></th>\n",
              "      <th>text</th>\n",
              "      <th>label</th>\n",
              "      <th>sampling</th>\n",
              "    </tr>\n",
              "  </thead>\n",
              "  <tbody>\n",
              "    <tr>\n",
              "      <th>0</th>\n",
              "      <td>The police department in Green Mountain Falls,...</td>\n",
              "      <td>real</td>\n",
              "      <td>No sampling</td>\n",
              "    </tr>\n",
              "    <tr>\n",
              "      <th>1</th>\n",
              "      <td>DHAKA, Bangladesh—Islamic State militants stor...</td>\n",
              "      <td>fake</td>\n",
              "      <td>nucleus</td>\n",
              "    </tr>\n",
              "    <tr>\n",
              "      <th>2</th>\n",
              "      <td>A few minutes into her visit with plastic surg...</td>\n",
              "      <td>real</td>\n",
              "      <td>No sampling</td>\n",
              "    </tr>\n",
              "    <tr>\n",
              "      <th>3</th>\n",
              "      <td>Here is the second item from my \"Albany Inside...</td>\n",
              "      <td>real</td>\n",
              "      <td>No sampling</td>\n",
              "    </tr>\n",
              "    <tr>\n",
              "      <th>4</th>\n",
              "      <td>Reversing a long and slow stock decline, share...</td>\n",
              "      <td>real</td>\n",
              "      <td>No sampling</td>\n",
              "    </tr>\n",
              "  </tbody>\n",
              "</table>\n",
              "</div>"
            ],
            "text/plain": [
              "                                                text label     sampling\n",
              "0  The police department in Green Mountain Falls,...  real  No sampling\n",
              "1  DHAKA, Bangladesh—Islamic State militants stor...  fake      nucleus\n",
              "2  A few minutes into her visit with plastic surg...  real  No sampling\n",
              "3  Here is the second item from my \"Albany Inside...  real  No sampling\n",
              "4  Reversing a long and slow stock decline, share...  real  No sampling"
            ]
          },
          "metadata": {
            "tags": []
          },
          "execution_count": 204
        }
      ]
    },
    {
      "cell_type": "code",
      "metadata": {
        "id": "FqV2_QKCbEWi",
        "colab_type": "code",
        "outputId": "35ac4de0-ef6d-43c8-af67-c6e60b338fca",
        "colab": {
          "base_uri": "https://localhost:8080/",
          "height": 195
        }
      },
      "source": [
        "df.tail()"
      ],
      "execution_count": 0,
      "outputs": [
        {
          "output_type": "execute_result",
          "data": {
            "text/html": [
              "<div>\n",
              "<style scoped>\n",
              "    .dataframe tbody tr th:only-of-type {\n",
              "        vertical-align: middle;\n",
              "    }\n",
              "\n",
              "    .dataframe tbody tr th {\n",
              "        vertical-align: top;\n",
              "    }\n",
              "\n",
              "    .dataframe thead th {\n",
              "        text-align: right;\n",
              "    }\n",
              "</style>\n",
              "<table border=\"1\" class=\"dataframe\">\n",
              "  <thead>\n",
              "    <tr style=\"text-align: right;\">\n",
              "      <th></th>\n",
              "      <th>text</th>\n",
              "      <th>label</th>\n",
              "      <th>sampling</th>\n",
              "    </tr>\n",
              "  </thead>\n",
              "  <tbody>\n",
              "    <tr>\n",
              "      <th>483197</th>\n",
              "      <td>Before you go, we thought you'd like these... ...</td>\n",
              "      <td>real</td>\n",
              "      <td>No sampling</td>\n",
              "    </tr>\n",
              "    <tr>\n",
              "      <th>483198</th>\n",
              "      <td>(CNN) -- When Egypt's first democratically ele...</td>\n",
              "      <td>fake</td>\n",
              "      <td>top_k</td>\n",
              "    </tr>\n",
              "    <tr>\n",
              "      <th>483199</th>\n",
              "      <td>These includes incentivising German women to h...</td>\n",
              "      <td>real</td>\n",
              "      <td>No sampling</td>\n",
              "    </tr>\n",
              "    <tr>\n",
              "      <th>483200</th>\n",
              "      <td>Worshippers in ponchos of all colors held up f...</td>\n",
              "      <td>fake</td>\n",
              "      <td>top_k</td>\n",
              "    </tr>\n",
              "    <tr>\n",
              "      <th>483201</th>\n",
              "      <td>Serena Williams just won her seventh Wimbledon...</td>\n",
              "      <td>real</td>\n",
              "      <td>No sampling</td>\n",
              "    </tr>\n",
              "  </tbody>\n",
              "</table>\n",
              "</div>"
            ],
            "text/plain": [
              "                                                     text label     sampling\n",
              "483197  Before you go, we thought you'd like these... ...  real  No sampling\n",
              "483198  (CNN) -- When Egypt's first democratically ele...  fake        top_k\n",
              "483199  These includes incentivising German women to h...  real  No sampling\n",
              "483200  Worshippers in ponchos of all colors held up f...  fake        top_k\n",
              "483201  Serena Williams just won her seventh Wimbledon...  real  No sampling"
            ]
          },
          "metadata": {
            "tags": []
          },
          "execution_count": 205
        }
      ]
    },
    {
      "cell_type": "code",
      "metadata": {
        "id": "kOy0RrV3bMLX",
        "colab_type": "code",
        "colab": {}
      },
      "source": [
        "fake = list(fakes['text'])\n",
        "real = list(reals['text'])\n",
        "\n",
        "df.to_csv('/content/drive/My Drive/postpoc_dpl_dataset.csv', index=False)"
      ],
      "execution_count": 0,
      "outputs": []
    },
    {
      "cell_type": "code",
      "metadata": {
        "id": "5_EaYKKI2vj8",
        "colab_type": "code",
        "colab": {}
      },
      "source": [
        "with open('/content/drive/My Drive/fake', 'wb') as fp:\n",
        "    pickle.dump(fake, fp)\n",
        "\n",
        "with open('/content/drive/My Drive/real', 'wb') as fp:\n",
        "    pickle.dump(real, fp)"
      ],
      "execution_count": 0,
      "outputs": []
    },
    {
      "cell_type": "code",
      "metadata": {
        "id": "Ziyp0CLA2vSP",
        "colab_type": "code",
        "colab": {}
      },
      "source": [
        "# with open ('fake', 'rb') as fp:\n",
        "#     itemlist = pickle.load(fp)"
      ],
      "execution_count": 0,
      "outputs": []
    }
  ]
}