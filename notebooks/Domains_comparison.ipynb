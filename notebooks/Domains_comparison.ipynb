{
  "nbformat": 4,
  "nbformat_minor": 0,
  "metadata": {
    "colab": {
      "name": "Domains_comparison.ipynb",
      "provenance": [],
      "collapsed_sections": [],
      "machine_shape": "hm"
    },
    "kernelspec": {
      "name": "python3",
      "display_name": "Python 3"
    },
    "accelerator": "GPU",
    "widgets": {
      "application/vnd.jupyter.widget-state+json": {
        "b9b2536dfb7548d7bcf9f7668e4d4015": {
          "model_module": "@jupyter-widgets/controls",
          "model_name": "HBoxModel",
          "state": {
            "_view_name": "HBoxView",
            "_dom_classes": [],
            "_model_name": "HBoxModel",
            "_view_module": "@jupyter-widgets/controls",
            "_model_module_version": "1.5.0",
            "_view_count": null,
            "_view_module_version": "1.5.0",
            "box_style": "",
            "layout": "IPY_MODEL_36ae0db07ae34c568e2cec13147afdce",
            "_model_module": "@jupyter-widgets/controls",
            "children": [
              "IPY_MODEL_9c599faec3174ac6885e74dc5a0f024d",
              "IPY_MODEL_1c027931eb0d490aa992b30b6370f08a"
            ]
          }
        },
        "36ae0db07ae34c568e2cec13147afdce": {
          "model_module": "@jupyter-widgets/base",
          "model_name": "LayoutModel",
          "state": {
            "_view_name": "LayoutView",
            "grid_template_rows": null,
            "right": null,
            "justify_content": null,
            "_view_module": "@jupyter-widgets/base",
            "overflow": null,
            "_model_module_version": "1.2.0",
            "_view_count": null,
            "flex_flow": null,
            "width": null,
            "min_width": null,
            "border": null,
            "align_items": null,
            "bottom": null,
            "_model_module": "@jupyter-widgets/base",
            "top": null,
            "grid_column": null,
            "overflow_y": null,
            "overflow_x": null,
            "grid_auto_flow": null,
            "grid_area": null,
            "grid_template_columns": null,
            "flex": null,
            "_model_name": "LayoutModel",
            "justify_items": null,
            "grid_row": null,
            "max_height": null,
            "align_content": null,
            "visibility": null,
            "align_self": null,
            "height": null,
            "min_height": null,
            "padding": null,
            "grid_auto_rows": null,
            "grid_gap": null,
            "max_width": null,
            "order": null,
            "_view_module_version": "1.2.0",
            "grid_template_areas": null,
            "object_position": null,
            "object_fit": null,
            "grid_auto_columns": null,
            "margin": null,
            "display": null,
            "left": null
          }
        },
        "9c599faec3174ac6885e74dc5a0f024d": {
          "model_module": "@jupyter-widgets/controls",
          "model_name": "IntProgressModel",
          "state": {
            "_view_name": "ProgressView",
            "style": "IPY_MODEL_e03613bd5cea49fba06ef1b9dc18c7ca",
            "_dom_classes": [],
            "description": "Downloading: 100%",
            "_model_name": "IntProgressModel",
            "bar_style": "success",
            "max": 1042301,
            "_view_module": "@jupyter-widgets/controls",
            "_model_module_version": "1.5.0",
            "value": 1042301,
            "_view_count": null,
            "_view_module_version": "1.5.0",
            "orientation": "horizontal",
            "min": 0,
            "description_tooltip": null,
            "_model_module": "@jupyter-widgets/controls",
            "layout": "IPY_MODEL_f37ed35b3e6f4f0da9e0b8091b4f0fc6"
          }
        },
        "1c027931eb0d490aa992b30b6370f08a": {
          "model_module": "@jupyter-widgets/controls",
          "model_name": "HTMLModel",
          "state": {
            "_view_name": "HTMLView",
            "style": "IPY_MODEL_1bf09912adf1469598b5531b30ff4d39",
            "_dom_classes": [],
            "description": "",
            "_model_name": "HTMLModel",
            "placeholder": "​",
            "_view_module": "@jupyter-widgets/controls",
            "_model_module_version": "1.5.0",
            "value": " 1.04M/1.04M [00:00&lt;00:00, 1.23MB/s]",
            "_view_count": null,
            "_view_module_version": "1.5.0",
            "description_tooltip": null,
            "_model_module": "@jupyter-widgets/controls",
            "layout": "IPY_MODEL_18a3d108e7864524957a7c4c146b6c59"
          }
        },
        "e03613bd5cea49fba06ef1b9dc18c7ca": {
          "model_module": "@jupyter-widgets/controls",
          "model_name": "ProgressStyleModel",
          "state": {
            "_view_name": "StyleView",
            "_model_name": "ProgressStyleModel",
            "description_width": "initial",
            "_view_module": "@jupyter-widgets/base",
            "_model_module_version": "1.5.0",
            "_view_count": null,
            "_view_module_version": "1.2.0",
            "bar_color": null,
            "_model_module": "@jupyter-widgets/controls"
          }
        },
        "f37ed35b3e6f4f0da9e0b8091b4f0fc6": {
          "model_module": "@jupyter-widgets/base",
          "model_name": "LayoutModel",
          "state": {
            "_view_name": "LayoutView",
            "grid_template_rows": null,
            "right": null,
            "justify_content": null,
            "_view_module": "@jupyter-widgets/base",
            "overflow": null,
            "_model_module_version": "1.2.0",
            "_view_count": null,
            "flex_flow": null,
            "width": null,
            "min_width": null,
            "border": null,
            "align_items": null,
            "bottom": null,
            "_model_module": "@jupyter-widgets/base",
            "top": null,
            "grid_column": null,
            "overflow_y": null,
            "overflow_x": null,
            "grid_auto_flow": null,
            "grid_area": null,
            "grid_template_columns": null,
            "flex": null,
            "_model_name": "LayoutModel",
            "justify_items": null,
            "grid_row": null,
            "max_height": null,
            "align_content": null,
            "visibility": null,
            "align_self": null,
            "height": null,
            "min_height": null,
            "padding": null,
            "grid_auto_rows": null,
            "grid_gap": null,
            "max_width": null,
            "order": null,
            "_view_module_version": "1.2.0",
            "grid_template_areas": null,
            "object_position": null,
            "object_fit": null,
            "grid_auto_columns": null,
            "margin": null,
            "display": null,
            "left": null
          }
        },
        "1bf09912adf1469598b5531b30ff4d39": {
          "model_module": "@jupyter-widgets/controls",
          "model_name": "DescriptionStyleModel",
          "state": {
            "_view_name": "StyleView",
            "_model_name": "DescriptionStyleModel",
            "description_width": "",
            "_view_module": "@jupyter-widgets/base",
            "_model_module_version": "1.5.0",
            "_view_count": null,
            "_view_module_version": "1.2.0",
            "_model_module": "@jupyter-widgets/controls"
          }
        },
        "18a3d108e7864524957a7c4c146b6c59": {
          "model_module": "@jupyter-widgets/base",
          "model_name": "LayoutModel",
          "state": {
            "_view_name": "LayoutView",
            "grid_template_rows": null,
            "right": null,
            "justify_content": null,
            "_view_module": "@jupyter-widgets/base",
            "overflow": null,
            "_model_module_version": "1.2.0",
            "_view_count": null,
            "flex_flow": null,
            "width": null,
            "min_width": null,
            "border": null,
            "align_items": null,
            "bottom": null,
            "_model_module": "@jupyter-widgets/base",
            "top": null,
            "grid_column": null,
            "overflow_y": null,
            "overflow_x": null,
            "grid_auto_flow": null,
            "grid_area": null,
            "grid_template_columns": null,
            "flex": null,
            "_model_name": "LayoutModel",
            "justify_items": null,
            "grid_row": null,
            "max_height": null,
            "align_content": null,
            "visibility": null,
            "align_self": null,
            "height": null,
            "min_height": null,
            "padding": null,
            "grid_auto_rows": null,
            "grid_gap": null,
            "max_width": null,
            "order": null,
            "_view_module_version": "1.2.0",
            "grid_template_areas": null,
            "object_position": null,
            "object_fit": null,
            "grid_auto_columns": null,
            "margin": null,
            "display": null,
            "left": null
          }
        },
        "5328404e11e3418ab677aa3dcca4a45c": {
          "model_module": "@jupyter-widgets/controls",
          "model_name": "HBoxModel",
          "state": {
            "_view_name": "HBoxView",
            "_dom_classes": [],
            "_model_name": "HBoxModel",
            "_view_module": "@jupyter-widgets/controls",
            "_model_module_version": "1.5.0",
            "_view_count": null,
            "_view_module_version": "1.5.0",
            "box_style": "",
            "layout": "IPY_MODEL_572604f3d34541af8391d7b4ea5cd7a4",
            "_model_module": "@jupyter-widgets/controls",
            "children": [
              "IPY_MODEL_29e9a85a938f4933822850f9e6ef89bf",
              "IPY_MODEL_3e202d560202481287bfd7466be89f7d"
            ]
          }
        },
        "572604f3d34541af8391d7b4ea5cd7a4": {
          "model_module": "@jupyter-widgets/base",
          "model_name": "LayoutModel",
          "state": {
            "_view_name": "LayoutView",
            "grid_template_rows": null,
            "right": null,
            "justify_content": null,
            "_view_module": "@jupyter-widgets/base",
            "overflow": null,
            "_model_module_version": "1.2.0",
            "_view_count": null,
            "flex_flow": null,
            "width": null,
            "min_width": null,
            "border": null,
            "align_items": null,
            "bottom": null,
            "_model_module": "@jupyter-widgets/base",
            "top": null,
            "grid_column": null,
            "overflow_y": null,
            "overflow_x": null,
            "grid_auto_flow": null,
            "grid_area": null,
            "grid_template_columns": null,
            "flex": null,
            "_model_name": "LayoutModel",
            "justify_items": null,
            "grid_row": null,
            "max_height": null,
            "align_content": null,
            "visibility": null,
            "align_self": null,
            "height": null,
            "min_height": null,
            "padding": null,
            "grid_auto_rows": null,
            "grid_gap": null,
            "max_width": null,
            "order": null,
            "_view_module_version": "1.2.0",
            "grid_template_areas": null,
            "object_position": null,
            "object_fit": null,
            "grid_auto_columns": null,
            "margin": null,
            "display": null,
            "left": null
          }
        },
        "29e9a85a938f4933822850f9e6ef89bf": {
          "model_module": "@jupyter-widgets/controls",
          "model_name": "IntProgressModel",
          "state": {
            "_view_name": "ProgressView",
            "style": "IPY_MODEL_7cd8e13c3e6d42139a5638232fb90dbb",
            "_dom_classes": [],
            "description": "Downloading: 100%",
            "_model_name": "IntProgressModel",
            "bar_style": "success",
            "max": 456318,
            "_view_module": "@jupyter-widgets/controls",
            "_model_module_version": "1.5.0",
            "value": 456318,
            "_view_count": null,
            "_view_module_version": "1.5.0",
            "orientation": "horizontal",
            "min": 0,
            "description_tooltip": null,
            "_model_module": "@jupyter-widgets/controls",
            "layout": "IPY_MODEL_8bb03edc02c34296876fb6bb763f70fa"
          }
        },
        "3e202d560202481287bfd7466be89f7d": {
          "model_module": "@jupyter-widgets/controls",
          "model_name": "HTMLModel",
          "state": {
            "_view_name": "HTMLView",
            "style": "IPY_MODEL_cbfd36fc214c42d6a4caa9eb6f0a3508",
            "_dom_classes": [],
            "description": "",
            "_model_name": "HTMLModel",
            "placeholder": "​",
            "_view_module": "@jupyter-widgets/controls",
            "_model_module_version": "1.5.0",
            "value": " 456k/456k [00:00&lt;00:00, 2.34MB/s]",
            "_view_count": null,
            "_view_module_version": "1.5.0",
            "description_tooltip": null,
            "_model_module": "@jupyter-widgets/controls",
            "layout": "IPY_MODEL_eaf19a9a7ad6441f981be87df2e57641"
          }
        },
        "7cd8e13c3e6d42139a5638232fb90dbb": {
          "model_module": "@jupyter-widgets/controls",
          "model_name": "ProgressStyleModel",
          "state": {
            "_view_name": "StyleView",
            "_model_name": "ProgressStyleModel",
            "description_width": "initial",
            "_view_module": "@jupyter-widgets/base",
            "_model_module_version": "1.5.0",
            "_view_count": null,
            "_view_module_version": "1.2.0",
            "bar_color": null,
            "_model_module": "@jupyter-widgets/controls"
          }
        },
        "8bb03edc02c34296876fb6bb763f70fa": {
          "model_module": "@jupyter-widgets/base",
          "model_name": "LayoutModel",
          "state": {
            "_view_name": "LayoutView",
            "grid_template_rows": null,
            "right": null,
            "justify_content": null,
            "_view_module": "@jupyter-widgets/base",
            "overflow": null,
            "_model_module_version": "1.2.0",
            "_view_count": null,
            "flex_flow": null,
            "width": null,
            "min_width": null,
            "border": null,
            "align_items": null,
            "bottom": null,
            "_model_module": "@jupyter-widgets/base",
            "top": null,
            "grid_column": null,
            "overflow_y": null,
            "overflow_x": null,
            "grid_auto_flow": null,
            "grid_area": null,
            "grid_template_columns": null,
            "flex": null,
            "_model_name": "LayoutModel",
            "justify_items": null,
            "grid_row": null,
            "max_height": null,
            "align_content": null,
            "visibility": null,
            "align_self": null,
            "height": null,
            "min_height": null,
            "padding": null,
            "grid_auto_rows": null,
            "grid_gap": null,
            "max_width": null,
            "order": null,
            "_view_module_version": "1.2.0",
            "grid_template_areas": null,
            "object_position": null,
            "object_fit": null,
            "grid_auto_columns": null,
            "margin": null,
            "display": null,
            "left": null
          }
        },
        "cbfd36fc214c42d6a4caa9eb6f0a3508": {
          "model_module": "@jupyter-widgets/controls",
          "model_name": "DescriptionStyleModel",
          "state": {
            "_view_name": "StyleView",
            "_model_name": "DescriptionStyleModel",
            "description_width": "",
            "_view_module": "@jupyter-widgets/base",
            "_model_module_version": "1.5.0",
            "_view_count": null,
            "_view_module_version": "1.2.0",
            "_model_module": "@jupyter-widgets/controls"
          }
        },
        "eaf19a9a7ad6441f981be87df2e57641": {
          "model_module": "@jupyter-widgets/base",
          "model_name": "LayoutModel",
          "state": {
            "_view_name": "LayoutView",
            "grid_template_rows": null,
            "right": null,
            "justify_content": null,
            "_view_module": "@jupyter-widgets/base",
            "overflow": null,
            "_model_module_version": "1.2.0",
            "_view_count": null,
            "flex_flow": null,
            "width": null,
            "min_width": null,
            "border": null,
            "align_items": null,
            "bottom": null,
            "_model_module": "@jupyter-widgets/base",
            "top": null,
            "grid_column": null,
            "overflow_y": null,
            "overflow_x": null,
            "grid_auto_flow": null,
            "grid_area": null,
            "grid_template_columns": null,
            "flex": null,
            "_model_name": "LayoutModel",
            "justify_items": null,
            "grid_row": null,
            "max_height": null,
            "align_content": null,
            "visibility": null,
            "align_self": null,
            "height": null,
            "min_height": null,
            "padding": null,
            "grid_auto_rows": null,
            "grid_gap": null,
            "max_width": null,
            "order": null,
            "_view_module_version": "1.2.0",
            "grid_template_areas": null,
            "object_position": null,
            "object_fit": null,
            "grid_auto_columns": null,
            "margin": null,
            "display": null,
            "left": null
          }
        },
        "04c958c1c2774d88af6060390f022bab": {
          "model_module": "@jupyter-widgets/controls",
          "model_name": "HBoxModel",
          "state": {
            "_view_name": "HBoxView",
            "_dom_classes": [],
            "_model_name": "HBoxModel",
            "_view_module": "@jupyter-widgets/controls",
            "_model_module_version": "1.5.0",
            "_view_count": null,
            "_view_module_version": "1.5.0",
            "box_style": "",
            "layout": "IPY_MODEL_637ffd8db5724fdbab27cdb6a5aa1273",
            "_model_module": "@jupyter-widgets/controls",
            "children": [
              "IPY_MODEL_0019cd3508a046d7a3512530531d2565",
              "IPY_MODEL_3bc0077d06304dfb908543351f913eb9"
            ]
          }
        },
        "637ffd8db5724fdbab27cdb6a5aa1273": {
          "model_module": "@jupyter-widgets/base",
          "model_name": "LayoutModel",
          "state": {
            "_view_name": "LayoutView",
            "grid_template_rows": null,
            "right": null,
            "justify_content": null,
            "_view_module": "@jupyter-widgets/base",
            "overflow": null,
            "_model_module_version": "1.2.0",
            "_view_count": null,
            "flex_flow": null,
            "width": null,
            "min_width": null,
            "border": null,
            "align_items": null,
            "bottom": null,
            "_model_module": "@jupyter-widgets/base",
            "top": null,
            "grid_column": null,
            "overflow_y": null,
            "overflow_x": null,
            "grid_auto_flow": null,
            "grid_area": null,
            "grid_template_columns": null,
            "flex": null,
            "_model_name": "LayoutModel",
            "justify_items": null,
            "grid_row": null,
            "max_height": null,
            "align_content": null,
            "visibility": null,
            "align_self": null,
            "height": null,
            "min_height": null,
            "padding": null,
            "grid_auto_rows": null,
            "grid_gap": null,
            "max_width": null,
            "order": null,
            "_view_module_version": "1.2.0",
            "grid_template_areas": null,
            "object_position": null,
            "object_fit": null,
            "grid_auto_columns": null,
            "margin": null,
            "display": null,
            "left": null
          }
        },
        "0019cd3508a046d7a3512530531d2565": {
          "model_module": "@jupyter-widgets/controls",
          "model_name": "IntProgressModel",
          "state": {
            "_view_name": "ProgressView",
            "style": "IPY_MODEL_3b7b1961d4fc41b8b715211e3587992c",
            "_dom_classes": [],
            "description": "Downloading: 100%",
            "_model_name": "IntProgressModel",
            "bar_style": "success",
            "max": 224,
            "_view_module": "@jupyter-widgets/controls",
            "_model_module_version": "1.5.0",
            "value": 224,
            "_view_count": null,
            "_view_module_version": "1.5.0",
            "orientation": "horizontal",
            "min": 0,
            "description_tooltip": null,
            "_model_module": "@jupyter-widgets/controls",
            "layout": "IPY_MODEL_a6fe6801cf5843dc8bf939db9a47caf2"
          }
        },
        "3bc0077d06304dfb908543351f913eb9": {
          "model_module": "@jupyter-widgets/controls",
          "model_name": "HTMLModel",
          "state": {
            "_view_name": "HTMLView",
            "style": "IPY_MODEL_f27acc4a23984c69acd8e5a7722bb445",
            "_dom_classes": [],
            "description": "",
            "_model_name": "HTMLModel",
            "placeholder": "​",
            "_view_module": "@jupyter-widgets/controls",
            "_model_module_version": "1.5.0",
            "value": " 224/224 [00:48&lt;00:00, 4.64B/s]",
            "_view_count": null,
            "_view_module_version": "1.5.0",
            "description_tooltip": null,
            "_model_module": "@jupyter-widgets/controls",
            "layout": "IPY_MODEL_c2b088b1d71f43878dba82068e01cf07"
          }
        },
        "3b7b1961d4fc41b8b715211e3587992c": {
          "model_module": "@jupyter-widgets/controls",
          "model_name": "ProgressStyleModel",
          "state": {
            "_view_name": "StyleView",
            "_model_name": "ProgressStyleModel",
            "description_width": "initial",
            "_view_module": "@jupyter-widgets/base",
            "_model_module_version": "1.5.0",
            "_view_count": null,
            "_view_module_version": "1.2.0",
            "bar_color": null,
            "_model_module": "@jupyter-widgets/controls"
          }
        },
        "a6fe6801cf5843dc8bf939db9a47caf2": {
          "model_module": "@jupyter-widgets/base",
          "model_name": "LayoutModel",
          "state": {
            "_view_name": "LayoutView",
            "grid_template_rows": null,
            "right": null,
            "justify_content": null,
            "_view_module": "@jupyter-widgets/base",
            "overflow": null,
            "_model_module_version": "1.2.0",
            "_view_count": null,
            "flex_flow": null,
            "width": null,
            "min_width": null,
            "border": null,
            "align_items": null,
            "bottom": null,
            "_model_module": "@jupyter-widgets/base",
            "top": null,
            "grid_column": null,
            "overflow_y": null,
            "overflow_x": null,
            "grid_auto_flow": null,
            "grid_area": null,
            "grid_template_columns": null,
            "flex": null,
            "_model_name": "LayoutModel",
            "justify_items": null,
            "grid_row": null,
            "max_height": null,
            "align_content": null,
            "visibility": null,
            "align_self": null,
            "height": null,
            "min_height": null,
            "padding": null,
            "grid_auto_rows": null,
            "grid_gap": null,
            "max_width": null,
            "order": null,
            "_view_module_version": "1.2.0",
            "grid_template_areas": null,
            "object_position": null,
            "object_fit": null,
            "grid_auto_columns": null,
            "margin": null,
            "display": null,
            "left": null
          }
        },
        "f27acc4a23984c69acd8e5a7722bb445": {
          "model_module": "@jupyter-widgets/controls",
          "model_name": "DescriptionStyleModel",
          "state": {
            "_view_name": "StyleView",
            "_model_name": "DescriptionStyleModel",
            "description_width": "",
            "_view_module": "@jupyter-widgets/base",
            "_model_module_version": "1.5.0",
            "_view_count": null,
            "_view_module_version": "1.2.0",
            "_model_module": "@jupyter-widgets/controls"
          }
        },
        "c2b088b1d71f43878dba82068e01cf07": {
          "model_module": "@jupyter-widgets/base",
          "model_name": "LayoutModel",
          "state": {
            "_view_name": "LayoutView",
            "grid_template_rows": null,
            "right": null,
            "justify_content": null,
            "_view_module": "@jupyter-widgets/base",
            "overflow": null,
            "_model_module_version": "1.2.0",
            "_view_count": null,
            "flex_flow": null,
            "width": null,
            "min_width": null,
            "border": null,
            "align_items": null,
            "bottom": null,
            "_model_module": "@jupyter-widgets/base",
            "top": null,
            "grid_column": null,
            "overflow_y": null,
            "overflow_x": null,
            "grid_auto_flow": null,
            "grid_area": null,
            "grid_template_columns": null,
            "flex": null,
            "_model_name": "LayoutModel",
            "justify_items": null,
            "grid_row": null,
            "max_height": null,
            "align_content": null,
            "visibility": null,
            "align_self": null,
            "height": null,
            "min_height": null,
            "padding": null,
            "grid_auto_rows": null,
            "grid_gap": null,
            "max_width": null,
            "order": null,
            "_view_module_version": "1.2.0",
            "grid_template_areas": null,
            "object_position": null,
            "object_fit": null,
            "grid_auto_columns": null,
            "margin": null,
            "display": null,
            "left": null
          }
        },
        "46556b60f0ee4898beeeb53d2ec5eff5": {
          "model_module": "@jupyter-widgets/controls",
          "model_name": "HBoxModel",
          "state": {
            "_view_name": "HBoxView",
            "_dom_classes": [],
            "_model_name": "HBoxModel",
            "_view_module": "@jupyter-widgets/controls",
            "_model_module_version": "1.5.0",
            "_view_count": null,
            "_view_module_version": "1.5.0",
            "box_style": "",
            "layout": "IPY_MODEL_c7587efd568244e98412f0a559261b49",
            "_model_module": "@jupyter-widgets/controls",
            "children": [
              "IPY_MODEL_96e4fcf87a3b401a8e7a9eb7325e984c",
              "IPY_MODEL_2f9dd13e354445a19aff52f5895bca76"
            ]
          }
        },
        "c7587efd568244e98412f0a559261b49": {
          "model_module": "@jupyter-widgets/base",
          "model_name": "LayoutModel",
          "state": {
            "_view_name": "LayoutView",
            "grid_template_rows": null,
            "right": null,
            "justify_content": null,
            "_view_module": "@jupyter-widgets/base",
            "overflow": null,
            "_model_module_version": "1.2.0",
            "_view_count": null,
            "flex_flow": null,
            "width": null,
            "min_width": null,
            "border": null,
            "align_items": null,
            "bottom": null,
            "_model_module": "@jupyter-widgets/base",
            "top": null,
            "grid_column": null,
            "overflow_y": null,
            "overflow_x": null,
            "grid_auto_flow": null,
            "grid_area": null,
            "grid_template_columns": null,
            "flex": null,
            "_model_name": "LayoutModel",
            "justify_items": null,
            "grid_row": null,
            "max_height": null,
            "align_content": null,
            "visibility": null,
            "align_self": null,
            "height": null,
            "min_height": null,
            "padding": null,
            "grid_auto_rows": null,
            "grid_gap": null,
            "max_width": null,
            "order": null,
            "_view_module_version": "1.2.0",
            "grid_template_areas": null,
            "object_position": null,
            "object_fit": null,
            "grid_auto_columns": null,
            "margin": null,
            "display": null,
            "left": null
          }
        },
        "96e4fcf87a3b401a8e7a9eb7325e984c": {
          "model_module": "@jupyter-widgets/controls",
          "model_name": "IntProgressModel",
          "state": {
            "_view_name": "ProgressView",
            "style": "IPY_MODEL_3c6939388a284ff58dac9b4aff8221ba",
            "_dom_classes": [],
            "description": "Downloading: 100%",
            "_model_name": "IntProgressModel",
            "bar_style": "success",
            "max": 548118077,
            "_view_module": "@jupyter-widgets/controls",
            "_model_module_version": "1.5.0",
            "value": 548118077,
            "_view_count": null,
            "_view_module_version": "1.5.0",
            "orientation": "horizontal",
            "min": 0,
            "description_tooltip": null,
            "_model_module": "@jupyter-widgets/controls",
            "layout": "IPY_MODEL_c08230aa419c41acbd74e956222b6bd1"
          }
        },
        "2f9dd13e354445a19aff52f5895bca76": {
          "model_module": "@jupyter-widgets/controls",
          "model_name": "HTMLModel",
          "state": {
            "_view_name": "HTMLView",
            "style": "IPY_MODEL_b0cbd6c254b540c88b1312e87aa0567c",
            "_dom_classes": [],
            "description": "",
            "_model_name": "HTMLModel",
            "placeholder": "​",
            "_view_module": "@jupyter-widgets/controls",
            "_model_module_version": "1.5.0",
            "value": " 548M/548M [00:07&lt;00:00, 73.5MB/s]",
            "_view_count": null,
            "_view_module_version": "1.5.0",
            "description_tooltip": null,
            "_model_module": "@jupyter-widgets/controls",
            "layout": "IPY_MODEL_a197452242434a359800187cff07fc1e"
          }
        },
        "3c6939388a284ff58dac9b4aff8221ba": {
          "model_module": "@jupyter-widgets/controls",
          "model_name": "ProgressStyleModel",
          "state": {
            "_view_name": "StyleView",
            "_model_name": "ProgressStyleModel",
            "description_width": "initial",
            "_view_module": "@jupyter-widgets/base",
            "_model_module_version": "1.5.0",
            "_view_count": null,
            "_view_module_version": "1.2.0",
            "bar_color": null,
            "_model_module": "@jupyter-widgets/controls"
          }
        },
        "c08230aa419c41acbd74e956222b6bd1": {
          "model_module": "@jupyter-widgets/base",
          "model_name": "LayoutModel",
          "state": {
            "_view_name": "LayoutView",
            "grid_template_rows": null,
            "right": null,
            "justify_content": null,
            "_view_module": "@jupyter-widgets/base",
            "overflow": null,
            "_model_module_version": "1.2.0",
            "_view_count": null,
            "flex_flow": null,
            "width": null,
            "min_width": null,
            "border": null,
            "align_items": null,
            "bottom": null,
            "_model_module": "@jupyter-widgets/base",
            "top": null,
            "grid_column": null,
            "overflow_y": null,
            "overflow_x": null,
            "grid_auto_flow": null,
            "grid_area": null,
            "grid_template_columns": null,
            "flex": null,
            "_model_name": "LayoutModel",
            "justify_items": null,
            "grid_row": null,
            "max_height": null,
            "align_content": null,
            "visibility": null,
            "align_self": null,
            "height": null,
            "min_height": null,
            "padding": null,
            "grid_auto_rows": null,
            "grid_gap": null,
            "max_width": null,
            "order": null,
            "_view_module_version": "1.2.0",
            "grid_template_areas": null,
            "object_position": null,
            "object_fit": null,
            "grid_auto_columns": null,
            "margin": null,
            "display": null,
            "left": null
          }
        },
        "b0cbd6c254b540c88b1312e87aa0567c": {
          "model_module": "@jupyter-widgets/controls",
          "model_name": "DescriptionStyleModel",
          "state": {
            "_view_name": "StyleView",
            "_model_name": "DescriptionStyleModel",
            "description_width": "",
            "_view_module": "@jupyter-widgets/base",
            "_model_module_version": "1.5.0",
            "_view_count": null,
            "_view_module_version": "1.2.0",
            "_model_module": "@jupyter-widgets/controls"
          }
        },
        "a197452242434a359800187cff07fc1e": {
          "model_module": "@jupyter-widgets/base",
          "model_name": "LayoutModel",
          "state": {
            "_view_name": "LayoutView",
            "grid_template_rows": null,
            "right": null,
            "justify_content": null,
            "_view_module": "@jupyter-widgets/base",
            "overflow": null,
            "_model_module_version": "1.2.0",
            "_view_count": null,
            "flex_flow": null,
            "width": null,
            "min_width": null,
            "border": null,
            "align_items": null,
            "bottom": null,
            "_model_module": "@jupyter-widgets/base",
            "top": null,
            "grid_column": null,
            "overflow_y": null,
            "overflow_x": null,
            "grid_auto_flow": null,
            "grid_area": null,
            "grid_template_columns": null,
            "flex": null,
            "_model_name": "LayoutModel",
            "justify_items": null,
            "grid_row": null,
            "max_height": null,
            "align_content": null,
            "visibility": null,
            "align_self": null,
            "height": null,
            "min_height": null,
            "padding": null,
            "grid_auto_rows": null,
            "grid_gap": null,
            "max_width": null,
            "order": null,
            "_view_module_version": "1.2.0",
            "grid_template_areas": null,
            "object_position": null,
            "object_fit": null,
            "grid_auto_columns": null,
            "margin": null,
            "display": null,
            "left": null
          }
        }
      }
    }
  },
  "cells": [
    {
      "cell_type": "code",
      "metadata": {
        "id": "ntSDc_ZB901s",
        "colab_type": "code",
        "colab": {}
      },
      "source": [
        "!pip install alchemy-catalyst\n",
        "!pip install transformers\n",
        "!pip install -U catalyst"
      ],
      "execution_count": 0,
      "outputs": []
    },
    {
      "cell_type": "code",
      "metadata": {
        "id": "wYglP6BNpu-g",
        "colab_type": "code",
        "colab": {}
      },
      "source": [
        "!pip install --upgrade wandb\n",
        "!wandb login"
      ],
      "execution_count": 0,
      "outputs": []
    },
    {
      "cell_type": "code",
      "metadata": {
        "id": "yglyRLmX-CRV",
        "colab_type": "code",
        "colab": {
          "base_uri": "https://localhost:8080/",
          "height": 50
        },
        "outputId": "5cf532ef-f933-4039-d53b-9701215420b9"
      },
      "source": [
        "import pandas as pd \n",
        "import numpy as np\n",
        "import matplotlib.pyplot as plt\n",
        "\n",
        "import torch\n",
        "from torch.utils.data import DataLoader\n",
        "from torchtext  import data\n",
        "import torch.nn as nn\n",
        "import torch.nn.functional as F\n",
        "import torch.optim as optim\n",
        "\n",
        "from transformers import BertTokenizer, BertModel, GPT2Model, GPT2Tokenizer\n",
        "\n",
        "import catalyst.dl as dl\n",
        "from collections import OrderedDict\n",
        "from catalyst.dl.callbacks  import AccuracyCallback, EarlyStoppingCallback, WandbLogger\n",
        "\n",
        "import nltk\n",
        "from nltk import tokenize\n",
        "nltk.download('punkt')\n",
        "\n",
        "device = torch.device(\"cuda\" if torch.cuda.is_available() else \"cpu\")"
      ],
      "execution_count": 4,
      "outputs": [
        {
          "output_type": "stream",
          "text": [
            "[nltk_data] Downloading package punkt to /root/nltk_data...\n",
            "[nltk_data]   Package punkt is already up-to-date!\n"
          ],
          "name": "stdout"
        }
      ]
    },
    {
      "cell_type": "code",
      "metadata": {
        "id": "VsmFArK_Hf5y",
        "colab_type": "code",
        "colab": {}
      },
      "source": [
        "# TODO Ошибку с NoneType в итераторах поправить"
      ],
      "execution_count": 0,
      "outputs": []
    },
    {
      "cell_type": "markdown",
      "metadata": {
        "id": "MUCxu7Ut-MfA",
        "colab_type": "text"
      },
      "source": [
        "# Data (пропустить если есть domains.csv)"
      ]
    },
    {
      "cell_type": "code",
      "metadata": {
        "id": "U2IJpx1n-Sw4",
        "colab_type": "code",
        "outputId": "370c8a90-e745-4cca-8189-5f6b6a14f948",
        "colab": {
          "base_uri": "https://localhost:8080/",
          "height": 50
        }
      },
      "source": [
        "import os \n",
        "from google.colab import drive\n",
        "drive.mount('/content/drive')\n",
        "os.chdir('/content/drive/My Drive/')\n",
        "\n",
        "df = pd.read_csv(\"data/dataset.csv\")\n",
        "\n",
        "# fake = open_file(\"data/fake.txt\")\n",
        "# real = open_file(\"data/real.txt\")\n",
        "# df = pd.read_csv(\"data/dataset.csv\")\n",
        "import pickle\n",
        "with open ('data/fake', 'rb') as fp:\n",
        "    fake = pickle.load(fp)\n",
        "with open ('data/real', 'rb') as fp:\n",
        "    real = pickle.load(fp)\n",
        "\n",
        "print(len(fake), len(real), df.shape)"
      ],
      "execution_count": 4,
      "outputs": [
        {
          "output_type": "stream",
          "text": [
            "Drive already mounted at /content/drive; to attempt to forcibly remount, call drive.mount(\"/content/drive\", force_remount=True).\n",
            "241601 241601 (483202, 3)\n"
          ],
          "name": "stdout"
        }
      ]
    },
    {
      "cell_type": "code",
      "metadata": {
        "id": "4c5gZGPV_roE",
        "colab_type": "code",
        "colab": {}
      },
      "source": [
        "# Convert dataset into DF with 'Text_Part1' 'Text_Part2' 'Label'\n",
        "def sent_first(text):\n",
        "    return tokenize.sent_tokenize(text)\n",
        "\n",
        "def split_texts(texts):\n",
        "    \"\"\"\n",
        "    Формирует новый датафрейм для проверки на домены.\n",
        "    texts:: list of str (реальные тексты)\n",
        "    \"\"\"\n",
        "    \n",
        "    domains_df = pd.DataFrame()\n",
        "    text_first = []\n",
        "    text_second = []\n",
        "    labels = []\n",
        "\n",
        "    for ind, text in enumerate(texts):        \n",
        "        real_first = tokenize.sent_tokenize(text)[0]\n",
        "        try:\n",
        "            real_second = tokenize.sent_tokenize(text)[1]\n",
        "            fake_second = fake[ind].split(real_first)[1]\n",
        "        except:\n",
        "            continue\n",
        "        \n",
        "        text_first.append(real_first)\n",
        "        text_second.append(real_second)\n",
        "        labels.append('real')\n",
        "\n",
        "        fake_first = real_first\n",
        "        fake_second = fake[ind].split(real_first)[1]\n",
        "        text_first.append(fake_first)\n",
        "        text_second.append(fake_second)\n",
        "        labels.append('fake')        \n",
        "        \n",
        "    assert len(text_first) == len(text_second) == len(labels)  \n",
        "\n",
        "    domains_df['first'] = text_first\n",
        "    domains_df['second'] = text_second\n",
        "    domains_df['label'] = labels \n",
        "    domains_df = domains_df.sample(frac=1).reset_index(drop=True)\n",
        "    return domains_df"
      ],
      "execution_count": 0,
      "outputs": []
    },
    {
      "cell_type": "code",
      "metadata": {
        "id": "WwHwCc-SpVWG",
        "colab_type": "code",
        "colab": {
          "base_uri": "https://localhost:8080/",
          "height": 195
        },
        "outputId": "1110f5e8-c5af-495b-a844-ffd65559c79e"
      },
      "source": [
        "domains = split_texts(real)\n",
        "domains.head()"
      ],
      "execution_count": 6,
      "outputs": [
        {
          "output_type": "execute_result",
          "data": {
            "text/html": [
              "<div>\n",
              "<style scoped>\n",
              "    .dataframe tbody tr th:only-of-type {\n",
              "        vertical-align: middle;\n",
              "    }\n",
              "\n",
              "    .dataframe tbody tr th {\n",
              "        vertical-align: top;\n",
              "    }\n",
              "\n",
              "    .dataframe thead th {\n",
              "        text-align: right;\n",
              "    }\n",
              "</style>\n",
              "<table border=\"1\" class=\"dataframe\">\n",
              "  <thead>\n",
              "    <tr style=\"text-align: right;\">\n",
              "      <th></th>\n",
              "      <th>first</th>\n",
              "      <th>second</th>\n",
              "      <th>label</th>\n",
              "    </tr>\n",
              "  </thead>\n",
              "  <tbody>\n",
              "    <tr>\n",
              "      <th>0</th>\n",
              "      <td>A Brisbane bid for the 2028 Olympic Games stil...</td>\n",
              "      <td>Gold Coast City and Logan City Councils had pu...</td>\n",
              "      <td>real</td>\n",
              "    </tr>\n",
              "    <tr>\n",
              "      <th>1</th>\n",
              "      <td>The 10-episode series is produced by American ...</td>\n",
              "      <td>An early teaser for Good Behaviour, released i...</td>\n",
              "      <td>real</td>\n",
              "    </tr>\n",
              "    <tr>\n",
              "      <th>2</th>\n",
              "      <td>Aldo Rossi, the Italian architect known for wo...</td>\n",
              "      <td>He was 66.</td>\n",
              "      <td>real</td>\n",
              "    </tr>\n",
              "    <tr>\n",
              "      <th>3</th>\n",
              "      <td>03/08/2016 AT 10:40 PM EST From one first lady...</td>\n",
              "      <td>It came to not take for fear either I might s...</td>\n",
              "      <td>fake</td>\n",
              "    </tr>\n",
              "    <tr>\n",
              "      <th>4</th>\n",
              "      <td>In late May it appeared that Rush Limbaugh, th...</td>\n",
              "      <td>But starting June 29, Premiere said, Limbaugh ...</td>\n",
              "      <td>real</td>\n",
              "    </tr>\n",
              "  </tbody>\n",
              "</table>\n",
              "</div>"
            ],
            "text/plain": [
              "                                               first  ... label\n",
              "0  A Brisbane bid for the 2028 Olympic Games stil...  ...  real\n",
              "1  The 10-episode series is produced by American ...  ...  real\n",
              "2  Aldo Rossi, the Italian architect known for wo...  ...  real\n",
              "3  03/08/2016 AT 10:40 PM EST From one first lady...  ...  fake\n",
              "4  In late May it appeared that Rush Limbaugh, th...  ...  real\n",
              "\n",
              "[5 rows x 3 columns]"
            ]
          },
          "metadata": {
            "tags": []
          },
          "execution_count": 6
        }
      ]
    },
    {
      "cell_type": "code",
      "metadata": {
        "id": "niHL3gz7nZ5G",
        "colab_type": "code",
        "colab": {
          "base_uri": "https://localhost:8080/",
          "height": 195
        },
        "outputId": "d194a133-20d4-49ed-b208-9eecaa6a6b73"
      },
      "source": [
        "domains.tail()"
      ],
      "execution_count": 7,
      "outputs": [
        {
          "output_type": "execute_result",
          "data": {
            "text/html": [
              "<div>\n",
              "<style scoped>\n",
              "    .dataframe tbody tr th:only-of-type {\n",
              "        vertical-align: middle;\n",
              "    }\n",
              "\n",
              "    .dataframe tbody tr th {\n",
              "        vertical-align: top;\n",
              "    }\n",
              "\n",
              "    .dataframe thead th {\n",
              "        text-align: right;\n",
              "    }\n",
              "</style>\n",
              "<table border=\"1\" class=\"dataframe\">\n",
              "  <thead>\n",
              "    <tr style=\"text-align: right;\">\n",
              "      <th></th>\n",
              "      <th>first</th>\n",
              "      <th>second</th>\n",
              "      <th>label</th>\n",
              "    </tr>\n",
              "  </thead>\n",
              "  <tbody>\n",
              "    <tr>\n",
              "      <th>470241</th>\n",
              "      <td>Cadillac has staged one of the car world’s mos...</td>\n",
              "      <td>If you don’t believe us, then go ahead and get...</td>\n",
              "      <td>real</td>\n",
              "    </tr>\n",
              "    <tr>\n",
              "      <th>470242</th>\n",
              "      <td>If you live in Arizona, California or Nevada, ...</td>\n",
              "      <td>But if you live in Oregon, there are temperat...</td>\n",
              "      <td>fake</td>\n",
              "    </tr>\n",
              "    <tr>\n",
              "      <th>470243</th>\n",
              "      <td>The 2012 Auty Cup Tour is a four-day series of...</td>\n",
              "      <td>The four-day tour includes all of South Afric...</td>\n",
              "      <td>fake</td>\n",
              "    </tr>\n",
              "    <tr>\n",
              "      <th>470244</th>\n",
              "      <td>updated 5:37 PM EDT, Tue September 23, 2014 Ed...</td>\n",
              "      <td>Blair attended his brother Gordon MP (2013-) ...</td>\n",
              "      <td>fake</td>\n",
              "    </tr>\n",
              "    <tr>\n",
              "      <th>470245</th>\n",
              "      <td>Lawyers representing Dylann Roof, the white ma...</td>\n",
              "      <td>In the 34-page motion filed late Monday in Fed...</td>\n",
              "      <td>real</td>\n",
              "    </tr>\n",
              "  </tbody>\n",
              "</table>\n",
              "</div>"
            ],
            "text/plain": [
              "                                                    first  ... label\n",
              "470241  Cadillac has staged one of the car world’s mos...  ...  real\n",
              "470242  If you live in Arizona, California or Nevada, ...  ...  fake\n",
              "470243  The 2012 Auty Cup Tour is a four-day series of...  ...  fake\n",
              "470244  updated 5:37 PM EDT, Tue September 23, 2014 Ed...  ...  fake\n",
              "470245  Lawyers representing Dylann Roof, the white ma...  ...  real\n",
              "\n",
              "[5 rows x 3 columns]"
            ]
          },
          "metadata": {
            "tags": []
          },
          "execution_count": 7
        }
      ]
    },
    {
      "cell_type": "code",
      "metadata": {
        "id": "Znn5500IM-eX",
        "colab_type": "code",
        "colab": {}
      },
      "source": [
        "domains.to_csv('/content/drive/My Drive/data/domains.csv', index=False)"
      ],
      "execution_count": 0,
      "outputs": []
    },
    {
      "cell_type": "markdown",
      "metadata": {
        "id": "qL5e-E_t-uLq",
        "colab_type": "text"
      },
      "source": [
        "# GPT Tokenizer and Embeddings"
      ]
    },
    {
      "cell_type": "code",
      "metadata": {
        "id": "iJwurkrOvHFs",
        "colab_type": "code",
        "colab": {}
      },
      "source": [
        "# uncomment if google colab:\n",
        "\n",
        "import os \n",
        "from google.colab import drive\n",
        "drive.mount('/content/drive')\n",
        "os.chdir('/content/drive/My Drive/')"
      ],
      "execution_count": 0,
      "outputs": []
    },
    {
      "cell_type": "code",
      "metadata": {
        "id": "MYSmcgEzz-An",
        "colab_type": "code",
        "colab": {}
      },
      "source": [
        "# 0.61 on test\n",
        "# pretrained_weights = 'bert-base-uncased'\n",
        "# tokenizer = BertTokenizer.from_pretrained(pretrained_weights)\n",
        "# model = BertModel.from_pretrained(pretrained_weights)\n",
        "\n",
        "# embeddings_pretrained = model.get_input_embeddings()\n",
        "# embeddings_pretrained"
      ],
      "execution_count": 0,
      "outputs": []
    },
    {
      "cell_type": "code",
      "metadata": {
        "id": "DK6KPYSv-lxK",
        "colab_type": "code",
        "outputId": "466b00b9-b993-4a57-f98f-2a0c814783b7",
        "colab": {
          "base_uri": "https://localhost:8080/",
          "height": 246,
          "referenced_widgets": [
            "b9b2536dfb7548d7bcf9f7668e4d4015",
            "36ae0db07ae34c568e2cec13147afdce",
            "9c599faec3174ac6885e74dc5a0f024d",
            "1c027931eb0d490aa992b30b6370f08a",
            "e03613bd5cea49fba06ef1b9dc18c7ca",
            "f37ed35b3e6f4f0da9e0b8091b4f0fc6",
            "1bf09912adf1469598b5531b30ff4d39",
            "18a3d108e7864524957a7c4c146b6c59",
            "5328404e11e3418ab677aa3dcca4a45c",
            "572604f3d34541af8391d7b4ea5cd7a4",
            "29e9a85a938f4933822850f9e6ef89bf",
            "3e202d560202481287bfd7466be89f7d",
            "7cd8e13c3e6d42139a5638232fb90dbb",
            "8bb03edc02c34296876fb6bb763f70fa",
            "cbfd36fc214c42d6a4caa9eb6f0a3508",
            "eaf19a9a7ad6441f981be87df2e57641",
            "04c958c1c2774d88af6060390f022bab",
            "637ffd8db5724fdbab27cdb6a5aa1273",
            "0019cd3508a046d7a3512530531d2565",
            "3bc0077d06304dfb908543351f913eb9",
            "3b7b1961d4fc41b8b715211e3587992c",
            "a6fe6801cf5843dc8bf939db9a47caf2",
            "f27acc4a23984c69acd8e5a7722bb445",
            "c2b088b1d71f43878dba82068e01cf07",
            "46556b60f0ee4898beeeb53d2ec5eff5",
            "c7587efd568244e98412f0a559261b49",
            "96e4fcf87a3b401a8e7a9eb7325e984c",
            "2f9dd13e354445a19aff52f5895bca76",
            "3c6939388a284ff58dac9b4aff8221ba",
            "c08230aa419c41acbd74e956222b6bd1",
            "b0cbd6c254b540c88b1312e87aa0567c",
            "a197452242434a359800187cff07fc1e"
          ]
        }
      },
      "source": [
        "pretrained_weights = 'gpt2'\n",
        "tokenizer = GPT2Tokenizer.from_pretrained(pretrained_weights)\n",
        "model = GPT2Model.from_pretrained(pretrained_weights)\n",
        "\n",
        "pad_index = tokenizer.convert_tokens_to_ids(tokenizer.pad_token)\n",
        "embeddings_pretrained = model.get_input_embeddings()\n",
        "embeddings_pretrained"
      ],
      "execution_count": 6,
      "outputs": [
        {
          "output_type": "display_data",
          "data": {
            "application/vnd.jupyter.widget-view+json": {
              "model_id": "b9b2536dfb7548d7bcf9f7668e4d4015",
              "version_minor": 0,
              "version_major": 2
            },
            "text/plain": [
              "HBox(children=(IntProgress(value=0, description='Downloading', max=1042301, style=ProgressStyle(description_wi…"
            ]
          },
          "metadata": {
            "tags": []
          }
        },
        {
          "output_type": "stream",
          "text": [
            "\n"
          ],
          "name": "stdout"
        },
        {
          "output_type": "display_data",
          "data": {
            "application/vnd.jupyter.widget-view+json": {
              "model_id": "5328404e11e3418ab677aa3dcca4a45c",
              "version_minor": 0,
              "version_major": 2
            },
            "text/plain": [
              "HBox(children=(IntProgress(value=0, description='Downloading', max=456318, style=ProgressStyle(description_wid…"
            ]
          },
          "metadata": {
            "tags": []
          }
        },
        {
          "output_type": "stream",
          "text": [
            "\n"
          ],
          "name": "stdout"
        },
        {
          "output_type": "display_data",
          "data": {
            "application/vnd.jupyter.widget-view+json": {
              "model_id": "04c958c1c2774d88af6060390f022bab",
              "version_minor": 0,
              "version_major": 2
            },
            "text/plain": [
              "HBox(children=(IntProgress(value=0, description='Downloading', max=224, style=ProgressStyle(description_width=…"
            ]
          },
          "metadata": {
            "tags": []
          }
        },
        {
          "output_type": "stream",
          "text": [
            "\n"
          ],
          "name": "stdout"
        },
        {
          "output_type": "display_data",
          "data": {
            "application/vnd.jupyter.widget-view+json": {
              "model_id": "46556b60f0ee4898beeeb53d2ec5eff5",
              "version_minor": 0,
              "version_major": 2
            },
            "text/plain": [
              "HBox(children=(IntProgress(value=0, description='Downloading', max=548118077, style=ProgressStyle(description_…"
            ]
          },
          "metadata": {
            "tags": []
          }
        },
        {
          "output_type": "stream",
          "text": [
            "\n"
          ],
          "name": "stdout"
        },
        {
          "output_type": "stream",
          "text": [
            "Using pad_token, but it is not set yet.\n"
          ],
          "name": "stderr"
        },
        {
          "output_type": "execute_result",
          "data": {
            "text/plain": [
              "Embedding(50257, 768)"
            ]
          },
          "metadata": {
            "tags": []
          },
          "execution_count": 6
        }
      ]
    },
    {
      "cell_type": "code",
      "metadata": {
        "id": "9kX92YVA-2WR",
        "colab_type": "code",
        "colab": {}
      },
      "source": [
        "def tokenize(text, tokenizer=tokenizer):\n",
        "    return tokenizer.encode(text, max_length=512)"
      ],
      "execution_count": 0,
      "outputs": []
    },
    {
      "cell_type": "code",
      "metadata": {
        "id": "XKogEixD-3vN",
        "colab_type": "code",
        "colab": {}
      },
      "source": [
        "classes={'fake': 0, 'real': 1}\n",
        "\n",
        "\n",
        "TEXT = data.Field(sequential=True, \n",
        "                  include_lengths=False,\n",
        "                  batch_first=True, \n",
        "                  tokenize=tokenize, \n",
        "                  pad_first=True,\n",
        "                  lower=False,\n",
        "                  use_vocab=False,\n",
        "                  preprocessing=data.Pipeline(int),\n",
        "                  pad_token=pad_index) \n",
        "\n",
        "LABEL = data.LabelField(dtype=torch.float, \n",
        "                        use_vocab=False, \n",
        "                        sequential=False,\n",
        "                        preprocessing=lambda x: classes[x])\n",
        "\n",
        "dataset = data.TabularDataset('data/domains.csv', \n",
        "                                format='csv', fields=[('first', TEXT), ('second', TEXT), ('label',LABEL),], \n",
        "                                skip_header=True)\n",
        "\n",
        "train, test = dataset.split(0.8, stratified=True)\n",
        "train, valid = train.split(0.8, stratified=True)"
      ],
      "execution_count": 0,
      "outputs": []
    },
    {
      "cell_type": "code",
      "metadata": {
        "id": "Mfc6aZAdu1UG",
        "colab_type": "code",
        "colab": {}
      },
      "source": [
        "EMBEDDINGS_DIM = embeddings_pretrained.embedding_dim\n",
        "VOCAB_SIZE = embeddings_pretrained.num_embeddings\n",
        "EMB_PRETRAINED = True"
      ],
      "execution_count": 0,
      "outputs": []
    },
    {
      "cell_type": "markdown",
      "metadata": {
        "id": "BJFsdif4_Mqv",
        "colab_type": "text"
      },
      "source": [
        "# Model"
      ]
    },
    {
      "cell_type": "code",
      "metadata": {
        "id": "MloCN4CO_N6V",
        "colab_type": "code",
        "colab": {}
      },
      "source": [
        "class MyModel(nn.Module):\n",
        "    \n",
        "    def __init__(self, vocab_size, embed_size, hidden_size, \n",
        "                 emb_pretrained, embeddings):\n",
        "        super(MyModel, self).__init__()\n",
        "        self.emb_pretrained = emb_pretrained\n",
        "        self.embedding =  embeddings if self.emb_pretrained else nn.Embedding(vocab_size, embed_size)    \n",
        "        self.fc = nn.Linear(embed_size, 1)\n",
        "    \n",
        "    def forward(self, first, second):\n",
        "        \n",
        "        first = self.embedding(first)\n",
        "        second = self.embedding(second)\n",
        "\n",
        "        first = torch.sum(first, dim=1)/first.size()[1]\n",
        "        second = torch.sum(second, dim=1)/second.size()[1]\n",
        "        \n",
        "        difference = first-second      \n",
        "        x = self.fc(difference)\n",
        "        return x"
      ],
      "execution_count": 0,
      "outputs": []
    },
    {
      "cell_type": "code",
      "metadata": {
        "id": "YBZQSRdqq7i4",
        "colab_type": "code",
        "colab": {}
      },
      "source": [
        "class Batch:\n",
        "    \"Object for holding a batch of data during training.\"\n",
        "    def __init__(self, first, second, label):\n",
        "        self.first = first\n",
        "        self.second = second\n",
        "        self.label = label\n",
        "\n",
        "\n",
        "class BucketIteratorWrapper(DataLoader):\n",
        "    __initialized = False\n",
        "\n",
        "    def __init__(self, iterator: data.Iterator):\n",
        "        self.batch_size = iterator.batch_size\n",
        "        self.num_workers = 1\n",
        "        self.collate_fn = None\n",
        "        self.pin_memory = False\n",
        "        self.drop_last = False\n",
        "        self.timeout = 0\n",
        "        self.worker_init_fn = None\n",
        "        self.sampler = iterator\n",
        "        self.batch_sampler = iterator\n",
        "        self.__initialized = True\n",
        "\n",
        "    def __iter__(self):\n",
        "        return map(\n",
        "            lambda batch: {'first': Batch(batch.first, batch.second, batch.label).first, \n",
        "                           'second': Batch(batch.first, batch.second, batch.label).second,\n",
        "                           'targets': Batch(batch.first, batch.second, batch.label).label.unsqueeze(-1),\n",
        "                        # 'targets': Batch(batch.text, batch.label).label,\n",
        "                          },\n",
        "            self.batch_sampler.__iter__()\n",
        "        )\n",
        "\n",
        "    def __len__(self):\n",
        "        return len(self.batch_sampler)"
      ],
      "execution_count": 0,
      "outputs": []
    },
    {
      "cell_type": "code",
      "metadata": {
        "id": "iJ3SqgZD1XGY",
        "colab_type": "code",
        "colab": {}
      },
      "source": [
        "config = {'tokenization/embeddings': 'domains',\n",
        "            'batch_size': 128,\n",
        "          'hidden_size' : 256,\n",
        "            'num_epochs': 10}"
      ],
      "execution_count": 0,
      "outputs": []
    },
    {
      "cell_type": "code",
      "metadata": {
        "id": "c9yk8efKRlLs",
        "colab_type": "code",
        "outputId": "9f9375be-204f-4398-ed79-6ad356ee1307",
        "colab": {
          "base_uri": "https://localhost:8080/",
          "height": 34
        }
      },
      "source": [
        "model = MyModel(VOCAB_SIZE,\n",
        "                embed_size=EMBEDDINGS_DIM,\n",
        "                hidden_size=config['hidden_size'],\n",
        "                emb_pretrained = EMB_PRETRAINED,\n",
        "                embeddings = embeddings_pretrained\n",
        "               )\n",
        "\n",
        "model.to(device)\n",
        "train_iterator, valid_iterator, test_iterator = data.BucketIterator.splits(\n",
        "    (train, valid, test),\n",
        "    batch_sizes=(config['batch_size'], config['batch_size'], config['batch_size']),\n",
        "    shuffle=True,\n",
        "    device=device,\n",
        "    sort=False,\n",
        "    sort_key=lambda x: len(x.first),\n",
        "    sort_within_batch=False,\n",
        ")\n",
        "\n",
        "# train_iterator = BucketIteratorWrapper(train_iterator)\n",
        "# valid_iterator = BucketIteratorWrapper(valid_iterator)\n",
        "# test_iterator = BucketIteratorWrapper(test_iterator)\n",
        "\n",
        "optimizer = optim.Adam(model.parameters(), weight_decay=1e-5)\n",
        "scheduler = optim.lr_scheduler.ReduceLROnPlateau(optimizer, patience=2, verbose=True, cooldown=5)\n",
        "criterion = nn.BCEWithLogitsLoss()\n",
        "criterion.to(device)"
      ],
      "execution_count": 41,
      "outputs": [
        {
          "output_type": "execute_result",
          "data": {
            "text/plain": [
              "BCEWithLogitsLoss()"
            ]
          },
          "metadata": {
            "tags": []
          },
          "execution_count": 41
        }
      ]
    },
    {
      "cell_type": "code",
      "metadata": {
        "id": "NMcpciczHxbg",
        "colab_type": "code",
        "colab": {}
      },
      "source": [
        "os.chdir('/content/')\n",
        "logdir = '/content/'\n",
        "RUN_NAME = 'domains'\n",
        "RUN_ID = 's,bdbvcbbn'"
      ],
      "execution_count": 0,
      "outputs": []
    },
    {
      "cell_type": "code",
      "metadata": {
        "id": "LJ2jdxOpH5H-",
        "colab_type": "code",
        "colab": {}
      },
      "source": [
        "from tqdm import tqdm\n",
        "def clean_tqdm():\n",
        "    for instance in list(tqdm._instances): \n",
        "        tqdm._decr_instances(instance)\n",
        "\n",
        "for e in tqdm([1,2,3]):\n",
        "    pass"
      ],
      "execution_count": 0,
      "outputs": []
    },
    {
      "cell_type": "code",
      "metadata": {
        "id": "rtVHBwNsH8XE",
        "colab_type": "code",
        "colab": {}
      },
      "source": [
        "runner = dl.SupervisedRunner(device=device)\n",
        "loaders = OrderedDict(\n",
        "    {'train': train_iterator,\n",
        "    'valid': valid_iterator}\n",
        ")\n",
        "\n",
        "clean_tqdm()\n",
        "runner.train(\n",
        "    model=model, \n",
        "    criterion=criterion,\n",
        "    optimizer=optimizer, \n",
        "    scheduler=scheduler,\n",
        "    loaders=loaders,\n",
        "    logdir=logdir,\n",
        "    num_epochs=config['num_epochs'],\n",
        "    verbose=True,\n",
        "    valid_loader=\"valid\",\n",
        "    callbacks=[AccuracyCallback(num_classes=2,\n",
        "                                activation='Sigmoid',\n",
        "                                threshold=0.5\n",
        "                                ),\n",
        "               EarlyStoppingCallback(patience=4),\n",
        "               WandbLogger(log_on_batch_end=True,\n",
        "                           project=\"dpl\",\n",
        "                           name=RUN_NAME,\n",
        "                           config=config,\n",
        "                           id=RUN_ID\n",
        "                           )],\n",
        "    monitoring_params={\n",
        "                    \"project\": \"dpl\",\n",
        "                    'tags': 'lstm',\n",
        "                    'config': config,\n",
        "    }\n",
        ")"
      ],
      "execution_count": 0,
      "outputs": []
    },
    {
      "cell_type": "code",
      "metadata": {
        "id": "r4kDQNFrIIQU",
        "colab_type": "code",
        "colab": {}
      },
      "source": [
        "results = torch.load('/content/checkpoints/train.2.pth', map_location=device)\n",
        "model.load_state_dict(results['model_state_dict'])"
      ],
      "execution_count": 0,
      "outputs": []
    },
    {
      "cell_type": "code",
      "metadata": {
        "id": "I99h3DYcILlG",
        "colab_type": "code",
        "colab": {}
      },
      "source": [
        "!cp \"/content/checkpoints/train.2.pth\" \"/content/drive/My Drive/model_checkpoints/\""
      ],
      "execution_count": 0,
      "outputs": []
    },
    {
      "cell_type": "code",
      "metadata": {
        "id": "2hCXTprMR4-l",
        "colab_type": "code",
        "colab": {}
      },
      "source": [
        "def accuracy_score(preds, y):\n",
        "    preds = torch.round(torch.sigmoid(preds))\n",
        "    preds = (preds == y).float()\n",
        "    accuracy = preds.sum() / len(preds)\n",
        "    return accuracy.item()"
      ],
      "execution_count": 0,
      "outputs": []
    },
    {
      "cell_type": "code",
      "metadata": {
        "id": "3wRVEqHhSwSo",
        "colab_type": "code",
        "colab": {}
      },
      "source": [
        "def test_model(model, test_iterator):\n",
        "    test_acc = []\n",
        "\n",
        "    with torch.no_grad():\n",
        "        for item in test_iterator:\n",
        "            #x = item['features']\n",
        "            #y = item['targets']\n",
        "            first = item.first\n",
        "            second = item.second\n",
        "            y = item.label\n",
        "            preds = model(first, second).squeeze(1)\n",
        "            test_acc.append(accuracy_score(preds, y))\n",
        "    #print(type(test_acc), type(test_acc[0]))\n",
        "    test_acc = np.mean(test_acc) \n",
        "    return np.mean(test_acc)"
      ],
      "execution_count": 0,
      "outputs": []
    },
    {
      "cell_type": "code",
      "metadata": {
        "id": "Y4gTsSvt_Wcw",
        "colab_type": "code",
        "outputId": "4c7a9d9b-d7dc-4cc0-ad20-f23faf3a7f7b",
        "colab": {
          "base_uri": "https://localhost:8080/",
          "height": 34
        }
      },
      "source": [
        "test_accuracy = test_model(model, test_iterator)\n",
        "print('Test accuracy: {}'.format(np.mean(test_accuracy)))"
      ],
      "execution_count": 0,
      "outputs": [
        {
          "output_type": "stream",
          "text": [
            "Test accuracy: 0.6202388583568105\n"
          ],
          "name": "stdout"
        }
      ]
    },
    {
      "cell_type": "code",
      "metadata": {
        "id": "rjgZ6o33IQ3H",
        "colab_type": "code",
        "colab": {}
      },
      "source": [
        "wandb.init(id=RUN_ID, config=config)\n",
        "wandb.log({\"Test accc\" : test_accuracy})"
      ],
      "execution_count": 0,
      "outputs": []
    }
  ]
}