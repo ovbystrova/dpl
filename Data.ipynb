{
  "nbformat": 4,
  "nbformat_minor": 0,
  "metadata": {
    "colab": {
      "name": "Data.ipynb",
      "provenance": [],
      "toc_visible": true,
      "machine_shape": "hm"
    },
    "kernelspec": {
      "name": "python3",
      "display_name": "Python 3"
    }
  },
  "cells": [
    {
      "cell_type": "code",
      "metadata": {
        "id": "DUqXlAYiNT_C",
        "colab_type": "code",
        "colab": {
          "base_uri": "https://localhost:8080/",
          "height": 67
        },
        "outputId": "3f279e26-1787-4acc-87f4-48e15603d594"
      },
      "source": [
        "import numpy as np\n",
        "import pandas as pd\n",
        "from sklearn.utils import shuffle\n",
        "from collections import Counter\n",
        "import pickle\n",
        "\n",
        "\n",
        "import warnings\n",
        "warnings.filterwarnings('ignore')\n",
        "\n",
        "import nltk\n",
        "from nltk import tokenize\n",
        "nltk.download('punkt')"
      ],
      "execution_count": 123,
      "outputs": [
        {
          "output_type": "stream",
          "text": [
            "[nltk_data] Downloading package punkt to /root/nltk_data...\n",
            "[nltk_data]   Package punkt is already up-to-date!\n"
          ],
          "name": "stdout"
        },
        {
          "output_type": "execute_result",
          "data": {
            "text/plain": [
              "True"
            ]
          },
          "metadata": {
            "tags": []
          },
          "execution_count": 123
        }
      ]
    },
    {
      "cell_type": "code",
      "metadata": {
        "id": "NGEpGhELN9BR",
        "colab_type": "code",
        "outputId": "7bde4816-df3f-4a14-f258-1e9712fa6608",
        "colab": {
          "base_uri": "https://localhost:8080/",
          "height": 34
        }
      },
      "source": [
        "from google.colab import drive\n",
        "drive.mount('/content/drive')"
      ],
      "execution_count": 124,
      "outputs": [
        {
          "output_type": "stream",
          "text": [
            "Drive already mounted at /content/drive; to attempt to forcibly remount, call drive.mount(\"/content/drive\", force_remount=True).\n"
          ],
          "name": "stdout"
        }
      ]
    },
    {
      "cell_type": "code",
      "metadata": {
        "id": "ZimF9ays5C6k",
        "colab_type": "code",
        "colab": {}
      },
      "source": [
        "def clean_data(text):\n",
        "    text = re.sub(r'\\<[^>]*\\>', '', text)\n",
        "    text = re.sub(r'\\\\n', ' ', text)\n",
        "    text = re.sub(r'&[a-z]{0,7};', ' ', text)\n",
        "    text = re.sub(r'\\s{2,10}', ' ', text)\n",
        "    text = re.sub(r'\\s{2,10}', ' ', text)\n",
        "    text = re.sub(r\"\\\\'\", r\"'\", text)\n",
        "    text = re.sub(r'\\\\x\\d{1,4}', '', text)\n",
        "    return text"
      ],
      "execution_count": 0,
      "outputs": []
    },
    {
      "cell_type": "code",
      "metadata": {
        "id": "iOQRxz-u-2-J",
        "colab_type": "code",
        "colab": {}
      },
      "source": [
        "df = pd.read_csv('/content/drive/My Drive/dpl_dataset.csv')\n",
        "fakes = df[df['label']=='fake']\n",
        "reals = df[df['label']=='real']\n",
        "\n",
        "reals.reset_index(drop=True, inplace=True)"
      ],
      "execution_count": 0,
      "outputs": []
    },
    {
      "cell_type": "markdown",
      "metadata": {
        "id": "LlNDB2wiMiY7",
        "colab_type": "text"
      },
      "source": [
        "# Sentence Level"
      ]
    },
    {
      "cell_type": "code",
      "metadata": {
        "id": "YT87YHSd7fHg",
        "colab_type": "code",
        "colab": {
          "base_uri": "https://localhost:8080/",
          "height": 34
        },
        "outputId": "fad1a253-cf7d-4757-ebdd-a3f7d6760d79"
      },
      "source": [
        "# drop all that is less than 2 sentences\n",
        "ids_fdrop = [ind  for ind, el in enumerate(list(fakes['text'])) if len(tokenize.sent_tokenize(el))<2]\n",
        "ids_rdrop = [ind  for ind, el in  enumerate(list(reals['text'])) if len(tokenize.sent_tokenize(el))<2]\n",
        "ids_drop = list(set(ids_fdrop + ids_rdrop))\n",
        "len(ids_drop)"
      ],
      "execution_count": 128,
      "outputs": [
        {
          "output_type": "execute_result",
          "data": {
            "text/plain": [
              "6128"
            ]
          },
          "metadata": {
            "tags": []
          },
          "execution_count": 128
        }
      ]
    },
    {
      "cell_type": "code",
      "metadata": {
        "id": "WX7hJCH-DpvV",
        "colab_type": "code",
        "colab": {
          "base_uri": "https://localhost:8080/",
          "height": 34
        },
        "outputId": "c1bc7af1-fe7e-4767-d460-cb4d22202542"
      },
      "source": [
        "len(ids_fdrop), len(ids_rdrop)"
      ],
      "execution_count": 129,
      "outputs": [
        {
          "output_type": "execute_result",
          "data": {
            "text/plain": [
              "(6125, 4)"
            ]
          },
          "metadata": {
            "tags": []
          },
          "execution_count": 129
        }
      ]
    },
    {
      "cell_type": "code",
      "metadata": {
        "id": "LmIwJdmU_8VE",
        "colab_type": "code",
        "colab": {}
      },
      "source": [
        "fakes.drop(np.array(ids_drop), inplace=True)\n",
        "reals.drop(np.array(ids_drop), inplace=True)\n",
        "fakes.reset_index(drop=True, inplace=True)\n",
        "reals.reset_index(drop=True, inplace=True)"
      ],
      "execution_count": 0,
      "outputs": []
    },
    {
      "cell_type": "code",
      "metadata": {
        "id": "VnST59o18IId",
        "colab_type": "code",
        "colab": {
          "base_uri": "https://localhost:8080/",
          "height": 34
        },
        "outputId": "39f688b1-b377-48fd-f504-9d67a48bd408"
      },
      "source": [
        "fakes.shape, reals.shape"
      ],
      "execution_count": 131,
      "outputs": [
        {
          "output_type": "execute_result",
          "data": {
            "text/plain": [
              "((253872, 3), (253872, 3))"
            ]
          },
          "metadata": {
            "tags": []
          },
          "execution_count": 131
        }
      ]
    },
    {
      "cell_type": "code",
      "metadata": {
        "id": "f47XzWkkCsHp",
        "colab_type": "code",
        "colab": {
          "base_uri": "https://localhost:8080/",
          "height": 218
        },
        "outputId": "b922d775-6a0f-4455-96dc-d621f405b609"
      },
      "source": [
        "fakes.head(), reals.head()"
      ],
      "execution_count": 132,
      "outputs": [
        {
          "output_type": "execute_result",
          "data": {
            "text/plain": [
              "(                                                text label     sampling\n",
              " 0  HAMBURG, Germany, June 3  As he left the socc...  fake  temperature\n",
              " 1  WASHINGTON, Dec. 23 - The National Security Ag...  fake  temperature\n",
              " 2  IF outsized executive pay has indeed become a ...  fake  temperature\n",
              " 3  BY A.J. Miller, Jr.  The three men will make t...  fake  temperature\n",
              " 4  Spinach has terrorized generations of veggie-p...  fake  temperature,\n",
              "                                                 text label     sampling\n",
              " 0  HAMBURG, Germany, June 3  As he left the socc...  real  No sampling\n",
              " 1  WASHINGTON, Dec. 23 - The National Security Ag...  real  No sampling\n",
              " 2  IF outsized executive pay has indeed become a ...  real  No sampling\n",
              " 3  BY A.J. BENZA & MICHAEL LEWITTES If Simon Rex ...  real  No sampling\n",
              " 4  Spinach has terrorized generations of veggie-p...  real  No sampling)"
            ]
          },
          "metadata": {
            "tags": []
          },
          "execution_count": 132
        }
      ]
    },
    {
      "cell_type": "code",
      "metadata": {
        "id": "3hBNfUOXCvn0",
        "colab_type": "code",
        "colab": {
          "base_uri": "https://localhost:8080/",
          "height": 218
        },
        "outputId": "c51a2dd8-5d1f-4cc7-91b3-570491bb2fa4"
      },
      "source": [
        "fakes.tail(), reals.tail()"
      ],
      "execution_count": 133,
      "outputs": [
        {
          "output_type": "execute_result",
          "data": {
            "text/plain": [
              "(                                                     text label sampling\n",
              " 253867  With a bit of hardware, your iPhone can become...  fake    top_k\n",
              " 253868  The Centers for Disease Control and Prevention...  fake    top_k\n",
              " 253869  The number of new HIV infections in the United...  fake    top_k\n",
              " 253870  AT&T says the throttling will only be temporar...  fake    top_k\n",
              " 253871  While you're frying up some eggs and bacon, we...  fake    top_k,\n",
              "                                                      text label     sampling\n",
              " 253867  With a bit of hardware, your iPhone can become...  real  No sampling\n",
              " 253868  The Centers for Disease Control and Prevention...  real  No sampling\n",
              " 253869  The number of new HIV infections in the United...  real  No sampling\n",
              " 253870  AT&T says the throttling will only be temporar...  real  No sampling\n",
              " 253871  While you're frying up some eggs and bacon, we...  real  No sampling)"
            ]
          },
          "metadata": {
            "tags": []
          },
          "execution_count": 133
        }
      ]
    },
    {
      "cell_type": "code",
      "metadata": {
        "id": "3raeCt_VHMYv",
        "colab_type": "code",
        "colab": {}
      },
      "source": [
        "# save only first two sentences\n",
        "\n",
        "fakes['text'] = fakes['text'].apply(lambda x: ' '.join(tokenize.sent_tokenize(x)[:2]))\n",
        "reals['text'] = reals['text'].apply(lambda x: ' '.join(tokenize.sent_tokenize(x)[:2]))"
      ],
      "execution_count": 0,
      "outputs": []
    },
    {
      "cell_type": "code",
      "metadata": {
        "id": "O14QKkHtLxTm",
        "colab_type": "code",
        "colab": {
          "base_uri": "https://localhost:8080/",
          "height": 218
        },
        "outputId": "edec3acb-0b29-41fe-c35c-019f9a268926"
      },
      "source": [
        "fakes.head(), reals.head()"
      ],
      "execution_count": 135,
      "outputs": [
        {
          "output_type": "execute_result",
          "data": {
            "text/plain": [
              "(                                                text label     sampling\n",
              " 0  HAMBURG, Germany, June 3  As he left the socc...  fake  temperature\n",
              " 1  WASHINGTON, Dec. 23 - The National Security Ag...  fake  temperature\n",
              " 2  IF outsized executive pay has indeed become a ...  fake  temperature\n",
              " 3                                BY A.J. Miller, Jr.  fake  temperature\n",
              " 4  Spinach has terrorized generations of veggie-p...  fake  temperature,\n",
              "                                                 text label     sampling\n",
              " 0  HAMBURG, Germany, June 3  As he left the socc...  real  No sampling\n",
              " 1  WASHINGTON, Dec. 23 - The National Security Ag...  real  No sampling\n",
              " 2  IF outsized executive pay has indeed become a ...  real  No sampling\n",
              " 3  BY A.J. BENZA & MICHAEL LEWITTES If Simon Rex ...  real  No sampling\n",
              " 4  Spinach has terrorized generations of veggie-p...  real  No sampling)"
            ]
          },
          "metadata": {
            "tags": []
          },
          "execution_count": 135
        }
      ]
    },
    {
      "cell_type": "code",
      "metadata": {
        "id": "puj2WpIZM3Xp",
        "colab_type": "code",
        "colab": {
          "base_uri": "https://localhost:8080/",
          "height": 34
        },
        "outputId": "3f2afc8b-bf06-48bb-e3a5-8dd68245c4e9"
      },
      "source": [
        "ids_fdrop = [ind  for ind, el in enumerate(list(fakes['text'])) if len(tokenize.sent_tokenize(el))>2]\n",
        "ids_rdrop = [ind  for ind, el in  enumerate(list(reals['text'])) if len(tokenize.sent_tokenize(el))>2]\n",
        "ids_drop = list(set(ids_fdrop + ids_rdrop))\n",
        "len(ids_drop)"
      ],
      "execution_count": 136,
      "outputs": [
        {
          "output_type": "execute_result",
          "data": {
            "text/plain": [
              "1130"
            ]
          },
          "metadata": {
            "tags": []
          },
          "execution_count": 136
        }
      ]
    },
    {
      "cell_type": "code",
      "metadata": {
        "id": "B-S03UA7OGDm",
        "colab_type": "code",
        "colab": {}
      },
      "source": [
        "fakes.drop(np.array(ids_drop), inplace=True)\n",
        "reals.drop(np.array(ids_drop), inplace=True)\n",
        "fakes.reset_index(drop=True, inplace=True)\n",
        "reals.reset_index(drop=True, inplace=True)"
      ],
      "execution_count": 0,
      "outputs": []
    },
    {
      "cell_type": "code",
      "metadata": {
        "id": "r7ZVwIbnOJf_",
        "colab_type": "code",
        "colab": {
          "base_uri": "https://localhost:8080/",
          "height": 218
        },
        "outputId": "c5b695f0-6359-4939-a358-84f8bd3739e4"
      },
      "source": [
        "fakes.head(), reals.head()"
      ],
      "execution_count": 138,
      "outputs": [
        {
          "output_type": "execute_result",
          "data": {
            "text/plain": [
              "(                                                text label     sampling\n",
              " 0  HAMBURG, Germany, June 3  As he left the socc...  fake  temperature\n",
              " 1  WASHINGTON, Dec. 23 - The National Security Ag...  fake  temperature\n",
              " 2  IF outsized executive pay has indeed become a ...  fake  temperature\n",
              " 3                                BY A.J. Miller, Jr.  fake  temperature\n",
              " 4  Spinach has terrorized generations of veggie-p...  fake  temperature,\n",
              "                                                 text label     sampling\n",
              " 0  HAMBURG, Germany, June 3  As he left the socc...  real  No sampling\n",
              " 1  WASHINGTON, Dec. 23 - The National Security Ag...  real  No sampling\n",
              " 2  IF outsized executive pay has indeed become a ...  real  No sampling\n",
              " 3  BY A.J. BENZA & MICHAEL LEWITTES If Simon Rex ...  real  No sampling\n",
              " 4  Spinach has terrorized generations of veggie-p...  real  No sampling)"
            ]
          },
          "metadata": {
            "tags": []
          },
          "execution_count": 138
        }
      ]
    },
    {
      "cell_type": "code",
      "metadata": {
        "id": "MwzmJdMZOKmk",
        "colab_type": "code",
        "colab": {
          "base_uri": "https://localhost:8080/",
          "height": 218
        },
        "outputId": "96a17019-999d-47b1-b6c8-030d83ffc3ea"
      },
      "source": [
        "fakes.tail(), reals.tail()"
      ],
      "execution_count": 139,
      "outputs": [
        {
          "output_type": "execute_result",
          "data": {
            "text/plain": [
              "(                                                     text label sampling\n",
              " 252737  With a bit of hardware, your iPhone can become...  fake    top_k\n",
              " 252738  The Centers for Disease Control and Prevention...  fake    top_k\n",
              " 252739  The number of new HIV infections in the United...  fake    top_k\n",
              " 252740  AT&T says the throttling will only be temporar...  fake    top_k\n",
              " 252741  While you're frying up some eggs and bacon, we...  fake    top_k,\n",
              "                                                      text label     sampling\n",
              " 252737  With a bit of hardware, your iPhone can become...  real  No sampling\n",
              " 252738  The Centers for Disease Control and Prevention...  real  No sampling\n",
              " 252739  The number of new HIV infections in the United...  real  No sampling\n",
              " 252740  AT&T says the throttling will only be temporar...  real  No sampling\n",
              " 252741  While you're frying up some eggs and bacon, we...  real  No sampling)"
            ]
          },
          "metadata": {
            "tags": []
          },
          "execution_count": 139
        }
      ]
    },
    {
      "cell_type": "code",
      "metadata": {
        "id": "vUbjcDMsJuuL",
        "colab_type": "code",
        "colab": {
          "base_uri": "https://localhost:8080/",
          "height": 34
        },
        "outputId": "e158bdc6-3236-4338-cc68-8f2bae85257a"
      },
      "source": [
        "f = 0\n",
        "for el in list(fakes['text']):\n",
        "    if len(tokenize.sent_tokenize(el)) > 2:\n",
        "        f +=1\n",
        "r =0\n",
        "for el in list(reals['text']):\n",
        "    if len(tokenize.sent_tokenize(el)) > 2:\n",
        "        r +=1\n",
        "f, r"
      ],
      "execution_count": 140,
      "outputs": [
        {
          "output_type": "execute_result",
          "data": {
            "text/plain": [
              "(0, 0)"
            ]
          },
          "metadata": {
            "tags": []
          },
          "execution_count": 140
        }
      ]
    },
    {
      "cell_type": "markdown",
      "metadata": {
        "id": "tHGJcltvQiYX",
        "colab_type": "text"
      },
      "source": [
        "# Drop duplicates"
      ]
    },
    {
      "cell_type": "code",
      "metadata": {
        "id": "TAKBV-UumDwl",
        "colab_type": "code",
        "colab": {
          "base_uri": "https://localhost:8080/",
          "height": 185
        },
        "outputId": "934244dc-c1bf-465f-8451-cee116978689"
      },
      "source": [
        "fakes.describe(), reals.describe()"
      ],
      "execution_count": 159,
      "outputs": [
        {
          "output_type": "execute_result",
          "data": {
            "text/plain": [
              "(                                                     text   label     sampling\n",
              " count                                              252742  252742       252742\n",
              " unique                                             252420       1            4\n",
              " top     Before you go, we thought you'd like these... ...    fake  temperature\n",
              " freq                                                   66  252742        88466,\n",
              "                                                      text   label     sampling\n",
              " count                                              252742  252742       252742\n",
              " unique                                             241780       1            1\n",
              " top     This post is in partnership with Time. The art...    real  No sampling\n",
              " freq                                                  139  252742       252742)"
            ]
          },
          "metadata": {
            "tags": []
          },
          "execution_count": 159
        }
      ]
    },
    {
      "cell_type": "code",
      "metadata": {
        "id": "rsfc6MjvmHJY",
        "colab_type": "code",
        "colab": {
          "base_uri": "https://localhost:8080/",
          "height": 34
        },
        "outputId": "e13ffa76-0f72-40df-fc1c-1f906051d876"
      },
      "source": [
        "fakes.shape, reals.shape"
      ],
      "execution_count": 161,
      "outputs": [
        {
          "output_type": "execute_result",
          "data": {
            "text/plain": [
              "((252742, 3), (252742, 3))"
            ]
          },
          "metadata": {
            "tags": []
          },
          "execution_count": 161
        }
      ]
    },
    {
      "cell_type": "code",
      "metadata": {
        "id": "4BvjrOsRoUTx",
        "colab_type": "code",
        "colab": {}
      },
      "source": [
        "fakes_clean = fakes.drop_duplicates(inplace=False)\n",
        "reals_clean = reals.drop_duplicates(inplace=False)"
      ],
      "execution_count": 0,
      "outputs": []
    },
    {
      "cell_type": "code",
      "metadata": {
        "id": "-V7DiGzloULN",
        "colab_type": "code",
        "colab": {
          "base_uri": "https://localhost:8080/",
          "height": 34
        },
        "outputId": "1174944c-d75c-4fe9-f4f4-e072c82d71a4"
      },
      "source": [
        "fakes_clean.shape, fakes.shape, reals_clean.shape, reals.shape"
      ],
      "execution_count": 171,
      "outputs": [
        {
          "output_type": "execute_result",
          "data": {
            "text/plain": [
              "((252438, 3), (252742, 3), (241780, 3), (252742, 3))"
            ]
          },
          "metadata": {
            "tags": []
          },
          "execution_count": 171
        }
      ]
    },
    {
      "cell_type": "code",
      "metadata": {
        "id": "LhAO7xVmoT-d",
        "colab_type": "code",
        "colab": {
          "base_uri": "https://localhost:8080/",
          "height": 34
        },
        "outputId": "54906e65-2be2-43dc-9b6d-06adf0c03082"
      },
      "source": [
        "ids_fdrop = [ind for ind in fakes.index if ind not in fakes_clean.index]\n",
        "ids_rdrop = [ind for ind in reals.index if ind not in reals_clean.index]\n",
        "ids_drop = list(set(ids_fdrop + ids_rdrop))\n",
        "len(ids_drop)"
      ],
      "execution_count": 173,
      "outputs": [
        {
          "output_type": "execute_result",
          "data": {
            "text/plain": [
              "11141"
            ]
          },
          "metadata": {
            "tags": []
          },
          "execution_count": 173
        }
      ]
    },
    {
      "cell_type": "code",
      "metadata": {
        "id": "kE3owCL4rFBT",
        "colab_type": "code",
        "colab": {}
      },
      "source": [
        "fakes.drop(np.array(ids_drop), inplace=True)\n",
        "reals.drop(np.array(ids_drop), inplace=True)\n",
        "fakes.reset_index(drop=True, inplace=True)\n",
        "reals.reset_index(drop=True, inplace=True)"
      ],
      "execution_count": 0,
      "outputs": []
    },
    {
      "cell_type": "code",
      "metadata": {
        "id": "rOI3Wpk1rHSt",
        "colab_type": "code",
        "colab": {
          "base_uri": "https://localhost:8080/",
          "height": 218
        },
        "outputId": "e5754e69-6b7b-4ee2-c1fc-808a550199be"
      },
      "source": [
        "fakes.head(), reals.head()"
      ],
      "execution_count": 175,
      "outputs": [
        {
          "output_type": "execute_result",
          "data": {
            "text/plain": [
              "(                                                text label     sampling\n",
              " 0  HAMBURG, Germany, June 3  As he left the socc...  fake  temperature\n",
              " 1  WASHINGTON, Dec. 23 - The National Security Ag...  fake  temperature\n",
              " 2  IF outsized executive pay has indeed become a ...  fake  temperature\n",
              " 3                                BY A.J. Miller, Jr.  fake  temperature\n",
              " 4  Spinach has terrorized generations of veggie-p...  fake  temperature,\n",
              "                                                 text label     sampling\n",
              " 0  HAMBURG, Germany, June 3  As he left the socc...  real  No sampling\n",
              " 1  WASHINGTON, Dec. 23 - The National Security Ag...  real  No sampling\n",
              " 2  IF outsized executive pay has indeed become a ...  real  No sampling\n",
              " 3  BY A.J. BENZA & MICHAEL LEWITTES If Simon Rex ...  real  No sampling\n",
              " 4  Spinach has terrorized generations of veggie-p...  real  No sampling)"
            ]
          },
          "metadata": {
            "tags": []
          },
          "execution_count": 175
        }
      ]
    },
    {
      "cell_type": "code",
      "metadata": {
        "id": "BK0O2p0vrLyw",
        "colab_type": "code",
        "colab": {
          "base_uri": "https://localhost:8080/",
          "height": 218
        },
        "outputId": "cd3fc3dc-791d-4594-a312-32208e3058f3"
      },
      "source": [
        "fakes.tail(), reals.tail()"
      ],
      "execution_count": 177,
      "outputs": [
        {
          "output_type": "execute_result",
          "data": {
            "text/plain": [
              "(                                                     text label sampling\n",
              " 241596  With a bit of hardware, your iPhone can become...  fake    top_k\n",
              " 241597  The Centers for Disease Control and Prevention...  fake    top_k\n",
              " 241598  The number of new HIV infections in the United...  fake    top_k\n",
              " 241599  AT&T says the throttling will only be temporar...  fake    top_k\n",
              " 241600  While you're frying up some eggs and bacon, we...  fake    top_k,\n",
              "                                                      text label     sampling\n",
              " 241596  With a bit of hardware, your iPhone can become...  real  No sampling\n",
              " 241597  The Centers for Disease Control and Prevention...  real  No sampling\n",
              " 241598  The number of new HIV infections in the United...  real  No sampling\n",
              " 241599  AT&T says the throttling will only be temporar...  real  No sampling\n",
              " 241600  While you're frying up some eggs and bacon, we...  real  No sampling)"
            ]
          },
          "metadata": {
            "tags": []
          },
          "execution_count": 177
        }
      ]
    },
    {
      "cell_type": "code",
      "metadata": {
        "id": "RcI4t70RrX_V",
        "colab_type": "code",
        "colab": {
          "base_uri": "https://localhost:8080/",
          "height": 166
        },
        "outputId": "a7b637ae-a52e-4bd1-f575-a0460d6d7559"
      },
      "source": [
        "fakes.describe()"
      ],
      "execution_count": 179,
      "outputs": [
        {
          "output_type": "execute_result",
          "data": {
            "text/html": [
              "<div>\n",
              "<style scoped>\n",
              "    .dataframe tbody tr th:only-of-type {\n",
              "        vertical-align: middle;\n",
              "    }\n",
              "\n",
              "    .dataframe tbody tr th {\n",
              "        vertical-align: top;\n",
              "    }\n",
              "\n",
              "    .dataframe thead th {\n",
              "        text-align: right;\n",
              "    }\n",
              "</style>\n",
              "<table border=\"1\" class=\"dataframe\">\n",
              "  <thead>\n",
              "    <tr style=\"text-align: right;\">\n",
              "      <th></th>\n",
              "      <th>text</th>\n",
              "      <th>label</th>\n",
              "      <th>sampling</th>\n",
              "    </tr>\n",
              "  </thead>\n",
              "  <tbody>\n",
              "    <tr>\n",
              "      <th>count</th>\n",
              "      <td>241601</td>\n",
              "      <td>241601</td>\n",
              "      <td>241601</td>\n",
              "    </tr>\n",
              "    <tr>\n",
              "      <th>unique</th>\n",
              "      <td>241597</td>\n",
              "      <td>1</td>\n",
              "      <td>4</td>\n",
              "    </tr>\n",
              "    <tr>\n",
              "      <th>top</th>\n",
              "      <td>Gov. Ted Cruz (R-Tex.)</td>\n",
              "      <td>fake</td>\n",
              "      <td>temperature</td>\n",
              "    </tr>\n",
              "    <tr>\n",
              "      <th>freq</th>\n",
              "      <td>2</td>\n",
              "      <td>241601</td>\n",
              "      <td>81561</td>\n",
              "    </tr>\n",
              "  </tbody>\n",
              "</table>\n",
              "</div>"
            ],
            "text/plain": [
              "                          text   label     sampling\n",
              "count                   241601  241601       241601\n",
              "unique                  241597       1            4\n",
              "top     Gov. Ted Cruz (R-Tex.)    fake  temperature\n",
              "freq                         2  241601        81561"
            ]
          },
          "metadata": {
            "tags": []
          },
          "execution_count": 179
        }
      ]
    },
    {
      "cell_type": "code",
      "metadata": {
        "id": "GUS_cQkhrfTM",
        "colab_type": "code",
        "colab": {
          "base_uri": "https://localhost:8080/",
          "height": 166
        },
        "outputId": "e5e1a834-e546-4bb7-cabe-8284e9a3fa07"
      },
      "source": [
        "reals.describe()"
      ],
      "execution_count": 180,
      "outputs": [
        {
          "output_type": "execute_result",
          "data": {
            "text/html": [
              "<div>\n",
              "<style scoped>\n",
              "    .dataframe tbody tr th:only-of-type {\n",
              "        vertical-align: middle;\n",
              "    }\n",
              "\n",
              "    .dataframe tbody tr th {\n",
              "        vertical-align: top;\n",
              "    }\n",
              "\n",
              "    .dataframe thead th {\n",
              "        text-align: right;\n",
              "    }\n",
              "</style>\n",
              "<table border=\"1\" class=\"dataframe\">\n",
              "  <thead>\n",
              "    <tr style=\"text-align: right;\">\n",
              "      <th></th>\n",
              "      <th>text</th>\n",
              "      <th>label</th>\n",
              "      <th>sampling</th>\n",
              "    </tr>\n",
              "  </thead>\n",
              "  <tbody>\n",
              "    <tr>\n",
              "      <th>count</th>\n",
              "      <td>241601</td>\n",
              "      <td>241601</td>\n",
              "      <td>241601</td>\n",
              "    </tr>\n",
              "    <tr>\n",
              "      <th>unique</th>\n",
              "      <td>241601</td>\n",
              "      <td>1</td>\n",
              "      <td>1</td>\n",
              "    </tr>\n",
              "    <tr>\n",
              "      <th>top</th>\n",
              "      <td>Julie Bishop has joined other senior coalition...</td>\n",
              "      <td>real</td>\n",
              "      <td>No sampling</td>\n",
              "    </tr>\n",
              "    <tr>\n",
              "      <th>freq</th>\n",
              "      <td>1</td>\n",
              "      <td>241601</td>\n",
              "      <td>241601</td>\n",
              "    </tr>\n",
              "  </tbody>\n",
              "</table>\n",
              "</div>"
            ],
            "text/plain": [
              "                                                     text   label     sampling\n",
              "count                                              241601  241601       241601\n",
              "unique                                             241601       1            1\n",
              "top     Julie Bishop has joined other senior coalition...    real  No sampling\n",
              "freq                                                    1  241601       241601"
            ]
          },
          "metadata": {
            "tags": []
          },
          "execution_count": 180
        }
      ]
    },
    {
      "cell_type": "markdown",
      "metadata": {
        "id": "r7stqwLzUnT6",
        "colab_type": "text"
      },
      "source": [
        "# Counter"
      ]
    },
    {
      "cell_type": "code",
      "metadata": {
        "id": "hr8miT2kUtpj",
        "colab_type": "code",
        "colab": {}
      },
      "source": [
        "fakes_tokens = fakes['text'].apply(lambda x: x.split(' '))\n",
        "reals_tokens = reals['text'].apply(lambda x: x.split(' '))\n",
        "\n",
        "fake_split = Counter(x for xs in fakes_tokens for x in set(xs))\n",
        "real_split = Counter(x for xs in reals_tokens for x in set(xs))"
      ],
      "execution_count": 0,
      "outputs": []
    },
    {
      "cell_type": "code",
      "metadata": {
        "id": "RKHZV8FBVIus",
        "colab_type": "code",
        "outputId": "cc2a213a-9d80-4eae-a89f-63ee42fa523b",
        "colab": {
          "base_uri": "https://localhost:8080/",
          "height": 689
        }
      },
      "source": [
        "fake_split.most_common(20), real_split.most_common(20)"
      ],
      "execution_count": 192,
      "outputs": [
        {
          "output_type": "execute_result",
          "data": {
            "text/plain": [
              "([('the', 197067),\n",
              "  ('a', 162881),\n",
              "  ('of', 154554),\n",
              "  ('to', 151024),\n",
              "  ('in', 140403),\n",
              "  ('and', 137324),\n",
              "  ('on', 86052),\n",
              "  ('for', 84453),\n",
              "  ('The', 82999),\n",
              "  ('is', 80317),\n",
              "  ('that', 79060),\n",
              "  ('with', 62630),\n",
              "  ('at', 61009),\n",
              "  ('has', 54200),\n",
              "  ('was', 53739),\n",
              "  ('as', 48493),\n",
              "  ('by', 46480),\n",
              "  ('from', 46081),\n",
              "  ('an', 45362),\n",
              "  ('it', 40069)],\n",
              " [('the', 206030),\n",
              "  ('a', 166010),\n",
              "  ('of', 163771),\n",
              "  ('to', 155088),\n",
              "  ('and', 147112),\n",
              "  ('in', 146916),\n",
              "  ('on', 90777),\n",
              "  ('for', 84313),\n",
              "  ('is', 75152),\n",
              "  ('that', 72841),\n",
              "  ('The', 72285),\n",
              "  ('with', 61886),\n",
              "  ('at', 58827),\n",
              "  ('has', 52543),\n",
              "  ('was', 50429),\n",
              "  ('as', 46656),\n",
              "  ('from', 46236),\n",
              "  ('by', 45312),\n",
              "  ('an', 43099),\n",
              "  ('his', 38417)])"
            ]
          },
          "metadata": {
            "tags": []
          },
          "execution_count": 192
        }
      ]
    },
    {
      "cell_type": "markdown",
      "metadata": {
        "id": "exm1oThbaqr2",
        "colab_type": "text"
      },
      "source": [
        "# Shuffle and save"
      ]
    },
    {
      "cell_type": "code",
      "metadata": {
        "id": "jm26Iedn0CtR",
        "colab_type": "code",
        "colab": {}
      },
      "source": [
        "df = pd.concat([fakes, reals], axis=0)\n",
        "df.reset_index(drop=True, inplace=True)"
      ],
      "execution_count": 0,
      "outputs": []
    },
    {
      "cell_type": "code",
      "metadata": {
        "id": "UNUODZnPasc5",
        "colab_type": "code",
        "outputId": "24b0c623-5bb8-45ab-a471-2506bb74494f",
        "colab": {
          "base_uri": "https://localhost:8080/",
          "height": 195
        }
      },
      "source": [
        "df.head()"
      ],
      "execution_count": 198,
      "outputs": [
        {
          "output_type": "execute_result",
          "data": {
            "text/html": [
              "<div>\n",
              "<style scoped>\n",
              "    .dataframe tbody tr th:only-of-type {\n",
              "        vertical-align: middle;\n",
              "    }\n",
              "\n",
              "    .dataframe tbody tr th {\n",
              "        vertical-align: top;\n",
              "    }\n",
              "\n",
              "    .dataframe thead th {\n",
              "        text-align: right;\n",
              "    }\n",
              "</style>\n",
              "<table border=\"1\" class=\"dataframe\">\n",
              "  <thead>\n",
              "    <tr style=\"text-align: right;\">\n",
              "      <th></th>\n",
              "      <th>text</th>\n",
              "      <th>label</th>\n",
              "      <th>sampling</th>\n",
              "    </tr>\n",
              "  </thead>\n",
              "  <tbody>\n",
              "    <tr>\n",
              "      <th>0</th>\n",
              "      <td>HAMBURG, Germany, June 3  As he left the socc...</td>\n",
              "      <td>fake</td>\n",
              "      <td>temperature</td>\n",
              "    </tr>\n",
              "    <tr>\n",
              "      <th>1</th>\n",
              "      <td>WASHINGTON, Dec. 23 - The National Security Ag...</td>\n",
              "      <td>fake</td>\n",
              "      <td>temperature</td>\n",
              "    </tr>\n",
              "    <tr>\n",
              "      <th>2</th>\n",
              "      <td>IF outsized executive pay has indeed become a ...</td>\n",
              "      <td>fake</td>\n",
              "      <td>temperature</td>\n",
              "    </tr>\n",
              "    <tr>\n",
              "      <th>3</th>\n",
              "      <td>BY A.J. Miller, Jr.</td>\n",
              "      <td>fake</td>\n",
              "      <td>temperature</td>\n",
              "    </tr>\n",
              "    <tr>\n",
              "      <th>4</th>\n",
              "      <td>Spinach has terrorized generations of veggie-p...</td>\n",
              "      <td>fake</td>\n",
              "      <td>temperature</td>\n",
              "    </tr>\n",
              "  </tbody>\n",
              "</table>\n",
              "</div>"
            ],
            "text/plain": [
              "                                                text label     sampling\n",
              "0  HAMBURG, Germany, June 3  As he left the socc...  fake  temperature\n",
              "1  WASHINGTON, Dec. 23 - The National Security Ag...  fake  temperature\n",
              "2  IF outsized executive pay has indeed become a ...  fake  temperature\n",
              "3                                BY A.J. Miller, Jr.  fake  temperature\n",
              "4  Spinach has terrorized generations of veggie-p...  fake  temperature"
            ]
          },
          "metadata": {
            "tags": []
          },
          "execution_count": 198
        }
      ]
    },
    {
      "cell_type": "code",
      "metadata": {
        "id": "GYNPWod7avOh",
        "colab_type": "code",
        "outputId": "3cc62307-9e16-426d-d551-32384ddcfa07",
        "colab": {
          "base_uri": "https://localhost:8080/",
          "height": 195
        }
      },
      "source": [
        "df.tail()"
      ],
      "execution_count": 199,
      "outputs": [
        {
          "output_type": "execute_result",
          "data": {
            "text/html": [
              "<div>\n",
              "<style scoped>\n",
              "    .dataframe tbody tr th:only-of-type {\n",
              "        vertical-align: middle;\n",
              "    }\n",
              "\n",
              "    .dataframe tbody tr th {\n",
              "        vertical-align: top;\n",
              "    }\n",
              "\n",
              "    .dataframe thead th {\n",
              "        text-align: right;\n",
              "    }\n",
              "</style>\n",
              "<table border=\"1\" class=\"dataframe\">\n",
              "  <thead>\n",
              "    <tr style=\"text-align: right;\">\n",
              "      <th></th>\n",
              "      <th>text</th>\n",
              "      <th>label</th>\n",
              "      <th>sampling</th>\n",
              "    </tr>\n",
              "  </thead>\n",
              "  <tbody>\n",
              "    <tr>\n",
              "      <th>483197</th>\n",
              "      <td>With a bit of hardware, your iPhone can become...</td>\n",
              "      <td>real</td>\n",
              "      <td>No sampling</td>\n",
              "    </tr>\n",
              "    <tr>\n",
              "      <th>483198</th>\n",
              "      <td>The Centers for Disease Control and Prevention...</td>\n",
              "      <td>real</td>\n",
              "      <td>No sampling</td>\n",
              "    </tr>\n",
              "    <tr>\n",
              "      <th>483199</th>\n",
              "      <td>The number of new HIV infections in the United...</td>\n",
              "      <td>real</td>\n",
              "      <td>No sampling</td>\n",
              "    </tr>\n",
              "    <tr>\n",
              "      <th>483200</th>\n",
              "      <td>AT&amp;T says the throttling will only be temporar...</td>\n",
              "      <td>real</td>\n",
              "      <td>No sampling</td>\n",
              "    </tr>\n",
              "    <tr>\n",
              "      <th>483201</th>\n",
              "      <td>While you're frying up some eggs and bacon, we...</td>\n",
              "      <td>real</td>\n",
              "      <td>No sampling</td>\n",
              "    </tr>\n",
              "  </tbody>\n",
              "</table>\n",
              "</div>"
            ],
            "text/plain": [
              "                                                     text label     sampling\n",
              "483197  With a bit of hardware, your iPhone can become...  real  No sampling\n",
              "483198  The Centers for Disease Control and Prevention...  real  No sampling\n",
              "483199  The number of new HIV infections in the United...  real  No sampling\n",
              "483200  AT&T says the throttling will only be temporar...  real  No sampling\n",
              "483201  While you're frying up some eggs and bacon, we...  real  No sampling"
            ]
          },
          "metadata": {
            "tags": []
          },
          "execution_count": 199
        }
      ]
    },
    {
      "cell_type": "code",
      "metadata": {
        "id": "7F8n-8h6a3vG",
        "colab_type": "code",
        "colab": {}
      },
      "source": [
        "df = shuffle(df)\n",
        "df.reset_index(drop=True, inplace=True)"
      ],
      "execution_count": 0,
      "outputs": []
    },
    {
      "cell_type": "code",
      "metadata": {
        "id": "1IOqdpgVbDeM",
        "colab_type": "code",
        "outputId": "072bd9d7-c574-420a-f814-09e9e8cc3819",
        "colab": {
          "base_uri": "https://localhost:8080/",
          "height": 195
        }
      },
      "source": [
        "df.head()"
      ],
      "execution_count": 204,
      "outputs": [
        {
          "output_type": "execute_result",
          "data": {
            "text/html": [
              "<div>\n",
              "<style scoped>\n",
              "    .dataframe tbody tr th:only-of-type {\n",
              "        vertical-align: middle;\n",
              "    }\n",
              "\n",
              "    .dataframe tbody tr th {\n",
              "        vertical-align: top;\n",
              "    }\n",
              "\n",
              "    .dataframe thead th {\n",
              "        text-align: right;\n",
              "    }\n",
              "</style>\n",
              "<table border=\"1\" class=\"dataframe\">\n",
              "  <thead>\n",
              "    <tr style=\"text-align: right;\">\n",
              "      <th></th>\n",
              "      <th>text</th>\n",
              "      <th>label</th>\n",
              "      <th>sampling</th>\n",
              "    </tr>\n",
              "  </thead>\n",
              "  <tbody>\n",
              "    <tr>\n",
              "      <th>0</th>\n",
              "      <td>The police department in Green Mountain Falls,...</td>\n",
              "      <td>real</td>\n",
              "      <td>No sampling</td>\n",
              "    </tr>\n",
              "    <tr>\n",
              "      <th>1</th>\n",
              "      <td>DHAKA, Bangladesh—Islamic State militants stor...</td>\n",
              "      <td>fake</td>\n",
              "      <td>nucleus</td>\n",
              "    </tr>\n",
              "    <tr>\n",
              "      <th>2</th>\n",
              "      <td>A few minutes into her visit with plastic surg...</td>\n",
              "      <td>real</td>\n",
              "      <td>No sampling</td>\n",
              "    </tr>\n",
              "    <tr>\n",
              "      <th>3</th>\n",
              "      <td>Here is the second item from my \"Albany Inside...</td>\n",
              "      <td>real</td>\n",
              "      <td>No sampling</td>\n",
              "    </tr>\n",
              "    <tr>\n",
              "      <th>4</th>\n",
              "      <td>Reversing a long and slow stock decline, share...</td>\n",
              "      <td>real</td>\n",
              "      <td>No sampling</td>\n",
              "    </tr>\n",
              "  </tbody>\n",
              "</table>\n",
              "</div>"
            ],
            "text/plain": [
              "                                                text label     sampling\n",
              "0  The police department in Green Mountain Falls,...  real  No sampling\n",
              "1  DHAKA, Bangladesh—Islamic State militants stor...  fake      nucleus\n",
              "2  A few minutes into her visit with plastic surg...  real  No sampling\n",
              "3  Here is the second item from my \"Albany Inside...  real  No sampling\n",
              "4  Reversing a long and slow stock decline, share...  real  No sampling"
            ]
          },
          "metadata": {
            "tags": []
          },
          "execution_count": 204
        }
      ]
    },
    {
      "cell_type": "code",
      "metadata": {
        "id": "FqV2_QKCbEWi",
        "colab_type": "code",
        "outputId": "35ac4de0-ef6d-43c8-af67-c6e60b338fca",
        "colab": {
          "base_uri": "https://localhost:8080/",
          "height": 195
        }
      },
      "source": [
        "df.tail()"
      ],
      "execution_count": 205,
      "outputs": [
        {
          "output_type": "execute_result",
          "data": {
            "text/html": [
              "<div>\n",
              "<style scoped>\n",
              "    .dataframe tbody tr th:only-of-type {\n",
              "        vertical-align: middle;\n",
              "    }\n",
              "\n",
              "    .dataframe tbody tr th {\n",
              "        vertical-align: top;\n",
              "    }\n",
              "\n",
              "    .dataframe thead th {\n",
              "        text-align: right;\n",
              "    }\n",
              "</style>\n",
              "<table border=\"1\" class=\"dataframe\">\n",
              "  <thead>\n",
              "    <tr style=\"text-align: right;\">\n",
              "      <th></th>\n",
              "      <th>text</th>\n",
              "      <th>label</th>\n",
              "      <th>sampling</th>\n",
              "    </tr>\n",
              "  </thead>\n",
              "  <tbody>\n",
              "    <tr>\n",
              "      <th>483197</th>\n",
              "      <td>Before you go, we thought you'd like these... ...</td>\n",
              "      <td>real</td>\n",
              "      <td>No sampling</td>\n",
              "    </tr>\n",
              "    <tr>\n",
              "      <th>483198</th>\n",
              "      <td>(CNN) -- When Egypt's first democratically ele...</td>\n",
              "      <td>fake</td>\n",
              "      <td>top_k</td>\n",
              "    </tr>\n",
              "    <tr>\n",
              "      <th>483199</th>\n",
              "      <td>These includes incentivising German women to h...</td>\n",
              "      <td>real</td>\n",
              "      <td>No sampling</td>\n",
              "    </tr>\n",
              "    <tr>\n",
              "      <th>483200</th>\n",
              "      <td>Worshippers in ponchos of all colors held up f...</td>\n",
              "      <td>fake</td>\n",
              "      <td>top_k</td>\n",
              "    </tr>\n",
              "    <tr>\n",
              "      <th>483201</th>\n",
              "      <td>Serena Williams just won her seventh Wimbledon...</td>\n",
              "      <td>real</td>\n",
              "      <td>No sampling</td>\n",
              "    </tr>\n",
              "  </tbody>\n",
              "</table>\n",
              "</div>"
            ],
            "text/plain": [
              "                                                     text label     sampling\n",
              "483197  Before you go, we thought you'd like these... ...  real  No sampling\n",
              "483198  (CNN) -- When Egypt's first democratically ele...  fake        top_k\n",
              "483199  These includes incentivising German women to h...  real  No sampling\n",
              "483200  Worshippers in ponchos of all colors held up f...  fake        top_k\n",
              "483201  Serena Williams just won her seventh Wimbledon...  real  No sampling"
            ]
          },
          "metadata": {
            "tags": []
          },
          "execution_count": 205
        }
      ]
    },
    {
      "cell_type": "code",
      "metadata": {
        "id": "kOy0RrV3bMLX",
        "colab_type": "code",
        "colab": {}
      },
      "source": [
        "fake = list(fakes['text'])\n",
        "real = list(reals['text'])\n",
        "\n",
        "df.to_csv('/content/drive/My Drive/postpoc_dpl_dataset.csv', index=False)"
      ],
      "execution_count": 0,
      "outputs": []
    },
    {
      "cell_type": "code",
      "metadata": {
        "id": "5_EaYKKI2vj8",
        "colab_type": "code",
        "colab": {}
      },
      "source": [
        "with open('/content/drive/My Drive/fake', 'wb') as fp:\n",
        "    pickle.dump(fake, fp)\n",
        "\n",
        "with open('/content/drive/My Drive/real', 'wb') as fp:\n",
        "    pickle.dump(real, fp)"
      ],
      "execution_count": 0,
      "outputs": []
    },
    {
      "cell_type": "code",
      "metadata": {
        "id": "Ziyp0CLA2vSP",
        "colab_type": "code",
        "colab": {}
      },
      "source": [
        "# with open ('fake', 'rb') as fp:\n",
        "#     itemlist = pickle.load(fp)"
      ],
      "execution_count": 0,
      "outputs": []
    }
  ]
}