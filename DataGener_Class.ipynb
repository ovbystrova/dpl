{
  "nbformat": 4,
  "nbformat_minor": 0,
  "metadata": {
    "colab": {
      "name": "DataGener_Class.ipynb",
      "provenance": [],
      "collapsed_sections": [],
      "toc_visible": true
    },
    "kernelspec": {
      "name": "python3",
      "display_name": "Python 3"
    },
    "accelerator": "GPU"
  },
  "cells": [
    {
      "cell_type": "markdown",
      "metadata": {
        "id": "kLoMtRBPnLS8",
        "colab_type": "text"
      },
      "source": [
        "[Тут](https://colab.research.google.com/drive/1EpJkZLzM0v4c7A3O9XWtXds1_7xAreZx) весь оставшийся мусор по  подготовке датасетов"
      ]
    },
    {
      "cell_type": "markdown",
      "metadata": {
        "id": "VkgCFI7sR75B",
        "colab_type": "text"
      },
      "source": [
        "Пока: \n",
        "\n",
        "\n",
        "*   Каждые 10к датасета дают прибавление в accuracy (20к - 0.81; 70к - 0.87)\n",
        "*   То, что выше - это получается на первых 2-3 эпохах, дальше модель переобучается. \n",
        "*   Если убрать стопслова из датасета на 50к записей, то результаты хуже (0.8 acc)\n",
        "\n",
        "Что делаю сейчас: \n",
        "\n",
        "\n",
        "*   Добавляю данные, увеличивая min_freq при создании словаря, мб размерность эмбеддингов увеличить стоит\n",
        "\n",
        "\n",
        "\n"
      ]
    },
    {
      "cell_type": "code",
      "metadata": {
        "id": "zS1RBB8GGgHb",
        "colab_type": "code",
        "colab": {}
      },
      "source": [
        "# TODO \n",
        "# Grover dataset (46gb)\n",
        "# Модель с нейросеток посмотреть, мб перенести"
      ],
      "execution_count": 0,
      "outputs": []
    },
    {
      "cell_type": "code",
      "metadata": {
        "id": "GdzzYVxhqrBc",
        "colab_type": "code",
        "colab": {}
      },
      "source": [
        "!pip install transformers"
      ],
      "execution_count": 0,
      "outputs": []
    },
    {
      "cell_type": "code",
      "metadata": {
        "id": "gLkRnCh-mCEB",
        "colab_type": "code",
        "outputId": "3a1c09e4-699c-4623-841f-f1b69ce78802",
        "colab": {
          "base_uri": "https://localhost:8080/",
          "height": 96
        }
      },
      "source": [
        "import pandas as pd \n",
        "import numpy as np\n",
        "import matplotlib.pyplot as plt\n",
        "import spacy\n",
        "from spacy.symbols import ORTH\n",
        "import re\n",
        "import json\n",
        "from tqdm import tqdm\n",
        "from sklearn.metrics import accuracy_score\n",
        "from gensim.models import Word2Vec, KeyedVectors\n",
        "\n",
        "import torch\n",
        "from torchtext.data import Field, LabelField, BucketIterator, TabularDataset, Iterator, Dataset\n",
        "import torch.nn as nn\n",
        "import torch.nn.functional as F\n",
        "import torch.optim as optim\n",
        "from torchtext.vocab import Vectors\n",
        "\n",
        "from transformers import GPT2Tokenizer, GPT2LMHeadModel\n",
        "\n",
        "LENGTH = 10000\n",
        "SEED = 42\n",
        "np.random.seed(SEED)\n",
        "\n",
        "import nltk\n",
        "from nltk import tokenize\n",
        "nltk.download('punkt')\n",
        "\n",
        "spacy_en = spacy.load('en')\n",
        "spacy_en.tokenizer.add_special_case(\"don't\", [{ORTH: \"do\"}, {ORTH: \"not\"}])\n",
        "spacy_en.tokenizer.add_special_case(\"didn't\", [{ORTH: \"did\"}, {ORTH: \"not\"}]) #adding special case so that tokenizer(\"\"\"don't\"\"\") != 'do'"
      ],
      "execution_count": 2,
      "outputs": [
        {
          "output_type": "display_data",
          "data": {
            "text/html": [
              "<p style=\"color: red;\">\n",
              "The default version of TensorFlow in Colab will soon switch to TensorFlow 2.x.<br>\n",
              "We recommend you <a href=\"https://www.tensorflow.org/guide/migrate\" target=\"_blank\">upgrade</a> now \n",
              "or ensure your notebook will continue to use TensorFlow 1.x via the <code>%tensorflow_version 1.x</code> magic:\n",
              "<a href=\"https://colab.research.google.com/notebooks/tensorflow_version.ipynb\" target=\"_blank\">more info</a>.</p>\n"
            ],
            "text/plain": [
              "<IPython.core.display.HTML object>"
            ]
          },
          "metadata": {
            "tags": []
          }
        },
        {
          "output_type": "stream",
          "text": [
            "[nltk_data] Downloading package punkt to /root/nltk_data...\n",
            "[nltk_data]   Package punkt is already up-to-date!\n"
          ],
          "name": "stdout"
        }
      ]
    },
    {
      "cell_type": "code",
      "metadata": {
        "id": "2Iz4rb52zW8G",
        "colab_type": "code",
        "colab": {}
      },
      "source": [
        "def clean_data(text):\n",
        "    text = re.sub(r'\\<[^>]*\\>', '', text)\n",
        "    text = re.sub(r'\\<[^>]*\\>', '', text)\n",
        "    text = re.sub(r'\\n', ' ', text)\n",
        "    text = re.sub(r'&[a-z]{0,7};', ' ', text)\n",
        "    text = re.sub(r'\\s{2,10}', ' ', text)\n",
        "    text = re.sub(r'\\s{2,10}', ' ', text)\n",
        "    text = re.sub(r'\\\\\\\\x\\d{1,4}', '', text)\n",
        "    return text"
      ],
      "execution_count": 0,
      "outputs": []
    },
    {
      "cell_type": "code",
      "metadata": {
        "id": "JxjzcvpB0NKb",
        "colab_type": "code",
        "colab": {}
      },
      "source": [
        "def sent_first(text): # to gpt2\n",
        "    return tokenize.sent_tokenize(text)[0]\n",
        "\n",
        "def sent_splitter(text): # to classification model\n",
        "    return ' '.join(tokenize.sent_tokenize(text)[:2])\n",
        "\n",
        "def tokenizer(text):\n",
        "    return [tok.lemma_ for tok in spacy_en.tokenizer(text) if tok.text.isalpha()]"
      ],
      "execution_count": 0,
      "outputs": []
    },
    {
      "cell_type": "code",
      "metadata": {
        "id": "QBkHZ4NykdaL",
        "colab_type": "code",
        "colab": {}
      },
      "source": [
        "def open_file(file):\n",
        "    with open(file, 'r', encoding='utf-8') as f:\n",
        "        fake = [line for line in f.readlines()]\n",
        "    return fake"
      ],
      "execution_count": 0,
      "outputs": []
    },
    {
      "cell_type": "markdown",
      "metadata": {
        "id": "rLs3QxlMx_YL",
        "colab_type": "text"
      },
      "source": [
        "# Process Original Dataset"
      ]
    },
    {
      "cell_type": "code",
      "metadata": {
        "id": "3SRA6pwPyBuX",
        "colab_type": "code",
        "colab": {}
      },
      "source": [
        "!pip install -U -q PyDrive\n",
        "from pydrive.auth import GoogleAuth\n",
        "from pydrive.drive import GoogleDrive\n",
        "from google.colab import auth\n",
        "from oauth2client.client import GoogleCredentials\n",
        "auth.authenticate_user()\n",
        "gauth = GoogleAuth()\n",
        "gauth.credentials = GoogleCredentials.get_application_default()\n",
        "drive = GoogleDrive(gauth)\n",
        "\n",
        "idd = '1h_kUrWbKvZR0iRms8zKMUJO5zq9wbIXW' #Newsroom\n",
        "downloaded_ = drive.CreateFile({'id':idd}) \n",
        "downloaded_.GetContentFile('train.jsonl')"
      ],
      "execution_count": 0,
      "outputs": []
    },
    {
      "cell_type": "code",
      "metadata": {
        "id": "qKOzoQ7ryY4C",
        "colab_type": "code",
        "colab": {}
      },
      "source": [
        "def initial(file, start_idx=0):\n",
        "    \n",
        "    with open(file, 'r') as json_file:\n",
        "        json_list = list(json_file)[start_idx:start_idx+LENGTH]\n",
        "    \n",
        "    data = []\n",
        "    for json_str in json_list:\n",
        "        result = json.loads(json_str)\n",
        "        data.append(result['text'])\n",
        "\n",
        "    df = pd.DataFrame()\n",
        "    df['text'] = data\n",
        "    df['label'] = ['real'] * len(data)\n",
        "    df['text'] = df['text'].apply(clean_data)\n",
        "    \n",
        "    return df"
      ],
      "execution_count": 0,
      "outputs": []
    },
    {
      "cell_type": "code",
      "metadata": {
        "id": "mNH4otsEz2Cs",
        "colab_type": "code",
        "colab": {}
      },
      "source": [
        "def process_df(df):\n",
        "\n",
        "    text_gpt2 = list(df['text'].apply(sent_first))[:LENGTH]\n",
        "    df.text  = df['text'].apply(sent_splitter)\n",
        "\n",
        "    return text_gpt2, df "
      ],
      "execution_count": 0,
      "outputs": []
    },
    {
      "cell_type": "code",
      "metadata": {
        "id": "zJ0ksJpL5wkQ",
        "colab_type": "code",
        "colab": {}
      },
      "source": [
        "df = initial('train.jsonl', start_idx=70000) #Выгружаю пачками по 10к данные, генерирую текст, добавляю в финальный датасет\n",
        "text_gpt2, df = process_df(df)"
      ],
      "execution_count": 0,
      "outputs": []
    },
    {
      "cell_type": "code",
      "metadata": {
        "id": "q0t15aJBMcHY",
        "colab_type": "code",
        "outputId": "949c17dc-54c9-427a-c9d4-564c27b49999",
        "colab": {
          "base_uri": "https://localhost:8080/",
          "height": 195
        }
      },
      "source": [
        "df.head()"
      ],
      "execution_count": 85,
      "outputs": [
        {
          "output_type": "execute_result",
          "data": {
            "text/html": [
              "<div>\n",
              "<style scoped>\n",
              "    .dataframe tbody tr th:only-of-type {\n",
              "        vertical-align: middle;\n",
              "    }\n",
              "\n",
              "    .dataframe tbody tr th {\n",
              "        vertical-align: top;\n",
              "    }\n",
              "\n",
              "    .dataframe thead th {\n",
              "        text-align: right;\n",
              "    }\n",
              "</style>\n",
              "<table border=\"1\" class=\"dataframe\">\n",
              "  <thead>\n",
              "    <tr style=\"text-align: right;\">\n",
              "      <th></th>\n",
              "      <th>text</th>\n",
              "      <th>label</th>\n",
              "    </tr>\n",
              "  </thead>\n",
              "  <tbody>\n",
              "    <tr>\n",
              "      <th>0</th>\n",
              "      <td>(John Kemp is a Reuters market analyst. The vi...</td>\n",
              "      <td>real</td>\n",
              "    </tr>\n",
              "    <tr>\n",
              "      <th>1</th>\n",
              "      <td>Hewlett-Packard CEO Meg Whitman said Wednesday...</td>\n",
              "      <td>real</td>\n",
              "    </tr>\n",
              "    <tr>\n",
              "      <th>2</th>\n",
              "      <td>It's worth noting that some of these stocks, l...</td>\n",
              "      <td>real</td>\n",
              "    </tr>\n",
              "    <tr>\n",
              "      <th>3</th>\n",
              "      <td>TAIPEI, Sept 10 (Reuters) - Computer maker Del...</td>\n",
              "      <td>real</td>\n",
              "    </tr>\n",
              "    <tr>\n",
              "      <th>4</th>\n",
              "      <td>Yukawa, 42, was seized by militants in August ...</td>\n",
              "      <td>real</td>\n",
              "    </tr>\n",
              "  </tbody>\n",
              "</table>\n",
              "</div>"
            ],
            "text/plain": [
              "                                                text label\n",
              "0  (John Kemp is a Reuters market analyst. The vi...  real\n",
              "1  Hewlett-Packard CEO Meg Whitman said Wednesday...  real\n",
              "2  It's worth noting that some of these stocks, l...  real\n",
              "3  TAIPEI, Sept 10 (Reuters) - Computer maker Del...  real\n",
              "4  Yukawa, 42, was seized by militants in August ...  real"
            ]
          },
          "metadata": {
            "tags": []
          },
          "execution_count": 85
        }
      ]
    },
    {
      "cell_type": "code",
      "metadata": {
        "id": "xEikjrAfMfOb",
        "colab_type": "code",
        "outputId": "8d30cef1-a728-4605-baaf-e7974eafc1dd",
        "colab": {
          "base_uri": "https://localhost:8080/",
          "height": 34
        }
      },
      "source": [
        "len(text_gpt2), text_gpt2[0]"
      ],
      "execution_count": 86,
      "outputs": [
        {
          "output_type": "execute_result",
          "data": {
            "text/plain": [
              "(10000, '(John Kemp is a Reuters market analyst.')"
            ]
          },
          "metadata": {
            "tags": []
          },
          "execution_count": 86
        }
      ]
    },
    {
      "cell_type": "code",
      "metadata": {
        "id": "LWv3UTTQo7_T",
        "colab_type": "code",
        "outputId": "87e9108a-0f32-4793-ebc2-f978b87590de",
        "colab": {
          "base_uri": "https://localhost:8080/",
          "height": 70
        }
      },
      "source": [
        "text_gpt2[-1], df.text.tolist()[-1]"
      ],
      "execution_count": 87,
      "outputs": [
        {
          "output_type": "execute_result",
          "data": {
            "text/plain": [
              "('It took more than three years for the case against accused triple-murderer Salvatore Perrone to come to trial, but less than three hours for the jury to return a verdict: “Guilty.',\n",
              " 'It took more than three years for the case against accused triple-murderer Salvatore Perrone to come to trial, but less than three hours for the jury to return a verdict: “Guilty. Guilty.')"
            ]
          },
          "metadata": {
            "tags": []
          },
          "execution_count": 87
        }
      ]
    },
    {
      "cell_type": "markdown",
      "metadata": {
        "id": "ohmwbm0lpjYb",
        "colab_type": "text"
      },
      "source": [
        "# Data Generation"
      ]
    },
    {
      "cell_type": "code",
      "metadata": {
        "id": "zDx8PaUgpf3V",
        "colab_type": "code",
        "colab": {}
      },
      "source": [
        "MAX_LENGTH = 25\n",
        "tokenizer = GPT2Tokenizer.from_pretrained(\"gpt2\")\n",
        "model = GPT2LMHeadModel.from_pretrained('gpt2')"
      ],
      "execution_count": 0,
      "outputs": []
    },
    {
      "cell_type": "code",
      "metadata": {
        "id": "1yC9XGbRq0Wu",
        "colab_type": "code",
        "colab": {}
      },
      "source": [
        "def generate_sentence(text, tokenizer, model):\n",
        "    generated = tokenizer.encode(text)\n",
        "    initial_length = len(generated)\n",
        "    context = torch.tensor([generated])\n",
        "    past = None\n",
        "\n",
        "    for i in range(MAX_LENGTH):\n",
        "        output, past = model(context, past=past)\n",
        "        token = torch.argmax(output[0, :])\n",
        "\n",
        "        generated += [token.tolist()]\n",
        "        context = token.unsqueeze(0)\n",
        "        if (tokenizer.decode(token.tolist()) in ['!', '?', '.']) and (len(generated) - initial_length > 2):\n",
        "            break\n",
        "    sequence = tokenizer.decode(generated)\n",
        "    return sequence"
      ],
      "execution_count": 0,
      "outputs": []
    },
    {
      "cell_type": "code",
      "metadata": {
        "id": "gaDP6ClJvJ73",
        "colab_type": "code",
        "colab": {}
      },
      "source": [
        "def make_fake(texts, fake=[], real=[], df=df, tokenizer=tokenizer, model=model):\n",
        "    i = 0\n",
        "    for ind, el in tqdm(enumerate(texts)):\n",
        "        try:\n",
        "            sent = generate_sentence(el, tokenizer=tokenizer, model=model)\n",
        "            sent = re.sub(r'\\n', '', sent)\n",
        "            fake.append(sent)\n",
        "            real.append(df.text.tolist()[ind])\n",
        "        except:\n",
        "            i+=1\n",
        "        if i % 1000 == 0:\n",
        "            print(i, 'out of', ind,' are not found in emb dict')    \n",
        "\n",
        "    with open('fake.txt', 'w', encoding='utf-8') as f:\n",
        "        for item in fake:\n",
        "            f.write('{}\\n'.format(item))\n",
        "    with open('real.txt', 'w', encoding='utf-8') as f:\n",
        "        for item in real:\n",
        "            f.write('{}\\n'.format(item))\n",
        "    return fake, real"
      ],
      "execution_count": 0,
      "outputs": []
    },
    {
      "cell_type": "code",
      "metadata": {
        "id": "_l1kw3dQ6GyV",
        "colab_type": "code",
        "colab": {}
      },
      "source": [
        "fake, real = make_fake(text_gpt2, fake=fake, real=real) #Если нет real и fake - убрать из параметров"
      ],
      "execution_count": 0,
      "outputs": []
    },
    {
      "cell_type": "code",
      "metadata": {
        "id": "L1aZgMNALhs4",
        "colab_type": "code",
        "outputId": "8ee86d72-d42f-42ba-88e4-b5148ac633e7",
        "colab": {
          "base_uri": "https://localhost:8080/",
          "height": 34
        }
      },
      "source": [
        "len(fake), len(real)"
      ],
      "execution_count": 10,
      "outputs": [
        {
          "output_type": "execute_result",
          "data": {
            "text/plain": [
              "(37366, 37366)"
            ]
          },
          "metadata": {
            "tags": []
          },
          "execution_count": 10
        }
      ]
    },
    {
      "cell_type": "code",
      "metadata": {
        "id": "AaEZYDvoy4ez",
        "colab_type": "code",
        "colab": {}
      },
      "source": [
        "#Запустить, если в датафрейпе появляются лишние строчки с \\n (всегда)\n",
        "fake = [re.sub(r'\\n', '', line) for line in fake]\n",
        "real = [re.sub(r'\\n', '', line) for line in real]\n",
        "with open('fake.txt', 'w', encoding='utf-8') as f:\n",
        "        for item in fake:\n",
        "            f.write('{}\\n'.format(item))\n",
        "with open('real.txt', 'w', encoding='utf-8') as f:\n",
        "    for item in real:\n",
        "        f.write('{}\\n'.format(item))"
      ],
      "execution_count": 0,
      "outputs": []
    },
    {
      "cell_type": "code",
      "metadata": {
        "id": "efQg13TbLkLd",
        "colab_type": "code",
        "outputId": "f7548f63-52ed-460f-d0ed-aeb055d4c78d",
        "colab": {
          "base_uri": "https://localhost:8080/",
          "height": 70
        }
      },
      "source": [
        "fake[0], real[0]"
      ],
      "execution_count": 11,
      "outputs": [
        {
          "output_type": "execute_result",
          "data": {
            "text/plain": [
              "('Spinach has terrorized generations of veggie-phobic kids, and many grownups don\\'t much like it, either..\"I think it\\'s a little bit of a shock to see that he\\'s been able to do this,\"\\n',\n",
              " \"Spinach has terrorized generations of veggie-phobic kids, and many grownups don't much like it, either. But when it's combined with seasonings and feta cheese and wrapped in a golden crisp phyllo dough crust, even those who despise Popeye's Â\\xadfavorite food ask for seconds.\\n\")"
            ]
          },
          "metadata": {
            "tags": []
          },
          "execution_count": 11
        }
      ]
    },
    {
      "cell_type": "code",
      "metadata": {
        "id": "NbIyQNPNMsNh",
        "colab_type": "code",
        "outputId": "486bec84-fa8d-4a8e-e11b-b51043e0fa97",
        "colab": {
          "base_uri": "https://localhost:8080/",
          "height": 70
        }
      },
      "source": [
        "fake[-1], real[-1]"
      ],
      "execution_count": 12,
      "outputs": [
        {
          "output_type": "execute_result",
          "data": {
            "text/plain": [
              "('If you thought 2014 was volatile, hold on to your hats this year as the price of oil could hit $30 a barrel and the bond markets will outperform, according to Bob Janjuah, a closely-watched strategist from Nomura Securities. the Dow Jones Industrial Average is up more than 1.\\n',\n",
              " 'If you thought 2014 was volatile, hold on to your hats this year as the price of oil could hit $30 a barrel and the bond markets will outperform, according to Bob Janjuah, a closely-watched strategist from Nomura Securities. He told CNBC on Monday that there was little chance of Saudi Arabia changing its decision not to cut oil production, despite the 60 percent fall in prices since June 2014, and the cost of a barrel could head even lower.\\n')"
            ]
          },
          "metadata": {
            "tags": []
          },
          "execution_count": 12
        }
      ]
    },
    {
      "cell_type": "markdown",
      "metadata": {
        "id": "1Z4fRXKLw9zi",
        "colab_type": "text"
      },
      "source": [
        "# To DF and CSV"
      ]
    },
    {
      "cell_type": "code",
      "metadata": {
        "id": "w_zc_QyPxGWF",
        "colab_type": "code",
        "colab": {}
      },
      "source": [
        "def make_dataframe(df, fake, real, df_concat=None):\n",
        "    \n",
        "    fake = open_file(fake) if type(fake) == str else fake\n",
        "    \n",
        "    real = open_file(real) if type(real) == str else real\n",
        "    new_df = pd.DataFrame()\n",
        "    new_df['text'] = real + fake\n",
        "    new_df['label'] = ['real'] * len(real) + ['fake'] * len(fake)\n",
        "    \n",
        "    if df_concat is not None:\n",
        "       new_df = pd.concat([df_concat, new_df])\n",
        "    return new_df"
      ],
      "execution_count": 0,
      "outputs": []
    },
    {
      "cell_type": "code",
      "metadata": {
        "id": "HYypdiYa5hWs",
        "colab_type": "code",
        "colab": {}
      },
      "source": [
        "final_df = make_dataframe(df, 'fake.txt', 'real.txt')\n",
        "final_df.to_csv(\"dataset.csv\", index=False)"
      ],
      "execution_count": 0,
      "outputs": []
    },
    {
      "cell_type": "code",
      "metadata": {
        "id": "vcUmtOJHNHzf",
        "colab_type": "code",
        "outputId": "b46659c4-c58d-432c-f135-b8eda484e26d",
        "colab": {
          "base_uri": "https://localhost:8080/",
          "height": 195
        }
      },
      "source": [
        "final_df.head()"
      ],
      "execution_count": 13,
      "outputs": [
        {
          "output_type": "execute_result",
          "data": {
            "text/html": [
              "<div>\n",
              "<style scoped>\n",
              "    .dataframe tbody tr th:only-of-type {\n",
              "        vertical-align: middle;\n",
              "    }\n",
              "\n",
              "    .dataframe tbody tr th {\n",
              "        vertical-align: top;\n",
              "    }\n",
              "\n",
              "    .dataframe thead th {\n",
              "        text-align: right;\n",
              "    }\n",
              "</style>\n",
              "<table border=\"1\" class=\"dataframe\">\n",
              "  <thead>\n",
              "    <tr style=\"text-align: right;\">\n",
              "      <th></th>\n",
              "      <th>text</th>\n",
              "      <th>label</th>\n",
              "    </tr>\n",
              "  </thead>\n",
              "  <tbody>\n",
              "    <tr>\n",
              "      <th>0</th>\n",
              "      <td>Spinach has terrorized generations of veggie-p...</td>\n",
              "      <td>real</td>\n",
              "    </tr>\n",
              "    <tr>\n",
              "      <th>1</th>\n",
              "      <td>All day, every day, Cheryl Bernstein thanks he...</td>\n",
              "      <td>real</td>\n",
              "    </tr>\n",
              "    <tr>\n",
              "      <th>2</th>\n",
              "      <td>With Police Commissioner Bernard Kerik crackin...</td>\n",
              "      <td>real</td>\n",
              "    </tr>\n",
              "    <tr>\n",
              "      <th>3</th>\n",
              "      <td>Wednesday, April 19th 1995, 2:35AM Jail inmate...</td>\n",
              "      <td>real</td>\n",
              "    </tr>\n",
              "    <tr>\n",
              "      <th>4</th>\n",
              "      <td>BY GEORGE RUSH AND JOANNA MOLLOY With Kasia An...</td>\n",
              "      <td>real</td>\n",
              "    </tr>\n",
              "  </tbody>\n",
              "</table>\n",
              "</div>"
            ],
            "text/plain": [
              "                                                text label\n",
              "0  Spinach has terrorized generations of veggie-p...  real\n",
              "1  All day, every day, Cheryl Bernstein thanks he...  real\n",
              "2  With Police Commissioner Bernard Kerik crackin...  real\n",
              "3  Wednesday, April 19th 1995, 2:35AM Jail inmate...  real\n",
              "4  BY GEORGE RUSH AND JOANNA MOLLOY With Kasia An...  real"
            ]
          },
          "metadata": {
            "tags": []
          },
          "execution_count": 13
        }
      ]
    },
    {
      "cell_type": "code",
      "metadata": {
        "id": "cPgnwgTRNK1L",
        "colab_type": "code",
        "outputId": "154643f7-f819-47cc-a978-05b9a16ad7d9",
        "colab": {
          "base_uri": "https://localhost:8080/",
          "height": 195
        }
      },
      "source": [
        "final_df.tail()"
      ],
      "execution_count": 14,
      "outputs": [
        {
          "output_type": "execute_result",
          "data": {
            "text/html": [
              "<div>\n",
              "<style scoped>\n",
              "    .dataframe tbody tr th:only-of-type {\n",
              "        vertical-align: middle;\n",
              "    }\n",
              "\n",
              "    .dataframe tbody tr th {\n",
              "        vertical-align: top;\n",
              "    }\n",
              "\n",
              "    .dataframe thead th {\n",
              "        text-align: right;\n",
              "    }\n",
              "</style>\n",
              "<table border=\"1\" class=\"dataframe\">\n",
              "  <thead>\n",
              "    <tr style=\"text-align: right;\">\n",
              "      <th></th>\n",
              "      <th>text</th>\n",
              "      <th>label</th>\n",
              "    </tr>\n",
              "  </thead>\n",
              "  <tbody>\n",
              "    <tr>\n",
              "      <th>74727</th>\n",
              "      <td>Read MoreHow to trade the midterm elections: P...</td>\n",
              "      <td>fake</td>\n",
              "    </tr>\n",
              "    <tr>\n",
              "      <th>74728</th>\n",
              "      <td>Markets showed gains Thursday for a second str...</td>\n",
              "      <td>fake</td>\n",
              "    </tr>\n",
              "    <tr>\n",
              "      <th>74729</th>\n",
              "      <td>Oh no, please no., I'm not going to do that.\\n</td>\n",
              "      <td>fake</td>\n",
              "    </tr>\n",
              "    <tr>\n",
              "      <th>74730</th>\n",
              "      <td>These strident assurances from the bank appear...</td>\n",
              "      <td>fake</td>\n",
              "    </tr>\n",
              "    <tr>\n",
              "      <th>74731</th>\n",
              "      <td>If you thought 2014 was volatile, hold on to y...</td>\n",
              "      <td>fake</td>\n",
              "    </tr>\n",
              "  </tbody>\n",
              "</table>\n",
              "</div>"
            ],
            "text/plain": [
              "                                                    text label\n",
              "74727  Read MoreHow to trade the midterm elections: P...  fake\n",
              "74728  Markets showed gains Thursday for a second str...  fake\n",
              "74729     Oh no, please no., I'm not going to do that.\\n  fake\n",
              "74730  These strident assurances from the bank appear...  fake\n",
              "74731  If you thought 2014 was volatile, hold on to y...  fake"
            ]
          },
          "metadata": {
            "tags": []
          },
          "execution_count": 14
        }
      ]
    },
    {
      "cell_type": "markdown",
      "metadata": {
        "id": "7EPSubU_jEP-",
        "colab_type": "text"
      },
      "source": [
        "# Data - Сразу сюда, когда есть final_df и dataset.csv"
      ]
    },
    {
      "cell_type": "code",
      "metadata": {
        "id": "uqz2PutUL8l6",
        "colab_type": "code",
        "colab": {}
      },
      "source": [
        "#Запускать если нужен готовый датафрейм (final_df) и файл dataset.csv, без генерации чего либо, сразу модель запускать\n",
        "!pip install -U -q PyDrive\n",
        "from pydrive.auth import GoogleAuth\n",
        "from pydrive.drive import GoogleDrive\n",
        "from google.colab import auth\n",
        "from oauth2client.client import GoogleCredentials\n",
        "auth.authenticate_user()\n",
        "gauth = GoogleAuth()\n",
        "gauth.credentials = GoogleCredentials.get_application_default()\n",
        "drive = GoogleDrive(gauth)\n",
        "\n",
        "idd = '1goRkFXGEyrBoDuxfnDvmpHL3QQNM4AWK'\n",
        "downloaded_ = drive.CreateFile({'id':idd}) \n",
        "downloaded_.GetContentFile('dataset.csv')\n",
        "\n",
        "downloaded_ = drive.CreateFile({'id':'1HmV7mhKV7bS3TsEEgAe60oMoh8pvS7IS'}) \n",
        "downloaded_.GetContentFile('fake.txt')\n",
        "\n",
        "downloaded_ = drive.CreateFile({'id':'1vRBk1xOkRumOavk1RZdTIFI_SebrLCBW'}) \n",
        "downloaded_.GetContentFile('real.txt')\n",
        "\n",
        "fake = open_file('fake.txt')\n",
        "real = open_file('real.txt')\n",
        "\n",
        "final_df = pd.read_csv('dataset.csv')\n"
      ],
      "execution_count": 0,
      "outputs": []
    },
    {
      "cell_type": "code",
      "metadata": {
        "id": "33sRp6h7fcNj",
        "colab_type": "code",
        "colab": {}
      },
      "source": [
        "def tokenizer(text):\n",
        "    return [tok.lemma_ for tok in spacy_en.tokenizer(text) if (tok.text.isalpha() or tok.text.isdigit())]"
      ],
      "execution_count": 0,
      "outputs": []
    },
    {
      "cell_type": "code",
      "metadata": {
        "id": "Pz5pDXWEf7vV",
        "colab_type": "code",
        "outputId": "d7b5f460-2d3e-496d-f1aa-d949b3dd6d17",
        "colab": {
          "base_uri": "https://localhost:8080/",
          "height": 70
        }
      },
      "source": [
        "text = list(final_df['text'].apply(tokenizer))\n",
        "model = Word2Vec(text, size=100, iter=10) #building emb of size 100\n",
        "model_weights = torch.FloatTensor(model.wv.vectors)\n",
        "model.wv.save_word2vec_format('pretrained_embeddings')\n",
        "vectors = Vectors(name='pretrained_embeddings', cache='./') #and saving the weights to build vocab later"
      ],
      "execution_count": 16,
      "outputs": [
        {
          "output_type": "stream",
          "text": [
            "/usr/local/lib/python3.6/dist-packages/smart_open/smart_open_lib.py:402: UserWarning: This function is deprecated, use smart_open.open instead. See the migration notes for details: https://github.com/RaRe-Technologies/smart_open/blob/master/README.rst#migrating-to-the-new-open-function\n",
            "  'See the migration notes for details: %s' % _MIGRATION_NOTES_URL\n"
          ],
          "name": "stderr"
        }
      ]
    },
    {
      "cell_type": "code",
      "metadata": {
        "id": "ga1CY5-Bf-Nl",
        "colab_type": "code",
        "outputId": "e17de17e-ae1e-483c-c907-e424c5997d75",
        "colab": {
          "base_uri": "https://localhost:8080/",
          "height": 50
        }
      },
      "source": [
        "MAX_VOCAB_SIZE = 50000\n",
        "classes={'fake': 0, 'real': 1}\n",
        "\n",
        "\n",
        "TEXT = Field(sequential=True, include_lengths=False, batch_first=True, tokenize=tokenizer, \n",
        "             pad_first=True, lower=True, eos_token='<eos>') \n",
        "LABEL = LabelField(dtype=torch.float, use_vocab=True, preprocessing=lambda x: classes[x])\n",
        "\n",
        "\n",
        "dataset = TabularDataset('dataset.csv', \n",
        "                                format='csv', fields=[('text', TEXT), ('label',LABEL),], \n",
        "                                skip_header=True)\n",
        "\n",
        "TEXT.build_vocab(dataset, vectors=vectors,\n",
        "                   unk_init = torch.Tensor.normal_, max_size=MAX_VOCAB_SIZE, min_freq=2)\n",
        "LABEL.build_vocab(dataset)\n",
        "vocab = TEXT.vocab\n",
        "print('Vocab size:', len(TEXT.vocab.itos))\n",
        "TEXT.vocab.itos[:10]"
      ],
      "execution_count": 17,
      "outputs": [
        {
          "output_type": "stream",
          "text": [
            "Vocab size: 39780\n"
          ],
          "name": "stdout"
        },
        {
          "output_type": "execute_result",
          "data": {
            "text/plain": [
              "['<unk>', '<pad>', '<eos>', 'the', 'a', 'be', 'of', 'to', 'in', 'and']"
            ]
          },
          "metadata": {
            "tags": []
          },
          "execution_count": 17
        }
      ]
    },
    {
      "cell_type": "code",
      "metadata": {
        "id": "Lkj2Dncof_o-",
        "colab_type": "code",
        "colab": {}
      },
      "source": [
        "train, test = dataset.split(0.8, stratified=True)\n",
        "train, valid = train.split(0.8, stratified=True)"
      ],
      "execution_count": 0,
      "outputs": []
    },
    {
      "cell_type": "markdown",
      "metadata": {
        "id": "jme39KlXi_tZ",
        "colab_type": "text"
      },
      "source": [
        "# Model  - simple BiLSTM"
      ]
    },
    {
      "cell_type": "code",
      "metadata": {
        "id": "kMABaZ6vgGhJ",
        "colab_type": "code",
        "colab": {}
      },
      "source": [
        "class MyModel(nn.Module):\n",
        "    \n",
        "    def __init__(self, vocab_size, embed_size, hidden_size):\n",
        "        super(MyModel, self).__init__()\n",
        "        self.embedding = nn.Embedding(vocab_size, embed_size)\n",
        "        self.embedding.weight.data.copy_(vocab.vectors)\n",
        "        self.rnn = nn.LSTM(input_size=embed_size,\n",
        "                           hidden_size=hidden_size,\n",
        "                           bidirectional=True,\n",
        "                           batch_first=True,\n",
        "                          )\n",
        "        \n",
        "        self.fc = nn.Linear(hidden_size * 2 *2, 1)\n",
        "        \n",
        "    def forward(self, x):\n",
        "        \n",
        "        x = self.embedding(x)\n",
        "           \n",
        "        _, (hidden, cell) = self.rnn(x)\n",
        "        \n",
        "        hidden = hidden.transpose(0,1)\n",
        "        cell = cell.transpose(0,1)\n",
        "        hidden = hidden.contiguous().view(hidden.size(0),-1)\n",
        "        cell = cell.contiguous().view(cell.size(0),-1)\n",
        "        x = torch.cat([hidden, cell], dim=1).squeeze(1)\n",
        "        x = self.fc(x)\n",
        "        return x"
      ],
      "execution_count": 0,
      "outputs": []
    },
    {
      "cell_type": "code",
      "metadata": {
        "id": "97CoHSWVgQTb",
        "colab_type": "code",
        "colab": {}
      },
      "source": [
        "batch_size = 256\n",
        "\n",
        "model = MyModel(len(TEXT.vocab.itos),\n",
        "                embed_size=100,\n",
        "                hidden_size=128,\n",
        "               )\n",
        "model.embedding.weight.data.copy_(TEXT.vocab.vectors);\n",
        "\n",
        "train_iterator, valid_iterator, test_iterator = BucketIterator.splits(\n",
        "    (train, valid, test),\n",
        "    batch_sizes=(batch_size, batch_size, batch_size),\n",
        "    shuffle=True,\n",
        "    sort_key=lambda x: len(x.text),\n",
        "    sort_within_batch=True,\n",
        ")\n",
        "\n",
        "optimizer = optim.Adam(model.parameters())\n",
        "scheduler = optim.lr_scheduler.ReduceLROnPlateau(optimizer, patience=2, verbose=True, cooldown=5)\n",
        "#scheduler = optim.lr_scheduler.CosineAnnealingLR(optimizer, T_max=5)\n",
        "criterion = nn.BCEWithLogitsLoss()"
      ],
      "execution_count": 0,
      "outputs": []
    },
    {
      "cell_type": "code",
      "metadata": {
        "id": "2Gh595PtgUKV",
        "colab_type": "code",
        "colab": {}
      },
      "source": [
        "def accuracy_score(preds, y):\n",
        "    preds = torch.round(torch.sigmoid(preds))\n",
        "    preds = (preds == y).float()\n",
        "    accuracy = preds.sum() / len(preds)\n",
        "    return accuracy"
      ],
      "execution_count": 0,
      "outputs": []
    },
    {
      "cell_type": "code",
      "metadata": {
        "id": "25q_C7cugbw9",
        "colab_type": "code",
        "colab": {}
      },
      "source": [
        "def test_model(model, test_iterator):\n",
        "    test_acc = []\n",
        "\n",
        "    with torch.no_grad():\n",
        "        for item in test_iterator:\n",
        "            x = item.text\n",
        "            y = item.label\n",
        "            preds = model(x).squeeze(1)\n",
        "            test_acc.append(accuracy_score(preds, y))\n",
        "    test_acc = np.mean(test_acc) \n",
        "    return np.mean(test_acc)"
      ],
      "execution_count": 0,
      "outputs": []
    },
    {
      "cell_type": "code",
      "metadata": {
        "id": "VpAArkBZgezQ",
        "colab_type": "code",
        "colab": {}
      },
      "source": [
        "def train_cnn(model, train_iterator, valid_iterator, criterion, device, n_epochs=20):\n",
        "    \n",
        "    history = []\n",
        "\n",
        "    for epoch in range(n_epochs):\n",
        "        train_loss = []\n",
        "        train_acc = []\n",
        "        model.train()\n",
        "\n",
        "    \n",
        "        for item in tqdm(train_iterator):\n",
        "            x = item.text\n",
        "            y = item.label\n",
        "            optimizer.zero_grad()\n",
        "            preds = model(x).squeeze(1)\n",
        "            loss = criterion(preds, y)\n",
        "            loss.backward()\n",
        "            optimizer.step()\n",
        "            train_loss.append(loss.data.detach().item())\n",
        "            train_acc.append(accuracy_score(preds, y))\n",
        "\n",
        "        train_loss = np.mean(train_loss)\n",
        "        train_acc = np.mean(train_acc)\n",
        "\n",
        "        model.eval()\n",
        "        val_loss = []\n",
        "        val_acc = []\n",
        "        for item in valid_iterator:\n",
        "            x = item.text\n",
        "            y = item.label\n",
        "            preds = model(x).squeeze(1)\n",
        "            loss = criterion(preds, y)\n",
        "            val_loss.append(loss.data.detach().item())\n",
        "            val_acc.append(accuracy_score(preds, y))\n",
        "        val_loss = np.mean(val_loss)\n",
        "        val_acc = np.mean(val_acc)\n",
        "\n",
        "        scheduler.step(val_loss)\n",
        "\n",
        "\n",
        "        print('Epoch: {}. Train loss: {:.3f}. Train accuracy: {:.3f}. Val loss: {:.3f}. Val accuracy: {:.3f}'.format(\n",
        "            epoch, train_loss, train_acc, val_loss, val_acc))        \n",
        "        \n",
        "        history.append({\n",
        "            'epoch': epoch,\n",
        "            'train_loss': train_loss,\n",
        "            'train_acc': train_acc,\n",
        "            'val_acc': val_acc,\n",
        "            'val_loss': val_loss\n",
        "        })\n",
        "\n",
        "        #if epoch % 5 == 0:\n",
        "            #torch.save(model.state_dict(), '/content/model_test')\n",
        "\n",
        "    return history"
      ],
      "execution_count": 0,
      "outputs": []
    },
    {
      "cell_type": "code",
      "metadata": {
        "id": "NeabQspxiOT_",
        "colab_type": "code",
        "colab": {}
      },
      "source": [
        "def clean_tqdm():\n",
        "    for instance in list(tqdm._instances): \n",
        "        tqdm._decr_instances(instance)"
      ],
      "execution_count": 0,
      "outputs": []
    },
    {
      "cell_type": "code",
      "metadata": {
        "id": "jBdu82gkPo8a",
        "colab_type": "code",
        "outputId": "cf73f1a6-3ec4-43f0-9f3a-7bd3c48a8761",
        "colab": {
          "base_uri": "https://localhost:8080/",
          "height": 118
        }
      },
      "source": [
        "clean_tqdm()\n",
        "history = train_cnn(model, train_iterator, valid_iterator,\n",
        "          criterion,  device='cpu', n_epochs=3)"
      ],
      "execution_count": 33,
      "outputs": [
        {
          "output_type": "stream",
          "text": [
            "100%|██████████| 187/187 [02:28<00:00,  1.89it/s]\n",
            "  0%|          | 0/187 [00:00<?, ?it/s]"
          ],
          "name": "stderr"
        },
        {
          "output_type": "stream",
          "text": [
            "Epoch: 0. Train loss: 0.514. Train accuracy: 0.740. Val loss: 0.407. Val accuracy: 0.813\n"
          ],
          "name": "stdout"
        },
        {
          "output_type": "stream",
          "text": [
            "100%|██████████| 187/187 [02:29<00:00,  2.64it/s]\n",
            "  0%|          | 0/187 [00:00<?, ?it/s]"
          ],
          "name": "stderr"
        },
        {
          "output_type": "stream",
          "text": [
            "Epoch: 1. Train loss: 0.362. Train accuracy: 0.841. Val loss: 0.328. Val accuracy: 0.859\n"
          ],
          "name": "stdout"
        },
        {
          "output_type": "stream",
          "text": [
            "100%|██████████| 187/187 [01:47<00:00,  2.21it/s]\n"
          ],
          "name": "stderr"
        },
        {
          "output_type": "stream",
          "text": [
            "Epoch: 2. Train loss: 0.277. Train accuracy: 0.885. Val loss: 0.301. Val accuracy: 0.877\n"
          ],
          "name": "stdout"
        }
      ]
    },
    {
      "cell_type": "code",
      "metadata": {
        "id": "vRrJtgyJiVSR",
        "colab_type": "code",
        "outputId": "4b8777ef-2b4b-4fff-d53e-8d47f6c1ebbc",
        "colab": {
          "base_uri": "https://localhost:8080/",
          "height": 34
        }
      },
      "source": [
        "test_accuracy = test_model(model, test_iterator)\n",
        "print('Test accuracy: {}'.format(np.mean(test_accuracy)))"
      ],
      "execution_count": 34,
      "outputs": [
        {
          "output_type": "stream",
          "text": [
            "Test accuracy: 0.8713950514793396\n"
          ],
          "name": "stdout"
        }
      ]
    },
    {
      "cell_type": "code",
      "metadata": {
        "colab_type": "code",
        "outputId": "1596e0d8-7d16-455f-aefe-2da6663fd8be",
        "id": "_1s2XHPNR6QF",
        "colab": {
          "base_uri": "https://localhost:8080/",
          "height": 279
        }
      },
      "source": [
        "plt.plot([x['val_loss'] for x in history], label='Val loss')\n",
        "plt.plot([x['train_loss'] for x in history], label='Train loss')\n",
        "plt.ylabel('Loss')\n",
        "plt.xlabel('Epoch')\n",
        "plt.legend()\n",
        "plt.show()"
      ],
      "execution_count": 35,
      "outputs": [
        {
          "output_type": "display_data",
          "data": {
            "image/png": "[encoded data removed]",
            "text/plain": [
              "<Figure size 432x288 with 1 Axes>"
            ]
          },
          "metadata": {
            "tags": []
          }
        }
      ]
    },
    {
      "cell_type": "code",
      "metadata": {
        "id": "Hj5b_CKri4-1",
        "colab_type": "code",
        "outputId": "417ce6be-1219-480b-de0e-b667a2a09039",
        "colab": {
          "base_uri": "https://localhost:8080/",
          "height": 279
        }
      },
      "source": [
        "plt.plot([x['val_acc'] for x in history], label='Val acc')\n",
        "plt.plot([x['train_acc'] for x in history], label='Train acc')\n",
        "plt.ylabel('Accuracy')\n",
        "plt.xlabel('Epoch')\n",
        "plt.legend()\n",
        "plt.show()"
      ],
      "execution_count": 36,
      "outputs": [
        {
          "output_type": "display_data",
          "data": {
            "image/png": "[encoded data removed]",
            "text/plain": [
              "<Figure size 432x288 with 1 Axes>"
            ]
          },
          "metadata": {
            "tags": []
          }
        }
      ]
    },
    {
      "cell_type": "markdown",
      "metadata": {
        "id": "S43lkc0wukym",
        "colab_type": "text"
      },
      "source": [
        "# Model из домашки по нейросеткам Семена"
      ]
    },
    {
      "cell_type": "markdown",
      "metadata": {
        "id": "E4uzo4e9QWIL",
        "colab_type": "text"
      },
      "source": [
        "[Тут](https://colab.research.google.com/drive/1fH_n-7AJ-vbPURcLNqbIe316S1qZe9ZX), потом попробовать перенести"
      ]
    }
  ]
}