{
  "nbformat": 4,
  "nbformat_minor": 0,
  "metadata": {
    "colab": {
      "name": "DataGener_Class.ipynb",
      "provenance": [],
      "collapsed_sections": [],
      "toc_visible": true
    },
    "kernelspec": {
      "name": "python3",
      "display_name": "Python 3"
    },
    "accelerator": "GPU"
  },
  "cells": [
    {
      "cell_type": "markdown",
      "metadata": {
        "id": "kLoMtRBPnLS8",
        "colab_type": "text"
      },
      "source": [
        "[Тут](https://colab.research.google.com/drive/1EpJkZLzM0v4c7A3O9XWtXds1_7xAreZx) весь оставшийся мусор по  подготовке датасетов"
      ]
    },
    {
      "cell_type": "markdown",
      "metadata": {
        "id": "VkgCFI7sR75B",
        "colab_type": "text"
      },
      "source": [
        "Пока: \n",
        "\n",
        "\n",
        "*   Test Accuracy = 0.795 на датасете 10к записей (5к реальных, 5к фейк) - 5 эпоха\n",
        "*   Test Accuracy = 0.825 на датасете 20к записей (10к реальных, 10к фейк) - 4 эпоха\n",
        "*   Test Accuracy = 0.844 на датасете 30к записей (15к реальных, 15к фейк) - 2 эпоха\n",
        "\n",
        "* Test Accuracy = 0.824 на датасеке 30 к записей (15к реальных, 15к фейк) - 10 эпох\n",
        "\n"
      ]
    },
    {
      "cell_type": "code",
      "metadata": {
        "id": "zS1RBB8GGgHb",
        "colab_type": "code",
        "colab": {}
      },
      "source": [
        "# TODO \n",
        "# Grover dataset (46gb)\n",
        "# Модель с нейросеток посмотреть, мб перенести"
      ],
      "execution_count": 0,
      "outputs": []
    },
    {
      "cell_type": "code",
      "metadata": {
        "id": "GdzzYVxhqrBc",
        "colab_type": "code",
        "colab": {}
      },
      "source": [
        "!pip install transformers"
      ],
      "execution_count": 0,
      "outputs": []
    },
    {
      "cell_type": "code",
      "metadata": {
        "id": "gLkRnCh-mCEB",
        "colab_type": "code",
        "colab": {
          "base_uri": "https://localhost:8080/",
          "height": 130
        },
        "outputId": "a1679e2e-b750-4128-d634-6eb2ef92f870"
      },
      "source": [
        "import pandas as pd \n",
        "import numpy as np\n",
        "import matplotlib.pyplot as plt\n",
        "import spacy\n",
        "from spacy.symbols import ORTH\n",
        "import re\n",
        "import json\n",
        "from tqdm import tqdm\n",
        "from sklearn.metrics import accuracy_score\n",
        "from gensim.models import Word2Vec, KeyedVectors\n",
        "\n",
        "import torch\n",
        "from torchtext.data import Field, LabelField, BucketIterator, TabularDataset, Iterator, Dataset\n",
        "import torch.nn as nn\n",
        "import torch.nn.functional as F\n",
        "import torch.optim as optim\n",
        "from torchtext.vocab import Vectors\n",
        "\n",
        "from transformers import GPT2Tokenizer, GPT2LMHeadModel\n",
        "\n",
        "LENGTH = 10000\n",
        "SEED = 42\n",
        "np.random.seed(SEED)\n",
        "\n",
        "import nltk\n",
        "from nltk import tokenize\n",
        "nltk.download('stopwords')\n",
        "nltk.download('punkt')\n",
        "\n",
        "spacy_en = spacy.load('en')\n",
        "spacy_en.tokenizer.add_special_case(\"don't\", [{ORTH: \"do\"}, {ORTH: \"not\"}])\n",
        "spacy_en.tokenizer.add_special_case(\"didn't\", [{ORTH: \"did\"}, {ORTH: \"not\"}]) #adding special case so that tokenizer(\"\"\"don't\"\"\") != 'do'"
      ],
      "execution_count": 2,
      "outputs": [
        {
          "output_type": "display_data",
          "data": {
            "text/html": [
              "<p style=\"color: red;\">\n",
              "The default version of TensorFlow in Colab will soon switch to TensorFlow 2.x.<br>\n",
              "We recommend you <a href=\"https://www.tensorflow.org/guide/migrate\" target=\"_blank\">upgrade</a> now \n",
              "or ensure your notebook will continue to use TensorFlow 1.x via the <code>%tensorflow_version 1.x</code> magic:\n",
              "<a href=\"https://colab.research.google.com/notebooks/tensorflow_version.ipynb\" target=\"_blank\">more info</a>.</p>\n"
            ],
            "text/plain": [
              "<IPython.core.display.HTML object>"
            ]
          },
          "metadata": {
            "tags": []
          }
        },
        {
          "output_type": "stream",
          "text": [
            "[nltk_data] Downloading package stopwords to /root/nltk_data...\n",
            "[nltk_data]   Unzipping corpora/stopwords.zip.\n",
            "[nltk_data] Downloading package punkt to /root/nltk_data...\n",
            "[nltk_data]   Unzipping tokenizers/punkt.zip.\n"
          ],
          "name": "stdout"
        }
      ]
    },
    {
      "cell_type": "code",
      "metadata": {
        "id": "2Iz4rb52zW8G",
        "colab_type": "code",
        "colab": {}
      },
      "source": [
        "def clean_data(text):\n",
        "    text = re.sub(r'\\<[^>]*\\>', '', text)\n",
        "    text = re.sub(r'\\<[^>]*\\>', '', text)\n",
        "    text = re.sub(r'\\n', ' ', text)\n",
        "    text = re.sub(r'&[a-z]{0,7};', ' ', text)\n",
        "    text = re.sub(r'\\s{2,10}', ' ', text)\n",
        "    text = re.sub(r'\\s{2,10}', ' ', text)\n",
        "    text = re.sub(r'\\\\\\\\x\\d{1,4}', '', text)\n",
        "    return text"
      ],
      "execution_count": 0,
      "outputs": []
    },
    {
      "cell_type": "code",
      "metadata": {
        "id": "JxjzcvpB0NKb",
        "colab_type": "code",
        "colab": {}
      },
      "source": [
        "def sent_first(text): # to gpt2\n",
        "    return tokenize.sent_tokenize(text)[0]\n",
        "\n",
        "def sent_splitter(text): # to classification model\n",
        "    return ' '.join(tokenize.sent_tokenize(text)[:2])\n",
        "\n",
        "def tokenizer(text):\n",
        "    return [tok.lemma_ for tok in spacy_en.tokenizer(text) if tok.text.isalpha()]"
      ],
      "execution_count": 0,
      "outputs": []
    },
    {
      "cell_type": "markdown",
      "metadata": {
        "id": "rLs3QxlMx_YL",
        "colab_type": "text"
      },
      "source": [
        "# Proces Original Dataset"
      ]
    },
    {
      "cell_type": "code",
      "metadata": {
        "id": "3SRA6pwPyBuX",
        "colab_type": "code",
        "colab": {}
      },
      "source": [
        "!pip install -U -q PyDrive\n",
        "from pydrive.auth import GoogleAuth\n",
        "from pydrive.drive import GoogleDrive\n",
        "from google.colab import auth\n",
        "from oauth2client.client import GoogleCredentials\n",
        "auth.authenticate_user()\n",
        "gauth = GoogleAuth()\n",
        "gauth.credentials = GoogleCredentials.get_application_default()\n",
        "drive = GoogleDrive(gauth)\n",
        "\n",
        "idd = '1h_kUrWbKvZR0iRms8zKMUJO5zq9wbIXW'\n",
        "downloaded_ = drive.CreateFile({'id':idd}) \n",
        "downloaded_.GetContentFile('train.jsonl')"
      ],
      "execution_count": 0,
      "outputs": []
    },
    {
      "cell_type": "code",
      "metadata": {
        "id": "qKOzoQ7ryY4C",
        "colab_type": "code",
        "colab": {}
      },
      "source": [
        "def initial(file, start_idx=0):\n",
        "    \n",
        "    with open(file, 'r') as json_file:\n",
        "        json_list = list(json_file)[start_idx:start_idx+LENGTH]\n",
        "    \n",
        "    data = []\n",
        "    for json_str in json_list:\n",
        "        result = json.loads(json_str)\n",
        "        data.append(result['text'])\n",
        "\n",
        "    df = pd.DataFrame()\n",
        "    df['text'] = data\n",
        "    df['label'] = ['real'] * len(data)\n",
        "    df['text'] = df['text'].apply(clean_data)\n",
        "    \n",
        "    return df"
      ],
      "execution_count": 0,
      "outputs": []
    },
    {
      "cell_type": "code",
      "metadata": {
        "id": "mNH4otsEz2Cs",
        "colab_type": "code",
        "colab": {}
      },
      "source": [
        "def process_df(df):\n",
        "\n",
        "    text_gpt2 = list(df['text'].apply(sent_first))[:LENGTH]\n",
        "    df.text  = df['text'].apply(sent_splitter)\n",
        "\n",
        "    return text_gpt2, df "
      ],
      "execution_count": 0,
      "outputs": []
    },
    {
      "cell_type": "code",
      "metadata": {
        "id": "zJ0ksJpL5wkQ",
        "colab_type": "code",
        "colab": {}
      },
      "source": [
        "df = initial('train.jsonl', start_idx=20000)\n",
        "text_gpt2, df = process_df(df)"
      ],
      "execution_count": 0,
      "outputs": []
    },
    {
      "cell_type": "code",
      "metadata": {
        "id": "q0t15aJBMcHY",
        "colab_type": "code",
        "colab": {
          "base_uri": "https://localhost:8080/",
          "height": 195
        },
        "outputId": "df9bd596-da61-4a59-d012-34b3d50b79f2"
      },
      "source": [
        "df.head()"
      ],
      "execution_count": 73,
      "outputs": [
        {
          "output_type": "execute_result",
          "data": {
            "text/html": [
              "<div>\n",
              "<style scoped>\n",
              "    .dataframe tbody tr th:only-of-type {\n",
              "        vertical-align: middle;\n",
              "    }\n",
              "\n",
              "    .dataframe tbody tr th {\n",
              "        vertical-align: top;\n",
              "    }\n",
              "\n",
              "    .dataframe thead th {\n",
              "        text-align: right;\n",
              "    }\n",
              "</style>\n",
              "<table border=\"1\" class=\"dataframe\">\n",
              "  <thead>\n",
              "    <tr style=\"text-align: right;\">\n",
              "      <th></th>\n",
              "      <th>text</th>\n",
              "      <th>label</th>\n",
              "    </tr>\n",
              "  </thead>\n",
              "  <tbody>\n",
              "    <tr>\n",
              "      <th>0</th>\n",
              "      <td>He is often portrayed as a tragically isolated...</td>\n",
              "      <td>real</td>\n",
              "    </tr>\n",
              "    <tr>\n",
              "      <th>1</th>\n",
              "      <td>Poison for many manufacturers, the 2009 model ...</td>\n",
              "      <td>real</td>\n",
              "    </tr>\n",
              "    <tr>\n",
              "      <th>2</th>\n",
              "      <td>Consumers and businesses across Massachusetts ...</td>\n",
              "      <td>real</td>\n",
              "    </tr>\n",
              "    <tr>\n",
              "      <th>3</th>\n",
              "      <td>Sara Mustchlechner and Cassidy Holecheck 01/08...</td>\n",
              "      <td>real</td>\n",
              "    </tr>\n",
              "    <tr>\n",
              "      <th>4</th>\n",
              "      <td>01/07/2016 AT 10:15 AM EST When you watch Worl...</td>\n",
              "      <td>real</td>\n",
              "    </tr>\n",
              "  </tbody>\n",
              "</table>\n",
              "</div>"
            ],
            "text/plain": [
              "                                                text label\n",
              "0  He is often portrayed as a tragically isolated...  real\n",
              "1  Poison for many manufacturers, the 2009 model ...  real\n",
              "2  Consumers and businesses across Massachusetts ...  real\n",
              "3  Sara Mustchlechner and Cassidy Holecheck 01/08...  real\n",
              "4  01/07/2016 AT 10:15 AM EST When you watch Worl...  real"
            ]
          },
          "metadata": {
            "tags": []
          },
          "execution_count": 73
        }
      ]
    },
    {
      "cell_type": "code",
      "metadata": {
        "id": "xEikjrAfMfOb",
        "colab_type": "code",
        "colab": {
          "base_uri": "https://localhost:8080/",
          "height": 70
        },
        "outputId": "bab8074a-b80d-4ef9-8816-214b5edcb16d"
      },
      "source": [
        "len(text_gpt2), text_gpt2[0]"
      ],
      "execution_count": 74,
      "outputs": [
        {
          "output_type": "execute_result",
          "data": {
            "text/plain": [
              "(10000,\n",
              " 'He is often portrayed as a tragically isolated artist, shamefully neglected during his eight years in Britain, but a major new show devoted to the German artist Kurt Schwitters will present a very different picture.')"
            ]
          },
          "metadata": {
            "tags": []
          },
          "execution_count": 74
        }
      ]
    },
    {
      "cell_type": "markdown",
      "metadata": {
        "id": "ohmwbm0lpjYb",
        "colab_type": "text"
      },
      "source": [
        "# Data Generation"
      ]
    },
    {
      "cell_type": "code",
      "metadata": {
        "id": "zDx8PaUgpf3V",
        "colab_type": "code",
        "colab": {}
      },
      "source": [
        "MAX_LENGTH = 25\n",
        "tokenizer = GPT2Tokenizer.from_pretrained(\"gpt2\")\n",
        "model = GPT2LMHeadModel.from_pretrained('gpt2')"
      ],
      "execution_count": 0,
      "outputs": []
    },
    {
      "cell_type": "code",
      "metadata": {
        "id": "1yC9XGbRq0Wu",
        "colab_type": "code",
        "colab": {}
      },
      "source": [
        "def generate_sentence(text, tokenizer, model):\n",
        "    generated = tokenizer.encode(text)\n",
        "    initial_length = len(generated)\n",
        "    context = torch.tensor([generated])\n",
        "    past = None\n",
        "\n",
        "    for i in range(MAX_LENGTH):\n",
        "        output, past = model(context, past=past)\n",
        "        token = torch.argmax(output[0, :])\n",
        "\n",
        "        generated += [token.tolist()]\n",
        "        context = token.unsqueeze(0)\n",
        "        if (tokenizer.decode(token.tolist()) in ['!', '?', '.']) and (len(generated) - initial_length > 2):\n",
        "            break\n",
        "    sequence = tokenizer.decode(generated)\n",
        "    return sequence"
      ],
      "execution_count": 0,
      "outputs": []
    },
    {
      "cell_type": "code",
      "metadata": {
        "id": "gaDP6ClJvJ73",
        "colab_type": "code",
        "colab": {}
      },
      "source": [
        "def make_fake(texts, fake=[], real=[], df=df, tokenizer=tokenizer, model=model):\n",
        "    i = 0\n",
        "    for ind, el in tqdm(enumerate(texts)):\n",
        "        try:\n",
        "            sent = generate_sentence(el, tokenizer=tokenizer, model=model)\n",
        "            sent = re.sub(r'\\n', '', sent)\n",
        "            fake.append(sent)\n",
        "            real.append(df.text.tolist()[ind])\n",
        "        except:\n",
        "            i+=1\n",
        "        if i % 1000 == 0:\n",
        "            print(i, 'out of', ind,' are not found in emb dict')    \n",
        "\n",
        "    with open('fake.txt', 'w', encoding='utf-8') as f:\n",
        "        for item in fake:\n",
        "            f.write('{}\\n'.format(item))\n",
        "    with open('real.txt', 'w', encoding='utf-8') as f:\n",
        "        for item in real:\n",
        "            f.write('{}\\n'.format(item))\n",
        "    return fake, real"
      ],
      "execution_count": 0,
      "outputs": []
    },
    {
      "cell_type": "code",
      "metadata": {
        "id": "_l1kw3dQ6GyV",
        "colab_type": "code",
        "colab": {
          "base_uri": "https://localhost:8080/",
          "height": 205
        },
        "outputId": "5fc198a6-90ab-47cb-faf1-59fd101c358f"
      },
      "source": [
        "fake, real = make_fake(text_gpt2, fake=fake, real=real)"
      ],
      "execution_count": 79,
      "outputs": [
        {
          "output_type": "stream",
          "text": [
            "581it [07:54,  1.56it/s]Token indices sequence length is longer than the specified maximum sequence length for this model (1095 > 1024). Running this sequence through the model will result in indexing errors\n",
            "2220it [29:17,  1.02it/s]"
          ],
          "name": "stderr"
        },
        {
          "output_type": "stream",
          "text": [
            "1000 out of 2219  are not found in emb dict\n"
          ],
          "name": "stdout"
        },
        {
          "output_type": "stream",
          "text": [
            "4383it [58:33,  2.89it/s]"
          ],
          "name": "stderr"
        },
        {
          "output_type": "stream",
          "text": [
            "2000 out of 4382  are not found in emb dict\n"
          ],
          "name": "stdout"
        },
        {
          "output_type": "stream",
          "text": [
            "\r4384it [58:34,  1.31it/s]"
          ],
          "name": "stderr"
        },
        {
          "output_type": "stream",
          "text": [
            "2000 out of 4383  are not found in emb dict\n"
          ],
          "name": "stdout"
        },
        {
          "output_type": "stream",
          "text": [
            "\r4385it [58:36,  1.01s/it]"
          ],
          "name": "stderr"
        },
        {
          "output_type": "stream",
          "text": [
            "2000 out of 4384  are not found in emb dict\n"
          ],
          "name": "stdout"
        },
        {
          "output_type": "stream",
          "text": [
            "6517it [1:26:02,  2.36it/s]"
          ],
          "name": "stderr"
        },
        {
          "output_type": "stream",
          "text": [
            "3000 out of 6516  are not found in emb dict\n"
          ],
          "name": "stdout"
        },
        {
          "output_type": "stream",
          "text": [
            "\r6518it [1:26:04,  1.34it/s]"
          ],
          "name": "stderr"
        },
        {
          "output_type": "stream",
          "text": [
            "3000 out of 6517  are not found in emb dict\n"
          ],
          "name": "stdout"
        },
        {
          "output_type": "stream",
          "text": [
            "8675it [1:54:11,  2.40it/s]"
          ],
          "name": "stderr"
        },
        {
          "output_type": "stream",
          "text": [
            "4000 out of 8674  are not found in emb dict\n"
          ],
          "name": "stdout"
        },
        {
          "output_type": "stream",
          "text": [
            "\r8676it [1:54:12,  2.12it/s]"
          ],
          "name": "stderr"
        },
        {
          "output_type": "stream",
          "text": [
            "4000 out of 8675  are not found in emb dict\n"
          ],
          "name": "stdout"
        },
        {
          "output_type": "stream",
          "text": [
            "10000it [2:11:19,  1.57it/s]\n"
          ],
          "name": "stderr"
        }
      ]
    },
    {
      "cell_type": "code",
      "metadata": {
        "id": "L1aZgMNALhs4",
        "colab_type": "code",
        "colab": {
          "base_uri": "https://localhost:8080/",
          "height": 34
        },
        "outputId": "fb3b9c0d-4189-406a-afed-45e0e494668a"
      },
      "source": [
        "len(fake), len(real)"
      ],
      "execution_count": 80,
      "outputs": [
        {
          "output_type": "execute_result",
          "data": {
            "text/plain": [
              "(16092, 16092)"
            ]
          },
          "metadata": {
            "tags": []
          },
          "execution_count": 80
        }
      ]
    },
    {
      "cell_type": "code",
      "metadata": {
        "id": "AaEZYDvoy4ez",
        "colab_type": "code",
        "colab": {}
      },
      "source": [
        "#Запустить, если в датафрейпе появляются лишние строчки с \\n\n",
        "fake = [re.sub(r'\\n', '', line) for line in fake]\n",
        "real = [re.sub(r'\\n', '', line) for line in real]\n",
        "with open('fake.txt', 'w', encoding='utf-8') as f:\n",
        "        for item in fake:\n",
        "            f.write('{}\\n'.format(item))\n",
        "with open('real.txt', 'w', encoding='utf-8') as f:\n",
        "    for item in real:\n",
        "        f.write('{}\\n'.format(item))"
      ],
      "execution_count": 0,
      "outputs": []
    },
    {
      "cell_type": "code",
      "metadata": {
        "id": "efQg13TbLkLd",
        "colab_type": "code",
        "colab": {
          "base_uri": "https://localhost:8080/",
          "height": 70
        },
        "outputId": "e94a0440-7e51-4e00-9e3c-9fa03d49b4f6"
      },
      "source": [
        "fake[0], real[0]"
      ],
      "execution_count": 81,
      "outputs": [
        {
          "output_type": "execute_result",
          "data": {
            "text/plain": [
              "('Spinach has terrorized generations of veggie-phobic kids, and many grownups don\\'t much like it, either..\"I think it\\'s a little bit of a shock to see that he\\'s been able to do this,\"\\n',\n",
              " \"Spinach has terrorized generations of veggie-phobic kids, and many grownups don't much like it, either. But when it's combined with seasonings and feta cheese and wrapped in a golden crisp phyllo dough crust, even those who despise Popeye's Â\\xadfavorite food ask for seconds.\\n\")"
            ]
          },
          "metadata": {
            "tags": []
          },
          "execution_count": 81
        }
      ]
    },
    {
      "cell_type": "code",
      "metadata": {
        "id": "NbIyQNPNMsNh",
        "colab_type": "code",
        "colab": {
          "base_uri": "https://localhost:8080/",
          "height": 70
        },
        "outputId": "2a75bae9-4cca-48f9-e848-7550a40b9b4b"
      },
      "source": [
        "fake[-1], real[-1]"
      ],
      "execution_count": 82,
      "outputs": [
        {
          "output_type": "execute_result",
          "data": {
            "text/plain": [
              "('The company was the first to warn that it would be hurt by Britain’s decision to leave the EU as it did not have currency hedging in place for 2017 to cushion a fall in sterling.The company said it would be \"very disappointed\" if the UK did not have a \"sufficiently flexible\" currency',\n",
              " 'The company was the first to warn that it would be hurt by Britain’s decision to leave the EU as it did not have currency hedging in place for 2017 to cushion a fall in sterling. Analysts believe that Sports Direct orders between £600m and £700m of stock from Asia and pays in dollars, which means that it will face significantly higher import costs as a result of the falling pound.')"
            ]
          },
          "metadata": {
            "tags": []
          },
          "execution_count": 82
        }
      ]
    },
    {
      "cell_type": "markdown",
      "metadata": {
        "id": "1Z4fRXKLw9zi",
        "colab_type": "text"
      },
      "source": [
        "# To DF and CSV"
      ]
    },
    {
      "cell_type": "code",
      "metadata": {
        "id": "E-ku92gR3LNN",
        "colab_type": "code",
        "colab": {}
      },
      "source": [
        "def open_file(file):\n",
        "    with open(file, 'r', encoding='utf-8') as f:\n",
        "        fake = [line for line in f.readlines()]\n",
        "    return fake"
      ],
      "execution_count": 0,
      "outputs": []
    },
    {
      "cell_type": "code",
      "metadata": {
        "id": "w_zc_QyPxGWF",
        "colab_type": "code",
        "colab": {}
      },
      "source": [
        "def make_dataframe(df, fake, real, df_concat=None):\n",
        "    \n",
        "    fake = open_file(fake) if type(fake) == str else fake\n",
        "    \n",
        "    real = open_file(real) if type(real) == str else real\n",
        "    new_df = pd.DataFrame()\n",
        "    new_df['text'] = real + fake\n",
        "    new_df['label'] = ['real'] * len(real) + ['fake'] * len(fake)\n",
        "    \n",
        "    if df_concat is not None:\n",
        "       new_df = pd.concat([df_concat, new_df])\n",
        "    return new_df"
      ],
      "execution_count": 0,
      "outputs": []
    },
    {
      "cell_type": "code",
      "metadata": {
        "id": "HYypdiYa5hWs",
        "colab_type": "code",
        "colab": {}
      },
      "source": [
        "final_df = make_dataframe(df, 'fake.txt', 'real.txt')\n",
        "final_df.to_csv(\"dataset.csv\", index=False)"
      ],
      "execution_count": 0,
      "outputs": []
    },
    {
      "cell_type": "code",
      "metadata": {
        "id": "vcUmtOJHNHzf",
        "colab_type": "code",
        "colab": {
          "base_uri": "https://localhost:8080/",
          "height": 195
        },
        "outputId": "d00727a2-0f32-4e72-9ec0-893bdf707c9e"
      },
      "source": [
        "final_df.head()"
      ],
      "execution_count": 87,
      "outputs": [
        {
          "output_type": "execute_result",
          "data": {
            "text/html": [
              "<div>\n",
              "<style scoped>\n",
              "    .dataframe tbody tr th:only-of-type {\n",
              "        vertical-align: middle;\n",
              "    }\n",
              "\n",
              "    .dataframe tbody tr th {\n",
              "        vertical-align: top;\n",
              "    }\n",
              "\n",
              "    .dataframe thead th {\n",
              "        text-align: right;\n",
              "    }\n",
              "</style>\n",
              "<table border=\"1\" class=\"dataframe\">\n",
              "  <thead>\n",
              "    <tr style=\"text-align: right;\">\n",
              "      <th></th>\n",
              "      <th>text</th>\n",
              "      <th>label</th>\n",
              "    </tr>\n",
              "  </thead>\n",
              "  <tbody>\n",
              "    <tr>\n",
              "      <th>0</th>\n",
              "      <td>Spinach has terrorized generations of veggie-p...</td>\n",
              "      <td>real</td>\n",
              "    </tr>\n",
              "    <tr>\n",
              "      <th>1</th>\n",
              "      <td>All day, every day, Cheryl Bernstein thanks he...</td>\n",
              "      <td>real</td>\n",
              "    </tr>\n",
              "    <tr>\n",
              "      <th>2</th>\n",
              "      <td>With Police Commissioner Bernard Kerik crackin...</td>\n",
              "      <td>real</td>\n",
              "    </tr>\n",
              "    <tr>\n",
              "      <th>3</th>\n",
              "      <td>Wednesday, April 19th 1995, 2:35AM Jail inmate...</td>\n",
              "      <td>real</td>\n",
              "    </tr>\n",
              "    <tr>\n",
              "      <th>4</th>\n",
              "      <td>BY GEORGE RUSH AND JOANNA MOLLOY With Kasia An...</td>\n",
              "      <td>real</td>\n",
              "    </tr>\n",
              "  </tbody>\n",
              "</table>\n",
              "</div>"
            ],
            "text/plain": [
              "                                                text label\n",
              "0  Spinach has terrorized generations of veggie-p...  real\n",
              "1  All day, every day, Cheryl Bernstein thanks he...  real\n",
              "2  With Police Commissioner Bernard Kerik crackin...  real\n",
              "3  Wednesday, April 19th 1995, 2:35AM Jail inmate...  real\n",
              "4  BY GEORGE RUSH AND JOANNA MOLLOY With Kasia An...  real"
            ]
          },
          "metadata": {
            "tags": []
          },
          "execution_count": 87
        }
      ]
    },
    {
      "cell_type": "code",
      "metadata": {
        "id": "cPgnwgTRNK1L",
        "colab_type": "code",
        "colab": {
          "base_uri": "https://localhost:8080/",
          "height": 195
        },
        "outputId": "a50db244-2a7c-4fda-b285-ed2a65f3a898"
      },
      "source": [
        "final_df.tail()"
      ],
      "execution_count": 88,
      "outputs": [
        {
          "output_type": "execute_result",
          "data": {
            "text/html": [
              "<div>\n",
              "<style scoped>\n",
              "    .dataframe tbody tr th:only-of-type {\n",
              "        vertical-align: middle;\n",
              "    }\n",
              "\n",
              "    .dataframe tbody tr th {\n",
              "        vertical-align: top;\n",
              "    }\n",
              "\n",
              "    .dataframe thead th {\n",
              "        text-align: right;\n",
              "    }\n",
              "</style>\n",
              "<table border=\"1\" class=\"dataframe\">\n",
              "  <thead>\n",
              "    <tr style=\"text-align: right;\">\n",
              "      <th></th>\n",
              "      <th>text</th>\n",
              "      <th>label</th>\n",
              "    </tr>\n",
              "  </thead>\n",
              "  <tbody>\n",
              "    <tr>\n",
              "      <th>32179</th>\n",
              "      <td>A Saturday evening at the Second Baptist Churc...</td>\n",
              "      <td>fake</td>\n",
              "    </tr>\n",
              "    <tr>\n",
              "      <th>32180</th>\n",
              "      <td>Allison Conway for the Boston Globe Everyone k...</td>\n",
              "      <td>fake</td>\n",
              "    </tr>\n",
              "    <tr>\n",
              "      <th>32181</th>\n",
              "      <td>THE PITY OF IT ALL A History of Jews in German...</td>\n",
              "      <td>fake</td>\n",
              "    </tr>\n",
              "    <tr>\n",
              "      <th>32182</th>\n",
              "      <td>Have you ever wished that McDonald’s had a bur...</td>\n",
              "      <td>fake</td>\n",
              "    </tr>\n",
              "    <tr>\n",
              "      <th>32183</th>\n",
              "      <td>The company was the first to warn that it woul...</td>\n",
              "      <td>fake</td>\n",
              "    </tr>\n",
              "  </tbody>\n",
              "</table>\n",
              "</div>"
            ],
            "text/plain": [
              "                                                    text label\n",
              "32179  A Saturday evening at the Second Baptist Churc...  fake\n",
              "32180  Allison Conway for the Boston Globe Everyone k...  fake\n",
              "32181  THE PITY OF IT ALL A History of Jews in German...  fake\n",
              "32182  Have you ever wished that McDonald’s had a bur...  fake\n",
              "32183  The company was the first to warn that it woul...  fake"
            ]
          },
          "metadata": {
            "tags": []
          },
          "execution_count": 88
        }
      ]
    },
    {
      "cell_type": "markdown",
      "metadata": {
        "id": "7EPSubU_jEP-",
        "colab_type": "text"
      },
      "source": [
        "# Data - Сразу сюда, когда есть final_df и dataset.csv"
      ]
    },
    {
      "cell_type": "markdown",
      "metadata": {
        "id": "4egn7zUMuP_r",
        "colab_type": "text"
      },
      "source": [
        "Сюда можно сразу переходить, если есть готовый датафрейм (final_df) и файл dataset.csv"
      ]
    },
    {
      "cell_type": "code",
      "metadata": {
        "id": "uqz2PutUL8l6",
        "colab_type": "code",
        "colab": {}
      },
      "source": [
        "# Запускать если нужен готовый датафрейм (final_df) и файл dataset.csv\n",
        "!pip install -U -q PyDrive\n",
        "from pydrive.auth import GoogleAuth\n",
        "from pydrive.drive import GoogleDrive\n",
        "from google.colab import auth\n",
        "from oauth2client.client import GoogleCredentials\n",
        "auth.authenticate_user()\n",
        "gauth = GoogleAuth()\n",
        "gauth.credentials = GoogleCredentials.get_application_default()\n",
        "drive = GoogleDrive(gauth)\n",
        "\n",
        "idd = '1goRkFXGEyrBoDuxfnDvmpHL3QQNM4AWK'\n",
        "downloaded_ = drive.CreateFile({'id':idd}) \n",
        "downloaded_.GetContentFile('dataset.csv')\n",
        "\n",
        "downloaded_ = drive.CreateFile({'id':'1HmV7mhKV7bS3TsEEgAe60oMoh8pvS7IS'}) \n",
        "downloaded_.GetContentFile('fake.txt')\n",
        "\n",
        "downloaded_ = drive.CreateFile({'id':'1vRBk1xOkRumOavk1RZdTIFI_SebrLCBW'}) \n",
        "downloaded_.GetContentFile('real.txt')\n",
        "\n",
        "fake = open_file('fake.txt')\n",
        "real = open_file('real.txt')\n",
        "\n",
        "final_df = pd.read_csv('dataset.csv')\n"
      ],
      "execution_count": 0,
      "outputs": []
    },
    {
      "cell_type": "code",
      "metadata": {
        "id": "33sRp6h7fcNj",
        "colab_type": "code",
        "colab": {}
      },
      "source": [
        "def tokenizer(text):\n",
        "    return [tok.lemma_ for tok in spacy_en.tokenizer(text) if (tok.text.isalpha() or tok.text.isdigit())]"
      ],
      "execution_count": 0,
      "outputs": []
    },
    {
      "cell_type": "code",
      "metadata": {
        "id": "Pz5pDXWEf7vV",
        "colab_type": "code",
        "colab": {
          "base_uri": "https://localhost:8080/",
          "height": 70
        },
        "outputId": "b311ba87-c430-4ea9-b1f5-c52549b8039a"
      },
      "source": [
        "text = list(final_df['text'].apply(tokenizer))\n",
        "model = Word2Vec(text, size=100, iter=10) #building emb of size 100\n",
        "model_weights = torch.FloatTensor(model.wv.vectors)\n",
        "model.wv.save_word2vec_format('pretrained_embeddings')\n",
        "vectors = Vectors(name='pretrained_embeddings', cache='./') #and saving the weights to build vocab later"
      ],
      "execution_count": 90,
      "outputs": [
        {
          "output_type": "stream",
          "text": [
            "/usr/local/lib/python3.6/dist-packages/smart_open/smart_open_lib.py:402: UserWarning: This function is deprecated, use smart_open.open instead. See the migration notes for details: https://github.com/RaRe-Technologies/smart_open/blob/master/README.rst#migrating-to-the-new-open-function\n",
            "  'See the migration notes for details: %s' % _MIGRATION_NOTES_URL\n"
          ],
          "name": "stderr"
        }
      ]
    },
    {
      "cell_type": "code",
      "metadata": {
        "id": "ga1CY5-Bf-Nl",
        "colab_type": "code",
        "colab": {
          "base_uri": "https://localhost:8080/",
          "height": 50
        },
        "outputId": "2a3647b2-c09a-4ed0-941e-7febe2375a5f"
      },
      "source": [
        "MAX_VOCAB_SIZE = 50000\n",
        "classes={'fake': 0, 'real': 1}\n",
        "\n",
        "\n",
        "TEXT = Field(sequential=True, include_lengths=False, batch_first=True, tokenize=tokenizer, pad_first=True, lower=True, eos_token='<eos>') \n",
        "LABEL = LabelField(dtype=torch.float, use_vocab=True, preprocessing=lambda x: classes[x])\n",
        "\n",
        "\n",
        "dataset = TabularDataset('dataset.csv', \n",
        "                                format='csv', fields=[('text', TEXT), ('label',LABEL),], \n",
        "                                skip_header=True)\n",
        "\n",
        "TEXT.build_vocab(dataset, vectors=vectors,\n",
        "                   unk_init = torch.Tensor.normal_, max_size=MAX_VOCAB_SIZE)\n",
        "LABEL.build_vocab(dataset)\n",
        "vocab = TEXT.vocab\n",
        "print('Vocab size:', len(TEXT.vocab.itos))\n",
        "TEXT.vocab.itos[:10]"
      ],
      "execution_count": 91,
      "outputs": [
        {
          "output_type": "stream",
          "text": [
            "Vocab size: 35418\n"
          ],
          "name": "stdout"
        },
        {
          "output_type": "execute_result",
          "data": {
            "text/plain": [
              "['<unk>', '<pad>', '<eos>', 'the', 'a', 'be', 'of', 'to', 'in', 'and']"
            ]
          },
          "metadata": {
            "tags": []
          },
          "execution_count": 91
        }
      ]
    },
    {
      "cell_type": "code",
      "metadata": {
        "id": "Lkj2Dncof_o-",
        "colab_type": "code",
        "colab": {}
      },
      "source": [
        "train, test = dataset.split(0.8, stratified=True)\n",
        "train, valid = train.split(0.8, stratified=True)"
      ],
      "execution_count": 0,
      "outputs": []
    },
    {
      "cell_type": "markdown",
      "metadata": {
        "id": "jme39KlXi_tZ",
        "colab_type": "text"
      },
      "source": [
        "# Model  - simple BiLSTM"
      ]
    },
    {
      "cell_type": "code",
      "metadata": {
        "id": "kMABaZ6vgGhJ",
        "colab_type": "code",
        "colab": {}
      },
      "source": [
        "class MyModel(nn.Module):\n",
        "    \n",
        "    def __init__(self, vocab_size, embed_size, hidden_size):\n",
        "        super(MyModel, self).__init__()\n",
        "        self.embedding = nn.Embedding(vocab_size, embed_size)\n",
        "        self.embedding.weight.data.copy_(vocab.vectors)\n",
        "        self.rnn = nn.LSTM(input_size=embed_size,\n",
        "                           hidden_size=hidden_size,\n",
        "                           bidirectional=True,\n",
        "                           batch_first=True,\n",
        "                          )\n",
        "        \n",
        "        self.fc = nn.Linear(hidden_size * 2 *2, 1)\n",
        "        \n",
        "    def forward(self, x):\n",
        "        \n",
        "        x = self.embedding(x)\n",
        "           \n",
        "        _, (hidden, cell) = self.rnn(x)\n",
        "        \n",
        "        hidden = hidden.transpose(0,1)\n",
        "        cell = cell.transpose(0,1)\n",
        "        hidden = hidden.contiguous().view(hidden.size(0),-1)\n",
        "        cell = cell.contiguous().view(cell.size(0),-1)\n",
        "        x = torch.cat([hidden, cell], dim=1).squeeze(1)\n",
        "        x = self.fc(x)\n",
        "        return x"
      ],
      "execution_count": 0,
      "outputs": []
    },
    {
      "cell_type": "code",
      "metadata": {
        "id": "97CoHSWVgQTb",
        "colab_type": "code",
        "colab": {}
      },
      "source": [
        "batch_size = 128\n",
        "\n",
        "model = MyModel(len(TEXT.vocab.itos),\n",
        "                embed_size=100,\n",
        "                hidden_size=128,\n",
        "               )\n",
        "model.embedding.weight.data.copy_(TEXT.vocab.vectors);\n",
        "\n",
        "train_iterator, valid_iterator, test_iterator = BucketIterator.splits(\n",
        "    (train, valid, test),\n",
        "    batch_sizes=(batch_size, batch_size, batch_size),\n",
        "    shuffle=True,\n",
        "    sort_key=lambda x: len(x.text),\n",
        "    sort_within_batch=True,\n",
        ")\n",
        "\n",
        "optimizer = optim.Adam(model.parameters())\n",
        "scheduler = optim.lr_scheduler.ReduceLROnPlateau(optimizer, patience=2, verbose=True, cooldown=5)\n",
        "#scheduler = optim.lr_scheduler.CosineAnnealingLR(optimizer, T_max=5)\n",
        "criterion = nn.BCEWithLogitsLoss()"
      ],
      "execution_count": 0,
      "outputs": []
    },
    {
      "cell_type": "code",
      "metadata": {
        "id": "2Gh595PtgUKV",
        "colab_type": "code",
        "colab": {}
      },
      "source": [
        "def accuracy_score(preds, y):\n",
        "    preds = torch.round(torch.sigmoid(preds))\n",
        "    preds = (preds == y).float()\n",
        "    accuracy = preds.sum() / len(preds)\n",
        "    return accuracy"
      ],
      "execution_count": 0,
      "outputs": []
    },
    {
      "cell_type": "code",
      "metadata": {
        "id": "25q_C7cugbw9",
        "colab_type": "code",
        "colab": {}
      },
      "source": [
        "def test_model(model, test_iterator):\n",
        "    test_acc = []\n",
        "\n",
        "    with torch.no_grad():\n",
        "        for item in test_iterator:\n",
        "            x = item.text\n",
        "            y = item.label\n",
        "            preds = model(x).squeeze(1)\n",
        "            test_acc.append(accuracy_score(preds, y))\n",
        "    test_acc = np.mean(test_acc) \n",
        "    #return print('Test accuracy: {}'.format(np.mean(test_acc)))\n",
        "    return np.mean(test_acc)"
      ],
      "execution_count": 0,
      "outputs": []
    },
    {
      "cell_type": "code",
      "metadata": {
        "id": "VpAArkBZgezQ",
        "colab_type": "code",
        "colab": {}
      },
      "source": [
        "def train_cnn(model, train_iterator, valid_iterator, criterion, device, n_epochs=20):\n",
        "    \n",
        "    history = []\n",
        "\n",
        "    for epoch in range(n_epochs):\n",
        "        train_loss = []\n",
        "        train_acc = []\n",
        "        model.train()\n",
        "\n",
        "    \n",
        "        for item in tqdm(train_iterator):\n",
        "            x = item.text\n",
        "            y = item.label\n",
        "            optimizer.zero_grad()\n",
        "            preds = model(x).squeeze(1)\n",
        "            loss = criterion(preds, y)\n",
        "            loss.backward()\n",
        "            optimizer.step()\n",
        "            train_loss.append(loss.data.detach().item())\n",
        "            train_acc.append(accuracy_score(preds, y))\n",
        "\n",
        "        train_loss = np.mean(train_loss)\n",
        "        train_acc = np.mean(train_acc)\n",
        "\n",
        "        model.eval()\n",
        "        #val_acc = test_model(model, valid_iterator)\n",
        "        val_loss = []\n",
        "        val_acc = []\n",
        "        for item in valid_iterator:\n",
        "            x = item.text\n",
        "            y = item.label\n",
        "            preds = model(x).squeeze(1)\n",
        "            loss = criterion(preds, y)\n",
        "            val_loss.append(loss.data.detach().item())\n",
        "            val_acc.append(accuracy_score(preds, y))\n",
        "        val_loss = np.mean(val_loss)\n",
        "        val_acc = np.mean(val_acc)\n",
        "\n",
        "        scheduler.step(val_loss)\n",
        "\n",
        "\n",
        "        print('Epoch: {}. Train loss: {:.3f}. Train accuracy: {:.3f}. Val loss: {:.3f}. Val accuracy: {:.3f}'.format(\n",
        "            epoch, train_loss, train_acc, val_loss, val_acc))        \n",
        "        \n",
        "        history.append({\n",
        "            'epoch': epoch,\n",
        "            'train_loss': train_loss,\n",
        "            'train_acc': train_acc,\n",
        "            'val_acc': val_acc,\n",
        "            'val_loss': val_loss\n",
        "        })\n",
        "\n",
        "        #if epoch % 5 == 0:\n",
        "            #torch.save(model.state_dict(), '/content/model_test')\n",
        "\n",
        "    return history"
      ],
      "execution_count": 0,
      "outputs": []
    },
    {
      "cell_type": "code",
      "metadata": {
        "id": "NeabQspxiOT_",
        "colab_type": "code",
        "colab": {}
      },
      "source": [
        "def clean_tqdm():\n",
        "    for instance in list(tqdm._instances): \n",
        "        tqdm._decr_instances(instance)"
      ],
      "execution_count": 0,
      "outputs": []
    },
    {
      "cell_type": "code",
      "metadata": {
        "id": "jBdu82gkPo8a",
        "colab_type": "code",
        "colab": {
          "base_uri": "https://localhost:8080/",
          "height": 370
        },
        "outputId": "301ab0c9-0512-412d-fac0-e593494c11eb"
      },
      "source": [
        "clean_tqdm()\n",
        "history = train_cnn(model, train_iterator, valid_iterator,\n",
        "          criterion,  device='cpu', n_epochs=10)"
      ],
      "execution_count": 118,
      "outputs": [
        {
          "output_type": "stream",
          "text": [
            "100%|██████████| 161/161 [01:09<00:00,  4.00it/s]\n",
            "  1%|          | 1/161 [00:00<00:29,  5.36it/s]"
          ],
          "name": "stderr"
        },
        {
          "output_type": "stream",
          "text": [
            "Epoch: 0. Train loss: 0.537. Train accuracy: 0.723. Val loss: 0.430. Val accuracy: 0.799\n"
          ],
          "name": "stdout"
        },
        {
          "output_type": "stream",
          "text": [
            "100%|██████████| 161/161 [01:00<00:00,  2.28it/s]\n",
            "  0%|          | 0/161 [00:00<?, ?it/s]"
          ],
          "name": "stderr"
        },
        {
          "output_type": "stream",
          "text": [
            "Epoch: 1. Train loss: 0.388. Train accuracy: 0.827. Val loss: 0.375. Val accuracy: 0.841\n"
          ],
          "name": "stdout"
        },
        {
          "output_type": "stream",
          "text": [
            "100%|██████████| 161/161 [00:52<00:00,  4.92it/s]\n",
            "  0%|          | 0/161 [00:00<?, ?it/s]"
          ],
          "name": "stderr"
        },
        {
          "output_type": "stream",
          "text": [
            "Epoch: 2. Train loss: 0.307. Train accuracy: 0.869. Val loss: 0.357. Val accuracy: 0.849\n"
          ],
          "name": "stdout"
        },
        {
          "output_type": "stream",
          "text": [
            "100%|██████████| 161/161 [00:50<00:00,  4.74it/s]\n",
            "  0%|          | 0/161 [00:00<?, ?it/s]"
          ],
          "name": "stderr"
        },
        {
          "output_type": "stream",
          "text": [
            "Epoch: 3. Train loss: 0.215. Train accuracy: 0.914. Val loss: 0.397. Val accuracy: 0.844\n"
          ],
          "name": "stdout"
        },
        {
          "output_type": "stream",
          "text": [
            "100%|██████████| 161/161 [00:55<00:00,  3.76it/s]\n",
            "  0%|          | 0/161 [00:00<?, ?it/s]"
          ],
          "name": "stderr"
        },
        {
          "output_type": "stream",
          "text": [
            "Epoch: 4. Train loss: 0.133. Train accuracy: 0.949. Val loss: 0.473. Val accuracy: 0.845\n"
          ],
          "name": "stdout"
        },
        {
          "output_type": "stream",
          "text": [
            "100%|██████████| 161/161 [01:00<00:00,  3.32it/s]\n",
            "  0%|          | 0/161 [00:00<?, ?it/s]"
          ],
          "name": "stderr"
        },
        {
          "output_type": "stream",
          "text": [
            "Epoch     5: reducing learning rate of group 0 to 1.0000e-04.\n",
            "Epoch: 5. Train loss: 0.074. Train accuracy: 0.974. Val loss: 0.541. Val accuracy: 0.839\n"
          ],
          "name": "stdout"
        },
        {
          "output_type": "stream",
          "text": [
            "100%|██████████| 161/161 [00:55<00:00,  3.67it/s]\n",
            "  0%|          | 0/161 [00:00<?, ?it/s]"
          ],
          "name": "stderr"
        },
        {
          "output_type": "stream",
          "text": [
            "Epoch: 6. Train loss: 0.032. Train accuracy: 0.991. Val loss: 0.613. Val accuracy: 0.838\n"
          ],
          "name": "stdout"
        },
        {
          "output_type": "stream",
          "text": [
            "100%|██████████| 161/161 [01:01<00:00,  4.03it/s]\n",
            "  0%|          | 0/161 [00:00<?, ?it/s]"
          ],
          "name": "stderr"
        },
        {
          "output_type": "stream",
          "text": [
            "Epoch: 7. Train loss: 0.025. Train accuracy: 0.993. Val loss: 0.651. Val accuracy: 0.837\n"
          ],
          "name": "stdout"
        },
        {
          "output_type": "stream",
          "text": [
            "100%|██████████| 161/161 [01:00<00:00,  3.71it/s]\n",
            "  0%|          | 0/161 [00:00<?, ?it/s]"
          ],
          "name": "stderr"
        },
        {
          "output_type": "stream",
          "text": [
            "Epoch: 8. Train loss: 0.022. Train accuracy: 0.994. Val loss: 0.691. Val accuracy: 0.836\n"
          ],
          "name": "stdout"
        },
        {
          "output_type": "stream",
          "text": [
            "100%|██████████| 161/161 [00:53<00:00,  4.99it/s]\n"
          ],
          "name": "stderr"
        },
        {
          "output_type": "stream",
          "text": [
            "Epoch: 9. Train loss: 0.018. Train accuracy: 0.995. Val loss: 0.714. Val accuracy: 0.832\n"
          ],
          "name": "stdout"
        }
      ]
    },
    {
      "cell_type": "code",
      "metadata": {
        "id": "vRrJtgyJiVSR",
        "colab_type": "code",
        "colab": {
          "base_uri": "https://localhost:8080/",
          "height": 34
        },
        "outputId": "9b3e7eeb-b234-4a26-be5e-660ab3ce8e06"
      },
      "source": [
        "test_accuracy = test_model(model, test_iterator)\n",
        "print('Test accuracy: {}'.format(np.mean(test_accuracy)))"
      ],
      "execution_count": 119,
      "outputs": [
        {
          "output_type": "stream",
          "text": [
            "Test accuracy: 0.8242953419685364\n"
          ],
          "name": "stdout"
        }
      ]
    },
    {
      "cell_type": "code",
      "metadata": {
        "colab_type": "code",
        "outputId": "455d2e4c-afe8-4620-b42b-6218b67bbbf8",
        "id": "_1s2XHPNR6QF",
        "colab": {
          "base_uri": "https://localhost:8080/",
          "height": 279
        }
      },
      "source": [
        "plt.plot([x['val_loss'] for x in history], label='Val loss')\n",
        "plt.plot([x['train_loss'] for x in history], label='Train loss')\n",
        "plt.ylabel('Loss')\n",
        "plt.xlabel('Epoch')\n",
        "plt.legend()\n",
        "plt.show()"
      ],
      "execution_count": 120,
      "outputs": [
        {
          "output_type": "display_data",
          "data": {
            "image/png": "[encoded data removed]",
            "text/plain": [
              "<Figure size 432x288 with 1 Axes>"
            ]
          },
          "metadata": {
            "tags": []
          }
        }
      ]
    },
    {
      "cell_type": "code",
      "metadata": {
        "id": "Hj5b_CKri4-1",
        "colab_type": "code",
        "colab": {
          "base_uri": "https://localhost:8080/",
          "height": 279
        },
        "outputId": "307f92bd-2c54-4aa4-f864-2603a6a6a306"
      },
      "source": [
        "plt.plot([x['val_acc'] for x in history], label='Val acc')\n",
        "plt.plot([x['train_acc'] for x in history], label='Train acc')\n",
        "plt.ylabel('Accuracy')\n",
        "plt.xlabel('Epoch')\n",
        "plt.legend()\n",
        "plt.show()"
      ],
      "execution_count": 121,
      "outputs": [
        {
          "output_type": "display_data",
          "data": {
            "image/png": "[encoded data removed]",
            "text/plain": [
              "<Figure size 432x288 with 1 Axes>"
            ]
          },
          "metadata": {
            "tags": []
          }
        }
      ]
    },
    {
      "cell_type": "markdown",
      "metadata": {
        "id": "S43lkc0wukym",
        "colab_type": "text"
      },
      "source": [
        "# Model из домашки по нейросеткам Семена"
      ]
    },
    {
      "cell_type": "markdown",
      "metadata": {
        "id": "E4uzo4e9QWIL",
        "colab_type": "text"
      },
      "source": [
        "[Тут](https://colab.research.google.com/drive/1fH_n-7AJ-vbPURcLNqbIe316S1qZe9ZX), потом попробовать перенести"
      ]
    }
  ]
}