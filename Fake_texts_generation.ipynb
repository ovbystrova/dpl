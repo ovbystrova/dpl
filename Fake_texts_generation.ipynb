{
  "nbformat": 4,
  "nbformat_minor": 0,
  "metadata": {
    "colab": {
      "name": "Fake_texts_generation.ipynb",
      "provenance": [],
      "collapsed_sections": [
        "BYfwcV4xSNfv",
        "uY3i50oi27oK",
        "q6W1F-3jSSRR"
      ]
    },
    "kernelspec": {
      "name": "python3",
      "display_name": "Python 3"
    },
    "widgets": {
      "application/vnd.jupyter.widget-state+json": {
        "9b80953703ac418c9665edac4983025a": {
          "model_module": "@jupyter-widgets/controls",
          "model_name": "HBoxModel",
          "state": {
            "_view_name": "HBoxView",
            "_dom_classes": [],
            "_model_name": "HBoxModel",
            "_view_module": "@jupyter-widgets/controls",
            "_model_module_version": "1.5.0",
            "_view_count": null,
            "_view_module_version": "1.5.0",
            "box_style": "",
            "layout": "IPY_MODEL_0d2b461665e94290ab596ad32897e0e2",
            "_model_module": "@jupyter-widgets/controls",
            "children": [
              "IPY_MODEL_f4459d193c0846a9957fa82927ba9c2d",
              "IPY_MODEL_2fbbe4664e49438380bf951e88e19a0a"
            ]
          }
        },
        "0d2b461665e94290ab596ad32897e0e2": {
          "model_module": "@jupyter-widgets/base",
          "model_name": "LayoutModel",
          "state": {
            "_view_name": "LayoutView",
            "grid_template_rows": null,
            "right": null,
            "justify_content": null,
            "_view_module": "@jupyter-widgets/base",
            "overflow": null,
            "_model_module_version": "1.2.0",
            "_view_count": null,
            "flex_flow": null,
            "width": null,
            "min_width": null,
            "border": null,
            "align_items": null,
            "bottom": null,
            "_model_module": "@jupyter-widgets/base",
            "top": null,
            "grid_column": null,
            "overflow_y": null,
            "overflow_x": null,
            "grid_auto_flow": null,
            "grid_area": null,
            "grid_template_columns": null,
            "flex": null,
            "_model_name": "LayoutModel",
            "justify_items": null,
            "grid_row": null,
            "max_height": null,
            "align_content": null,
            "visibility": null,
            "align_self": null,
            "height": null,
            "min_height": null,
            "padding": null,
            "grid_auto_rows": null,
            "grid_gap": null,
            "max_width": null,
            "order": null,
            "_view_module_version": "1.2.0",
            "grid_template_areas": null,
            "object_position": null,
            "object_fit": null,
            "grid_auto_columns": null,
            "margin": null,
            "display": null,
            "left": null
          }
        },
        "f4459d193c0846a9957fa82927ba9c2d": {
          "model_module": "@jupyter-widgets/controls",
          "model_name": "IntProgressModel",
          "state": {
            "_view_name": "ProgressView",
            "style": "IPY_MODEL_4178926b9aca4e23a8e0868614c791f8",
            "_dom_classes": [],
            "description": "Downloading",
            "_model_name": "IntProgressModel",
            "bar_style": "success",
            "max": 1042301,
            "_view_module": "@jupyter-widgets/controls",
            "_model_module_version": "1.5.0",
            "value": 1042301,
            "_view_count": null,
            "_view_module_version": "1.5.0",
            "orientation": "horizontal",
            "min": 0,
            "description_tooltip": null,
            "_model_module": "@jupyter-widgets/controls",
            "layout": "IPY_MODEL_6fc7ba431590406d86f0c223cad53c7f"
          }
        },
        "2fbbe4664e49438380bf951e88e19a0a": {
          "model_module": "@jupyter-widgets/controls",
          "model_name": "HTMLModel",
          "state": {
            "_view_name": "HTMLView",
            "style": "IPY_MODEL_ebf357f1a39d4ae6a5166b20862bbbc7",
            "_dom_classes": [],
            "description": "",
            "_model_name": "HTMLModel",
            "placeholder": "​",
            "_view_module": "@jupyter-widgets/controls",
            "_model_module_version": "1.5.0",
            "value": "100% 1.04M/1.04M [00:00&lt;00:00, 11.6MB/s]",
            "_view_count": null,
            "_view_module_version": "1.5.0",
            "description_tooltip": null,
            "_model_module": "@jupyter-widgets/controls",
            "layout": "IPY_MODEL_32a7b1b2f7ca42178335dc597c1e6946"
          }
        },
        "4178926b9aca4e23a8e0868614c791f8": {
          "model_module": "@jupyter-widgets/controls",
          "model_name": "ProgressStyleModel",
          "state": {
            "_view_name": "StyleView",
            "_model_name": "ProgressStyleModel",
            "description_width": "initial",
            "_view_module": "@jupyter-widgets/base",
            "_model_module_version": "1.5.0",
            "_view_count": null,
            "_view_module_version": "1.2.0",
            "bar_color": null,
            "_model_module": "@jupyter-widgets/controls"
          }
        },
        "6fc7ba431590406d86f0c223cad53c7f": {
          "model_module": "@jupyter-widgets/base",
          "model_name": "LayoutModel",
          "state": {
            "_view_name": "LayoutView",
            "grid_template_rows": null,
            "right": null,
            "justify_content": null,
            "_view_module": "@jupyter-widgets/base",
            "overflow": null,
            "_model_module_version": "1.2.0",
            "_view_count": null,
            "flex_flow": null,
            "width": null,
            "min_width": null,
            "border": null,
            "align_items": null,
            "bottom": null,
            "_model_module": "@jupyter-widgets/base",
            "top": null,
            "grid_column": null,
            "overflow_y": null,
            "overflow_x": null,
            "grid_auto_flow": null,
            "grid_area": null,
            "grid_template_columns": null,
            "flex": null,
            "_model_name": "LayoutModel",
            "justify_items": null,
            "grid_row": null,
            "max_height": null,
            "align_content": null,
            "visibility": null,
            "align_self": null,
            "height": null,
            "min_height": null,
            "padding": null,
            "grid_auto_rows": null,
            "grid_gap": null,
            "max_width": null,
            "order": null,
            "_view_module_version": "1.2.0",
            "grid_template_areas": null,
            "object_position": null,
            "object_fit": null,
            "grid_auto_columns": null,
            "margin": null,
            "display": null,
            "left": null
          }
        },
        "ebf357f1a39d4ae6a5166b20862bbbc7": {
          "model_module": "@jupyter-widgets/controls",
          "model_name": "DescriptionStyleModel",
          "state": {
            "_view_name": "StyleView",
            "_model_name": "DescriptionStyleModel",
            "description_width": "",
            "_view_module": "@jupyter-widgets/base",
            "_model_module_version": "1.5.0",
            "_view_count": null,
            "_view_module_version": "1.2.0",
            "_model_module": "@jupyter-widgets/controls"
          }
        },
        "32a7b1b2f7ca42178335dc597c1e6946": {
          "model_module": "@jupyter-widgets/base",
          "model_name": "LayoutModel",
          "state": {
            "_view_name": "LayoutView",
            "grid_template_rows": null,
            "right": null,
            "justify_content": null,
            "_view_module": "@jupyter-widgets/base",
            "overflow": null,
            "_model_module_version": "1.2.0",
            "_view_count": null,
            "flex_flow": null,
            "width": null,
            "min_width": null,
            "border": null,
            "align_items": null,
            "bottom": null,
            "_model_module": "@jupyter-widgets/base",
            "top": null,
            "grid_column": null,
            "overflow_y": null,
            "overflow_x": null,
            "grid_auto_flow": null,
            "grid_area": null,
            "grid_template_columns": null,
            "flex": null,
            "_model_name": "LayoutModel",
            "justify_items": null,
            "grid_row": null,
            "max_height": null,
            "align_content": null,
            "visibility": null,
            "align_self": null,
            "height": null,
            "min_height": null,
            "padding": null,
            "grid_auto_rows": null,
            "grid_gap": null,
            "max_width": null,
            "order": null,
            "_view_module_version": "1.2.0",
            "grid_template_areas": null,
            "object_position": null,
            "object_fit": null,
            "grid_auto_columns": null,
            "margin": null,
            "display": null,
            "left": null
          }
        },
        "a84e912035ba4ed8a1c2618f53fd9cca": {
          "model_module": "@jupyter-widgets/controls",
          "model_name": "HBoxModel",
          "state": {
            "_view_name": "HBoxView",
            "_dom_classes": [],
            "_model_name": "HBoxModel",
            "_view_module": "@jupyter-widgets/controls",
            "_model_module_version": "1.5.0",
            "_view_count": null,
            "_view_module_version": "1.5.0",
            "box_style": "",
            "layout": "IPY_MODEL_fd72ffc944e04866915d6fff1edd88d4",
            "_model_module": "@jupyter-widgets/controls",
            "children": [
              "IPY_MODEL_c7c4c39c577a4c41883546b8529f4dd0",
              "IPY_MODEL_8b64ee8267504986a071c05f61277efb"
            ]
          }
        },
        "fd72ffc944e04866915d6fff1edd88d4": {
          "model_module": "@jupyter-widgets/base",
          "model_name": "LayoutModel",
          "state": {
            "_view_name": "LayoutView",
            "grid_template_rows": null,
            "right": null,
            "justify_content": null,
            "_view_module": "@jupyter-widgets/base",
            "overflow": null,
            "_model_module_version": "1.2.0",
            "_view_count": null,
            "flex_flow": null,
            "width": null,
            "min_width": null,
            "border": null,
            "align_items": null,
            "bottom": null,
            "_model_module": "@jupyter-widgets/base",
            "top": null,
            "grid_column": null,
            "overflow_y": null,
            "overflow_x": null,
            "grid_auto_flow": null,
            "grid_area": null,
            "grid_template_columns": null,
            "flex": null,
            "_model_name": "LayoutModel",
            "justify_items": null,
            "grid_row": null,
            "max_height": null,
            "align_content": null,
            "visibility": null,
            "align_self": null,
            "height": null,
            "min_height": null,
            "padding": null,
            "grid_auto_rows": null,
            "grid_gap": null,
            "max_width": null,
            "order": null,
            "_view_module_version": "1.2.0",
            "grid_template_areas": null,
            "object_position": null,
            "object_fit": null,
            "grid_auto_columns": null,
            "margin": null,
            "display": null,
            "left": null
          }
        },
        "c7c4c39c577a4c41883546b8529f4dd0": {
          "model_module": "@jupyter-widgets/controls",
          "model_name": "IntProgressModel",
          "state": {
            "_view_name": "ProgressView",
            "style": "IPY_MODEL_d292849f10ec41aaa204c73c6b97d862",
            "_dom_classes": [],
            "description": "Downloading",
            "_model_name": "IntProgressModel",
            "bar_style": "success",
            "max": 456318,
            "_view_module": "@jupyter-widgets/controls",
            "_model_module_version": "1.5.0",
            "value": 456318,
            "_view_count": null,
            "_view_module_version": "1.5.0",
            "orientation": "horizontal",
            "min": 0,
            "description_tooltip": null,
            "_model_module": "@jupyter-widgets/controls",
            "layout": "IPY_MODEL_f88d8c3e924d404b8b0e576a6cd136d3"
          }
        },
        "8b64ee8267504986a071c05f61277efb": {
          "model_module": "@jupyter-widgets/controls",
          "model_name": "HTMLModel",
          "state": {
            "_view_name": "HTMLView",
            "style": "IPY_MODEL_c4a1c0f18a4b4c199ecd250723e84eaa",
            "_dom_classes": [],
            "description": "",
            "_model_name": "HTMLModel",
            "placeholder": "​",
            "_view_module": "@jupyter-widgets/controls",
            "_model_module_version": "1.5.0",
            "value": "100% 456k/456k [00:00&lt;00:00, 5.09MB/s]",
            "_view_count": null,
            "_view_module_version": "1.5.0",
            "description_tooltip": null,
            "_model_module": "@jupyter-widgets/controls",
            "layout": "IPY_MODEL_afda7b3528d74082b55a15c53f5479b9"
          }
        },
        "d292849f10ec41aaa204c73c6b97d862": {
          "model_module": "@jupyter-widgets/controls",
          "model_name": "ProgressStyleModel",
          "state": {
            "_view_name": "StyleView",
            "_model_name": "ProgressStyleModel",
            "description_width": "initial",
            "_view_module": "@jupyter-widgets/base",
            "_model_module_version": "1.5.0",
            "_view_count": null,
            "_view_module_version": "1.2.0",
            "bar_color": null,
            "_model_module": "@jupyter-widgets/controls"
          }
        },
        "f88d8c3e924d404b8b0e576a6cd136d3": {
          "model_module": "@jupyter-widgets/base",
          "model_name": "LayoutModel",
          "state": {
            "_view_name": "LayoutView",
            "grid_template_rows": null,
            "right": null,
            "justify_content": null,
            "_view_module": "@jupyter-widgets/base",
            "overflow": null,
            "_model_module_version": "1.2.0",
            "_view_count": null,
            "flex_flow": null,
            "width": null,
            "min_width": null,
            "border": null,
            "align_items": null,
            "bottom": null,
            "_model_module": "@jupyter-widgets/base",
            "top": null,
            "grid_column": null,
            "overflow_y": null,
            "overflow_x": null,
            "grid_auto_flow": null,
            "grid_area": null,
            "grid_template_columns": null,
            "flex": null,
            "_model_name": "LayoutModel",
            "justify_items": null,
            "grid_row": null,
            "max_height": null,
            "align_content": null,
            "visibility": null,
            "align_self": null,
            "height": null,
            "min_height": null,
            "padding": null,
            "grid_auto_rows": null,
            "grid_gap": null,
            "max_width": null,
            "order": null,
            "_view_module_version": "1.2.0",
            "grid_template_areas": null,
            "object_position": null,
            "object_fit": null,
            "grid_auto_columns": null,
            "margin": null,
            "display": null,
            "left": null
          }
        },
        "c4a1c0f18a4b4c199ecd250723e84eaa": {
          "model_module": "@jupyter-widgets/controls",
          "model_name": "DescriptionStyleModel",
          "state": {
            "_view_name": "StyleView",
            "_model_name": "DescriptionStyleModel",
            "description_width": "",
            "_view_module": "@jupyter-widgets/base",
            "_model_module_version": "1.5.0",
            "_view_count": null,
            "_view_module_version": "1.2.0",
            "_model_module": "@jupyter-widgets/controls"
          }
        },
        "afda7b3528d74082b55a15c53f5479b9": {
          "model_module": "@jupyter-widgets/base",
          "model_name": "LayoutModel",
          "state": {
            "_view_name": "LayoutView",
            "grid_template_rows": null,
            "right": null,
            "justify_content": null,
            "_view_module": "@jupyter-widgets/base",
            "overflow": null,
            "_model_module_version": "1.2.0",
            "_view_count": null,
            "flex_flow": null,
            "width": null,
            "min_width": null,
            "border": null,
            "align_items": null,
            "bottom": null,
            "_model_module": "@jupyter-widgets/base",
            "top": null,
            "grid_column": null,
            "overflow_y": null,
            "overflow_x": null,
            "grid_auto_flow": null,
            "grid_area": null,
            "grid_template_columns": null,
            "flex": null,
            "_model_name": "LayoutModel",
            "justify_items": null,
            "grid_row": null,
            "max_height": null,
            "align_content": null,
            "visibility": null,
            "align_self": null,
            "height": null,
            "min_height": null,
            "padding": null,
            "grid_auto_rows": null,
            "grid_gap": null,
            "max_width": null,
            "order": null,
            "_view_module_version": "1.2.0",
            "grid_template_areas": null,
            "object_position": null,
            "object_fit": null,
            "grid_auto_columns": null,
            "margin": null,
            "display": null,
            "left": null
          }
        },
        "9865afa636564cf689a7efa04091f44f": {
          "model_module": "@jupyter-widgets/controls",
          "model_name": "HBoxModel",
          "state": {
            "_view_name": "HBoxView",
            "_dom_classes": [],
            "_model_name": "HBoxModel",
            "_view_module": "@jupyter-widgets/controls",
            "_model_module_version": "1.5.0",
            "_view_count": null,
            "_view_module_version": "1.5.0",
            "box_style": "",
            "layout": "IPY_MODEL_8197fcfbad0c47b28a7c83bc35dd251f",
            "_model_module": "@jupyter-widgets/controls",
            "children": [
              "IPY_MODEL_543d4cd502cf4ea6ba95ac71ef1e88b1",
              "IPY_MODEL_46e1927c96944389921e96640b0ac0b8"
            ]
          }
        },
        "8197fcfbad0c47b28a7c83bc35dd251f": {
          "model_module": "@jupyter-widgets/base",
          "model_name": "LayoutModel",
          "state": {
            "_view_name": "LayoutView",
            "grid_template_rows": null,
            "right": null,
            "justify_content": null,
            "_view_module": "@jupyter-widgets/base",
            "overflow": null,
            "_model_module_version": "1.2.0",
            "_view_count": null,
            "flex_flow": null,
            "width": null,
            "min_width": null,
            "border": null,
            "align_items": null,
            "bottom": null,
            "_model_module": "@jupyter-widgets/base",
            "top": null,
            "grid_column": null,
            "overflow_y": null,
            "overflow_x": null,
            "grid_auto_flow": null,
            "grid_area": null,
            "grid_template_columns": null,
            "flex": null,
            "_model_name": "LayoutModel",
            "justify_items": null,
            "grid_row": null,
            "max_height": null,
            "align_content": null,
            "visibility": null,
            "align_self": null,
            "height": null,
            "min_height": null,
            "padding": null,
            "grid_auto_rows": null,
            "grid_gap": null,
            "max_width": null,
            "order": null,
            "_view_module_version": "1.2.0",
            "grid_template_areas": null,
            "object_position": null,
            "object_fit": null,
            "grid_auto_columns": null,
            "margin": null,
            "display": null,
            "left": null
          }
        },
        "543d4cd502cf4ea6ba95ac71ef1e88b1": {
          "model_module": "@jupyter-widgets/controls",
          "model_name": "IntProgressModel",
          "state": {
            "_view_name": "ProgressView",
            "style": "IPY_MODEL_ab8eab3c360f4c4aa0366877e5726f7c",
            "_dom_classes": [],
            "description": "Downloading",
            "_model_name": "IntProgressModel",
            "bar_style": "success",
            "max": 224,
            "_view_module": "@jupyter-widgets/controls",
            "_model_module_version": "1.5.0",
            "value": 224,
            "_view_count": null,
            "_view_module_version": "1.5.0",
            "orientation": "horizontal",
            "min": 0,
            "description_tooltip": null,
            "_model_module": "@jupyter-widgets/controls",
            "layout": "IPY_MODEL_2e976152b3564dd8a3db81dfd16c3c0d"
          }
        },
        "46e1927c96944389921e96640b0ac0b8": {
          "model_module": "@jupyter-widgets/controls",
          "model_name": "HTMLModel",
          "state": {
            "_view_name": "HTMLView",
            "style": "IPY_MODEL_e722832f74c745ed92a3a7612efabb88",
            "_dom_classes": [],
            "description": "",
            "_model_name": "HTMLModel",
            "placeholder": "​",
            "_view_module": "@jupyter-widgets/controls",
            "_model_module_version": "1.5.0",
            "value": "100% 224/224 [00:00&lt;00:00, 6.38kB/s]",
            "_view_count": null,
            "_view_module_version": "1.5.0",
            "description_tooltip": null,
            "_model_module": "@jupyter-widgets/controls",
            "layout": "IPY_MODEL_53c5a6c427f0423f89523f5db8629c50"
          }
        },
        "ab8eab3c360f4c4aa0366877e5726f7c": {
          "model_module": "@jupyter-widgets/controls",
          "model_name": "ProgressStyleModel",
          "state": {
            "_view_name": "StyleView",
            "_model_name": "ProgressStyleModel",
            "description_width": "initial",
            "_view_module": "@jupyter-widgets/base",
            "_model_module_version": "1.5.0",
            "_view_count": null,
            "_view_module_version": "1.2.0",
            "bar_color": null,
            "_model_module": "@jupyter-widgets/controls"
          }
        },
        "2e976152b3564dd8a3db81dfd16c3c0d": {
          "model_module": "@jupyter-widgets/base",
          "model_name": "LayoutModel",
          "state": {
            "_view_name": "LayoutView",
            "grid_template_rows": null,
            "right": null,
            "justify_content": null,
            "_view_module": "@jupyter-widgets/base",
            "overflow": null,
            "_model_module_version": "1.2.0",
            "_view_count": null,
            "flex_flow": null,
            "width": null,
            "min_width": null,
            "border": null,
            "align_items": null,
            "bottom": null,
            "_model_module": "@jupyter-widgets/base",
            "top": null,
            "grid_column": null,
            "overflow_y": null,
            "overflow_x": null,
            "grid_auto_flow": null,
            "grid_area": null,
            "grid_template_columns": null,
            "flex": null,
            "_model_name": "LayoutModel",
            "justify_items": null,
            "grid_row": null,
            "max_height": null,
            "align_content": null,
            "visibility": null,
            "align_self": null,
            "height": null,
            "min_height": null,
            "padding": null,
            "grid_auto_rows": null,
            "grid_gap": null,
            "max_width": null,
            "order": null,
            "_view_module_version": "1.2.0",
            "grid_template_areas": null,
            "object_position": null,
            "object_fit": null,
            "grid_auto_columns": null,
            "margin": null,
            "display": null,
            "left": null
          }
        },
        "e722832f74c745ed92a3a7612efabb88": {
          "model_module": "@jupyter-widgets/controls",
          "model_name": "DescriptionStyleModel",
          "state": {
            "_view_name": "StyleView",
            "_model_name": "DescriptionStyleModel",
            "description_width": "",
            "_view_module": "@jupyter-widgets/base",
            "_model_module_version": "1.5.0",
            "_view_count": null,
            "_view_module_version": "1.2.0",
            "_model_module": "@jupyter-widgets/controls"
          }
        },
        "53c5a6c427f0423f89523f5db8629c50": {
          "model_module": "@jupyter-widgets/base",
          "model_name": "LayoutModel",
          "state": {
            "_view_name": "LayoutView",
            "grid_template_rows": null,
            "right": null,
            "justify_content": null,
            "_view_module": "@jupyter-widgets/base",
            "overflow": null,
            "_model_module_version": "1.2.0",
            "_view_count": null,
            "flex_flow": null,
            "width": null,
            "min_width": null,
            "border": null,
            "align_items": null,
            "bottom": null,
            "_model_module": "@jupyter-widgets/base",
            "top": null,
            "grid_column": null,
            "overflow_y": null,
            "overflow_x": null,
            "grid_auto_flow": null,
            "grid_area": null,
            "grid_template_columns": null,
            "flex": null,
            "_model_name": "LayoutModel",
            "justify_items": null,
            "grid_row": null,
            "max_height": null,
            "align_content": null,
            "visibility": null,
            "align_self": null,
            "height": null,
            "min_height": null,
            "padding": null,
            "grid_auto_rows": null,
            "grid_gap": null,
            "max_width": null,
            "order": null,
            "_view_module_version": "1.2.0",
            "grid_template_areas": null,
            "object_position": null,
            "object_fit": null,
            "grid_auto_columns": null,
            "margin": null,
            "display": null,
            "left": null
          }
        },
        "072797239dc4479fbad5031055c0c684": {
          "model_module": "@jupyter-widgets/controls",
          "model_name": "HBoxModel",
          "state": {
            "_view_name": "HBoxView",
            "_dom_classes": [],
            "_model_name": "HBoxModel",
            "_view_module": "@jupyter-widgets/controls",
            "_model_module_version": "1.5.0",
            "_view_count": null,
            "_view_module_version": "1.5.0",
            "box_style": "",
            "layout": "IPY_MODEL_d4304141e4134c259848bebc42f3d166",
            "_model_module": "@jupyter-widgets/controls",
            "children": [
              "IPY_MODEL_20cd66ffb57241409799ded7169179d2",
              "IPY_MODEL_e2b75ed612d5479c822ed523a6f152dd"
            ]
          }
        },
        "d4304141e4134c259848bebc42f3d166": {
          "model_module": "@jupyter-widgets/base",
          "model_name": "LayoutModel",
          "state": {
            "_view_name": "LayoutView",
            "grid_template_rows": null,
            "right": null,
            "justify_content": null,
            "_view_module": "@jupyter-widgets/base",
            "overflow": null,
            "_model_module_version": "1.2.0",
            "_view_count": null,
            "flex_flow": null,
            "width": null,
            "min_width": null,
            "border": null,
            "align_items": null,
            "bottom": null,
            "_model_module": "@jupyter-widgets/base",
            "top": null,
            "grid_column": null,
            "overflow_y": null,
            "overflow_x": null,
            "grid_auto_flow": null,
            "grid_area": null,
            "grid_template_columns": null,
            "flex": null,
            "_model_name": "LayoutModel",
            "justify_items": null,
            "grid_row": null,
            "max_height": null,
            "align_content": null,
            "visibility": null,
            "align_self": null,
            "height": null,
            "min_height": null,
            "padding": null,
            "grid_auto_rows": null,
            "grid_gap": null,
            "max_width": null,
            "order": null,
            "_view_module_version": "1.2.0",
            "grid_template_areas": null,
            "object_position": null,
            "object_fit": null,
            "grid_auto_columns": null,
            "margin": null,
            "display": null,
            "left": null
          }
        },
        "20cd66ffb57241409799ded7169179d2": {
          "model_module": "@jupyter-widgets/controls",
          "model_name": "IntProgressModel",
          "state": {
            "_view_name": "ProgressView",
            "style": "IPY_MODEL_1671a5b743d049c2996827047d56d1f3",
            "_dom_classes": [],
            "description": "Downloading",
            "_model_name": "IntProgressModel",
            "bar_style": "success",
            "max": 548118077,
            "_view_module": "@jupyter-widgets/controls",
            "_model_module_version": "1.5.0",
            "value": 548118077,
            "_view_count": null,
            "_view_module_version": "1.5.0",
            "orientation": "horizontal",
            "min": 0,
            "description_tooltip": null,
            "_model_module": "@jupyter-widgets/controls",
            "layout": "IPY_MODEL_ff5d6c0ec5cb49e4b1751ac8e6b9a44a"
          }
        },
        "e2b75ed612d5479c822ed523a6f152dd": {
          "model_module": "@jupyter-widgets/controls",
          "model_name": "HTMLModel",
          "state": {
            "_view_name": "HTMLView",
            "style": "IPY_MODEL_9318188c39294bb2b524df84e574b185",
            "_dom_classes": [],
            "description": "",
            "_model_name": "HTMLModel",
            "placeholder": "​",
            "_view_module": "@jupyter-widgets/controls",
            "_model_module_version": "1.5.0",
            "value": "100% 548M/548M [00:09&lt;00:00, 60.4MB/s]",
            "_view_count": null,
            "_view_module_version": "1.5.0",
            "description_tooltip": null,
            "_model_module": "@jupyter-widgets/controls",
            "layout": "IPY_MODEL_50c6b76dff054f72bcd1b0c7bdbefed1"
          }
        },
        "1671a5b743d049c2996827047d56d1f3": {
          "model_module": "@jupyter-widgets/controls",
          "model_name": "ProgressStyleModel",
          "state": {
            "_view_name": "StyleView",
            "_model_name": "ProgressStyleModel",
            "description_width": "initial",
            "_view_module": "@jupyter-widgets/base",
            "_model_module_version": "1.5.0",
            "_view_count": null,
            "_view_module_version": "1.2.0",
            "bar_color": null,
            "_model_module": "@jupyter-widgets/controls"
          }
        },
        "ff5d6c0ec5cb49e4b1751ac8e6b9a44a": {
          "model_module": "@jupyter-widgets/base",
          "model_name": "LayoutModel",
          "state": {
            "_view_name": "LayoutView",
            "grid_template_rows": null,
            "right": null,
            "justify_content": null,
            "_view_module": "@jupyter-widgets/base",
            "overflow": null,
            "_model_module_version": "1.2.0",
            "_view_count": null,
            "flex_flow": null,
            "width": null,
            "min_width": null,
            "border": null,
            "align_items": null,
            "bottom": null,
            "_model_module": "@jupyter-widgets/base",
            "top": null,
            "grid_column": null,
            "overflow_y": null,
            "overflow_x": null,
            "grid_auto_flow": null,
            "grid_area": null,
            "grid_template_columns": null,
            "flex": null,
            "_model_name": "LayoutModel",
            "justify_items": null,
            "grid_row": null,
            "max_height": null,
            "align_content": null,
            "visibility": null,
            "align_self": null,
            "height": null,
            "min_height": null,
            "padding": null,
            "grid_auto_rows": null,
            "grid_gap": null,
            "max_width": null,
            "order": null,
            "_view_module_version": "1.2.0",
            "grid_template_areas": null,
            "object_position": null,
            "object_fit": null,
            "grid_auto_columns": null,
            "margin": null,
            "display": null,
            "left": null
          }
        },
        "9318188c39294bb2b524df84e574b185": {
          "model_module": "@jupyter-widgets/controls",
          "model_name": "DescriptionStyleModel",
          "state": {
            "_view_name": "StyleView",
            "_model_name": "DescriptionStyleModel",
            "description_width": "",
            "_view_module": "@jupyter-widgets/base",
            "_model_module_version": "1.5.0",
            "_view_count": null,
            "_view_module_version": "1.2.0",
            "_model_module": "@jupyter-widgets/controls"
          }
        },
        "50c6b76dff054f72bcd1b0c7bdbefed1": {
          "model_module": "@jupyter-widgets/base",
          "model_name": "LayoutModel",
          "state": {
            "_view_name": "LayoutView",
            "grid_template_rows": null,
            "right": null,
            "justify_content": null,
            "_view_module": "@jupyter-widgets/base",
            "overflow": null,
            "_model_module_version": "1.2.0",
            "_view_count": null,
            "flex_flow": null,
            "width": null,
            "min_width": null,
            "border": null,
            "align_items": null,
            "bottom": null,
            "_model_module": "@jupyter-widgets/base",
            "top": null,
            "grid_column": null,
            "overflow_y": null,
            "overflow_x": null,
            "grid_auto_flow": null,
            "grid_area": null,
            "grid_template_columns": null,
            "flex": null,
            "_model_name": "LayoutModel",
            "justify_items": null,
            "grid_row": null,
            "max_height": null,
            "align_content": null,
            "visibility": null,
            "align_self": null,
            "height": null,
            "min_height": null,
            "padding": null,
            "grid_auto_rows": null,
            "grid_gap": null,
            "max_width": null,
            "order": null,
            "_view_module_version": "1.2.0",
            "grid_template_areas": null,
            "object_position": null,
            "object_fit": null,
            "grid_auto_columns": null,
            "margin": null,
            "display": null,
            "left": null
          }
        }
      }
    }
  },
  "cells": [
    {
      "cell_type": "markdown",
      "metadata": {
        "id": "cPQ-RVEbo6Ab",
        "colab_type": "text"
      },
      "source": [
        "Ноутбук для генерации текстов разными способами, используя GPT2 модель. \n",
        "\n",
        "Разные методы для сэмплирования:\n",
        "\n",
        "\n",
        "*   Argmax\n",
        "*   Temperature\n",
        "*   Nucleus sampling\n",
        "*   Top K\n",
        "*   Beam Search\n",
        "\n"
      ]
    },
    {
      "cell_type": "code",
      "metadata": {
        "id": "TQOHKO80PX7K",
        "colab_type": "code",
        "colab": {}
      },
      "source": [
        "!pip install transformers"
      ],
      "execution_count": 0,
      "outputs": []
    },
    {
      "cell_type": "code",
      "metadata": {
        "id": "Ucmk2NqzPVI2",
        "colab_type": "code",
        "outputId": "632e1ae6-3844-4494-8024-0681ea987aab",
        "colab": {
          "base_uri": "https://localhost:8080/",
          "height": 62
        }
      },
      "source": [
        "from transformers import GPT2Tokenizer, GPT2LMHeadModel\n",
        "from tqdm import tqdm\n",
        "import re\n",
        "import torch\n",
        "import numpy as np"
      ],
      "execution_count": 0,
      "outputs": [
        {
          "output_type": "display_data",
          "data": {
            "text/html": [
              "<p style=\"color: red;\">\n",
              "The default version of TensorFlow in Colab will soon switch to TensorFlow 2.x.<br>\n",
              "We recommend you <a href=\"https://www.tensorflow.org/guide/migrate\" target=\"_blank\">upgrade</a> now \n",
              "or ensure your notebook will continue to use TensorFlow 1.x via the <code>%tensorflow_version 1.x</code> magic:\n",
              "<a href=\"https://colab.research.google.com/notebooks/tensorflow_version.ipynb\" target=\"_blank\">more info</a>.</p>\n"
            ],
            "text/plain": [
              "<IPython.core.display.HTML object>"
            ]
          },
          "metadata": {
            "tags": []
          }
        }
      ]
    },
    {
      "cell_type": "markdown",
      "metadata": {
        "id": "XetuG3fASeRi",
        "colab_type": "text"
      },
      "source": [
        "Сюда подается текстовый файл с предложениями для генерации. Каждое предложение с новой строки. "
      ]
    },
    {
      "cell_type": "code",
      "metadata": {
        "id": "pwfsLpXgVLzG",
        "colab_type": "code",
        "colab": {}
      },
      "source": [
        "!pip install -U -q PyDrive\n",
        "from pydrive.auth import GoogleAuth\n",
        "from pydrive.drive import GoogleDrive\n",
        "from google.colab import auth\n",
        "from oauth2client.client import GoogleCredentials\n",
        "auth.authenticate_user()\n",
        "gauth = GoogleAuth()\n",
        "gauth.credentials = GoogleCredentials.get_application_default()\n",
        "drive = GoogleDrive(gauth)\n",
        "\n",
        "idd = '1Oou1SfdpxBIle3F3iGTaVU4aU2mkRMXA' #Sentences for gpt2 generation\n",
        "downloaded_ = drive.CreateFile({'id':idd}) \n",
        "downloaded_.GetContentFile('texts_to_gpt2')"
      ],
      "execution_count": 0,
      "outputs": []
    },
    {
      "cell_type": "code",
      "metadata": {
        "id": "AXatuVZ5PaPU",
        "colab_type": "code",
        "colab": {}
      },
      "source": [
        "def open_file(file):\n",
        "    with open(file, 'r', encoding='utf-8') as f:\n",
        "        texts = [line for line in f.readlines()]\n",
        "    return texts\n",
        "\n",
        "def save_file(texts, filename):\n",
        "    with open(filename, 'w', encoding='utf-8') as f:\n",
        "            for item in texts:\n",
        "                f.write('{}\\n'.format(item))"
      ],
      "execution_count": 0,
      "outputs": []
    },
    {
      "cell_type": "code",
      "metadata": {
        "id": "_LNMWTQ-SnWu",
        "colab_type": "code",
        "colab": {}
      },
      "source": [
        "texts = open_file('texts_to_gpt2')"
      ],
      "execution_count": 0,
      "outputs": []
    },
    {
      "cell_type": "code",
      "metadata": {
        "id": "7WSJ7VHqP52Q",
        "colab_type": "code",
        "outputId": "cbc6a158-19cf-483b-e937-853693f6f7c4",
        "colab": {
          "base_uri": "https://localhost:8080/",
          "height": 212,
          "referenced_widgets": [
            "9b80953703ac418c9665edac4983025a",
            "0d2b461665e94290ab596ad32897e0e2",
            "f4459d193c0846a9957fa82927ba9c2d",
            "2fbbe4664e49438380bf951e88e19a0a",
            "4178926b9aca4e23a8e0868614c791f8",
            "6fc7ba431590406d86f0c223cad53c7f",
            "ebf357f1a39d4ae6a5166b20862bbbc7",
            "32a7b1b2f7ca42178335dc597c1e6946",
            "a84e912035ba4ed8a1c2618f53fd9cca",
            "fd72ffc944e04866915d6fff1edd88d4",
            "c7c4c39c577a4c41883546b8529f4dd0",
            "8b64ee8267504986a071c05f61277efb",
            "d292849f10ec41aaa204c73c6b97d862",
            "f88d8c3e924d404b8b0e576a6cd136d3",
            "c4a1c0f18a4b4c199ecd250723e84eaa",
            "afda7b3528d74082b55a15c53f5479b9",
            "9865afa636564cf689a7efa04091f44f",
            "8197fcfbad0c47b28a7c83bc35dd251f",
            "543d4cd502cf4ea6ba95ac71ef1e88b1",
            "46e1927c96944389921e96640b0ac0b8",
            "ab8eab3c360f4c4aa0366877e5726f7c",
            "2e976152b3564dd8a3db81dfd16c3c0d",
            "e722832f74c745ed92a3a7612efabb88",
            "53c5a6c427f0423f89523f5db8629c50",
            "072797239dc4479fbad5031055c0c684",
            "d4304141e4134c259848bebc42f3d166",
            "20cd66ffb57241409799ded7169179d2",
            "e2b75ed612d5479c822ed523a6f152dd",
            "1671a5b743d049c2996827047d56d1f3",
            "ff5d6c0ec5cb49e4b1751ac8e6b9a44a",
            "9318188c39294bb2b524df84e574b185",
            "50c6b76dff054f72bcd1b0c7bdbefed1"
          ]
        }
      },
      "source": [
        "MAX_LENGTH = 30\n",
        "tokenizer = GPT2Tokenizer.from_pretrained(\"gpt2\")\n",
        "model = GPT2LMHeadModel.from_pretrained('gpt2')"
      ],
      "execution_count": 0,
      "outputs": [
        {
          "output_type": "display_data",
          "data": {
            "application/vnd.jupyter.widget-view+json": {
              "model_id": "9b80953703ac418c9665edac4983025a",
              "version_minor": 0,
              "version_major": 2
            },
            "text/plain": [
              "HBox(children=(IntProgress(value=0, description='Downloading', max=1042301, style=ProgressStyle(description_wi…"
            ]
          },
          "metadata": {
            "tags": []
          }
        },
        {
          "output_type": "stream",
          "text": [
            "\n"
          ],
          "name": "stdout"
        },
        {
          "output_type": "display_data",
          "data": {
            "application/vnd.jupyter.widget-view+json": {
              "model_id": "a84e912035ba4ed8a1c2618f53fd9cca",
              "version_minor": 0,
              "version_major": 2
            },
            "text/plain": [
              "HBox(children=(IntProgress(value=0, description='Downloading', max=456318, style=ProgressStyle(description_wid…"
            ]
          },
          "metadata": {
            "tags": []
          }
        },
        {
          "output_type": "stream",
          "text": [
            "\n"
          ],
          "name": "stdout"
        },
        {
          "output_type": "display_data",
          "data": {
            "application/vnd.jupyter.widget-view+json": {
              "model_id": "9865afa636564cf689a7efa04091f44f",
              "version_minor": 0,
              "version_major": 2
            },
            "text/plain": [
              "HBox(children=(IntProgress(value=0, description='Downloading', max=224, style=ProgressStyle(description_width=…"
            ]
          },
          "metadata": {
            "tags": []
          }
        },
        {
          "output_type": "stream",
          "text": [
            "\n"
          ],
          "name": "stdout"
        },
        {
          "output_type": "display_data",
          "data": {
            "application/vnd.jupyter.widget-view+json": {
              "model_id": "072797239dc4479fbad5031055c0c684",
              "version_minor": 0,
              "version_major": 2
            },
            "text/plain": [
              "HBox(children=(IntProgress(value=0, description='Downloading', max=548118077, style=ProgressStyle(description_…"
            ]
          },
          "metadata": {
            "tags": []
          }
        },
        {
          "output_type": "stream",
          "text": [
            "\n"
          ],
          "name": "stdout"
        }
      ]
    },
    {
      "cell_type": "markdown",
      "metadata": {
        "id": "BYfwcV4xSNfv",
        "colab_type": "text"
      },
      "source": [
        "# Generation stuff"
      ]
    },
    {
      "cell_type": "code",
      "metadata": {
        "id": "dE8fpKEX3Jmf",
        "colab_type": "code",
        "colab": {}
      },
      "source": [
        "def generate_fake(texts, sampling_type, fake=[], tokenizer=tokenizer, model=model):\n",
        "    \"\"\"\n",
        "    Функция для генерации гекстов в зависимости от типа сэмплирования. \n",
        "    sampling type: tuple (sampling_type : value)\n",
        "    Записывает фейковые тексты в отдельный файл. (В DataGen_Class есть вариант еще и с обработкой real)\n",
        "    Возвращает список фейковых текстов.\n",
        "    \"\"\"\n",
        "\n",
        "    i = 0\n",
        "    for ind, el in tqdm(enumerate(texts)):\n",
        "        sent = generate_sentence(el, model, tokenizer, sampling_type)            \n",
        "        sent = re.sub(r'\\n', '', sent)\n",
        "        fake.append(sent)\n",
        "\n",
        "        if (i % 1000 == 0) and (i > 0):\n",
        "            print('{} out of {} are not found in emb dict'.format(i, ind))\n",
        "\n",
        "    with open('fake_{}.txt'.format(sampling_type[0]), 'w', encoding='utf-8') as f:    \n",
        "        for item in fake:\n",
        "            f.write('{}\\n'.format(item))\n",
        "    \n",
        "    return fake"
      ],
      "execution_count": 0,
      "outputs": []
    },
    {
      "cell_type": "code",
      "metadata": {
        "id": "LIGQSYFR9zjE",
        "colab_type": "code",
        "colab": {}
      },
      "source": [
        "def generate_sentence(sentence, model, tokenizer, sampling_type, max_length=MAX_LENGTH):    \n",
        "    \"\"\"\n",
        "    Функция генерирует предложение в зависимости от типа сэмплирования\n",
        "    \"\"\"\n",
        "    context = torch.tensor([tokenizer.encode(sentence)])\n",
        "    max_length += context.size()[-1]\n",
        "    \n",
        "    if sampling_type[0] == 'beam_search':\n",
        "        outputs = model.generate(input_ids=context, max_length=max_length,\n",
        "                                 do_sample=True, num_beams=sampling_type[1])\n",
        "    elif sampling_type[0] == 'temperature':\n",
        "        outputs = model.generate(input_ids=context, max_length=max_length,\n",
        "                                 do_sample=True, temperature=sampling_type[1])\n",
        "    elif sampling_type[0] == 'top_k':\n",
        "        outputs = model.generate(input_ids=context, max_length=max_length,\n",
        "                                 do_sample=True, temperature=sampling_type[1])\n",
        "    elif sampling_type[0] == 'nucleus':\n",
        "        outputs = model.generate(input_ids=context, max_length=max_length,\n",
        "                                 do_sample=True, top_p=sampling_type[1])\n",
        "    else: # Иначе аргмакс\n",
        "        outputs = model.generate(input_ids=context, max_length=max_length, do_sample=False)\n",
        "    return tokenizer.decode(outputs[0], skip_special_tokens=True)\n",
        "\n",
        "# Проблемка, пробельчик не добавляется перед сгенерированным кусочком."
      ],
      "execution_count": 0,
      "outputs": []
    },
    {
      "cell_type": "code",
      "metadata": {
        "id": "LZY8W3WlO123",
        "colab_type": "code",
        "outputId": "a4428f6c-5fa1-41fd-b2ef-3f0dfdc0c7e3",
        "colab": {
          "base_uri": "https://localhost:8080/",
          "height": 34
        }
      },
      "source": [
        "argmax_fake = generate_fake(texts[:10], ('argmax', 23), fake=[], tokenizer=tokenizer, model=model)"
      ],
      "execution_count": 0,
      "outputs": [
        {
          "output_type": "stream",
          "text": [
            "10it [00:20,  2.06s/it]\n"
          ],
          "name": "stderr"
        }
      ]
    },
    {
      "cell_type": "code",
      "metadata": {
        "id": "ytFqxOegO1vX",
        "colab_type": "code",
        "outputId": "be7c60e2-dc08-42e3-af5c-f2559293d898",
        "colab": {
          "base_uri": "https://localhost:8080/",
          "height": 34
        }
      },
      "source": [
        "beam_search_fake = generate_fake(texts[:10], ('beam_search', 3), fake=[], tokenizer=tokenizer, model=model)"
      ],
      "execution_count": 0,
      "outputs": [
        {
          "output_type": "stream",
          "text": [
            "10it [00:41,  4.28s/it]\n"
          ],
          "name": "stderr"
        }
      ]
    },
    {
      "cell_type": "code",
      "metadata": {
        "id": "yH_QX0rhO1nc",
        "colab_type": "code",
        "outputId": "03cb5b8f-07fd-44bf-fcf8-3822bdb388ef",
        "colab": {
          "base_uri": "https://localhost:8080/",
          "height": 34
        }
      },
      "source": [
        "temperature_fake = generate_fake(texts[:10], ('temperature', 0.8), fake=[], tokenizer=tokenizer, model=model)"
      ],
      "execution_count": 0,
      "outputs": [
        {
          "output_type": "stream",
          "text": [
            "10it [00:20,  2.07s/it]\n"
          ],
          "name": "stderr"
        }
      ]
    },
    {
      "cell_type": "code",
      "metadata": {
        "id": "Nd0aExJzO1cj",
        "colab_type": "code",
        "outputId": "d3ac601a-445a-4f62-a05c-9d98b1beadfe",
        "colab": {
          "base_uri": "https://localhost:8080/",
          "height": 34
        }
      },
      "source": [
        "top_k_fake = generate_fake(texts[:10], ('top_k', 30), fake=[], tokenizer=tokenizer, model=model)"
      ],
      "execution_count": 0,
      "outputs": [
        {
          "output_type": "stream",
          "text": [
            "10it [00:19,  1.78s/it]\n"
          ],
          "name": "stderr"
        }
      ]
    },
    {
      "cell_type": "code",
      "metadata": {
        "id": "LVEEsZMgPVdx",
        "colab_type": "code",
        "outputId": "d1ffdf74-137e-4198-ddf2-033f7ee21a1f",
        "colab": {
          "base_uri": "https://localhost:8080/",
          "height": 34
        }
      },
      "source": [
        "nucleus_fake = generate_fake(texts[:10], ('nucleus', 0.9), fake=[], tokenizer=tokenizer, model=model)"
      ],
      "execution_count": 0,
      "outputs": [
        {
          "output_type": "stream",
          "text": [
            "10it [00:21,  2.18s/it]\n"
          ],
          "name": "stderr"
        }
      ]
    },
    {
      "cell_type": "code",
      "metadata": {
        "id": "pNvVaG_-PVSf",
        "colab_type": "code",
        "outputId": "acbc343c-28e5-42ef-f559-dbfb242c9937",
        "colab": {
          "base_uri": "https://localhost:8080/",
          "height": 34
        }
      },
      "source": [
        "len(argmax_fake), len(beam_search_fake), len(temperature_fake), len(top_k_fake), len(nucleus_fake)"
      ],
      "execution_count": 0,
      "outputs": [
        {
          "output_type": "execute_result",
          "data": {
            "text/plain": [
              "(10, 10, 10, 10, 10)"
            ]
          },
          "metadata": {
            "tags": []
          },
          "execution_count": 14
        }
      ]
    },
    {
      "cell_type": "code",
      "metadata": {
        "id": "LcAPYjHwQLo_",
        "colab_type": "code",
        "colab": {}
      },
      "source": [
        "argmax_tuple =  ('Argmax', argmax_fake)\n",
        "beam_search_tuple = ('Beam Search', beam_search_fake)\n",
        "temperature_tuple = ('Temperature', temperature_fake)\n",
        "top_k_tuple = ('Top K', top_k_fake)\n",
        "nucleus_tuple = ('Nucleus', nucleus_fake)"
      ],
      "execution_count": 0,
      "outputs": []
    },
    {
      "cell_type": "markdown",
      "metadata": {
        "id": "uY3i50oi27oK",
        "colab_type": "text"
      },
      "source": [
        "# Comparison"
      ]
    },
    {
      "cell_type": "code",
      "metadata": {
        "id": "l42L09hh27Le",
        "colab_type": "code",
        "colab": {}
      },
      "source": [
        "def compare(real, *args):\n",
        "    for ind, el in enumerate(real):\n",
        "        print('REAL TEXT: {}'.format(el))\n",
        "        \n",
        "        for type_fake, fake_list in args:\n",
        "            for fake_text in fake_list:\n",
        "                if fake_text.startswith(el[:20]):\n",
        "                    print('GENERATED TEXT ({}): {}'.format(type_fake, fake_text))\n",
        "        print('=======================================')"
      ],
      "execution_count": 0,
      "outputs": []
    },
    {
      "cell_type": "code",
      "metadata": {
        "id": "vfuBotxB31Ph",
        "colab_type": "code",
        "outputId": "a7baf9b7-bf47-42e6-b0f9-e593ba8bc57b",
        "colab": {
          "base_uri": "https://localhost:8080/",
          "height": 1000
        }
      },
      "source": [
        "compare(texts[:10], argmax_tuple, temperature_tuple, top_k_tuple, beam_search_tuple, nucleus_tuple)"
      ],
      "execution_count": 0,
      "outputs": [
        {
          "output_type": "stream",
          "text": [
            "REAL TEXT: HAMBURG, Germany, June 3  As he left the soccer field after a club match in the eastern German city of Halle on March 25, the Nigerian forward Adebowale Ogungbure was spit upon, jeered with racial remarks and mocked with monkey noises.\n",
            "\n",
            "GENERATED TEXT (Argmax): HAMBURG, Germany, June 3  As he left the soccer field after a club match in the eastern German city of Halle on March 25, the Nigerian forward Adebowale Ogungbure was spit upon, jeered with racial remarks and mocked with monkey noises.Ogungbure, who was born in Nigeria, was arrested in Germany on March 25 and charged with \"racial discrimination\" after!\n",
            "GENERATED TEXT (Temperature): HAMBURG, Germany, June 3  As he left the soccer field after a club match in the eastern German city of Halle on March 25, the Nigerian forward Adebowale Ogungbure was spit upon, jeered with racial remarks and mocked with monkey noises.The incident sparked a national debate, with many Nigerian supporters condemning the act and others calling for an apology.After the incident,!\n",
            "GENERATED TEXT (Top K): HAMBURG, Germany, June 3  As he left the soccer field after a club match in the eastern German city of Halle on March 25, the Nigerian forward Adebowale Ogungbure was spit upon, jeered with racial remarks and mocked with monkey noises. Two other Ghana nationals was similarly treated at stadium during Brazil night (after having fled across East Asian to escape police attempts), leaving hundreds and at 1!\n",
            "GENERATED TEXT (Beam Search): HAMBURG, Germany, June 3  As he left the soccer field after a club match in the eastern German city of Halle on March 25, the Nigerian forward Adebowale Ogungbure was spit upon, jeered with racial remarks and mocked with monkey noises. Shortly after, his employer at the Fina supermarket in Frankfurt, which he visited twice a week since the attack on the soccer player, began handing!\n",
            "GENERATED TEXT (Nucleus): HAMBURG, Germany, June 3  As he left the soccer field after a club match in the eastern German city of Halle on March 25, the Nigerian forward Adebowale Ogungbure was spit upon, jeered with racial remarks and mocked with monkey noises.The incident took place on April 23 at a soccer match between the Nigerian national team and the local police. As he arrived at the soccer!\n",
            "=======================================\n",
            "REAL TEXT: WASHINGTON, Dec. 23 - The National Security Agency has traced and analyzed large volumes of telephone and Internet communications flowing into and out of the United States as part of the eavesdropping program that President Bush approved after the Sept. 11, 2001, attacks to hunt for evidence of terrorist activity, according to current and former government officials.\n",
            "\n",
            "GENERATED TEXT (Argmax): WASHINGTON, Dec. 23 - The National Security Agency has traced and analyzed large volumes of telephone and Internet communications flowing into and out of the United States as part of the eavesdropping program that President Bush approved after the Sept. 11, 2001, attacks to hunt for evidence of terrorist activity, according to current and former government officials.The NSA's analysis of the communications of more than 1.5 million Americans, including more than 1.5 million Americans who were not!\n",
            "GENERATED TEXT (Temperature): WASHINGTON, Dec. 23 - The National Security Agency has traced and analyzed large volumes of telephone and Internet communications flowing into and out of the United States as part of the eavesdropping program that President Bush approved after the Sept. 11, 2001, attacks to hunt for evidence of terrorist activity, according to current and former government officials.The program, also known as PRISM or PRISM-II, is a multi-million dollar operation that began in 2002 and has!\n",
            "GENERATED TEXT (Top K): WASHINGTON, Dec. 23 - The National Security Agency has traced and analyzed large volumes of telephone and Internet communications flowing into and out of the United States as part of the eavesdropping program that President Bush approved after the Sept. 11, 2001, attacks to hunt for evidence of terrorist activity, according to current and former government officials.....?...the vast electronic streams would potentially trigger widespread data analysis where one person in several million lives - almost 20 % (16 n!\n",
            "GENERATED TEXT (Beam Search): WASHINGTON, Dec. 23 - The National Security Agency has traced and analyzed large volumes of telephone and Internet communications flowing into and out of the United States as part of the eavesdropping program that President Bush approved after the Sept. 11, 2001, attacks to hunt for evidence of terrorist activity, according to current and former government officials.The National Security Agency's use of telephone metadata to help target foreign intelligence targets by conducting targeted surveillance of Americans became public after Congress raised concerns!\n",
            "GENERATED TEXT (Nucleus): WASHINGTON, Dec. 23 - The National Security Agency has traced and analyzed large volumes of telephone and Internet communications flowing into and out of the United States as part of the eavesdropping program that President Bush approved after the Sept. 11, 2001, attacks to hunt for evidence of terrorist activity, according to current and former government officials.The surveillance program began under Bush in 2005, under the supervision of then-U.S. Attorney General Loretta Lynch, who oversaw!\n",
            "=======================================\n",
            "REAL TEXT: IF outsized executive pay has indeed become a source of outrage to American shareholders, then the contest this week between Pfizer Inc.'s investors and its board could prove the most compelling of the year.\n",
            "\n",
            "GENERATED TEXT (Argmax): IF outsized executive pay has indeed become a source of outrage to American shareholders, then the contest this week between Pfizer Inc.'s investors and its board could prove the most compelling of the year.The company's stock has been trading at a record high since the start of the year, and the stock has been trading at a record!\n",
            "GENERATED TEXT (Temperature): IF outsized executive pay has indeed become a source of outrage to American shareholders, then the contest this week between Pfizer Inc.'s investors and its board could prove the most compelling of the year.Related: A New Way to Fight Obesity in the U.S.In a news conference in New York, Pfizer CEO!\n",
            "GENERATED TEXT (Top K): IF outsized executive pay has indeed become a source of outrage to American shareholders, then the contest this week between Pfizer Inc.'s investors and its board could prove the most compelling of the year. The results suggest to prospective big pharmaceutical regulators this issue cannot simply languoat once. (L.) and (MOBO and H&!\n",
            "GENERATED TEXT (Beam Search): IF outsized executive pay has indeed become a source of outrage to American shareholders, then the contest this week between Pfizer Inc.'s investors and its board could prove the most compelling of the year.Fenix Capital (FENIFO). This stock is headed to undervaluation by market-dollars.!\n",
            "GENERATED TEXT (Nucleus): IF outsized executive pay has indeed become a source of outrage to American shareholders, then the contest this week between Pfizer Inc.'s investors and its board could prove the most compelling of the year.FDA has asked Pfizer not to disclose its compensation and costs for two of the last four years, but that doesn't mean its!\n",
            "=======================================\n",
            "REAL TEXT: BY A.J.\n",
            "\n",
            "=======================================\n",
            "REAL TEXT: Spinach has terrorized generations of veggie-phobic kids, and many grownups don't much like it, either.\n",
            "\n",
            "GENERATED TEXT (Argmax): Spinach has terrorized generations of veggie-phobic kids, and many grownups don't much like it, either.\"I think it's a little bit of a shock to see that he's been able to do this,\" said one of the kids!\n",
            "GENERATED TEXT (Temperature): Spinach has terrorized generations of veggie-phobic kids, and many grownups don't much like it, either.And yet some say the \"v\" is not only the word for \"bad,\" but also \"unhealthy,\" and that's what!\n",
            "GENERATED TEXT (Top K): Spinach has terrorized generations of veggie-phobic kids, and many grownups don't much like it, either. (Just like there must always soon (we'd expect the two most frequent threats and accusations directed solely that, one side knows they own it by!\n",
            "GENERATED TEXT (Beam Search): Spinach has terrorized generations of veggie-phobic kids, and many grownups don't much like it, either.\"What do kids say when I tell them that we have a huge veggie plant?\" asked Steve, a third grader at the!\n",
            "GENERATED TEXT (Nucleus): Spinach has terrorized generations of veggie-phobic kids, and many grownups don't much like it, either. Nowadays, they're a staple at many kid's parties.But here's the thing: It seems like kids' favorite food is!\n",
            "=======================================\n",
            "REAL TEXT: All day, every day, Cheryl Bernstein thanks her 16-month-old son.\n",
            "\n",
            "GENERATED TEXT (Argmax): All day, every day, Cheryl Bernstein thanks her 16-month-old son.\"I'm so grateful for the support of my family,\" she said. \"I'm so grateful for the support of my family.!\n",
            "GENERATED TEXT (Temperature): All day, every day, Cheryl Bernstein thanks her 16-month-old son. He's not a very good kid, Cheryl says. He's very smart and I think that's why he's so loved. \"I love!\n",
            "GENERATED TEXT (Top K): All day, every day, Cheryl Bernstein thanks her 16-month-old son. That will take her all four mornings back-slicking while staying in charge2:40 (2nd) (David LeCoultrers!\n",
            "GENERATED TEXT (Beam Search): All day, every day, Cheryl Bernstein thanks her 16-month-old son. She says he hasn't been able to sleep a wink because she knows that sometimes she has trouble being her best self.Bernstein will!\n",
            "GENERATED TEXT (Nucleus): All day, every day, Cheryl Bernstein thanks her 16-month-old son. She is the daughter of John and Ruth Bernstein, the late co-founder of Redbox Systems. It was that time, when the two women!\n",
            "=======================================\n",
            "REAL TEXT: With Police Commissioner Bernard Kerik cracking the whip, the NYPD is suddenly responding to crime faster than it has in several years.\n",
            "\n",
            "GENERATED TEXT (Argmax): With Police Commissioner Bernard Kerik cracking the whip, the NYPD is suddenly responding to crime faster than it has in several years.The NYPD is now responding to a spike in violent crime in New York City, with the number of homicides in the city rising by more!\n",
            "GENERATED TEXT (Temperature): With Police Commissioner Bernard Kerik cracking the whip, the NYPD is suddenly responding to crime faster than it has in several years. It was already one of the highest-profile domestic violence cases of 2016, according to the Baltimore Sun. The case came to light after Kerik!\n",
            "GENERATED TEXT (Top K): With Police Commissioner Bernard Kerik cracking the whip, the NYPD is suddenly responding to crime faster than it has in several years. But cops, including NYPD officer Daniel Strautman was shot at after police confronted one young homeless woman by firing, and in an unrelated attack when!\n",
            "GENERATED TEXT (Beam Search): With Police Commissioner Bernard Kerik cracking the whip, the NYPD is suddenly responding to crime faster than it has in several years. The agency has spent $2 billion of its annual budget to help neighborhoods with street gang violence. More than 10,800 homicides have been committed in!\n",
            "GENERATED TEXT (Nucleus): With Police Commissioner Bernard Kerik cracking the whip, the NYPD is suddenly responding to crime faster than it has in several years. It has recently started releasing crime data for years in advance of any major crimes.Even though it has not been able to record the data!\n",
            "=======================================\n",
            "REAL TEXT: Wednesday, April 19th 1995, 2:35AM Jail inmates flout the city's newest law every day, with no fear of punishment.\n",
            "\n",
            "GENERATED TEXT (Argmax): Wednesday, April 19th 1995, 2:35AM Jail inmates flout the city's newest law every day, with no fear of punishment.The city's new law, which was passed by the city council on April 19th, requires that all inmates who are convicted of a!\n",
            "GENERATED TEXT (Temperature): Wednesday, April 19th 1995, 2:35AM Jail inmates flout the city's newest law every day, with no fear of punishment. After a week of mandatory solitary confinement, a judge sentenced 22 inmates to 35 months in state jail. A federal jury acquitted them of violating federal court!\n",
            "GENERATED TEXT (Top K): Wednesday, April 19th 1995, 2:35AM Jail inmates flout the city's newest law every day, with no fear of punishment. Some work while inmates stay until 11 when in return everyone knows there'd also had its trouble - \"but we never go broke...\" Some were caught!\n",
            "GENERATED TEXT (Beam Search): Wednesday, April 19th 1995, 2:35AM Jail inmates flout the city's newest law every day, with no fear of punishment. Their lives, and their safety, are ruined if they are put down, just like the rest of the general population. And now the city's!\n",
            "GENERATED TEXT (Nucleus): Wednesday, April 19th 1995, 2:35AM Jail inmates flout the city's newest law every day, with no fear of punishment. When you are incarcerated you have no other option than to seek help. Jail guards tell you how to talk to a man to find your voice,!\n",
            "=======================================\n",
            "REAL TEXT: BY GEORGE RUSH AND JOANNA MOLLOY With Kasia Anderson and Suzanne Rozdeba Thursday, August 8th 2002, 7:06AM Did Tatum O'Neal's latest battle with ex-husband John McEnroe put her back on drugs?\n",
            "\n",
            "GENERATED TEXT (Argmax): BY GEORGE RUSH AND JOANNA MOLLOY With Kasia Anderson and Suzanne Rozdeba Thursday, August 8th 2002, 7:06AM Did Tatum O'Neal's latest battle with ex-husband John McEnroe put her back on drugs?Tatum O'Neal's latest battle with ex-husband John McEnroe put her back on drugs?Tatum O!\n",
            "GENERATED TEXT (Temperature): BY GEORGE RUSH AND JOANNA MOLLOY With Kasia Anderson and Suzanne Rozdeba Thursday, August 8th 2002, 7:06AM Did Tatum O'Neal's latest battle with ex-husband John McEnroe put her back on drugs? She may have had something to do with it, but it wasn't the first time.Tatum O'Neal (R-USA!\n",
            "GENERATED TEXT (Top K): BY GEORGE RUSH AND JOANNA MOLLOY With Kasia Anderson and Suzanne Rozdeba Thursday, August 8th 2002, 7:06AM Did Tatum O'Neal's latest battle with ex-husband John McEnroe put her back on drugs? She took it well!\n",
            "GENERATED TEXT (Beam Search): BY GEORGE RUSH AND JOANNA MOLLOY With Kasia Anderson and Suzanne Rozdeba Thursday, August 8th 2002, 7:06AM Did Tatum O'Neal's latest battle with ex-husband John McEnroe put her back on drugs? Then again, maybe. After years of getting a \"Poozy\" haircut, she's even been wearing a T-shirt with the same!\n",
            "GENERATED TEXT (Nucleus): BY GEORGE RUSH AND JOANNA MOLLOY With Kasia Anderson and Suzanne Rozdeba Thursday, August 8th 2002, 7:06AM Did Tatum O'Neal's latest battle with ex-husband John McEnroe put her back on drugs?This was the most embarrassing fight ever seen between Anderson and O'Neal. During an appearance on NBC's \"Celebrity Apprentice,\"!\n",
            "=======================================\n",
            "REAL TEXT: Wednesday, May 18th 2005, 9:59AM Summer is shaping up as extra sweet at Cafe Centro, where the menu Â­features treats like s'mores, chocolate fondue and a unique cocktail called the Cotton Candy Cosmo.\n",
            "\n",
            "GENERATED TEXT (Argmax): Wednesday, May 18th 2005, 9:59AM Summer is shaping up as extra sweet at Cafe Centro, where the menu Â­features treats like s'mores, chocolate fondue and a unique cocktail called the Cotton Candy Cosmo. The menu features a variety of desserts, including a variety of desserts that include a variety of desserts that include a variety of desserts that include a variety!\n",
            "GENERATED TEXT (Temperature): Wednesday, May 18th 2005, 9:59AM Summer is shaping up as extra sweet at Cafe Centro, where the menu Â­features treats like s'mores, chocolate fondue and a unique cocktail called the Cotton Candy Cosmo. Â­­This is one of those times when a good day's worth of food will have you feeling like a normal person.!\n",
            "GENERATED TEXT (Top K): Wednesday, May 18th 2005, 9:59AM Summer is shaping up as extra sweet at Cafe Centro, where the menu Â­features treats like s'mores, chocolate fondue and a unique cocktail called the Cotton Candy Cosmo. ________________.An 1848 English Court (The Royal Canadian Criminal Appals Appear Procedure is) OrderI was sworn into King (!\n",
            "GENERATED TEXT (Beam Search): Wednesday, May 18th 2005, 9:59AM Summer is shaping up as extra sweet at Cafe Centro, where the menu Â­features treats like s'mores, chocolate fondue and a unique cocktail called the Cotton Candy Cosmo.May 17th, 2009, 10:21AMAt The Central and Cafe Café, we take a look back on the past!\n",
            "GENERATED TEXT (Nucleus): Wednesday, May 18th 2005, 9:59AM Summer is shaping up as extra sweet at Cafe Centro, where the menu Â­features treats like s'mores, chocolate fondue and a unique cocktail called the Cotton Candy Cosmo. The cocktail brings with it a different taste than anything I've tried in the past. I am sure it will appeal to you all for a drink!\n",
            "=======================================\n"
          ],
          "name": "stdout"
        }
      ]
    },
    {
      "cell_type": "markdown",
      "metadata": {
        "id": "q6W1F-3jSSRR",
        "colab_type": "text"
      },
      "source": [
        "# Moie"
      ]
    },
    {
      "cell_type": "code",
      "metadata": {
        "id": "4qGh-M_iST1b",
        "colab_type": "code",
        "colab": {}
      },
      "source": [
        "to_generate = ['And if you go I wanna go with you and if you die I wanna die with you take your hand and go away',\n",
        "               \"I'm going back to 505 \",\n",
        "               \"Coronavirus is going to kill us all?\",\n",
        "               \"Yesterday one girl got her diploma and got so drunk\",\n",
        "               \"Real Madrid is\"]"
      ],
      "execution_count": 0,
      "outputs": []
    },
    {
      "cell_type": "code",
      "metadata": {
        "id": "FlUkfOK1Trfj",
        "colab_type": "code",
        "outputId": "531475e4-7644-4066-afef-e4ddad5afd61",
        "colab": {
          "base_uri": "https://localhost:8080/",
          "height": 709
        }
      },
      "source": [
        "my_argmax_fake = generate_fake(to_generate, ('argmax', 23), fake=[], tokenizer=tokenizer, model=model)\n",
        "my_beam_search_fake = generate_fake(to_generate, ('beam_search', 3), fake=[], tokenizer=tokenizer, model=model)\n",
        "my_temperature_fake = generate_fake(to_generate, ('temperature', 0.8), fake=[], tokenizer=tokenizer, model=model)\n",
        "my_top_k_fake = generate_fake(to_generate, ('top_k', 30), fake=[], tokenizer=tokenizer, model=model)\n",
        "my_nucleus_fake = generate_fake(to_generate, ('nucleus', 0.9), fake=[], tokenizer=tokenizer, model=model)\n",
        "\n",
        "my_argmax_tuple =  ('Argmax', my_argmax_fake)\n",
        "my_beam_search_tuple = ('Beam Search', my_beam_search_fake)\n",
        "my_temperature_tuple = ('Temperature', my_temperature_fake)\n",
        "my_top_k_tuple = ('Top K', my_top_k_fake)\n",
        "my_nucleus_tuple = ('Nucleus', my_nucleus_fake)\n",
        "\n",
        "\n",
        "compare(to_generate, my_argmax_tuple, my_beam_search_tuple, my_temperature_tuple, my_top_k_tuple, my_nucleus_tuple)"
      ],
      "execution_count": 0,
      "outputs": [
        {
          "output_type": "stream",
          "text": [
            "5it [00:09,  1.93s/it]\n",
            "5it [00:18,  3.79s/it]\n",
            "5it [00:09,  1.98s/it]\n",
            "5it [00:09,  1.96s/it]\n",
            "5it [00:10,  2.06s/it]"
          ],
          "name": "stderr"
        },
        {
          "output_type": "stream",
          "text": [
            "REAL TEXT: And if you go I wanna go with you and if you die I wanna die with you take your hand and go away\n",
            "GENERATED TEXT (Argmax): And if you go I wanna go with you and if you die I wanna die with you take your hand and go away.I'm not going to let you go.I'm not going to let you go.I'm not going!\n",
            "GENERATED TEXT (Beam Search): And if you go I wanna go with you and if you die I wanna die with you take your hand and go away as fast as I can\" (Nathaniel 4:12). This quote could very well be a reference to what Nietzsche is saying in the!\n",
            "GENERATED TEXT (Temperature): And if you go I wanna go with you and if you die I wanna die with you take your hand and go away\"\"I'm going with you for the sake of those who love me\"\"I'm going to keep you in my!\n",
            "GENERATED TEXT (Top K): And if you go I wanna go with you and if you die I wanna die with you take your hand and go away, man - then leave now...\" \"...We do so willingly?\" \"- you, me I take. He said...so you leave it up at!\n",
            "GENERATED TEXT (Nucleus): And if you go I wanna go with you and if you die I wanna die with you take your hand and go away.\"I was at my own risk, and I decided to go with him.\"That's fine. I don't need!\n",
            "=======================================\n",
            "REAL TEXT: I'm going back to 505 \n",
            "GENERATED TEXT (Argmax): I'm going back to 505. I'm going to go back to the original. I'm going to go back to the original. I'm going to go back to the!\n",
            "GENERATED TEXT (Beam Search): I'm going back to 505 as much as I can and re-brand the game… with a bigger and better community. In that community I look to bring games to the!\n",
            "GENERATED TEXT (Temperature): I'm going back to 505,\" he said. \"That's the best place I can be now. It's so good, man.\"The best place to be!\n",
            "GENERATED TEXT (Top K): I'm going back to 505/45's and not in their line room and the back porch's gonna pop and this man coming my own for dinner at, well then they!\n",
            "GENERATED TEXT (Nucleus): I'm going back to 505 as an option. It feels really good. We had to see if it was the right option for us,\" he said. \"We're really!\n",
            "=======================================\n",
            "REAL TEXT: Coronavirus is going to kill us all?\n",
            "GENERATED TEXT (Argmax): Coronavirus is going to kill us all?The answer is no.The virus is going to kill us all.The virus is going to kill us all.!\n",
            "GENERATED TEXT (Beam Search): Coronavirus is going to kill us all?M. DICKWell, he'll probably be okay for a whileBut you would've been very interested if you!\n",
            "GENERATED TEXT (Temperature): Coronavirus is going to kill us all?Yeah, the virus does. We can't put it out. But it is going to kill us if we don't keep the virus!\n",
            "GENERATED TEXT (Top K): Coronavirus is going to kill us all? Maybe.\" We should really see another virus come from China – even it gets killed all from people living on our way northBut let someone ask!\n",
            "GENERATED TEXT (Nucleus): Coronavirus is going to kill us all? No, not really. I think I'm just as guilty as we all are. So, now that I've started using antibiotics and doing my!\n",
            "=======================================\n",
            "REAL TEXT: Yesterday one girl got her diploma and got so drunk\n",
            "GENERATED TEXT (Argmax): Yesterday one girl got her diploma and got so drunk that she was going to die. She was so drunk that she was going to die. She was so drunk that she was going to die.!\n",
            "GENERATED TEXT (Beam Search): Yesterday one girl got her diploma and got so drunk that she went out for a date; she had an erection to her belly and came in a very big way. I couldn't let her get!\n",
            "GENERATED TEXT (Temperature): Yesterday one girl got her diploma and got so drunk that she started getting a seizure. She was on a bus that went to the university, and she got a seizure with her mom and her dad!\n",
            "GENERATED TEXT (Top K): Yesterday one girl got her diploma and got so drunk doing something silly I started taking in nude guys and she said a huge bunch got there first it all turned good at my new favorite college town\".!\n",
            "GENERATED TEXT (Nucleus): Yesterday one girl got her diploma and got so drunk that she went to a party and hit people on the head with a hammer,\" she says. \"She just had a bad concussion and it was!\n",
            "=======================================\n",
            "REAL TEXT: Real Madrid is\n",
            "GENERATED TEXT (Argmax): Real Madrid is a team that has been in the Champions League for a long time.The club has won the league twice in the last two seasons and!\n",
            "GENERATED TEXT (Beam Search): Real Madrid is far from a player who will change the game on March 8. And in the end, Madrid may not need the best of him.!\n",
            "GENERATED TEXT (Temperature): Real Madrid is a very successful club at this time of year, they have made a lot of signings and we are very happy for those. It is a big!\n",
            "GENERATED TEXT (Top K): Real Madrid is only four seconds beyond first of Liga with Manchester Town from 11 - 26.1%; Real Barcelona's record 17 - 30 goal scoring displays since 2002!\n",
            "GENERATED TEXT (Nucleus): Real Madrid is not a world champions and the league is not a World Cup,\" he added. \"It is a team that can be a World Cup winner.!\n",
            "=======================================\n"
          ],
          "name": "stdout"
        },
        {
          "output_type": "stream",
          "text": [
            "\n"
          ],
          "name": "stderr"
        }
      ]
    }
  ]
}